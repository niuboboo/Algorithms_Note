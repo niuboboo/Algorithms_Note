{
 "cells": [
  {
   "cell_type": "code",
   "execution_count": null,
   "id": "55ab8743",
   "metadata": {},
   "outputs": [],
   "source": []
  },
  {
   "cell_type": "markdown",
   "id": "90c957de",
   "metadata": {},
   "source": [
    "## 实验数据介绍"
   ]
  },
  {
   "cell_type": "code",
   "execution_count": 1,
   "id": "259c12c7",
   "metadata": {},
   "outputs": [],
   "source": [
    "import numpy as np"
   ]
  },
  {
   "cell_type": "code",
   "execution_count": 2,
   "id": "cebd847c",
   "metadata": {},
   "outputs": [],
   "source": [
    "data = np.loadtxt(fname='线性数据.csv', delimiter='\\t')"
   ]
  },
  {
   "cell_type": "code",
   "execution_count": 3,
   "id": "36eef83c",
   "metadata": {},
   "outputs": [
    {
     "data": {
      "text/plain": [
       "(1503, 6)"
      ]
     },
     "execution_count": 3,
     "metadata": {},
     "output_type": "execute_result"
    }
   ],
   "source": [
    "data.shape"
   ]
  },
  {
   "cell_type": "markdown",
   "id": "daa95cf9",
   "metadata": {},
   "source": [
    "可以看到所有的数据共有1503个，每个数据的前5个是特征，最后一个是标签。之后可以将数据标准化："
   ]
  },
  {
   "cell_type": "code",
   "execution_count": 4,
   "id": "1fe425a5",
   "metadata": {},
   "outputs": [],
   "source": [
    "data -= data.mean(axis=0)\n",
    "data /= data.std(axis=0)"
   ]
  },
  {
   "cell_type": "code",
   "execution_count": 5,
   "id": "def9a94f",
   "metadata": {},
   "outputs": [],
   "source": [
    "x = data[:, :-1]\n",
    "y = data[:, -1]"
   ]
  },
  {
   "cell_type": "code",
   "execution_count": 6,
   "id": "5f39ec0a",
   "metadata": {},
   "outputs": [
    {
     "name": "stdout",
     "output_type": "stream",
     "text": [
      "(1503, 5)\n",
      "(1503,)\n"
     ]
    }
   ],
   "source": [
    "print(x.shape)\n",
    "print(y.shape)"
   ]
  },
  {
   "cell_type": "markdown",
   "id": "2b3e18bb",
   "metadata": {},
   "source": [
    "## 梯度下降"
   ]
  },
  {
   "cell_type": "code",
   "execution_count": 7,
   "id": "6fad4898",
   "metadata": {},
   "outputs": [],
   "source": [
    "N, M = x.shape\n",
    "w = np.ones(M)\n",
    "b = 0"
   ]
  },
  {
   "cell_type": "code",
   "execution_count": 8,
   "id": "8fc17324",
   "metadata": {},
   "outputs": [],
   "source": [
    "def predict(x):\n",
    "    return w.dot(x) + b"
   ]
  },
  {
   "cell_type": "code",
   "execution_count": 9,
   "id": "0f0e36ba",
   "metadata": {},
   "outputs": [
    {
     "data": {
      "text/plain": [
       "0.6590042695516537"
      ]
     },
     "execution_count": 9,
     "metadata": {},
     "output_type": "execute_result"
    }
   ],
   "source": [
    "predict(x[0])"
   ]
  },
  {
   "cell_type": "code",
   "execution_count": 10,
   "id": "6f967e65",
   "metadata": {},
   "outputs": [],
   "source": [
    "def get_loss():\n",
    "    loss = 0\n",
    "    for i in range(N):\n",
    "        pred = predict(x[i])\n",
    "        loss += (pred - y[i])**2\n",
    "    return loss / N"
   ]
  },
  {
   "cell_type": "code",
   "execution_count": 11,
   "id": "f7bcfa68",
   "metadata": {},
   "outputs": [
    {
     "data": {
      "text/plain": [
       "7.367867692433939"
      ]
     },
     "execution_count": 11,
     "metadata": {},
     "output_type": "execute_result"
    }
   ],
   "source": [
    "get_loss()"
   ]
  },
  {
   "cell_type": "markdown",
   "id": "8bacc5d5",
   "metadata": {},
   "source": [
    "采用暴力求解梯度的方法，loss的增量等于变量的增量除以导数。所有变量的导数求出来之后组合在一起就是梯度："
   ]
  },
  {
   "cell_type": "code",
   "execution_count": 12,
   "id": "647aa0b5",
   "metadata": {},
   "outputs": [
    {
     "data": {
      "text/plain": [
       "(array([2.03668543, 2.38225639, 1.02215384, 2.13526642, 3.22327899]),\n",
       " 0.0010000000028043132)"
      ]
     },
     "execution_count": 12,
     "metadata": {},
     "output_type": "execute_result"
    }
   ],
   "source": [
    "def get_gradient():\n",
    "    global w\n",
    "    global b\n",
    "    \n",
    "    eps = 1e-3\n",
    "    loss_before = get_loss()\n",
    "    \n",
    "    gradient_w = np.empty(M)\n",
    "    for i in range(M):\n",
    "        w[i] += eps\n",
    "        loss_after = get_loss()\n",
    "        w[i] -= eps\n",
    "        gradient_w[i] = (loss_after - loss_before) / eps\n",
    "    \n",
    "    b += eps\n",
    "    loss_after = get_loss()\n",
    "    b -= eps\n",
    "    gradient_b = (loss_after - loss_before) / eps\n",
    "    return gradient_w, gradient_b\n",
    "get_gradient()"
   ]
  },
  {
   "cell_type": "code",
   "execution_count": 13,
   "id": "ae491edb",
   "metadata": {},
   "outputs": [
    {
     "name": "stdout",
     "output_type": "stream",
     "text": [
      "0 7.112757670092118\n",
      "50 1.7854577366417097\n",
      "100 0.8188794143218295\n",
      "150 0.5927178198131919\n",
      "200 0.5305917673804574\n",
      "250 0.5095310094727199\n",
      "300 0.5002280440367773\n",
      "350 0.49505059549135016\n",
      "400 0.49174823787397737\n",
      "450 0.4895084809222189\n"
     ]
    }
   ],
   "source": [
    "plt_x = []\n",
    "plt_y = []\n",
    "for i in range(500):\n",
    "    gradient_w, gradient_b = get_gradient()\n",
    "    w -= gradient_w * 1e-2\n",
    "    b -= gradient_b * 1e-2\n",
    "    \n",
    "    plt_x.append(i)\n",
    "    plt_y.append(get_loss())\n",
    "    \n",
    "    if i % 50 == 0:\n",
    "        print(i, get_loss())"
   ]
  },
  {
   "cell_type": "code",
   "execution_count": 14,
   "id": "76205ee9",
   "metadata": {},
   "outputs": [
    {
     "data": {
      "image/png": "[encoded data removed]",
      "text/plain": [
       "<Figure size 432x288 with 1 Axes>"
      ]
     },
     "metadata": {
      "needs_background": "light"
     },
     "output_type": "display_data"
    }
   ],
   "source": [
    "from matplotlib import pyplot as plt\n",
    "\n",
    "plt.plot(plt_x, plt_y)\n",
    "plt.show()"
   ]
  },
  {
   "cell_type": "markdown",
   "id": "03508056",
   "metadata": {},
   "source": [
    "## 随机梯度下降\n",
    "\n",
    "随机梯度下降算法每次只计算一个数据的loss，或者是一个小批次的数据的梯度。"
   ]
  },
  {
   "cell_type": "code",
   "execution_count": 15,
   "id": "d81cc3f1",
   "metadata": {},
   "outputs": [],
   "source": [
    "w = np.ones(M)\n",
    "b = 0"
   ]
  },
  {
   "cell_type": "code",
   "execution_count": 16,
   "id": "89b39d34",
   "metadata": {},
   "outputs": [],
   "source": [
    "def get_loss(x, y):\n",
    "    pred = predict(x)\n",
    "    loss = (pred - y)**2\n",
    "    return loss"
   ]
  },
  {
   "cell_type": "code",
   "execution_count": 17,
   "id": "99875529",
   "metadata": {},
   "outputs": [
    {
     "data": {
      "text/plain": [
       "0.21258140154187224"
      ]
     },
     "execution_count": 17,
     "metadata": {},
     "output_type": "execute_result"
    }
   ],
   "source": [
    "get_loss(x[0], y[0])"
   ]
  },
  {
   "cell_type": "code",
   "execution_count": 18,
   "id": "179883d4",
   "metadata": {},
   "outputs": [
    {
     "data": {
      "text/plain": [
       "(array([-0.61003339, -1.05581946,  1.66242713,  1.21242212, -0.59417855]),\n",
       " 0.923131013559203)"
      ]
     },
     "execution_count": 18,
     "metadata": {},
     "output_type": "execute_result"
    }
   ],
   "source": [
    "def get_gradient(x, y):\n",
    "    global w\n",
    "    global b\n",
    "    \n",
    "    eps = 1e-3\n",
    "    loss_before = get_loss(x, y)\n",
    "    \n",
    "    gradient_w = np.empty(M)\n",
    "    for i in range(M):\n",
    "        w[i] += eps\n",
    "        loss_after = get_loss(x, y)\n",
    "        w[i] -= eps\n",
    "        gradient_w[i] = (loss_after - loss_before) / eps\n",
    "    \n",
    "    b += eps\n",
    "    loss_after = get_loss(x, y)\n",
    "    b -= eps\n",
    "    gradient_b = (loss_after - loss_before) / eps\n",
    "    return gradient_w, gradient_b\n",
    "get_gradient(x[0], y[0])"
   ]
  },
  {
   "cell_type": "code",
   "execution_count": 19,
   "id": "91784122",
   "metadata": {},
   "outputs": [
    {
     "data": {
      "text/plain": [
       "11073.905141728208"
      ]
     },
     "execution_count": 19,
     "metadata": {},
     "output_type": "execute_result"
    }
   ],
   "source": [
    "def total_loss():\n",
    "    loss = 0\n",
    "    for i in range(N):\n",
    "        loss += get_loss(x[i], y[i])\n",
    "    return loss\n",
    "total_loss()"
   ]
  },
  {
   "cell_type": "code",
   "execution_count": 20,
   "id": "7ff96e86",
   "metadata": {},
   "outputs": [
    {
     "name": "stdout",
     "output_type": "stream",
     "text": [
      "0 11018.98325984619\n",
      "150 6767.546480410895\n",
      "300 4406.375854544463\n",
      "450 3183.970591552821\n",
      "600 2514.5614649099575\n",
      "750 2051.980707121668\n",
      "900 1571.5531213187382\n",
      "1050 1284.9495965714186\n",
      "1200 1092.939646426755\n",
      "1350 959.9788272725818\n",
      "1500 891.810188777222\n",
      "1650 853.5445004673935\n",
      "1800 818.8243269595512\n",
      "1950 801.1281990446071\n",
      "2100 787.3862067839652\n",
      "2250 773.4396395023326\n",
      "2400 767.128098492772\n"
     ]
    }
   ],
   "source": [
    "plt_x = []\n",
    "plt_y = []\n",
    "for epoch in range(2500):\n",
    "    i = np.random.randint(N)\n",
    "    gradient_w, gradient_b = get_gradient(x[i], y[i])\n",
    "    w -= gradient_w * 1e-3\n",
    "    b -= gradient_b * 1e-3\n",
    "    \n",
    "    plt_x.append(epoch)\n",
    "    plt_y.append(total_loss())\n",
    "    \n",
    "    if epoch % 150 == 0:\n",
    "        print(epoch, total_loss())"
   ]
  },
  {
   "cell_type": "code",
   "execution_count": 21,
   "id": "0f97ece7",
   "metadata": {},
   "outputs": [
    {
     "data": {
      "image/png": "[encoded data removed]",
      "text/plain": [
       "<Figure size 432x288 with 1 Axes>"
      ]
     },
     "metadata": {
      "needs_background": "light"
     },
     "output_type": "display_data"
    }
   ],
   "source": [
    "from matplotlib import pyplot as plt\n",
    "\n",
    "plt.plot(plt_x, plt_y)\n",
    "plt.show()"
   ]
  },
  {
   "cell_type": "markdown",
   "id": "be7fe519",
   "metadata": {},
   "source": [
    "## 动量法"
   ]
  },
  {
   "cell_type": "code",
   "execution_count": 22,
   "id": "7f24cbab",
   "metadata": {},
   "outputs": [],
   "source": [
    "N, M = x.shape\n",
    "w = np.ones(M)\n",
    "b = 0"
   ]
  },
  {
   "cell_type": "code",
   "execution_count": 23,
   "id": "3a95ed5c",
   "metadata": {},
   "outputs": [],
   "source": [
    "momentum_w = np.zeros(M)\n",
    "momentum_b = 0"
   ]
  },
  {
   "cell_type": "code",
   "execution_count": 24,
   "id": "39e469e6",
   "metadata": {},
   "outputs": [
    {
     "name": "stdout",
     "output_type": "stream",
     "text": [
      "0 [ 4.54520194 10.03593681 -1.48380453 10.774955    6.02361725] -8.752137553653228 10963.296994765335\n",
      "150 [ 1.14116589 -0.41536014  2.1908524   0.20781911 -0.3570799 ] -0.5304604494038009 2652.0445203772106\n",
      "300 [ 3.52603604 -1.87489373  4.77022339 -3.5501991  -3.39223547] 4.762476831516062 1052.3559088899708\n",
      "450 [-3.88555969  1.57312955 -1.625069   -3.93894697 -0.04121105] -1.4185615467433992 799.3843811531681\n",
      "600 [ 2.9799775  -2.12935128  1.86096838  0.99786768 -2.98758863] 3.0932609520422707 784.097140022127\n",
      "750 [ 0.29304358 -0.04327593  0.98427183 -0.52108974 -0.23543264] 1.3164141383731096 769.8781180932318\n",
      "900 [-0.6955837   1.44840087  1.32004239  0.58719887  0.11130226] 2.134201340576401 767.3931842454718\n",
      "1050 [-1.56933646  1.36621389 -1.90732647 -2.48302866 -1.19461704] 3.0280016623035984 750.8042717476307\n",
      "1200 [ 2.59563335 -0.39056897 -1.43630797 -0.88525575  0.51346167] -2.8163748795215042 754.9853068597146\n",
      "1350 [ 0.36483402  1.93868014  0.04223096 -1.01420744  3.80768199] 3.1659904659950797 766.1378463260077\n"
     ]
    }
   ],
   "source": [
    "plt_x = []\n",
    "plt_y = []\n",
    "for epoch in range(1500):\n",
    "    i = np.random.randint(N)\n",
    "    gradient_w, gradient_b = get_gradient(x[i], y[i])\n",
    "    \n",
    "    # 更新动量的数学公式\n",
    "    momentum_w = 0.8 * momentum_w + gradient_w\n",
    "    momentum_b = 0.8 * momentum_b + gradient_b\n",
    "    \n",
    "    w -= momentum_w * 1e-3\n",
    "    b -= momentum_b * 1e-3\n",
    "    \n",
    "    plt_x.append(epoch)\n",
    "    plt_y.append(total_loss())\n",
    "    \n",
    "    if epoch % 150 == 0:\n",
    "        print(epoch, momentum_w, momentum_b, total_loss())"
   ]
  },
  {
   "cell_type": "code",
   "execution_count": 25,
   "id": "3a671e64",
   "metadata": {},
   "outputs": [
    {
     "data": {
      "image/png": "[encoded data removed]",
      "text/plain": [
       "<Figure size 432x288 with 1 Axes>"
      ]
     },
     "metadata": {
      "needs_background": "light"
     },
     "output_type": "display_data"
    }
   ],
   "source": [
    "import matplotlib.pyplot as plt\n",
    "\n",
    "plt.plot(plt_x, plt_y)\n",
    "plt.show()"
   ]
  },
  {
   "cell_type": "markdown",
   "id": "5f65805e",
   "metadata": {},
   "source": [
    "## Ada Grad"
   ]
  },
  {
   "cell_type": "markdown",
   "id": "87da8ab7",
   "metadata": {},
   "source": [
    "初始化变量S"
   ]
  },
  {
   "cell_type": "code",
   "execution_count": 26,
   "id": "7c345306",
   "metadata": {},
   "outputs": [],
   "source": [
    "N, M = x.shape\n",
    "\n",
    "w = np.ones(M)\n",
    "b = 0\n",
    "\n",
    "S_w = np.zeros(M)\n",
    "S_b = 0"
   ]
  },
  {
   "cell_type": "code",
   "execution_count": 27,
   "id": "9575afc0",
   "metadata": {},
   "outputs": [
    {
     "data": {
      "text/plain": [
       "0.6590042695516537"
      ]
     },
     "execution_count": 27,
     "metadata": {},
     "output_type": "execute_result"
    }
   ],
   "source": [
    "def predict(x):\n",
    "    return w.dot(x) + b\n",
    "predict(x[0])"
   ]
  },
  {
   "cell_type": "code",
   "execution_count": 28,
   "id": "dbf8a515",
   "metadata": {},
   "outputs": [
    {
     "data": {
      "text/plain": [
       "0.21258140154187224"
      ]
     },
     "execution_count": 28,
     "metadata": {},
     "output_type": "execute_result"
    }
   ],
   "source": [
    "def get_loss(x, y):\n",
    "    pred = predict(x)\n",
    "    loss = (pred - y)**2\n",
    "    return loss\n",
    "get_loss(x[0], y[0])"
   ]
  },
  {
   "cell_type": "code",
   "execution_count": 29,
   "id": "245fb40c",
   "metadata": {},
   "outputs": [
    {
     "data": {
      "text/plain": [
       "(array([-0.61003339, -1.05581946,  1.66242713,  1.21242212, -0.59417855]),\n",
       " 0.923131013559203)"
      ]
     },
     "execution_count": 29,
     "metadata": {},
     "output_type": "execute_result"
    }
   ],
   "source": [
    "def get_gradient(x, y):\n",
    "    global w\n",
    "    global b\n",
    "    \n",
    "    eps = 1e-3\n",
    "    loss_before = get_loss(x, y)\n",
    "    \n",
    "    gradient_w = np.empty(M)\n",
    "    for i in range(M):\n",
    "        w[i] += eps\n",
    "        loss_after = get_loss(x, y)\n",
    "        w[i] -= eps\n",
    "        gradient_w[i] = (loss_after - loss_before) / eps\n",
    "    \n",
    "    b += eps\n",
    "    loss_after = get_loss(x, y)\n",
    "    b -= eps\n",
    "    gradient_b = (loss_after - loss_before) / eps\n",
    "    return gradient_w, gradient_b\n",
    "get_gradient(x[0], y[0])"
   ]
  },
  {
   "cell_type": "code",
   "execution_count": 30,
   "id": "9599f222",
   "metadata": {},
   "outputs": [
    {
     "name": "stdout",
     "output_type": "stream",
     "text": [
      "0 [0.08535775 0.03123188 0.00880325 0.00850152 0.01347442] 0.01046619438714938 9533.035119180047\n",
      "150 [0.00128641 0.00183651 0.00229204 0.0018379  0.00143599] 0.002023489814792776 3621.4387634486\n",
      "300 [0.00112775 0.00154885 0.00179625 0.00157366 0.00123556] 0.0016754205386760234 2292.344345380526\n",
      "450 [0.00106201 0.00140195 0.00163073 0.00144537 0.00105122] 0.001514439926483615 1633.6143853064164\n",
      "600 [0.00099368 0.00132355 0.00151155 0.00136257 0.00097487] 0.0014127875047997688 1232.8010274181556\n",
      "750 [0.00097165 0.00128442 0.00144908 0.00130464 0.00095388] 0.0013545395751017977 1035.2372367748883\n",
      "900 [0.0009596  0.00123979 0.0013949  0.00126205 0.00094351] 0.0013095583208970812 931.0950838887256\n",
      "1050 [0.00094364 0.00120473 0.0013616  0.00122946 0.00092585] 0.0012752969589593923 872.4512097288691\n",
      "1200 [0.00093294 0.00115362 0.00132183 0.00119974 0.00091488] 0.0012410372760888312 834.0807198311782\n",
      "1350 [0.00091233 0.00110874 0.00128876 0.0011729  0.00089865] 0.001209935403570654 796.2063811314929\n",
      "1500 [0.00090218 0.0010928  0.00126414 0.00114755 0.0008895 ] 0.0011861831139275793 779.1271944795195\n",
      "1650 [0.00089181 0.00107239 0.00123546 0.00112444 0.00088291] 0.0011628521195122714 770.6325605583913\n",
      "1800 [0.00087762 0.0010564  0.00121188 0.00110768 0.00087188] 0.0011427111498767606 760.4446334633191\n",
      "1950 [0.00085921 0.00103348 0.0011854  0.00109074 0.00086394] 0.0011221970865394194 754.3779630525765\n",
      "2100 [0.00085173 0.00101953 0.00116133 0.00107663 0.00085537] 0.0011035207967858252 754.4048648429057\n",
      "2250 [0.00083091 0.00100335 0.00113588 0.00105521 0.0008459 ] 0.0010821249060335545 748.6887707107753\n",
      "2400 [0.00081226 0.00098441 0.00111149 0.00103785 0.00083837] 0.00106174756149725 749.0994375266854\n"
     ]
    }
   ],
   "source": [
    "plt_x = []\n",
    "plt_y = []\n",
    "for epoch in range(2500):\n",
    "    i = np.random.randint(N)\n",
    "    gradient_w, gradient_b = get_gradient(x[i], y[i])\n",
    "    \n",
    "    # ada grad的特点是每个变量都有属于自己的lr\n",
    "    # 要计算各个变量的lr，先要计算S\n",
    "    S_w = S_w + gradient_w ** 2\n",
    "    S_b = S_b + gradient_b ** 2\n",
    "    \n",
    "    # 计算lr的公式，其中的1e-1是原本的lr，1e-6是防止除0的。\n",
    "    lr_w = 1e-1 / ((S_w + 1e-6) ** 0.5)\n",
    "    lr_b = 1e-1 / ((S_b + 1e-6) ** 0.5)\n",
    "    \n",
    "    # 所以在时刻0，lr就等于梯度的倒数\n",
    "    # 梯度大的变量会有小lr，梯度小的变量会有大lr\n",
    "    # 往后的每一个时刻，都是类似动量法，考虑上一步的梯度\n",
    "    w -= gradient_w * lr_w\n",
    "    b -= gradient_b * lr_b\n",
    "    \n",
    "    plt_x.append(epoch)\n",
    "    plt_y.append(total_loss())\n",
    "    \n",
    "    if epoch % 150 == 0:\n",
    "        print(epoch, lr_w, lr_b, total_loss())"
   ]
  },
  {
   "cell_type": "code",
   "execution_count": 31,
   "id": "c16f17c7",
   "metadata": {},
   "outputs": [
    {
     "data": {
      "image/png": "[encoded data removed]",
      "text/plain": [
       "<Figure size 432x288 with 1 Axes>"
      ]
     },
     "metadata": {
      "needs_background": "light"
     },
     "output_type": "display_data"
    }
   ],
   "source": [
    "import matplotlib.pyplot as plt\n",
    "\n",
    "plt.plot(plt_x, plt_y)\n",
    "plt.show()"
   ]
  },
  {
   "cell_type": "markdown",
   "id": "971061ab",
   "metadata": {},
   "source": [
    "## Rms Prop\n",
    "\n",
    "Rms Prop是对Ada Grad的一个改进。"
   ]
  },
  {
   "cell_type": "code",
   "execution_count": 32,
   "id": "272a7c93",
   "metadata": {},
   "outputs": [],
   "source": [
    "N, M = x.shape\n",
    "\n",
    "w = np.ones(M)\n",
    "b = 0\n",
    "\n",
    "S_w = np.zeros(M)\n",
    "S_b = 0"
   ]
  },
  {
   "cell_type": "code",
   "execution_count": 33,
   "id": "098fdac5",
   "metadata": {},
   "outputs": [
    {
     "name": "stdout",
     "output_type": "stream",
     "text": [
      "0 [0.00017178 0.00062371 0.00039731 0.00054451 0.00110885] 0.0007149196155235839 11082.737294139739\n",
      "150 [0.01360927 0.01114579 0.02141123 0.00967133 0.00476725] 0.009017303411248675 5928.890320907771\n",
      "300 [0.00872506 0.00221998 0.00274654 0.00208793 0.00321779] 0.002550632006160225 2174.7556245167125\n",
      "450 [0.01146167 0.02142686 0.01630069 0.00753997 0.01961141] 0.009612324459099781 1131.7170132935607\n",
      "600 [0.00737339 0.02967196 0.0209435  0.01685449 0.01546623] 0.007769313302285272 792.0268165253113\n",
      "750 [0.04524322 0.01528491 0.01585519 0.00503112 0.03433982] 0.006604273656719981 802.1489053727144\n",
      "900 [0.02231947 0.02269927 0.03930508 0.02745227 0.02224506] 0.01655160756840423 848.964418917171\n",
      "1050 [0.02304829 0.00582661 0.01224247 0.01037837 0.01543074] 0.013618088147440883 1018.1854427034598\n",
      "1200 [0.00799737 0.01043663 0.00720858 0.00939776 0.00935335] 0.008212352537811583 941.8150109614421\n",
      "1350 [0.00434516 0.0136207  0.0130756  0.01235214 0.02398663] 0.014754390204086983 818.8344013714806\n",
      "1500 [0.00915219 0.01885992 0.00816671 0.00533928 0.01746143] 0.006874559870776658 778.2184389579448\n",
      "1650 [0.00190094 0.00499518 0.00486235 0.00462164 0.00687068] 0.005481114987433884 796.9621416175956\n",
      "1800 [0.04856014 0.01783938 0.07272452 0.02046937 0.01149323] 0.022902674366912658 868.1308876493057\n",
      "1950 [0.01015113 0.00258253 0.00566226 0.00511016 0.00839028] 0.0067024438118248675 908.6663620128642\n",
      "2100 [0.02821808 0.01988224 0.01271883 0.02595619 0.03076916] 0.017107049470067172 869.5072665271932\n",
      "2250 [0.02283362 0.00994866 0.0087475  0.00439755 0.00895708] 0.0054579371634572195 868.5866051407543\n",
      "2400 [0.0234788  0.03847591 0.01726756 0.02745614 0.03984453] 0.01890483345326877 827.6950094145678\n"
     ]
    }
   ],
   "source": [
    "plt_x = []\n",
    "plt_y = []\n",
    "for epoch in range(2500):\n",
    "    i = np.random.randint(N)\n",
    "    gradient_w, gradient_b = get_gradient(x[i], y[i])\n",
    "    \n",
    "    # 和adagrad唯一的区别，就是多了两个系数，也就是0.2和0.8。这两个系数相加要等于1\n",
    "    # rmsprop是对adagrad的一个改进，在adagrad中lr是单调递减的。\n",
    "    # 但是在rmsprop中lr是有可能上升的。\n",
    "    S_w = 0.2 * S_w + 0.8 * gradient_w ** 2\n",
    "    S_b = 0.2 * S_b + 0.8 * gradient_b ** 2\n",
    "    \n",
    "    # 计算lr的公式，其中的1e-1是原本的lr，1e-6是防止除0的。\n",
    "    lr_w = 1e-2 / ((S_w + 1e-6) ** 0.5)\n",
    "    lr_b = 1e-2 / ((S_b + 1e-6) ** 0.5)\n",
    "    \n",
    "    # 所以在时刻0，lr就等于梯度的倒数\n",
    "    # 梯度大的变量会有小lr，梯度小的变量会有大lr\n",
    "    # 往后的每一个时刻，都是类似动量法，考虑上一步的梯度\n",
    "    w -= gradient_w * lr_w\n",
    "    b -= gradient_b * lr_b\n",
    "    \n",
    "    plt_x.append(epoch)\n",
    "    plt_y.append(total_loss())\n",
    "    \n",
    "    if epoch % 150 == 0:\n",
    "        print(epoch, lr_w, lr_b, total_loss())"
   ]
  },
  {
   "cell_type": "code",
   "execution_count": 34,
   "id": "2e7f57a7",
   "metadata": {},
   "outputs": [
    {
     "data": {
      "image/png": "[encoded data removed]",
      "text/plain": [
       "<Figure size 432x288 with 1 Axes>"
      ]
     },
     "metadata": {
      "needs_background": "light"
     },
     "output_type": "display_data"
    }
   ],
   "source": [
    "import matplotlib.pyplot as plt\n",
    "\n",
    "plt.plot(plt_x, plt_y)\n",
    "plt.show()"
   ]
  },
  {
   "cell_type": "markdown",
   "id": "1fa7e401",
   "metadata": {},
   "source": [
    "## Ada Delta"
   ]
  },
  {
   "cell_type": "code",
   "execution_count": 46,
   "id": "55f980db",
   "metadata": {},
   "outputs": [],
   "source": [
    "N, M = x.shape\n",
    "\n",
    "w = np.ones(M)\n",
    "b = 0\n",
    "\n",
    "S_w = np.zeros(M)\n",
    "S_b = 0\n",
    "\n",
    "delta_w = np.zeros(M)\n",
    "delta_b = 0"
   ]
  },
  {
   "cell_type": "code",
   "execution_count": 47,
   "id": "34a5da6e",
   "metadata": {},
   "outputs": [
    {
     "name": "stdout",
     "output_type": "stream",
     "text": [
      "0 [9.99990017e-07 9.99991250e-07] 9.999964037487817e-07 11066.38480036612\n",
      "500 [2.86650360e-07 3.13924738e-07] 4.219924262043809e-07 7612.49021370505\n",
      "1000 [8.91834783e-07 6.81278012e-07] 4.840845710791951e-06 5139.4691864179995\n",
      "1500 [2.23944981e-07 1.84872537e-07] 3.220026385409182e-07 3515.68776513208\n",
      "2000 [7.68718436e-07 8.38462015e-07] 2.4098979945596378e-06 2296.646496378899\n",
      "2500 [1.49385925e-06 1.41999065e-06] 4.230454495900316e-06 1469.8220803416043\n",
      "3000 [6.85675195e-06 3.55586338e-06] 5.715220596999653e-06 1056.8608261794714\n",
      "3500 [1.33163522e-06 1.33740139e-06] 1.1613072905818659e-06 886.3280050957466\n",
      "4000 [4.13305185e-07 1.96855796e-06] 2.318567003332278e-06 814.7980220509943\n",
      "4500 [1.01054086e-07 1.70442892e-06] 1.344574777833456e-06 783.8895369046137\n",
      "5000 [3.70623561e-07 2.68439092e-07] 1.2947504037484625e-06 803.0305279516311\n"
     ]
    }
   ],
   "source": [
    "plt_x = []\n",
    "plt_y = []\n",
    "\n",
    "for epoch in range(5500):\n",
    "    i = np.random.randint(N)\n",
    "    gradient_w, gradient_b = get_gradient(x[i], y[i])\n",
    "    \n",
    "    # ada_delta算法不需要设定超参数lr\n",
    "    # 他需要维持两个变量，delta和S\n",
    "    \n",
    "    # S的计算和rmsprop完全一致\n",
    "    S_w = 0.2 * S_w + 0.8 * gradient_w ** 2\n",
    "    S_b = 0.2 * S_b + 0.8 * gradient_b ** 2\n",
    "    \n",
    "    # 计算lr的公式，这里1e-6是为了防止除0\n",
    "    lr = (delta_w + 1e-6) / (S_w + 1e-6)\n",
    "    gradient_w = lr ** 0.5 * gradient_w\n",
    "    \n",
    "    lr = (delta_b + 1e-6) / (S_b + 1e-6)\n",
    "    gradient_b = lr ** 0.5 * gradient_b\n",
    "    \n",
    "    # 更新参数\n",
    "    w -= gradient_w\n",
    "    b -= gradient_b\n",
    "    \n",
    "    # 更新delta，这里的两个系数和计算S时用的要一样\n",
    "    delta_w = 0.2 * delta_w + 0.8 * gradient_w ** 2\n",
    "    delta_b = 0.2 * delta_b + 0.8 * gradient_b ** 2\n",
    "    \n",
    "    plt_x.append(epoch)\n",
    "    plt_y.append(total_loss())\n",
    "    \n",
    "    if epoch % 500 == 0:\n",
    "        print(epoch, delta_w[:2], delta_b, total_loss())"
   ]
  },
  {
   "cell_type": "code",
   "execution_count": 48,
   "id": "8b2d3457",
   "metadata": {},
   "outputs": [
    {
     "data": {
      "image/png": "[encoded data removed]",
      "text/plain": [
       "<Figure size 432x288 with 1 Axes>"
      ]
     },
     "metadata": {
      "needs_background": "light"
     },
     "output_type": "display_data"
    }
   ],
   "source": [
    "import matplotlib.pyplot as plt\n",
    "\n",
    "plt.plot(plt_x, plt_y)\n",
    "plt.show()"
   ]
  },
  {
   "cell_type": "markdown",
   "id": "1a182ae8",
   "metadata": {},
   "source": [
    "## adam"
   ]
  },
  {
   "cell_type": "code",
   "execution_count": 49,
   "id": "bea65559",
   "metadata": {},
   "outputs": [],
   "source": [
    "N, M = x.shape\n",
    "\n",
    "w = np.ones(M)\n",
    "b = 0\n",
    "\n",
    "S_w = np.zeros(M)\n",
    "S_b = 0\n",
    "\n",
    "v_w = np.zeros(M)\n",
    "v_b = 0"
   ]
  },
  {
   "cell_type": "code",
   "execution_count": 50,
   "id": "f75308ae",
   "metadata": {},
   "outputs": [
    {
     "name": "stdout",
     "output_type": "stream",
     "text": [
      "500 [ 0.8210492  -0.16254505] [25.13464341  9.38156047] 1241.6203038292579\n",
      "1000 [-0.57929494  0.61689045] [11.11189641  5.09345097] 779.0172889933908\n",
      "1500 [-0.13210487 -0.11913725] [7.05757422 3.77789265] 742.9203727105327\n",
      "2000 [ 0.49743086 -0.23717637] [5.1885866  2.92635755] 731.5001530153712\n",
      "2500 [-0.03781607  0.45067973] [4.10266581 2.81857743] 775.3700025269804\n",
      "3000 [ 0.70743968 -0.12412685] [4.060947   3.17325196] 772.6234991344693\n",
      "3500 [-0.05986598  0.58811388] [3.82992625 2.92814979] 808.2218082586758\n",
      "4000 [ 0.44764671 -0.38209853] [3.84685773 2.65028635] 830.9018853240666\n",
      "4500 [-1.50869871  0.47240077] [3.64609699 2.37864144] 757.8684865807296\n",
      "5000 [-0.14032573 -0.29879778] [3.72019325 2.56406764] 750.26393781619\n"
     ]
    }
   ],
   "source": [
    "plt_x = []\n",
    "plt_y = []\n",
    "\n",
    "for t in range(1, 5500):\n",
    "    i = np.random.randint(N)\n",
    "    gradient_w, gradient_b = get_gradient(x[i], y[i])\n",
    "\n",
    "    v_w = 0.9 * v_w + 0.1 * gradient_w\n",
    "    v_b = 0.9 * v_b + 0.1 * gradient_b\n",
    "\n",
    "    #S的计算和rmsprop完全一致\n",
    "    S_w = 0.999 * S_w + 0.001 * gradient_w**2\n",
    "    S_b = 0.999 * S_b + 0.001 * gradient_b**2\n",
    "\n",
    "    #根据以上公式,在时刻0\n",
    "    #v = [0.1 * gradient_0]\n",
    "\n",
    "    #这可能太过于小,为了消除这个影响,需要做偏差修正,也就是除以系数\n",
    "    #v = 0.1 * sigma[0.9**(t-i) * gradient_i]\n",
    "    #S = 0.001 * sigma[0.999**(t-i) * gradient_i**2]\n",
    "    \n",
    "    #将梯度的系数部分整理得到\n",
    "    #0.1 * sigma[0.9**(t-i)] = 1-0.9**t\n",
    "\n",
    "    #偏差修正\n",
    "    v_hat_w = v_w / (1 - 0.9**t)\n",
    "    v_hat_b = v_b / (1 - 0.9**t)\n",
    "    S_hat_w = S_w / (1 - 0.999**t)\n",
    "    S_hat_b = S_b / (1 - 0.999**t)\n",
    "\n",
    "    #下面是adam参数更新的公式\n",
    "    #这里的1e-2是超参数lr\n",
    "    gradient_w = (1e-2 * v_hat_w) / (S_hat_w**0.5 + 1e-6)\n",
    "    gradient_b = (1e-2 * v_hat_b) / (S_hat_b**0.5 + 1e-6)\n",
    "\n",
    "    #更新参数\n",
    "    w -= gradient_w\n",
    "    b -= gradient_b\n",
    "\n",
    "    plt_x.append(t)\n",
    "    plt_y.append(total_loss())\n",
    "\n",
    "    if t % 500 == 0:\n",
    "        print(t, v_hat_w[:2], S_hat_w[:2], total_loss())"
   ]
  },
  {
   "cell_type": "code",
   "execution_count": 51,
   "id": "4a548862",
   "metadata": {},
   "outputs": [
    {
     "data": {
      "image/png": "[encoded data removed]",
      "text/plain": [
       "<Figure size 432x288 with 1 Axes>"
      ]
     },
     "metadata": {
      "needs_background": "light"
     },
     "output_type": "display_data"
    }
   ],
   "source": [
    "from matplotlib import pyplot as plt\n",
    "\n",
    "plt.plot(plt_x, plt_y)\n",
    "plt.show()"
   ]
  },
  {
   "cell_type": "code",
   "execution_count": null,
   "id": "ec6437d9",
   "metadata": {},
   "outputs": [],
   "source": []
  },
  {
   "cell_type": "code",
   "execution_count": null,
   "id": "36c280fc",
   "metadata": {},
   "outputs": [],
   "source": []
  },
  {
   "cell_type": "code",
   "execution_count": null,
   "id": "009f5dcd",
   "metadata": {},
   "outputs": [],
   "source": []
  },
  {
   "cell_type": "code",
   "execution_count": null,
   "id": "fb5b25ad",
   "metadata": {},
   "outputs": [],
   "source": []
  },
  {
   "cell_type": "code",
   "execution_count": null,
   "id": "8ccc8b67",
   "metadata": {},
   "outputs": [],
   "source": []
  },
  {
   "cell_type": "code",
   "execution_count": null,
   "id": "f1bd5d6d",
   "metadata": {},
   "outputs": [],
   "source": []
  },
  {
   "cell_type": "code",
   "execution_count": null,
   "id": "e2ce66ae",
   "metadata": {},
   "outputs": [],
   "source": []
  },
  {
   "cell_type": "code",
   "execution_count": null,
   "id": "82c42bcc",
   "metadata": {},
   "outputs": [],
   "source": []
  },
  {
   "cell_type": "code",
   "execution_count": null,
   "id": "3be1cb5d",
   "metadata": {},
   "outputs": [],
   "source": []
  },
  {
   "cell_type": "code",
   "execution_count": null,
   "id": "dbd6fb9d",
   "metadata": {},
   "outputs": [],
   "source": []
  },
  {
   "cell_type": "code",
   "execution_count": null,
   "id": "a1d5edd9",
   "metadata": {},
   "outputs": [],
   "source": []
  },
  {
   "cell_type": "code",
   "execution_count": null,
   "id": "cd6dde39",
   "metadata": {},
   "outputs": [],
   "source": []
  }
 ],
 "metadata": {
  "kernelspec": {
   "display_name": "Python 3 (ipykernel)",
   "language": "python",
   "name": "python3"
  },
  "language_info": {
   "codemirror_mode": {
    "name": "ipython",
    "version": 3
   },
   "file_extension": ".py",
   "mimetype": "text/x-python",
   "name": "python",
   "nbconvert_exporter": "python",
   "pygments_lexer": "ipython3",
   "version": "3.9.4"
  },
  "toc": {
   "base_numbering": 1,
   "nav_menu": {},
   "number_sections": true,
   "sideBar": true,
   "skip_h1_title": false,
   "title_cell": "Table of Contents",
   "title_sidebar": "Contents",
   "toc_cell": false,
   "toc_position": {},
   "toc_section_display": true,
   "toc_window_display": true
  }
 },
 "nbformat": 4,
 "nbformat_minor": 5
}
