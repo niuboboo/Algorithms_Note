{
 "cells": [
  {
   "cell_type": "markdown",
   "id": "6bd8c17a",
   "metadata": {},
   "source": [
    "## 多任务"
   ]
  },
  {
   "cell_type": "markdown",
   "id": "78b1b4d2",
   "metadata": {},
   "source": [
    "两个回归任务：\n",
    "\n",
    "Input data: Two synthetic regression tasks generated according to: Ma et al. (KDD 2018) \"Modeling Task Relationships in Multi-task Learning with Multi-gate Mixture-of-Experts\"。\n",
    "\n",
    "Network: One shared layer Two task specific towers。"
   ]
  },
  {
   "cell_type": "markdown",
   "id": "a71ce347",
   "metadata": {},
   "source": [
    "- 参考文章: https://zhuanlan.zhihu.com/p/351421350"
   ]
  },
  {
   "cell_type": "markdown",
   "id": "f6a58986",
   "metadata": {},
   "source": [
    "## 多任务学习"
   ]
  },
  {
   "cell_type": "code",
   "execution_count": 1,
   "id": "d285acbf",
   "metadata": {},
   "outputs": [],
   "source": [
    "import torch\n",
    "import torch.nn as nn\n",
    "import torchvision\n",
    "import torchvision.transforms as transforms\n",
    "import numpy as np\n",
    "import matplotlib.pyplot as plt\n",
    "import matplotlib.gridspec as gridspec\n",
    "import os\n",
    "from torch.autograd import Variable\n",
    "import pandas as pd\n",
    "import math\n",
    "import sklearn.preprocessing as sk\n",
    "from tensorboardX import SummaryWriter\n",
    "import seaborn as sns\n",
    "from sklearn.model_selection import KFold\n",
    "from sklearn import metrics\n",
    "from sklearn.feature_selection import VarianceThreshold\n",
    "from sklearn.linear_model import Ridge\n",
    "from sklearn.linear_model import RidgeCV\n",
    "from sklearn.model_selection import train_test_split\n",
    "import random"
   ]
  },
  {
   "cell_type": "markdown",
   "id": "578fbdb7",
   "metadata": {},
   "source": [
    "## 生成数据"
   ]
  },
  {
   "cell_type": "code",
   "execution_count": 2,
   "id": "7b730e15",
   "metadata": {},
   "outputs": [
    {
     "name": "stdout",
     "output_type": "stream",
     "text": [
      "(8000, 100)\n",
      "(1000, 100)\n",
      "(1000, 100)\n",
      "(8000,)\n",
      "(8000,)\n",
      "(1000,)\n",
      "(1000,)\n",
      "(1000,)\n",
      "(1000,)\n",
      "torch.Size([8000, 100])\n",
      "torch.Size([1000, 100])\n",
      "torch.Size([1000, 100])\n",
      "torch.Size([8000])\n",
      "torch.Size([8000])\n",
      "torch.Size([1000])\n",
      "torch.Size([1000])\n",
      "torch.Size([1000])\n",
      "torch.Size([1000])\n"
     ]
    }
   ],
   "source": [
    "seed = 42\n",
    "random.seed(seed)\n",
    "torch.cuda.manual_seed_all(seed)\n",
    "\n",
    "N = 10000\n",
    "M = 100\n",
    "c = 0.5\n",
    "p = 0.9\n",
    "k = np.random.randn(M)\n",
    "u1 = np.random.randn(M)\n",
    "u1 -= u1.dot(k) * k / np.linalg.norm(k)**2\n",
    "u1 /= np.linalg.norm(u1) \n",
    "k /= np.linalg.norm(k) \n",
    "u2 = k\n",
    "w1 = c*u1\n",
    "w2 = c*(p*u1+np.sqrt((1-p**2))*u2)\n",
    "X = np.random.normal(0, 1, (N, M))\n",
    "eps1 = np.random.normal(0, 0.01)\n",
    "eps2 = np.random.normal(0, 0.01)\n",
    "Y1 = np.matmul(X, w1) + np.sin(np.matmul(X, w1))+eps1\n",
    "Y2 = np.matmul(X, w2) + np.sin(np.matmul(X, w2))+eps2\n",
    "split = list(np.random.permutation(N))\n",
    "\n",
    "X_train = X[split[0:8000],:]\n",
    "Y1_train = Y1[split[0:8000]]\n",
    "Y2_train = Y2[split[0:8000]]\n",
    "X_valid = X[8000:9000,:]\n",
    "Y1_valid = Y1[8000:9000]\n",
    "Y2_valid = Y2[8000:9000]\n",
    "X_test = X[9000:10000,:]\n",
    "Y1_test = Y1[9000:10000]\n",
    "Y2_test = Y2[9000:10000]\n",
    "print(X_train.shape)\n",
    "print(X_valid.shape)\n",
    "print(X_test.shape)\n",
    "print(Y1_train.shape)\n",
    "print(Y2_train.shape)\n",
    "print(Y1_valid.shape)\n",
    "print(Y2_valid.shape)\n",
    "print(Y1_test.shape)\n",
    "print(Y2_test.shape)\n",
    "\n",
    "X_train = torch.from_numpy(X_train)\n",
    "X_train = X_train.float()\n",
    "Y1_train = torch.tensor(Y1_train)\n",
    "Y1_train = Y1_train.float()\n",
    "Y2_train = torch.tensor(Y2_train)\n",
    "Y2_train = Y2_train.float()\n",
    "\n",
    "X_valid = torch.from_numpy(X_valid)\n",
    "X_valid = X_valid.float()\n",
    "Y1_valid = torch.tensor(Y1_valid)\n",
    "Y1_valid = Y1_valid.float()\n",
    "Y2_valid = torch.tensor(Y2_valid)\n",
    "Y2_valid = Y2_valid.float()\n",
    "\n",
    "X_test = torch.from_numpy(X_test)\n",
    "X_test = X_test.float()\n",
    "Y1_test = torch.tensor(Y1_test)\n",
    "Y1_test = Y1_test.float()\n",
    "Y2_test = torch.tensor(Y2_test)\n",
    "Y2_test = Y2_test.float()\n",
    "\n",
    "print(X_train.shape)\n",
    "print(X_valid.shape)\n",
    "print(X_test.shape)\n",
    "print(Y1_train.shape)\n",
    "print(Y2_train.shape)\n",
    "print(Y1_valid.shape)\n",
    "print(Y2_valid.shape)\n",
    "print(Y1_test.shape)\n",
    "print(Y2_test.shape)"
   ]
  },
  {
   "cell_type": "markdown",
   "id": "0a87be3a",
   "metadata": {},
   "source": [
    "## 定义参数和网络结构"
   ]
  },
  {
   "cell_type": "code",
   "execution_count": 3,
   "id": "8c8a3942",
   "metadata": {},
   "outputs": [],
   "source": [
    "input_size, feature_size = X.shape\n",
    "shared_layer_size = 64\n",
    "tower_h1 = 32\n",
    "tower_h2 = 16\n",
    "output_size = 1\n",
    "LR = 0.001\n",
    "epoch = 50\n",
    "mb_size = 100\n",
    "cost1tr = []\n",
    "cost2tr = []\n",
    "cost1D = []\n",
    "cost2D = []\n",
    "cost1ts = []\n",
    "cost2ts = []\n",
    "costtr = []\n",
    "costD = []\n",
    "costts = []\n",
    "\n",
    "class MTLnet(nn.Module):\n",
    "    def __init__(self):\n",
    "        super(MTLnet, self).__init__()\n",
    "\n",
    "        self.sharedlayer = nn.Sequential(\n",
    "            nn.Linear(feature_size, shared_layer_size),\n",
    "            nn.ReLU(),\n",
    "            nn.Dropout()\n",
    "        )\n",
    "        self.tower1 = nn.Sequential(\n",
    "            nn.Linear(shared_layer_size, tower_h1),\n",
    "            nn.ReLU(),\n",
    "            nn.Dropout(),\n",
    "            nn.Linear(tower_h1, tower_h2),\n",
    "            nn.ReLU(),\n",
    "            nn.Dropout(),\n",
    "            nn.Linear(tower_h2, output_size)\n",
    "        )\n",
    "        self.tower2 = nn.Sequential(\n",
    "            nn.Linear(shared_layer_size, tower_h1),\n",
    "            nn.ReLU(),\n",
    "            nn.Dropout(),\n",
    "            nn.Linear(tower_h1, tower_h2),\n",
    "            nn.ReLU(),\n",
    "            nn.Dropout(),\n",
    "            nn.Linear(tower_h2, output_size)\n",
    "        )        \n",
    "\n",
    "    def forward(self, x):\n",
    "        h_shared = self.sharedlayer(x)\n",
    "        out1 = self.tower1(h_shared)\n",
    "        out2 = self.tower2(h_shared)\n",
    "        return out1, out2"
   ]
  },
  {
   "cell_type": "code",
   "execution_count": 4,
   "id": "a7c5537a",
   "metadata": {},
   "outputs": [],
   "source": [
    "def random_mini_batches(XE, R1E, R2E, mini_batch_size = 10, seed = 42): \n",
    "    # Creating the mini-batches\n",
    "    np.random.seed(seed)            \n",
    "    m = XE.shape[0]                  \n",
    "    mini_batches = []\n",
    "    permutation = list(np.random.permutation(m))\n",
    "    shuffled_XE = XE[permutation,:]\n",
    "    shuffled_X1R = R1E[permutation]\n",
    "    shuffled_X2R = R2E[permutation]\n",
    "    num_complete_minibatches = math.floor(m/mini_batch_size)\n",
    "    for k in range(0, int(num_complete_minibatches)):\n",
    "        mini_batch_XE = shuffled_XE[k * mini_batch_size : (k+1) * mini_batch_size, :]\n",
    "        mini_batch_X1R = shuffled_X1R[k * mini_batch_size : (k+1) * mini_batch_size]\n",
    "        mini_batch_X2R = shuffled_X2R[k * mini_batch_size : (k+1) * mini_batch_size]\n",
    "        mini_batch = (mini_batch_XE, mini_batch_X1R, mini_batch_X2R)\n",
    "        mini_batches.append(mini_batch)\n",
    "    Lower = int(num_complete_minibatches * mini_batch_size)\n",
    "    Upper = int(m - (mini_batch_size * math.floor(m/mini_batch_size)))\n",
    "    if m % mini_batch_size != 0:\n",
    "        mini_batch_XE = shuffled_XE[Lower : Lower + Upper, :]\n",
    "        mini_batch_X1R = shuffled_X1R[Lower : Lower + Upper]\n",
    "        mini_batch_X2R = shuffled_X2R[Lower : Lower + Upper]\n",
    "        mini_batch = (mini_batch_XE, mini_batch_X1R, mini_batch_X2R)\n",
    "        mini_batches.append(mini_batch)\n",
    "    \n",
    "    return mini_batches"
   ]
  },
  {
   "cell_type": "code",
   "execution_count": 5,
   "id": "2599d9ba",
   "metadata": {},
   "outputs": [],
   "source": [
    "MTL = MTLnet()\n",
    "optimizer = torch.optim.Adam(MTL.parameters(), lr=LR)\n",
    "loss_func = nn.MSELoss()"
   ]
  },
  {
   "cell_type": "markdown",
   "id": "d3a15d72",
   "metadata": {},
   "source": [
    "## 开始进行迭代训练"
   ]
  },
  {
   "cell_type": "code",
   "execution_count": 6,
   "id": "18237804",
   "metadata": {},
   "outputs": [
    {
     "name": "stdout",
     "output_type": "stream",
     "text": [
      "Iter-0; Total loss: 0.6992\n",
      "Iter-1; Total loss: 0.3555\n",
      "Iter-2; Total loss: 0.2159\n",
      "Iter-3; Total loss: 0.2382\n",
      "Iter-4; Total loss: 0.2419\n",
      "Iter-5; Total loss: 0.1711\n",
      "Iter-6; Total loss: 0.1931\n",
      "Iter-7; Total loss: 0.1592\n",
      "Iter-8; Total loss: 0.201\n",
      "Iter-9; Total loss: 0.1408\n",
      "Iter-10; Total loss: 0.1743\n",
      "Iter-11; Total loss: 0.1552\n",
      "Iter-12; Total loss: 0.1877\n",
      "Iter-13; Total loss: 0.1514\n",
      "Iter-14; Total loss: 0.1489\n",
      "Iter-15; Total loss: 0.1542\n",
      "Iter-16; Total loss: 0.1405\n",
      "Iter-17; Total loss: 0.1129\n",
      "Iter-18; Total loss: 0.1596\n",
      "Iter-19; Total loss: 0.1445\n",
      "Iter-20; Total loss: 0.1528\n",
      "Iter-21; Total loss: 0.1569\n",
      "Iter-22; Total loss: 0.179\n",
      "Iter-23; Total loss: 0.1356\n",
      "Iter-24; Total loss: 0.1071\n",
      "Iter-25; Total loss: 0.153\n",
      "Iter-26; Total loss: 0.1456\n",
      "Iter-27; Total loss: 0.1442\n",
      "Iter-28; Total loss: 0.1383\n",
      "Iter-29; Total loss: 0.1385\n",
      "Iter-30; Total loss: 0.1857\n",
      "Iter-31; Total loss: 0.1438\n",
      "Iter-32; Total loss: 0.1259\n",
      "Iter-33; Total loss: 0.1482\n",
      "Iter-34; Total loss: 0.144\n",
      "Iter-35; Total loss: 0.2072\n",
      "Iter-36; Total loss: 0.1504\n",
      "Iter-37; Total loss: 0.168\n",
      "Iter-38; Total loss: 0.1503\n",
      "Iter-39; Total loss: 0.1501\n",
      "Iter-40; Total loss: 0.1744\n",
      "Iter-41; Total loss: 0.1663\n",
      "Iter-42; Total loss: 0.1481\n",
      "Iter-43; Total loss: 0.1588\n",
      "Iter-44; Total loss: 0.1552\n",
      "Iter-45; Total loss: 0.1307\n",
      "Iter-46; Total loss: 0.125\n",
      "Iter-47; Total loss: 0.1417\n",
      "Iter-48; Total loss: 0.1313\n",
      "Iter-49; Total loss: 0.1541\n"
     ]
    },
    {
     "data": {
      "image/png": "[encoded data removed]",
      "text/plain": [
       "<Figure size 432x288 with 1 Axes>"
      ]
     },
     "metadata": {
      "needs_background": "light"
     },
     "output_type": "display_data"
    },
    {
     "data": {
      "image/png": "[encoded data removed]",
      "text/plain": [
       "<Figure size 432x288 with 1 Axes>"
      ]
     },
     "metadata": {
      "needs_background": "light"
     },
     "output_type": "display_data"
    },
    {
     "data": {
      "image/png": "[encoded data removed]",
      "text/plain": [
       "<Figure size 432x288 with 1 Axes>"
      ]
     },
     "metadata": {
      "needs_background": "light"
     },
     "output_type": "display_data"
    }
   ],
   "source": [
    "for it in range(epoch):\n",
    "    epoch_cost = 0\n",
    "    epoch_cost1 = 0\n",
    "    epoch_cost2 = 0\n",
    "    num_minibatches = int(input_size / mb_size) \n",
    "    minibatches = random_mini_batches(X_train, Y1_train, Y2_train, mb_size)\n",
    "    for minibatch in minibatches:\n",
    "        XE, YE1, YE2  = minibatch \n",
    "        \n",
    "        Yhat1, Yhat2 = MTL(XE)\n",
    "        l1 = loss_func(Yhat1, YE1.view(-1,1))    \n",
    "        l2 = loss_func(Yhat2, YE2.view(-1,1))\n",
    "        loss =  (l1 + l2)/2\n",
    "        \n",
    "        optimizer.zero_grad()\n",
    "        loss.backward()\n",
    "        optimizer.step()\n",
    "        \n",
    "        epoch_cost = epoch_cost + (loss / num_minibatches)\n",
    "        epoch_cost1 = epoch_cost1 + (l1 / num_minibatches)\n",
    "        epoch_cost2 = epoch_cost2 + (l2 / num_minibatches)\n",
    "    costtr.append(torch.mean(epoch_cost))\n",
    "    cost1tr.append(torch.mean(epoch_cost1))\n",
    "    cost2tr.append(torch.mean(epoch_cost2))\n",
    "    with torch.no_grad():\n",
    "        Yhat1D, Yhat2D = MTL(X_valid)\n",
    "        l1D = loss_func(Yhat1D, Y1_valid.view(-1,1))\n",
    "        l2D = loss_func(Yhat2D, Y2_valid.view(-1,1))\n",
    "        cost1D.append(l1D)\n",
    "        cost2D.append(l2D)\n",
    "        costD.append((l1D+l2D)/2)\n",
    "        # print('Iter-{}; Total loss: {:.4}'.format(it, loss.data[0]))\n",
    "        print('Iter-{}; Total loss: {:.4}'.format(it, loss.item()))\n",
    "    \n",
    "plt.plot(np.squeeze(costtr), '-r',np.squeeze(costD), '-b')\n",
    "plt.ylabel('total cost')\n",
    "plt.xlabel('iterations (per tens)')\n",
    "plt.show() \n",
    "\n",
    "plt.plot(np.squeeze(cost1tr), '-r', np.squeeze(cost1D), '-b')\n",
    "plt.ylabel('task 1 cost')\n",
    "plt.xlabel('iterations (per tens)')\n",
    "plt.show() \n",
    "\n",
    "plt.plot(np.squeeze(cost2tr),'-r', np.squeeze(cost2D),'-b')\n",
    "plt.ylabel('task 2 cost')\n",
    "plt.xlabel('iterations (per tens)')\n",
    "plt.show()"
   ]
  },
  {
   "cell_type": "code",
   "execution_count": null,
   "id": "2294847c",
   "metadata": {},
   "outputs": [],
   "source": []
  }
 ],
 "metadata": {
  "kernelspec": {
   "display_name": "ACG",
   "language": "python",
   "name": "acg"
  },
  "language_info": {
   "codemirror_mode": {
    "name": "ipython",
    "version": 3
   },
   "file_extension": ".py",
   "mimetype": "text/x-python",
   "name": "python",
   "nbconvert_exporter": "python",
   "pygments_lexer": "ipython3",
   "version": "3.6.13"
  },
  "toc": {
   "base_numbering": 1,
   "nav_menu": {},
   "number_sections": true,
   "sideBar": true,
   "skip_h1_title": false,
   "title_cell": "Table of Contents",
   "title_sidebar": "Contents",
   "toc_cell": false,
   "toc_position": {},
   "toc_section_display": true,
   "toc_window_display": true
  }
 },
 "nbformat": 4,
 "nbformat_minor": 5
}
