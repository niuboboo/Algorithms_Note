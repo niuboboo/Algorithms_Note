{
 "cells": [
  {
   "cell_type": "code",
   "execution_count": null,
   "id": "6d19cc6a",
   "metadata": {},
   "outputs": [],
   "source": []
  },
  {
   "cell_type": "markdown",
   "id": "70a7949e",
   "metadata": {},
   "source": [
    "原始`GAN`的公式如下:\n",
    "\n",
    "$$\n",
    "\\min _{G} \\max _{D} V(D, G)=\\mathbb{E}_{\\boldsymbol{x} \\sim p_{\\text {data }}(\\boldsymbol{x})}[\\log D(\\boldsymbol{x})]+\\mathbb{E}_{\\boldsymbol{z} \\sim p_{\\boldsymbol{z}}(\\boldsymbol{z})}[\\log (1-D(G(\\boldsymbol{z})))]\n",
    "$$\n",
    "\n",
    "引入条件信息，我们可以得到`cGAN`的公式如下：\n",
    "\n",
    "$$\n",
    "\\min _{G} \\max _{D} V(D, G)=\\mathbb{E}_{\\boldsymbol{x} \\sim p_{\\text {data }}(\\boldsymbol{x})}[\\log D(\\boldsymbol{x} \\mid \\boldsymbol{y})]+\\mathbb{E}_{\\boldsymbol{z} \\sim p_{z}(\\boldsymbol{z})}[\\log (1-D(G(\\boldsymbol{z} \\mid \\boldsymbol{y})))]\n",
    "$$"
   ]
  },
  {
   "cell_type": "markdown",
   "id": "e676c95b",
   "metadata": {},
   "source": [
    "其中$y$就是条件信息，此时生成器的输入除了隐变量$z$之外，还有条件信息$y$, 条件信息可以是连续的变量，也可以是离散的变量。比如像手写字识别中，条件信息就是提供的手写字的类别。对于条件信息，我们可以直接穿入条件信息的`one-hot`变量，但是那样太稀疏了，我们也可以传入`one-hot`向量的`embedding`信息。\n",
    "\n",
    "同样的，判别器也可以引入条件信息。这里的条件信息同样可以转换成`embedding`信息再与图像信息拼接在一起。"
   ]
  },
  {
   "cell_type": "code",
   "execution_count": null,
   "id": "32f526ea",
   "metadata": {},
   "outputs": [],
   "source": []
  }
 ],
 "metadata": {
  "kernelspec": {
   "display_name": "Python 3 (ipykernel)",
   "language": "python",
   "name": "python3"
  },
  "language_info": {
   "codemirror_mode": {
    "name": "ipython",
    "version": 3
   },
   "file_extension": ".py",
   "mimetype": "text/x-python",
   "name": "python",
   "nbconvert_exporter": "python",
   "pygments_lexer": "ipython3",
   "version": "3.9.4"
  },
  "toc": {
   "base_numbering": 1,
   "nav_menu": {},
   "number_sections": true,
   "sideBar": true,
   "skip_h1_title": false,
   "title_cell": "Table of Contents",
   "title_sidebar": "Contents",
   "toc_cell": false,
   "toc_position": {},
   "toc_section_display": true,
   "toc_window_display": false
  }
 },
 "nbformat": 4,
 "nbformat_minor": 5
}
