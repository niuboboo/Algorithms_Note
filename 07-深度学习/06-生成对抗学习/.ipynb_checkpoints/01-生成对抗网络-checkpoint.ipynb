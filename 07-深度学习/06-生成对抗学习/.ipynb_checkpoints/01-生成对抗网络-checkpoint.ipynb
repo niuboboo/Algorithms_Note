{
 "cells": [
  {
   "cell_type": "code",
   "execution_count": null,
   "id": "51c676ec",
   "metadata": {},
   "outputs": [],
   "source": []
  },
  {
   "cell_type": "markdown",
   "id": "49792ccf",
   "metadata": {},
   "source": [
    "## 生成对抗网络\n",
    "\n",
    "$$\n",
    "\\min _{G} \\max _{D} V(D, G)=\\mathbb{E}_{\\boldsymbol{x} \\sim p_{\\text {data }}(\\boldsymbol{x})}[\\log D(\\boldsymbol{x})]+\\mathbb{E}_{\\boldsymbol{z} \\sim p_{\\boldsymbol{z}}(\\boldsymbol{z})}[\\log (1-D(G(\\boldsymbol{z})))]\n",
    "$$"
   ]
  },
  {
   "cell_type": "markdown",
   "id": "26ef7eb5",
   "metadata": {},
   "source": [
    "对判别器而言，给定输入数据$\\boldsymbol{x}$，期望判别器$D$能够最大化其输出结果，也就是将其预测正确。对于生成器生成的数据$G(z)$而言，是期望最大化$V$, 也就是最大化$-D(G(z))$, 也就是最小化$D(G(z))$, 也就是期望判别器$D$能够将其预测出是假样本。\n",
    "\n",
    "对于生成器而言，期望生成器能够最小化$V$, 也就是最小化$-D(G(z))$, 也就是最大化$D(G(z))$，也就是期望能够骗过判别器，使得判别器对其输出结果期望是正样本。"
   ]
  },
  {
   "cell_type": "markdown",
   "id": "8ff92261",
   "metadata": {},
   "source": [
    "## GAN代码实现"
   ]
  },
  {
   "cell_type": "markdown",
   "id": "defee324",
   "metadata": {},
   "source": [
    "### 首先查看一下数据集"
   ]
  },
  {
   "cell_type": "code",
   "execution_count": 6,
   "id": "31328cc8",
   "metadata": {},
   "outputs": [],
   "source": [
    "import torch\n",
    "import torchvision\n",
    "import torch.nn as nn"
   ]
  },
  {
   "cell_type": "code",
   "execution_count": 17,
   "id": "97f5fcf1",
   "metadata": {},
   "outputs": [
    {
     "name": "stdout",
     "output_type": "stream",
     "text": [
      "60000\n"
     ]
    }
   ],
   "source": [
    "dataset = torchvision.datasets.MNIST(\"../../data\", train=True, download=True,\n",
    "                                    transform=torchvision.transforms.Compose(\n",
    "                                        [\n",
    "                                            torchvision.transforms.Resize(28),\n",
    "                                            torchvision.transforms.ToTensor()\n",
    "                                        ]\n",
    "                                    ))\n",
    "print(len(dataset))"
   ]
  },
  {
   "cell_type": "code",
   "execution_count": 21,
   "id": "6488191d",
   "metadata": {},
   "outputs": [
    {
     "name": "stdout",
     "output_type": "stream",
     "text": [
      "torch.Size([1, 28, 28])\n",
      "torch.Size([1, 28, 28])\n",
      "torch.Size([1, 28, 28])\n",
      "torch.Size([1, 28, 28])\n",
      "torch.Size([1, 28, 28])\n",
      "torch.Size([1, 28, 28])\n"
     ]
    }
   ],
   "source": [
    "for i in range(len(dataset)):\n",
    "    if i <= 5:\n",
    "        print(dataset[i][0].shape, )\n",
    "    else:\n",
    "        pass"
   ]
  },
  {
   "cell_type": "markdown",
   "id": "eae8663e",
   "metadata": {},
   "source": [
    "这里最前面的`1`是通道数。"
   ]
  },
  {
   "cell_type": "code",
   "execution_count": null,
   "id": "e3166dd4",
   "metadata": {},
   "outputs": [],
   "source": []
  }
 ],
 "metadata": {
  "kernelspec": {
   "display_name": "Python 3 (ipykernel)",
   "language": "python",
   "name": "python3"
  },
  "language_info": {
   "codemirror_mode": {
    "name": "ipython",
    "version": 3
   },
   "file_extension": ".py",
   "mimetype": "text/x-python",
   "name": "python",
   "nbconvert_exporter": "python",
   "pygments_lexer": "ipython3",
   "version": "3.9.4"
  },
  "toc": {
   "base_numbering": 1,
   "nav_menu": {},
   "number_sections": true,
   "sideBar": true,
   "skip_h1_title": false,
   "title_cell": "Table of Contents",
   "title_sidebar": "Contents",
   "toc_cell": false,
   "toc_position": {},
   "toc_section_display": true,
   "toc_window_display": false
  }
 },
 "nbformat": 4,
 "nbformat_minor": 5
}
