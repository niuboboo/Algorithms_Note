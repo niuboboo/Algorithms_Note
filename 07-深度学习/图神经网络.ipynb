{
 "cells": [
  {
   "cell_type": "markdown",
   "id": "3150d8fe",
   "metadata": {},
   "source": [
    "## 什么是图神经网络中的状态更新"
   ]
  },
  {
   "cell_type": "markdown",
   "id": "664cef0e",
   "metadata": {},
   "source": [
    "对于图神经网络中的基础定义，我们通常用$G=(V, E)$来表示，其中$G$表示图，$V$表示节点，$E$表示边。\n",
    "\n",
    "`GNN`的学习目标目标：**学习图结构中每个节点的状态信息**。\n"
   ]
  },
  {
   "cell_type": "markdown",
   "id": "8fa80cc5",
   "metadata": {},
   "source": [
    "<img src=\"../images/GNN.png\" width=\"20%\">"
   ]
  },
  {
   "cell_type": "markdown",
   "id": "b71a6812",
   "metadata": {},
   "source": [
    "定义节点状态更新的过程来描述整张图结构："
   ]
  },
  {
   "cell_type": "markdown",
   "id": "e2b1d76a",
   "metadata": {},
   "source": [
    "$$\n",
    "h_{v}^{t} = f(x_{v}, x_{c}O[v],  h_{n}^{t-1}e[v], x_{n})\n",
    "$$"
   ]
  },
  {
   "cell_type": "markdown",
   "id": "e6cf62e8",
   "metadata": {},
   "source": [
    "节点$v$在$t$时刻的节点状态$h_{v}^{t}$，是由节点信息 = (节点信息，边信息，邻节点状态，邻节点)所构成的。\n",
    "\n",
    "以节点$p1$为例，节点$p1$的相邻节点有$p1$和$p3$，$h_{p1}$的节点状态信息由$p1$节点的信息，与$p1$相邻的两条边$p_{(1,2)},p_{(1,3)}$组成。还有邻节点的状态$h_{p2},h_{p3}$，这个节点状态是上一个时刻的节点状态。最后还有邻节点信息。"
   ]
  },
  {
   "cell_type": "markdown",
   "id": "7defe67f",
   "metadata": {},
   "source": [
    "$$h_{p1} = f(p_{1}, p_{(1,2)}, p_{(1,3)}, h_{p2}, h_{p3}, p2, p3, \\cdots)$$"
   ]
  },
  {
   "cell_type": "markdown",
   "id": "7d848324",
   "metadata": {},
   "source": [
    "$f$:是状态更新函数，当我们神经网络能够拟合$f$, 我们就能得到图的状态。这个状态更新函数只是GNN最早期最早期的一个模型。"
   ]
  },
  {
   "cell_type": "markdown",
   "id": "fc2c0d78",
   "metadata": {},
   "source": [
    "## 开发环境&图描述"
   ]
  },
  {
   "cell_type": "markdown",
   "id": "60a1a0df",
   "metadata": {},
   "source": [
    "<img src=\"../images/GNN_data.png\" width=\"40%\">"
   ]
  },
  {
   "cell_type": "markdown",
   "id": "6c7bf60e",
   "metadata": {},
   "source": [
    "上图中是一个有向图网络结构，其中包含了四个顶点。其中A和C是一组顶点，B和D是一组顶点。用y的取值来进行区分。在顶点旁边有顶点的数据，顶点A旁边的数据是[2, 1]。"
   ]
  },
  {
   "cell_type": "code",
   "execution_count": 1,
   "id": "f49f7942",
   "metadata": {},
   "outputs": [],
   "source": [
    "import torch\n",
    "from torch_geometric.data import Data"
   ]
  },
  {
   "cell_type": "code",
   "execution_count": 2,
   "id": "9c18020a",
   "metadata": {},
   "outputs": [],
   "source": [
    "x = torch.tensor([[2, 1], [5, 6], [3, 7], [12, 0]], dtype=torch.float) # data的特征矩阵\n",
    "y = torch.tensor([0, 1, 0, 1], dtype=torch.float) # 图节点的target\n",
    "# 边的关系，从0号顶点到1号顶点； 1号顶点到0号顶点；0号顶点到3号顶点，2号顶点到1号顶点; 3号点到2号点。\n",
    "edge_index = torch.tensor([[0, 1, 0, 2, 3],\n",
    "                           [1, 0, 3, 1, 2]], dtype=torch.long) # 边的索引数据。"
   ]
  },
  {
   "cell_type": "code",
   "execution_count": 4,
   "id": "ecd9509d",
   "metadata": {},
   "outputs": [
    {
     "data": {
      "text/plain": [
       "Data(edge_index=[2, 5], x=[4, 2], y=[4])"
      ]
     },
     "execution_count": 4,
     "metadata": {},
     "output_type": "execute_result"
    }
   ],
   "source": [
    "data = Data(x=x, y=y, edge_index=edge_index)\n",
    "data"
   ]
  },
  {
   "cell_type": "markdown",
   "id": "6b785cc0",
   "metadata": {},
   "source": [
    "查看节点数量："
   ]
  },
  {
   "cell_type": "code",
   "execution_count": 5,
   "id": "24ea809c",
   "metadata": {},
   "outputs": [
    {
     "data": {
      "text/plain": [
       "4"
      ]
     },
     "execution_count": 5,
     "metadata": {},
     "output_type": "execute_result"
    }
   ],
   "source": [
    "data.num_nodes # 查看节点数量"
   ]
  },
  {
   "cell_type": "code",
   "execution_count": 6,
   "id": "f41039db",
   "metadata": {},
   "outputs": [
    {
     "data": {
      "text/plain": [
       "5"
      ]
     },
     "execution_count": 6,
     "metadata": {},
     "output_type": "execute_result"
    }
   ],
   "source": [
    "data.num_edges # 查看边"
   ]
  },
  {
   "cell_type": "code",
   "execution_count": 7,
   "id": "ab304815",
   "metadata": {},
   "outputs": [
    {
     "data": {
      "text/plain": [
       "2"
      ]
     },
     "execution_count": 7,
     "metadata": {},
     "output_type": "execute_result"
    }
   ],
   "source": [
    "data.num_node_features # 查看节点特征唯独"
   ]
  },
  {
   "cell_type": "code",
   "execution_count": 8,
   "id": "01256323",
   "metadata": {},
   "outputs": [
    {
     "data": {
      "text/plain": [
       "False"
      ]
     },
     "execution_count": 8,
     "metadata": {},
     "output_type": "execute_result"
    }
   ],
   "source": [
    "data.contains_isolated_nodes()  # 是否有独立节点"
   ]
  },
  {
   "cell_type": "code",
   "execution_count": 9,
   "id": "88b9fcf8",
   "metadata": {},
   "outputs": [
    {
     "data": {
      "text/plain": [
       "False"
      ]
     },
     "execution_count": 9,
     "metadata": {},
     "output_type": "execute_result"
    }
   ],
   "source": [
    "data.contains_self_loops() # 是否有环"
   ]
  },
  {
   "cell_type": "code",
   "execution_count": 10,
   "id": "af1064b5",
   "metadata": {},
   "outputs": [
    {
     "data": {
      "text/plain": [
       "True"
      ]
     },
     "execution_count": 10,
     "metadata": {},
     "output_type": "execute_result"
    }
   ],
   "source": [
    "data.is_directed() # 是否是有向图"
   ]
  },
  {
   "cell_type": "markdown",
   "id": "fb48f866",
   "metadata": {},
   "source": [
    "## Geometric构建数据集"
   ]
  },
  {
   "cell_type": "markdown",
   "id": "ca328f67",
   "metadata": {},
   "source": [
    "构建数据集有两种：\n",
    "\n",
    "1. 继承InMemoryDataset，一次性加载所有数据到内存；\n",
    "2. 继承Dataset，分次加载到内存。\n",
    "\n",
    "在自定义的Dataset的初始化方法中传入数据存放的路径，然后PyG会在这个路径下再划分两个文件夹：\n",
    "\n",
    "1. raw_dir: 存放原始数据的路径，(一般是CSV、mat等格式)。\n",
    "2. processed_dir: 存放处理后的数据，一般是pt格式，由process()方法实现。\n",
    "\n",
    "但是在Pytorch中，实际上是没有这两个文件夹的。\n",
    "\n",
    "Mini-Batching: 将一组样本组合成一个统一的表示形式，进行并行处理。"
   ]
  },
  {
   "cell_type": "code",
   "execution_count": null,
   "id": "e87ae834",
   "metadata": {},
   "outputs": [],
   "source": []
  }
 ],
 "metadata": {
  "kernelspec": {
   "display_name": "ecole",
   "language": "python",
   "name": "ecole"
  },
  "language_info": {
   "codemirror_mode": {
    "name": "ipython",
    "version": 3
   },
   "file_extension": ".py",
   "mimetype": "text/x-python",
   "name": "python",
   "nbconvert_exporter": "python",
   "pygments_lexer": "ipython3",
   "version": "3.9.6"
  },
  "toc": {
   "base_numbering": 1,
   "nav_menu": {},
   "number_sections": true,
   "sideBar": true,
   "skip_h1_title": false,
   "title_cell": "Table of Contents",
   "title_sidebar": "Contents",
   "toc_cell": false,
   "toc_position": {},
   "toc_section_display": true,
   "toc_window_display": false
  }
 },
 "nbformat": 4,
 "nbformat_minor": 5
}
