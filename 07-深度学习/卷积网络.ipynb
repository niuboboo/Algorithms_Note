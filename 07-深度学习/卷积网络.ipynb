{
 "cells": [
  {
   "cell_type": "markdown",
   "id": "91b864b1",
   "metadata": {},
   "source": []
  },
  {
   "cell_type": "markdown",
   "id": "83ecd6cd",
   "metadata": {},
   "source": [
    "## 重新考察全连接层\n",
    "\n",
    "&emsp;&emsp;将输入和输出变形为矩阵(宽度，高度)。对应的，我们可以将权重变形为$4-D$的张量, 从$(h, w)$到$(h^{\\prime}, w^{\\prime})$。\n",
    "\n",
    "&emsp;&emsp;那么我们的输出可以表示为$h_{i, j}$:\n",
    "\n",
    "$$\n",
    "h_{i, j}=\\sum_{k l} w_{i, j, k, l} x_{k, l}=\\sum_{a b} v_{i, j, a, b} x_{i+a, j+b}\n",
    "$$\n",
    "\n",
    "&emsp;&emsp;其中$x_{k, l}$是我们的输入, 然后对$k, l$求和。之后对下标做一些变换: $v_{i,j,a,b} = w_{i, j, i+a, j+b}$, 来引出卷积的做法, 其中$v$是$w$的重新索引:。"
   ]
  },
  {
   "cell_type": "markdown",
   "id": "be8a57ec",
   "metadata": {},
   "source": [
    "### 平移不变性\n",
    "\n",
    "&emsp;&emsp;假设$x$的位置的变换，这将导致权重$v$值的变换。因此想要实现平移不变性，$v$不应该依赖于$(i, j)$，解决方法是$v_{i,j,a,b}=v_{a, b}$:\n",
    "\n",
    "$$\n",
    "h_{i,j} = \\sum_{a,b} v_{a,b} x_{i+a, j+b}\n",
    "$$\n",
    "\n",
    "&emsp;&emsp;这就是2维卷积。"
   ]
  },
  {
   "cell_type": "markdown",
   "id": "4e593e9f",
   "metadata": {},
   "source": [
    "### 局部性\n",
    "\n",
    "&emsp;&emsp;当评估$h_{i,j}$时，我们不应该用远离$x_{i,j}$的参数。解决方案是：当$|a|, |b| > \\Delta$时，使得$v_{a, b}=0$:\n",
    "\n",
    "$$\n",
    "h_{i, j}=\\sum_{a=-\\Delta}^{\\Delta} \\sum_{b=-\\Delta}^{\\Delta} v_{a, b} x_{i+a, j+b}\n",
    "$$\n",
    "\n"
   ]
  },
  {
   "cell_type": "markdown",
   "id": "12b36dab",
   "metadata": {},
   "source": [
    "## 卷积层\n",
    "\n"
   ]
  },
  {
   "cell_type": "markdown",
   "id": "a4ccbd1c",
   "metadata": {},
   "source": [
    "<img src=\"../images/07-juanji.png\" width=\"50%\">"
   ]
  },
  {
   "cell_type": "markdown",
   "id": "874e5fbc",
   "metadata": {},
   "source": [
    "&emsp;&emsp;上图中$19$的计算方式如下: $0 \\times 0 + 1 \\times 1 + 3 \\times 2 + 4 \\times 3 = 19$。"
   ]
  },
  {
   "cell_type": "markdown",
   "id": "69f03bb0",
   "metadata": {},
   "source": [
    "&emsp;&emsp;假设我们的输入为$X$, 它的维度为$n_{h} \\times n_{w}$, 核为$W$, 它的纬度为$k_{h} \\times k_{w}$, 偏差$b \\in \\mathbf{R}$。输出为$Y$, 纬度为: $(n_{h} - k_{h} + 1) \\times (n_{w} - k_{w} + 1)$。"
   ]
  },
  {
   "cell_type": "code",
   "execution_count": null,
   "id": "32e11904",
   "metadata": {},
   "outputs": [],
   "source": []
  }
 ],
 "metadata": {
  "kernelspec": {
   "display_name": "ACG",
   "language": "python",
   "name": "acg"
  },
  "language_info": {
   "codemirror_mode": {
    "name": "ipython",
    "version": 3
   },
   "file_extension": ".py",
   "mimetype": "text/x-python",
   "name": "python",
   "nbconvert_exporter": "python",
   "pygments_lexer": "ipython3",
   "version": "3.6.13"
  },
  "toc": {
   "base_numbering": 1,
   "nav_menu": {},
   "number_sections": true,
   "sideBar": true,
   "skip_h1_title": false,
   "title_cell": "Table of Contents",
   "title_sidebar": "Contents",
   "toc_cell": false,
   "toc_position": {},
   "toc_section_display": true,
   "toc_window_display": false
  }
 },
 "nbformat": 4,
 "nbformat_minor": 5
}
