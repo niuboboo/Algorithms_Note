{
 "cells": [
  {
   "cell_type": "markdown",
   "id": "fd8a5f42",
   "metadata": {},
   "source": [
    "## 从CSV加载图形"
   ]
  },
  {
   "cell_type": "code",
   "execution_count": 1,
   "id": "848d57fc",
   "metadata": {
    "scrolled": true
   },
   "outputs": [
    {
     "name": "stdout",
     "output_type": "stream",
     "text": [
      "Using exist file ml-latest-small.zip\n",
      "Extracting ./ml-latest-small.zip\n"
     ]
    }
   ],
   "source": [
    "from torch_geometric.data import download_url, extract_zip\n",
    "\n",
    "url = 'https://files.grouplens.org/datasets/movielens/ml-latest-small.zip'\n",
    "extract_zip(download_url(url, '.'), '.')\n",
    "\n",
    "movie_path = './ml-latest-small/movies.csv'\n",
    "rating_path = './ml-latest-small/ratings.csv'"
   ]
  },
  {
   "cell_type": "code",
   "execution_count": 2,
   "id": "056c4786",
   "metadata": {
    "scrolled": true
   },
   "outputs": [
    {
     "name": "stdout",
     "output_type": "stream",
     "text": [
      "   movieId                               title  \\\n",
      "0        1                    Toy Story (1995)   \n",
      "1        2                      Jumanji (1995)   \n",
      "2        3             Grumpier Old Men (1995)   \n",
      "3        4            Waiting to Exhale (1995)   \n",
      "4        5  Father of the Bride Part II (1995)   \n",
      "\n",
      "                                        genres  \n",
      "0  Adventure|Animation|Children|Comedy|Fantasy  \n",
      "1                   Adventure|Children|Fantasy  \n",
      "2                               Comedy|Romance  \n",
      "3                         Comedy|Drama|Romance  \n",
      "4                                       Comedy  \n"
     ]
    }
   ],
   "source": [
    "import pandas as pd\n",
    "\n",
    "print(pd.read_csv(movie_path).head())"
   ]
  },
  {
   "cell_type": "markdown",
   "id": "38033a46",
   "metadata": {},
   "source": [
    "&emsp;&emsp;我们看到该`movies.csv`文件提供了三列：`movieId`为每部电影分配一个唯一标识符，而`title`和`genres`列代表给定电影的标题和流派。\n",
    "\n",
    "&emsp;&emsp;我们可以利用`title`和`genres`这两列来定义一个可以被机器学习模型轻松解释的特征表示。"
   ]
  },
  {
   "cell_type": "code",
   "execution_count": 3,
   "id": "c5e9ad2b",
   "metadata": {},
   "outputs": [
    {
     "name": "stdout",
     "output_type": "stream",
     "text": [
      "   userId  movieId  rating  timestamp\n",
      "0       1        1     4.0  964982703\n",
      "1       1        3     4.0  964981247\n",
      "2       1        6     4.0  964982224\n",
      "3       1       47     5.0  964983815\n",
      "4       1       50     5.0  964982931\n"
     ]
    }
   ],
   "source": [
    "print(pd.read_csv(rating_path).head())"
   ]
  },
  {
   "cell_type": "markdown",
   "id": "9e087e6e",
   "metadata": {},
   "source": [
    "&emsp;&emsp;`ratings.csv`数据连接用户（由`userId`给出）和电影（由`movieId`给出），并定义给定用户如何对特定电影进行评分（`rating`）。 为简单起见，我们不使用额外的时间戳信息（`timestamp`）。"
   ]
  },
  {
   "cell_type": "code",
   "execution_count": null,
   "id": "2fecb5ee",
   "metadata": {},
   "outputs": [],
   "source": []
  },
  {
   "cell_type": "markdown",
   "id": "667280ee",
   "metadata": {},
   "source": [
    "&emsp;&emsp;为了以`PyG`数据格式表示此数据，我们首先定义了一个方法`load_node_csv()`, 该方法读取`*.csv`文件并返回形状为`[num_nodes, num_features]`的节点级特征表示`x`。"
   ]
  },
  {
   "cell_type": "code",
   "execution_count": 4,
   "id": "ee6ba3a7",
   "metadata": {},
   "outputs": [],
   "source": [
    "import torch\n",
    "\n",
    "def load_node_csv(path, index_col, encoders=None, **kwargs):\n",
    "    df = pd.read_csv(path, index_col=index_col, **kwargs)\n",
    "    \"\"\"\n",
    "    df=pd.read_csv(rating_path).head(5)\n",
    "    df.index # RangeIndex(start=0, stop=5, step=1)\n",
    "    df.index.unique() # Int64Index([0, 1, 2, 3, 4], dtype='int64')\n",
    "    \"\"\"\n",
    "    mapping = {index: i for i, index in enumerate(df.index.unique())}\n",
    "\n",
    "    x = None\n",
    "    if encoders is not None:\n",
    "        # encoders.itmes() 每次迭代返回元组对象(key,element)\n",
    "        xs = [encoder(df[col]) for col, encoder in encoders.items()]\n",
    "        x = torch.cat(xs, dim=-1)\n",
    "\n",
    "    return x, mapping"
   ]
  },
  {
   "cell_type": "markdown",
   "id": "7ef0b54c",
   "metadata": {},
   "source": [
    "&emsp;&emsp;此处，`load_node_csv()`从路径读取`*.csv`文件，并创建一个字典映射，将其索引列映射到`{ 0, ..., num_rows - 1 }`范围内的连续值。这是必需的，因为我们希望我们的最终数据表示尽可能紧凑，例如，第一行中电影的表示应该可以通过`x[0]`访问。"
   ]
  },
  {
   "cell_type": "markdown",
   "id": "532823bb",
   "metadata": {},
   "source": [
    "&emsp;&emsp;我们进一步利用了编码器的概念，它定义了如何将特定列的值编码为数字特征表示。例如，我们可以定义一个句子编码器，将原始列字符串编码为低维嵌入。为此，我们利用了优秀的句子转换器库，该库提供了大量最先进的预训练`NLP`嵌入模型：\n",
    "\n",
    "```bash\n",
    "pip install sentence-transformers\n",
    "\n",
    "```"
   ]
  },
  {
   "cell_type": "code",
   "execution_count": 6,
   "id": "269fa897",
   "metadata": {},
   "outputs": [
    {
     "ename": "ModuleNotFoundError",
     "evalue": "No module named 'sentence_transformers'",
     "output_type": "error",
     "traceback": [
      "\u001b[0;31m---------------------------------------------------------------------------\u001b[0m",
      "\u001b[0;31mModuleNotFoundError\u001b[0m                       Traceback (most recent call last)",
      "\u001b[0;32m/var/folders/62/8d2vj9r962zftg9n42v8j4n40000gn/T/ipykernel_16200/1550314055.py\u001b[0m in \u001b[0;36m<module>\u001b[0;34m\u001b[0m\n\u001b[0;32m----> 1\u001b[0;31m \u001b[0;32mfrom\u001b[0m \u001b[0msentence_transformers\u001b[0m \u001b[0;32mimport\u001b[0m \u001b[0mSentenceTransformer\u001b[0m\u001b[0;34m\u001b[0m\u001b[0;34m\u001b[0m\u001b[0m\n\u001b[0m\u001b[1;32m      2\u001b[0m \u001b[0;34m\u001b[0m\u001b[0m\n\u001b[1;32m      3\u001b[0m \u001b[0;32mclass\u001b[0m \u001b[0mSequenceEncoder\u001b[0m\u001b[0;34m(\u001b[0m\u001b[0mobject\u001b[0m\u001b[0;34m)\u001b[0m\u001b[0;34m:\u001b[0m\u001b[0;34m\u001b[0m\u001b[0;34m\u001b[0m\u001b[0m\n\u001b[1;32m      4\u001b[0m     \u001b[0;32mdef\u001b[0m \u001b[0m__init__\u001b[0m\u001b[0;34m(\u001b[0m\u001b[0mself\u001b[0m\u001b[0;34m,\u001b[0m \u001b[0mmodel_name\u001b[0m\u001b[0;34m=\u001b[0m\u001b[0;34m'all-MiniLM-L6-v2'\u001b[0m\u001b[0;34m,\u001b[0m \u001b[0mdevice\u001b[0m\u001b[0;34m=\u001b[0m\u001b[0;32mNone\u001b[0m\u001b[0;34m)\u001b[0m\u001b[0;34m:\u001b[0m\u001b[0;34m\u001b[0m\u001b[0;34m\u001b[0m\u001b[0m\n\u001b[1;32m      5\u001b[0m         \u001b[0mself\u001b[0m\u001b[0;34m.\u001b[0m\u001b[0mdevice\u001b[0m \u001b[0;34m=\u001b[0m \u001b[0mdevice\u001b[0m\u001b[0;34m\u001b[0m\u001b[0;34m\u001b[0m\u001b[0m\n",
      "\u001b[0;31mModuleNotFoundError\u001b[0m: No module named 'sentence_transformers'"
     ]
    }
   ],
   "source": [
    "from sentence_transformers import SentenceTransformer\n",
    "\n",
    "class SequenceEncoder(object):\n",
    "    def __init__(self, model_name='all-MiniLM-L6-v2', device=None):\n",
    "        self.device = device\n",
    "        self.model = SentenceTransformer(model_name, device=device)\n",
    "\n",
    "    @torch.no_grad() # 禁用梯度, 前向计算节省显存\n",
    "    def __call__(self, df):\n",
    "        x = self.model.encode(df.values, show_progress_bar=True,\n",
    "                              convert_to_tensor=True, device=self.device)\n",
    "        return x.cpu()\n"
   ]
  },
  {
   "cell_type": "markdown",
   "id": "c7cd5dca",
   "metadata": {},
   "source": [
    "&emsp;&emsp;`SequenceEncoder`类加载由`model_name`给定的预训练`NLP`模型，并使用它将字符串列表编码为形状为`[num_strings, embedding_dim]`的 `PyTorch`张量。 我们可以使用这个`SequenceEncoder`来编码`movies.csv`文件的标题；"
   ]
  },
  {
   "cell_type": "markdown",
   "id": "2dda44a8",
   "metadata": {},
   "source": [
    "&emsp;&emsp;以类似的方式，我们可以创建另一个编码器，将电影类型（例如 Adventure|Children|Fantasy）转换为分类标签。 为此，我们首先需要找到数据中存在的所有现有流派，创建形状为`[num_movies, num_genres]`的特征表示`x`，并为`x[i, j]`分配`1`，以表示电影`i`中存在流派`j` ："
   ]
  },
  {
   "cell_type": "code",
   "execution_count": 7,
   "id": "71ad04b7",
   "metadata": {},
   "outputs": [],
   "source": [
    "class GenresEncoder(object):\n",
    "    def __init__(self, sep='|'):\n",
    "        self.sep = sep\n",
    "\n",
    "    def __call__(self, df):\n",
    "        genres = set(g for col in df.values for g in col.split(self.sep))\n",
    "        mapping = {genre: i for i, genre in enumerate(genres)}\n",
    "\n",
    "        x = torch.zeros(len(df), len(mapping)) # [num_movies, num_genres]\n",
    "        for i, col in enumerate(df.values):\n",
    "            for genre in col.split(self.sep):\n",
    "                x[i, mapping[genre]] = 1\n",
    "        return x"
   ]
  },
  {
   "cell_type": "markdown",
   "id": "fb70fa99",
   "metadata": {},
   "source": [
    "&emsp;&emsp;有了这个，我们可以通过以下方式获得电影的最终表示："
   ]
  },
  {
   "cell_type": "code",
   "execution_count": 8,
   "id": "0d637b62",
   "metadata": {},
   "outputs": [
    {
     "ename": "NameError",
     "evalue": "name 'SequenceEncoder' is not defined",
     "output_type": "error",
     "traceback": [
      "\u001b[0;31m---------------------------------------------------------------------------\u001b[0m",
      "\u001b[0;31mNameError\u001b[0m                                 Traceback (most recent call last)",
      "\u001b[0;32m/var/folders/62/8d2vj9r962zftg9n42v8j4n40000gn/T/ipykernel_16200/1907690449.py\u001b[0m in \u001b[0;36m<module>\u001b[0;34m\u001b[0m\n\u001b[1;32m      1\u001b[0m movie_x, movie_mapping = load_node_csv(\n\u001b[1;32m      2\u001b[0m     movie_path, index_col='movieId', encoders={\n\u001b[0;32m----> 3\u001b[0;31m         \u001b[0;34m'title'\u001b[0m\u001b[0;34m:\u001b[0m \u001b[0mSequenceEncoder\u001b[0m\u001b[0;34m(\u001b[0m\u001b[0;34m)\u001b[0m\u001b[0;34m,\u001b[0m\u001b[0;34m\u001b[0m\u001b[0;34m\u001b[0m\u001b[0m\n\u001b[0m\u001b[1;32m      4\u001b[0m         \u001b[0;34m'genres'\u001b[0m\u001b[0;34m:\u001b[0m \u001b[0mGenresEncoder\u001b[0m\u001b[0;34m(\u001b[0m\u001b[0;34m)\u001b[0m\u001b[0;34m\u001b[0m\u001b[0;34m\u001b[0m\u001b[0m\n\u001b[1;32m      5\u001b[0m     })\n",
      "\u001b[0;31mNameError\u001b[0m: name 'SequenceEncoder' is not defined"
     ]
    }
   ],
   "source": [
    "movie_x, movie_mapping = load_node_csv(\n",
    "    movie_path, index_col='movieId', encoders={\n",
    "        'title': SequenceEncoder(),\n",
    "        'genres': GenresEncoder()\n",
    "    })"
   ]
  },
  {
   "cell_type": "markdown",
   "id": "37b27fff",
   "metadata": {},
   "source": [
    "&emsp;&emsp;同样，我们也可以利用 load_node_csv() 来获取从 userId 到连续值的用户映射。 但是，此数据集中的用户没有其他特征信息。 因此，我们没有定义任何编码器："
   ]
  },
  {
   "cell_type": "code",
   "execution_count": 9,
   "id": "2c791501",
   "metadata": {},
   "outputs": [],
   "source": [
    "_, user_mapping = load_node_csv(rating_path, index_col='userId')"
   ]
  },
  {
   "cell_type": "markdown",
   "id": "da520c81",
   "metadata": {},
   "source": [
    "&emsp;&emsp;有了这个，我们准备初始化我们的 HeteroData 对象并将两种节点类型传递给它："
   ]
  },
  {
   "cell_type": "code",
   "execution_count": 10,
   "id": "14afdf34",
   "metadata": {},
   "outputs": [
    {
     "ename": "ImportError",
     "evalue": "cannot import name 'HeteroData' from 'torch_geometric.data' (/Users/hezhiqiang01/Desktop/anaconda/anaconda3/envs/ecole/lib/python3.9/site-packages/torch_geometric/data/__init__.py)",
     "output_type": "error",
     "traceback": [
      "\u001b[0;31m---------------------------------------------------------------------------\u001b[0m",
      "\u001b[0;31mImportError\u001b[0m                               Traceback (most recent call last)",
      "\u001b[0;32m/var/folders/62/8d2vj9r962zftg9n42v8j4n40000gn/T/ipykernel_16200/4043233563.py\u001b[0m in \u001b[0;36m<module>\u001b[0;34m\u001b[0m\n\u001b[0;32m----> 1\u001b[0;31m \u001b[0;32mfrom\u001b[0m \u001b[0mtorch_geometric\u001b[0m\u001b[0;34m.\u001b[0m\u001b[0mdata\u001b[0m \u001b[0;32mimport\u001b[0m \u001b[0mHeteroData\u001b[0m\u001b[0;34m\u001b[0m\u001b[0;34m\u001b[0m\u001b[0m\n\u001b[0m\u001b[1;32m      2\u001b[0m \u001b[0;34m\u001b[0m\u001b[0m\n\u001b[1;32m      3\u001b[0m \u001b[0mdata\u001b[0m \u001b[0;34m=\u001b[0m \u001b[0mHeteroData\u001b[0m\u001b[0;34m(\u001b[0m\u001b[0;34m)\u001b[0m\u001b[0;34m\u001b[0m\u001b[0;34m\u001b[0m\u001b[0m\n\u001b[1;32m      4\u001b[0m \u001b[0;34m\u001b[0m\u001b[0m\n\u001b[1;32m      5\u001b[0m \u001b[0mdata\u001b[0m\u001b[0;34m[\u001b[0m\u001b[0;34m'user'\u001b[0m\u001b[0;34m]\u001b[0m\u001b[0;34m.\u001b[0m\u001b[0mnum_nodes\u001b[0m \u001b[0;34m=\u001b[0m \u001b[0mlen\u001b[0m\u001b[0;34m(\u001b[0m\u001b[0muser_mapping\u001b[0m\u001b[0;34m)\u001b[0m  \u001b[0;31m# Users do not have any features.\u001b[0m\u001b[0;34m\u001b[0m\u001b[0;34m\u001b[0m\u001b[0m\n",
      "\u001b[0;31mImportError\u001b[0m: cannot import name 'HeteroData' from 'torch_geometric.data' (/Users/hezhiqiang01/Desktop/anaconda/anaconda3/envs/ecole/lib/python3.9/site-packages/torch_geometric/data/__init__.py)"
     ]
    }
   ],
   "source": [
    "from torch_geometric.data import HeteroData\n",
    "\n",
    "data = HeteroData()\n",
    "\n",
    "data['user'].num_nodes = len(user_mapping)  # Users do not have any features.\n",
    "data['movie'].x = movie_x\n",
    "\n",
    "print(data)\n",
    "\"\"\"\n",
    "HeteroData(\n",
    "  user={ num_nodes=610 },\n",
    "  movie={ x[9742, 404] }\n",
    ")\n",
    "\"\"\"\n"
   ]
  },
  {
   "cell_type": "markdown",
   "id": "194b2752",
   "metadata": {},
   "source": [
    "&emsp;&emsp;由于用户没有任何节点级别的信息，我们仅定义其节点数。 因此，在训练异构图模型期间，我们可能需要通过`torch.nn.Embedding`以端到端的方式学习不同的用户嵌入。\n",
    "\n",
    "&emsp;&emsp;接下来，我们看看将用户与他们的评级定义的电影联系起来。 为此，我们定义了一个方法`load_edge_csv()`，该方法从`ratings.csv`返回形状`[2, num_ratings]`的最终`edge_index`表示，以及原始`*.csv`文件中存在的任何其他特征："
   ]
  },
  {
   "cell_type": "code",
   "execution_count": 11,
   "id": "29e969ab",
   "metadata": {},
   "outputs": [],
   "source": [
    "def load_edge_csv(path, src_index_col, src_mapping, dst_index_col, dst_mapping,\n",
    "                  encoders=None, **kwargs):\n",
    "    df = pd.read_csv(path, **kwargs)\n",
    "\n",
    "    src = [src_mapping[index] for index in df[src_index_col]]\n",
    "    dst = [dst_mapping[index] for index in df[dst_index_col]]\n",
    "    edge_index = torch.tensor([src, dst])\n",
    "\n",
    "    edge_attr = None\n",
    "    if encoders is not None:\n",
    "        edge_attrs = [encoder(df[col]) for col, encoder in encoders.items()]\n",
    "        edge_attr = torch.cat(edge_attrs, dim=-1)\n",
    "\n",
    "    return edge_index, edge_attr"
   ]
  },
  {
   "cell_type": "code",
   "execution_count": null,
   "id": "f9956fbd",
   "metadata": {},
   "outputs": [],
   "source": []
  },
  {
   "cell_type": "code",
   "execution_count": null,
   "id": "afb5734f",
   "metadata": {},
   "outputs": [],
   "source": []
  },
  {
   "cell_type": "code",
   "execution_count": null,
   "id": "7ff0126b",
   "metadata": {},
   "outputs": [],
   "source": []
  }
 ],
 "metadata": {
  "kernelspec": {
   "display_name": "ecole",
   "language": "python",
   "name": "ecole"
  },
  "language_info": {
   "codemirror_mode": {
    "name": "ipython",
    "version": 3
   },
   "file_extension": ".py",
   "mimetype": "text/x-python",
   "name": "python",
   "nbconvert_exporter": "python",
   "pygments_lexer": "ipython3",
   "version": "3.9.6"
  },
  "toc": {
   "base_numbering": 1,
   "nav_menu": {},
   "number_sections": true,
   "sideBar": true,
   "skip_h1_title": false,
   "title_cell": "Table of Contents",
   "title_sidebar": "Contents",
   "toc_cell": false,
   "toc_position": {},
   "toc_section_display": true,
   "toc_window_display": true
  }
 },
 "nbformat": 4,
 "nbformat_minor": 5
}
