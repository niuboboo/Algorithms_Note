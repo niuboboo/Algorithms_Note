{
 "cells": [
  {
   "cell_type": "markdown",
   "id": "58bbcd46",
   "metadata": {},
   "source": [
    "## 简介\n",
    "\n",
    "PyTorch Geometric Library (简称 PyG) 是一个基于 PyTorch 的图神经网络库，地址是：https://github.com/rusty1s/pytorch_geometric。\n",
    "\n",
    "安装网址在: https://pytorch-geometric.readthedocs.io/en/latest/notes/installation.html\n",
    "\n",
    "相比于简单的文本和图像，这种网络类型的非结构化的数据非常复杂，处理它的难点包括：\n",
    "\n",
    "1. 图的大小是任意的，图的拓扑结构复杂，没有像图像一样的空间局部性。\n",
    "\n",
    "2. 图没有固定的节点顺序，或者说没有一个参考节点。\n",
    "\n",
    "3. 图经常是动态图，而且包含多模态的特征。\n",
    "\n",
    "\n",
    "比较好的教程：\n",
    "\n",
    "- [PytorchGeometricTutorial](https://github.com/AntonioLonga/PytorchGeometricTutorial)"
   ]
  },
  {
   "cell_type": "markdown",
   "id": "c996a169",
   "metadata": {},
   "source": [
    "## torch_geometric.data.Data\n",
    "\n",
    "在`PyG`中，如果想要构建图，我们需要两个要素：节点和边。`PyG`提供了`torch_geometric.data.Data()`用来构建图，包括`5`个属性，每一个属性都不是必须的，可以为空。\n",
    "\n",
    "1. `x`：用于存储每个节点的特征，形状是`[num_nodes, num_node_features]`，行表示节点个数，列表示每个节点对应的特征个数。\n",
    "\n",
    "2. `edge_index`: 用于存储节点之间的边，形状是`[2, num_edges]`，表示的是每条边对应的两个节点。节点连接信息要以`COO`格式进行存储。在`COO`格式中，`COO list`是一个`2*E`维的`list`。第一个维度的节点是源节点(`source nodes`)，第二个维度中是目标节点(`target nodes`)，连接方式是由源节点指向目标节点。对于无向图来说，存贮的`source nodes`和`target node`是成对存在的。\n",
    "\n",
    "3. `pos`: 存储节点的坐标，形状是`[num_nodes, num_dimensions]`。\n",
    "\n",
    "4. `y`: 存储样本标签。如果是每个节点都有标签，那么形状是`[num_nodes, *]`；如果是整张图只有一个标签，那么形状是`[1, *]`。\n",
    "\n",
    "5. `edge_attr`: 存储边的特征。形状是`[num_edges, num_edge_features]`。"
   ]
  },
  {
   "cell_type": "markdown",
   "id": "4298216c",
   "metadata": {},
   "source": [
    "实际上，Data对象不仅仅限制于这些属性，我们可以通过data.face来扩展Data，以张量保存三维网格中三角形的连接性。\n",
    "\n",
    "下面这个例子是未加权无向图(未加权指的是边上没有权值)，包括3个节点和4条边。\n",
    "\n",
    "<img src=\"../../images/12-graph_example1.png\" width=\"40%\">\n",
    "\n",
    "由于是无向图，因此有4条边：(0 -> 1), (1 -> 0), (1 -> 2), (2 -> 1)。每个节点都有自己的特征，上面这个图可以使用`torch_geometric.data.Data`来表示如下："
   ]
  },
  {
   "cell_type": "code",
   "execution_count": 1,
   "id": "80832742",
   "metadata": {},
   "outputs": [
    {
     "data": {
      "text/plain": [
       "Data(edge_index=[2, 4], x=[3, 1])"
      ]
     },
     "execution_count": 1,
     "metadata": {},
     "output_type": "execute_result"
    }
   ],
   "source": [
    "import torch\n",
    "from torch_geometric.data import Data\n",
    "# 由于是无向图，因此有 4 条边：(0 -> 1), (1 -> 0), (1 -> 2), (2 -> 1)\n",
    "edge_index = torch.tensor([[0, 1, 1, 2],\n",
    "                           [1, 0, 2, 1]], dtype=torch.long)\n",
    "# 节点的特征                           \n",
    "x = torch.tensor([[-1], [0], [1]], dtype=torch.float)\n",
    "\n",
    "data = Data(x=x, edge_index=edge_index)\n",
    "data"
   ]
  },
  {
   "cell_type": "markdown",
   "id": "30d7a48e",
   "metadata": {},
   "source": [
    "对于edge_index的表示，也可以换一种写法："
   ]
  },
  {
   "cell_type": "code",
   "execution_count": 2,
   "id": "24b5de1b",
   "metadata": {},
   "outputs": [
    {
     "data": {
      "text/plain": [
       "Data(edge_index=[2, 4], x=[3, 1])"
      ]
     },
     "execution_count": 2,
     "metadata": {},
     "output_type": "execute_result"
    }
   ],
   "source": [
    "import torch\n",
    "from torch_geometric.data import Data\n",
    "\n",
    "edge_index = torch.tensor([[0, 1],\n",
    "                           [1, 0],\n",
    "                           [1, 2],\n",
    "                           [2, 1]], dtype=torch.long)\n",
    "x = torch.tensor([[-1], [0], [1]], dtype=torch.float)\n",
    "\n",
    "data = Data(x=x, edge_index=edge_index.t().contiguous())\n",
    "data"
   ]
  },
  {
   "cell_type": "markdown",
   "id": "b7aec112",
   "metadata": {},
   "source": [
    "但是需要先将edge_index转置，然后调用contiguous()方法来使得其在内存空间中是连续的，更多的可以参考https://zhuanlan.zhihu.com/p/64551412。\n",
    "\n",
    "最后再复习一遍，Data中最基本的 4 个属性是x、edge_index、pos、y，我们一般都需要这 4 个参数。"
   ]
  },
  {
   "cell_type": "markdown",
   "id": "70a1d06b",
   "metadata": {},
   "source": [
    "除此之外，Data还提供了一些有用的函数:"
   ]
  },
  {
   "cell_type": "code",
   "execution_count": 3,
   "id": "2e493b53",
   "metadata": {},
   "outputs": [
    {
     "name": "stdout",
     "output_type": "stream",
     "text": [
      "['x', 'edge_index']\n",
      "tensor([[-1.],\n",
      "        [ 0.],\n",
      "        [ 1.]])\n",
      "edge_index is in data\n",
      "x is in data\n",
      "3\n",
      "4\n",
      "1\n"
     ]
    }
   ],
   "source": [
    "print(data.keys)\n",
    "print(data['x'])\n",
    "for key, item in data:\n",
    "    print(\"{} is in data\".format(key))\n",
    "print(data.num_nodes) # 查看节点个数\n",
    "print(data.num_edges) # 查看边的个数\n",
    "print(data.num_node_features) # 查看节点的特征数\n",
    "# print(data.has_isolated_nodes())  # 是否有孤立节点\n",
    "# print(data.has_self_loops())  # 是否有环\n",
    "# print(data.is_directed())  # \n",
    "\n",
    "# Transfer data object to GPU.\n",
    "# device = torch.device('cuda')\n",
    "# data = data.to(device)"
   ]
  },
  {
   "cell_type": "markdown",
   "id": "1e943a7b",
   "metadata": {},
   "source": [
    "## Dataset 与 DataLoader"
   ]
  },
  {
   "cell_type": "markdown",
   "id": "aa3c59ef",
   "metadata": {},
   "source": [
    "`PyG`的`Dataset`继承自`torch.utils.data.Dataset`，自带了很多图数据集，我们以`TUDataset`为例，通过以下代码就可以加载数据集，`root`参数设置数据下载的位置。"
   ]
  },
  {
   "cell_type": "code",
   "execution_count": 4,
   "id": "2d6a1639",
   "metadata": {},
   "outputs": [
    {
     "name": "stdout",
     "output_type": "stream",
     "text": [
      "600\n",
      "6\n",
      "3\n"
     ]
    }
   ],
   "source": [
    "from torch_geometric.datasets import TUDataset\n",
    "dataset = TUDataset(root='/tmp/ENZYMES', name='ENZYMES')\n",
    "print(len(dataset))  # 图的数量。\n",
    "print(dataset.num_classes)  # 类别个数\n",
    "print(dataset.num_node_features)  # 节点特征数"
   ]
  },
  {
   "cell_type": "code",
   "execution_count": 5,
   "id": "bcca00b9",
   "metadata": {},
   "outputs": [
    {
     "name": "stdout",
     "output_type": "stream",
     "text": [
      "Data(edge_index=[2, 168], x=[37, 3], y=[1])\n",
      "True\n"
     ]
    }
   ],
   "source": [
    "data = dataset[0]\n",
    "print(data)\n",
    "print(data.is_undirected())"
   ]
  },
  {
   "cell_type": "markdown",
   "id": "aac40f0f",
   "metadata": {},
   "source": [
    "可以看到，第一张图中包含了37个节点，每个节点有3个特征，总共有168/2=84条无向边，整个的这张图为一个类别。\n",
    "\n",
    "我们可以用切片的方式对数据集进行切分\n"
   ]
  },
  {
   "cell_type": "code",
   "execution_count": 6,
   "id": "a67a9c21",
   "metadata": {},
   "outputs": [
    {
     "name": "stdout",
     "output_type": "stream",
     "text": [
      "540\n",
      "60\n"
     ]
    }
   ],
   "source": [
    "dataset = dataset.shuffle() # 打乱数据。\n",
    "\n",
    "train_dataset = dataset[:540]\n",
    "test_dataset = dataset[540:]\n",
    "print(len(train_dataset))\n",
    "print(len(test_dataset))"
   ]
  },
  {
   "cell_type": "markdown",
   "id": "3cdd6326",
   "metadata": {},
   "source": [
    "## Mini-Batches"
   ]
  },
  {
   "cell_type": "markdown",
   "id": "75ad7f22",
   "metadata": {},
   "source": [
    "`PyG`通过创建稀疏的对角邻接矩阵，并在节点维度中连接**特征矩阵**和**label**矩阵，实现了在`mini-batch`的并行化。\n",
    "\n",
    "把一个batch的所有图都拼接在一起形成一个大图。\n",
    "\n",
    "$$\n",
    "\\mathbf{A}=\\left[\\begin{array}{ccc}\n",
    "\\mathbf{A}_{1} & & \\\\\n",
    "& \\ddots & \\\\\n",
    "& & \\mathbf{A}_{n}\n",
    "\\end{array}\\right], \\quad \\mathbf{X}=\\left[\\begin{array}{c}\n",
    "\\mathbf{X}_{1} \\\\\n",
    "\\vdots \\\\\n",
    "\\mathbf{X}_{n}\n",
    "\\end{array}\\right], \\quad \\mathbf{Y}=\\left[\\begin{array}{c}\n",
    "\\mathbf{Y}_{1} \\\\\n",
    "\\vdots \\\\\n",
    "\\mathbf{Y}_{n}\n",
    "\\end{array}\\right]\n",
    "$$\n",
    "\n",
    "当然在这个大图里面，来自不同样本的节点之间是不存在连接的。torch_geometric.data.DataLoader 类帮我们实现好了batch里面样本的拼接过程，我们直接拿来用就可以了。"
   ]
  },
  {
   "cell_type": "code",
   "execution_count": 7,
   "id": "3469b68d",
   "metadata": {},
   "outputs": [
    {
     "name": "stdout",
     "output_type": "stream",
     "text": [
      "Batch(batch=[1002], edge_index=[2, 3948], ptr=[33], x=[1002, 21], y=[32])\n",
      "tensor([ 0,  0,  0,  ..., 31, 31, 31])\n",
      "1002\n"
     ]
    }
   ],
   "source": [
    "from torch_geometric.datasets import TUDataset\n",
    "from torch_geometric.data import DataLoader\n",
    "\n",
    "dataset = TUDataset(root='/tmp/ENZYMES', name='ENZYMES', use_node_attr=True)\n",
    "loader = DataLoader(dataset, batch_size=32, shuffle=True)\n",
    "Is_Print = True\n",
    "for batch in loader:\n",
    "    batch\n",
    "    if Is_Print:\n",
    "        print(batch)\n",
    "        # >>> Batch(batch=[1082], edge_index=[2, 4066], x=[1082, 21], y=[32])\n",
    "        print(batch.batch)\n",
    "        print(len(batch.batch))\n",
    "        Is_Print = False\n",
    "    batch.num_graphs\n",
    "    # >>> 32"
   ]
  },
  {
   "cell_type": "markdown",
   "id": "f15bee26",
   "metadata": {},
   "source": [
    "此外每个`batch`还有一个特殊的列向量：`batch.batch`，它表示在这个批次的大图里面，各个节点在这个批次的第几个子图里面。"
   ]
  },
  {
   "cell_type": "code",
   "execution_count": 8,
   "id": "cc6a4377",
   "metadata": {},
   "outputs": [
    {
     "name": "stdout",
     "output_type": "stream",
     "text": [
      "torch.Size([32, 21])\n",
      "torch.Size([32, 21])\n",
      "torch.Size([32, 21])\n",
      "torch.Size([32, 21])\n",
      "torch.Size([32, 21])\n",
      "torch.Size([32, 21])\n",
      "torch.Size([32, 21])\n",
      "torch.Size([32, 21])\n",
      "torch.Size([32, 21])\n",
      "torch.Size([32, 21])\n",
      "torch.Size([32, 21])\n",
      "torch.Size([32, 21])\n",
      "torch.Size([32, 21])\n",
      "torch.Size([32, 21])\n",
      "torch.Size([32, 21])\n",
      "torch.Size([32, 21])\n",
      "torch.Size([32, 21])\n",
      "torch.Size([32, 21])\n",
      "torch.Size([24, 21])\n"
     ]
    }
   ],
   "source": [
    "from torch_scatter import scatter_mean\n",
    "from torch_geometric.datasets import TUDataset\n",
    "from torch_geometric.data import DataLoader\n",
    "\n",
    "dataset = TUDataset(root='/tmp/ENZYMES', name='ENZYMES', use_node_attr=True)\n",
    "loader = DataLoader(dataset, batch_size=32, shuffle=True)\n",
    "\n",
    "for data in loader:\n",
    "    data\n",
    "    # >>> Batch(batch=[1082], edge_index=[2, 4066], x=[1082, 21], y=[32])\n",
    "\n",
    "    data.num_graphs\n",
    "    # >>> 32\n",
    "    # scatter函数比较复杂，细节之后解释；总之效果为按照顶点属于哪张图，将属于同张图中的顶点计算所有顶点x的特征平均值，存储在变量x中\n",
    "    x = scatter_mean(data.x, data.batch, dim=0)\n",
    "    print(x.size())\n",
    "    \n",
    "    # >>> torch.Size([32, 21])"
   ]
  },
  {
   "cell_type": "markdown",
   "id": "e9d22019",
   "metadata": {},
   "source": [
    "## 实战一个图神经网络"
   ]
  },
  {
   "cell_type": "code",
   "execution_count": 9,
   "id": "fe9e7f99",
   "metadata": {},
   "outputs": [
    {
     "name": "stdout",
     "output_type": "stream",
     "text": [
      "Cora()\n"
     ]
    }
   ],
   "source": [
    "for i in range(100): # 循环下载\n",
    "    try:\n",
    "        from torch_geometric.datasets import Planetoid\n",
    "        dataset = Planetoid(root='.\\data\\Cora', name='Cora')\n",
    "    except:\n",
    "        print('pass')\n",
    "# from torch_geometric.datasets import Planetoid\n",
    "# dataset = Planetoid(root='/tmp/Cora', name='Cora')\n",
    "print(dataset)"
   ]
  },
  {
   "cell_type": "code",
   "execution_count": 10,
   "id": "90a18cf7",
   "metadata": {},
   "outputs": [],
   "source": [
    "import torch\n",
    "import torch.nn.functional as F\n",
    "from torch_geometric.nn import GCNConv"
   ]
  },
  {
   "cell_type": "code",
   "execution_count": 11,
   "id": "de9362c3",
   "metadata": {},
   "outputs": [],
   "source": [
    "class GCN(torch.nn.Module):\n",
    "    def __init__(self):\n",
    "        super().__init__()\n",
    "        self.conv1 = GCNConv(dataset.num_node_features, 16)\n",
    "        self.conv2 = GCNConv(16, dataset.num_classes)\n",
    "        \n",
    "    def forward(self, data):\n",
    "        x, edge_index = data.x, data.edge_index\n",
    "        \n",
    "        x = self.conv1(x, edge_index)\n",
    "        x = F.relu(x)\n",
    "        x = F.dropout(x, training=self.training)\n",
    "        x = self.conv2(x, edge_index)\n",
    "        return F.log_softmax(x, dim=1)"
   ]
  },
  {
   "cell_type": "code",
   "execution_count": 12,
   "id": "aead12bd",
   "metadata": {},
   "outputs": [
    {
     "name": "stdout",
     "output_type": "stream",
     "text": [
      "Data(edge_index=[2, 10556], test_mask=[2708], train_mask=[2708], val_mask=[2708], x=[2708, 1433], y=[2708])\n"
     ]
    }
   ],
   "source": [
    "device = torch.device('cuda' if torch.cuda.is_available() else 'cpu')\n",
    "model = GCN().to(device)\n",
    "data = dataset[0].to(device)\n",
    "optimizer = torch.optim.Adam(model.parameters(), lr=0.01, weight_decay=5e-4)\n",
    "print(data)\n",
    "model.train()\n",
    "for epoch in range(200):\n",
    "    optimizer.zero_grad()\n",
    "    out = model(data)\n",
    "    loss = F.nll_loss(out[data.train_mask], data.y[data.train_mask])\n",
    "    loss.backward()\n",
    "    optimizer.step()"
   ]
  },
  {
   "cell_type": "markdown",
   "id": "a89d82f8",
   "metadata": {},
   "source": [
    "`train_mask`——指明训练集中的节点（可以看到，在这个数据集中，训练集里有`140`个节点）\n",
    "\n",
    "`val_mask`——指明验证集中的节点（可以看到，在这个数据集中，验证集里有`500`个节点）\n",
    "\n",
    "`test_mask`——指明测试集中的节点（可以看到，在这个数据集中，测试集里有`1000`个节点）"
   ]
  },
  {
   "cell_type": "markdown",
   "id": "99d4c9ee",
   "metadata": {},
   "source": [
    "测试"
   ]
  },
  {
   "cell_type": "code",
   "execution_count": 13,
   "id": "6ad1f5a0",
   "metadata": {},
   "outputs": [
    {
     "name": "stdout",
     "output_type": "stream",
     "text": [
      "Accuracy: 0.8010\n"
     ]
    }
   ],
   "source": [
    "model.eval()\n",
    "pred = model(data).argmax(dim=1)\n",
    "correct = (pred[data.test_mask] == data.y[data.test_mask]).sum()\n",
    "acc = int(correct) / int(data.test_mask.sum())\n",
    "print('Accuracy: {:.4f}'.format(acc))"
   ]
  },
  {
   "cell_type": "code",
   "execution_count": null,
   "id": "89dba292",
   "metadata": {},
   "outputs": [],
   "source": []
  }
 ],
 "metadata": {
  "kernelspec": {
   "display_name": "ecole",
   "language": "python",
   "name": "ecole"
  },
  "language_info": {
   "codemirror_mode": {
    "name": "ipython",
    "version": 3
   },
   "file_extension": ".py",
   "mimetype": "text/x-python",
   "name": "python",
   "nbconvert_exporter": "python",
   "pygments_lexer": "ipython3",
   "version": "3.9.6"
  },
  "toc": {
   "base_numbering": 1,
   "nav_menu": {},
   "number_sections": true,
   "sideBar": true,
   "skip_h1_title": false,
   "title_cell": "Table of Contents",
   "title_sidebar": "Contents",
   "toc_cell": false,
   "toc_position": {},
   "toc_section_display": true,
   "toc_window_display": true
  }
 },
 "nbformat": 4,
 "nbformat_minor": 5
}
