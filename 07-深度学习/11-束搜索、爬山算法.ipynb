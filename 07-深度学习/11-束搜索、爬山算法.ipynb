{
 "cells": [
  {
   "cell_type": "markdown",
   "id": "d8b7fc61",
   "metadata": {},
   "source": [
    "&emsp;&emsp;在`seq2seq`中，我们使用了贪心搜索来预测序列，也就是将当前时刻预测概率最大的词输出。但是贪心很可能不是最优的。\n",
    "\n",
    "&emsp;&emsp;**最优算法**：对所有可能的序列，计算它的概率，然后选取最好的那个。如果输出字典大小为$n$，序列最长为$T$，那我们需要考察$n^{T}$个序列。$n = 10000$, $T = 10$, $n^{T} = 10^{40}$，计算上是不可行的。"
   ]
  },
  {
   "cell_type": "markdown",
   "id": "00319fe2",
   "metadata": {},
   "source": [
    "## 束搜索 (beam search)"
   ]
  },
  {
   "cell_type": "markdown",
   "id": "488bd0f6",
   "metadata": {},
   "source": [
    "&emsp;&emsp;`beam search`是保存最好的$k$个候选，在每个时刻，对每个候选新加一项($n$种可能)，在$kn$个选项中选出最好的$k$个。\n",
    "\n",
    "具体思路是:\n",
    "\n",
    "&emsp;&emsp;束搜索(`beam search`)是贪心搜索的一个改进版本。它有一个超参数，名为束宽(`beam size`) $k$。在时间步`1`，我们选择具有最高条件概率的$k$个词元。这个$k$个词元将分别是$k$个候选输出序列的第一个词元。在随后的每个时间步上，基于上一时间步的$k$个候选输出序列，我们将继续从$k |\\mathcal(Y)|$个可能的选择中挑选出具有最高条件概率的$k$个候选输出序列。"
   ]
  },
  {
   "cell_type": "markdown",
   "id": "d7181e38",
   "metadata": {},
   "source": [
    "## 爬山算法"
   ]
  },
  {
   "cell_type": "code",
   "execution_count": null,
   "id": "0b686f93",
   "metadata": {},
   "outputs": [],
   "source": []
  },
  {
   "cell_type": "code",
   "execution_count": null,
   "id": "043ef0f7",
   "metadata": {},
   "outputs": [],
   "source": []
  },
  {
   "cell_type": "code",
   "execution_count": null,
   "id": "cbf12e95",
   "metadata": {},
   "outputs": [],
   "source": []
  },
  {
   "cell_type": "markdown",
   "id": "60d8374f",
   "metadata": {},
   "source": [
    "## 代码实现"
   ]
  },
  {
   "cell_type": "markdown",
   "id": "37b32a5a",
   "metadata": {},
   "source": [
    "&emsp;&emsp;最大化如下目标函数:\n",
    "\n",
    "$$\n",
    "\\begin{aligned}\n",
    "&f_{1}(x, y)=\\sin (2 x)+\\cos \\left(\\frac{y}{2}\\right) \\\\\n",
    "&f_{2}(x, y)=|x-2|+|0.5 y+1|-4\n",
    "\\end{aligned}\n",
    "$$\n",
    "\n",
    "&emsp;&emsp;其中假定$0 \\leq x, y \\leq 10$。"
   ]
  },
  {
   "cell_type": "code",
   "execution_count": null,
   "id": "882b3022",
   "metadata": {},
   "outputs": [],
   "source": []
  },
  {
   "cell_type": "markdown",
   "id": "f984f328",
   "metadata": {},
   "source": [
    "&emsp;&emsp;定义两个目标函数"
   ]
  },
  {
   "cell_type": "code",
   "execution_count": null,
   "id": "195422b1",
   "metadata": {},
   "outputs": [],
   "source": [
    "import math\n",
    "\n",
    "def func1(x, y):\n",
    "    \"\"\"\n",
    "    函数1\n",
    "    \"\"\"\n",
    "    return math.sin(2 * x) + math.cos(y / 2)\n",
    "\n",
    "def func2(x, y):\n",
    "    \"\"\"\n",
    "    函数2\n",
    "    \"\"\"\n",
    "    return math.fabs(x - 2) + math.fabs(0.5 * y + 1) - 4"
   ]
  },
  {
   "cell_type": "markdown",
   "id": "56c7d485",
   "metadata": {},
   "source": [
    "### 爬山算法代码实现"
   ]
  },
  {
   "cell_type": "code",
   "execution_count": null,
   "id": "e48e8b3a",
   "metadata": {},
   "outputs": [],
   "source": [
    "def outofbounds(L):\n",
    "    \"\"\"\n",
    "    # 输入一个坐标元组的List, 挑选出里面没有越界的元组。\n",
    "    \"\"\"\n",
    "    res = []\n",
    "    for item in L:\n",
    "        x_1 = item[0]\n",
    "        y_1 = item[1]\n",
    "        if(x_1 <= 10 and x_1 >= 0 and y_1 <= 10 and y_1 >= 0):\n",
    "            res.append(item)\n",
    "    return res\n",
    "\n",
    "def nextstep(x, y, stepsize, func):\n",
    "    \"\"\"\n",
    "    # 输入当前的坐标x和y, 以及需要偏移的步长的size，和衡量函数，输出最大值和其对应的坐标。\n",
    "    \"\"\"\n",
    "    neighbours = [(x+stepsize, y),(x, y+stepsize),(x+stepsize, y+stepsize),\n",
    "                  (x-stepsize, y),(x, y-stepsize),(x-stepsize, y-stepsize),\n",
    "                  (x-stepsize, y+stepsize),(x+stepsize, y-stepsize),(x, y)]\n",
    "    \n",
    "    neighbours = outofbounds(neighbours)  # 剔除掉越界的元素。\n",
    "    \n",
    "    # 计算neighbours中每个元素的函数值，并存放在evaluate_list中。\n",
    "    evaluate_list = [func(neighbour[0], neighbour[1]) for neighbour in neighbours]\n",
    "    \n",
    "    maximum = max(evaluate_list)\n",
    "    \n",
    "    max_neighbour = neighbours[evaluate_list.index(maximum)]\n",
    "    return ((maximum, max_neighbour))"
   ]
  },
  {
   "cell_type": "code",
   "execution_count": null,
   "id": "4d5626d5",
   "metadata": {},
   "outputs": [],
   "source": [
    "stepsizes = [0.01, 0.05, 0.1, 0.2]\n",
    "allcounts = []\n",
    "\n",
    "import numpy as np\n",
    "nums_cnt = 100\n",
    "X = np.random.choice(10, nums_cnt)\n",
    "Y = np.random.choice(10, nums_cnt)\n",
    "print('X:', X)\n",
    "print('Y:', Y)"
   ]
  },
  {
   "cell_type": "code",
   "execution_count": null,
   "id": "b892aca1",
   "metadata": {},
   "outputs": [],
   "source": [
    "for j in range(0, len(stepsizes)):\n",
    "    cnt = 0  # 计数\n",
    "    difs = []\n",
    "    res = []\n",
    "    for i in range(0, nums_cnt):\n",
    "        x_1 = X[i]\n",
    "        y_1 = Y[i]\n",
    "        past_value = []  # 记录最大的值。\n",
    "        past_neigh = []  # 记录最大的值的坐标。\n",
    "        \n",
    "        while True:\n",
    "            max_value_neigh = nextstep(x_1, y_1, stepsizes[j], func1)\n",
    "            print(max_value_neigh)\n",
    "            \n",
    "            if(cnt > 5):  # 当存入了5个值的时候\n",
    "                sdifs = difs[len(difs) - 5 : len(difs)]\n",
    "                if(sum(sdifs) / len(sdifs) < 0.0001):  # 五个差值平均值小于0.0001时，判定为收敛了。\n",
    "                    print(sdifs)\n",
    "                    print('Converged!')\n",
    "                    break\n",
    "                # 坐标位置不动或者值变化小于0.001的时候，结束。\n",
    "                if(past_neigh[len(past_neigh) - 2] == max_value_neigh[1] \n",
    "                                       or math.fabs(past_value[len(past_value) - 1] - max_value_neigh[0]) < 0.001):\n",
    "                    print(\"Done\")\n",
    "                    break\n",
    "            \n",
    "            if(cnt > 1):\n",
    "                # 添加最大值的差值到difs中去。\n",
    "                difs.append(math.fabs(past_value[len(past_value) - 1] - max_value_neigh[0]))\n",
    "            \n",
    "            past_value.append(max_value_neigh[0])\n",
    "            past_neigh.append(max_value_neigh[1])\n",
    "            \n",
    "            cnt += 1\n",
    "            # 更新x, y坐标\n",
    "            x_1 = max_value_neigh[1][0]\n",
    "            y_1 = max_value_neigh[1][1]\n",
    "        res.append([X[i], Y[i], cnt, past_neigh[0]])\n",
    "        cnt = 0"
   ]
  },
  {
   "cell_type": "markdown",
   "id": "e3446832",
   "metadata": {},
   "source": [
    "### 束搜索代码实现"
   ]
  },
  {
   "cell_type": "code",
   "execution_count": null,
   "id": "cf906af7",
   "metadata": {},
   "outputs": [],
   "source": [
    "stepsizes = [0.01, 0.05, 0.1, 0.2]\n",
    "widths = [2, 4, 8, 16]\n",
    "for k in range(0, len(widths)):\n",
    "    for j in range(0, len(stepsizes)):\n",
    "        cnt = 0\n",
    "        res = []\n",
    "        for i in range(0, 100):\n",
    "            # 生成k个初始值。\n",
    "            init_x = np.random.choice(10, widths[k])\n",
    "            init_y = np.random.choice(10, widths[k])\n",
    "            \n",
    "            x_1 = init_x\n",
    "            y_1 = init_y\n",
    "            past = []\n",
    "            while True:\n",
    "                child = []\n",
    "                for i in range(0, widths[k]):\n",
    "                    n = nextstep(x_1[i], y_1[i], stepsizes[j], func2)\n",
    "                    child.append(n)\n",
    "                \n",
    "                # 排序之后取k个。\n",
    "                sort = sorted(child, key = lambda x:x[0], reverse = True)\n",
    "                sort = sort[0: widths[k]]\n",
    "                sort2 = np.array(sort)\n",
    "\n",
    "                ssum = np.sum(sort2, axis = 0)\n",
    "\n",
    "                if(cnt > 10):\n",
    "                    end = True\n",
    "                    reason = []\n",
    "                    for i in range(0, len(child)):\n",
    "                        if(past_children[i] != child[i]):\n",
    "                            end = False\n",
    "                    if(end == True):\n",
    "                        print(sort)\n",
    "                        print(\"Converged ALL\")\n",
    "                        \n",
    "                past_sort = ssum[0] / len(sort)\n",
    "                past.append(sort)\n",
    "                past_children = child\n",
    "                \n",
    "                cnt += 1\n",
    "                x_1 = [x[1][0] for x in child]\n",
    "                y_1 = [y[1][1] for y in child]\n",
    "            # ['x','y','Counts','Max']\n",
    "            res.append([x_1[i], y_1[i], cnt, sort[0][0]])\n",
    "            cnt = 0"
   ]
  },
  {
   "cell_type": "code",
   "execution_count": null,
   "id": "911dd04c",
   "metadata": {},
   "outputs": [],
   "source": [
    "#Beam Search\n",
    "def beam(x,y,width,func,stepsize):\n",
    "    init_x = [rand.randrange(0,10) for i in range(0,width)]\n",
    "    init_y = [rand.randrange(0,10) for i in range(0,width)]\n",
    "    \n",
    "    #generate children\n",
    "    x = init_x\n",
    "    y = init_y\n",
    "    \n",
    "    child=[]\n",
    "    for i in range(0,width):\n",
    "        n = nextstep(x[i],y[i],stepsize,func)\n",
    "        child.append(n)\n",
    "        \n",
    "    sort = sorted(child,key=lambda x:x[0])\n",
    "    sort = sort[0:width]\n",
    "    return(sort)"
   ]
  },
  {
   "cell_type": "code",
   "execution_count": null,
   "id": "3310356d",
   "metadata": {},
   "outputs": [],
   "source": []
  },
  {
   "cell_type": "code",
   "execution_count": null,
   "id": "768aec98",
   "metadata": {},
   "outputs": [],
   "source": []
  },
  {
   "cell_type": "markdown",
   "id": "03a422f0",
   "metadata": {},
   "source": [
    "## 参考\n",
    "\n",
    "- [Beam-Search-vs-Hill-Climbing](https://github.com/RScicomp/Beam-Search-vs-Hill-Climbing)"
   ]
  },
  {
   "cell_type": "code",
   "execution_count": null,
   "id": "f7cc2c88",
   "metadata": {},
   "outputs": [],
   "source": []
  }
 ],
 "metadata": {
  "kernelspec": {
   "display_name": "ACG",
   "language": "python",
   "name": "acg"
  },
  "language_info": {
   "codemirror_mode": {
    "name": "ipython",
    "version": 3
   },
   "file_extension": ".py",
   "mimetype": "text/x-python",
   "name": "python",
   "nbconvert_exporter": "python",
   "pygments_lexer": "ipython3",
   "version": "3.6.13"
  },
  "toc": {
   "base_numbering": 1,
   "nav_menu": {},
   "number_sections": true,
   "sideBar": true,
   "skip_h1_title": false,
   "title_cell": "Table of Contents",
   "title_sidebar": "Contents",
   "toc_cell": false,
   "toc_position": {},
   "toc_section_display": true,
   "toc_window_display": true
  }
 },
 "nbformat": 4,
 "nbformat_minor": 5
}
