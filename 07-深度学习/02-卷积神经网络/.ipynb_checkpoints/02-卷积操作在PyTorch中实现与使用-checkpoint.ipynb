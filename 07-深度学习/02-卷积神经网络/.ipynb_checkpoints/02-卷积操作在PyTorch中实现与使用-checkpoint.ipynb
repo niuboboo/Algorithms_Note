{
 "cells": [
  {
   "cell_type": "markdown",
   "id": "ad2059c8",
   "metadata": {},
   "source": [
    "## CONV2D\n",
    "\n",
    "`PyTorch`中二维卷积的`PyTorch`官网地址为[CONV2D](https://pytorch.org/docs/master/generated/torch.nn.Conv2d.html#torch.nn.Conv2d)\n",
    "\n",
    "```python\n",
    "torch.nn.Conv2d(in_channels, out_channels, kernel_size, stride=1, padding=0, dilation=1, groups=1, bias=True, padding_mode='zeros', device=None, dtype=None)\n",
    "```"
   ]
  },
  {
   "cell_type": "markdown",
   "id": "7cf13857",
   "metadata": {},
   "source": [
    "参数理解：\n",
    "\n",
    "1. in_channels : 输入图片的通道数。\n",
    "2. out_channels : 做完卷积之后，输出的通道数。\n",
    "3. kernel_size : 卷积核的大小，可以是一个整数或者是一个元组，如果是一个整数，那么`kernel_size`就是一个正方形。\n",
    "4. stride : 步长，滑动卷积窗口的步长。\n",
    "5. padding : 填充，一般选择：{‘valid’, ‘same’}。‘valid’不做padding操作。\n",
    "6. dilation : 空洞，\n",
    "7. groups : 把通道分为好几组，需要被in_channels和out_channels整除。会把输入通道和输出通道同时分为很多组做卷积，这样做的好处在于，并没有把通道做一个完全的mix，比如有8个通道，分为2组，也就是前面4个通道为一组，后面4个通道为1组。groups大于1的计算量是要比groups等于1的计算量小一点的。\n",
    "8. bias : 输出的每个通道是否加bias。\n",
    "9. padding_mode : padding的值默认都为0。\n",
    "10. device : \n",
    "11. dtype : "
   ]
  },
  {
   "cell_type": "markdown",
   "id": "4941cf9e",
   "metadata": {},
   "source": [
    "在其源码中，其是继承自`_ConvNd`，本质是调用`F.conv2d()`函数实现。"
   ]
  },
  {
   "cell_type": "markdown",
   "id": "c87a2a49",
   "metadata": {},
   "source": [
    "## Conv2d调用示例"
   ]
  },
  {
   "cell_type": "markdown",
   "id": "f2cb1dee",
   "metadata": {},
   "source": [
    "定义一个卷积层：输入通道是`2`，输出通道是`2`，卷积核大小是`3 x 3`的，padding选择为same"
   ]
  },
  {
   "cell_type": "code",
   "execution_count": 1,
   "id": "102cccd8",
   "metadata": {},
   "outputs": [],
   "source": [
    "import torch.nn as nn\n",
    "conv_layer = nn.Conv2d(2, 2, 3, padding=\"same\")"
   ]
  },
  {
   "cell_type": "markdown",
   "id": "6a1039a9",
   "metadata": {},
   "source": [
    "打印`conv_layer`层的参数："
   ]
  },
  {
   "cell_type": "code",
   "execution_count": 4,
   "id": "8d4d75c6",
   "metadata": {},
   "outputs": [
    {
     "name": "stdout",
     "output_type": "stream",
     "text": [
      "('weight', Parameter containing:\n",
      "tensor([[[[-0.1107, -0.1877, -0.1124],\n",
      "          [-0.0339, -0.0805,  0.0609],\n",
      "          [ 0.1046, -0.1687, -0.1202]],\n",
      "\n",
      "         [[-0.1517, -0.0760,  0.1202],\n",
      "          [-0.2310,  0.2295, -0.1341],\n",
      "          [-0.0842,  0.0501, -0.0899]]],\n",
      "\n",
      "\n",
      "        [[[ 0.2317,  0.2311,  0.0098],\n",
      "          [-0.1075, -0.1141, -0.0069],\n",
      "          [ 0.1095, -0.1667, -0.0108]],\n",
      "\n",
      "         [[-0.0392, -0.1846,  0.0636],\n",
      "          [-0.1200,  0.0341,  0.1114],\n",
      "          [-0.0710,  0.0413,  0.1739]]]], requires_grad=True))\n",
      "('bias', Parameter containing:\n",
      "tensor([0.0031, 0.2097], requires_grad=True))\n"
     ]
    }
   ],
   "source": [
    "for i in conv_layer.named_parameters():\n",
    "    print(i)"
   ]
  },
  {
   "cell_type": "markdown",
   "id": "b385a638",
   "metadata": {},
   "source": [
    "可以看到卷积层中有两个参数：weight和bias。weight的大小应该是[2, 2, 3, 3], 3x3代表的是卷积核的那个核的参数，第一个2是输出通道，对于输入的任意一个通道都有一个核去卷积，再求和，就得到输出的第一个通道特征值，有两个输出通道就是两个。第2个是输入通道有两个，一个通道上有一个卷积核，两个就是两个3 x 3的卷积核。"
   ]
  },
  {
   "cell_type": "code",
   "execution_count": 5,
   "id": "861dbce1",
   "metadata": {},
   "outputs": [
    {
     "data": {
      "text/plain": [
       "torch.Size([2, 2, 3, 3])"
      ]
     },
     "execution_count": 5,
     "metadata": {},
     "output_type": "execute_result"
    }
   ],
   "source": [
    "conv_layer.weight.size()"
   ]
  },
  {
   "cell_type": "code",
   "execution_count": 6,
   "id": "638c9547",
   "metadata": {},
   "outputs": [
    {
     "data": {
      "text/plain": [
       "torch.Size([2])"
      ]
     },
     "execution_count": 6,
     "metadata": {},
     "output_type": "execute_result"
    }
   ],
   "source": [
    "conv_layer.bias.size()"
   ]
  },
  {
   "cell_type": "code",
   "execution_count": null,
   "id": "9d543dc6",
   "metadata": {},
   "outputs": [],
   "source": []
  }
 ],
 "metadata": {
  "kernelspec": {
   "display_name": "Python 3 (ipykernel)",
   "language": "python",
   "name": "python3"
  },
  "language_info": {
   "codemirror_mode": {
    "name": "ipython",
    "version": 3
   },
   "file_extension": ".py",
   "mimetype": "text/x-python",
   "name": "python",
   "nbconvert_exporter": "python",
   "pygments_lexer": "ipython3",
   "version": "3.9.4"
  },
  "toc": {
   "base_numbering": 1,
   "nav_menu": {},
   "number_sections": true,
   "sideBar": true,
   "skip_h1_title": false,
   "title_cell": "Table of Contents",
   "title_sidebar": "Contents",
   "toc_cell": false,
   "toc_position": {},
   "toc_section_display": true,
   "toc_window_display": true
  }
 },
 "nbformat": 4,
 "nbformat_minor": 5
}
