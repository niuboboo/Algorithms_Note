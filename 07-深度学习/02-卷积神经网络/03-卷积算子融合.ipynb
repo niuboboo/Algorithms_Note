{
 "cells": [
  {
   "cell_type": "markdown",
   "id": "491059fb",
   "metadata": {},
   "source": [
    "## RepVGG"
   ]
  },
  {
   "cell_type": "markdown",
   "id": "03adff79",
   "metadata": {},
   "source": [
    "- 原论文：[RepVGG: Making VGG-style ConvNets Great Again](https://arxiv.org/pdf/2101.03697.pdf)"
   ]
  },
  {
   "cell_type": "markdown",
   "id": "a1920e32",
   "metadata": {},
   "source": [
    "<img src=\"../../images/repvgg.png\" width=\"50%\">"
   ]
  },
  {
   "cell_type": "markdown",
   "id": "d7bc8247",
   "metadata": {},
   "source": [
    "如上图所示，上述残差模块包括三个部分，一个是`3 x 3`的卷积，另一个是`1 x 1`的`point-wise`卷积，还有一个原本的输入。\n",
    "\n",
    "作者将一个`1 x 1`的卷积转变成了一个`3 x 3`的卷积，然后将原始输入也作为了一个`3 x 3`的卷积来进行计算。最后将这三部分同时写成一个`3 x 3`的卷积融合起来。"
   ]
  },
  {
   "cell_type": "markdown",
   "id": "dbf54753",
   "metadata": {},
   "source": [
    "## point-wise卷积\n",
    "\n",
    "`point-wise`（1 x 1）卷积原理上和`DNN`没有区别，而这个`1 x 1`打破了卷积的局部关联性和平移不变形。只做了`channel mix`，对每个通道上的像素做了一个加权求和。数学上分析就是一个`MLP`。也就是只考虑了通道上的融合。"
   ]
  },
  {
   "cell_type": "markdown",
   "id": "85bbdc96",
   "metadata": {},
   "source": [
    "## depth-wise卷积\n",
    "\n",
    "`depth-wise`卷积，就是将`groups`设置为一个大于`1`的数。我们看一下设置了`groups`之后，卷积层的权重大小："
   ]
  },
  {
   "cell_type": "code",
   "execution_count": 1,
   "id": "7f7404de",
   "metadata": {},
   "outputs": [],
   "source": [
    "import torch.nn as nn"
   ]
  },
  {
   "cell_type": "code",
   "execution_count": 2,
   "id": "aadf2492",
   "metadata": {},
   "outputs": [],
   "source": [
    "conv_layer = nn.Conv2d(2, 4, 3, padding=\"same\", groups=2)"
   ]
  },
  {
   "cell_type": "code",
   "execution_count": 3,
   "id": "9b8157bc",
   "metadata": {},
   "outputs": [
    {
     "data": {
      "text/plain": [
       "torch.Size([4, 1, 3, 3])"
      ]
     },
     "execution_count": 3,
     "metadata": {},
     "output_type": "execute_result"
    }
   ],
   "source": [
    "conv_layer.weight.size()"
   ]
  },
  {
   "cell_type": "markdown",
   "id": "36b7db61",
   "metadata": {},
   "source": [
    "可以看到，`weight`的权重为`4，1，3，3`而不是`4，2，3，3`。这是因为，将输入通道为`2`，输出通道为`4`的拆分为了输入通道为`1`，输出通道为`2`的两个`groups`。\n",
    "\n",
    "而输入通道为`1`，输出通道为`2`的对应的`weight`应该是`2，1，3，3`，两个这样的拼接在一起就是`4，1，3，3`。\n",
    "\n",
    "`depth-wise`卷积可以降低计算量，但是并没有将所有的`channel`进行混合。"
   ]
  },
  {
   "cell_type": "markdown",
   "id": "8a9f8fc9",
   "metadata": {},
   "source": [
    "### 原生写法"
   ]
  },
  {
   "cell_type": "code",
   "execution_count": 4,
   "id": "f9964cd2",
   "metadata": {},
   "outputs": [],
   "source": [
    "import torch\n",
    "import torch.nn.functional as F\n",
    "import torch.nn as nn"
   ]
  },
  {
   "cell_type": "code",
   "execution_count": 5,
   "id": "ff943ba3",
   "metadata": {},
   "outputs": [],
   "source": [
    "in_channels = 2\n",
    "out_channels = 2\n",
    "kernel_size = 3\n",
    "w = 9 \n",
    "h = 9\n",
    "x = torch.ones(1, in_channels, w, h)  # batch size = 1"
   ]
  },
  {
   "cell_type": "code",
   "execution_count": 6,
   "id": "4c52e9a5",
   "metadata": {},
   "outputs": [],
   "source": [
    "conv_2d = nn.Conv2d(in_channels, out_channels, kernel_size, padding=\"same\")  # 第一路分支\n",
    "conv_2d_pointwise = nn.Conv2d(in_channels, out_channels, 1)  # 第二路分支\n",
    "result1 = conv_2d(x) + conv_2d_pointwise(x) + x"
   ]
  },
  {
   "cell_type": "code",
   "execution_count": 7,
   "id": "aef04a0c",
   "metadata": {},
   "outputs": [
    {
     "data": {
      "text/plain": [
       "tensor([[[[-0.6874, -0.2034, -0.2034, -0.2034, -0.2034, -0.2034, -0.2034,\n",
       "           -0.2034, -0.1217],\n",
       "          [-0.5610, -0.2140, -0.2140, -0.2140, -0.2140, -0.2140, -0.2140,\n",
       "           -0.2140, -0.2840],\n",
       "          [-0.5610, -0.2140, -0.2140, -0.2140, -0.2140, -0.2140, -0.2140,\n",
       "           -0.2140, -0.2840],\n",
       "          [-0.5610, -0.2140, -0.2140, -0.2140, -0.2140, -0.2140, -0.2140,\n",
       "           -0.2140, -0.2840],\n",
       "          [-0.5610, -0.2140, -0.2140, -0.2140, -0.2140, -0.2140, -0.2140,\n",
       "           -0.2140, -0.2840],\n",
       "          [-0.5610, -0.2140, -0.2140, -0.2140, -0.2140, -0.2140, -0.2140,\n",
       "           -0.2140, -0.2840],\n",
       "          [-0.5610, -0.2140, -0.2140, -0.2140, -0.2140, -0.2140, -0.2140,\n",
       "           -0.2140, -0.2840],\n",
       "          [-0.5610, -0.2140, -0.2140, -0.2140, -0.2140, -0.2140, -0.2140,\n",
       "           -0.2140, -0.2840],\n",
       "          [-0.5213, -0.2980, -0.2980, -0.2980, -0.2980, -0.2980, -0.2980,\n",
       "           -0.2980, -0.3724]],\n",
       "\n",
       "         [[-0.1721, -0.5914, -0.5914, -0.5914, -0.5914, -0.5914, -0.5914,\n",
       "           -0.5914, -0.6909],\n",
       "          [ 0.1671,  0.0437,  0.0437,  0.0437,  0.0437,  0.0437,  0.0437,\n",
       "            0.0437, -0.3321],\n",
       "          [ 0.1671,  0.0437,  0.0437,  0.0437,  0.0437,  0.0437,  0.0437,\n",
       "            0.0437, -0.3321],\n",
       "          [ 0.1671,  0.0437,  0.0437,  0.0437,  0.0437,  0.0437,  0.0437,\n",
       "            0.0437, -0.3321],\n",
       "          [ 0.1671,  0.0437,  0.0437,  0.0437,  0.0437,  0.0437,  0.0437,\n",
       "            0.0437, -0.3321],\n",
       "          [ 0.1671,  0.0437,  0.0437,  0.0437,  0.0437,  0.0437,  0.0437,\n",
       "            0.0437, -0.3321],\n",
       "          [ 0.1671,  0.0437,  0.0437,  0.0437,  0.0437,  0.0437,  0.0437,\n",
       "            0.0437, -0.3321],\n",
       "          [ 0.1671,  0.0437,  0.0437,  0.0437,  0.0437,  0.0437,  0.0437,\n",
       "            0.0437, -0.3321],\n",
       "          [ 0.0932,  0.0834,  0.0834,  0.0834,  0.0834,  0.0834,  0.0834,\n",
       "            0.0834, -0.0986]]]], grad_fn=<AddBackward0>)"
      ]
     },
     "execution_count": 7,
     "metadata": {},
     "output_type": "execute_result"
    }
   ],
   "source": [
    "result1"
   ]
  },
  {
   "cell_type": "code",
   "execution_count": 8,
   "id": "a24ab250",
   "metadata": {},
   "outputs": [
    {
     "data": {
      "text/plain": [
       "torch.Size([1, 2, 9, 9])"
      ]
     },
     "execution_count": 8,
     "metadata": {},
     "output_type": "execute_result"
    }
   ],
   "source": [
    "result1.size()"
   ]
  },
  {
   "cell_type": "markdown",
   "id": "6f9803aa",
   "metadata": {},
   "source": [
    "可以看到结果中，batch size仍然为1，通道数为输出通道数2，图片大小仍然为9 x 9。"
   ]
  },
  {
   "cell_type": "markdown",
   "id": "f5878c79",
   "metadata": {},
   "source": [
    "### 算子融合\n",
    "\n",
    "把point-wise卷积核x本身都写成3 x 3的卷积。最终把三个卷积写成一个卷积。"
   ]
  },
  {
   "cell_type": "code",
   "execution_count": 9,
   "id": "01361c30",
   "metadata": {},
   "outputs": [
    {
     "data": {
      "text/plain": [
       "torch.Size([2, 2, 1, 1])"
      ]
     },
     "execution_count": 9,
     "metadata": {},
     "output_type": "execute_result"
    }
   ],
   "source": [
    "conv_2d_pointwise.weight.size()"
   ]
  },
  {
   "cell_type": "markdown",
   "id": "a54385f5",
   "metadata": {},
   "source": [
    "可以看到conv_2d_pointwise权重原始是[2, 2, 1, 1]的，填充的时候，需要在上下左右填充0，变成[2, 2, 3, 3]。"
   ]
  },
  {
   "cell_type": "code",
   "execution_count": 10,
   "id": "cfc0f189",
   "metadata": {},
   "outputs": [],
   "source": [
    "pointwise_to_conv_weight = F.pad(conv_2d_pointwise.weight, [1,1,1,1,0,0,0,0])\n",
    "conv_2d_for_pointwise = nn.Conv2d(in_channels, out_channels, kernel_size, padding=\"same\")\n",
    "conv_2d_for_pointwise.weight = nn.Parameter(pointwise_to_conv_weight)\n",
    "conv_2d_for_pointwise.bias = nn.Parameter(conv_2d_pointwise.bias.data)"
   ]
  },
  {
   "cell_type": "markdown",
   "id": "991ba516",
   "metadata": {},
   "source": [
    "之后，需要把x本身变成一个3 x 3的卷积:\n",
    "\n",
    "需要考虑以下两点：不考虑相邻点之间的关联性，不考虑通道之间的关联性。\n",
    "\n",
    "我们能知道weight的大小为[2, 2, 3, 3]的，对于它自身的值获取的话，我们需要一个的[3, 3]矩阵，中间为1，上下左右为0。但是除了这个第一个和第四个通道之外，其它的通道应该是一个全0的矩阵。"
   ]
  },
  {
   "cell_type": "code",
   "execution_count": 11,
   "id": "edec9f6e",
   "metadata": {},
   "outputs": [],
   "source": [
    "zeros = torch.unsqueeze(torch.zeros(kernel_size, kernel_size), 0)\n",
    "stars = torch.unsqueeze(F.pad(torch.ones(1, 1), [1,1,1,1]), 0)\n",
    "stars_zeros = torch.unsqueeze(torch.cat([stars, zeros], 0), 0)\n",
    "zeros_stars = torch.unsqueeze(torch.cat([zeros, stars], 0), 0)\n",
    "identity_to_conv_weight = torch.cat([stars_zeros, zeros_stars], 0)\n",
    "identity_to_conv_bias = torch.zeros([out_channels])\n",
    "\n",
    "\n",
    "conv_2d_for_idntity = nn.Conv2d(in_channels, out_channels, kernel_size, padding=\"same\")\n",
    "conv_2d_for_idntity.weight = nn.Parameter(identity_to_conv_weight)\n",
    "conv_2d_for_idntity.bias = nn.Parameter(identity_to_conv_bias)\n",
    "\n",
    "result2 = conv_2d(x) + conv_2d_for_pointwise(x) + conv_2d_for_idntity(x)"
   ]
  },
  {
   "cell_type": "code",
   "execution_count": 12,
   "id": "1d1844a1",
   "metadata": {},
   "outputs": [
    {
     "name": "stdout",
     "output_type": "stream",
     "text": [
      "tensor(True)\n"
     ]
    }
   ],
   "source": [
    "print(torch.all(torch.isclose(result1, result2)))"
   ]
  },
  {
   "cell_type": "markdown",
   "id": "78d779a7",
   "metadata": {},
   "source": [
    "之后需要将这三个算子融合"
   ]
  },
  {
   "cell_type": "code",
   "execution_count": 13,
   "id": "00eb0c69",
   "metadata": {},
   "outputs": [],
   "source": [
    "conv_2d_for_fusion = nn.Conv2d(in_channels, out_channels, kernel_size, padding=\"same\")\n",
    "conv_2d_for_fusion.weight = nn.Parameter(conv_2d.weight.data + conv_2d_for_pointwise.weight.data +\n",
    "                                         conv_2d_for_idntity.weight.data)\n",
    "conv_2d_for_fusion.bias = nn.Parameter(conv_2d.bias.data + conv_2d_for_pointwise.bias.data + \n",
    "                                       conv_2d_for_idntity.bias.data)"
   ]
  },
  {
   "cell_type": "code",
   "execution_count": 14,
   "id": "0f9219f7",
   "metadata": {},
   "outputs": [],
   "source": [
    "result3 = conv_2d_for_fusion(x)"
   ]
  },
  {
   "cell_type": "code",
   "execution_count": 15,
   "id": "73c30ad4",
   "metadata": {},
   "outputs": [
    {
     "name": "stdout",
     "output_type": "stream",
     "text": [
      "tensor(True)\n"
     ]
    }
   ],
   "source": [
    "print(torch.all(torch.isclose(result2, result3)))"
   ]
  },
  {
   "cell_type": "code",
   "execution_count": null,
   "id": "b547ade0",
   "metadata": {},
   "outputs": [],
   "source": []
  },
  {
   "cell_type": "code",
   "execution_count": null,
   "id": "93e63f48",
   "metadata": {},
   "outputs": [],
   "source": []
  }
 ],
 "metadata": {
  "kernelspec": {
   "display_name": "Python 3 (ipykernel)",
   "language": "python",
   "name": "python3"
  },
  "language_info": {
   "codemirror_mode": {
    "name": "ipython",
    "version": 3
   },
   "file_extension": ".py",
   "mimetype": "text/x-python",
   "name": "python",
   "nbconvert_exporter": "python",
   "pygments_lexer": "ipython3",
   "version": "3.9.4"
  },
  "toc": {
   "base_numbering": 1,
   "nav_menu": {},
   "number_sections": true,
   "sideBar": true,
   "skip_h1_title": false,
   "title_cell": "Table of Contents",
   "title_sidebar": "Contents",
   "toc_cell": false,
   "toc_position": {},
   "toc_section_display": true,
   "toc_window_display": true
  }
 },
 "nbformat": 4,
 "nbformat_minor": 5
}
