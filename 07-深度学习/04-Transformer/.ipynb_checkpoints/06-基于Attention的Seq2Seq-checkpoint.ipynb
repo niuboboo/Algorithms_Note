{
 "cells": [
  {
   "cell_type": "code",
   "execution_count": null,
   "id": "5e3c8ead",
   "metadata": {},
   "outputs": [],
   "source": []
  },
  {
   "cell_type": "code",
   "execution_count": 1,
   "id": "e3ee2fb2",
   "metadata": {},
   "outputs": [],
   "source": [
    "import torch\n",
    "import torch.nn as nn\n",
    "import torch.nn.functional as F"
   ]
  },
  {
   "cell_type": "markdown",
   "id": "550ffbf9",
   "metadata": {},
   "source": [
    "以离散符号的分类任务为例，离散符号描述的是编码器的输入和解码器的输出都是对于离散值的预测。传统的seq2seq模型是将编码器的输入得到一个固定的表征，注意力机制会对编码器的输出加权求和得到。"
   ]
  },
  {
   "cell_type": "markdown",
   "id": "ead785d2",
   "metadata": {},
   "source": [
    "## 编码器\n",
    "\n",
    "编码器，得到输入序列的上下文表征。此处编码器就是将给定的输入序列转换成上下文相关的一个新的序列"
   ]
  },
  {
   "cell_type": "code",
   "execution_count": 2,
   "id": "f4d2cd84",
   "metadata": {},
   "outputs": [],
   "source": [
    "class Seq2SeqEncoder(nn.Module):\n",
    "    def __init__(self, embedding_dim, hidden_size, source_vocab_size):\n",
    "        super(Seq2SeqEncoder, self).__init__()\n",
    "        \n",
    "        self.embedding_table = nn.Embedding(source_vocab_size, embedding_dim)\n",
    "        \n",
    "        self.lstm_layer = nn.LSTM(input_size = embedding_dim,\n",
    "                                  hidden_size = hidden_size,\n",
    "                                  batch_first = True)\n",
    "    \n",
    "    def forward(self, input_ids):\n",
    "        input_sequence = self.embedding_table(input_ids)  # [bs, source_len, embedding_dim]\n",
    "        \n",
    "        output_states, (final_h, final_c) = self.lstm_layer(input_sequence)\n",
    "        return output_states, final_h"
   ]
  },
  {
   "cell_type": "markdown",
   "id": "bbaf283f",
   "metadata": {},
   "source": [
    "## 注意力机制\n",
    "\n",
    "这里的注意力机制采用`dot-product`的方式。也就是编码器的$t$时刻输入与解码器的输出序列两两之间做内积。\n",
    "\n",
    "最后输出得到的`context`就是第$t$时刻，上下文输出得到的解码器向量。"
   ]
  },
  {
   "cell_type": "code",
   "execution_count": 3,
   "id": "df3e3417",
   "metadata": {},
   "outputs": [],
   "source": [
    "class Seq2SeqAttentionMechanism(nn.Module):\n",
    "    def __init__(self):\n",
    "        super(Seq2SeqAttentionMechanism, self).__init__()\n",
    "    \n",
    "    def forward(self, decoder_state_t, encoder_states):\n",
    "        bs, source_len, hidden_size = encoder_states.shape\n",
    "        \n",
    "        decoder_state_t = decoder_state_t.unsqueeze(1)  # [bs, 1, hidden_size]\n",
    "        decoder_state_t = torch.tile(decoder_state_t, dims=(1, source_len, 1))  # [bs, source_len, hidden_size]\n",
    "        \n",
    "        score = torch.sum(decoder_state_t * encoder_states, dim=-1)  # [bs, source_len]\n",
    "        attn_prob = F.softmax(score, dim=-1)  # [bs, source_len]\n",
    "        \n",
    "        context = torch.sum(attn_prob.unsqueeze(-1) * encoder_states, 1)  # [bs, hidden_size]\n",
    "        return attn_prob, context"
   ]
  },
  {
   "cell_type": "markdown",
   "id": "893f2c8c",
   "metadata": {},
   "source": [
    "## 解码器\n",
    "\n",
    "`self.proj_layer`中`Linear`的输入是`hidden_size * 2`维度的，接收的是编码器编码输出`context`和解码器在时刻$t$获取到的字符的编码拼接而得到的。参考文章[Effective Approaches to Attention-based Neural Machine Translation]()。\n",
    "\n",
    "`start_id`和`end_id`用于处理训练过程中的标签偏移。\n",
    "\n",
    "训练过程调用的是`forward`函数，需要传入两个参数`shifted_target_id`和`encoder_states`，`shifted_target_id`的第一个字符一般是`start_id`，他是一个特殊字符。\n",
    "\n",
    "在训练阶段，我们知道目标长度是多少，所以可以用`for`循环去做，在推理阶段，就不清楚目标长度是多少，我们就可以用`while`循环去做。\n",
    "\n",
    "在推理阶段，用的是解码器预测的输出作为下一个时刻的输入，用于之后的预测。"
   ]
  },
  {
   "cell_type": "code",
   "execution_count": 4,
   "id": "5af565b2",
   "metadata": {},
   "outputs": [],
   "source": [
    "class Seq2SeqDecoder(nn.Module):\n",
    "    def __init__(self, embedding_dim, hidden_size, num_classes, target_vocab_size, start_id, end_id):\n",
    "        super(Seq2SeqDecoder, self).__init__()\n",
    "        \n",
    "        self.lstm_cell = nn.LSTMCell(embedding_dim, hidden_size)\n",
    "        self.proj_layer = nn.Linear(hidden_size * 2, num_classes)\n",
    "        self.attention_mechanism = Seq2SeqAttentionMechanism()\n",
    "        self.num_classes = num_classes\n",
    "        self.embedding_table = nn.Embedding(target_vocab_size, embedding_dim)\n",
    "        self.start_id = start_id\n",
    "        self.end_id = end_id\n",
    "    \n",
    "    def forward(self, shifted_target_id, encoder_states):\n",
    "        # 训练阶段调用\n",
    "        \n",
    "        shifted_target = self.embedding_table(shifted_target_id)\n",
    "        \n",
    "        bs, target_len, embedding_dim = shifted_target.shape\n",
    "        bs, source_len, hidden_size = encoder_states.shape\n",
    "        \n",
    "        logits = torch.zeros(bs, target_len, self.num_classes)\n",
    "        probs = torch.zeros(bs, target_len, source_len)\n",
    "        \n",
    "        for t in range(target_len):\n",
    "            \n",
    "            decoder_input_t = shifted_target[:, t, :]  # [bs, embedding_dim]\n",
    "            \n",
    "            if t == 0:\n",
    "                \n",
    "                h_t, c_t = self.lstm_cell(decoder_input_t)\n",
    "            else:\n",
    "                h_t, c_t = self.lstm_cell(decoder_input_t, (h_t, c_t))\n",
    "            \n",
    "            attn_prob, context = self.attention_mechanism(h_t, encoder_states)\n",
    "            \n",
    "            decoder_output = torch.cat((context, h_t), -1)\n",
    "            logits[:, t, :] = self.proj_layer(decoder_output)\n",
    "            probs[:, t, :] = attn_prob\n",
    "            \n",
    "        return probs, logits\n",
    "    \n",
    "    def inference(self, encoder_states):\n",
    "        # 推理阶段使用\n",
    "        \n",
    "        target_id = self.start_id\n",
    "        h_t = None\n",
    "        result = []\n",
    "        \n",
    "        while True:\n",
    "            decoder_input_t = self.embedding_table(target_id)\n",
    "            if h_t is None:\n",
    "                h_t, c_t = self.lstm_cell(decoder_input_t)\n",
    "            else:\n",
    "                h_t, c_t = self.lstm_cell(decoder_input_t, (h_t, c_t))\n",
    "            \n",
    "            attn_prob, context = self.attention_mechanism(h_t, encoder_states)\n",
    "            decoder_output = torch.cat((context, h_t), -1)\n",
    "            logits = self.proj_layer(decoder_output)\n",
    "            \n",
    "            target_id = torch.argmax(logits, -1)\n",
    "            result.append(target_id)\n",
    "            \n",
    "            if torch.any(target_id == self.end_id):\n",
    "                print(\"stop decoding\")\n",
    "            \n",
    "                break\n",
    "            \n",
    "        predited_ids = torch.cat(result, dim=0)\n",
    "        return predited_ids\n",
    "            "
   ]
  },
  {
   "cell_type": "markdown",
   "id": "6281ca6e",
   "metadata": {},
   "source": [
    "## 模型"
   ]
  },
  {
   "cell_type": "code",
   "execution_count": 5,
   "id": "6233c7e7",
   "metadata": {},
   "outputs": [],
   "source": [
    "class Model(nn.Module):\n",
    "    def __init__(self, embedding_dim, hidden_size, num_classes, \n",
    "                source_vocab_size, target_vocab_size, start_id, end_id):\n",
    "        super(Model, self).__init__()\n",
    "        \n",
    "        self.encoder = Seq2SeqEncoder(embedding_dim, hidden_size, source_vocab_size)\n",
    "        \n",
    "        self.decoder = Seq2SeqDecoder(embedding_dim, hidden_size, num_classes, target_vocab_size, start_id, end_id)\n",
    "    \n",
    "    def forward(self, input_seqence_ids, shifted_target_id):\n",
    "        encoder_states, final_h = self.encoder(input_seqence_ids)\n",
    "        \n",
    "        probs, logits = self.decoder(shifted_target_id, encoder_states)\n",
    "        return probs, logits\n",
    "    \n",
    "    def inference(self):\n",
    "        pass"
   ]
  },
  {
   "cell_type": "code",
   "execution_count": 6,
   "id": "345a08e3",
   "metadata": {},
   "outputs": [
    {
     "name": "stdout",
     "output_type": "stream",
     "text": [
      "torch.Size([2, 5, 3])\n",
      "torch.Size([2, 5, 10])\n"
     ]
    }
   ],
   "source": [
    "if __name__ == \"__main__\":\n",
    "    source_length = 3\n",
    "    target_length = 4\n",
    "    embedding_dim = 8\n",
    "    hidden_size = 16\n",
    "    num_classes = 10\n",
    "    bs = 2\n",
    "    start_id = end_id = 0\n",
    "    source_vocab_size = 100\n",
    "    target_vocab_size = 100\n",
    "    \n",
    "    input_seqence_ids = torch.randint(source_vocab_size, size=(bs, source_length)).to(torch.int32)\n",
    "    \n",
    "    target_ids = torch.randint(target_vocab_size, size=(bs, target_length))\n",
    "    target_ids = torch.cat((target_ids, end_id * torch.ones(bs, 1)), dim=1).to(torch.int32)\n",
    "    \n",
    "    shifted_target_ids = torch.cat((start_id * torch.ones(bs, 1),target_ids[:, 1:]), dim=1).to(torch.int32)\n",
    "    \n",
    "    model = Model(embedding_dim, hidden_size, num_classes, source_vocab_size, target_vocab_size, start_id, end_id)\n",
    "    \n",
    "    probs, logits = model(input_seqence_ids, shifted_target_ids)\n",
    "    print(probs.shape)\n",
    "    print(logits.shape)"
   ]
  },
  {
   "cell_type": "code",
   "execution_count": null,
   "id": "6d214380",
   "metadata": {},
   "outputs": [],
   "source": []
  },
  {
   "cell_type": "code",
   "execution_count": null,
   "id": "7b386f53",
   "metadata": {},
   "outputs": [],
   "source": []
  },
  {
   "cell_type": "code",
   "execution_count": null,
   "id": "df4dde51",
   "metadata": {},
   "outputs": [],
   "source": []
  }
 ],
 "metadata": {
  "kernelspec": {
   "display_name": "Python 3 (ipykernel)",
   "language": "python",
   "name": "python3"
  },
  "language_info": {
   "codemirror_mode": {
    "name": "ipython",
    "version": 3
   },
   "file_extension": ".py",
   "mimetype": "text/x-python",
   "name": "python",
   "nbconvert_exporter": "python",
   "pygments_lexer": "ipython3",
   "version": "3.9.4"
  },
  "toc": {
   "base_numbering": 1,
   "nav_menu": {},
   "number_sections": true,
   "sideBar": true,
   "skip_h1_title": false,
   "title_cell": "Table of Contents",
   "title_sidebar": "Contents",
   "toc_cell": false,
   "toc_position": {},
   "toc_section_display": true,
   "toc_window_display": true
  }
 },
 "nbformat": 4,
 "nbformat_minor": 5
}
