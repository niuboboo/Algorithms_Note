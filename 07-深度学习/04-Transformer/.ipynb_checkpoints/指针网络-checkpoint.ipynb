{
 "cells": [
  {
   "cell_type": "markdown",
   "id": "2a321625",
   "metadata": {},
   "source": [
    "https://github.com/ccjjxx99/PointerNetworks-pytorch-tsp\n",
    "\n",
    "https://github.com/aurelienbibaut/Actor_CriticPointer_Network-TSP\n",
    "\n",
    "https://github.com/zifeiyu0531/PointerNetwork-RL-TSP\n",
    "\n",
    "https://colab.research.google.com/drive/1lobspU9b7dTO_HuoX-3nibZspTwfa5aX?usp=sharing#scrollTo=UMntU4jUu_v1"
   ]
  },
  {
   "cell_type": "markdown",
   "id": "887188d0",
   "metadata": {},
   "source": [
    "## 指针网络"
   ]
  },
  {
   "cell_type": "markdown",
   "id": "53a738fb",
   "metadata": {},
   "source": [
    "`RNN`的输入和输出长度是被限制成一样的了，`seq2seq`的方式通过`RNN`编码和另外一个`RNN`解码的方式能够解除掉这个限制，典型的就是注意力机制`Transformer`网络。但是还是存在一个问题：不能够解决输出字典长度不固定的问题，比如英语单词字典就定`n=8000`个单词，那么`RNN`一个时间步的输出就是一个长度为`8000`的向量，是定死的，这类问题对于处理文本类的问题是没有问题的，但是对于一些特定问题，比如组合优化问题\n",
    "\n",
    "如果这个长度也是改变的那怎么办呢？指针网络提出了一种能够解决上述问题的网络结构：\n",
    "\n",
    "<img src=\"../../images/pointer_network.png\" width=\"50%\">"
   ]
  },
  {
   "cell_type": "markdown",
   "id": "98d59d02",
   "metadata": {},
   "source": [
    "https://github.com/ast0414/pointer-networks-pytorch：解决整数排序问题\n",
    " I expand upon earlier work by solving the planar convex hull problem and replace the LSTM-based encoder and decoder with transformers."
   ]
  },
  {
   "cell_type": "markdown",
   "id": "3cbf0570",
   "metadata": {},
   "source": [
    "`pointer network`的核心公示如下：\n",
    "\n",
    "$$\n",
    "u_{j}^{i} = v^{T}tanh(W_{1}e_{j} + W_{2}d_{i}) j \\in (1, \\cdots, n)\n",
    "$$\n",
    "\n",
    "$$\n",
    "p(C_{i}|C_{1},\\cdots,C_{i-1}, P) = softmax(u^{i})\n",
    "$$\n",
    "\n",
    "它由两个可学习的权重$W_{1}$和$W_{2}$与编码、解码网络的输出相乘。之后再经过一个非线性变换与另一个学习权重$v$相乘。"
   ]
  },
  {
   "cell_type": "code",
   "execution_count": null,
   "id": "ea89a7f2",
   "metadata": {},
   "outputs": [],
   "source": []
  },
  {
   "cell_type": "code",
   "execution_count": null,
   "id": "b61a2d53",
   "metadata": {},
   "outputs": [],
   "source": []
  },
  {
   "cell_type": "code",
   "execution_count": null,
   "id": "9e2ff213",
   "metadata": {},
   "outputs": [],
   "source": []
  }
 ],
 "metadata": {
  "kernelspec": {
   "display_name": "Python 3 (ipykernel)",
   "language": "python",
   "name": "python3"
  },
  "language_info": {
   "codemirror_mode": {
    "name": "ipython",
    "version": 3
   },
   "file_extension": ".py",
   "mimetype": "text/x-python",
   "name": "python",
   "nbconvert_exporter": "python",
   "pygments_lexer": "ipython3",
   "version": "3.9.4"
  },
  "toc": {
   "base_numbering": 1,
   "nav_menu": {},
   "number_sections": true,
   "sideBar": true,
   "skip_h1_title": false,
   "title_cell": "Table of Contents",
   "title_sidebar": "Contents",
   "toc_cell": false,
   "toc_position": {},
   "toc_section_display": true,
   "toc_window_display": false
  }
 },
 "nbformat": 4,
 "nbformat_minor": 5
}
