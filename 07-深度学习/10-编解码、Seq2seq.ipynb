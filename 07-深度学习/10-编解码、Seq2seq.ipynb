{
 "cells": [
  {
   "cell_type": "code",
   "execution_count": 1,
   "id": "7043bffc",
   "metadata": {},
   "outputs": [],
   "source": [
    "import torch\n",
    "from torch import nn"
   ]
  },
  {
   "cell_type": "markdown",
   "id": "c418eaf2",
   "metadata": {},
   "source": [
    "## 编解码"
   ]
  },
  {
   "cell_type": "markdown",
   "id": "d601f5ea",
   "metadata": {},
   "source": [
    "### 编码器"
   ]
  },
  {
   "cell_type": "code",
   "execution_count": 2,
   "id": "3e161355",
   "metadata": {},
   "outputs": [],
   "source": [
    "class Encoder(nn.Module):\n",
    "    \"\"\"编码器-解码器结构的基本编码器接口。\"\"\"\n",
    "    def __init__(self, **kwargs):\n",
    "        super(Encoder, self).__init__(**kwargs)\n",
    "\n",
    "    def forward(self, X, *args):\n",
    "        raise NotImplementedError"
   ]
  },
  {
   "cell_type": "markdown",
   "id": "5637a96b",
   "metadata": {},
   "source": [
    "### 解码器"
   ]
  },
  {
   "cell_type": "markdown",
   "id": "d485ffbf",
   "metadata": {},
   "source": [
    "&emsp;&emsp;在下面的解码器接口中，我们新增一个`init_state`函数用于将编码器的输出（`enc_outputs`）转换为编码后的状态。"
   ]
  },
  {
   "cell_type": "code",
   "execution_count": 3,
   "id": "8a52835c",
   "metadata": {},
   "outputs": [],
   "source": [
    "class Decoder(nn.Module):\n",
    "    \"\"\"编码器-解码器结构的基本解码器接口。\"\"\"\n",
    "    def __init__(self, **kwargs):\n",
    "        super(Decoder, self).__init__(**kwargs)\n",
    "\n",
    "    def init_state(self, enc_outputs, *args):\n",
    "        raise NotImplementedError\n",
    "\n",
    "    def forward(self, X, state):\n",
    "        raise NotImplementedError"
   ]
  },
  {
   "cell_type": "markdown",
   "id": "8386b048",
   "metadata": {},
   "source": [
    "### 合并编码器和解码器\n",
    "\n",
    "&emsp;&emsp;最后，“编码器-解码器”结构包含了一个编码器和一个解码器，并且还拥有可选的额外的参数。在前向传播中，编码器的输出用于生成编码状态，这个状态又被解码器作为其输入的一部分。"
   ]
  },
  {
   "cell_type": "code",
   "execution_count": 4,
   "id": "5740cc41",
   "metadata": {},
   "outputs": [],
   "source": [
    "class EncoderDecoder(nn.Module):\n",
    "    \"\"\"编码器-解码器结构的基类。\"\"\"\n",
    "    def __init__(self, encoder, decoder, **kwargs):\n",
    "        super(EncoderDecoder, self).__init__(**kwargs)\n",
    "        self.encoder = encoder\n",
    "        self.decoder = decoder\n",
    "\n",
    "    def forward(self, enc_X, dec_X, *args):\n",
    "        enc_outputs = self.encoder(enc_X, *args)\n",
    "        dec_state = self.decoder.init_state(enc_outputs, *args)\n",
    "        return self.decoder(dec_X, dec_state)"
   ]
  },
  {
   "cell_type": "markdown",
   "id": "11164158",
   "metadata": {},
   "source": [
    "## Seq2seq"
   ]
  },
  {
   "cell_type": "code",
   "execution_count": 5,
   "id": "8df109d4",
   "metadata": {},
   "outputs": [],
   "source": [
    "import sys\n",
    "sys.path.append(\"..\")\n",
    "from d2l import torch as d2l"
   ]
  },
  {
   "cell_type": "markdown",
   "id": "b6a9826f",
   "metadata": {},
   "source": [
    "### 编码器"
   ]
  },
  {
   "cell_type": "markdown",
   "id": "d6a11513",
   "metadata": {},
   "source": [
    "&emsp;&emsp;这里我们采用一层嵌入层(`embedding layer`)来获得输入序列中每个词元的特征向量。"
   ]
  },
  {
   "cell_type": "code",
   "execution_count": 6,
   "id": "0d5b592c",
   "metadata": {},
   "outputs": [],
   "source": [
    "class Seq2SeqEncoder(nn.Module):\n",
    "    def __init__(self, vocab_size, embed_size, num_hiddens, num_layers, dropout=0, **kwargs):\n",
    "        super(Seq2SeqEncoder, self).__init__(**kwargs)\n",
    "        # 嵌入层，将vocab_size编码为embed_size。\n",
    "        self.embedding = nn.Embedding(vocab_size, embed_size)\n",
    "        \n",
    "        self.rnn = nn.GRU(embed_size, num_hiddens, num_layers, dropout=dropout)\n",
    "        \n",
    "    def forward(self, X, *args):\n",
    "        X = self.embedding(X)  # 输出的‘X’的形状：（batch_size, num_steps, embed_size）\n",
    "        \n",
    "        X = X.permute(1, 0, 2) # 在循环神经网络中，默认的是第一个轴对应时间步。\n",
    "        \n",
    "        output, state = self.rnn(X)\n",
    "        # `output`的形状: (`num_steps`, `batch_size`, `num_hiddens`)\n",
    "        # `state[0]`的形状: (`num_layers`, `batch_size`, `num_hiddens`)\n",
    "        \n",
    "        return output, state"
   ]
  },
  {
   "cell_type": "markdown",
   "id": "50e60833",
   "metadata": {},
   "source": [
    "### 解码器"
   ]
  },
  {
   "cell_type": "markdown",
   "id": "e85076a2",
   "metadata": {},
   "source": [
    "&emsp;&emsp;实现解码器时，我们可以直接使用编码器最后一个时间步的隐藏状态来初始化解码器的隐藏状态。\n",
    "\n",
    "&emsp;&emsp;如果编解码器是使用循环神经网络实现的话，我们就需要**编码器和解码器具有相同数量的层和隐藏单元**。\n",
    "\n",
    "&emsp;&emsp;为了进一步包含经过编码的输入序列的信息，上下文变量在所有时间步与解码器的输入进行拼接(`concatenate`)。"
   ]
  },
  {
   "cell_type": "code",
   "execution_count": 7,
   "id": "7f9fa2f8",
   "metadata": {},
   "outputs": [],
   "source": [
    "class Seq2SeqDecoder(nn.Module):\n",
    "    def __init__(self, vocab_size, embed_size, num_hiddens, num_layers, dropout=0, **kwargs):\n",
    "        super(Seq2SeqDecoder, self).__init__(**kwargs)\n",
    "        # 嵌入层，将vocab_size编码为embed_size。\n",
    "        self.embedding = nn.Embedding(vocab_size, embed_size)\n",
    "        \n",
    "        # GRU的每个时间步的输入大小为：embed_size + num_hiddens。\n",
    "        self.rnn = nn.GRU(embed_size + num_hiddens, num_hiddens, num_layers, dropout=dropout)\n",
    "        self.dense = nn.Linear(num_hiddens, vocab_size)\n",
    "    \n",
    "    def init_state(self, enc_outputs, *args):\n",
    "        \"\"\"\n",
    "        enc_outputs为(output, state)\n",
    "        \"\"\"\n",
    "        return enc_outputs[1]\n",
    "    \n",
    "    def forward(self, X, state):\n",
    "        \"\"\"\n",
    "        X: shape = (`batch_size`, `num_steps`, `embed_size`)\n",
    "        state: shape = (num_layers, batch_size, num_hiddens)\n",
    "        \"\"\"\n",
    "\n",
    "        # 输出'X'的形状：(`batch_size`, `num_steps`, `embed_size`)\n",
    "        X = self.embedding(X)\n",
    "        \n",
    "        # 输出'X'的形状：(`num_steps`, `batch_size`, `embed_size`)\n",
    "        X = X.permute(1, 0, 2) # 在循环神经网络中，默认的是第一个轴对应时间步。\n",
    "        \n",
    "        # 广播‘context’, 使其具有与‘X’相同的‘num_steps’。\n",
    "        context = state[-1].repeat(X.shape[0], 1, 1)\n",
    "        X_and_context = torch.cat((X, context), 2) # shape = (num_steps, batch_size, num_hiddens)\n",
    "        \n",
    "        output, state = self.rnn(X_and_context, state)\n",
    "        # `output`的形状: (`num_steps`, `batch_size`, `num_hiddens`)\n",
    "        # print(output.size())\n",
    "        output = self.dense(output)# .permute(1, 0, 2)\n",
    "        # `output`的形状: (`num_steps`, `batch_size`, `vocab_size`)\n",
    "        \n",
    "        output = output.permute(1, 0, 2)\n",
    "        # `output`的形状: (`batch_size`, `num_steps`, `vocab_size`)\n",
    "        \n",
    "        # `state[0]`的形状: (`num_layers`, `batch_size`, `num_hiddens`)\n",
    "        return output, state"
   ]
  },
  {
   "cell_type": "markdown",
   "id": "49685a86",
   "metadata": {},
   "source": [
    "### 损失函数"
   ]
  },
  {
   "cell_type": "markdown",
   "id": "c9ded066",
   "metadata": {},
   "source": [
    "&emsp;&emsp;在每个时间步，解码器预测了输出词元的概率分布。\n",
    "\n",
    "&emsp;&emsp;类似于语言模型，可以使用softmax来获得分布，并通过计算交叉熵损失函数来进行优化。\n",
    "\n",
    "&emsp;&emsp;特定的填充词元被添加到序列的末尾，因此不同长度的序列可以以相同形状的小批量加载。但是，应该将填充词元的预测排除在损失函数的计算之外。为此，我们可以使用seqence_mask函数，通过**零值化**屏蔽不相关的项，以便后面任何不相关预测的计算都是与零的乘积，结果都等于零。"
   ]
  },
  {
   "cell_type": "markdown",
   "id": "2a965a4c",
   "metadata": {},
   "source": [
    "#### 序列化Mask"
   ]
  },
  {
   "cell_type": "code",
   "execution_count": 8,
   "id": "2fed293a",
   "metadata": {},
   "outputs": [],
   "source": [
    "def sequence_mask(X, valid_len, value=0):\n",
    "    \"\"\"\n",
    "    # 在序列中屏蔽不相关的项。\n",
    "    \"\"\"\n",
    "    maxlen = X.size(1)\n",
    "    \n",
    "    # arange生成下标，然后没行下标小于valid_len中的值为True。\n",
    "    mask = torch.arange((maxlen), dtype=torch.float32, device=X.device)[None, :] < valid_len[:, None]\n",
    "    \n",
    "    # 取反之后赋值为0。\n",
    "    X[~mask] = value\n",
    "    return X"
   ]
  },
  {
   "cell_type": "code",
   "execution_count": 9,
   "id": "2add6978",
   "metadata": {},
   "outputs": [
    {
     "data": {
      "text/plain": [
       "tensor([[1, 0, 0],\n",
       "        [4, 5, 0]])"
      ]
     },
     "execution_count": 9,
     "metadata": {},
     "output_type": "execute_result"
    }
   ],
   "source": [
    "X = torch.tensor([[1, 2, 3], [4, 5, 6]])\n",
    "sequence_mask(X, torch.tensor([1, 2]))"
   ]
  },
  {
   "cell_type": "markdown",
   "id": "d24f5d30",
   "metadata": {},
   "source": [
    "&emsp;&emsp;我们还可以使用此函数屏蔽最后几个轴上的所有项。如果愿意，也可以使用指定的非零值来替换这些项。"
   ]
  },
  {
   "cell_type": "code",
   "execution_count": 10,
   "id": "654e8651",
   "metadata": {},
   "outputs": [
    {
     "data": {
      "text/plain": [
       "tensor([[[ 1.,  1.,  1.,  1.],\n",
       "         [-1., -1., -1., -1.],\n",
       "         [-1., -1., -1., -1.]],\n",
       "\n",
       "        [[ 1.,  1.,  1.,  1.],\n",
       "         [ 1.,  1.,  1.,  1.],\n",
       "         [-1., -1., -1., -1.]]])"
      ]
     },
     "execution_count": 10,
     "metadata": {},
     "output_type": "execute_result"
    }
   ],
   "source": [
    "X = torch.ones(2, 3, 4)\n",
    "sequence_mask(X, torch.tensor([1, 2]), value = -1)"
   ]
  },
  {
   "cell_type": "markdown",
   "id": "6d49b4b1",
   "metadata": {},
   "source": [
    "#### 带Masked的SoftMax"
   ]
  },
  {
   "cell_type": "markdown",
   "id": "34a8c714",
   "metadata": {},
   "source": [
    "&emsp;&emsp;我们可以扩展softmax交叉熵损失函数来遮蔽不相关的预测。最初所有预测词元的掩码都设置为1。一旦给定了有效长度，与填充词云对应的掩码将被设置为0。最后，将所有词元的损失乘以掩码，以过滤掉损失中填充词元产生的不相关预测。"
   ]
  },
  {
   "cell_type": "code",
   "execution_count": 11,
   "id": "4eee0f89",
   "metadata": {},
   "outputs": [],
   "source": [
    "class MaskedSoftmaxCELoss(nn.CrossEntropyLoss):\n",
    "    \"\"\"\n",
    "    带mask的softmax交叉熵损失函数。\n",
    "    \"\"\"\n",
    "    # pred 的形状：（batch_size, num_steps, vocab_size）\n",
    "    # label 的形状：（batch_size, num_steps）\n",
    "    # valid_len 的形状：（batch_size）\n",
    "    def forward(self, pred, label, valid_len):\n",
    "        weights = torch.ones_like(label)\n",
    "        weights = sequence_mask(weights, valid_len)\n",
    "        self.reduction = 'none'\n",
    "        unweighted_loss = super(MaskedSoftmaxCELoss, self).forward(pred.permute(0, 2, 1), label)\n",
    "        \n",
    "        weighted_loss = (unweighted_loss * weights).mean(dim = 1)\n",
    "        return weighted_loss"
   ]
  },
  {
   "cell_type": "markdown",
   "id": "7ffa991f",
   "metadata": {},
   "source": [
    "&emsp;&emsp;我们可以创建三个相同的序列来进行代码健全性检查，然后分别指定这些序列的有效长度为  4 、 2  和  0 。结果就是，第一个序列的损失应为第二个序列的两倍，而第三个序列的损失应为零。"
   ]
  },
  {
   "cell_type": "code",
   "execution_count": 12,
   "id": "a550fe65",
   "metadata": {},
   "outputs": [
    {
     "data": {
      "text/plain": [
       "tensor([2.3026, 1.1513, 0.0000])"
      ]
     },
     "execution_count": 12,
     "metadata": {},
     "output_type": "execute_result"
    }
   ],
   "source": [
    "loss = MaskedSoftmaxCELoss()\n",
    "loss(torch.ones(3, 4, 10), torch.ones((3, 4), dtype=torch.long),\n",
    "     torch.tensor([4, 2, 0]))"
   ]
  },
  {
   "cell_type": "markdown",
   "id": "4b2538ed",
   "metadata": {},
   "source": [
    "## 训练"
   ]
  },
  {
   "cell_type": "code",
   "execution_count": 13,
   "id": "1389d529",
   "metadata": {},
   "outputs": [],
   "source": [
    "batch_size, num_steps = 64, 10\n",
    "train_iter, src_vocab, tgt_vocab = d2l.load_data_nmt(batch_size, num_steps)"
   ]
  },
  {
   "cell_type": "code",
   "execution_count": 14,
   "id": "c1ed18b4",
   "metadata": {},
   "outputs": [],
   "source": [
    "encoder = Seq2SeqEncoder(vocab_size = len(src_vocab), \n",
    "                         embed_size = 32, \n",
    "                         num_hiddens = 32, \n",
    "                         num_layers = 2, \n",
    "                         dropout=0.1)\n",
    "\n",
    "decoder = Seq2SeqDecoder(vocab_size = len(tgt_vocab),\n",
    "                         embed_size = 32, \n",
    "                         num_hiddens = 32, \n",
    "                         num_layers = 2,\n",
    "                         dropout=0.1)\n",
    "\n",
    "def grad_clipping(net, theta):\n",
    "    \"\"\"Clip the gradient.\"\"\"\n",
    "    if isinstance(net, nn.Module):\n",
    "        params = [p for p in net.parameters() if p.requires_grad]\n",
    "    else:\n",
    "        params = net.params\n",
    "    norm = torch.sqrt(sum(torch.sum((p.grad**2)) for p in params))\n",
    "    if norm > theta:\n",
    "        for param in params:\n",
    "            param.grad[:] *= theta / norm\n",
    "\n",
    "def xavier_init_weights(m):\n",
    "    if type(m) == nn.Linear:\n",
    "        nn.init.xavier_uniform_(m.weight)\n",
    "    if type(m) == nn.GRU:\n",
    "        for param in m._flat_weights_names:\n",
    "            if \"weight\" in param:\n",
    "                nn.init.xavier_uniform_(m._parameters[param])\n",
    "\n",
    "\n",
    "lr = 0.005\n",
    "device = torch.device(\"cuda\" if torch.cuda.is_available() else \"cpu\")\n",
    "net = EncoderDecoder(encoder, decoder)\n",
    "net.apply(xavier_init_weights)\n",
    "net.to(device)\n",
    "\n",
    "optimizer = torch.optim.Adam(net.parameters(), lr=lr)\n",
    "\n",
    "loss = MaskedSoftmaxCELoss()\n",
    "net.train()\n",
    "\n",
    "loss_list = []\n",
    "for epoch in range(300):\n",
    "    for batch in train_iter:\n",
    "        X, X_valid_len, Y, Y_valid_len = [x.to(device) for x in batch]\n",
    "        \n",
    "        # decoder的输入，需要给定一个输入，然后预测下一个词汇。第一个输入是'<bos>', 之后的输入都需要后移。\n",
    "        bos = torch.tensor([tgt_vocab['<bos>']] * Y.shape[0], device=device).reshape(-1, 1)\n",
    "        \n",
    "        dec_input = torch.cat([bos, Y[:, :-1]], 1)  # 教师强制\n",
    "        \n",
    "        Y_hat, _ = net(X, dec_input, X_valid_len)\n",
    "        \n",
    "        optimizer.zero_grad()\n",
    "        l = loss(Y_hat, Y, Y_valid_len)\n",
    "        l.sum().backward()\n",
    "        grad_clipping(net, 1)\n",
    "        num_tokens = Y_valid_len.sum()\n",
    "        optimizer.step()\n",
    "        \n",
    "        with torch.no_grad():\n",
    "            loss_list.append(l.sum().item())"
   ]
  },
  {
   "cell_type": "code",
   "execution_count": 15,
   "id": "5e188927",
   "metadata": {},
   "outputs": [
    {
     "data": {
      "image/png": "[encoded data removed]",
      "text/plain": [
       "<Figure size 432x288 with 1 Axes>"
      ]
     },
     "metadata": {
      "needs_background": "light"
     },
     "output_type": "display_data"
    }
   ],
   "source": [
    "import matplotlib.pyplot as plt\n",
    "plt.plot(loss_list)\n",
    "plt.show()"
   ]
  },
  {
   "cell_type": "markdown",
   "id": "bf96d6e1",
   "metadata": {},
   "source": [
    "## 预测"
   ]
  },
  {
   "cell_type": "markdown",
   "id": "a670b862",
   "metadata": {},
   "source": [
    "&emsp;&emsp;为了采用一个接着一个词元的方式预测出序列，每个解码器当前时间步的输入都将来自于前一时间步的预测词元。\n",
    "\n",
    "&emsp;&emsp;与训练类似，序列开始词元(\"\\<bos>\")在初始时间步被输入到解码器中。当输出序列的预测遇到序列结束词元('\\<eoc>')时，预测就结束了。"
   ]
  },
  {
   "cell_type": "code",
   "execution_count": 16,
   "id": "d8f17c8f",
   "metadata": {},
   "outputs": [],
   "source": [
    "def truncate_pad(line, num_steps, padding_token):\n",
    "    \"\"\"Truncate or pad sequences.\"\"\"\n",
    "    if len(line) > num_steps:\n",
    "        return line[:num_steps]  # Truncate\n",
    "    return line + [padding_token] * (num_steps - len(line))  # Pad\n",
    "\n",
    "def predict_seq2seq(net, src_sentence, src_vocab, tgt_vocab, num_steps, device, save_attention_weights=False):\n",
    "    \"\"\"序列到序列的模型预测\"\"\"\n",
    "    net.eval()\n",
    "    src_tokens = src_vocab[src_sentence.lower().split(' ')] + [src_vocab['<eos>']]\n",
    "    \n",
    "    enc_valid_len = torch.tensor([len(src_tokens)], device=device)\n",
    "    src_tokens = truncate_pad(src_tokens, num_steps, src_vocab['<pad>'])\n",
    "    \n",
    "    # 添加批量轴\n",
    "    enc_X = torch.unsqueeze(torch.tensor(src_tokens, dtype=torch.long, device=device), dim=0)\n",
    "    \n",
    "    enc_outputs = net.encoder(enc_X, enc_valid_len)\n",
    "    \n",
    "    dec_state = net.decoder.init_state(enc_outputs, enc_valid_len)\n",
    "    dec_X = torch.unsqueeze(torch.tensor([tgt_vocab['<bos>']], dtype=torch.long, device=device), dim=0)\n",
    "    \n",
    "    output_seq, attention_weight_seq = [], []\n",
    "    for _ in range(num_steps):\n",
    "        Y, dec_state = net.decoder(dec_X, dec_state)\n",
    "        \n",
    "        # 我们使用具有预测最高可能性的词元，作为解码器在下一时间步的输入。\n",
    "        dec_X = Y.argmax(dim = 2)\n",
    "        pred = dec_X.squeeze(dim=0).type(torch.int32).item()\n",
    "        \n",
    "        # 保存注意力权重（稍后讨论）\n",
    "        if save_attention_weights:\n",
    "            attention_weight_seq.append(net.decoder.attention_weights)\n",
    "        \n",
    "        if pred == tgt_vocab['<eos>']:\n",
    "            break\n",
    "        \n",
    "        output_seq.append(pred)\n",
    "    return ' '.join(tgt_vocab.to_tokens(output_seq)), attention_weight_seq"
   ]
  },
  {
   "cell_type": "markdown",
   "id": "8817c1df",
   "metadata": {},
   "source": [
    "## 预测序列的评估"
   ]
  },
  {
   "cell_type": "markdown",
   "id": "f261cee3",
   "metadata": {},
   "source": [
    "&emsp;&emsp;用$p_{n}$表示$n$元语法的精确度，它是两个数量的比值:\n",
    "\n",
    "1. 第一个是预测序列与标签序列中匹配的$n$元语法的数量。\n",
    "\n",
    "2. 第二个是预测序列中$n$元语法的数量的比率。\n",
    "\n",
    "&emsp;&emsp;详细解释为：即给定的标签序列$A、B、C、D、E、F$和预测序列$A、B、B、C、D$，我们有$p_{1} = \\frac{4}{5}, p_{2} = \\frac{3}{4}, p_{3} = \\frac{1}{3}$和$p_{4} = 0$。另外，$len_{label}$表示标签序列中的词元数和$len_{pre}$表示预测序列中的词元数。那么，$BLEU$的定义是：\n",
    "\n",
    "$$\n",
    "\\exp \\left(\\min \\left(0,1-\\frac{\\text { len }_{\\text {label }}}{\\text { len }_{\\text {pred }}}\\right)\\right) \\prod_{n=1}^{k} p_{n}^{1 / 2^{n}}\n",
    "$$\n",
    "\n",
    "&emsp;&emsp;其中$k$是用于匹配的最长的$n$元语法。"
   ]
  },
  {
   "cell_type": "markdown",
   "id": "b00bfc71",
   "metadata": {},
   "source": [
    "&emsp;&emsp;当预测序列与标签序列完全相同时，`BLEU`为`1`。\n",
    "\n",
    "1. 此外，由于n元语法越长则匹配难度越大，所以BLEU为更长的n元语法的精确度分配更大的权重。具体来说，当$p_{n}$固定时，$p_{n}^{\\frac{1}{2^{n}}}$会随着$n$的增长而增加(原始论文使用$p_{n}^{\\frac{1}{n}}$)。\n",
    "\n",
    "2. 而且，由于预测的序列越短获得的$p_{n}$值越高，所以乘法项之前的系数用于惩罚较短的预测序列。例如，当$k = 2$时，给定标签序列$A、B、C、D、E、F$和预测序列$A、B$，尽管$p_{1} = p_{2} = 1$, 惩罚因子$exp(1 - 6/2) \\sim 0.14$会降低BLEU。"
   ]
  },
  {
   "cell_type": "code",
   "execution_count": 17,
   "id": "4b9c2d9c",
   "metadata": {},
   "outputs": [],
   "source": [
    "import math\n",
    "import collections\n",
    "# 计算 BLEU\n",
    "def bleu(pred_seq, label_seq, k):\n",
    "    \"\"\"\n",
    "    \n",
    "    \"\"\"\n",
    "    pred_tokens, label_tokens = pred_seq.split(' '), label_seq.split(' ')\n",
    "    len_pred, len_label = len(pred_tokens), len(label_tokens)\n",
    "    \n",
    "    score = math.exp(min(0, 1 - len_label / len_pred))\n",
    "    # 遍历不同的n-gram。\n",
    "    for n in range(1, k + 1):\n",
    "        num_matches, label_subs = 0, collections.defaultdict(int)\n",
    "        for i in range(len_label - n + 1):  # 遍历label中的n-gram语法。\n",
    "            label_subs[''.join(label_tokens[i: i + n])] += 1\n",
    "            \n",
    "        for i in range(len_pred - n + 1):  # 遍历预测中的n-gram语法。\n",
    "            if label_subs[''.join(pred_tokens[i: i + n])] > 0:\n",
    "                num_matches += 1 # 如果发现有，则匹配的数字需要加1。\n",
    "                label_subs[''.join(pred_tokens[i: i + n])] -= 1  # label中的数字需要减去1。\n",
    "        score *= math.pow(num_matches / (len_pred - n + 1), math.pow(0.5, n))\n",
    "    return score"
   ]
  },
  {
   "cell_type": "code",
   "execution_count": 18,
   "id": "57062c17",
   "metadata": {},
   "outputs": [
    {
     "name": "stdout",
     "output_type": "stream",
     "text": [
      "go . => va !, bleu 1.000\n",
      "i lost . => j'ai du <unk> pas ?, bleu 0.000\n",
      "he's calm . => il est mouillé <unk> tomber tomber . ! !, bleu 0.343\n",
      "i'm home . => je suis juste !, bleu 0.418\n"
     ]
    }
   ],
   "source": [
    "engs = ['go .', \"i lost .\", 'he\\'s calm .', 'i\\'m home .']\n",
    "fras = ['va !', 'j\\'ai perdu .', 'il est calme .', 'je suis chez moi .']\n",
    "for eng, fra in zip(engs, fras):\n",
    "    translation, attention_weight_seq = predict_seq2seq(\n",
    "        net, eng, src_vocab, tgt_vocab, num_steps, device)\n",
    "    print(f'{eng} => {translation}, bleu {bleu(translation, fra, k=2):.3f}')"
   ]
  },
  {
   "cell_type": "code",
   "execution_count": null,
   "id": "b7db5fa1",
   "metadata": {},
   "outputs": [],
   "source": []
  },
  {
   "cell_type": "code",
   "execution_count": null,
   "id": "c21c1b9f",
   "metadata": {},
   "outputs": [],
   "source": []
  }
 ],
 "metadata": {
  "kernelspec": {
   "display_name": "ACG",
   "language": "python",
   "name": "acg"
  },
  "language_info": {
   "codemirror_mode": {
    "name": "ipython",
    "version": 3
   },
   "file_extension": ".py",
   "mimetype": "text/x-python",
   "name": "python",
   "nbconvert_exporter": "python",
   "pygments_lexer": "ipython3",
   "version": "3.6.13"
  },
  "toc": {
   "base_numbering": 1,
   "nav_menu": {},
   "number_sections": true,
   "sideBar": true,
   "skip_h1_title": false,
   "title_cell": "Table of Contents",
   "title_sidebar": "Contents",
   "toc_cell": false,
   "toc_position": {
    "height": "calc(100% - 180px)",
    "left": "10px",
    "top": "150px",
    "width": "288px"
   },
   "toc_section_display": true,
   "toc_window_display": true
  }
 },
 "nbformat": 4,
 "nbformat_minor": 5
}
