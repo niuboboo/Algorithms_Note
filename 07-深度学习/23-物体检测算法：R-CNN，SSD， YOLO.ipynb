{
 "cells": [
  {
   "cell_type": "markdown",
   "id": "03ad462c",
   "metadata": {},
   "source": [
    "## 区域卷积神经网络(R-CNN)\n",
    "\n",
    "\n",
    "\n",
    "1. 使用启发式搜索算法来选择锚框。\n",
    "\n",
    "2. 选出来锚框之后，对每一个锚框当作一张图片，然后用预训练模型来对每个锚框抽取特征。\n",
    "\n",
    "3. 抽出来特征之后，用SVM来对类别进行分类。\n",
    "\n",
    "4. 再训练一个线性回归模型来预测边缘框的偏移。"
   ]
  },
  {
   "cell_type": "markdown",
   "id": "293f24bf",
   "metadata": {},
   "source": [
    "### 兴趣区域(ROI)池化层\n",
    "\n",
    "锚框每次选到的大小是不一样的，这就没办法做成一个`batch size`, 因此这里提出是: 给定一个锚框，均匀分割成$n \\times m$块，输出每块里的最大值。这样，不管锚框多大，总是会输出$nm$个值。 "
   ]
  },
  {
   "cell_type": "markdown",
   "id": "00e272d2",
   "metadata": {},
   "source": [
    "## Fast RCNN\n",
    "\n",
    "R-CNN里面的问题就是对每个锚框都抽特征，如果有1000个锚框的话，就需要抽一千次，这个计算量太大了。\n",
    "\n",
    "使用CNN对整张图片(不是锚框)抽取特征，然后再在原始图像上选择锚框，锚款选择好之后，再将其映射到CNN的输出上面， 这样就得到了原始图像锚框对应的CNN特征图上的特征。\n",
    "\n",
    "之后再使用ROI池化层对每个锚框生成固定长度的特征。\n",
    "\n",
    "之后再进入全连接层，也不需要SVM。"
   ]
  },
  {
   "cell_type": "markdown",
   "id": "e4a9e256",
   "metadata": {},
   "source": [
    "## Faster R-CNN\n",
    "\n",
    "使用一个区域提议网络(Region Proposal Network)来替代启发式搜索来获得更好的锚框。区域提议网络是加在卷积网络之后，ROI之前，用于给出一些比较糙的锚框。"
   ]
  },
  {
   "cell_type": "markdown",
   "id": "14f62a7f",
   "metadata": {},
   "source": [
    "## Mask R-CNN\n",
    "\n",
    "Mask R-CNN和Faster R-CNN基本上没有什么区别，如果有像素级别的编号的话，我们是可以使用FCN来利用这些信息的，比如COCO数据集就有像素级别的标号。"
   ]
  },
  {
   "cell_type": "markdown",
   "id": "f7dbeab5",
   "metadata": {},
   "source": [
    "## 单发多框检测 (SSD)\n",
    "\n",
    "核心思想是解决`Faster R-CNN`序列将其分成两部分，一部分`Region Proposal Network`选锚框，一部分做预测的问题。`SSD`就是做一次就够了。\n",
    "\n",
    "### 生成锚框\n",
    "\n",
    "对每个像素，生成多个以它为中心的锚框。给定$n$个大小$s_{1}, \\cdots, s_{n}$和$m$个高宽比，那么生成$n + m -1$个锚框，其大小和高宽比分别为:\n",
    "\n",
    "$$\n",
    "(s_{1}, r_{1}), (s_{2}, r_{2}), \\cdots, (s_{n}, r_{1}), (s_{1}, r_{2}), \\cdots, (s_{1}, r_{m})\n",
    "$$\n",
    "\n",
    "一个基础网络来抽取特征，然后多个卷积层来减半高宽。在每段都生成锚框，底部段来拟合小物体，顶部段来你和大物体。对每个锚框预测类别和边缘框。\n",
    "\n",
    "`SSD`通过单神经网络来检测模型，以每个像素为中心，产生多个锚框，在多个段的输出上进行多尺度的检测。"
   ]
  },
  {
   "cell_type": "markdown",
   "id": "7ab52960",
   "metadata": {},
   "source": [
    "## YOLO\n",
    "\n",
    "`SSD`中锚框大量重叠，因此浪费了很多计算。YOLO将图片均分成$S \\times S$个锚框，每个锚框预测$B$个边缘框。"
   ]
  },
  {
   "cell_type": "markdown",
   "id": "f9e4f376",
   "metadata": {},
   "source": []
  },
  {
   "cell_type": "code",
   "execution_count": null,
   "id": "a705aa5e",
   "metadata": {},
   "outputs": [],
   "source": []
  },
  {
   "cell_type": "code",
   "execution_count": null,
   "id": "ed9217ca",
   "metadata": {},
   "outputs": [],
   "source": []
  },
  {
   "cell_type": "code",
   "execution_count": null,
   "id": "9acacf54",
   "metadata": {},
   "outputs": [],
   "source": []
  },
  {
   "cell_type": "code",
   "execution_count": null,
   "id": "113b54d2",
   "metadata": {},
   "outputs": [],
   "source": []
  }
 ],
 "metadata": {
  "kernelspec": {
   "display_name": "Python 3 (ipykernel)",
   "language": "python",
   "name": "python3"
  },
  "language_info": {
   "codemirror_mode": {
    "name": "ipython",
    "version": 3
   },
   "file_extension": ".py",
   "mimetype": "text/x-python",
   "name": "python",
   "nbconvert_exporter": "python",
   "pygments_lexer": "ipython3",
   "version": "3.9.4"
  },
  "toc": {
   "base_numbering": 1,
   "nav_menu": {},
   "number_sections": true,
   "sideBar": true,
   "skip_h1_title": false,
   "title_cell": "Table of Contents",
   "title_sidebar": "Contents",
   "toc_cell": false,
   "toc_position": {},
   "toc_section_display": true,
   "toc_window_display": true
  }
 },
 "nbformat": 4,
 "nbformat_minor": 5
}
