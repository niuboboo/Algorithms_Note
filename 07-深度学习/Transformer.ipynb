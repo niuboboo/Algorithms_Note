{
 "cells": [
  {
   "cell_type": "markdown",
   "id": "07f42c4e",
   "metadata": {},
   "source": [
    "## Transformer"
   ]
  },
  {
   "cell_type": "markdown",
   "id": "f06d9a63",
   "metadata": {},
   "source": [
    "- http://nlp.seas.harvard.edu/2018/04/03/attention.html\n",
    "- http://jalammar.github.io/illustrated-transformer/"
   ]
  },
  {
   "cell_type": "code",
   "execution_count": 1,
   "id": "966e0a0c",
   "metadata": {},
   "outputs": [],
   "source": [
    "import numpy as np\n",
    "import torch\n",
    "import torch.nn as nn\n",
    "import torch.nn.functional as F\n",
    "import math, copy, time\n",
    "from torch.autograd import Variable\n",
    "import matplotlib.pyplot as plt\n",
    "import seaborn\n",
    "seaborn.set_context(context='talk')\n",
    "%matplotlib inline"
   ]
  },
  {
   "cell_type": "markdown",
   "id": "95a67be2",
   "metadata": {},
   "source": [
    "## 模型架构\n",
    "\n",
    "Transformer模型架构主要处理自然语言处理相关的工作，因此很多命名方式遵循NLP中的规则，比如Embedding层将称作**文本嵌入层**，Embedding层产生的张量称为**词嵌入张量**，它的最后一维将称作**词向量**。\n",
    "\n",
    "通用的 **编码器解码器** 架构：\n",
    "       \n",
    "<img src=\"../images/Transformer.png\" width=\"40%\">\n",
    "\n",
    "**输入部分包括**：\n",
    "\n",
    "1. 源文本的嵌入层及其位置编码器。源文本先进入一个Embedding嵌入层，之后紧接着进入一个位置编码器的处理。\n",
    "2. 目标文本嵌入层及其位置编码器。目标文本也先进入一个Embedding嵌入层，之后也经过一个位置编码器。\n",
    "\n",
    "**输出部分**：就是一个线性层和一个Softmax输出概率：\n",
    "\n",
    "**编码器部分**：\n",
    "\n",
    "1. 由N个编码器堆叠而成，每个编码器层由两个子层连接结构组成。\n",
    "2. 第一个子层连接结构包括一个多头注意力子层和规范化层以及一个残差连接。\n",
    "3. 第二个子层连接结构包括一个前馈全连接子层和规范化层以及一个残差连接。\n",
    "\n",
    "**解码器部分**：\n",
    "\n",
    "1. 由N个解码器堆叠而成，每个解码器层由三个子层连接结构组成，\n",
    "2. 第一个子层连接结构包括一个多头自注意力子层和规范化层以及一个残差连接。\n",
    "3. 第二个子层连接结构包括多头注意力子层和规范化层以及一个残差连接。\n",
    "4. 第三个子层连接结构包括一个前馈全连接子层和规范化层以及一个残差连接。\n",
    "\n"
   ]
  },
  {
   "cell_type": "markdown",
   "id": "d916aa26",
   "metadata": {},
   "source": [
    "## 1. 嵌入层\n",
    "\n",
    "文本嵌入层的作用，无论是源文本嵌入还是目标文本嵌入，都是为了将文本中词汇的数字表示转变为向量表示，希望在这样的高纬空间中捕捉词汇间的关系。"
   ]
  },
  {
   "cell_type": "code",
   "execution_count": 2,
   "id": "b931e73b",
   "metadata": {},
   "outputs": [],
   "source": [
    "# 这里Embeddings中的s表示两个一模一样的嵌入层，他们共享参数。\n",
    "class Embeddings(nn.Module):\n",
    "    def __init__(self, d_model, vocab):\n",
    "        \"\"\"\n",
    "        # d_model: 指词嵌入的维度。\n",
    "        # vocab: 指词表的大小。如果是英译法，那英文的词表大小就是源文本词表大小，法文词表大小为目标词表大小。\n",
    "        \"\"\"\n",
    "        super(Embeddings, self).__init__()\n",
    "        self.lut = nn.Embedding(vocab, d_model)\n",
    "        self.d_model = d_model\n",
    "\n",
    "    def forward(self, x):\n",
    "        \"\"\"\n",
    "        # 参数x: 因为词嵌入是首层，所以代表输入给模型的文本通过词汇映射后的张量。\n",
    "        \"\"\"\n",
    "        return self.lut(x) * math.sqrt(self.d_model) # math.sqrt(self.d_model)其缩放的作用"
   ]
  },
  {
   "cell_type": "markdown",
   "id": "62c7c127",
   "metadata": {},
   "source": [
    "- nn.Embedding的演示:"
   ]
  },
  {
   "cell_type": "code",
   "execution_count": 3,
   "id": "4fa8a17b",
   "metadata": {},
   "outputs": [
    {
     "name": "stdout",
     "output_type": "stream",
     "text": [
      "tensor([[[-0.1039, -1.1569,  0.0337],\n",
      "         [ 0.1868,  1.7118,  0.3037],\n",
      "         [-0.5534,  0.7778, -0.0221],\n",
      "         [-0.1039, -1.1569,  0.0337]],\n",
      "\n",
      "        [[-0.5534,  0.7778, -0.0221],\n",
      "         [ 0.7531, -0.7355, -0.0062],\n",
      "         [ 0.1868,  1.7118,  0.3037],\n",
      "         [ 0.1565,  0.4716, -0.9841]]], grad_fn=<EmbeddingBackward>)\n"
     ]
    }
   ],
   "source": [
    "embedding = nn.Embedding(10, 3)\n",
    "input_word = torch.LongTensor([[1,2,4,1],[4,3,2,9]])\n",
    "print(embedding(input_word))"
   ]
  },
  {
   "cell_type": "markdown",
   "id": "19ec5843",
   "metadata": {},
   "source": [
    "## 2. 位置编码\n",
    "\n",
    "因为在`Transformer`的编码结构中，并没有针对词汇位置信息的处理，因此需要在`Embedding`层后加入位置编码，将词汇位置不同可能会产生不同语意的信息加入到词嵌入张量中，以弥补位置信息的缺失。\n",
    "\n",
    "$$\n",
    "\\text{PE}(i,\\delta) = \n",
    "\\begin{cases}\n",
    "\\sin(\\frac{i}{10000^{2\\delta'/d}}) & \\text{if } \\delta = 2\\delta'\\\\\n",
    "\\cos(\\frac{i}{10000^{2\\delta'/d}}) & \\text{if } \\delta = 2\\delta' + 1\\\\\n",
    "\\end{cases}\n",
    "$$\n",
    "\n"
   ]
  },
  {
   "cell_type": "code",
   "execution_count": 4,
   "id": "35922aa2",
   "metadata": {},
   "outputs": [],
   "source": [
    "class PositionalEncoding(nn.Module):\n",
    "    \"Implement the PE function.\"\n",
    "\n",
    "    def __init__(self, d_model, dropout, max_len=5000):\n",
    "        \"\"\"\n",
    "        # d_model: 词嵌入的维度；dropout: 置0比率；max_len: 每个句子的最大长度。\n",
    "        \"\"\"\n",
    "        super(PositionalEncoding, self).__init__()\n",
    "        # 实例化nn中预定义的Dropout层，并将dropout传入其中。\n",
    "        self.dropout = nn.Dropout(p=dropout)\n",
    "\n",
    "        # Compute the positional encodings once in log space.\n",
    "        pe = torch.zeros(max_len, d_model)  # 初始化一个位置编码矩阵，它是一个0矩阵，矩阵的大小是[max_len, d_model]\n",
    "        # 初始化一个绝对位置矩阵，在这里，词汇的绝对位置就是用它的索引去表示\n",
    "        position = torch.arange(0, max_len).unsqueeze(1)  # shape=(max_len, 1)\n",
    "\n",
    "        # 绝对位置矩阵初始化后，接下来就是考虑如何将这些位置信息加入到位置编码矩阵中。\n",
    "        # 最简单的思路就是将 max_len x 1的绝对位置矩阵，变换成 max_len x d_model 形状，然后覆盖初始矩阵即可。\n",
    "        # 要做这种矩阵变换，就需要一个 1 x d_model 形状的变换矩阵 div_term。\n",
    "        # 我们还希望它能够将自然数的绝对位置编码缩放成足够小的数字，有助于之后的梯度下降过程中更快的收敛。\n",
    "        # 首先使用arange获得一个自然数矩阵，但是这里我们并没有按照预计的那样初始化一个(1 x d_model)的矩阵\n",
    "        # 我们可以把它看作是初始化了两次，而每次初始化的变换矩阵会做不同的处理，第一次初始化的变换在正弦波上，第二次余弦波上。\n",
    "        # 并把这两个矩阵分别填充在位置编码的偶数和奇数位置上，组成最终的位置编码矩阵。\n",
    "        div_term = torch.exp(torch.arange(0, d_model, 2) * -(math.log(10000.0) / d_model)) # shape=(1, d_model/2)\n",
    "        \n",
    "        pe[:, 0::2] = torch.sin(position * div_term) # shape = [max_len, d_model] 偶数项用sin\n",
    "        pe[:, 1::2] = torch.cos(position * div_term) # shape = [max_len, d_model] 奇数项用cos\n",
    "\n",
    "        \n",
    "        # 这样，我们就得道理一个位置编码矩阵pe，pe现在还只是一个二维矩阵，想要和embedding的输出(一个三维矩阵)相加\n",
    "        # 就必须扩展一个维度，所以这里使用unsequeeze扩展维度\n",
    "        pe = pe.unsqueeze(0)\n",
    "        \n",
    "        # 最后把pe位置编码矩阵注册成模型buffer，什么是buffer。\n",
    "        # 我们可以把它们认为是对模型有帮助的，但是却不是模型结构中的超参数，不需要随着优化步骤进行更新的增益对象\n",
    "        # 注册之后我们就可以在模型保存后重加载时和模型结构与参数一同被加载。\n",
    "        self.register_buffer('pe', pe)\n",
    "\n",
    "    def forward(self, x):\n",
    "        \"\"\"\n",
    "        # forward函数的参数是x，表示文本序列的词嵌入表示。\n",
    "        # 在相加之前，我们对pre做一些适配工作，将这个三维张量的第二维也就是句子最大长度的那一维，切片与输入的x的第二维相同即可。\n",
    "        # 因为我们默认max_len为5000一般来讲实在太大了，很难有一条句子包含5000个词汇，所以需要进行与输入张量的适配。\n",
    "        # 最后使用Variable进行封装，使其与x的样式相同，但是它不需要进行梯度求解，所以requires_grad设置为false。\n",
    "        \"\"\"\n",
    "        x = x + Variable(self.pe[:, :x.size(1)], requires_grad=False)\n",
    "        # 最后使用dropout对象进行丢弃操作，并返回结果。\n",
    "        return self.dropout(x)"
   ]
  },
  {
   "cell_type": "code",
   "execution_count": 5,
   "id": "5de23f4e",
   "metadata": {
    "scrolled": true
   },
   "outputs": [
    {
     "data": {
      "text/plain": [
       "<matplotlib.legend.Legend at 0x152817910>"
      ]
     },
     "execution_count": 5,
     "metadata": {},
     "output_type": "execute_result"
    },
    {
     "data": {
      "image/png": "[encoded data removed]",
      "text/plain": [
       "<Figure size 1080x360 with 1 Axes>"
      ]
     },
     "metadata": {
      "needs_background": "light"
     },
     "output_type": "display_data"
    }
   ],
   "source": [
    "plt.figure(figsize=(15, 5))\n",
    "pe = PositionalEncoding(20, 0)\n",
    "y = pe.forward(Variable(torch.zeros(1, 100, 20))) # shape = (batch_size, seq_len, d_word)\n",
    "plt.plot(np.arange(100), y[0, :, 4:9].data.numpy())\n",
    "plt.legend([\"dim %d\"%p for p in [4,5,6,7,8]])"
   ]
  },
  {
   "cell_type": "markdown",
   "id": "dd0f467f",
   "metadata": {},
   "source": [
    "Transformer虽然摒弃了RNN的循环结构和CNN的局部相关性，但对于序列来说，最重要的还是先后顺序。于是需要为词嵌入后的张量的每个元素添加位置信息。每个元素的位置有两个含义：\n",
    "\n",
    "- 每个词向量在句子中所处的时间步(axis=1),记为pos。\n",
    "- 词向量内每个元素所处的向量维度(axis=2),记为j。\n",
    "\n",
    "位置编码与Batch无关，不同batch相同位置的元素对应的位置编码信息相同。"
   ]
  },
  {
   "cell_type": "markdown",
   "id": "4809cfcc",
   "metadata": {},
   "source": [
    "## 3. 编码器"
   ]
  },
  {
   "cell_type": "markdown",
   "id": "8da43b44",
   "metadata": {},
   "source": [
    "编码器由多层 `N=6` 完全相同的层堆叠而成\n",
    "<img src=\"../images/Transformer-encoder.png\" width=\"40%\">\n",
    "其层次结构如上图中所示：\n",
    "```\n",
    "1. Encoder\n",
    "    2. EncoderLayer\n",
    "        3. SublayerConnection\n",
    "            4. sublayer --> self_attn\n",
    "            \n",
    "        3. SublayerConnection\n",
    "            4. sublayer --> feed_forward\n",
    "            \n",
    "    2. EncoderLayer\n",
    "    .\n",
    "    .\n",
    "    .\n",
    "    .\n",
    "```"
   ]
  },
  {
   "cell_type": "markdown",
   "id": "0c14a941",
   "metadata": {},
   "source": [
    "### 3.1 掩码张量\n",
    "\n",
    "掩码表示遮掩，它的尺寸不定，里面一般只有两种`1`和`0`两种元素，代表位置被遮掩，或者不被遮掩，至于是`0`位置被遮掩还是`1`位置被遮掩可以自定义。因此它的作用就是让另一个张量中的一些数值被遮掩，也可以说被替换，它的表现形式是一个张量。\n",
    "\n",
    "在`transformer`中，掩码张量的主要作用是应用在`attention`中，有一些生成的`attention`张量中的值计算有可能已知了未来信息而得到的，未来信息被看到是因为训练时会把整个输出结果都一次性进行Embedding，但是理论上解码器的输出却不是一次就能产生最终结果的，而是一次次通过上一次结果综合得出的，因此，未来的信息可能被提前利用，所以需要遮掩。"
   ]
  },
  {
   "cell_type": "code",
   "execution_count": 6,
   "id": "f0333a3c",
   "metadata": {},
   "outputs": [
    {
     "data": {
      "text/plain": [
       "<matplotlib.image.AxesImage at 0x1529adb50>"
      ]
     },
     "execution_count": 6,
     "metadata": {},
     "output_type": "execute_result"
    },
    {
     "data": {
      "image/png": "[encoded data removed]",
      "text/plain": [
       "<Figure size 216x216 with 1 Axes>"
      ]
     },
     "metadata": {
      "needs_background": "light"
     },
     "output_type": "display_data"
    }
   ],
   "source": [
    "def subsequent_mask(size):\n",
    "    \"\"\"\n",
    "    # 解码器一次输入序列中向量，当前步后面的序列需要被遮盖, 参数size是掩码张量最后两个维度的大小，它的最后两维形成一个方阵。\n",
    "    # 需要被遮盖的单词被标记为 False \n",
    "    \"\"\"\n",
    "    attn_shape = (1, size, size)\n",
    "    # np.ones往矩阵里面添加1，然后使用np.triu形成上三角矩阵，使用'uint8'节省空间开销。\n",
    "    subsequent_mask = np.triu(np.ones(attn_shape), k=1).astype('uint8')\n",
    "    return torch.from_numpy(subsequent_mask) == 0 # 取衡等于0的，使其变为下三角矩阵。\n",
    "\n",
    "plt.figure(figsize=(3, 3))\n",
    "plt.imshow(subsequent_mask(20)[0])"
   ]
  },
  {
   "cell_type": "markdown",
   "id": "0de6a6d1",
   "metadata": {},
   "source": [
    "`np.triu(m,k=0)`：第 k 对角线以下的元素归零，中心对角线索引为 0 ，索引向右上角增加 1、2、3 ，向左下角-1、-2、-3\n",
    "```\n",
    ">>> np.triu([[1,2,3],[4,5,6],[7,8,9],[10,11,12]], -1)\n",
    "array([[ 1,  2,  3],\n",
    "       [ 4,  5,  6],\n",
    "       [ 0,  8,  9],\n",
    "       [ 0,  0, 12]])\n",
    "```"
   ]
  },
  {
   "cell_type": "markdown",
   "id": "4a829c13",
   "metadata": {},
   "source": [
    "在翻译过程中，每次送入解码器的句子只包含已经翻译出来的那些词，而不包含还没有翻译出来的未来的词。为了使训练和测试保持一致，解码器端在训练的时候也需要遮盖掉未来的词。即：**当前时间步只能看到该时间步之前输入的所有词**。"
   ]
  },
  {
   "cell_type": "markdown",
   "id": "6b025935",
   "metadata": {},
   "source": [
    "### 3.2 注意力机制"
   ]
  },
  {
   "cell_type": "markdown",
   "id": "c4acddbb",
   "metadata": {},
   "source": [
    "注意力机制需要指定三个输入$Q$，$K$，$V$，然后通过公式得到注意力的计算结果。这个结果代表`query`在`key`和`value`作用下的表示，而这个具体的计算规则有很多种，我这里只介绍我们用到的这一种：\n",
    "\n",
    "<img src=\"../images/scaled_attention.png\" width=\"30%\">\n",
    "\n",
    "\n",
    "$$\\mathrm{Attention}(Q, K, V) = \\mathrm{softmax}(\\frac{QK^T}{\\sqrt{d_k}})V$$\n",
    "\n",
    "假如我们有一个问题：给出了一段文本，使用一些关键词对它进行描述！为了方便统一正确答案，这道题可能预先已经给大家写出了一些关键词作为提示，其中这些给出的提示就可以看作是`key`，而整个文本的信息就相当于`query`，`value`的含义则更抽象，可以比作是看完这段文本信息后，脑子里浮现的答案信息，假设我们一开始并不是很聪敏，第一次看到这段文本后脑子里基本上浮现的信息就只有提示信息。因此`key`和`value`基本是相同的，但是随着我们对这个问题的深入理解，开始能够对`query`的关键信息进行提取关键信息，根据提示`key`生成`query`的关键词表示方法，也就是另外一种特征表示方法。\n",
    "\n",
    "刚刚我们说到`key`和`value`一般情况下是相同的，与`query`是不同的，但是自注意力机制中`query`、`key`和`value`是相同的。自注意力机制需要用给定文本自身来表达自己，也就是需要从给定文本中抽取关键词来表述它，相当于对文本自身的一次特征提取。"
   ]
  },
  {
   "cell_type": "code",
   "execution_count": 7,
   "id": "10af7283",
   "metadata": {},
   "outputs": [],
   "source": [
    "def attention(query, key, value, mask=None, dropout=None):\n",
    "    \"\"\"\n",
    "    query : batch, target_len, feats\n",
    "    key   : batch, seq_len,    feats\n",
    "    value : batch, seq_len,    val_feats\n",
    "    \n",
    "    return: batch, target_len, val_feats\n",
    "    \"\"\"\n",
    "    # 在函数中，首先取query的最后一个维度的大小，一般情况下就等同于我们的词嵌入维度，命名为d_k。\n",
    "    d_k = query.size(-1)\n",
    "    \n",
    "    # 按照注意力公式，将query与key的转置相乘，这里面key是将最后两个维度进行转置，再除以缩放系数，得到注意力张量得分。\n",
    "    scores = torch.matmul(query, key.transpose(-2, -1)) / math.sqrt(d_k)\n",
    "    \n",
    "    # 接着判断mask是否使用掩码张量。\n",
    "    if mask is not None:\n",
    "        # 使用tensor的masked_fill方法将掩码张量每个位置一一比较，如果掩码张量为0，用-1e9填充。\n",
    "        scores = scores.masked_fill(mask == 0, -1e9)\n",
    "    \n",
    "    # 对score的最后一个维度进行softmax操作，得到注意力张量。\n",
    "    p_attn = F.softmax(scores, dim=-1)\n",
    "\n",
    "    if dropout is not None:\n",
    "        p_attn = dropout(p_attn)\n",
    "    # 最后根据公式，将p_attn与value张量相乘，获得最终的query注意力表示。\n",
    "    return torch.matmul(p_attn, value), p_attn"
   ]
  },
  {
   "cell_type": "code",
   "execution_count": 8,
   "id": "761d34ff",
   "metadata": {},
   "outputs": [
    {
     "name": "stdout",
     "output_type": "stream",
     "text": [
      "attn.shape:  torch.Size([3, 5, 8])\n",
      "p_attn.shape:  torch.Size([3, 5, 6])\n",
      "Test passed\n"
     ]
    }
   ],
   "source": [
    "def test_attention():\n",
    "    query = torch.randn(3, 5, 4)  # batch, target_len, feats\n",
    "    key = torch.randn(3, 6, 4)  # batch, seq_len, feats\n",
    "    value = torch.randn(3, 6, 8)  # batch, seq_len, val_feats\n",
    "    attn, p_attn = attention(query, key, value)\n",
    "    print(\"attn.shape: \", attn.shape)\n",
    "    print(\"p_attn.shape: \", p_attn.shape)\n",
    "    assert attn.shape == (3, 5, 8)\n",
    "    print(\"Test passed\")\n",
    "\n",
    "# 如果query=key=value，我们将其称为自注意力机制。\n",
    "test_attention()"
   ]
  },
  {
   "cell_type": "markdown",
   "id": "eb66b25c",
   "metadata": {},
   "source": [
    "### 3.3 多头注意力机制"
   ]
  },
  {
   "cell_type": "markdown",
   "id": "b30db6eb",
   "metadata": {},
   "source": [
    "\n",
    "<img src=\"../images/multi_head_attention.png\" width=\"40%\">"
   ]
  },
  {
   "cell_type": "markdown",
   "id": "1a4d0b75",
   "metadata": {},
   "source": [
    "从多头注意力的结构图中，貌似这个所谓的多个头就是指多组线性变换层，其实并不是。我只有使用了一组线性变化层，即三个变换张量对Q、K、V分别进行线性变换，这些变换并不会改变原有张量的尺寸，因此**每个变换矩阵都是方阵**，得到输出结果后，多头的作用才开始显现，每个头开始从词义层面分割输出张量，也就是**每个头都想获得一组独立的Q、K、V进行注意力机制的计算**，但是句子中的每个词表示只获得一部分，也就是只分割最后一维的词嵌入向量，这就是所谓的多头，将每个头的获得的输入送到注意力机制中，就形成多头注意力机制。"
   ]
  },
  {
   "cell_type": "markdown",
   "id": "2e1ef8f7",
   "metadata": {},
   "source": [
    "这种结构设计能让每个注意力机制去优化每个词汇的不同特征部分，从而均衡同一种注意力机制可能产生的偏差，让词义拥有来自更多元的表达，实验表明可以从而提升模型效果。"
   ]
  },
  {
   "cell_type": "code",
   "execution_count": 9,
   "id": "3eb28537",
   "metadata": {},
   "outputs": [],
   "source": [
    "# 首先需要定义克隆函数，因为在多头注意力机制的实现中，用到多个结构相同的线性层。\n",
    "# 所以我们定义一个可以复制多份网络的函数：\n",
    "def clone(module, N):\n",
    "    \"\"\"\n",
    "    # 克隆网络的函数，它的参数module表示要克隆的目标网络层，N代表需要克隆的数量。\n",
    "    # 然后在函数中，我们通过for循环对module进行N次深度拷贝，使其每个module成为独立的层，然后将其放在nn.ModuleList类型的列表中存放。\n",
    "    # 然后将其放在nn.ModuleList中存放。\n",
    "    \"\"\"\n",
    "    return nn.ModuleList([copy.deepcopy(module) for _ in range(N)])"
   ]
  },
  {
   "cell_type": "code",
   "execution_count": 10,
   "id": "38dc6435",
   "metadata": {},
   "outputs": [],
   "source": [
    "class MultiHeadedAttention(nn.Module):\n",
    "    def __init__(self, h, d_model, dropout=0.1):\n",
    "        \"\"\"\n",
    "        h, num_heads 代表头数。\n",
    "        d_model, features 代表词嵌入的维度。\n",
    "        \"\"\"\n",
    "        super(MultiHeadedAttention, self).__init__()\n",
    "        # 在函数中，首先判断h是否能够被d_model整除，这是因为我们之后要给每个头分配等量的词特征，也就是d_model/h个。\n",
    "        assert d_model % h == 0\n",
    "        \n",
    "        self.d_k = d_model // h  # 得到每个头获得的分割词向量维度d_k。\n",
    "        self.h = h  # 传入头的数量\n",
    "        \n",
    "        # 然后获得线性层对象，通过nn.Linear实例化，它的内部变换矩阵是d_model x d_model, 然后使用clones函数复制4份\n",
    "        # 这是因为在多头注意力机制中，Q、K、V各需要一个，最后拼接的矩阵还需要一个，因此是四个。\n",
    "        self.linears = clone(nn.Linear(d_model, d_model), 4)\n",
    "        self.attn = None  # 代表注意力张量，初始赋值为None。\n",
    "        self.dropout = nn.Dropout(dropout)\n",
    "\n",
    "    def forward(self, query, key, value, mask=None):\n",
    "        # query,key,value: batch,seq_len,d_model\n",
    "        \n",
    "        if mask is not None:\n",
    "            mask = mask.unsqueeze(1) # 使用unsqueeze扩展维度，代表多头中的第n个头。\n",
    "            \n",
    "        # 接着，我们获得一个batch_size的变量，他是query尺寸的第一个数字，代表有多少条样本。\n",
    "        nbatches = query.size(0)\n",
    "        \n",
    "        # 首先利用zip将输入的QKV与三个线性层组到一起，然后使用for循环，将输入QKV分别传到线性层中。\n",
    "        # self.linears中有四个线性层，只传入3个的话，只会处理前面三个。\n",
    "        # 拿到网络结构和数据之后，我们用view对数据做维度转换。\n",
    "        # 为了让代表句子长度维度和词向量维度能够相邻，这样注意力机制才能找到词义与句子之间的位置关系。\n",
    "        # 从attention函数中，可以看到，利用的是原始输入的倒数第一维和倒数第二维，这样我们就得到了每个头的输入。\n",
    "        query, key, value = [\n",
    "            l(x).view(nbatches, -1, self.h, self.d_k).transpose(1, 2)\n",
    "            for l, x in zip(self.linears, (query, key, value))\n",
    "        ]\n",
    "        \n",
    "        # 直接调用attention函数，同时也将mask和dropout传入其中。\n",
    "        x, self.attn = attention(\n",
    "            query,  # batch,num_head,seq_len,feats\n",
    "            key,\n",
    "            value,\n",
    "            mask=mask,\n",
    "            dropout=self.dropout)\n",
    "        \n",
    "        # 通过多头注意力计算后，我们就得到了每个头计算结果组成的4维张量，我们需要将其转换为输入的形状，以方便后续计算。\n",
    "        # 因此这里开始进行第一步处理环节的逆操作，先对第二和第三维进行转置，然后使用contiguous方法。\n",
    "        # 这个方法的作用就是能够让转置后的张量应用view方法，否则将无法直接使用。\n",
    "        # 所以，下一步就是使用view重塑形状，变成输入形状相同。\n",
    "        x = x.transpose(1, 2).contiguous().view(nbatches, -1,\n",
    "                                                self.h * self.d_k)\n",
    "        # batch,seq_len,num_head*feats\n",
    "        return self.linears[-1](x)  # 最后使用线性层列表中的最后一个线性层对输入进行线性变换。得到最终的多头注意力结构的输出。"
   ]
  },
  {
   "cell_type": "code",
   "execution_count": 11,
   "id": "a849d771",
   "metadata": {},
   "outputs": [
    {
     "name": "stdout",
     "output_type": "stream",
     "text": [
      "Test passed!\n"
     ]
    }
   ],
   "source": [
    "def test_multi_head():\n",
    "    x = torch.randn(2, 4, 12)\n",
    "    d_model = x.shape[-1]\n",
    "    model = MultiHeadedAttention(2, d_model)\n",
    "    attn = model(x, x, x)\n",
    "    assert attn.shape == (2, 4, 12)\n",
    "    print(\"Test passed!\")\n",
    "\n",
    "test_multi_head()"
   ]
  },
  {
   "cell_type": "markdown",
   "id": "a8b2cacd",
   "metadata": {},
   "source": [
    "### 3.4 前馈全连接层"
   ]
  },
  {
   "cell_type": "markdown",
   "id": "81ae0296",
   "metadata": {},
   "source": [
    "在`Transformer`中，前馈全连接层就是具有两层线性层的全连接网络。是考虑注意力机制可能对于复杂过程的拟合程度不够，通过增加两层网络来增强模型的能力："
   ]
  },
  {
   "cell_type": "code",
   "execution_count": 12,
   "id": "4d06693c",
   "metadata": {},
   "outputs": [],
   "source": [
    "class PositionwiseFeedForward(nn.Module):\n",
    "    def __init__(self, d_model, d_ff, dropout=0.1):\n",
    "        \"\"\"\n",
    "        d_model: 词嵌入的维度\n",
    "        d_ff: dff表示前馈全连接层中间输入的维度，也就是隐藏层维度。\n",
    "        \"\"\"\n",
    "        super(PositionwiseFeedForward, self).__init__()\n",
    "        self.w_1 = nn.Linear(d_model, d_ff)\n",
    "        self.w_2 = nn.Linear(d_ff, d_model)\n",
    "        self.dropout = nn.Dropout(dropout)\n",
    "\n",
    "    def forward(self, x):\n",
    "        return self.w_2(self.dropout(F.relu(self.w_1(x))))"
   ]
  },
  {
   "cell_type": "markdown",
   "id": "70e1a9d9",
   "metadata": {},
   "source": [
    "### 3.5 规范化层"
   ]
  },
  {
   "cell_type": "markdown",
   "id": "1063aa81",
   "metadata": {},
   "source": [
    "规范化层是所有深层网络模型都需要的标准网络层，因为随着网络层数的增加，通过多层的计算后，参数可能开始出现过大或者过小的情况，这样可能会导致学习过程出现异常，模型可能收敛非常慢。因此都会在一定层数后接规范化层进行数值的规范化，使其特征数在合理范围内。"
   ]
  },
  {
   "cell_type": "markdown",
   "id": "3709a86b",
   "metadata": {},
   "source": [
    "- Batch Normalization\n",
    "\n",
    "BN是按照样本数计算归一化统计量的，当样本数很少时，比如说只有4个。这四个样本的均值和方差便不能反映全局的统计分布息，所以基于少量样本的BN的效果会变得很差。\n",
    "\n",
    "BN是取不同样本的**同一个通道**的特征做归一化；LN则取的是**同一个样本**的不同通道做归一化。\n",
    "\n",
    "- Layer Normalization\n",
    "\n",
    "LN相当于是对特征做归一化。"
   ]
  },
  {
   "cell_type": "code",
   "execution_count": 13,
   "id": "1c90053d",
   "metadata": {},
   "outputs": [],
   "source": [
    "class LayerNorm(nn.Module):\n",
    "    \"\"\"\n",
    "    inputs: batch, seq_len, features\n",
    "    沿输入数据的特征维度归一化\n",
    "    \"\"\"\n",
    "    def __init__(self, features, eps=1e-6):\n",
    "        # 需要指定特征数量 features, 表示词嵌入的维度。\n",
    "        super(LayerNorm, self).__init__()\n",
    "        \n",
    "        # 根据features的形状初始化两个参数张量a2和b2，第一个初始化为1张量，第二个初始化为0张量。这两个张量就是规范化公式\n",
    "        # 因为直接对上一层得到的结果做规范化公式计算，将改变结果的正常表征，因此就需要有参数作为调节因子。\n",
    "        # 使其既能满足规范化要求，又能不改变针对目标的表征，最后使用nn.Parameter封装，代表他们是模型的参数。\n",
    "        self.a_2 = nn.Parameter(torch.ones(features))\n",
    "        self.b_2 = nn.Parameter(torch.zeros(features))  # 参数，之后也要学习。\n",
    "        self.eps = eps  # 防止除0\n",
    "\n",
    "    def forward(self, x):\n",
    "        \"\"\"\n",
    "        x --> (x - x.mean) / x.std \n",
    "        \"\"\"\n",
    "        mean = x.mean(-1, keepdim=True) # 在最后一个维度求均值，保持维度不变。\n",
    "        std = x.std(-1, keepdim=True)\n",
    "        return self.a_2 * (x - mean) / (std + self.eps) + self.b_2"
   ]
  },
  {
   "cell_type": "code",
   "execution_count": 14,
   "id": "640080f5",
   "metadata": {},
   "outputs": [
    {
     "name": "stdout",
     "output_type": "stream",
     "text": [
      "Before Norm: \n",
      " [[[1. 2. 3.]\n",
      "  [2. 4. 5.]]]\n",
      "After Norm: \n",
      " [[[-0.999999    0.          0.999999  ]\n",
      "  [-1.09108874  0.21821775  0.87287099]]]\n"
     ]
    },
    {
     "name": "stderr",
     "output_type": "stream",
     "text": [
      "/var/folders/x9/xgj8n5xd2bb0cv55w7c72bn40000gn/T/ipykernel_7542/1527541485.py:2: DeprecationWarning: `np.float` is a deprecated alias for the builtin `float`. To silence this warning, use `float` by itself. Doing this will not modify any behavior and is safe. If you specifically wanted the numpy scalar type, use `np.float64` here.\n",
      "Deprecated in NumPy 1.20; for more details and guidance: https://numpy.org/devdocs/release/1.20.0-notes.html#deprecations\n",
      "  x = np.array([[[1, 2, 3], [2, 4, 5]],], dtype=np.float)  # shape = (1, 2, 3)\n"
     ]
    }
   ],
   "source": [
    "def test_layernorm():\n",
    "    x = np.array([[[1, 2, 3], [2, 4, 5]],], dtype=np.float)  # shape = (1, 2, 3)\n",
    "    print(\"Before Norm: \\n\", x)\n",
    "    x = torch.from_numpy(x)       # batch, seq_len, features\n",
    "    norm = LayerNorm(x.shape[-1])\n",
    "    x = norm(x)\n",
    "    print(\"After Norm: \\n\", x.detach().numpy())\n",
    "\n",
    "test_layernorm()"
   ]
  },
  {
   "cell_type": "markdown",
   "id": "1b4a490c",
   "metadata": {},
   "source": [
    "### 3.6 子层连接结构"
   ]
  },
  {
   "cell_type": "markdown",
   "id": "4a236b77",
   "metadata": {},
   "source": [
    "输入到每个子层以及规范化层的过程中，还使用了残差连接(跳跃连接)，因此我们把这一部分结构整体叫做子层连接(代表子层及其连接结构)，在每个编码器层中，都有两个子层，这两个子层加上周围的连接结构就形成了两个子层连接结构：\n",
    "\n",
    "`SublayerConnection`中，将`sublayer`、`LayerNorm`、`Dropout`连接在一起。其中`sublayer`为我们指定的神经网络结构，可以为全连接或者是`Attention`。\n",
    "\n",
    "`SublayerConnection`层中，输入先经过一个`Layer Normalization`，然后再经过一个指定的`sublayer`，再经过一个`dropout`，并连接一个残差："
   ]
  },
  {
   "cell_type": "code",
   "execution_count": 15,
   "id": "e83a4ba6",
   "metadata": {},
   "outputs": [],
   "source": [
    "class SublayerConnection(nn.Module):\n",
    "    def __init__(self, size, dropout):\n",
    "        super(SublayerConnection, self).__init__()\n",
    "        # 实例化了规范化对象self.norm。\n",
    "        self.norm = LayerNorm(size)\n",
    "        # 又使用nn中预定义的dropout实例化一个self.dropout对象。\n",
    "        self.dropout = nn.Dropout(dropout)\n",
    "        \n",
    "    def forward(self, x, sublayer):\n",
    "        \"\"\"\n",
    "        指定内部的结构 sublayer，是 attention 层，还是 feed_forward 层\n",
    "        \"\"\"\n",
    "        # 首先对输出进行规范化，然后将结果传给子层处理，之后再对子层进行dropout操作。\n",
    "        # 随机停止一些网络中神经元的作用，来防止过拟合，最后还有一个add操作。\n",
    "        # 因为存在跳跃连接，所以是将输入x与dropout后的子层输出结果相加作为最终的子层连接输出。\n",
    "        return x + self.dropout(sublayer(self.norm(x)))"
   ]
  },
  {
   "cell_type": "markdown",
   "id": "a88b0262",
   "metadata": {},
   "source": [
    "在整个的`EncoderLayer`层的`SublayerConnection`中，我们需要去连接一个注意力机制和一个前馈神经网络："
   ]
  },
  {
   "cell_type": "markdown",
   "id": "36e32013",
   "metadata": {},
   "source": [
    "### 3.7 编码器层"
   ]
  },
  {
   "cell_type": "markdown",
   "id": "d8f821fc",
   "metadata": {},
   "source": [
    "作为编码器的组成单元，每个编码器完成一次对输入特征的提取过程，即编码过程："
   ]
  },
  {
   "cell_type": "code",
   "execution_count": 16,
   "id": "ffa1c140",
   "metadata": {},
   "outputs": [],
   "source": [
    "class EncoderLayer(nn.Module):\n",
    "    \"\"\"size: d_model\"\"\"\n",
    "    def __init__(self, size, self_attn, feed_forward, dropout):\n",
    "        \"\"\"\n",
    "        # size就是我们词嵌入的维度的大小，self_attn为多头自注意力子层实例化对象，feed_forward是我们传入前馈全连接层实例化对象。\n",
    "        \"\"\"\n",
    "        super(EncoderLayer, self).__init__()\n",
    "        # 首先将self_attn和feed_forward传入其中。\n",
    "        self.self_attn = self_attn\n",
    "        self.sublayer = clone(SublayerConnection(size, dropout), 2)\n",
    "        # 如图所示，编码器层中有两个子层连接结构，所以使用clone函数进行克隆。\n",
    "        self.feed_forward = feed_forward\n",
    "        # 把size传入其中。\n",
    "        self.size = size\n",
    "\n",
    "    def forward(self, x, mask):\n",
    "        \"\"\"\n",
    "        # 里面就是按照结构图左侧的流程，首先通过一个子层连接结构，其中包含多头自注意力子层。\n",
    "        # 然后通过第二个子层连接结构，其中包含前馈全连接子层，最后返回结果。\n",
    "        \"\"\"\n",
    "        x = self.sublayer[0](x, lambda x: self.self_attn(x, x, x, mask))\n",
    "        return self.sublayer[1](x, self.feed_forward)"
   ]
  },
  {
   "cell_type": "markdown",
   "id": "9514e3d8",
   "metadata": {},
   "source": [
    "### 3.8 编码器"
   ]
  },
  {
   "cell_type": "markdown",
   "id": "f11ffe7e",
   "metadata": {},
   "source": [
    "编码器用于对输入进行指定的特征提取过程，也称为编码，由N个编码器层堆叠而成。"
   ]
  },
  {
   "cell_type": "code",
   "execution_count": 17,
   "id": "16a1f3b0",
   "metadata": {},
   "outputs": [],
   "source": [
    "class Encoder(nn.Module):\n",
    "    def __init__(self, layer, N):\n",
    "        super(Encoder, self).__init__()\n",
    "        self.layers = clone(layer, N)  # 将多头注意力和前馈网络复制N份\n",
    "        self.norm = LayerNorm(layer.size)  # 最后输出的时候接一个Layer Normalization层\n",
    "\n",
    "    def forward(self, x, mask):\n",
    "        \"\"\"\n",
    "        需要自主生成 mask \n",
    "        \"\"\"\n",
    "        for layer in self.layers:\n",
    "            x = layer(x, mask)\n",
    "        return self.norm(x)"
   ]
  },
  {
   "cell_type": "markdown",
   "id": "7f8f68ea",
   "metadata": {},
   "source": [
    "## 4. 解码器\n",
    "\n",
    "<img src=\"../images/Transformer-decoder.png\" width=\"40%\">"
   ]
  },
  {
   "cell_type": "markdown",
   "id": "9e3b5b4a",
   "metadata": {},
   "source": [
    "### 4.1 解码器层"
   ]
  },
  {
   "cell_type": "markdown",
   "id": "fef6bb77",
   "metadata": {},
   "source": [
    "解码器层中的各个部分，如多头注意力机制，规范化层，前馈全连接网络，子层连接结构都与编码器中的实现相同，因此这里可以直接拿过来构建解码器层。"
   ]
  },
  {
   "cell_type": "markdown",
   "id": "4ebee287",
   "metadata": {},
   "source": [
    "作为解码器的组成单元，每个解码器层根据给定的输入向目标方向进行特征提取操作，即解码过程。"
   ]
  },
  {
   "cell_type": "code",
   "execution_count": 18,
   "id": "67ec15e9",
   "metadata": {},
   "outputs": [],
   "source": [
    "class DecoderLayer(nn.Module):\n",
    "    def __init__(self, size, self_attn, src_attn, feed_forward, dropout):\n",
    "        \"\"\"\n",
    "        size表示词嵌入的维度大小，同时也代表解码器的尺寸。第二个是多头自注意力对象。Q=K=V。\n",
    "        第三个是src_attn多头注意力对象Q！=K=V。\n",
    "        第四个是前馈全连接层对象。\n",
    "        \"\"\"\n",
    "        super(DecoderLayer, self).__init__()\n",
    "        self.size = size  # 作为参数用于 layernorm 层\n",
    "        self.self_attn = self_attn\n",
    "        self.src_attn = src_attn\n",
    "        self.feed_forward = feed_forward\n",
    "        \n",
    "        # 克隆三个子层连接对象\n",
    "        self.sublayer = clone(SublayerConnection(size, dropout), 3)\n",
    "\n",
    "    def forward(self, x, memory, src_mask, tgt_mask):\n",
    "        \"\"\"\n",
    "        上一层的输入x，来自编码器层的语意存储变量memory，以及源数据掩码张量和目标数据掩码张量。\n",
    "        \"\"\"\n",
    "        m = memory\n",
    "        # 将x传入第一个子层结构，第一个子层结构的输入分别是x和self-atten函数，因为是自注意力机制。\n",
    "        # 最后一个参数是目标数据掩码张量，这时要对目标数据进行遮掩，因为此时模型可能还没有生成任何目标数据。\n",
    "        # 比如在解码器准备生成第一个字符或词汇时，我们其实已经传入了第一个字符以便计算损失。\n",
    "        # 但是我们不希望在生成第一个字符时，模型能利用这个信息，因此我们常常会将其遮掩，同样生成第二个字符或词汇时。\n",
    "        # 模型只能使用第一个字符或词汇信息，第二个字符以及之后的信息都不允许被模型使用。\n",
    "        x = self.sublayer[0](x, lambda x: self.self_attn(x, x, x, tgt_mask))\n",
    "        \n",
    "        # 接着进入第二个子层，这个子层中常规的注意力机制，q是输入x；k，v是编码输出memory。\n",
    "        # 同样也传入source_mask，但是进行源数据遮掩的原因并非是抑制信息泄漏，而是遮蔽掉对结果没有意义的字符而产生的注意力值。\n",
    "        # 以此提升模型的效果和训练速度，这样就完成了第二个子层的连接。\n",
    "        x = self.sublayer[1](x, lambda x: self.src_attn(x, m, m, src_mask))\n",
    "        return self.sublayer[2](x, self.feed_forward)"
   ]
  },
  {
   "cell_type": "markdown",
   "id": "2ffff1ce",
   "metadata": {},
   "source": [
    "### 4.2 解码器"
   ]
  },
  {
   "cell_type": "code",
   "execution_count": 19,
   "id": "9c7a79dc",
   "metadata": {},
   "outputs": [],
   "source": [
    "class Decoder(nn.Module):\n",
    "    def __init__(self, layer, N):\n",
    "        \"\"\"\n",
    "        layer: 表示的就是解码器层，N表示解码器层的个数。\n",
    "        \"\"\"\n",
    "        super(Decoder, self).__init__()\n",
    "        self.layers = clone(layer, N)  # 克隆N个layer，然后实例化一个规范化层。因为数据走过了所有的解码器层后最后要做规范化处理。\n",
    "        self.norm = LayerNorm(layer.size)\n",
    "\n",
    "    def forward(self, x, memory, src_mask, tgt_mask):\n",
    "        \"\"\"\n",
    "        forward中的参数有4个，x代表目标数据的嵌入表示，memory是编码器层的输出。\n",
    "        \"\"\"\n",
    "        for layer in self.layers:\n",
    "            x = layer(x, memory, src_mask, tgt_mask)\n",
    "        return self.norm(x)"
   ]
  },
  {
   "cell_type": "markdown",
   "id": "87335ca1",
   "metadata": {},
   "source": [
    "## 5. 整体框架\n",
    "定义一个`Encoder`和`Decoder`的基类："
   ]
  },
  {
   "cell_type": "code",
   "execution_count": 20,
   "id": "133c5867",
   "metadata": {},
   "outputs": [],
   "source": [
    "class EncoderDecoder(nn.Module):\n",
    "    def __init__(self, encoder, decoder, src_embed, tgt_embed, generator):\n",
    "        \"\"\"\n",
    "        编码器、解码器、输入嵌入层、目标嵌入层、输出层\n",
    "        \"\"\"\n",
    "        super(EncoderDecoder, self).__init__()\n",
    "        self.encoder = encoder\n",
    "        self.decoder = decoder\n",
    "        self.src_embed = src_embed  # 源目标文本编码\n",
    "        self.tgt_embed = tgt_embed  # 目标文本编码\n",
    "        self.generator = generator\n",
    "\n",
    "    def forward(self, src, tgt, src_mask, tgt_mask):\n",
    "        \"\"\"\n",
    "        src --> memory\n",
    "        memory + tgt --> output\n",
    "        \"\"\"\n",
    "        memory = self.encode(src, src_mask)\n",
    "        return self.decode(memory, src_mask, tgt, tgt_mask)\n",
    "\n",
    "    def encode(self, src, src_mask):\n",
    "        \"\"\"\n",
    "        src --> memory\n",
    "        \"\"\"\n",
    "        return self.encoder(self.src_embed(src), src_mask)\n",
    "\n",
    "    def decode(self, memory, src_mask, tgt, tgt_mask):\n",
    "        \"\"\"\n",
    "        memory + tgt --> output\n",
    "        \"\"\"\n",
    "        return self.decoder(self.tgt_embed(tgt), memory, src_mask, tgt_mask)"
   ]
  },
  {
   "cell_type": "markdown",
   "id": "4f5c4807",
   "metadata": {},
   "source": [
    "可以看到上述的这个编码解网络架构，有六个网络的输入：**编码器**、**解码器**、**输入嵌入层**、**目标嵌入层**、**输出层**。\n",
    "\n",
    "解码器之后要接一个输出层，主要功能是做一个`Softmax`的归一化："
   ]
  },
  {
   "cell_type": "code",
   "execution_count": 21,
   "id": "65bedcfc",
   "metadata": {},
   "outputs": [],
   "source": [
    "class Generator(nn.Module):\n",
    "    \"Define standard linear + softmax generation step.\"\n",
    "\n",
    "    def __init__(self, d_model, vocab):\n",
    "        super(Generator, self).__init__()\n",
    "        self.proj = nn.Linear(d_model, vocab)\n",
    "\n",
    "    def forward(self, x):\n",
    "        return F.log_softmax(self.proj(x), dim=-1)"
   ]
  },
  {
   "cell_type": "markdown",
   "id": "b9b7dc8a",
   "metadata": {},
   "source": [
    "## 6. 完整的模型 "
   ]
  },
  {
   "cell_type": "code",
   "execution_count": 22,
   "id": "833cafce",
   "metadata": {},
   "outputs": [],
   "source": [
    "def make_model(src_vocab,\n",
    "               tgt_vocab,\n",
    "               N=6,\n",
    "               d_model=512,\n",
    "               d_ff=2048,\n",
    "               h=8,\n",
    "               dropout=0.1):\n",
    "    \"Helper: Construct a model from hyperparameters.\"\n",
    "    \"\"\"\n",
    "    src_vocab: 源数据特征（词汇）总数，目标数据特征（词汇）总数。\n",
    "    # 编码器和解码器堆叠数，词向量映射维度，前馈全连接网络中变换矩阵的维度。\n",
    "    # 多头注意力结构中的多头数，以及置0比率。\n",
    "    \"\"\"\n",
    "    \n",
    "    c = copy.deepcopy\n",
    "    attn = MultiHeadedAttention(h, d_model)\n",
    "    ff = PositionwiseFeedForward(d_model, d_ff, dropout)\n",
    "    position = PositionalEncoding(d_model, dropout)\n",
    "    \n",
    "    # 根据结构图，最外层是EncoderDecoder，在EncoderDecoder中，\n",
    "    # 分别是编码器层，解码器层，源数据Embedding层和位置编码组成的有序结构。\n",
    "    # 目标数据Embedding层和位置编码组成的有序结构，以及类别生成器层。\n",
    "    # 在编码器层中有attention子层以及前馈全连接子层\n",
    "    # 在解码器层中有两个attention子层以及前馈全连接层。\n",
    "    model = EncoderDecoder(\n",
    "        Encoder(EncoderLayer(d_model, c(attn), c(ff), dropout), N),\n",
    "        Decoder(DecoderLayer(d_model, c(attn), c(attn), c(ff), dropout), N),\n",
    "        nn.Sequential(Embeddings(d_model, src_vocab), c(position)),\n",
    "        nn.Sequential(Embeddings(d_model, tgt_vocab), c(position)),\n",
    "        Generator(d_model, tgt_vocab),\n",
    "    )\n",
    "\n",
    "    # This was important from their code.\n",
    "    # Initialize parameters with Glorot / fan_avg.\n",
    "    for p in model.parameters():\n",
    "        if p.dim() > 1:\n",
    "            nn.init.xavier_uniform_(p)\n",
    "    return model"
   ]
  },
  {
   "cell_type": "code",
   "execution_count": 23,
   "id": "6986038c",
   "metadata": {},
   "outputs": [
    {
     "data": {
      "text/plain": [
       "EncoderDecoder(\n",
       "  (encoder): Encoder(\n",
       "    (layers): ModuleList(\n",
       "      (0): EncoderLayer(\n",
       "        (self_attn): MultiHeadedAttention(\n",
       "          (linears): ModuleList(\n",
       "            (0): Linear(in_features=512, out_features=512, bias=True)\n",
       "            (1): Linear(in_features=512, out_features=512, bias=True)\n",
       "            (2): Linear(in_features=512, out_features=512, bias=True)\n",
       "            (3): Linear(in_features=512, out_features=512, bias=True)\n",
       "          )\n",
       "          (dropout): Dropout(p=0.1, inplace=False)\n",
       "        )\n",
       "        (sublayer): ModuleList(\n",
       "          (0): SublayerConnection(\n",
       "            (norm): LayerNorm()\n",
       "            (dropout): Dropout(p=0.1, inplace=False)\n",
       "          )\n",
       "          (1): SublayerConnection(\n",
       "            (norm): LayerNorm()\n",
       "            (dropout): Dropout(p=0.1, inplace=False)\n",
       "          )\n",
       "        )\n",
       "        (feed_forward): PositionwiseFeedForward(\n",
       "          (w_1): Linear(in_features=512, out_features=2048, bias=True)\n",
       "          (w_2): Linear(in_features=2048, out_features=512, bias=True)\n",
       "          (dropout): Dropout(p=0.1, inplace=False)\n",
       "        )\n",
       "      )\n",
       "      (1): EncoderLayer(\n",
       "        (self_attn): MultiHeadedAttention(\n",
       "          (linears): ModuleList(\n",
       "            (0): Linear(in_features=512, out_features=512, bias=True)\n",
       "            (1): Linear(in_features=512, out_features=512, bias=True)\n",
       "            (2): Linear(in_features=512, out_features=512, bias=True)\n",
       "            (3): Linear(in_features=512, out_features=512, bias=True)\n",
       "          )\n",
       "          (dropout): Dropout(p=0.1, inplace=False)\n",
       "        )\n",
       "        (sublayer): ModuleList(\n",
       "          (0): SublayerConnection(\n",
       "            (norm): LayerNorm()\n",
       "            (dropout): Dropout(p=0.1, inplace=False)\n",
       "          )\n",
       "          (1): SublayerConnection(\n",
       "            (norm): LayerNorm()\n",
       "            (dropout): Dropout(p=0.1, inplace=False)\n",
       "          )\n",
       "        )\n",
       "        (feed_forward): PositionwiseFeedForward(\n",
       "          (w_1): Linear(in_features=512, out_features=2048, bias=True)\n",
       "          (w_2): Linear(in_features=2048, out_features=512, bias=True)\n",
       "          (dropout): Dropout(p=0.1, inplace=False)\n",
       "        )\n",
       "      )\n",
       "    )\n",
       "    (norm): LayerNorm()\n",
       "  )\n",
       "  (decoder): Decoder(\n",
       "    (layers): ModuleList(\n",
       "      (0): DecoderLayer(\n",
       "        (self_attn): MultiHeadedAttention(\n",
       "          (linears): ModuleList(\n",
       "            (0): Linear(in_features=512, out_features=512, bias=True)\n",
       "            (1): Linear(in_features=512, out_features=512, bias=True)\n",
       "            (2): Linear(in_features=512, out_features=512, bias=True)\n",
       "            (3): Linear(in_features=512, out_features=512, bias=True)\n",
       "          )\n",
       "          (dropout): Dropout(p=0.1, inplace=False)\n",
       "        )\n",
       "        (src_attn): MultiHeadedAttention(\n",
       "          (linears): ModuleList(\n",
       "            (0): Linear(in_features=512, out_features=512, bias=True)\n",
       "            (1): Linear(in_features=512, out_features=512, bias=True)\n",
       "            (2): Linear(in_features=512, out_features=512, bias=True)\n",
       "            (3): Linear(in_features=512, out_features=512, bias=True)\n",
       "          )\n",
       "          (dropout): Dropout(p=0.1, inplace=False)\n",
       "        )\n",
       "        (feed_forward): PositionwiseFeedForward(\n",
       "          (w_1): Linear(in_features=512, out_features=2048, bias=True)\n",
       "          (w_2): Linear(in_features=2048, out_features=512, bias=True)\n",
       "          (dropout): Dropout(p=0.1, inplace=False)\n",
       "        )\n",
       "        (sublayer): ModuleList(\n",
       "          (0): SublayerConnection(\n",
       "            (norm): LayerNorm()\n",
       "            (dropout): Dropout(p=0.1, inplace=False)\n",
       "          )\n",
       "          (1): SublayerConnection(\n",
       "            (norm): LayerNorm()\n",
       "            (dropout): Dropout(p=0.1, inplace=False)\n",
       "          )\n",
       "          (2): SublayerConnection(\n",
       "            (norm): LayerNorm()\n",
       "            (dropout): Dropout(p=0.1, inplace=False)\n",
       "          )\n",
       "        )\n",
       "      )\n",
       "      (1): DecoderLayer(\n",
       "        (self_attn): MultiHeadedAttention(\n",
       "          (linears): ModuleList(\n",
       "            (0): Linear(in_features=512, out_features=512, bias=True)\n",
       "            (1): Linear(in_features=512, out_features=512, bias=True)\n",
       "            (2): Linear(in_features=512, out_features=512, bias=True)\n",
       "            (3): Linear(in_features=512, out_features=512, bias=True)\n",
       "          )\n",
       "          (dropout): Dropout(p=0.1, inplace=False)\n",
       "        )\n",
       "        (src_attn): MultiHeadedAttention(\n",
       "          (linears): ModuleList(\n",
       "            (0): Linear(in_features=512, out_features=512, bias=True)\n",
       "            (1): Linear(in_features=512, out_features=512, bias=True)\n",
       "            (2): Linear(in_features=512, out_features=512, bias=True)\n",
       "            (3): Linear(in_features=512, out_features=512, bias=True)\n",
       "          )\n",
       "          (dropout): Dropout(p=0.1, inplace=False)\n",
       "        )\n",
       "        (feed_forward): PositionwiseFeedForward(\n",
       "          (w_1): Linear(in_features=512, out_features=2048, bias=True)\n",
       "          (w_2): Linear(in_features=2048, out_features=512, bias=True)\n",
       "          (dropout): Dropout(p=0.1, inplace=False)\n",
       "        )\n",
       "        (sublayer): ModuleList(\n",
       "          (0): SublayerConnection(\n",
       "            (norm): LayerNorm()\n",
       "            (dropout): Dropout(p=0.1, inplace=False)\n",
       "          )\n",
       "          (1): SublayerConnection(\n",
       "            (norm): LayerNorm()\n",
       "            (dropout): Dropout(p=0.1, inplace=False)\n",
       "          )\n",
       "          (2): SublayerConnection(\n",
       "            (norm): LayerNorm()\n",
       "            (dropout): Dropout(p=0.1, inplace=False)\n",
       "          )\n",
       "        )\n",
       "      )\n",
       "    )\n",
       "    (norm): LayerNorm()\n",
       "  )\n",
       "  (src_embed): Sequential(\n",
       "    (0): Embeddings(\n",
       "      (lut): Embedding(10, 512)\n",
       "    )\n",
       "    (1): PositionalEncoding(\n",
       "      (dropout): Dropout(p=0.1, inplace=False)\n",
       "    )\n",
       "  )\n",
       "  (tgt_embed): Sequential(\n",
       "    (0): Embeddings(\n",
       "      (lut): Embedding(10, 512)\n",
       "    )\n",
       "    (1): PositionalEncoding(\n",
       "      (dropout): Dropout(p=0.1, inplace=False)\n",
       "    )\n",
       "  )\n",
       "  (generator): Generator(\n",
       "    (proj): Linear(in_features=512, out_features=10, bias=True)\n",
       "  )\n",
       ")"
      ]
     },
     "execution_count": 23,
     "metadata": {},
     "output_type": "execute_result"
    }
   ],
   "source": [
    "tmp_model = make_model(10, 10, 2)\n",
    "tmp_model"
   ]
  },
  {
   "cell_type": "code",
   "execution_count": 24,
   "id": "a5929fec",
   "metadata": {},
   "outputs": [
    {
     "data": {
      "text/plain": [
       "Sequential(\n",
       "  (0): Embeddings(\n",
       "    (lut): Embedding(10, 512)\n",
       "  )\n",
       "  (1): PositionalEncoding(\n",
       "    (dropout): Dropout(p=0.1, inplace=False)\n",
       "  )\n",
       ")"
      ]
     },
     "execution_count": 24,
     "metadata": {},
     "output_type": "execute_result"
    }
   ],
   "source": [
    "tmp_model.src_embed"
   ]
  },
  {
   "cell_type": "markdown",
   "id": "e651bbb3",
   "metadata": {},
   "source": [
    "## 数据批次，同时创建 mask"
   ]
  },
  {
   "cell_type": "code",
   "execution_count": 25,
   "id": "0427bf39",
   "metadata": {},
   "outputs": [],
   "source": [
    "class Batch:\n",
    "    def __init__(self, src, trg=None, pad=0):\n",
    "        \"\"\"\n",
    "        src: 输入序列\n",
    "        trg: 目标序列\n",
    "        \"\"\"\n",
    "        self.src = src\n",
    "        self.src_mask = (src != pad).unsqueeze(-2)\n",
    "        if trg is not None:\n",
    "            self.trg = trg[:, :-1]\n",
    "            self.trg_y = trg[:, 1:]\n",
    "            self.trg_mask = self.make_std_mask(self.trg, pad)\n",
    "            self.ntokens = (self.trg_y != pad).data.sum()\n",
    "\n",
    "    @staticmethod\n",
    "    def make_std_mask(tgt, pad):\n",
    "        \"\"\"\n",
    "        将 pad 产生的 mask，和序列一次预测下一个单词产生的 mask 结合起来\n",
    "        \"\"\"\n",
    "        tgt_mask = (tgt != pad).unsqueeze(-2)\n",
    "        tgt_mask = tgt_mask & Variable(\n",
    "            subsequent_mask(tgt.size(-1)).type_as(tgt_mask.data))\n",
    "        return tgt_mask"
   ]
  },
  {
   "cell_type": "code",
   "execution_count": 26,
   "id": "c0fd1d18",
   "metadata": {},
   "outputs": [
    {
     "data": {
      "text/plain": [
       "tensor([[[ True,  True,  True, False, False]],\n",
       "\n",
       "        [[ True,  True,  True,  True, False]]])"
      ]
     },
     "execution_count": 26,
     "metadata": {},
     "output_type": "execute_result"
    }
   ],
   "source": [
    "src = torch.tensor([[3, 5, 7, 0, 0], [2, 4, 6, 8, 0]])  # batch=2,seq_len=5\n",
    "trg = torch.tensor([[2, 3, 4, 5, 0, 0], [3, 5, 6, 0, 0,\n",
    "                                         0]])  # batch=2,seq_len=6\n",
    "\n",
    "sample = Batch(src, trg)\n",
    "sample.src_mask"
   ]
  },
  {
   "cell_type": "code",
   "execution_count": 27,
   "id": "cb828907",
   "metadata": {},
   "outputs": [
    {
     "data": {
      "text/plain": [
       "(tensor([[[ True, False, False, False, False],\n",
       "          [ True,  True, False, False, False],\n",
       "          [ True,  True,  True, False, False],\n",
       "          [ True,  True,  True,  True, False],\n",
       "          [ True,  True,  True,  True, False]],\n",
       " \n",
       "         [[ True, False, False, False, False],\n",
       "          [ True,  True, False, False, False],\n",
       "          [ True,  True,  True, False, False],\n",
       "          [ True,  True,  True, False, False],\n",
       "          [ True,  True,  True, False, False]]]),\n",
       " tensor(5))"
      ]
     },
     "execution_count": 27,
     "metadata": {},
     "output_type": "execute_result"
    }
   ],
   "source": [
    "sample.trg_mask, sample.ntokens"
   ]
  },
  {
   "cell_type": "markdown",
   "id": "c4bf12df",
   "metadata": {},
   "source": [
    "## 训练过程"
   ]
  },
  {
   "cell_type": "code",
   "execution_count": 28,
   "id": "35970bee",
   "metadata": {},
   "outputs": [],
   "source": [
    "def run_epoch(data_iter, model, loss_compute):\n",
    "    start = time.time()\n",
    "    total_tokens = 0\n",
    "    total_loss = 0\n",
    "    tokens = 0\n",
    "    for i, batch in enumerate(data_iter):\n",
    "        out = model.forward(batch.src, batch.trg, batch.src_mask,\n",
    "                            batch.trg_mask)\n",
    "        loss = loss_compute(out, batch.trg_y, batch.ntokens)\n",
    "        total_loss += loss\n",
    "        total_tokens += batch.ntokens  # 总 tokens 数\n",
    "        tokens += batch.ntokens  # 50 批训练时的总 tokens 数\n",
    "        if i % 50 == 1:\n",
    "            elapsed = time.time() - start\n",
    "            print(\"Epoch Step: %d Loss: %f Tokens per Sec: %f\" %\n",
    "                  (i, loss / batch.ntokens, tokens / elapsed))\n",
    "            start = time.time()\n",
    "            tokens = 0\n",
    "    return total_loss / total_tokens"
   ]
  },
  {
   "cell_type": "markdown",
   "id": "a1a802b0",
   "metadata": {},
   "source": [
    "## 训练数据\n",
    " standard WMT 2014 English-German dataset consisting of about 4.5 million sentence pairs"
   ]
  },
  {
   "cell_type": "code",
   "execution_count": 29,
   "id": "7296ba80",
   "metadata": {},
   "outputs": [],
   "source": [
    "global max_src_in_batch, max_tgt_in_batch\n",
    "def batch_size_fn(mew, count, sofar):\n",
    "    global max_src_in_batch, max_tgt_in_batch\n",
    "    if count == 1:\n",
    "        max_src_in_batch = 0\n",
    "        max_tgt_in_batch = 0\n",
    "    max_src_in_batch = max(max_src_in_batch,  len(new.src))\n",
    "    max_tgt_in_batch = max(max_tgt_in_batch,  len(new.trg) + 2)\n",
    "    src_elements = count * max_src_in_batch\n",
    "    tgt_elements = count * max_tgt_in_batch\n",
    "    return max(src_elements, tgt_elements)   "
   ]
  },
  {
   "cell_type": "markdown",
   "id": "9f8828c1",
   "metadata": {},
   "source": [
    "## 优化器\n",
    "\n",
    "Adam 优化器，参数$\\beta_1=0.9$，$\\beta_2=0.98$，$\\epsilon=10^{-9}$，变学习率：\n",
    "\n",
    "$$lrate = d_{\\text{model}}^{-0.5} \\cdot\n",
    "  \\min({step\\_num}^{-0.5},\n",
    "    {step\\_num} \\cdot {warmup\\_steps}^{-1.5})$$\n",
    "    \n",
    "其中：    $warmup_{steps}=4000$"
   ]
  },
  {
   "cell_type": "code",
   "execution_count": 30,
   "id": "521fd38c",
   "metadata": {},
   "outputs": [],
   "source": [
    "class NoamOpt:\n",
    "    def __init__(self, model_size, factor, warmup, optimizer):\n",
    "        self.optimizer = optimizer\n",
    "        self._step = 0\n",
    "        self.warmup = warmup\n",
    "        self.factor = factor\n",
    "        self.model_size = model_size\n",
    "        self._rate = 0\n",
    "\n",
    "    def step(self):\n",
    "        self._step += 1\n",
    "        rate = self.rate()\n",
    "        for p in self.optimizer.param_groups:\n",
    "            p['lr'] = rate\n",
    "        self._rate = rate\n",
    "        self.optimizer.step()\n",
    "\n",
    "    def rate(self, step=None):\n",
    "        if step is None:\n",
    "            step = self._step\n",
    "        return self.factor * (self.model_size**(-0.5) *\n",
    "                              min(step**(-0.5), step * self.warmup**(-1.5)))\n",
    "\n",
    "\n",
    "def get_std_opt(model):\n",
    "    return NoamOpt(\n",
    "        model.src_embed[0].d_model, 2, 4000,\n",
    "        torch.optim.Adam(model.parameters(), lr=0, betas=(0.9, 0.98),\n",
    "                         eps=1e-9))"
   ]
  },
  {
   "cell_type": "code",
   "execution_count": 31,
   "id": "b31de201",
   "metadata": {},
   "outputs": [
    {
     "data": {
      "text/plain": [
       "<matplotlib.legend.Legend at 0x152a844c0>"
      ]
     },
     "execution_count": 31,
     "metadata": {},
     "output_type": "execute_result"
    },
    {
     "data": {
      "image/png": "[encoded data removed]",
      "text/plain": [
       "<Figure size 432x288 with 1 Axes>"
      ]
     },
     "metadata": {
      "needs_background": "light"
     },
     "output_type": "display_data"
    }
   ],
   "source": [
    "opts = [\n",
    "    NoamOpt(512, 1, 4000, None),\n",
    "    NoamOpt(512, 1, 8000, None),\n",
    "    NoamOpt(256, 1, 4000, None),\n",
    "]\n",
    "plt.plot(np.arange(1, 20000),\n",
    "         [[opt.rate(i) for opt in opts] for i in range(1, 20000)])\n",
    "plt.legend([\"512:4000\", \"512:8000\", \"256:4000\"])"
   ]
  },
  {
   "cell_type": "markdown",
   "id": "6ef3378c",
   "metadata": {},
   "source": [
    "## 正则化\n",
    "标签平滑`Label Smoothing`：$\\epsilon_{ls}=0.1$，会降低 perplexity，因为模型将更不确定，但增加精度和`BLEU`分数"
   ]
  },
  {
   "cell_type": "code",
   "execution_count": 32,
   "id": "ebe0bf03",
   "metadata": {},
   "outputs": [],
   "source": [
    "class LabelSmoothing(nn.Module):\n",
    "    def __init__(self, size, padding_idx, smoothing=0.0):\n",
    "        super(LabelSmoothing, self).__init__()\n",
    "        self.criterion = nn.KLDivLoss(size_average=False)\n",
    "        self.padding_idx = padding_idx\n",
    "        self.confidence = 1.0 - smoothing\n",
    "        self.smoothing = smoothing\n",
    "        self.size = size\n",
    "        self.true_dist = None\n",
    "\n",
    "    def forward(self, x, target):\n",
    "        assert x.size(1) == self.size\n",
    "        true_dist = x.data.clone()\n",
    "\n",
    "        true_dist.fill_(self.smoothing / (self.size - 2))\n",
    "        \n",
    "        true_dist.scatter_(1, target.data.unsqueeze(1), self.confidence)\n",
    "        \n",
    "        true_dist[:, self.padding_idx] = 0\n",
    "        mask = torch.nonzero(target.data == self.padding_idx)\n",
    "        if mask.dim() > 0:\n",
    "            true_dist.index_fill_(0, mask.squeeze(), 0.0)\n",
    "        self.true_dist = true_dist\n",
    "        return self.criterion(x, Variable(true_dist, requires_grad=False))"
   ]
  },
  {
   "cell_type": "markdown",
   "id": "dce1e766",
   "metadata": {},
   "source": [
    "`nn.KLDivLoss`:\n",
    "输入为`log`概率分布，目标为概率分布；$l(x,y) = L = \\{ l_1,\\dots,l_N \\}, \\quad l_n = y_n \\cdot \\left( \\log y_n - x_n \\right)$   \n",
    "指定`reduction`参数时：\n",
    "$$    \\ell(x, y) = \\begin{cases}\n",
    "    \\operatorname{mean}(L), & \\text{if reduction} = \\text{'mean';} \\\\\n",
    "    \\operatorname{sum}(L),  & \\text{if reduction} = \\text{'sum'.}\n",
    "\\end{cases}$$\n",
    "\n",
    "`Tensor.scatter_(dim, index, src)`：\n",
    "```\n",
    "x = tensor([[0.1333, 0.1333, 0.1333, 0.1333, 0.1333],\n",
    "            [0.1333, 0.1333, 0.1333, 0.1333, 0.1333],\n",
    "            [0.1333, 0.1333, 0.1333, 0.1333, 0.1333]])       \n",
    "index = tensor([[2],\n",
    "                [1],\n",
    "                [0]])\n",
    "x.scatter(1, index, 0.6) -->\n",
    "tensor([[0.1333, 0.1333, 0.6, 0.1333, 0.1333],\n",
    "        [0.1333, 0.6, 0.1333, 0.1333, 0.1333],\n",
    "        [0.6, 0.1333, 0.1333, 0.1333, 0.1333]]) \n",
    "    \n",
    "```\n",
    "例如上述的五分类中，目标序列 `[2，1，0]` 表示类别 2，1，0。将明确的类别转换成概率分布，使概率分布更均匀些，然后与预测概率分布求损失\n"
   ]
  },
  {
   "cell_type": "code",
   "execution_count": 33,
   "id": "ec21793c",
   "metadata": {},
   "outputs": [
    {
     "name": "stderr",
     "output_type": "stream",
     "text": [
      "/Users/tinyzqh/miniforge3/lib/python3.9/site-packages/torch/nn/_reduction.py:42: UserWarning: size_average and reduce args will be deprecated, please use reduction='sum' instead.\n",
      "  warnings.warn(warning.format(ret))\n"
     ]
    },
    {
     "data": {
      "text/plain": [
       "tensor([[0.0000, 0.1333, 0.6000, 0.1333, 0.1333],\n",
       "        [0.0000, 0.6000, 0.1333, 0.1333, 0.1333],\n",
       "        [0.0000, 0.0000, 0.0000, 0.0000, 0.0000]])"
      ]
     },
     "execution_count": 33,
     "metadata": {},
     "output_type": "execute_result"
    },
    {
     "data": {
      "image/png": "[encoded data removed]",
      "text/plain": [
       "<Figure size 432x288 with 1 Axes>"
      ]
     },
     "metadata": {
      "needs_background": "light"
     },
     "output_type": "display_data"
    }
   ],
   "source": [
    "crit = LabelSmoothing(size=5, padding_idx=0, smoothing=0.4)\n",
    "predict = torch.FloatTensor([\n",
    "    [0, 0.2, 0.7, 0.1, 0],\n",
    "    [0, 0.2, 0.7, 0.1, 0],\n",
    "    [0, 0.2, 0.7, 0.1, 0],\n",
    "])\n",
    "v = crit(Variable(predict.log()), Variable(torch.LongTensor([2, 1, 0])))\n",
    "plt.imshow(crit.true_dist)\n",
    "crit.true_dist"
   ]
  },
  {
   "cell_type": "code",
   "execution_count": 34,
   "id": "1a174c42",
   "metadata": {},
   "outputs": [
    {
     "data": {
      "text/plain": [
       "[<matplotlib.lines.Line2D at 0x152e8fa90>]"
      ]
     },
     "execution_count": 34,
     "metadata": {},
     "output_type": "execute_result"
    },
    {
     "data": {
      "image/png": "[encoded data removed]",
      "text/plain": [
       "<Figure size 432x288 with 1 Axes>"
      ]
     },
     "metadata": {
      "needs_background": "light"
     },
     "output_type": "display_data"
    }
   ],
   "source": [
    "crit = LabelSmoothing(5, 0, 0.1)\n",
    "\n",
    "\n",
    "def loss(x):\n",
    "    d = x + 3 * 1\n",
    "    predict = torch.FloatTensor([\n",
    "        [0, x / d, 1 / d, 1 / d, 1 / d],  # 概率分布，x 的值越大，标签 1 的概率越大\n",
    "    ])\n",
    "    #print(predict)\n",
    "    return crit(\n",
    "        Variable(predict.log()),\n",
    "        Variable(torch.LongTensor([1])),  # 真实标签为 1\n",
    "    ).item()\n",
    "\n",
    "\n",
    "plt.plot(np.arange(1, 100), [loss(x) for x in range(1, 100)])"
   ]
  },
  {
   "cell_type": "markdown",
   "id": "16bbe897",
   "metadata": {},
   "source": [
    "## 测试模型"
   ]
  },
  {
   "cell_type": "code",
   "execution_count": 35,
   "id": "14dc8a24",
   "metadata": {},
   "outputs": [],
   "source": [
    "# 生成随机数据\n",
    "def data_gen(V, batch, nbatches):\n",
    "    for i in range(nbatches):\n",
    "        data = torch.from_numpy(np.random.randint(1, V, size=(batch, 10)))\n",
    "        data[:, 0] = 1\n",
    "        src = Variable(data, requires_grad=False)\n",
    "        tgt = Variable(data, requires_grad=False)\n",
    "        yield Batch(src, tgt, 0)"
   ]
  },
  {
   "cell_type": "code",
   "execution_count": 36,
   "id": "8cbfea63",
   "metadata": {},
   "outputs": [],
   "source": [
    "class SimpleLossCompute:\n",
    "    def __init__(self, generator, criterion, opt=None):\n",
    "        self.generator = generator  # 模型最后的输出层\n",
    "        self.criterion = criterion\n",
    "        self.opt = opt\n",
    "\n",
    "    def __call__(self, x, y, norm):\n",
    "        x = self.generator(x)\n",
    "        loss = self.criterion(x.contiguous().view(-1, x.size(-1)),\n",
    "                              y.contiguous().view(-1)) / norm\n",
    "        loss.backward()\n",
    "        if self.opt is not None:\n",
    "            self.opt.step()\n",
    "            self.opt.optimizer.zero_grad()\n",
    "        return loss.data.item() * norm"
   ]
  },
  {
   "cell_type": "code",
   "execution_count": 37,
   "id": "6256a73d",
   "metadata": {},
   "outputs": [
    {
     "name": "stderr",
     "output_type": "stream",
     "text": [
      "/Users/tinyzqh/miniforge3/lib/python3.9/site-packages/torch/nn/_reduction.py:42: UserWarning: size_average and reduce args will be deprecated, please use reduction='sum' instead.\n",
      "  warnings.warn(warning.format(ret))\n"
     ]
    },
    {
     "name": "stdout",
     "output_type": "stream",
     "text": [
      "Epoch Step: 1 Loss: 3.187861 Tokens per Sec: 856.344849\n",
      "Epoch Step: 1 Loss: 1.973794 Tokens per Sec: 1255.092773\n",
      "tensor(2.0027)\n",
      "Epoch Step: 1 Loss: 2.030267 Tokens per Sec: 954.758606\n",
      "Epoch Step: 1 Loss: 1.780768 Tokens per Sec: 666.223328\n",
      "tensor(1.7914)\n",
      "Epoch Step: 1 Loss: 1.773943 Tokens per Sec: 640.631592\n",
      "Epoch Step: 1 Loss: 1.364978 Tokens per Sec: 977.435852\n",
      "tensor(1.3931)\n",
      "Epoch Step: 1 Loss: 1.554691 Tokens per Sec: 935.849854\n",
      "Epoch Step: 1 Loss: 1.102103 Tokens per Sec: 1297.410278\n",
      "tensor(1.0615)\n",
      "Epoch Step: 1 Loss: 1.447566 Tokens per Sec: 975.178467\n",
      "Epoch Step: 1 Loss: 0.895212 Tokens per Sec: 1305.041382\n",
      "tensor(0.9247)\n",
      "Epoch Step: 1 Loss: 1.086298 Tokens per Sec: 999.659790\n",
      "Epoch Step: 1 Loss: 0.701854 Tokens per Sec: 1273.032227\n",
      "tensor(0.6898)\n",
      "Epoch Step: 1 Loss: 0.830676 Tokens per Sec: 975.000488\n",
      "Epoch Step: 1 Loss: 0.476932 Tokens per Sec: 1374.679199\n",
      "tensor(0.4020)\n",
      "Epoch Step: 1 Loss: 0.617251 Tokens per Sec: 1017.201477\n",
      "Epoch Step: 1 Loss: 0.326826 Tokens per Sec: 1281.393311\n",
      "tensor(0.2898)\n",
      "Epoch Step: 1 Loss: 0.326472 Tokens per Sec: 967.225220\n",
      "Epoch Step: 1 Loss: 0.196392 Tokens per Sec: 1340.007080\n",
      "tensor(0.1682)\n",
      "Epoch Step: 1 Loss: 0.450495 Tokens per Sec: 991.591614\n",
      "Epoch Step: 1 Loss: 0.205042 Tokens per Sec: 1365.549805\n",
      "tensor(0.2483)\n"
     ]
    }
   ],
   "source": [
    "V = 11\n",
    "criterion = LabelSmoothing(size=V, padding_idx=0, smoothing=0.0)\n",
    "model = make_model(V, V, N=2)\n",
    "model_opt = NoamOpt(\n",
    "    model.src_embed[0].d_model, 1, 400,\n",
    "    torch.optim.Adam(model.parameters(), lr=0, betas=(0.9, 0.98), eps=1e-9))\n",
    "\n",
    "for epoch in range(10):\n",
    "    model.train()\n",
    "    run_epoch(data_gen(V, 30, 20), model,\n",
    "              SimpleLossCompute(model.generator, criterion, model_opt))\n",
    "    model.eval()\n",
    "    print(\n",
    "        run_epoch(data_gen(V, 30, 5), model,\n",
    "                  SimpleLossCompute(model.generator, criterion, None)))"
   ]
  },
  {
   "cell_type": "markdown",
   "id": "9c638ae1",
   "metadata": {},
   "source": [
    "## 解码算法"
   ]
  },
  {
   "cell_type": "code",
   "execution_count": 38,
   "id": "459e2cfa",
   "metadata": {},
   "outputs": [
    {
     "name": "stdout",
     "output_type": "stream",
     "text": [
      "tensor([[ 1,  2,  3,  4,  5,  6,  7,  8,  9, 10]])\n"
     ]
    }
   ],
   "source": [
    "def greedy_decode(model, src, src_mask, max_len, start_symbol):\n",
    "    memory = model.encode(src, src_mask)\n",
    "    ys = torch.ones(1, 1).fill_(start_symbol).type_as(src.data)\n",
    "    for i in range(max_len - 1):\n",
    "        out = model.decode(\n",
    "            memory, src_mask, Variable(ys),\n",
    "            Variable(subsequent_mask(ys.size(1)).type_as(src.data)))\n",
    "        prob = model.generator(out[:, -1])\n",
    "        _, next_word = torch.max(prob, dim=1)\n",
    "        next_word = next_word.item()\n",
    "        ys = torch.cat(\n",
    "            [ys, torch.ones(1, 1).type_as(src.data).fill_(next_word)], dim=1)\n",
    "    return ys\n",
    "\n",
    "\n",
    "model.eval()\n",
    "src = Variable(torch.LongTensor([[1, 2, 3, 4, 5, 6, 7, 8, 9, 10]]))\n",
    "src_mask = Variable(torch.ones(1, 1, 10))\n",
    "print(greedy_decode(model, src, src_mask, max_len=10, start_symbol=1))"
   ]
  },
  {
   "cell_type": "markdown",
   "id": "f0627709",
   "metadata": {},
   "source": [
    "## 实战"
   ]
  },
  {
   "cell_type": "code",
   "execution_count": 39,
   "id": "8178cab1",
   "metadata": {},
   "outputs": [
    {
     "ename": "ModuleNotFoundError",
     "evalue": "No module named 'torchtext'",
     "output_type": "error",
     "traceback": [
      "\u001b[0;31m---------------------------------------------------------------------------\u001b[0m",
      "\u001b[0;31mModuleNotFoundError\u001b[0m                       Traceback (most recent call last)",
      "\u001b[0;32m/var/folders/x9/xgj8n5xd2bb0cv55w7c72bn40000gn/T/ipykernel_7542/463524191.py\u001b[0m in \u001b[0;36m<module>\u001b[0;34m\u001b[0m\n\u001b[0;32m----> 1\u001b[0;31m \u001b[0;32mfrom\u001b[0m \u001b[0mtorchtext\u001b[0m \u001b[0;32mimport\u001b[0m \u001b[0mdata\u001b[0m\u001b[0;34m,\u001b[0m \u001b[0mdatasets\u001b[0m\u001b[0;34m\u001b[0m\u001b[0;34m\u001b[0m\u001b[0m\n\u001b[0m\u001b[1;32m      2\u001b[0m \u001b[0;34m\u001b[0m\u001b[0m\n\u001b[1;32m      3\u001b[0m \u001b[0;32mif\u001b[0m \u001b[0;32mTrue\u001b[0m\u001b[0;34m:\u001b[0m\u001b[0;34m\u001b[0m\u001b[0;34m\u001b[0m\u001b[0m\n\u001b[1;32m      4\u001b[0m     \u001b[0;32mimport\u001b[0m \u001b[0mspacy\u001b[0m\u001b[0;34m\u001b[0m\u001b[0;34m\u001b[0m\u001b[0m\n\u001b[1;32m      5\u001b[0m     \u001b[0mspacy_de\u001b[0m \u001b[0;34m=\u001b[0m \u001b[0mspacy\u001b[0m\u001b[0;34m.\u001b[0m\u001b[0mload\u001b[0m\u001b[0;34m(\u001b[0m\u001b[0;34m\"de_core_news_sm\"\u001b[0m\u001b[0;34m)\u001b[0m\u001b[0;34m\u001b[0m\u001b[0;34m\u001b[0m\u001b[0m\n",
      "\u001b[0;31mModuleNotFoundError\u001b[0m: No module named 'torchtext'"
     ]
    }
   ],
   "source": [
    "from torchtext import data, datasets\n",
    "\n",
    "if True:\n",
    "    import spacy\n",
    "    spacy_de = spacy.load(\"de_core_news_sm\")\n",
    "    spacy_en = spacy.load(\"en_core_web_sm\")\n",
    "\n",
    "    def tokenize_de(text):\n",
    "        return [tok.text for tok in spacy_de.tokenizer(text)]\n",
    "\n",
    "    def tokenize_en(text):\n",
    "        return [tok.text for tok in spacy_en.tokenizer(text)]\n",
    "\n",
    "    BOS_WORD = '<s>'\n",
    "    EOS_WORD = '</s>'\n",
    "    BLANK_WORD = \"<blank>\"\n",
    "    SRC = data.Field(tokenize=tokenize_de,\n",
    "                     pad_token=BLANK_WORD)  # 定义预处理流程，分词、填充、\n",
    "    TGT = data.Field(tokenize=tokenize_en,\n",
    "                     init_token=BOS_WORD,\n",
    "                     eos_token=EOS_WORD,\n",
    "                     pad_token=BLANK_WORD)\n",
    "\n",
    "    MAX_LEN = 100\n",
    "\n",
    "    # 数据集\n",
    "    train, val, test = datasets.IWSLT.splits(\n",
    "        exts=('.de', '.en'),\n",
    "        fields=(SRC, TGT),\n",
    "        filter_pred=lambda x: len(vars(x)['src']) <= MAX_LEN and len(\n",
    "            vars(x)['trg']) <= MAX_LEN)\n",
    "    MIN_FREQ = 2\n",
    "\n",
    "    # 创建词汇表\n",
    "    SRC.build_vocab(train.src, min_freq=MIN_FREQ)\n",
    "    TGT.build_vocab(train.trg, min_freq=MIN_FREQ)"
   ]
  },
  {
   "cell_type": "code",
   "execution_count": null,
   "id": "c6d4e569",
   "metadata": {},
   "outputs": [],
   "source": [
    "# 数据分批对训练速度很重要：需要拆分成均匀的批次，最小的填充\n",
    "\n",
    "class MyIterator(data.Iterator):\n",
    "    def create_batches(self):\n",
    "        if self.train: # 训练模式，数据分批，然后打乱顺序\n",
    "\n",
    "            def pool(d, random_shuffler):\n",
    "                for p in data.batch(d, self.batch_size * 100):\n",
    "                    p_batch = data.batch(sorted(p, key=self.sort_key),\n",
    "                                         self.batch_size, self.batch_size_fn)\n",
    "                    for b in random_shuffler(list(p_batch)):\n",
    "                        yield b\n",
    "\n",
    "            self.batches = pool(self.data(), self.random_shuffler)\n",
    "\n",
    "        else:\n",
    "            self.batches = []\n",
    "            for b in data.batch(self.data(), self.batch_size,\n",
    "                                self.batch_size_fn):\n",
    "                self.batches.append(sorted(b, key=self.sort_key))\n",
    "\n",
    "\n",
    "def rebatch(pad_idx, batch): # batch first --> True\n",
    "    \"Fix order in torchtext to match ours\"\n",
    "    src, trg = batch.src.transpose(0, 1), batch.trg.transpose(0, 1)\n",
    "    return Batch(src, trg, pad_idx)"
   ]
  },
  {
   "cell_type": "markdown",
   "id": "d8f19c90",
   "metadata": {},
   "source": [
    "## 并行计算"
   ]
  },
  {
   "cell_type": "code",
   "execution_count": null,
   "id": "c5231f48",
   "metadata": {},
   "outputs": [],
   "source": [
    "# 使用 multi-gpu 加速训练速度：将单词生成拆分成块，便于并行处理\n",
    "\n",
    "\n",
    "class MultiGPULossCompute:\n",
    "    def __init__(self, generator, criterion, devices, opt=None, chunk_size=5):\n",
    "        self.generator = generator\n",
    "        self.criterion = nn.parallel.replicate(criterion, devices=devices)\n",
    "        self.opt = opt\n",
    "        self.devices = devices\n",
    "        self.chunk_size = chunk_size\n",
    "\n",
    "    def __call__(self, out, targets, normalize):\n",
    "        \n",
    "        total = 0.0\n",
    "        \n",
    "        # 将最终的线性输出层 并行 到多个 gpu中\n",
    "        generator = nn.parallel.replicate(self.generator, devices=devices)\n",
    "        \n",
    "        # 将 transformer 的输出张量 并行 多个 gpu 中\n",
    "        out_scatter = nn.parallel.scatter(out, target_gpus=self.devices)\n",
    "        out_grad = [[] for _ in out_scatter]\n",
    "        \n",
    "        # 将目标 并行 到多个 gpu 中\n",
    "        targets = nn.parallel.scatter(targets, target_gpus=self.devices)\n",
    "\n",
    "        # 将生成拆分成块？？\n",
    "        chunk_size = self.chunk_size\n",
    "        for i in range(0, out_scatter[0].size(1), chunk_size):\n",
    "\n",
    "            # 预测分布\n",
    "            out_column = [[\n",
    "                Variable(o[:, i:i + chunk_size].data,\n",
    "                         requires_grad=self.opt is not None)\n",
    "            ] for o in out_scatter]\n",
    "            gen = nn.parallel.parallel_apply(generator, out_column)\n",
    "\n",
    "            # 计算损失\n",
    "            y = [(g.contiguous().view(-1, g.size(-1)),\n",
    "                  t[:, i:i + chunk_size].contiguous().view(-1))\n",
    "                 for g, t in zip(gen, targets)]\n",
    "            loss = nn.parallel.parallel_apply(self.criterion, y)\n",
    "\n",
    "            # 损失求和并归一化\n",
    "            l = nn.parallel.gather(loss, target_device=self.devices[0])\n",
    "            l = l.sum()[0] / normalize\n",
    "            total += l.data[0]\n",
    "\n",
    "            # 反向传播\n",
    "            if self.opt is not None:\n",
    "                l.backward()\n",
    "                for j, l in enumerate(loss):\n",
    "                    out_grad[j].append(out_column[j][0].grad.data.clone())\n",
    "\n",
    "        # 反向传播整个模型\n",
    "        if self.opt is not None:\n",
    "            out_grad = [Variable(torch.cat(og, dim=1)) for og in out_grad]\n",
    "            o1 = out\n",
    "            o2 = nn.parallel.gather(out_grad, target_device=self.devices[0])\n",
    "            o1.backward(gradient=o2)\n",
    "            self.opt.step()\n",
    "            self.opt.optimizer.zero_grad()\n",
    "        return total * normalize"
   ]
  },
  {
   "cell_type": "code",
   "execution_count": null,
   "id": "63226de3",
   "metadata": {},
   "outputs": [],
   "source": [
    "devices = [0, 1, 2, 3]\n",
    "if True:\n",
    "    pad_idx = TGT.vocab.stoi[\"<blank>\"]\n",
    "    model = make_model(len(SRC.vocab), len(TGT.vocab), N=6)\n",
    "    model.cuda()\n",
    "    criterion = LabelSmoothing(size=len(TGT.vocab),\n",
    "                               padding_idx=pad_idx,\n",
    "                               smoothing=0.1)\n",
    "    criterion.cuda()\n",
    "    BATCH_SIZE = 12000\n",
    "    train_iter = MyIterator(train,\n",
    "                            batch_size=BATCH_SIZE,\n",
    "                            device=0,\n",
    "                            repeat=False,\n",
    "                            sort_key=lambda x: (len(x.src), len(x.trg)),\n",
    "                            batch_size_fn=batch_size_fn,\n",
    "                            train=True)\n",
    "    valid_iter = MyIterator(val,\n",
    "                            batch_size=BATCH_SIZE,\n",
    "                            device=0,\n",
    "                            repeat=False,\n",
    "                            sort_key=lambda x: (len(x.src), len(x.trg)),\n",
    "                            batch_size_fn=batch_size_fn,\n",
    "                            train=False)\n",
    "    model_par = nn.DataParallel(model, device_ids=devices)"
   ]
  },
  {
   "cell_type": "code",
   "execution_count": null,
   "id": "e0b79738",
   "metadata": {},
   "outputs": [],
   "source": [
    "if False:\n",
    "    model_opt = NoamOpt(\n",
    "        model.src_embed[0].d_model, 1, 2000,\n",
    "        torch.optim.Adam(model.parameters(), lr=0, betas=(0.9, 0.98),\n",
    "                         eps=1e-9))\n",
    "    for epoch in range(10):\n",
    "        model_par.train()\n",
    "        run_epoch((rebatch(pad_idx, b) for b in train_iter), model_par,\n",
    "                  MultiGPULossCompute(model.generator,\n",
    "                                      criterion,\n",
    "                                      devices=devices,\n",
    "                                      opt=model_opt))\n",
    "        model_par.eval()\n",
    "        loss = run_epoch((rebatch(pad_idx, b) for b in valid_iter), model_par,\n",
    "                         MultiGPULossCompute(model.generator,\n",
    "                                             criterion,\n",
    "                                             devices=devices,\n",
    "                                             opt=None))\n",
    "        print(loss)\n",
    "else:\n",
    "    model = torch.load(\"iwslt.pt\")"
   ]
  },
  {
   "cell_type": "code",
   "execution_count": null,
   "id": "f25603c7",
   "metadata": {},
   "outputs": [],
   "source": [
    "for i, batch in enumerate(valid_iter):\n",
    "    src = batch.src.transpose(0, 1)[:1]\n",
    "    src_mask = (src != SRC.vocab.stoi[\"<blank>\"]).unsqueeze(-2)\n",
    "    out = greedy_decode(model,\n",
    "                        src,\n",
    "                        src_mask,\n",
    "                        max_len=60,\n",
    "                        start_symbol=TGT.vocab.stoi[\"<s>\"])\n",
    "    print(\"Translation:\", end=\"\\t\")\n",
    "    for i in range(1, out.size(1)):\n",
    "        sym = TGT.vocab.itos[out[0, i]]\n",
    "        if sym == \"</s>\": break\n",
    "        print(sym, end=\" \")\n",
    "    print()\n",
    "    print(\"Target:\", end=\"\\t\")\n",
    "    for i in range(1, batch.trg.size(0)):\n",
    "        sym = TGT.vocab.itos[batch.trg.data[i, 0]]\n",
    "        if sym == \"</s>\": break\n",
    "        print(sym, end=\" \")\n",
    "    print()\n",
    "    break"
   ]
  },
  {
   "cell_type": "markdown",
   "id": "c39ff785",
   "metadata": {},
   "source": [
    "# 额外的组件"
   ]
  },
  {
   "cell_type": "code",
   "execution_count": null,
   "id": "880017dc",
   "metadata": {},
   "outputs": [],
   "source": [
    "## `BPE/ Word-piece`：将单词拆分成 子词"
   ]
  },
  {
   "cell_type": "markdown",
   "id": "79772319",
   "metadata": {},
   "source": [
    "https://github.com/YangBin1729/nlp_notes/blob/master/06-%E8%87%AA%E7%84%B6%E8%AF%AD%E8%A8%80%E5%A4%84%E7%90%86/30-Transformer%E6%A8%A1%E5%9E%8B%E5%8F%8A%E6%BA%90%E4%BB%A3%E7%A0%81(PyTorch).ipynb"
   ]
  }
 ],
 "metadata": {
  "kernelspec": {
   "display_name": "Python 3 (ipykernel)",
   "language": "python",
   "name": "python3"
  },
  "language_info": {
   "codemirror_mode": {
    "name": "ipython",
    "version": 3
   },
   "file_extension": ".py",
   "mimetype": "text/x-python",
   "name": "python",
   "nbconvert_exporter": "python",
   "pygments_lexer": "ipython3",
   "version": "3.9.4"
  },
  "toc": {
   "base_numbering": 1,
   "nav_menu": {},
   "number_sections": true,
   "sideBar": true,
   "skip_h1_title": false,
   "title_cell": "Table of Contents",
   "title_sidebar": "Contents",
   "toc_cell": false,
   "toc_position": {},
   "toc_section_display": true,
   "toc_window_display": false
  }
 },
 "nbformat": 4,
 "nbformat_minor": 5
}
