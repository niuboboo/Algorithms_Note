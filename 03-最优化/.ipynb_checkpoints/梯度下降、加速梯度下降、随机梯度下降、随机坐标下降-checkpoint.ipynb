{
 "cells": [
  {
   "cell_type": "markdown",
   "id": "972bb2f4",
   "metadata": {},
   "source": [
    "## 梯度下降、加速梯度下降、随机梯度下降、随机坐标下降"
   ]
  },
  {
   "cell_type": "code",
   "execution_count": 1,
   "id": "430c6977",
   "metadata": {},
   "outputs": [],
   "source": [
    "import scipy.sparse as sp\n",
    "import numpy as np"
   ]
  },
  {
   "cell_type": "markdown",
   "id": "946bb7f6",
   "metadata": {},
   "source": [
    "定义一个凸目标函数：\n",
    "$$\n",
    "\\min_{x} \\frac{1}{2} ||Ax-b||^{2}\n",
    "$$"
   ]
  },
  {
   "cell_type": "markdown",
   "id": "af954496",
   "metadata": {},
   "source": [
    "定义一个读取数据的函数`Fun()`, 读取参数$A$和$b$, 以及计算目标函数值的`min_f`:"
   ]
  },
  {
   "cell_type": "code",
   "execution_count": 2,
   "id": "c59e8d43",
   "metadata": {},
   "outputs": [],
   "source": [
    "class Fun(object):\n",
    "    def __init__(self, path_a, path_b):\n",
    "        self.file_a_path = path_a\n",
    "        self.file_b_path = path_b\n",
    "        self.A, self.b = self._get_parameter()  # 获取到参数A和b的值\n",
    "        self.A_T = self.A.transpose()\n",
    "        self.x_init = sp.eye(self.A.shape[-1], self.b.shape[-1]).tocsr()  # 设置初始解\n",
    "\n",
    "    def min_f(self, x):\n",
    "        y = self.A * x - self.b  # 得到目标函数的值\n",
    "        return np.linalg.norm(y.toarray(), ord=2)  # 得到目标函数的二范数\n",
    "\n",
    "    def _get_parameter(self):\n",
    "        self.A = sp.load_npz(self.file_a_path).tocsr()  # shape = (15935, 62061)\n",
    "        self.b = sp.load_npz(self.file_b_path).tocsr()  # shape = (15935, 1)\n",
    "        return self.A, self.b"
   ]
  },
  {
   "cell_type": "markdown",
   "id": "7fb9cc32",
   "metadata": {},
   "source": [
    "## 梯度下降"
   ]
  },
  {
   "cell_type": "markdown",
   "id": "1713433e",
   "metadata": {},
   "source": [
    "梯度下降的迭代公式：\n",
    "\n",
    "$$\n",
    "x_{k+1} = x_{k} - \\eta A^{T}(Ax_{k}-b)\n",
    "$$\n",
    "\n",
    "因为$A$的维度为`(15935, 62061)`，$b$的维度为`(15935, 1)`。所以$x$的维度为`(62061, 1)`，$x_{k}$的维度为`(62061, 1)`。$Ax_{k}-b$的纬度为`(15935, 1)`。$A^{T}$的维度为`(62061, 15935)`, $A^{T}(Ax_{k}-b)$的维度`(62061, 1)`能够与$x_{k}$对齐。\n",
    "\n"
   ]
  },
  {
   "cell_type": "code",
   "execution_count": 3,
   "id": "871f9e0f",
   "metadata": {},
   "outputs": [],
   "source": [
    "class GradientDescent(Fun):\n",
    "    def __init__(self, path_a, path_b):\n",
    "        super(GradientDescent, self).__init__(path_a, path_b)\n",
    "\n",
    "    def gradient_decs(self, eta=0.002, iter_times=1, x_input=None):\n",
    "        x_output = None\n",
    "        y_input = self.min_f(x_input)\n",
    "        for i in range(iter_times):\n",
    "            x_output = x_input - eta * self.A_T * (self.A * x_input - self.b)\n",
    "            x_input = x_output  # 更新 x 的值\n",
    "            y_output = self.min_f(x_output)\n",
    "            print(\"pre_y is {}  and y is {}\".format(y_input, y_output))\n",
    "            y_input = y_output\n",
    "        return x_output"
   ]
  },
  {
   "cell_type": "code",
   "execution_count": 5,
   "id": "8a39e3eb",
   "metadata": {},
   "outputs": [
    {
     "name": "stdout",
     "output_type": "stream",
     "text": [
      "pre_y is 15.722300259397239  and y is 13.255437472728753\n",
      "pre_y is 13.255437472728753  and y is 12.830725844332473\n",
      "pre_y is 12.830725844332473  and y is 12.51692906968907\n",
      "pre_y is 12.51692906968907  and y is 12.27197839958532\n",
      "pre_y is 12.27197839958532  and y is 12.071656835698864\n",
      "pre_y is 12.071656835698864  and y is 11.900847835979816\n",
      "pre_y is 11.900847835979816  and y is 11.750127725254952\n",
      "pre_y is 11.750127725254952  and y is 11.613593698606474\n",
      "pre_y is 11.613593698606474  and y is 11.487508355089918\n",
      "pre_y is 11.487508355089918  and y is 11.369465105891495\n",
      "pre_y is 11.369465105891495  and y is 11.25787798929786\n",
      "pre_y is 11.25787798929786  and y is 11.151670710977404\n",
      "pre_y is 11.151670710977404  and y is 11.05008706842521\n",
      "pre_y is 11.05008706842521  and y is 10.9525750410614\n",
      "pre_y is 10.9525750410614  and y is 10.858715532640206\n",
      "pre_y is 10.858715532640206  and y is 10.768178203651498\n",
      "pre_y is 10.768178203651498  and y is 10.680693783528262\n",
      "pre_y is 10.680693783528262  and y is 10.596036453533646\n",
      "pre_y is 10.596036453533646  and y is 10.51401242388456\n",
      "pre_y is 10.51401242388456  and y is 10.43445235441449\n",
      "\n"
     ]
    }
   ],
   "source": [
    "GD = GradientDescent(path_a='./news20_A.npz', path_b='./news20_b.npz')\n",
    "\n",
    "GD.gradient_decs(eta=0.002, iter_times=20, x_input=GD.x_init)\n",
    "\n",
    "print('')"
   ]
  },
  {
   "cell_type": "markdown",
   "id": "305b2398",
   "metadata": {},
   "source": [
    "## 加速梯度下降"
   ]
  },
  {
   "cell_type": "markdown",
   "id": "56c4c8dd",
   "metadata": {},
   "source": [
    "加速梯度下降的迭代公式：\n",
    "\n",
    "$$\n",
    "y_{k+1} = x_{x}+\\frac{k-1}{k+2}(x_{k}-x_{k-1}) \\\\\n",
    "x_{k+1} = y_{k+1} - \\eta A^{T}(Ay_{k+1}-b)\n",
    "$$\n",
    "\n",
    "因为$A$的维度为`(15935, 62061)`，$b$的维度为`(15935, 1)`。所以$x$的维度为`(62061, 1)`，$y_{k+1}$的维度为`(62061, 1)`。$Ay_{k+1}-b$的纬度为`(15935, 1)`。$A^{T}$的维度为`(62061, 15935)`, $A^{T}(Ay_{k+1}-b)$的维度`(62061, 1)`能够与$x_{k}$对齐。"
   ]
  },
  {
   "cell_type": "code",
   "execution_count": 6,
   "id": "613645f2",
   "metadata": {},
   "outputs": [],
   "source": [
    "class AccelerateGradientDescent(Fun):\n",
    "    def __init__(self, path_a, path_b):\n",
    "        super(AccelerateGradientDescent, self).__init__(path_a, path_b)\n",
    "        self.x_pre = sp.eye(self.A.shape[-1], self.b.shape[-1]).tocsr()  # 设置x_{k-1}\n",
    "        self.k = None\n",
    "\n",
    "    def acc_gradient_decs(self, eta=0.002, iter_times=1, x_input=None):\n",
    "        self.k = 1\n",
    "        x_output = None\n",
    "        y_input = self.min_f(x_input)\n",
    "        for i in range(iter_times):\n",
    "            y_k_1 = x_input + (self.k - 1)/(self.k + 2) * (x_input - self.x_pre)\n",
    "            x_output = y_k_1 - eta * self.A_T * (self.A * y_k_1 - self.b)\n",
    "            self.x_pre = x_input\n",
    "            x_input = x_output  # 更新 x 的值\n",
    "            y_output = self.min_f(x_output)\n",
    "            print(\"pre_y is {}  and y is {}\".format(y_input, y_output))\n",
    "            y_input = y_output\n",
    "            self.k += 1\n",
    "        return x_output"
   ]
  },
  {
   "cell_type": "code",
   "execution_count": 7,
   "id": "2d22b9b2",
   "metadata": {},
   "outputs": [
    {
     "name": "stdout",
     "output_type": "stream",
     "text": [
      "pre_y is 15.722300259397239  and y is 13.255437472728753\n",
      "pre_y is 13.255437472728753  and y is 12.735302978524988\n",
      "pre_y is 12.735302978524988  and y is 12.307633153911993\n",
      "pre_y is 12.307633153911993  and y is 11.955413213701904\n",
      "pre_y is 11.955413213701904  and y is 11.650605664213087\n",
      "pre_y is 11.650605664213087  and y is 11.36805046757616\n",
      "pre_y is 11.36805046757616  and y is 11.092384589510115\n",
      "pre_y is 11.092384589510115  and y is 10.81782545703838\n",
      "pre_y is 10.81782545703838  and y is 10.544467243141199\n",
      "pre_y is 10.544467243141199  and y is 10.274496509332158\n",
      "pre_y is 10.274496509332158  and y is 10.009923575915268\n",
      "pre_y is 10.009923575915268  and y is 9.751882549700937\n",
      "pre_y is 9.751882549700937  and y is 9.500825818496821\n",
      "pre_y is 9.500825818496821  and y is 9.256927535312608\n",
      "pre_y is 9.256927535312608  and y is 9.020336311075038\n",
      "pre_y is 9.020336311075038  and y is 8.791231346844746\n",
      "pre_y is 8.791231346844746  and y is 8.569781302129703\n",
      "pre_y is 8.569781302129703  and y is 8.356101249086452\n",
      "pre_y is 8.356101249086452  and y is 8.150241942660825\n",
      "pre_y is 8.150241942660825  and y is 7.952199652407426\n",
      "\n"
     ]
    }
   ],
   "source": [
    "AccGD = AccelerateGradientDescent(path_a='./news20_A.npz', path_b='./news20_b.npz')\n",
    "\n",
    "AccGD.acc_gradient_decs(eta=0.002, iter_times=20, x_input=AccGD.x_init)\n",
    "\n",
    "print('')"
   ]
  },
  {
   "cell_type": "markdown",
   "id": "249c99d2",
   "metadata": {},
   "source": [
    "## 随机梯度下降"
   ]
  },
  {
   "cell_type": "markdown",
   "id": "862b656e",
   "metadata": {},
   "source": [
    "随机梯度下降的迭代公式：\n",
    "\n",
    "$$\n",
    "x_{k+1} = x_{k} - \\eta ((a_{i} x_{k} - b_{i})*a_{i}))^{T}\n",
    "$$\n",
    "\n",
    "其中$a_{i}$为$A$的第$i$行。\n",
    "\n",
    "因为$A$的维度为`(15935, 62061)`，$b$的维度为`(15935, 1)`。所以$x$的维度为`(62061, 1)`，$x_{k}$的维度为`(62061, 1)`。$a_{i}$的维度为`(1, 62061)`，$a_{i}^{T}x_{k} - b_{i}$的纬度为`(1, 1)`。$(a_{i} x_{k} - b_{i})*a_{i})$的维度为`(1, 62061)`, 其转置之后，能够与$x_{k}$对齐。"
   ]
  },
  {
   "cell_type": "code",
   "execution_count": 8,
   "id": "5702483f",
   "metadata": {},
   "outputs": [],
   "source": [
    "class StochasticGradientDescent(Fun):\n",
    "    def __init__(self, path_a, path_b):\n",
    "        super(StochasticGradientDescent, self).__init__(path_a, path_b)\n",
    "\n",
    "    def stochastic_gradient_decs(self, eta=0.002, iter_times=1, x_input=None):\n",
    "\n",
    "        x_output = None\n",
    "        y_input = self.min_f(x_input)\n",
    "        for i in range(iter_times):\n",
    "            row = np.random.randint(0, self.A.shape[0])\n",
    "            a_i = self.A[row]\n",
    "            b_i = self.b[row]\n",
    "            x_output = x_input - eta * ((a_i * x_input - b_i) * a_i).transpose()\n",
    "            x_input = x_output  # 更新 x 的值\n",
    "            y_output = self.min_f(x_output)\n",
    "            print(\"pre_y is {}  and y is {}\".format(y_input, y_output))\n",
    "            y_input = y_output\n",
    "\n",
    "        return x_output"
   ]
  },
  {
   "cell_type": "code",
   "execution_count": 9,
   "id": "3a366739",
   "metadata": {},
   "outputs": [
    {
     "name": "stdout",
     "output_type": "stream",
     "text": [
      "pre_y is 15.722300259397239  and y is 15.722393042412504\n",
      "pre_y is 15.722393042412504  and y is 15.722393042412504\n",
      "pre_y is 15.722393042412504  and y is 15.722393042412504\n",
      "pre_y is 15.722393042412504  and y is 15.721923041832127\n",
      "pre_y is 15.721923041832127  and y is 15.721923041832127\n",
      "pre_y is 15.721923041832127  and y is 15.72185547987259\n",
      "pre_y is 15.72185547987259  and y is 15.72185547987259\n",
      "pre_y is 15.72185547987259  and y is 15.721855483052215\n",
      "pre_y is 15.721855483052215  and y is 15.722209969603565\n",
      "pre_y is 15.722209969603565  and y is 15.721357615798093\n",
      "pre_y is 15.721357615798093  and y is 15.720466562889355\n",
      "pre_y is 15.720466562889355  and y is 15.719969667546502\n",
      "pre_y is 15.719969667546502  and y is 15.719059594032018\n",
      "pre_y is 15.719059594032018  and y is 15.718871137684532\n",
      "pre_y is 15.718871137684532  and y is 15.718719651464122\n",
      "pre_y is 15.718719651464122  and y is 15.717248134828798\n",
      "pre_y is 15.717248134828798  and y is 15.71635016671461\n",
      "pre_y is 15.71635016671461  and y is 15.716350215491948\n",
      "pre_y is 15.716350215491948  and y is 15.716226965100065\n",
      "pre_y is 15.716226965100065  and y is 15.71580556328639\n",
      "\n"
     ]
    }
   ],
   "source": [
    "StochasticGD = StochasticGradientDescent(path_a='./news20_A.npz', path_b='./news20_b.npz')\n",
    "\n",
    "StochasticGD.stochastic_gradient_decs(eta=0.002, iter_times=20, x_input=StochasticGD.x_init)\n",
    "\n",
    "print('')"
   ]
  },
  {
   "cell_type": "markdown",
   "id": "9ed94329",
   "metadata": {},
   "source": [
    "## 随机坐标下降"
   ]
  },
  {
   "cell_type": "markdown",
   "id": "a9efe3c3",
   "metadata": {},
   "source": [
    "随机坐标下降的迭代公式：\n",
    "\n",
    "$$\n",
    "x_{k+1}^{i} = x_{k}^{i} - \\eta (a^{i})^{T}(Ax_{k}-b)\n",
    "$$\n",
    "\n",
    "因为$A$的维度为`(15935, 62061)`，$b$的维度为`(15935, 1)`。所以$x$的维度为`(62061, 1)`，$x_{k}$的维度为`(62061, 1)`。$Ax_{k}-b$的纬度为`(15935, 1)`。$a^{i}$的维度为`(15935, 1)`, $(a^{i})^{T}(Ax_{k}-b)$的维度`(1, 1)`能够与$x_{k}^{i}$对齐。"
   ]
  },
  {
   "cell_type": "code",
   "execution_count": 10,
   "id": "15f5f1e9",
   "metadata": {},
   "outputs": [],
   "source": [
    "class StochasticCoordinateDescent(Fun):\n",
    "    def __init__(self, path_a, path_b):\n",
    "        super(StochasticCoordinateDescent, self).__init__(path_a, path_b)\n",
    "\n",
    "    def stochastic_coordinate_decs(self, eta=0.002, iter_times=1, x_input=None):\n",
    "\n",
    "        x_output = None\n",
    "        y_input = self.min_f(x_input)\n",
    "        for i in range(iter_times):\n",
    "            index = np.random.randint(0, self.A.shape[1])\n",
    "            a_i = self.A[:, index]\n",
    "            x_input[index] = x_input[index] - eta * (a_i.transpose() * (self.A * x_input - self.b)) # 更新 x 的值\n",
    "            x_output = x_input\n",
    "            y_output = self.min_f(x_output)\n",
    "            print(\"pre_y is {}  and y is {} pre-y {}\".format(y_input, y_output, (y_input-y_output)))\n",
    "            y_input = y_output\n",
    "\n",
    "        return x_output"
   ]
  },
  {
   "cell_type": "code",
   "execution_count": 11,
   "id": "32c3b6b0",
   "metadata": {},
   "outputs": [
    {
     "name": "stdout",
     "output_type": "stream",
     "text": [
      "pre_y is 15.722300259397239  and y is 15.722300259397239 pre-y 0.0\n",
      "pre_y is 15.722300259397239  and y is 15.722300243321966 pre-y 1.6075272668558682e-08\n",
      "pre_y is 15.722300243321966  and y is 15.722298722562046 pre-y 1.5207599197708532e-06\n",
      "pre_y is 15.722298722562046  and y is 15.722298719107194 pre-y 3.4548524041611017e-09\n",
      "pre_y is 15.722298719107194  and y is 15.722298603821228 pre-y 1.1528596566279248e-07\n",
      "pre_y is 15.722298603821228  and y is 15.722298374216027 pre-y 2.296052006300897e-07\n",
      "pre_y is 15.722298374216027  and y is 15.72229655247028 pre-y 1.8217457480318444e-06\n",
      "pre_y is 15.72229655247028  and y is 15.722296506176557 pre-y 4.629372263309506e-08\n",
      "pre_y is 15.722296506176557  and y is 15.722296502944264 pre-y 3.2322926557526444e-09\n",
      "pre_y is 15.722296502944264  and y is 15.722296049495716 pre-y 4.534485480434114e-07\n",
      "pre_y is 15.722296049495716  and y is 15.722296049431991 pre-y 6.372502525664459e-11\n",
      "pre_y is 15.722296049431991  and y is 15.722296049431991 pre-y 0.0\n",
      "pre_y is 15.722296049431991  and y is 15.722296049062159 pre-y 3.6983216489261395e-10\n",
      "pre_y is 15.722296049062159  and y is 15.722295907668123 pre-y 1.4139403603508072e-07\n"
     ]
    },
    {
     "name": "stderr",
     "output_type": "stream",
     "text": [
      "/Users/hezhiqiang01/Desktop/anaconda/anaconda3/envs/ACG/lib/python3.6/site-packages/scipy/sparse/_index.py:116: SparseEfficiencyWarning: Changing the sparsity structure of a csr_matrix is expensive. lil_matrix is more efficient.\n",
      "  self._set_arrayXarray_sparse(i, j, x)\n"
     ]
    },
    {
     "name": "stdout",
     "output_type": "stream",
     "text": [
      "pre_y is 15.722295907668123  and y is 15.722295907668123 pre-y 0.0\n",
      "pre_y is 15.722295907668123  and y is 15.722294841321999 pre-y 1.0663461242899075e-06\n",
      "pre_y is 15.722294841321999  and y is 15.722294809273171 pre-y 3.204882759177963e-08\n",
      "pre_y is 15.722294809273171  and y is 15.722292870270227 pre-y 1.9390029439847467e-06\n",
      "pre_y is 15.722292870270227  and y is 15.722278391814386 pre-y 1.4478455840460924e-05\n",
      "pre_y is 15.722278391814386  and y is 15.722272061814433 pre-y 6.329999953536003e-06\n",
      "\n"
     ]
    }
   ],
   "source": [
    "StochasticCD = StochasticCoordinateDescent(path_a='./news20_A.npz', path_b='./news20_b.npz')\n",
    "\n",
    "StochasticCD.stochastic_coordinate_decs(eta=0.002, iter_times=20, x_input=StochasticCD.x_init)\n",
    "\n",
    "print('')"
   ]
  },
  {
   "cell_type": "code",
   "execution_count": null,
   "id": "a5e97dc6",
   "metadata": {},
   "outputs": [],
   "source": []
  }
 ],
 "metadata": {
  "kernelspec": {
   "display_name": "Python 3 (ipykernel)",
   "language": "python",
   "name": "python3"
  },
  "language_info": {
   "codemirror_mode": {
    "name": "ipython",
    "version": 3
   },
   "file_extension": ".py",
   "mimetype": "text/x-python",
   "name": "python",
   "nbconvert_exporter": "python",
   "pygments_lexer": "ipython3",
   "version": "3.9.4"
  },
  "toc": {
   "base_numbering": 1,
   "nav_menu": {},
   "number_sections": true,
   "sideBar": true,
   "skip_h1_title": false,
   "title_cell": "Table of Contents",
   "title_sidebar": "Contents",
   "toc_cell": false,
   "toc_position": {},
   "toc_section_display": true,
   "toc_window_display": true
  }
 },
 "nbformat": 4,
 "nbformat_minor": 5
}
