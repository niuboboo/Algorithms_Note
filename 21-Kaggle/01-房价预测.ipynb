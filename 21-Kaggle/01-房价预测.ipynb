{
 "cells": [
  {
   "cell_type": "markdown",
   "id": "e25dc3c8",
   "metadata": {},
   "source": [
    "## Kaggle房价预测\n",
    "\n",
    "### 安装Kaggle\n",
    "\n",
    "```bash\n",
    "pip install kaggle --user\n",
    "```\n",
    "\n",
    "之后运行`kaggle -v`命令时，若是报错信息如下：\n",
    "\n",
    "```python\n",
    "Traceback (most recent call last):\n",
    "  File \"/home/hzq/.local/bin/kaggle\", line 6, in <module>\n",
    "    from kaggle.cli import main\n",
    "  File \"/home/hzq/.local/lib/python3.5/site-packages/kaggle/__init__.py\", line 23, in <module>\n",
    "    api.authenticate()\n",
    "  File \"/home/hzq/.local/lib/python3.5/site-packages/kaggle/api/kaggle_api_extended.py\", line 166, in authenticate\n",
    "    self.config_file, self.config_dir))\n",
    "OSError: Could not find kaggle.json. Make sure it's located in /home/hzq/.kaggle. Or use the environment method.\n",
    "```\n",
    "\n",
    "则需要到`kaggle`官网的`Account`目录下，里面有个`create new API Token`按钮，按下去会自动下载一个`kaggle.json`文件。\n",
    "\n",
    "之后将下载好的`kaggle.json`文件放到刚刚报错的文件目录下面，也就是`/home/hzq/.kaggle`目录下。\n",
    "\n",
    "### 下载数据集\n",
    "\n",
    "```bash\n",
    "kaggle competitions download -c house-prices-advanced-regression-techniques\n",
    "```\n",
    "\n",
    "### 解压数据集\n",
    "\n",
    "\n",
    "```bash\n",
    "unzip house-prices-advanced-regression-techniques.zip\n",
    "```"
   ]
  },
  {
   "cell_type": "markdown",
   "id": "9cb125d2",
   "metadata": {},
   "source": [
    "## 处理数据"
   ]
  },
  {
   "cell_type": "markdown",
   "id": "e90c0f7f",
   "metadata": {},
   "source": [
    "首先，我们将数据集读取进来，看一下其格式。"
   ]
  },
  {
   "cell_type": "code",
   "execution_count": 1,
   "id": "156cd978",
   "metadata": {},
   "outputs": [
    {
     "name": "stdout",
     "output_type": "stream",
     "text": [
      "The Train Data Shape is : (1460, 81)\n",
      "The Test Daata Shape is : (1459, 80)\n",
      "\n"
     ]
    }
   ],
   "source": [
    "import pandas as pd\n",
    "\n",
    "train_data = pd.read_csv('train.csv')\n",
    "test_data = pd.read_csv('test.csv')\n",
    "\n",
    "print(\"The Train Data Shape is : {}\".format(train_data.shape))\n",
    "print(\"The Test Daata Shape is : {}\\n\".format(test_data.shape))"
   ]
  },
  {
   "cell_type": "markdown",
   "id": "e5a23963",
   "metadata": {},
   "source": [
    "可以看到，训练数据集总共有1460个样本，每个样本的维度是81个维度，最后一个维度是标签。测试集有1459个样本，特征维度为80维。"
   ]
  },
  {
   "cell_type": "markdown",
   "id": "7b0cae48",
   "metadata": {},
   "source": [
    "查看一下训练数据集的前四行，的前四列和后四列"
   ]
  },
  {
   "cell_type": "code",
   "execution_count": 2,
   "id": "0907c01e",
   "metadata": {},
   "outputs": [
    {
     "name": "stdout",
     "output_type": "stream",
     "text": [
      "   Id  MSSubClass MSZoning  LotFrontage SaleType SaleCondition  SalePrice\n",
      "0   1          60       RL         65.0       WD        Normal     208500\n",
      "1   2          20       RL         80.0       WD        Normal     181500\n",
      "2   3          60       RL         68.0       WD        Normal     223500\n",
      "3   4          70       RL         60.0       WD       Abnorml     140000\n"
     ]
    }
   ],
   "source": [
    "print(train_data.iloc[0:4, [0, 1, 2, 3, -3, -2, -1]])"
   ]
  },
  {
   "cell_type": "markdown",
   "id": "32bf1942",
   "metadata": {},
   "source": [
    "发现数据集中第一列尾id序号，我们并不需要这个特征。然后还有字符串，我们需要将其处理一下。首先将训练数据集的特征和测试数据集的特征拼接起来:"
   ]
  },
  {
   "cell_type": "code",
   "execution_count": 3,
   "id": "475d003e",
   "metadata": {},
   "outputs": [],
   "source": [
    "all_features = pd.concat((train_data.iloc[:, 1:-1], test_data.iloc[:, 1:]))"
   ]
  },
  {
   "cell_type": "markdown",
   "id": "c9365e4f",
   "metadata": {},
   "source": [
    "之后，将数值特征筛选出来:"
   ]
  },
  {
   "cell_type": "code",
   "execution_count": 4,
   "id": "a3773b30",
   "metadata": {},
   "outputs": [],
   "source": [
    "numeric_features = all_features.dtypes[all_features.dtypes != \"object\"].index\n",
    "all_features[numeric_features] = all_features[numeric_features].apply(lambda x: (x - x.mean()) / x.std())\n",
    "all_features[numeric_features] = all_features[numeric_features].fillna(0)"
   ]
  },
  {
   "cell_type": "markdown",
   "id": "6e758e43",
   "metadata": {},
   "source": [
    "再处理字符串，调用pandas中的get_dummies()方法"
   ]
  },
  {
   "cell_type": "code",
   "execution_count": 5,
   "id": "546dda9e",
   "metadata": {},
   "outputs": [],
   "source": [
    "all_features = pd.get_dummies(all_features, dummy_na=True)"
   ]
  },
  {
   "cell_type": "code",
   "execution_count": 6,
   "id": "8f4dfc29",
   "metadata": {},
   "outputs": [
    {
     "data": {
      "text/plain": [
       "(2919, 331)"
      ]
     },
     "execution_count": 6,
     "metadata": {},
     "output_type": "execute_result"
    }
   ],
   "source": [
    "all_features.shape  # 查看一下维度，发现它变成了331维。"
   ]
  },
  {
   "cell_type": "markdown",
   "id": "24226821",
   "metadata": {},
   "source": [
    "处理完成之后，我们需要将训练集数据和测试集数据分开"
   ]
  },
  {
   "cell_type": "code",
   "execution_count": 7,
   "id": "8132fe29",
   "metadata": {},
   "outputs": [],
   "source": [
    "import torch\n",
    "n_train = train_data.shape[0]  # 训练集样本个数\n",
    "train_features = torch.tensor(all_features[:n_train].values, dtype=torch.float32)\n",
    "test_features = torch.tensor(all_features[n_train:].values, dtype=torch.float32)\n",
    "train_labels = torch.tensor(train_data.SalePrice.values.reshape(-1, 1), dtype=torch.float32)"
   ]
  },
  {
   "cell_type": "code",
   "execution_count": 8,
   "id": "f30dd0b6",
   "metadata": {
    "scrolled": true
   },
   "outputs": [
    {
     "name": "stdout",
     "output_type": "stream",
     "text": [
      "train_data shape is torch.Size([1460, 331])\n",
      "test_data shape is torch.Size([1459, 331])\n",
      "train_data label shape is torch.Size([1460, 1])\n"
     ]
    }
   ],
   "source": [
    "print(\"train_data shape is {}\".format(train_features.shape))\n",
    "print(\"test_data shape is {}\".format(test_features.shape))\n",
    "print(\"train_data label shape is {}\".format(train_labels.shape))"
   ]
  },
  {
   "cell_type": "markdown",
   "id": "e6709651",
   "metadata": {},
   "source": [
    "## 给定超参数"
   ]
  },
  {
   "cell_type": "code",
   "execution_count": 9,
   "id": "5b90d1c1",
   "metadata": {},
   "outputs": [],
   "source": [
    "batch_size = 64\n",
    "epochs = 500\n",
    "learning_rate = 1"
   ]
  },
  {
   "cell_type": "code",
   "execution_count": null,
   "id": "d1d2ee6c",
   "metadata": {},
   "outputs": [],
   "source": []
  },
  {
   "cell_type": "markdown",
   "id": "d8c66fb1",
   "metadata": {},
   "source": [
    "## 用DataSet封装数据\n",
    "\n",
    "之后，我们用DataSet将数据封装一下:"
   ]
  },
  {
   "cell_type": "code",
   "execution_count": 10,
   "id": "39151995",
   "metadata": {},
   "outputs": [],
   "source": [
    "import torch\n",
    "import random\n",
    "from torch.utils.data.dataset import Dataset\n",
    "from torch.utils.data import DataLoader"
   ]
  },
  {
   "cell_type": "code",
   "execution_count": 11,
   "id": "c8eed5e7",
   "metadata": {},
   "outputs": [],
   "source": [
    "class Data(Dataset):\n",
    "    def __init__(self, ):\n",
    "        self.train_features = train_features\n",
    "        self.train_labels = train_labels\n",
    "    \n",
    "    def __getitem__(self, index):\n",
    "        return self.train_features[index], self.train_labels[index]\n",
    "    \n",
    "    def __len__(self):\n",
    "        return len(self.train_labels)\n",
    "training_data = Data()\n",
    "train_dataloader = DataLoader(training_data, batch_size=batch_size)"
   ]
  },
  {
   "cell_type": "markdown",
   "id": "fd14b7ce",
   "metadata": {},
   "source": [
    "## 构建模型"
   ]
  },
  {
   "cell_type": "code",
   "execution_count": 12,
   "id": "67015253",
   "metadata": {},
   "outputs": [],
   "source": [
    "import torch.nn as nn\n",
    "class MyNet(nn.Module):\n",
    "    def __init__(self, input_dim, output_dim):\n",
    "        super(MyNet, self).__init__()\n",
    "        self.linear1 = nn.Sequential(nn.Linear(input_dim, output_dim))\n",
    "    def forward(self, x):\n",
    "        return self.linear1(x)\n",
    "model = MyNet(input_dim=train_features.shape[1], output_dim=1)"
   ]
  },
  {
   "cell_type": "markdown",
   "id": "dd96d307",
   "metadata": {},
   "source": [
    "## 训练逻辑"
   ]
  },
  {
   "cell_type": "markdown",
   "id": "03a9b164",
   "metadata": {},
   "source": [
    "### 网络训练逻辑"
   ]
  },
  {
   "cell_type": "markdown",
   "id": "1e41829e",
   "metadata": {},
   "source": [
    "#### 设置优化器"
   ]
  },
  {
   "cell_type": "code",
   "execution_count": 13,
   "id": "5b0bfb53",
   "metadata": {},
   "outputs": [],
   "source": [
    "optimizer = torch.optim.Adam(model.parameters(), lr=learning_rate)"
   ]
  },
  {
   "cell_type": "markdown",
   "id": "b3cecc27",
   "metadata": {},
   "source": [
    "#### 设置损失函数"
   ]
  },
  {
   "cell_type": "markdown",
   "id": "b0ad75dd",
   "metadata": {},
   "source": [
    "之前，我们做误差是真实值减去预测值，但是这个对于房价来说并不是特别好，因为房价有可能卖一百万一套房，也有可能卖十万一套房。如果直接这么做的话，100万房价的误差可能会大一点，10万房子误差会小一点这样。\n",
    "\n",
    "所以，采用相对误差来解决这个问题$\\frac{y -\\hat{y}}{y}$"
   ]
  },
  {
   "cell_type": "code",
   "execution_count": 14,
   "id": "b7030f5c",
   "metadata": {},
   "outputs": [],
   "source": [
    "def log_rmse(net, features, labels):\n",
    "    # 为了在取对数时进一步稳定该值，将小于1的值设置为1\n",
    "    clipped_preds = torch.clamp(net(features), 1, float('inf'))\n",
    "    rmse = torch.sqrt(loss(torch.log(clipped_preds), torch.log(labels)))\n",
    "    return rmse.item()"
   ]
  },
  {
   "cell_type": "markdown",
   "id": "204cb95e",
   "metadata": {},
   "source": [
    "但是优化的时候，依然采用均方差损失函数:"
   ]
  },
  {
   "cell_type": "code",
   "execution_count": 15,
   "id": "8ee5b17b",
   "metadata": {},
   "outputs": [],
   "source": [
    "loss = nn.MSELoss()"
   ]
  },
  {
   "cell_type": "code",
   "execution_count": 16,
   "id": "20d15fe7",
   "metadata": {},
   "outputs": [],
   "source": [
    "def train_loop(dataloader, model, loss_fn):\n",
    "    size = len(dataloader.dataset)\n",
    "    \n",
    "    rmse_loss = 0\n",
    "    for batch_idx, (X, y) in enumerate(dataloader):\n",
    "        # 计算前向传播和损失函数\n",
    "        pred = model(X)\n",
    "        l = loss_fn(pred, y)\n",
    "        \n",
    "        # 计算反向传播\n",
    "        optimizer.zero_grad()\n",
    "        l.backward()\n",
    "        optimizer.step()\n",
    "        \n",
    "        rmse_loss += log_rmse(model, X, y)\n",
    "    return rmse_loss"
   ]
  },
  {
   "cell_type": "code",
   "execution_count": 17,
   "id": "ee193a24",
   "metadata": {},
   "outputs": [],
   "source": [
    "def test_loop(dataloader, model, loss_fn):\n",
    "    size = len(dataloader.dataset)\n",
    "    rmse_loss = 0\n",
    "    with torch.no_grad():\n",
    "        for X, y in dataloader:\n",
    "            rmse_loss += log_rmse(model, X, y)\n",
    "    return rmse_loss"
   ]
  },
  {
   "cell_type": "code",
   "execution_count": 18,
   "id": "2c21f65e",
   "metadata": {},
   "outputs": [
    {
     "data": {
      "image/png": "[encoded data removed]",
      "text/plain": [
       "<Figure size 432x288 with 1 Axes>"
      ]
     },
     "metadata": {
      "needs_background": "light"
     },
     "output_type": "display_data"
    }
   ],
   "source": [
    "train_loss = []\n",
    "for t in range(epochs):\n",
    "    train_loss.append(train_loop(train_dataloader, model, loss_fn=loss))\n",
    "    \n",
    "import matplotlib.pyplot as plt\n",
    "plt.plot(list(range(len(train_loss))), train_loss)\n",
    "plt.show()"
   ]
  },
  {
   "cell_type": "markdown",
   "id": "af2838f6",
   "metadata": {},
   "source": [
    "### K折交叉验证"
   ]
  },
  {
   "cell_type": "code",
   "execution_count": 19,
   "id": "971133ca",
   "metadata": {},
   "outputs": [],
   "source": [
    "def get_k_fold_data(k, i, X, y):\n",
    "    assert k > 1  # 指定的 K 折交叉验证的 K 需要大于1。\n",
    "    fold_size = X.shape[0] // k  # 总数据集大小除以k，得到每一折数据量应该是多大。\n",
    "    X_train, y_train = None, None\n",
    "    for j in range(k):\n",
    "        idx = slice(j * fold_size, (j + 1) * fold_size)  # 选中第j折\n",
    "        X_part, y_part = X[idx, :], y[idx]\n",
    "        if j == i:  # 如果第j折，是选定的第i折，那么就将其设置为验证集。\n",
    "            X_valid, y_valid = X_part, y_part\n",
    "        elif X_train is None:  # 如果 X_train 是第一次添加的话则直接赋值即可。\n",
    "            X_train, y_train = X_part, y_part\n",
    "        else:  # 如果 X_train 不是第一次添加的话则用cat与之前的数据集进行拼接即可。\n",
    "            X_train = torch.cat([X_train, X_part], 0)\n",
    "            y_train = torch.cat([y_train, y_part], 0)\n",
    "    return X_train, y_train, X_valid, y_valid"
   ]
  },
  {
   "cell_type": "code",
   "execution_count": 20,
   "id": "57a177d1",
   "metadata": {},
   "outputs": [],
   "source": [
    "def train_loop(dataloader, model, loss_fn):\n",
    "    # 把优化器添加到train_loop中，来做k折交叉验证。\n",
    "    optimizer = torch.optim.Adam(model.parameters(), lr=learning_rate)\n",
    "    size = len(dataloader.dataset)\n",
    "    \n",
    "    rmse_loss = 0\n",
    "    for batch_idx, (X, y) in enumerate(dataloader):\n",
    "        # 计算前向传播和损失函数\n",
    "        pred = model(X)\n",
    "        l = loss_fn(pred, y)\n",
    "        \n",
    "        # 计算反向传播\n",
    "        optimizer.zero_grad()\n",
    "        l.backward()\n",
    "        optimizer.step()\n",
    "        \n",
    "        rmse_loss += log_rmse(model, X, y)\n",
    "    return rmse_loss"
   ]
  },
  {
   "cell_type": "code",
   "execution_count": 21,
   "id": "a5aa5cac",
   "metadata": {},
   "outputs": [],
   "source": [
    "def k_fold(k, x_train_data, y_train_data):\n",
    "    train_loss_all, test_loss_all = [], []\n",
    "    for i in range(k):\n",
    "        # X_train, y_train, X_vaild, y_valid = get_k_fold_data(k, i, train_features, train_labels)\n",
    "        X_train, y_train, X_vaild, y_valid = get_k_fold_data(k, i, x_train_data, y_train_data)\n",
    "        # print(X_train.shape, y_train.shape)\n",
    "        \n",
    "        train_dataset = torch.utils.data.TensorDataset(x_train_data, y_train_data)\n",
    "        traindata_loader = torch.utils.data.DataLoader(train_dataset, batch_size=batch_size, shuffle=True)\n",
    "        \n",
    "        test_dataset = torch.utils.data.TensorDataset(X_vaild, y_valid)\n",
    "        testdata_loader = torch.utils.data.DataLoader(test_dataset, batch_size=batch_size, shuffle=True)\n",
    "        \n",
    "        model_new = MyNet(input_dim=train_features.shape[1], output_dim=1)\n",
    "        \n",
    "        for t in range(epochs):\n",
    "            train_loss_all.append(train_loop(train_dataloader, model_new, loss_fn=loss))\n",
    "            test_loss_all.append(test_loop(testdata_loader, model, loss_fn=loss))\n",
    "    return train_loss_all, test_loss_all"
   ]
  },
  {
   "cell_type": "code",
   "execution_count": 24,
   "id": "68a1909a",
   "metadata": {},
   "outputs": [
    {
     "data": {
      "image/png": "[encoded data removed]",
      "text/plain": [
       "<Figure size 432x288 with 1 Axes>"
      ]
     },
     "metadata": {
      "needs_background": "light"
     },
     "output_type": "display_data"
    }
   ],
   "source": [
    "train_loss_all, test_loss_all = k_fold(k=5, x_train_data=train_features, y_train_data=train_labels)\n",
    "import matplotlib.pyplot as plt\n",
    "plt.plot(list(range(len(train_loss_all))), train_loss_all)\n",
    "plt.plot(list(range(len(test_loss_all))), test_loss_all)\n",
    "plt.show()"
   ]
  },
  {
   "cell_type": "markdown",
   "id": "29a2c964",
   "metadata": {},
   "source": [
    "## 测试最终结果"
   ]
  },
  {
   "cell_type": "code",
   "execution_count": 25,
   "id": "d9d3b9bf",
   "metadata": {},
   "outputs": [],
   "source": [
    "preds = model(test_features).detach().numpy()\n",
    "test_data['SalePrice'] = pd.Series(preds.reshape(1, -1)[0])\n",
    "submission = pd.concat([test_data['Id'], test_data['SalePrice']], axis=1)\n",
    "submission.to_csv('submission.csv', index=False)"
   ]
  },
  {
   "cell_type": "code",
   "execution_count": null,
   "id": "e8b3550c",
   "metadata": {},
   "outputs": [],
   "source": []
  },
  {
   "cell_type": "code",
   "execution_count": null,
   "id": "af71a815",
   "metadata": {},
   "outputs": [],
   "source": []
  },
  {
   "cell_type": "code",
   "execution_count": null,
   "id": "0901d011",
   "metadata": {},
   "outputs": [],
   "source": []
  }
 ],
 "metadata": {
  "kernelspec": {
   "display_name": "Python 3 (ipykernel)",
   "language": "python",
   "name": "python3"
  },
  "language_info": {
   "codemirror_mode": {
    "name": "ipython",
    "version": 3
   },
   "file_extension": ".py",
   "mimetype": "text/x-python",
   "name": "python",
   "nbconvert_exporter": "python",
   "pygments_lexer": "ipython3",
   "version": "3.9.4"
  },
  "toc": {
   "base_numbering": 1,
   "nav_menu": {},
   "number_sections": true,
   "sideBar": true,
   "skip_h1_title": false,
   "title_cell": "Table of Contents",
   "title_sidebar": "Contents",
   "toc_cell": false,
   "toc_position": {},
   "toc_section_display": true,
   "toc_window_display": true
  }
 },
 "nbformat": 4,
 "nbformat_minor": 5
}
