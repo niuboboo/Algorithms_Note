{
 "cells": [
  {
   "cell_type": "code",
   "execution_count": 1,
   "id": "b9ba7bc9",
   "metadata": {},
   "outputs": [
    {
     "name": "stderr",
     "output_type": "stream",
     "text": [
      "\n"
     ]
    }
   ],
   "source": [
    "import gym\n",
    "import time\n",
    "from functools import reduce\n",
    "import argparse\n",
    "import collections\n",
    "import numpy as np\n",
    "import pandas as pd\n",
    "from gym import spaces\n",
    "import matplotlib.pylab as plt"
   ]
  },
  {
   "cell_type": "markdown",
   "id": "1ee6c703",
   "metadata": {},
   "source": [
    "## 问题描述\n",
    "\n",
    "使用强化学习，寻找能够使得目标函数$y = x^{2}$值最小的解$x$，"
   ]
  },
  {
   "cell_type": "markdown",
   "id": "4319d0cd",
   "metadata": {},
   "source": [
    "## 创建环境模型\n",
    "\n"
   ]
  },
  {
   "cell_type": "code",
   "execution_count": 2,
   "id": "520e1a50",
   "metadata": {},
   "outputs": [],
   "source": [
    "from IPython.display import clear_output\n",
    "class OptiFunctionEnv(gym.Env):\n",
    "    def __init__(self):\n",
    "        super(OptiFunctionEnv, self).__init__()\n",
    "        \"\"\"\n",
    "        描述: y = x^{2} 的⽬标函数，希望求得能够使得⽬标函数最⼩的x。\n",
    "        在初始化函数中主要需要设置状态空间和动作空间。\n",
    "        \"\"\"\n",
    "        self.obs_bound = np.array([5])  # 观测空间只有一个，边界定义为-5到5。\n",
    "        # 设置状态空间范围：-high到high，类型为int32\n",
    "        self.observation_space = spaces.Box(-self.obs_bound, self.obs_bound, dtype=np.int32)\n",
    "        \n",
    "        self.action_space = spaces.Discrete(2) # 设置动作空间：0, 1。分别表示为向左向右。\n",
    "        \n",
    "        self.state = None\n",
    "        self.episode_limit = 20  # episode的最大长度\n",
    "        self.episode_cur = 0  # episode的当前位置。\n",
    "    \n",
    "    def func(self, x):\n",
    "        return np.power(x, 2)\n",
    "    \n",
    "    def step(self, action):\n",
    "        \"\"\"\n",
    "        给定动作，在环境中进⾏状态转移\n",
    "        \"\"\"\n",
    "        err_msg = \"{} ({}) invalid\".format(action, type(action))\n",
    "        assert self.action_space.contains(action), err_msg\n",
    "        \n",
    "        self.episode_cur += 1  # episode的当前位置加1。\n",
    "        \n",
    "        pre_state = self.state\n",
    "        self.state += 1 if action else -1\n",
    "        # done = True if not self.observation_space.contains(self.state) or \\\n",
    "        #                                     self.episode_cur >= self.episode_limit else False\n",
    "        done = bool(self.state < -self.obs_bound or self.state > self.obs_bound or self.episode_cur >= 20)\n",
    "        \n",
    "        if done:\n",
    "            reward = -(self.func(self.state) - self.func(pre_state))\n",
    "        else:\n",
    "            reward = -(self.func(self.state) - self.func(pre_state))\n",
    "        return self.state, reward, done, {}\n",
    "    \n",
    "    def reset(self):\n",
    "        \"\"\"\n",
    "        初始化环境状态\n",
    "        \"\"\"\n",
    "        self.episode_cur = 0  # 初始化episode当前位置为0。\n",
    "        \n",
    "        self.state = np.random.choice([self.observation_space.low[0], self.observation_space.high[0]])\n",
    "        \n",
    "        return self.state\n",
    "    \n",
    "    def render(self, mode='human'):\n",
    "        clear_output(True)\n",
    "        x = np.linspace(-self.obs_bound, self.obs_bound, 100) \n",
    "        y = [self.func(i) for i in x]\n",
    "        plt.cla()\n",
    "        plt.plot(x, y, 'r', linewidth=2)\n",
    "        plt.scatter(self.state, self.func(self.state), linewidth=10)\n",
    "        plt.title(\"Find the solution corresponding to the minimum objective value\")\n",
    "        plt.pause(0.1)\n",
    "    \n",
    "    def close(self):\n",
    "        pass"
   ]
  },
  {
   "cell_type": "markdown",
   "id": "b196b60a",
   "metadata": {},
   "source": [
    "## 设置经验池"
   ]
  },
  {
   "cell_type": "code",
   "execution_count": 3,
   "id": "3ef0e96e",
   "metadata": {},
   "outputs": [],
   "source": [
    "import random\n",
    "import numpy as np\n",
    "\n",
    "class ReplayBuffer(object):\n",
    "    def __init__(self, size):\n",
    "        \"\"\"\n",
    "        创建经验回访池\n",
    "        ----------\n",
    "        参数：size: int类型，描述经验回放池的最大容量。\n",
    "        \"\"\"\n",
    "        self._storage = []\n",
    "        self._maxsize = size\n",
    "        self._next_idx = 0\n",
    "\n",
    "    def __len__(self):\n",
    "        \"\"\"\n",
    "        返回经验池的当前容量大小。\n",
    "        \"\"\"\n",
    "        return len(self._storage)\n",
    "\n",
    "    def push(self, state, action, reward, next_state, done):\n",
    "        \"\"\"\n",
    "        将观测、动作、奖励、下一个状态、是否结束此次episode压缩进当前经验池。\n",
    "        \"\"\"\n",
    "        data = (state, action, reward, next_state, done)\n",
    "\n",
    "        if self._next_idx >= len(self._storage):\n",
    "            self._storage.append(data)\n",
    "        else:\n",
    "            self._storage[self._next_idx] = data\n",
    "        self._next_idx = (self._next_idx + 1) % self._maxsize\n",
    "\n",
    "    def _encode_sample(self, idxes):\n",
    "        \"\"\"\n",
    "        依据索引idxes将数据转换成np.array格式。\n",
    "        \"\"\"\n",
    "        obses_t, actions, rewards, obses_tp1, dones = [], [], [], [], []\n",
    "        for i in idxes:\n",
    "            data = self._storage[i]\n",
    "            obs_t, action, reward, obs_tp1, done = data\n",
    "            obses_t.append(np.array(obs_t, copy=False))\n",
    "            actions.append(np.array(action, copy=False))\n",
    "            rewards.append(reward)\n",
    "            obses_tp1.append(np.array(obs_tp1, copy=False))\n",
    "            dones.append(done)\n",
    "        return np.array(obses_t), np.array(actions), np.array(rewards), np.array(obses_tp1), np.array(dones)\n",
    "\n",
    "    def sample(self, batch_size):\n",
    "        \"\"\"\n",
    "        采样一个batch的数据。\n",
    "        ----------\n",
    "        参数：batch_size: int类型，需要采样多少数据。\n",
    "        -------\n",
    "        返回数据：\n",
    "        obs_batch: np.array格式，一个batch的观测。\n",
    "        act_batch: np.array格式，给定一个batch观测下选取的一个batch的动作。\n",
    "        rew_batch: np.array格式，执行一个batch动作下，得到的一个batch的奖励。\n",
    "        next_obs_batch: np.array格式，执行一个batch动作下，得到的一个batch的下一个状态。\n",
    "        done_mask: np.array格式，如果episode结束，done_mask[i] = 1 否则done_mask[i] = 0.\n",
    "        \"\"\"\n",
    "        idxes = [random.randint(0, len(self._storage) - 1) for _ in range(batch_size)]\n",
    "        return self._encode_sample(idxes)"
   ]
  },
  {
   "cell_type": "markdown",
   "id": "ca1f98ce",
   "metadata": {},
   "source": [
    "## 构建智能体"
   ]
  },
  {
   "cell_type": "code",
   "execution_count": 4,
   "id": "5cfc4db2",
   "metadata": {},
   "outputs": [],
   "source": [
    "class Agent(object):\n",
    "    def __init__(self, env, exp_buffer, args):\n",
    "        \"\"\"\n",
    "        初始化智能体\n",
    "        :param env:\n",
    "        :param exp_buffer:\n",
    "        :param args:\n",
    "        \"\"\"\n",
    "        self.env = env\n",
    "        self.exp_buffer = exp_buffer\n",
    "        self.q_table = self.build_model()\n",
    "        self.args = args\n",
    "    \n",
    "    def build_model(self):\n",
    "        \"\"\"\n",
    "        构建智能体模型\n",
    "         :return:\n",
    "         \"\"\"\n",
    "        obs_index = list(range(self.env.observation_space.low[0], self.env.observation_space.high[0] + 1))\n",
    "        q_table = pd.DataFrame(np.random.random((len(obs_index), self.env.action_space.n)), obs_index,\n",
    "        list(range(self.env.action_space.n)))\n",
    "        return q_table\n",
    "    \n",
    "    def choose_action(self, state):\n",
    "        \"\"\"\n",
    "        根据环境观测值选择动作的机制\n",
    "        :param state:\n",
    "        :return:\n",
    "        \"\"\"\n",
    "        state_action = self.q_table.loc[state, :]\n",
    "        if np.random.uniform() > self.args.epsilon or (state_action == 0).all():\n",
    "            action_name = np.random.choice(self.q_table.columns.values)\n",
    "        else:\n",
    "            action_name = state_action.idxmax()\n",
    "        return action_name\n",
    "    \n",
    "    def store_transition(self, state, action, r, state_next, done):\n",
    "        \"\"\"\n",
    "        存储轨迹\n",
    "        :param state:\n",
    "        :param action:\n",
    "        :param r:\n",
    "        :param done:\n",
    "        :param state_next:\n",
    "        :return:\n",
    "        \"\"\"\n",
    "        # exp = Experience(state, action, r, done, state_next)\n",
    "        self.exp_buffer.push(state, action, r, state_next, done)\n",
    "        \n",
    "    def learn(self):\n",
    "        \"\"\"\n",
    "        更新智能体模型\n",
    "        \"\"\"\n",
    "        buffer = self.exp_buffer.sample(batch_size=self.args.batch_size)\n",
    "        batch_state, batch_action, batch_r, batch_next_state, batch_done = buffer\n",
    "        \n",
    "        for idx, state in enumerate(batch_state):\n",
    "            expected_q_value = batch_r[idx] + self.args.gamma * self.q_table.iloc[batch_next_state[idx], :].max() * (1 - batch_done[idx])\n",
    "            current_q_value = self.q_table.iloc[batch_state[idx], batch_action[idx]]\n",
    "            delta = expected_q_value - current_q_value\n",
    "            self.q_table.loc[batch_state[idx], batch_action[idx]] += self.args.lr * delta"
   ]
  },
  {
   "cell_type": "code",
   "execution_count": 5,
   "id": "1ad9e965",
   "metadata": {},
   "outputs": [],
   "source": [
    "def main():\n",
    "    parser = argparse.ArgumentParser(description=\"The parameter of Q-Learning\")\n",
    "    parser.add_argument(\"--replay_size\", type=int, help=\"maximum capacity of the buffer\", default=10000)\n",
    "    parser.add_argument(\"--gamma\", type=float, help=\"gamma value used for Bellman approximation\", default=0.95)\n",
    "    parser.add_argument(\"--lr\", type=float, help=\"learning rate used in the Adam optimizer\", default=0.1)\n",
    "    parser.add_argument(\"--epsilon\", type=float, help=\"epsilon for greedy\", default=0.9)\n",
    "    parser.add_argument(\"--batch_size\", type=int, help=\"Batch Size for train\", default=4)\n",
    "    args = parser.parse_args(args=[])\n",
    "                    \n",
    "    buffer = ReplayBuffer(size=args.replay_size)\n",
    "    env = OptiFunctionEnv()\n",
    "    agent = Agent(env, buffer, args)\n",
    "    \n",
    "    EpisodeSumReward = []\n",
    "    for epoch in range(15):\n",
    "        state, done = env.reset(), False # 1. 获取初始状态信息\n",
    "        episode_r = []\n",
    "        while not done:\n",
    "            env.render()\n",
    "            action = agent.choose_action(state) # 2. 依据状态选择动作\n",
    "            state_next, r, done, info = env.step(action) # 3. 依据动作更新环境状态\n",
    "            agent.store_transition(state, action, r, state_next, done)\n",
    "            agent.learn() # 4. 智能体进⾏学习\n",
    "            if not done:\n",
    "                state = state_next # 5. 更新状态\n",
    "            episode_r.append(r)\n",
    "        print(\"epoch: {} | len_ep_r: {} | avg_r: {}\".format(epoch, len(episode_r), \\\n",
    "                                                            np.sum(episode_r) / len(episode_r)))\n",
    "        EpisodeSumReward.append(np.sum(episode_r))\n",
    "    env.close()\n",
    "    plt.plot(EpisodeSumReward)\n",
    "    plt.title(\"EpisodeSumReward\")\n",
    "    plt.show()"
   ]
  },
  {
   "cell_type": "code",
   "execution_count": 6,
   "id": "3367afe6",
   "metadata": {},
   "outputs": [
    {
     "data": {
      "image/png": "[encoded data removed]",
      "text/plain": [
       "<Figure size 432x288 with 1 Axes>"
      ]
     },
     "metadata": {
      "needs_background": "light"
     },
     "output_type": "display_data"
    },
    {
     "name": "stdout",
     "output_type": "stream",
     "text": [
      "epoch: 14 | len_ep_r: 20 | avg_r: 0.8\n"
     ]
    },
    {
     "data": {
      "image/png": "[encoded data removed]",
      "text/plain": [
       "<Figure size 432x288 with 1 Axes>"
      ]
     },
     "metadata": {
      "needs_background": "light"
     },
     "output_type": "display_data"
    }
   ],
   "source": [
    "if __name__ == '__main__':\n",
    "    main()"
   ]
  },
  {
   "cell_type": "code",
   "execution_count": null,
   "id": "32776c21",
   "metadata": {},
   "outputs": [],
   "source": []
  }
 ],
 "metadata": {
  "kernelspec": {
   "display_name": "Python 3 (ipykernel)",
   "language": "python",
   "name": "python3"
  },
  "language_info": {
   "codemirror_mode": {
    "name": "ipython",
    "version": 3
   },
   "file_extension": ".py",
   "mimetype": "text/x-python",
   "name": "python",
   "nbconvert_exporter": "python",
   "pygments_lexer": "ipython3",
   "version": "3.9.4"
  },
  "toc": {
   "base_numbering": 1,
   "nav_menu": {},
   "number_sections": true,
   "sideBar": true,
   "skip_h1_title": false,
   "title_cell": "Table of Contents",
   "title_sidebar": "Contents",
   "toc_cell": false,
   "toc_position": {},
   "toc_section_display": true,
   "toc_window_display": true
  }
 },
 "nbformat": 4,
 "nbformat_minor": 5
}
