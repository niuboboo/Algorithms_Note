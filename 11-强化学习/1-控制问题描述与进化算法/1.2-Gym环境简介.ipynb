{
 "cells": [
  {
   "cell_type": "code",
   "execution_count": null,
   "id": "949b9d1e",
   "metadata": {},
   "outputs": [],
   "source": []
  },
  {
   "cell_type": "markdown",
   "id": "0a715cb4",
   "metadata": {},
   "source": [
    "https://www.gymlibrary.ml/"
   ]
  },
  {
   "cell_type": "markdown",
   "id": "73cbaa2c",
   "metadata": {},
   "source": [
    "## GYM官方GitHub地址"
   ]
  },
  {
   "cell_type": "code",
   "execution_count": 1,
   "id": "cffcd942",
   "metadata": {},
   "outputs": [
    {
     "name": "stdout",
     "output_type": "stream",
     "text": [
      "Requirement already satisfied: gym in e:\\install\\anaconda\\envs\\algo_note\\lib\\site-packages (0.23.1)\n",
      "Requirement already satisfied: cloudpickle>=1.2.0 in e:\\install\\anaconda\\envs\\algo_note\\lib\\site-packages (from gym) (2.0.0)\n",
      "Requirement already satisfied: gym-notices>=0.0.4 in e:\\install\\anaconda\\envs\\algo_note\\lib\\site-packages (from gym) (0.0.6)\n",
      "Requirement already satisfied: numpy>=1.18.0 in e:\\install\\anaconda\\envs\\algo_note\\lib\\site-packages (from gym) (1.22.3)\n",
      "Requirement already satisfied: importlib-metadata>=4.10.0 in e:\\install\\anaconda\\envs\\algo_note\\lib\\site-packages (from gym) (4.11.3)\n",
      "Requirement already satisfied: zipp>=0.5 in e:\\install\\anaconda\\envs\\algo_note\\lib\\site-packages (from importlib-metadata>=4.10.0->gym) (3.6.0)\n",
      "Requirement already satisfied: pygame in e:\\install\\anaconda\\envs\\algo_note\\lib\\site-packages (2.1.0)\n"
     ]
    }
   ],
   "source": [
    "!pip install gym\n",
    "!pip install pygame"
   ]
  },
  {
   "cell_type": "markdown",
   "id": "d370416d",
   "metadata": {},
   "source": [
    "## 使用"
   ]
  },
  {
   "cell_type": "code",
   "execution_count": 2,
   "id": "e2e6e0f7",
   "metadata": {},
   "outputs": [
    {
     "name": "stderr",
     "output_type": "stream",
     "text": [
      "E:\\install\\anaconda\\envs\\algo_note\\lib\\site-packages\\gym\\envs\\registration.py:505: UserWarning: \u001b[33mWARN: The environment CartPole-v0 is out of date. You should consider upgrading to version `v1` with the environment ID `CartPole-v1`.\u001b[0m\n",
      "  logger.warn(\n"
     ]
    }
   ],
   "source": [
    "import gym\n",
    "env = gym.make(\"CartPole-v0\")\n",
    "env.action_space.seed(42)\n",
    "\n",
    "observation, info = env.reset(seed=42, return_info=True)\n",
    "\n",
    "for _ in range(1000):\n",
    "    env.render()\n",
    "    observation, reward, done, info = env.step(env.action_space.sample())\n",
    "\n",
    "    if done:\n",
    "        observation, info = env.reset(return_info=True)\n",
    "\n",
    "env.close()"
   ]
  },
  {
   "cell_type": "code",
   "execution_count": 3,
   "id": "77d0ff9f",
   "metadata": {},
   "outputs": [
    {
     "name": "stdout",
     "output_type": "stream",
     "text": [
      "Observation space: Box([-1.2  -0.07], [0.6  0.07], (2,), float32)\n",
      "Action space: Discrete(3)\n"
     ]
    }
   ],
   "source": [
    "import gym\n",
    "env = gym.make(\"MountainCar-v0\")\n",
    "\n",
    "# plt.imshow(env.render('rgb_array'))\n",
    "print(\"Observation space:\", env.observation_space)\n",
    "print(\"Action space:\", env.action_space)"
   ]
  },
  {
   "cell_type": "markdown",
   "id": "897076b7",
   "metadata": {},
   "source": [
    "## Space\n"
   ]
  },
  {
   "cell_type": "markdown",
   "id": "697cd483",
   "metadata": {},
   "source": [
    "### Discrete\n",
    "\n"
   ]
  },
  {
   "cell_type": "markdown",
   "id": "a0dcabec",
   "metadata": {},
   "source": [
    "描述一个离散空间，其中{0，1，…，n-1}是我们的观察或操作可以采取的可能值。可以使用可选参数将值移动到{a，a+1，…，a+n-1}。\n",
    "\n",
    "查看一下倒立摆的`action_space`"
   ]
  },
  {
   "cell_type": "code",
   "execution_count": 4,
   "id": "10c609f7",
   "metadata": {},
   "outputs": [
    {
     "data": {
      "text/plain": [
       "Discrete(2)"
      ]
     },
     "execution_count": 4,
     "metadata": {},
     "output_type": "execute_result"
    }
   ],
   "source": [
    "env = gym.make(\"CartPole-v0\")\n",
    "env.action_space"
   ]
  },
  {
   "cell_type": "markdown",
   "id": "766a9614",
   "metadata": {},
   "source": [
    "其源码定义如下:\n",
    "\n",
    "```python\n",
    "self.action_space = spaces.Discrete(2)\n",
    "```\n",
    "\n",
    "我们再查看一下Discrete这个类，其源码地址为:\n",
    "\n",
    "Space的官方源码地址为: https://github.com/openai/gym/tree/master/gym/spaces。\n",
    "\n",
    "可以看到其有两种创建方式:\n",
    "\n",
    "```python\n",
    ">>> Discrete(2)            # {0, 1}\n",
    ">>> Discrete(3, start=-1)  # {-1, 0, 1}\n",
    "```\n",
    "\n",
    "其函数说明里面也说了就是创建离散的动作的。"
   ]
  },
  {
   "cell_type": "code",
   "execution_count": 5,
   "id": "ed07cf3b",
   "metadata": {},
   "outputs": [],
   "source": [
    "from gym import spaces"
   ]
  },
  {
   "cell_type": "code",
   "execution_count": 6,
   "id": "196f3875",
   "metadata": {},
   "outputs": [
    {
     "data": {
      "text/plain": [
       "Discrete(2, start=-1)"
      ]
     },
     "execution_count": 6,
     "metadata": {},
     "output_type": "execute_result"
    }
   ],
   "source": [
    "spaces.Discrete(2, start=-1)"
   ]
  },
  {
   "cell_type": "markdown",
   "id": "7f786c4e",
   "metadata": {},
   "source": [
    "### Box"
   ]
  },
  {
   "cell_type": "markdown",
   "id": "77bf97fb",
   "metadata": {},
   "source": [
    "描述了一个n维连续空间。是一个有界空间，我们可以定义上限和下限，来描述我们的观测值的有效值。\n",
    "\n",
    "查看一下\"CartPole-v0\"的Box定义:"
   ]
  },
  {
   "cell_type": "code",
   "execution_count": 7,
   "id": "59e89306",
   "metadata": {},
   "outputs": [
    {
     "data": {
      "text/plain": [
       "Box([-4.8000002e+00 -3.4028235e+38 -4.1887903e-01 -3.4028235e+38], [4.8000002e+00 3.4028235e+38 4.1887903e-01 3.4028235e+38], (4,), float32)"
      ]
     },
     "execution_count": 7,
     "metadata": {},
     "output_type": "execute_result"
    }
   ],
   "source": [
    "env = gym.make(\"CartPole-v0\")\n",
    "env.observation_space"
   ]
  },
  {
   "cell_type": "markdown",
   "id": "d7f2db8a",
   "metadata": {},
   "source": [
    "在其源码中observation_space的定义如下:\n",
    "\n",
    "```python\n",
    "high = np.array(\n",
    "    [\n",
    "        self.x_threshold * 2,\n",
    "        np.finfo(np.float32).max,\n",
    "        self.theta_threshold_radians * 2,\n",
    "        np.finfo(np.float32).max,\n",
    "    ],\n",
    "    dtype=np.float32,\n",
    ")\n",
    "self.observation_space = spaces.Box(-high, high, dtype=np.float32)\n",
    "```"
   ]
  },
  {
   "cell_type": "markdown",
   "id": "f3fb63cf",
   "metadata": {},
   "source": [
    "### Dict\n",
    "\n",
    "用于表示简单`spaces`的字典。\n",
    "\n",
    "官方源码地址为:https://github1s.com/openai/gym/blob/master/gym/spaces/dict.py"
   ]
  },
  {
   "cell_type": "code",
   "execution_count": 8,
   "id": "80500b0d",
   "metadata": {},
   "outputs": [
    {
     "data": {
      "text/plain": [
       "OrderedDict([('position', 0), ('velocity', 2)])"
      ]
     },
     "execution_count": 8,
     "metadata": {},
     "output_type": "execute_result"
    }
   ],
   "source": [
    "from gym.spaces import Dict\n",
    "observation_space = Dict({\"position\": spaces.Discrete(2), \"velocity\": spaces.Discrete(3)})\n",
    "observation_space.sample()"
   ]
  },
  {
   "cell_type": "markdown",
   "id": "9a8323ae",
   "metadata": {},
   "source": [
    "### Tuple\n",
    "\n",
    "表示简单spaces的元祖\n",
    "\n",
    "官方源码地址为:"
   ]
  },
  {
   "cell_type": "code",
   "execution_count": 9,
   "id": "8168bbd6",
   "metadata": {},
   "outputs": [
    {
     "data": {
      "text/plain": [
       "(1, 0)"
      ]
     },
     "execution_count": 9,
     "metadata": {},
     "output_type": "execute_result"
    }
   ],
   "source": [
    "from gym.spaces import Tuple\n",
    "observation_space = spaces.Tuple((spaces.Discrete(2), spaces.Discrete(3)))\n",
    "observation_space.sample()"
   ]
  },
  {
   "cell_type": "markdown",
   "id": "6e4c170a",
   "metadata": {},
   "source": [
    "### MultiBinary\n",
    "\n",
    "表示一个n维的二进制空间"
   ]
  },
  {
   "cell_type": "code",
   "execution_count": 10,
   "id": "8de6e9e3",
   "metadata": {},
   "outputs": [
    {
     "data": {
      "text/plain": [
       "array([1, 0, 1, 0, 1], dtype=int8)"
      ]
     },
     "execution_count": 10,
     "metadata": {},
     "output_type": "execute_result"
    }
   ],
   "source": [
    "from gym.spaces import MultiBinary\n",
    "observation_space = MultiBinary(5)\n",
    "observation_space.sample()"
   ]
  },
  {
   "cell_type": "code",
   "execution_count": 11,
   "id": "9614affa",
   "metadata": {},
   "outputs": [
    {
     "data": {
      "text/plain": [
       "array([[0, 1],\n",
       "       [1, 1],\n",
       "       [0, 1]], dtype=int8)"
      ]
     },
     "execution_count": 11,
     "metadata": {},
     "output_type": "execute_result"
    }
   ],
   "source": [
    "from gym.spaces import MultiBinary\n",
    "observation_space = MultiBinary((3, 2))\n",
    "observation_space.sample()"
   ]
  },
  {
   "cell_type": "markdown",
   "id": "1bf470c9",
   "metadata": {},
   "source": [
    "### MultiDiscrete\n",
    "\n",
    "由一系列离散的动作空间组成，每个元素中有不同数量的动作。"
   ]
  },
  {
   "cell_type": "code",
   "execution_count": 12,
   "id": "324bd2ab",
   "metadata": {},
   "outputs": [
    {
     "data": {
      "text/plain": [
       "array([0, 0, 0], dtype=int64)"
      ]
     },
     "execution_count": 12,
     "metadata": {},
     "output_type": "execute_result"
    }
   ],
   "source": [
    "from gym.spaces import MultiDiscrete\n",
    "\n",
    "observation_space = MultiDiscrete([5, 2, 2])\n",
    "observation_space.sample()"
   ]
  },
  {
   "cell_type": "markdown",
   "id": "a31fc9ec",
   "metadata": {},
   "source": [
    "## Wrappers"
   ]
  },
  {
   "cell_type": "markdown",
   "id": "e89ad388",
   "metadata": {},
   "source": [
    "Wrappers是一种修改现有环境的便捷方式，无需直接修改底层代码。使用Wrappers将允许您避免大量样板代码，并使您的环境更加模块化。Wrappers也可以链接起来，以组合其效果。大多数环境都是通过gym生成的。默认情况下，make已被包装。\n",
    "\n",
    "为了包装环境，必须首先初始化基本环境。然后，可以将此环境以及（可能是可选的）参数传递给包装器的构造函数："
   ]
  },
  {
   "cell_type": "markdown",
   "id": "60074105",
   "metadata": {},
   "source": [
    "### RescaleAction\n",
    "\n",
    "`RescaleAction`能够将连续动作空间中的动作，缩放到`[min_action, max_action]`这个范围。\n"
   ]
  },
  {
   "cell_type": "code",
   "execution_count": 13,
   "id": "69c0cb25",
   "metadata": {},
   "outputs": [],
   "source": [
    "import gym\n",
    "from gym.wrappers import RescaleAction\n",
    "\n",
    "base_env = gym.make('BipedalWalker-v3')"
   ]
  },
  {
   "cell_type": "code",
   "execution_count": 14,
   "id": "cd46e5fd",
   "metadata": {},
   "outputs": [
    {
     "data": {
      "text/plain": [
       "Box(-1.0, 1.0, (4,), float32)"
      ]
     },
     "execution_count": 14,
     "metadata": {},
     "output_type": "execute_result"
    }
   ],
   "source": [
    "base_env.action_space"
   ]
  },
  {
   "cell_type": "code",
   "execution_count": 15,
   "id": "7ebf4840",
   "metadata": {},
   "outputs": [
    {
     "data": {
      "text/plain": [
       "Box(0.0, 1.0, (4,), float32)"
      ]
     },
     "execution_count": 15,
     "metadata": {},
     "output_type": "execute_result"
    }
   ],
   "source": [
    "wrapper_env = RescaleAction(base_env, min_action=0, max_action=1)\n",
    "wrapper_env.action_space"
   ]
  },
  {
   "cell_type": "markdown",
   "id": "8668d5f0",
   "metadata": {},
   "source": [
    "除此之外，还有对观测和奖励的wrappers。"
   ]
  },
  {
   "cell_type": "markdown",
   "id": "32d81a07",
   "metadata": {},
   "source": [
    "## 向量化API\n",
    "\n",
    "`Vectorized Environments`是一次运行多个环境，采用并行或者串行的方式。对应的动作和奖励也是一个`batch`的。"
   ]
  },
  {
   "cell_type": "code",
   "execution_count": 16,
   "id": "ca19786a",
   "metadata": {},
   "outputs": [],
   "source": [
    "envs = gym.vector.make('CartPole-v1', num_envs=3)\n",
    "envs.reset()\n",
    "observations, rewards, dones, infos = envs.step([0, 1, 0])"
   ]
  },
  {
   "cell_type": "code",
   "execution_count": 17,
   "id": "53ab505e",
   "metadata": {},
   "outputs": [
    {
     "data": {
      "text/plain": [
       "array([[ 0.04450928, -0.24112365, -0.02487868,  0.25696984],\n",
       "       [ 0.04389759,  0.22447157,  0.01153603, -0.30892634],\n",
       "       [ 0.04329293, -0.16258499,  0.0089608 ,  0.30264556]],\n",
       "      dtype=float32)"
      ]
     },
     "execution_count": 17,
     "metadata": {},
     "output_type": "execute_result"
    }
   ],
   "source": [
    "observations"
   ]
  },
  {
   "cell_type": "markdown",
   "id": "147a9d32",
   "metadata": {},
   "source": [
    "GYM提供了两种向量化环境的方式:\n",
    "\n",
    "1. gym.vector.SyncVectorEnv  （序列化执行）\n",
    "2. gym.vector.AsyncVectorEnv   （并行执行）"
   ]
  },
  {
   "cell_type": "code",
   "execution_count": 18,
   "id": "a21210ad",
   "metadata": {},
   "outputs": [
    {
     "name": "stdout",
     "output_type": "stream",
     "text": [
      "[[-0.33599427  0.941864   -0.2547292 ]\n",
      " [ 0.85120684 -0.52483034  0.73773336]]\n"
     ]
    }
   ],
   "source": [
    "envs = gym.vector.AsyncVectorEnv([\n",
    "    lambda : gym.make('Pendulum-v1', g=9.81),\n",
    "    lambda : gym.make('Pendulum-v1', g=1.62)\n",
    "])\n",
    "observations = envs.reset()\n",
    "print(observations)"
   ]
  },
  {
   "cell_type": "code",
   "execution_count": null,
   "id": "0e4eb39b",
   "metadata": {},
   "outputs": [],
   "source": []
  },
  {
   "cell_type": "code",
   "execution_count": null,
   "id": "b5c690ed",
   "metadata": {},
   "outputs": [],
   "source": []
  },
  {
   "cell_type": "code",
   "execution_count": null,
   "id": "c95a4354",
   "metadata": {},
   "outputs": [],
   "source": []
  },
  {
   "cell_type": "code",
   "execution_count": null,
   "id": "7ab64202",
   "metadata": {},
   "outputs": [],
   "source": []
  }
 ],
 "metadata": {
  "kernelspec": {
   "display_name": "algo_note",
   "language": "python",
   "name": "algo_note"
  },
  "language_info": {
   "codemirror_mode": {
    "name": "ipython",
    "version": 3
   },
   "file_extension": ".py",
   "mimetype": "text/x-python",
   "name": "python",
   "nbconvert_exporter": "python",
   "pygments_lexer": "ipython3",
   "version": "3.8.12"
  },
  "toc": {
   "base_numbering": 1,
   "nav_menu": {},
   "number_sections": true,
   "sideBar": true,
   "skip_h1_title": false,
   "title_cell": "Table of Contents",
   "title_sidebar": "Contents",
   "toc_cell": false,
   "toc_position": {},
   "toc_section_display": true,
   "toc_window_display": true
  }
 },
 "nbformat": 4,
 "nbformat_minor": 5
}
