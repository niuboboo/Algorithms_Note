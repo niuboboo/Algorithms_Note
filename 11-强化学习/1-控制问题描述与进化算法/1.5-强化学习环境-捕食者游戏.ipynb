{
 "cells": [
  {
   "cell_type": "markdown",
   "id": "b9d94ce8",
   "metadata": {},
   "source": [
    "## 游戏简介\n",
    "\n",
    "捕食者游戏说的是: 在一个固定的区域内，有三个对象，玩家，食物和敌人。玩家需要在不碰到敌人的情况下，找到食物。如果碰到了敌人就会被敌人吃掉。拿到食物即为胜利，被敌人吃掉的话就输了。\n",
    "\n",
    "- 原文链接: https://pythonprogramming.net/q-learning-reinforcement-learning-python-tutorial/"
   ]
  },
  {
   "cell_type": "markdown",
   "id": "98ba9851",
   "metadata": {},
   "source": [
    "## 导入依赖库"
   ]
  },
  {
   "cell_type": "code",
   "execution_count": 1,
   "id": "3cca6fd7",
   "metadata": {},
   "outputs": [
    {
     "name": "stdout",
     "output_type": "stream",
     "text": [
      "Requirement already satisfied: opencv-python in /Users/tinyzqh/miniforge3/lib/python3.9/site-packages (4.5.5.62)\r\n",
      "Requirement already satisfied: numpy>=1.14.5 in /Users/tinyzqh/miniforge3/lib/python3.9/site-packages (from opencv-python) (1.22.2)\r\n"
     ]
    }
   ],
   "source": [
    "!pip install opencv-python"
   ]
  },
  {
   "cell_type": "code",
   "execution_count": 2,
   "id": "b7b160ca",
   "metadata": {},
   "outputs": [
    {
     "name": "stdout",
     "output_type": "stream",
     "text": [
      "Requirement already satisfied: pillow in /Users/tinyzqh/miniforge3/lib/python3.9/site-packages (8.2.0)\r\n"
     ]
    }
   ],
   "source": [
    "!pip install pillow"
   ]
  },
  {
   "cell_type": "code",
   "execution_count": 3,
   "id": "d0d2aca0",
   "metadata": {},
   "outputs": [],
   "source": [
    "import numpy as np\n",
    "import cv2\n",
    "from PIL import Image\n",
    "import time\n",
    "import pickle\n",
    "import matplotlib.pyplot as plt\n",
    "from matplotlib import style\n",
    "style.use('ggplot')"
   ]
  },
  {
   "cell_type": "markdown",
   "id": "2f9491fb",
   "metadata": {},
   "source": [
    "## 环境类"
   ]
  },
  {
   "cell_type": "markdown",
   "id": "1caa95fc",
   "metadata": {},
   "source": [
    "### 游戏主体对象实例化\n",
    "\n",
    "在这个游戏中，会创建不同的实体，像食物food，玩家player和敌人enemy。他们都是在二维方格中的一个点，因此它们会有两个属性。x坐标和y坐标。\n",
    "\n",
    "每个实体具备移动的属性，可以往x轴和y轴的任意方向移动。因此定义了如下函数:\n",
    "\n",
    "```python\n",
    "def move(self, x=False, y=False):\n",
    "```\n",
    "\n",
    "如果指定x和y移动多少，就按照指定的x和y进行移动。否者就随机进行移动。但是要注意是否移动出了边界，如果移动出了边界的话，就返回的是边界值。因此，在初始化的时候，我们需要指定地图的大小size。\n",
    "\n",
    "进一步将move封装为action，抽象化为九个可选动作，函数原型如下:\n",
    "\n",
    "```python\n",
    "def action(self, choise):\n",
    "```\n",
    "\n",
    "最后我们还需要打印两个实体的位置信息，定义函数原型如下:\n",
    "\n",
    "```python\n",
    "def __str__(self):\n",
    "    \"\"\"打印这个实体的时候，如何显示\"\"\"\n",
    "    return \"x : {}, y : {}\".format(self.x, self.y)\n",
    "```\n",
    "\n",
    "判断两个实体的相对位置:\n",
    "\n",
    "```python\n",
    "def __sub__(self, other):\n",
    "    \"\"\"位置间隔多少，通过一个减的操作实现\"\"\"\n",
    "    return (self.x - other.x, self.y - other.y)\n",
    "```\n",
    "\n",
    "判断两个实体是否相等:\n",
    "\n",
    "```python\n",
    "def __eq__(self, other):\n",
    "    \"\"\"判断两个实例是否是相等的\"\"\"\n",
    "    return self.x == other.x and self.y == other.y\n",
    "```"
   ]
  },
  {
   "cell_type": "code",
   "execution_count": 4,
   "id": "183f3368",
   "metadata": {},
   "outputs": [],
   "source": [
    "class Cube(object):\n",
    "    def __init__(self, size):\n",
    "        self.size = size\n",
    "        self.x = np.random.randint(0, size)  # 智能体的初始位置\n",
    "        self.y = np.random.randint(0, size)  # 智能体的初始位置\n",
    "        \n",
    "    def action(self, choise):\n",
    "        if choise == 0:\n",
    "            self.move(x=1, y=1)\n",
    "        elif choise == 1:\n",
    "            self.move(x=-1, y=1)\n",
    "        elif choise == 2:\n",
    "            self.move(x=1, y=-1)\n",
    "        elif choise == 3:\n",
    "            self.move(x=-1, y=-1)\n",
    "        elif choise == 4:\n",
    "            self.move(x=0, y=1)\n",
    "        elif choise == 5:\n",
    "            self.move(x=0, y=-1)\n",
    "        elif choise == 6:\n",
    "            self.move(x=1, y=0)\n",
    "        elif choise == 7:\n",
    "            self.move(x=-1, y=0)\n",
    "        elif choise == 8:  # 原地不动。\n",
    "            self.move(x=0, y=0)\n",
    "        else:\n",
    "            print(\"ERROR ACTION!\")\n",
    "    \n",
    "    def move(self, x=False, y=False):\n",
    "        \"\"\"x, y为给定的位置\"\"\"\n",
    "        if not x:  # 如果没有给定x，就给一个随机的值，随机值属于【-1， 0， 1】\n",
    "            self.x += np.random.randint(-1, 2)\n",
    "        else:\n",
    "            self.x += x\n",
    "        \n",
    "        if not y:  # 如果没有给定y，就给一个随机的值，随机值属于【-1， 0， 1】\n",
    "            self.y += np.random.randint(-1, 2)\n",
    "        else:\n",
    "            self.y += y\n",
    "        \n",
    "        if self.x < 0:  # 走出了边界，则赋值为0\n",
    "            self.x = 0\n",
    "        elif self.x >= self.size:\n",
    "            self.x = self.size - 1\n",
    "        \n",
    "        if self.y < 0:  # 走出了边界，则赋值为0\n",
    "            self.y = 0\n",
    "        elif self.y >= self.size:\n",
    "            self.y = self.size - 1\n",
    "            \n",
    "    def __str__(self):\n",
    "        \"\"\"打印这个实体的时候，如何显示\"\"\"\n",
    "        return \"x : {}, y : {}\".format(self.x, self.y)\n",
    "\n",
    "    def __sub__(self, other):\n",
    "        \"\"\"位置间隔多少，通过一个减的操作实现\"\"\"\n",
    "        return (self.x - other.x, self.y - other.y)\n",
    "    \n",
    "    def __eq__(self, other):\n",
    "        \"\"\"判断两个实例是否是相等的\"\"\"\n",
    "        return self.x == other.x and self.y == other.y"
   ]
  },
  {
   "cell_type": "markdown",
   "id": "6af480a2",
   "metadata": {},
   "source": [
    "### 环境实例化\n",
    "\n",
    "在能够实例化游戏主体对象时，我们就可以构造类似`gym`的游戏环境了。游戏环境中的核心方法有四个:\n",
    "\n",
    "1. `def __init__(self):` 设置环境初始化的一些信息。\n",
    "2. `def reset(self):`  重启环境的一些设定\n",
    "3. `def step(self, action):` 实现环境的状态转移\n",
    "4. `def render(self):` 对环境进行一个实时的渲染\n",
    "\n",
    "通常在初始化的时候，我们需要调用`gym.spaces`中的方法来创建动作空间和状态空间。\n",
    "\n",
    "`gym.spaces`的源码地址: https://github.com/openai/gym/tree/master/gym/spaces\n",
    "\n",
    "- `Box`方法创建的方法有两种：\n",
    "\n",
    "1. 对于每个维度都是相同的边界值\n",
    "\n",
    "```bash\n",
    ">>> Box(low=-1.0, high=2.0, shape=(3, 4), dtype=np.float32)\n",
    "Box(3, 4)\n",
    "```\n",
    "\n",
    "2. 对于每个维度是不同的边界值\n",
    "\n",
    "```bash\n",
    ">>> Box(low=np.array([-1.0, -2.0]), high=np.array([2.0, 4.0]), dtype=np.float32)\n",
    "Box(2,)\n",
    "```\n",
    "其中dtype定义的是空间中的数据类型。\n",
    "\n",
    "- `Discrete`方法主要是创建一个离散的空间，从0到n-1。\n",
    "\n",
    "例如:\n",
    "\n",
    "```bash\n",
    ">>> Discrete(2)\n",
    ">>> Discrete(3, start=-1)  # {-1, 0, 1}\n",
    "```\n",
    "\n",
    "通过这种创建方式，我们就可以调用其内部的一些方法，比如像sample采样方法。"
   ]
  },
  {
   "cell_type": "code",
   "execution_count": 5,
   "id": "6ef1f02f",
   "metadata": {},
   "outputs": [],
   "source": [
    "from gym import Env\n",
    "from gym.spaces import Discrete, Box\n",
    "\n",
    "class CubeEnv(Env):\n",
    "    \n",
    "    def __init__(self):\n",
    "        self.MapSize = 10  # 地图大小\n",
    "        self.ActionSpace = Discrete(9)\n",
    "        # self.ActionSpace = Box(low=0, high=9, shape=(1,), dtype=np.int32) # 返回numpy数据类型。\n",
    "        self.ObservationSpace = Box(low=-9, high=9, shape=(1, 4), dtype=np.int32)\n",
    "        \n",
    "        self.ReturnImage = False  # 是否返回图像。\n",
    "    \n",
    "        self.FoodReward = 25  # 食物的奖励是25分。\n",
    "        self.EnemyReward = -300  # 遇到敌人的惩罚是-300分。\n",
    "        self.MoveReward = -1  # 移动惩罚为-1分。\n",
    "\n",
    "        self.d = {1:(255, 0, 0),  # blue\n",
    "                 2:(0, 255, 0),  # green\n",
    "                 3:(0, 0, 255)}  # red\n",
    "\n",
    "        self.PlayerNum = 1  # 玩家为1号颜色\n",
    "        self.FoodNum = 2 # 食物为2号颜色\n",
    "        self.EnemyNum = 3 # 敌人为3号颜色\n",
    "\n",
    "    \n",
    "    def reset(self):\n",
    "        self.player = Cube(self.MapSize)\n",
    "        \n",
    "        self.food = Cube(self.MapSize)\n",
    "        while self.food == self.player:  # 当玩家位置与食物位置相同时，重新生成一遍。\n",
    "            self.food = Cube(self.MapSize)\n",
    "            \n",
    "        self.enemy = Cube(self.MapSize)\n",
    "        while self.enemy == self.food or self.enemy == self.player:  # 当敌人与食物或者玩家重叠时，重新生成一遍敌人。\n",
    "            self.enemy = Cube(self.MapSize)\n",
    "        \n",
    "        if self.ReturnImage:\n",
    "            obs = np.array(self.get_image())\n",
    "        else:\n",
    "            obs = (self.player - self.food) + (self.player - self.enemy)\n",
    "        \n",
    "        self.episode_step = 0 # 游戏step数清零。\n",
    "        \n",
    "        return obs\n",
    "    \n",
    "    def step(self, action):\n",
    "        self.episode_step += 1\n",
    "        \n",
    "        self.player.action(action)\n",
    "        self.food.move() # 食物随机移动一下\n",
    "        self.enemy.move() # 敌人也随机移动一下\n",
    "        \n",
    "        if self.ReturnImage:\n",
    "            # 如果需要返回图像的话，就将地图所有信息返回\n",
    "            new_obs = np.array(self.get_image())\n",
    "        else:\n",
    "            # 返回坐标之间的相对位置\n",
    "            new_obs = (self.player - self.food) + (self.player - self.enemy)\n",
    "        \n",
    "        if self.player == self.food:\n",
    "            reward = self.FoodReward\n",
    "        elif self.player == self.enemy:\n",
    "            reward = self.EnemyReward\n",
    "        else:\n",
    "            reward = self.MoveReward\n",
    "            \n",
    "        done = False\n",
    "        if self.player == self.food or self.player == self.enemy or self.episode_step >= 200:\n",
    "            done = True\n",
    "            \n",
    "        return new_obs, reward, done\n",
    "    \n",
    "    def render(self):\n",
    "        img = self.get_image()\n",
    "        img = img.resize((800, 800))\n",
    "        cv2.imshow('', np.array(img))\n",
    "        cv2.waitKey(50)\n",
    "        \n",
    "    def get_image(self):\n",
    "        env = np.zeros((self.MapSize, self.MapSize, 3), dtype=np.uint8)\n",
    "        env[self.food.x][self.food.y] = self.d[self.FoodNum]\n",
    "        env[self.player.x][self.player.y] = self.d[self.PlayerNum]\n",
    "        env[self.enemy.x][self.enemy.y] = self.d[self.EnemyNum]\n",
    "        img = Image.fromarray(env, \"RGB\")  # 展示游戏界面\n",
    "        return img"
   ]
  },
  {
   "cell_type": "code",
   "execution_count": 6,
   "id": "831d45a1",
   "metadata": {},
   "outputs": [
    {
     "data": {
      "text/plain": [
       "(1, 4)"
      ]
     },
     "execution_count": 6,
     "metadata": {},
     "output_type": "execute_result"
    }
   ],
   "source": [
    "env = CubeEnv()\n",
    "env.ObservationSpace.shape"
   ]
  },
  {
   "cell_type": "code",
   "execution_count": 7,
   "id": "bde8148c",
   "metadata": {},
   "outputs": [
    {
     "data": {
      "text/plain": [
       "0"
      ]
     },
     "execution_count": 7,
     "metadata": {},
     "output_type": "execute_result"
    }
   ],
   "source": [
    "env.ActionSpace.sample()"
   ]
  },
  {
   "cell_type": "markdown",
   "id": "e86d870c",
   "metadata": {},
   "source": [
    "## Q-Learning"
   ]
  },
  {
   "cell_type": "markdown",
   "id": "3ada8ef7",
   "metadata": {},
   "source": [
    "$$\n",
    "Q^{\\text {new }}\\left(s_{t}, a_{t}\\right) \\leftarrow(1-\\alpha) \\cdot \\underbrace{Q\\left(s_{t}, a_{t}\\right)}_{\\text {old value }}+\\underbrace{\\alpha}_{\\text {learning rate }} \\cdot \\overbrace{(\\underbrace{r_{t}}_{\\text {reward }}+\\underbrace{\\gamma}_{\\text {discount factor }} \\cdot \\underbrace{\\max _{a} Q\\left(s_{t+1}, a\\right)}_{\\text {estimate of optimal future value }})}^{\\text {learned value }}\n",
    "$$"
   ]
  },
  {
   "cell_type": "code",
   "execution_count": 8,
   "id": "58826663",
   "metadata": {},
   "outputs": [],
   "source": [
    "class QLearning(object):\n",
    "    def __init__(self, Env, LearningRate, Gamma, QTableName=None):\n",
    "        \"\"\"\n",
    "        初始化函数\n",
    "        # 参数env: 可用于获取状态和动作空间的大小。\n",
    "        # 参数QTableName: QTableName表示Q表文件名的地址，默认为None。\n",
    "        # 参数LearningRate: 表示Q-Learning的学习率。\n",
    "        # 参数Gamma: 表示折扣因子。\n",
    "        \"\"\"\n",
    "        self.env = Env\n",
    "        self.QTableName = QTableName\n",
    "        self.lr = LearningRate\n",
    "        self.gamma = Gamma\n",
    "        \n",
    "        self.ActionSpaceValues = env.ActionSpace.n  # 获取动作空间维度的大小。\n",
    "        self.ObsSpaceValues = env.ObservationSpace.shape  # 获取状态空间维度的大小。\n",
    "        self.MapSize = env.MapSize # 获取地图维度的大小。\n",
    "        \n",
    "        self.InitQTable()  # 调用初始化q table函数初始化q table\n",
    "    \n",
    "    def InitQTable(self):\n",
    "        \"\"\"初始化Q Table\"\"\"\n",
    "        \n",
    "        if self.QTableName is None:  # Q Table不存在，将要进行随机初始化\n",
    "            self.q_table = {}\n",
    "            # q_table的每个状态范围是从-9到9的, 共19个变量。状态空间维度为4, 所以状态之间的组合有19的四次方种。\n",
    "            for x1 in range(- self.MapSize + 1, self.MapSize):  # 玩家与食物之间的x轴距离。\n",
    "                for y1 in range(- self.MapSize + 1, self.MapSize):  # 玩家与食物之间的y轴的距离。\n",
    "                    for x2 in range(- self.MapSize + 1, self.MapSize):  # 玩家与敌人之间的x轴的距离。\n",
    "                        for y2 in range(- self.MapSize + 1, self.MapSize):  # 玩家与敌人之间的y轴的距离。\n",
    "                            self.q_table[(x1, y1, x2, y2)] = [np.random.uniform(-5, 0) \n",
    "                                                             for i in range(self.ActionSpaceValues)]\n",
    "        else:  # 存在，将其从文件中加载进来\n",
    "            with open(self.QTableName, 'rb') as f:\n",
    "                self.q_table = pickle.load(f)\n",
    "        \n",
    "    \n",
    "    def UpdateQTable(self, Obs, Action, Reward, NextObs):\n",
    "        \"\"\"\n",
    "        更新 Q Table\n",
    "        # 参数Obs表示当前的观测。\n",
    "        # 参数Action表示当前观测下选择的实际动作。\n",
    "        # 参数Reward表示当前观测下，执行实际选择的动作所获的的奖励。\n",
    "        # 参数NextObs表示，执行完Action转移到的下一个状态。\n",
    "        \"\"\"\n",
    "        \n",
    "        old_q = self.q_table[obs][action]  # 从QTable中索引，获取到当前的Q值。\n",
    "        \n",
    "        # 如果已经迟到了食物，那么游戏会结束，下一个状态的Q值就是即时奖励。否则，就需要依据Q-Leaning的公式做更新计算。\n",
    "        if Reward == self.env.FoodReward:\n",
    "            new_q = Reward\n",
    "        else:\n",
    "            new_q = old_q + self.lr * (Reward + self.gamma * max(self.q_table[NextObs]) - old_q)\n",
    "        \n",
    "        self.q_table[obs][action] = new_q  # 将QTable中old Q进行更新。"
   ]
  },
  {
   "cell_type": "markdown",
   "id": "a9fdf08c",
   "metadata": {},
   "source": [
    "## Q-Learning的训练主循环"
   ]
  },
  {
   "cell_type": "markdown",
   "id": "18937d45",
   "metadata": {},
   "source": [
    "### 训练参数设置"
   ]
  },
  {
   "cell_type": "code",
   "execution_count": 9,
   "id": "3201301d",
   "metadata": {},
   "outputs": [],
   "source": [
    "Episodes = 30000 # 智能体要玩这个游戏的局数为30000。\n",
    "ShowEvery = 3000 # 每隔3000局展示一下当前局状况。\n",
    "Epsilon = 0.6 # 百分之六十的随机动作，百分之四十的最大价值动作。\n",
    "EpsDecay = 0.9998 # 随机动作减少的折扣数，每玩一局游戏，Epsilon减少EpsDecay多倍。"
   ]
  },
  {
   "cell_type": "markdown",
   "id": "3609f66a",
   "metadata": {},
   "source": [
    "### 训练循环"
   ]
  },
  {
   "cell_type": "code",
   "execution_count": 10,
   "id": "53ce610f",
   "metadata": {},
   "outputs": [
    {
     "name": "stderr",
     "output_type": "stream",
     "text": [
      "/Users/tinyzqh/miniforge3/lib/python3.9/site-packages/numpy/core/fromnumeric.py:3474: RuntimeWarning: Mean of empty slice.\n",
      "  return _methods._mean(a, axis=axis, dtype=dtype,\n",
      "/Users/tinyzqh/miniforge3/lib/python3.9/site-packages/numpy/core/_methods.py:189: RuntimeWarning: invalid value encountered in double_scalars\n",
      "  ret = ret.dtype.type(ret / rcount)\n"
     ]
    },
    {
     "name": "stdout",
     "output_type": "stream",
     "text": [
      "episode 0, epsilon 0.6, mean reward nan\n",
      "episode 3000, epsilon 0.32926722239570905, mean reward nan\n",
      "episode 6000, epsilon 0.18069483957364205, mean reward -138.88766666666666\n",
      "episode 9000, epsilon 0.09916147987941909, mean reward -123.47533333333334\n",
      "episode 12000, epsilon 0.054417708414240505, mean reward -108.96133333333333\n",
      "episode 15000, epsilon 0.029863279497827713, mean reward -97.28658333333334\n",
      "episode 18000, epsilon 0.016388331819794114, mean reward -88.9928\n",
      "episode 21000, epsilon 0.00899356749667138, mean reward -82.41227777777777\n",
      "episode 24000, epsilon 0.00493547831509555, mean reward -76.95776190476191\n",
      "episode 27000, epsilon 0.0027084853933429503, mean reward -72.14758333333333\n"
     ]
    }
   ],
   "source": [
    "env = CubeEnv()\n",
    "agent = QLearning(Env=env, LearningRate=0.1, Gamma=0.95, QTableName=None)\n",
    "\n",
    "episode_rewards = []\n",
    "\n",
    "for episode in range(Episodes):\n",
    "    obs = env.reset()\n",
    "    done = False\n",
    "    episode_reward = 0\n",
    "    \n",
    "    # 隔ShowEvery步打印并展示结果。\n",
    "    if episode % ShowEvery == 0:\n",
    "        print(\"episode {}, epsilon {}, mean reward {}\".format(episode, \n",
    "                                                              Epsilon, np.mean(episode_rewards[ShowEvery:])))\n",
    "        show = True\n",
    "    else:\n",
    "        show = False\n",
    "    \n",
    "    while not done:  # 如果当前这局游戏没有结束\n",
    "        \n",
    "        if np.random.random() > Epsilon:\n",
    "            action = np.argmax(agent.q_table[obs])\n",
    "        else:\n",
    "            action = np.random.randint(0, env.ActionSpace.n)\n",
    "        \n",
    "        next_obs, reward, done = env.step(action)\n",
    "        \n",
    "        # 更新Agent中的Q table。\n",
    "        agent.UpdateQTable(Obs=obs, Action=action, Reward=reward, NextObs=next_obs)\n",
    "        \n",
    "        # 更新当前观测\n",
    "        obs = next_obs\n",
    "        \n",
    "        if show:\n",
    "            env.render()\n",
    "        \n",
    "        episode_reward += reward\n",
    "            \n",
    "    episode_rewards.append(episode_reward)\n",
    "    Epsilon *= EpsDecay"
   ]
  },
  {
   "cell_type": "markdown",
   "id": "967cc532",
   "metadata": {},
   "source": [
    "## 绘图展示奖励曲线\n",
    "\n",
    "为了直观查看智能体的学习过程，我们通常绘制其奖励曲线。这里采用`np.convolve()`方法对奖励曲线进行滤波处理。`np.convolve()`方法原理解释如下:\n",
    "\n",
    "\n",
    "```bash\n",
    ">>>np.convolve([3, 8, 10, 9, 11, 23, 44, 55, 57, 48], np.ones((3,))/3, mode='valid')\n",
    "array([ 7.        ,  9.        , 10.        , 14.33333333, 26.        ,\n",
    "    40.66666667, 52.        , 53.33333333])\n",
    "```\n",
    "\n",
    "可以看到它是将前3个的值取了平均。"
   ]
  },
  {
   "cell_type": "code",
   "execution_count": 11,
   "id": "e98c2748",
   "metadata": {
    "scrolled": true
   },
   "outputs": [
    {
     "name": "stdout",
     "output_type": "stream",
     "text": [
      "27001\n"
     ]
    },
    {
     "data": {
      "image/png": "[encoded data removed]",
      "text/plain": [
       "<Figure size 432x288 with 1 Axes>"
      ]
     },
     "metadata": {},
     "output_type": "display_data"
    }
   ],
   "source": [
    "moving_avg = np.convolve(episode_rewards, np.ones(ShowEvery,)/ShowEvery, mode='valid')\n",
    "print(len(moving_avg))\n",
    "plt.plot([i for i in range(len(moving_avg))], moving_avg)\n",
    "plt.xlabel('episode')\n",
    "plt.ylabel('mean {} reward'.format(ShowEvery))\n",
    "plt.show()"
   ]
  },
  {
   "cell_type": "markdown",
   "id": "d6cb967e",
   "metadata": {},
   "source": [
    "## 测试智能体"
   ]
  },
  {
   "cell_type": "code",
   "execution_count": 12,
   "id": "fb1ea615",
   "metadata": {},
   "outputs": [],
   "source": [
    "def test(agent, episodes, show_enable):\n",
    "    env = CubeEnv()\n",
    "    \n",
    "    for episode in range(episodes):\n",
    "        obs = env.reset()\n",
    "        done = False\n",
    "        \n",
    "        episode_reward = 0\n",
    "        \n",
    "        while not done:\n",
    "            action = np.argmax(agent.q_table[obs])\n",
    "            obs, reward, done = env.step(action=action)\n",
    "            if show_enable == True:\n",
    "                env.render()\n",
    "            \n",
    "            episode_reward += reward\n",
    "        \n",
    "        print(\"episode {}, episode_reward {}\".format(episode, episode_reward))"
   ]
  },
  {
   "cell_type": "code",
   "execution_count": 13,
   "id": "6b7cbbcf",
   "metadata": {},
   "outputs": [
    {
     "name": "stdout",
     "output_type": "stream",
     "text": [
      "episode 0, episode_reward 16\n",
      "episode 1, episode_reward -8\n",
      "episode 2, episode_reward -20\n",
      "episode 3, episode_reward 7\n",
      "episode 4, episode_reward 16\n",
      "episode 5, episode_reward -90\n",
      "episode 6, episode_reward -14\n",
      "episode 7, episode_reward 7\n",
      "episode 8, episode_reward 25\n",
      "episode 9, episode_reward -55\n"
     ]
    }
   ],
   "source": [
    "test(agent=agent, episodes=10, show_enable=True)"
   ]
  },
  {
   "cell_type": "code",
   "execution_count": null,
   "id": "d8a0b9ac",
   "metadata": {},
   "outputs": [],
   "source": []
  },
  {
   "cell_type": "code",
   "execution_count": null,
   "id": "e207978e",
   "metadata": {},
   "outputs": [],
   "source": []
  },
  {
   "cell_type": "code",
   "execution_count": null,
   "id": "efc1f849",
   "metadata": {},
   "outputs": [],
   "source": []
  },
  {
   "cell_type": "code",
   "execution_count": null,
   "id": "5e4cc5c6",
   "metadata": {},
   "outputs": [],
   "source": []
  },
  {
   "cell_type": "code",
   "execution_count": null,
   "id": "164f8785",
   "metadata": {},
   "outputs": [],
   "source": []
  },
  {
   "cell_type": "code",
   "execution_count": null,
   "id": "6e56ed08",
   "metadata": {},
   "outputs": [],
   "source": []
  },
  {
   "cell_type": "code",
   "execution_count": null,
   "id": "94ad7baa",
   "metadata": {},
   "outputs": [],
   "source": []
  }
 ],
 "metadata": {
  "kernelspec": {
   "display_name": "Python 3 (ipykernel)",
   "language": "python",
   "name": "python3"
  },
  "language_info": {
   "codemirror_mode": {
    "name": "ipython",
    "version": 3
   },
   "file_extension": ".py",
   "mimetype": "text/x-python",
   "name": "python",
   "nbconvert_exporter": "python",
   "pygments_lexer": "ipython3",
   "version": "3.9.4"
  },
  "toc": {
   "base_numbering": 1,
   "nav_menu": {},
   "number_sections": true,
   "sideBar": true,
   "skip_h1_title": false,
   "title_cell": "Table of Contents",
   "title_sidebar": "Contents",
   "toc_cell": false,
   "toc_position": {},
   "toc_section_display": true,
   "toc_window_display": true
  }
 },
 "nbformat": 4,
 "nbformat_minor": 5
}
