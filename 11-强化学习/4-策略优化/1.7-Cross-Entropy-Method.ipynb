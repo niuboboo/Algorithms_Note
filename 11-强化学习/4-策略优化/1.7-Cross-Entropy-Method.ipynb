{
 "cells": [
  {
   "cell_type": "code",
   "execution_count": null,
   "id": "724622a3",
   "metadata": {},
   "outputs": [],
   "source": []
  },
  {
   "cell_type": "code",
   "execution_count": 1,
   "id": "564c600f",
   "metadata": {},
   "outputs": [
    {
     "name": "stdout",
     "output_type": "stream",
     "text": [
      "+---------+\n",
      "|R: | : :\u001b[34;1mG\u001b[0m|\n",
      "| : | : : |\n",
      "| : : : : |\n",
      "| | : | : |\n",
      "|Y| : |\u001b[35mB\u001b[0m:\u001b[43m \u001b[0m|\n",
      "+---------+\n",
      "\n"
     ]
    },
    {
     "name": "stderr",
     "output_type": "stream",
     "text": [
      "\n"
     ]
    }
   ],
   "source": [
    "import gym\n",
    "env = gym.make(\"Taxi-v3\")\n",
    "env.reset()\n",
    "env.render()"
   ]
  },
  {
   "cell_type": "code",
   "execution_count": 2,
   "id": "df9a6663",
   "metadata": {},
   "outputs": [
    {
     "name": "stdout",
     "output_type": "stream",
     "text": [
      "observation_spaces 500; action_space 6\n"
     ]
    }
   ],
   "source": [
    "obs_space = env.observation_space.n\n",
    "act_space = env.action_space.n\n",
    "print(\"observation_spaces {}; action_space {}\".format(obs_space, act_space))"
   ]
  },
  {
   "cell_type": "markdown",
   "id": "57537975",
   "metadata": {},
   "source": [
    "## 创建一个随机策略\n",
    "\n",
    "也就是对于任何一个状态，任何一个动作，其被选中的概率都是$\\frac{1}{\\text{act_space}}$"
   ]
  },
  {
   "cell_type": "code",
   "execution_count": 3,
   "id": "bd74373b",
   "metadata": {},
   "outputs": [],
   "source": [
    "import numpy as np\n",
    "policy = np.full((obs_space, act_space), 1.0 / act_space)"
   ]
  },
  {
   "cell_type": "markdown",
   "id": "8f13b977",
   "metadata": {},
   "source": [
    "之后验证一下所产生的策略的数据类型，数据值是否符合要求等等。"
   ]
  },
  {
   "cell_type": "code",
   "execution_count": 4,
   "id": "24135315",
   "metadata": {},
   "outputs": [],
   "source": [
    "assert type(policy) in (np.ndarray, np.matrix)\n",
    "assert np.allclose(policy, 1.0 / act_space)\n",
    "assert np.allclose(np.sum(policy, axis=1), 1.0)"
   ]
  },
  {
   "cell_type": "markdown",
   "id": "ea4b372e",
   "metadata": {},
   "source": [
    "## 与游戏交互"
   ]
  },
  {
   "cell_type": "code",
   "execution_count": 5,
   "id": "4041ff9d",
   "metadata": {},
   "outputs": [],
   "source": [
    "def generate_session(policy, max_steps = 10 ** 4):\n",
    "    states = []\n",
    "    actions = []\n",
    "    total_reward = 0.0\n",
    "    \n",
    "    state = env.reset()\n",
    "    for step in range(max_steps):\n",
    "        action = np.random.choice(np.arange(act_space), p=policy[state])\n",
    "        next_state, reward, done, info = env.step(action)\n",
    "        \n",
    "        # 记录state, action和rewards\n",
    "        states.append(state)\n",
    "        actions.append(action)\n",
    "        total_reward += reward\n",
    "        \n",
    "        if done:\n",
    "            break\n",
    "        state = next_state\n",
    "    return states, actions, total_reward"
   ]
  },
  {
   "cell_type": "code",
   "execution_count": 6,
   "id": "8da7c926",
   "metadata": {},
   "outputs": [],
   "source": [
    "states, actions, total_reward = generate_session(policy)"
   ]
  },
  {
   "cell_type": "markdown",
   "id": "35e5943d",
   "metadata": {},
   "source": [
    "之后再判断一下生成数据的类型"
   ]
  },
  {
   "cell_type": "code",
   "execution_count": 7,
   "id": "e03c35bd",
   "metadata": {},
   "outputs": [
    {
     "name": "stderr",
     "output_type": "stream",
     "text": [
      "/var/folders/x9/xgj8n5xd2bb0cv55w7c72bn40000gn/T/ipykernel_18126/1414657024.py:3: DeprecationWarning: `np.float` is a deprecated alias for the builtin `float`. To silence this warning, use `float` by itself. Doing this will not modify any behavior and is safe. If you specifically wanted the numpy scalar type, use `np.float64` here.\n",
      "Deprecated in NumPy 1.20; for more details and guidance: https://numpy.org/devdocs/release/1.20.0-notes.html#deprecations\n",
      "  assert type(total_reward) in (float, np.float)\n"
     ]
    }
   ],
   "source": [
    "assert type(states) == type(actions) == list\n",
    "assert len(states) == len(actions)\n",
    "assert type(total_reward) in (float, np.float)"
   ]
  },
  {
   "cell_type": "markdown",
   "id": "4ae4f091",
   "metadata": {},
   "source": [
    "查看一下随机策略下的奖励分布:"
   ]
  },
  {
   "cell_type": "code",
   "execution_count": 8,
   "id": "353b975b",
   "metadata": {},
   "outputs": [],
   "source": [
    "import matplotlib.pyplot as plt\n",
    "%matplotlib inline"
   ]
  },
  {
   "cell_type": "code",
   "execution_count": 9,
   "id": "8a870cf9",
   "metadata": {},
   "outputs": [
    {
     "data": {
      "text/plain": [
       "<matplotlib.legend.Legend at 0x13694aa30>"
      ]
     },
     "execution_count": 9,
     "metadata": {},
     "output_type": "execute_result"
    },
    {
     "data": {
      "image/png": "[encoded data removed]",
      "text/plain": [
       "<Figure size 432x288 with 1 Axes>"
      ]
     },
     "metadata": {
      "needs_background": "light"
     },
     "output_type": "display_data"
    }
   ],
   "source": [
    "sample_rewards = [generate_session(policy, 1000)[-1] for _ in range(200)]\n",
    "plt.hist(sample_rewards, bins=20)\n",
    "plt.vlines(np.percentile(sample_rewards, 50), 0, 100, label=\"50'th percentile\", color=\"green\")\n",
    "plt.vlines(np.percentile(sample_rewards, 90), 0, 100, label=\"90'th percentile\", color=\"red\")\n",
    "plt.legend()"
   ]
  },
  {
   "cell_type": "markdown",
   "id": "9ec07421",
   "metadata": {},
   "source": [
    "## 筛选elites"
   ]
  },
  {
   "cell_type": "code",
   "execution_count": 10,
   "id": "5ba0c547",
   "metadata": {},
   "outputs": [],
   "source": [
    "def select_elites(states_batch, actions_batch, rewards_batch, percentile):\n",
    "    \"\"\"\n",
    "    选择奖励rewards大于等于percentile的状态和动作对。\n",
    "    \n",
    "    :param states_batch: list of lists of states, states_batch[session_i][t]\n",
    "    :param actions_batch: list of lists of actions, actions_batch[session_i][t]\n",
    "    :param rewards_batch: list of rewards, rewards_batch[session_i]\n",
    "\n",
    "    :returns: elite_states,elite_actions, both 1D lists of states and respective actions from elite sessions\n",
    "\n",
    "    Please return elite states and actions in their original order \n",
    "    [i.e. sorted by session number and timestep within session]\n",
    "\n",
    "    If you are confused, see examples below. Please don't assume that states are integers\n",
    "    (they will become different later).\n",
    "    \"\"\"\n",
    "\n",
    "    reward_threshold = np.percentile(rewards_batch, percentile)\n",
    "    \n",
    "    indexs = [index for index, rewards in enumerate(rewards_batch) if rewards >= reward_threshold]\n",
    "    \n",
    "    \n",
    "    elite_states = [states_batch[index] for index in indexs]\n",
    "    elite_actions = [actions_batch[index] for index in indexs]\n",
    "    \n",
    "    elite_states_flat = [state for elite_state in elite_states for state in elite_state]\n",
    "    elite_actions_flat = [action for elite_action in elite_actions for action in elite_action]\n",
    "    \n",
    "    return elite_states_flat, elite_actions_flat"
   ]
  },
  {
   "cell_type": "markdown",
   "id": "49450e42",
   "metadata": {},
   "source": [
    "之后测试一下代码"
   ]
  },
  {
   "cell_type": "code",
   "execution_count": 11,
   "id": "53cc9fe8",
   "metadata": {},
   "outputs": [
    {
     "name": "stdout",
     "output_type": "stream",
     "text": [
      "Ok!\n"
     ]
    }
   ],
   "source": [
    "states_batch = [\n",
    "    [1,2,3],   #game1\n",
    "    [4,2,0,2], #game2\n",
    "    [3,1]      #game3\n",
    "]\n",
    "\n",
    "actions_batch = [\n",
    "    [0,2,4],   #game1\n",
    "    [3,2,0,1], #game2\n",
    "    [3,3]      #game3\n",
    "]\n",
    "rewards_batch = [\n",
    "    3,         #game1\n",
    "    4,         #game2\n",
    "    5,         #game3\n",
    "]\n",
    "\n",
    "test_result_0 = select_elites(states_batch,actions_batch,rewards_batch,percentile=0)\n",
    "test_result_40 = select_elites(states_batch,actions_batch,rewards_batch,percentile=30)\n",
    "test_result_90 = select_elites(states_batch,actions_batch,rewards_batch,percentile=90)\n",
    "test_result_100 = select_elites(states_batch,actions_batch,rewards_batch,percentile=100)\n",
    "\n",
    "assert np.all(test_result_0[0] == [1, 2, 3, 4, 2, 0, 2, 3, 1])  \\\n",
    "   and np.all(test_result_0[1] == [0, 2, 4, 3, 2, 0, 1, 3, 3]),\\\n",
    "        \"For percentile 0 you should return all states and actions in chronological order\"\n",
    "assert np.all(test_result_40[0] == [4, 2, 0, 2, 3, 1]) and \\\n",
    "        np.all(test_result_40[1] ==[3, 2, 0, 1, 3, 3]),\\\n",
    "        \"For percentile 30 you should only select states/actions from two first\"\n",
    "assert np.all(test_result_90[0] == [3,1]) and \\\n",
    "        np.all(test_result_90[1] == [3,3]),\\\n",
    "        \"For percentile 90 you should only select states/actions from one game\"\n",
    "assert np.all(test_result_100[0] == [3,1]) and\\\n",
    "       np.all(test_result_100[1] == [3,3]),\\\n",
    "        \"Please make sure you use >=, not >. Also double-check how you compute percentile.\"\n",
    "print(\"Ok!\")"
   ]
  },
  {
   "cell_type": "markdown",
   "id": "f71badaa",
   "metadata": {},
   "source": [
    "## 更新策略"
   ]
  },
  {
   "cell_type": "code",
   "execution_count": 12,
   "id": "a5cbd825",
   "metadata": {},
   "outputs": [],
   "source": [
    "def update_policy(elite_states, elite_actions):\n",
    "    \"\"\"\n",
    "    依据elite state和elite actions更新策略\n",
    "    \"\"\"\n",
    "    new_policy = np.zeros((obs_space, act_space))\n",
    "    \n",
    "    occurences = {}  # 记录状态被访问的次数\n",
    "    for idx in range(obs_space):\n",
    "        occurences[idx] = 0  # 初始化状态访问次数为全零。\n",
    "    \n",
    "    for idx, state in enumerate(elite_states):\n",
    "        new_policy[state, elite_actions[idx]] += 1\n",
    "        occurences[state] += 1\n",
    "    \n",
    "    # 归一化策略\n",
    "    for idx in range(obs_space):\n",
    "        if occurences[idx] == 0:  # 如果这个状态没有被采样到，那么就全部归一化为均匀概率\n",
    "            new_policy[idx, :] = 1.0 / act_space\n",
    "        else:\n",
    "            new_policy[idx, :] /= occurences[idx]\n",
    "            \n",
    "    return new_policy"
   ]
  },
  {
   "cell_type": "markdown",
   "id": "be2444e3",
   "metadata": {},
   "source": [
    "测试代码"
   ]
  },
  {
   "cell_type": "code",
   "execution_count": 13,
   "id": "99b378d4",
   "metadata": {},
   "outputs": [
    {
     "name": "stdout",
     "output_type": "stream",
     "text": [
      "Ok!\n"
     ]
    }
   ],
   "source": [
    "elite_states, elite_actions = ([1, 2, 3, 4, 2, 0, 2, 3, 1], [0, 2, 4, 3, 2, 0, 1, 3, 3])\n",
    "\n",
    "new_policy = update_policy(elite_states,elite_actions)\n",
    "\n",
    "assert np.isfinite(new_policy).all(), \"Your new policy contains NaNs or +-inf. Make sure you don't divide by zero.\"\n",
    "assert np.all(new_policy>=0), \"Your new policy can't have negative action probabilities\"\n",
    "assert np.allclose(new_policy.sum(axis=-1),1), \"Your new policy should be a valid probability distribution over actions\"\n",
    "reference_answer = np.array([\n",
    "       [ 1.        ,  0.        ,  0.        ,  0.        ,  0.        ],\n",
    "       [ 0.5       ,  0.        ,  0.        ,  0.5       ,  0.        ],\n",
    "       [ 0.        ,  0.33333333,  0.66666667,  0.        ,  0.        ],\n",
    "       [ 0.        ,  0.        ,  0.        ,  0.5       ,  0.5       ]])\n",
    "assert np.allclose(new_policy[:4,:5],reference_answer)\n",
    "print(\"Ok!\")"
   ]
  },
  {
   "cell_type": "markdown",
   "id": "1e67065c",
   "metadata": {},
   "source": [
    "## 训练"
   ]
  },
  {
   "cell_type": "code",
   "execution_count": 14,
   "id": "0e6e771d",
   "metadata": {},
   "outputs": [],
   "source": [
    "from IPython.display import clear_output\n",
    "\n",
    "def show_progress(rewards_batch, log, percentile, reward_range=[-990, +10]):\n",
    "    \"\"\"\n",
    "    A convenience function that displays training progress. \n",
    "    No cool math here, just charts.\n",
    "    \"\"\"\n",
    "\n",
    "    mean_reward = np.mean(rewards_batch)\n",
    "    threshold = np.percentile(rewards_batch, percentile)\n",
    "    log.append([mean_reward, threshold])\n",
    "    \n",
    "    plt.figure(figsize=[8, 4])\n",
    "    plt.subplot(1, 2, 1)\n",
    "    plt.plot(list(zip(*log))[0], label='Mean rewards')\n",
    "    plt.plot(list(zip(*log))[1], label='Reward thresholds')\n",
    "    plt.legend()\n",
    "    plt.grid()\n",
    "\n",
    "    plt.subplot(1, 2, 2)\n",
    "    plt.hist(rewards_batch, range=reward_range)\n",
    "    plt.vlines([np.percentile(rewards_batch, percentile)],\n",
    "               [0], [100], label=\"percentile\", color='red')\n",
    "    plt.legend()\n",
    "    plt.grid()\n",
    "    clear_output(True)\n",
    "    print(\"mean reward = %.3f, threshold=%.3f\" % (mean_reward, threshold))\n",
    "    plt.show()"
   ]
  },
  {
   "cell_type": "code",
   "execution_count": 15,
   "id": "e2838910",
   "metadata": {},
   "outputs": [
    {
     "name": "stdout",
     "output_type": "stream",
     "text": [
      "mean reward = -22.420, threshold=7.000\n"
     ]
    },
    {
     "data": {
      "image/png": "[encoded data removed]",
      "text/plain": [
       "<Figure size 576x288 with 2 Axes>"
      ]
     },
     "metadata": {
      "needs_background": "light"
     },
     "output_type": "display_data"
    }
   ],
   "source": [
    "n_sessions = 250\n",
    "percentile = 50\n",
    "learning_rate = 0.2\n",
    "\n",
    "policy = np.ones((obs_space, act_space)) / act_space\n",
    "log = []\n",
    "for i in range(100):\n",
    "    sessions = [generate_session(policy) for i in range(n_sessions)]\n",
    "    batch_states, batch_actions, batch_rewards = zip(*sessions)\n",
    "    \n",
    "    elite_states, elite_actions = select_elites(batch_states, batch_actions, batch_rewards, percentile)\n",
    "    \n",
    "    new_policy = update_policy(elite_states, elite_actions)\n",
    "    \n",
    "    policy = learning_rate * new_policy + (1 - learning_rate) * policy\n",
    "    \n",
    "    # display results on chart\n",
    "    show_progress(batch_rewards, log, percentile)"
   ]
  },
  {
   "cell_type": "markdown",
   "id": "dccf6061",
   "metadata": {},
   "source": [
    "## 封装\n",
    "\n",
    "交叉熵方法其实是先采样，然后拿到较好的样本，之后再依据较好的样本来更新策略的。\n",
    "\n",
    "```python\n",
    "class CrossEntropyMethod(object):\n",
    "    def __init__(self, env, percentile):\n",
    "        \"\"\"传入环境实例和百分比参数\"\"\"\n",
    "        pass\n",
    "    \n",
    "    def generate_episodes(self, num_episodes):\n",
    "        \"\"\"生成episodes, 返回多个episodes轨迹\"\"\"\n",
    "        pass\n",
    "    \n",
    "    def select_elites(self, episodes_state, episode_action, episode_reward):\n",
    "        \"\"\"筛选elites, 返回state和action对\"\"\"\n",
    "        pass\n",
    "    \n",
    "    def update_policy(self, learning_rate):\n",
    "        \"\"\"更新策略\"\"\"\n",
    "        pass\n",
    "```"
   ]
  },
  {
   "cell_type": "code",
   "execution_count": 34,
   "id": "264efbe6",
   "metadata": {},
   "outputs": [],
   "source": [
    "import numpy as np\n",
    "\n",
    "class CrossEntropyMethod(object):\n",
    "    def __init__(self, env, percentile, learning_rate):\n",
    "        \"\"\"传入环境实例和百分比参数\"\"\"\n",
    "        self.env = env\n",
    "        self.obs_space = env.observation_space.n\n",
    "        self.act_space = env.action_space.n\n",
    "        self.percentile = percentile\n",
    "        self.policy = np.ones((self.obs_space, self.act_space)) / self.act_space\n",
    "        self.lr = learning_rate\n",
    "    \n",
    "    def generate_episodes(self, max_steps, num_episodes):\n",
    "        \"\"\"生成episodes, 返回多个episodes轨迹\"\"\"\n",
    "        episodes_state = []\n",
    "        episodes_action = []\n",
    "        episodes_reward = []\n",
    "        for i in range(num_episodes):\n",
    "            states = []\n",
    "            actions = []\n",
    "            episode_reward = 0.0\n",
    "            state = self.env.reset()\n",
    "            for j in range(max_steps):\n",
    "                action = np.random.choice(np.arange(self.act_space), p=self.policy[state])\n",
    "                next_state, reward, done, info = self.env.step(action)\n",
    "                \n",
    "                states.append(state)\n",
    "                actions.append(action)\n",
    "                episode_reward += reward\n",
    "                \n",
    "                if done:\n",
    "                    break\n",
    "                state = next_state\n",
    "                \n",
    "            episodes_state.append(states)\n",
    "            episodes_action.append(actions)\n",
    "            episodes_reward.append(episode_reward)\n",
    "            \n",
    "        return episodes_state, episodes_action, episodes_reward\n",
    "        \n",
    "    \n",
    "    def select_elites(self, episodes_state, episodes_action, episodes_reward):\n",
    "        \"\"\"筛选elites, 返回state和action对\"\"\"\n",
    "        thread_reward = np.percentile(episodes_reward, self.percentile)\n",
    "        indexs = [index for index, reward in enumerate(episodes_reward) if reward >= thread_reward]\n",
    "        \n",
    "        elites_state = [episodes_state[idx] for idx in indexs]\n",
    "        elites_action = [episodes_action[idx] for idx in indexs]\n",
    "        \n",
    "        elite_state = [state for elite_state in elites_state for state in elite_state]\n",
    "        elite_action = [action for elite_action in elites_action for action in elite_action]\n",
    "        assert len(elite_state) == len(elite_action), \"len elite_state not eq elite_action\"\n",
    "        \n",
    "        return elite_state, elite_action\n",
    "    \n",
    "    def update_policy(self, elite_state, elite_action):\n",
    "        \"\"\"更新策略\"\"\"\n",
    "        new_policy = new_policy = np.zeros((obs_space, act_space))\n",
    "        \n",
    "        occurences = {}\n",
    "        for idx in range(self.obs_space):\n",
    "            occurences[idx] = 0  # 初始化状态访问次数为0。\n",
    "        \n",
    "        for idx, state in enumerate(elite_state):\n",
    "            new_policy[state, elite_action[idx]] += 1  # 记录状态动作对采取的次数。\n",
    "            occurences[state] += 1\n",
    "        \n",
    "        for idx in range(self.obs_space):\n",
    "            if occurences[idx] == 0:\n",
    "                new_policy[idx, :] = 1.0 / self.act_space\n",
    "            else:\n",
    "                new_policy[idx, :] /= occurences[idx]\n",
    "        \n",
    "        self.policy  = self.lr * new_policy + (1 - self.lr) * self.policy"
   ]
  },
  {
   "cell_type": "code",
   "execution_count": 40,
   "id": "945f1fc7",
   "metadata": {},
   "outputs": [
    {
     "name": "stdout",
     "output_type": "stream",
     "text": [
      "Ok!\n"
     ]
    }
   ],
   "source": [
    "states_batch = [\n",
    "    [1,2,3],   #game1\n",
    "    [4,2,0,2], #game2\n",
    "    [3,1]      #game3\n",
    "]\n",
    "\n",
    "actions_batch = [\n",
    "    [0,2,4],   #game1\n",
    "    [3,2,0,1], #game2\n",
    "    [3,3]      #game3\n",
    "]\n",
    "rewards_batch = [\n",
    "    3,         #game1\n",
    "    4,         #game2\n",
    "    5,         #game3\n",
    "]\n",
    "\n",
    "test_result_0 = CrossEntropyMethod(env=env, percentile=0, learning_rate=0.2).select_elites(states_batch,actions_batch,rewards_batch)\n",
    "test_result_40 = CrossEntropyMethod(env=env, percentile=30, learning_rate=0.2).select_elites(states_batch,actions_batch,rewards_batch)\n",
    "test_result_90 = CrossEntropyMethod(env=env, percentile=90, learning_rate=0.2).select_elites(states_batch,actions_batch,rewards_batch)\n",
    "test_result_100 = CrossEntropyMethod(env=env, percentile=100, learning_rate=0.2).select_elites(states_batch,actions_batch,rewards_batch)\n",
    "\n",
    "assert np.all(test_result_0[0] == [1, 2, 3, 4, 2, 0, 2, 3, 1])  \\\n",
    "   and np.all(test_result_0[1] == [0, 2, 4, 3, 2, 0, 1, 3, 3]),\\\n",
    "        \"For percentile 0 you should return all states and actions in chronological order\"\n",
    "assert np.all(test_result_40[0] == [4, 2, 0, 2, 3, 1]) and \\\n",
    "        np.all(test_result_40[1] ==[3, 2, 0, 1, 3, 3]),\\\n",
    "        \"For percentile 30 you should only select states/actions from two first\"\n",
    "assert np.all(test_result_90[0] == [3,1]) and \\\n",
    "        np.all(test_result_90[1] == [3,3]),\\\n",
    "        \"For percentile 90 you should only select states/actions from one game\"\n",
    "assert np.all(test_result_100[0] == [3,1]) and\\\n",
    "       np.all(test_result_100[1] == [3,3]),\\\n",
    "        \"Please make sure you use >=, not >. Also double-check how you compute percentile.\"\n",
    "print(\"Ok!\")"
   ]
  },
  {
   "cell_type": "code",
   "execution_count": 43,
   "id": "93e1c0af",
   "metadata": {},
   "outputs": [
    {
     "name": "stdout",
     "output_type": "stream",
     "text": [
      "mean reward = -23.760, threshold=6.000\n"
     ]
    },
    {
     "data": {
      "image/png": "[encoded data removed]",
      "text/plain": [
       "<Figure size 576x288 with 2 Axes>"
      ]
     },
     "metadata": {
      "needs_background": "light"
     },
     "output_type": "display_data"
    }
   ],
   "source": [
    "import gym\n",
    "\n",
    "env = gym.make(\"Taxi-v3\")\n",
    "\n",
    "cem = CrossEntropyMethod(env=env, percentile=50, learning_rate=0.2)\n",
    "log = []\n",
    "for i in range(100):\n",
    "    episodes_state, episodes_action, episodes_reward = cem.generate_episodes(max_steps=10**4, num_episodes=250)\n",
    "    elite_state, elite_action = cem.select_elites(episodes_state, episodes_action, episodes_reward)\n",
    "    cem.update_policy(elite_state, elite_action)\n",
    "    #print(i, np.mean(episodes_reward))\n",
    "    show_progress(episodes_reward, log, 50)"
   ]
  },
  {
   "cell_type": "code",
   "execution_count": null,
   "id": "4f310ad6",
   "metadata": {},
   "outputs": [],
   "source": []
  }
 ],
 "metadata": {
  "kernelspec": {
   "display_name": "Python 3 (ipykernel)",
   "language": "python",
   "name": "python3"
  },
  "language_info": {
   "codemirror_mode": {
    "name": "ipython",
    "version": 3
   },
   "file_extension": ".py",
   "mimetype": "text/x-python",
   "name": "python",
   "nbconvert_exporter": "python",
   "pygments_lexer": "ipython3",
   "version": "3.9.4"
  },
  "toc": {
   "base_numbering": 1,
   "nav_menu": {},
   "number_sections": true,
   "sideBar": true,
   "skip_h1_title": false,
   "title_cell": "Table of Contents",
   "title_sidebar": "Contents",
   "toc_cell": false,
   "toc_position": {},
   "toc_section_display": true,
   "toc_window_display": true
  }
 },
 "nbformat": 4,
 "nbformat_minor": 5
}
