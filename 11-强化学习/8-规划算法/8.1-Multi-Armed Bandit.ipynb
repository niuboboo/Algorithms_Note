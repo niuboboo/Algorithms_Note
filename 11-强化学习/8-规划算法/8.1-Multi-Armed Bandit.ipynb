{
 "cells": [
  {
   "cell_type": "markdown",
   "id": "e64c06f0",
   "metadata": {},
   "source": [
    "https://www.geeksforgeeks.org/epsilon-greedy-algorithm-in-reinforcement-learning/\n",
    "https://github.com/ShangtongZhang/reinforcement-learning-an-introduction/tree/master/chapter02"
   ]
  },
  {
   "cell_type": "markdown",
   "id": "b0d90043",
   "metadata": {},
   "source": [
    "## 问题定义\n",
    "\n",
    "一个n臂的老虎机(`n-Armed Bandit`)定义为如下形式：\n",
    "\n",
    "1. 智能体有$n$个可以重复选择的动作。\n",
    "2. 每次选择了某个动作之后，将会从一个固定的分布中获取奖励。\n",
    "3. 智能体的目标是在给定的决策次数下最大化总的能够获得的收益。\n",
    "\n",
    "\n",
    "每个动作都会有一个期望奖励，或者称之为平均奖励，我们将这个值称之为这个动作的值(`value`)，但是对于智能体来说，其并不知道这个值是多少，只能不断地去试。因此这里会有一个探索和利用的问题(exploration和exploitation)，也就是说要去探索，是否会有比当前的action更好的action。"
   ]
  },
  {
   "cell_type": "markdown",
   "id": "9f20f161",
   "metadata": {},
   "source": [
    "真实的动作值函数为$q$，在第$t$个时间步对动作$a$的估计称之为$Q(a)$，用公式可以表示为：\n",
    "\n",
    "$$\n",
    "Q_{t}(a)=\\frac{R_{1}+R_{2}+\\cdots+R_{N_{t}(a)}}{N_{t}(a)}\n",
    "$$\n",
    "\n",
    "其中$N$表示选择了$a$这个动作$N$次。"
   ]
  },
  {
   "cell_type": "markdown",
   "id": "7adb7c89",
   "metadata": {},
   "source": [
    "如果是贪婪地做决策的话，每次选择的动作为：\n",
    "\n",
    "$$\n",
    "A_{t}=\\underset{a}{\\operatorname{argmax}} Q_{t}(a)\n",
    "$$\n",
    "\n",
    "也就是选择能够获得最大$Q_{t}$的那个对应的动作$a$。但是这样就没有探索了，因此提出了一种$\\epsilon$-greedy策略，大多数时候是选择能够获取最大$Q$值对应的那个动作，而以$\\epsilon$的概率随机选择动作。如果$\\epsilon = 0$那么就是纯贪婪策略了。"
   ]
  },
  {
   "cell_type": "markdown",
   "id": "ca43b7f4",
   "metadata": {},
   "source": [
    "## 多臂老虎机奖励分布\n",
    "\n",
    "假设我们有十个多臂老虎机，每个臂的均值为$q_{*}(A_{t})$，方差为1，则其即时奖励分布可以表示为："
   ]
  },
  {
   "cell_type": "code",
   "execution_count": null,
   "id": "3e008b22",
   "metadata": {},
   "outputs": [],
   "source": [
    "import numpy as np\n",
    "import matplotlib.pyplot as plt\n",
    "\n",
    "def figure_2_1():\n",
    "    plt.violinplot(dataset=np.random.randn(200, 10) + np.random.randn(10))\n",
    "    plt.xlabel('Action')\n",
    "    plt.ylabel(\"Reward distribution\")\n",
    "    plt.show()\n",
    "    plt.close()\n",
    "    \n",
    "figure_2_1()"
   ]
  },
  {
   "cell_type": "markdown",
   "id": "518e4320",
   "metadata": {},
   "source": [
    "## 定义一个Bandit类"
   ]
  },
  {
   "cell_type": "markdown",
   "id": "40bdef83",
   "metadata": {},
   "source": [
    "### $\\epsilon$-greedy多臂老虎机\n",
    "\n",
    "对于$\\epsilon$-greedy多臂老虎机需要传入的参数有$\\epsilon$这个超参数，arm的个数，含有的方法有三个：\n",
    "\n",
    "1. reset初始化bandit。\n",
    "2. act选择最优的arm。\n",
    "3. step更新q估计。\n",
    "\n",
    "这里采用平均奖励更新Q估计。但是如果记录每次选择的每个臂的奖励，然后每次都求平均的话，计算开销就会有点大，因此这里采用增量式的更新公式：\n",
    "\n",
    "$$\n",
    "\\begin{aligned}\n",
    "Q_{k+1} &=\\frac{1}{k} \\sum_{i}^{k} R_{i} \\\\\n",
    "&=\\frac{1}{k}\\left(R_{k}+\\sum_{i=1}^{k-1} R_{i}\\right) \\\\\n",
    "&=\\vdots \\\\\n",
    "&=Q_{k}+\\frac{1}{k}\\left[R_{k}-Q_{k}\\right]\n",
    "\\end{aligned}\n",
    "$$\n",
    "\n",
    "更一般的表示可以表示为：\n",
    "\n",
    "$$\n",
    "NewEstimate ← OldEstimate + StepSize [Target − OldEstimate]\n",
    "$$\n",
    "\n",
    "在这里$StepSize = \\frac{1}{k}$, 不过选用$\\frac{1}{k}$的时候，这个步长是会随着时间变化的。"
   ]
  },
  {
   "cell_type": "code",
   "execution_count": null,
   "id": "5587059f",
   "metadata": {},
   "outputs": [],
   "source": [
    "class GreedyBandit:\n",
    "    def __init__(self, k_arm=10, epsilon=0.):\n",
    "        self.k = k_arm\n",
    "        self.indices = np.arange(self.k)\n",
    "        self.time = 0\n",
    "        self.epsilon = epsilon\n",
    "\n",
    "    def reset(self):\n",
    "        # real reward for each action\n",
    "        self.q_true = np.random.randn(self.k)\n",
    "        # 初始化每个动作的初始估计都为0。\n",
    "        self.q_estimation = np.zeros(self.k)\n",
    "\n",
    "        # 每个动作的选择次数初始时都为0。\n",
    "        self.action_count = np.zeros(self.k)\n",
    "\n",
    "        self.best_action = np.argmax(self.q_true)\n",
    "\n",
    "        self.time = 0\n",
    "\n",
    "    # get an action for this bandit\n",
    "    def act(self):\n",
    "        if np.random.rand() < self.epsilon:\n",
    "            return np.random.choice(self.indices)\n",
    "        \n",
    "        q_best = np.max(self.q_estimation)\n",
    "        return np.random.choice(np.where(self.q_estimation == q_best)[0])\n",
    "\n",
    "    # take an action, update estimation for this action\n",
    "    def step(self, action):\n",
    "        # 基于正太分布N(real reward, 1)生成奖励。\n",
    "        reward = np.random.randn() + self.q_true[action]\n",
    "        self.time += 1\n",
    "        self.action_count[action] += 1\n",
    "\n",
    "        # 更新Q估计：NewEstimate ← OldEstimate + StepSize [Target − OldEstimate]\n",
    "        self.q_estimation[action] += (reward - self.q_estimation[action]) / self.action_count[action]\n",
    "        \n",
    "        return reward"
   ]
  },
  {
   "cell_type": "code",
   "execution_count": null,
   "id": "dc46ec04",
   "metadata": {},
   "outputs": [],
   "source": [
    "from tqdm import trange\n",
    "def simulate(runs, time, bandits):\n",
    "    \"\"\"\n",
    "    给定回合数，训练次数和bandits进行仿真\n",
    "    \"\"\"\n",
    "    rewards = np.zeros((len(bandits), runs, time))\n",
    "    best_action_counts = np.zeros(rewards.shape)\n",
    "    for i, bandit in enumerate(bandits):\n",
    "        for r in trange(runs):\n",
    "            bandit.reset()\n",
    "            for t in range(time):\n",
    "                action = bandit.act()\n",
    "                reward = bandit.step(action)\n",
    "                rewards[i, r, t] = reward\n",
    "                if action == bandit.best_action:\n",
    "                    best_action_counts[i, r, t] = 1\n",
    "    # axis=1表示在每个时间步下，所有的回合对应时间步获得的奖励和最优动作选择次数的和。\n",
    "    mean_best_action_counts = best_action_counts.mean(axis=1)\n",
    "    mean_rewards = rewards.mean(axis=1)\n",
    "    return mean_best_action_counts, mean_rewards"
   ]
  },
  {
   "cell_type": "code",
   "execution_count": null,
   "id": "981fcb37",
   "metadata": {
    "scrolled": true
   },
   "outputs": [],
   "source": [
    "def figure_2_2(runs=2000, time=1000):\n",
    "    epsilons = [0, 0.1, 0.01]\n",
    "    bandits = [GreedyBandit(epsilon=eps) for eps in epsilons]\n",
    "    best_action_counts, rewards = simulate(runs, time, bandits)\n",
    "\n",
    "    plt.figure(figsize=(10, 20))\n",
    "\n",
    "    plt.subplot(2, 1, 1)\n",
    "    for eps, rewards in zip(epsilons, rewards):\n",
    "        plt.plot(rewards, label='$\\epsilon = %.02f$' % (eps))\n",
    "    plt.xlabel('steps')\n",
    "    plt.ylabel('average reward')\n",
    "    plt.legend()\n",
    "\n",
    "    plt.subplot(2, 1, 2)\n",
    "    for eps, counts in zip(epsilons, best_action_counts):\n",
    "        plt.plot(counts, label='$\\epsilon = %.02f$' % (eps))\n",
    "    plt.xlabel('steps')\n",
    "    plt.ylabel('% optimal action')\n",
    "    plt.legend()\n",
    "    \n",
    "    plt.show()\n",
    "    \n",
    "    plt.close()\n",
    "    \n",
    "figure_2_2()"
   ]
  },
  {
   "cell_type": "markdown",
   "id": "e92c116e",
   "metadata": {},
   "source": [
    "这里需要讨论一下StepSize这个问题，如果取平均，也就是$\\frac{1}{k}$的时候，对于平稳的强化学习问题来说是可以的，但是对于非平稳的强化学习问题就会有问题。非平稳的强化学习问题说的是奖励的分布会随着时间发生改变，此时给近期获得的即使奖励一个较高的权重，而对于过去的及时收益赋予较低的权重，然后将二者加权求和，就是现在强化学习用的方法。\n",
    "\n",
    "具体实现就是将这个StepSize设置为一个固定的常数$\\alpha$。\n",
    "\n",
    "此时更新公式展开可以表示为：\n",
    "\n",
    "$$\n",
    "\\begin{aligned}\n",
    "Q_{k+1} &=Q_{k}+\\alpha\\left[R_{k}-Q_{k}\\right] \\\\\n",
    "&=\\alpha R_{k}+(1-\\alpha) Q_{k} \\\\\n",
    "&=\\alpha R_{k}+(1-\\alpha)\\left[\\alpha R_{k-1}+(1-\\alpha) Q_{k-1}\\right] \\\\\n",
    "&=\\alpha R_{k}+(1-\\alpha) \\alpha R_{k-1}+(1-\\alpha)^{2} Q_{k-1} \\\\\n",
    "&=\\vdots \\\\\n",
    "&=(1-\\alpha)^{k} Q_{1}+\\sum_{i}^{k} \\alpha(1-\\alpha)^{k-i} R_{i}\n",
    "\\end{aligned}\n",
    "$$\n",
    "\n",
    "可以看到，比较靠近当前时刻$k+1$的奖励被赋予的权重会比较大，越往前，权重会越小。而两者的系数求和会等于1。但是收敛性是没有办法像其值等于$\\frac{1}{k}$那样得到保证的。"
   ]
  },
  {
   "cell_type": "markdown",
   "id": "d88d823f",
   "metadata": {},
   "source": [
    "## 乐观(Optimistic)初始化"
   ]
  },
  {
   "cell_type": "markdown",
   "id": "97e20421",
   "metadata": {},
   "source": [
    "因为对于初始估计Q值的初始化时人为给定的，所以是一个有偏估计。\n",
    "\n",
    "对于之前的bandit问题，其奖励均值为0，方差为1，因此，如果设置初始估计值为+5的话，对于智能体来说是鼓励探索的。\n",
    "\n",
    "但是对于非平稳性问题，这种探索是暂时的。"
   ]
  },
  {
   "cell_type": "code",
   "execution_count": null,
   "id": "ad475178",
   "metadata": {},
   "outputs": [],
   "source": [
    "class OptimisticBandit:\n",
    "\n",
    "    def __init__(self, k_arm=10, epsilon=0., initial=0., step_size=0.1):\n",
    "        self.k = k_arm\n",
    "        self.step_size = step_size\n",
    "        self.indices = np.arange(self.k)\n",
    "\n",
    "        self.epsilon = epsilon\n",
    "        self.initial = initial\n",
    "\n",
    "    def reset(self):\n",
    "        # real reward for each action\n",
    "        self.q_true = np.random.randn(self.k) #+ self.true_reward\n",
    "\n",
    "        # estimation for each action\n",
    "        self.q_estimation = np.zeros(self.k) + self.initial\n",
    "\n",
    "        self.best_action = np.argmax(self.q_true)\n",
    "\n",
    "    def act(self):\n",
    "        if np.random.rand() < self.epsilon:\n",
    "            return np.random.choice(self.indices)\n",
    "\n",
    "        q_best = np.max(self.q_estimation)\n",
    "        return np.random.choice(np.where(self.q_estimation == q_best)[0])\n",
    "\n",
    "    # take an action, update estimation for this action\n",
    "    def step(self, action):\n",
    "        # generate the reward under N(real reward, 1)\n",
    "        reward = np.random.randn() + self.q_true[action]\n",
    "\n",
    "        # 基于固定步长更新Q估计\n",
    "        self.q_estimation[action] += self.step_size * (reward - self.q_estimation[action])\n",
    "        return reward"
   ]
  },
  {
   "cell_type": "code",
   "execution_count": null,
   "id": "caf5e47d",
   "metadata": {},
   "outputs": [],
   "source": [
    "def figure_2_3(runs=2000, time=1000):\n",
    "    bandits = []\n",
    "    bandits.append(OptimisticBandit(epsilon=0, initial=5, step_size=0.1))\n",
    "    bandits.append(OptimisticBandit(epsilon=0.1, initial=0, step_size=0.1))\n",
    "    best_action_counts, _ = simulate(runs, time, bandits)\n",
    "\n",
    "    plt.plot(best_action_counts[0], label='$\\epsilon = 0, q = 5$')\n",
    "    plt.plot(best_action_counts[1], label='$\\epsilon = 0.1, q = 0$')\n",
    "    plt.xlabel('Steps')\n",
    "    plt.ylabel('% optimal action')\n",
    "    plt.legend()\n",
    "\n",
    "    plt.show()\n",
    "    plt.close()\n",
    "figure_2_3()"
   ]
  },
  {
   "cell_type": "markdown",
   "id": "478adb7b",
   "metadata": {},
   "source": [
    "### UCB"
   ]
  },
  {
   "cell_type": "markdown",
   "id": "bb09b3a5",
   "metadata": {},
   "source": [
    "贪心的方法是随机地选择探索的动作，而有没有一种办法来量化这种选择最优动作和探索动作呢？这就是UCB的计算公式：\n",
    "\n",
    "$$\n",
    "A_{t}=\\underset{a}{\\operatorname{argmax}}\\left[Q_{t}(a)+c \\sqrt{\\frac{\\ln t}{N_{t}(a)}}\\right]\n",
    "$$\n",
    "\n",
    "其中$c$是UCB的参数。"
   ]
  },
  {
   "cell_type": "code",
   "execution_count": null,
   "id": "39e16ee0",
   "metadata": {},
   "outputs": [],
   "source": [
    "class UcbBandit:\n",
    "    def __init__(self, k_arm=10, epsilon=0., initial=0., UCB_param=None):\n",
    "        self.k = k_arm\n",
    "        self.indices = np.arange(self.k)\n",
    "        self.UCB_param = UCB_param\n",
    "        self.epsilon = epsilon\n",
    "        self.initial = initial\n",
    "\n",
    "    def reset(self):\n",
    "        # real reward for each action\n",
    "        self.q_true = np.random.randn(self.k) # + self.true_reward\n",
    "\n",
    "        # estimation for each action\n",
    "        self.q_estimation = np.zeros(self.k) # + self.initial\n",
    "\n",
    "        # # of chosen times for each action\n",
    "        self.action_count = np.zeros(self.k)\n",
    "\n",
    "        self.best_action = np.argmax(self.q_true)\n",
    "\n",
    "        self.time = 0\n",
    "\n",
    "    # get an action for this bandit\n",
    "    def act(self):\n",
    "        if np.random.rand() < self.epsilon:\n",
    "            return np.random.choice(self.indices)\n",
    "\n",
    "        UCB_estimation = self.q_estimation + self.UCB_param * np.sqrt(np.log(self.time + 1) / (self.action_count + 1e-5))\n",
    "        q_best = np.max(UCB_estimation)\n",
    "        return np.random.choice(np.where(UCB_estimation == q_best)[0])\n",
    "\n",
    "\n",
    "    # take an action, update estimation for this action\n",
    "    def step(self, action):\n",
    "        # generate the reward under N(real reward, 1)\n",
    "        reward = np.random.randn() + self.q_true[action]\n",
    "        self.time += 1\n",
    "        self.action_count[action] += 1\n",
    "\n",
    "        self.q_estimation[action] += (reward - self.q_estimation[action]) / self.action_count[action]\n",
    "        return reward"
   ]
  },
  {
   "cell_type": "code",
   "execution_count": null,
   "id": "ab016854",
   "metadata": {},
   "outputs": [],
   "source": [
    "def figure_2_4(runs=2000, time=1000):\n",
    "    bandits = []\n",
    "    bandits.append(UcbBandit(epsilon=0, UCB_param=2))\n",
    "    bandits.append(GreedyBandit(epsilon=0.1))\n",
    "    _, average_rewards = simulate(runs, time, bandits)\n",
    "\n",
    "    plt.plot(average_rewards[0], label='UCB $c = 2$')\n",
    "    plt.plot(average_rewards[1], label='epsilon greedy $\\epsilon = 0.1$')\n",
    "    plt.xlabel('Steps')\n",
    "    plt.ylabel('Average reward')\n",
    "    plt.legend()\n",
    "\n",
    "    plt.show()\n",
    "    plt.close()\n",
    "figure_2_4()"
   ]
  },
  {
   "cell_type": "markdown",
   "id": "5dcb3d43",
   "metadata": {},
   "source": [
    "### 梯度赌博算法"
   ]
  },
  {
   "cell_type": "markdown",
   "id": "2be83148",
   "metadata": {},
   "source": [
    "梯度多臂老虎机算法的动作选择公式为：\n",
    "\n",
    "$$\n",
    "\\operatorname{Pr}\\left\\{A_{t}=a\\right\\} \\doteq \\frac{e^{H_{t}(a)}}{\\sum_{b=1}^{k} e^{H_{t}(b)}} \\doteq \\pi_{t}(a)\n",
    "$$\n",
    "\n",
    "更新公式为：\n",
    "\n",
    "$$\n",
    "\\begin{aligned}\n",
    "H_{t+1}\\left(A_{t}\\right) & \\doteq H_{t}\\left(A_{t}\\right)+\\alpha\\left(R_{t}-\\bar{R}_{t}\\right)\\left(1-\\pi_{t}\\left(A_{t}\\right)\\right), & & \\text { and } \\\\\n",
    "H_{t+1}(a) & \\doteq H_{t}(a)-\\alpha\\left(R_{t}-\\bar{R}_{t}\\right) \\pi_{t}(a), & \\text { for all } a \\neq A_{t}\n",
    "\\end{aligned}\n",
    "$$\n",
    "\n",
    "当$t$时刻选择动作$A_{t}$时，如果得到的实时奖励$R_{t}$远远超过平均奖励$ \\bar{R}_{t}$，即${R}_{t} >> \\bar{R}_{t}$ ，而$\\pi_{t}\\left(A_{t}\\right)<< 1$ ，因此在$t+1$时刻，一定会增加对动作$A_{t}$的偏好，因为实际得到的奖励远超平均嘛。而对于其他没有选择的动作，则会根据这个差值 $R_{t}-\\bar{R}_{t}$ 向反方向变化，即削弱对其他动作的偏好。\n",
    "\n",
    "- https://zhuanlan.zhihu.com/p/87446969"
   ]
  },
  {
   "cell_type": "code",
   "execution_count": null,
   "id": "da39b1e0",
   "metadata": {},
   "outputs": [],
   "source": [
    "class GradientBandit:\n",
    "    def __init__(self, k_arm=10, epsilon=0., step_size=0.1, gradient=False, gradient_baseline=False, true_reward=0.):\n",
    "        self.k = k_arm\n",
    "        self.step_size = step_size\n",
    "        self.indices = np.arange(self.k)\n",
    "        self.time = 0\n",
    "        self.gradient = gradient\n",
    "        self.gradient_baseline = gradient_baseline\n",
    "        self.average_reward = 0\n",
    "        self.true_reward = true_reward\n",
    "        self.epsilon = epsilon\n",
    "\n",
    "    def reset(self):\n",
    "        # real reward for each action\n",
    "        self.q_true = np.random.randn(self.k) + self.true_reward\n",
    "\n",
    "        # estimation for each action\n",
    "        self.q_estimation = np.zeros(self.k)\n",
    "\n",
    "        self.best_action = np.argmax(self.q_true)\n",
    "\n",
    "        self.time = 0\n",
    "\n",
    "    # get an action for this bandit\n",
    "    def act(self):\n",
    "        exp_est = np.exp(self.q_estimation)\n",
    "        self.action_prob = exp_est / np.sum(exp_est)\n",
    "        return np.random.choice(self.indices, p=self.action_prob)\n",
    "\n",
    "    # take an action, update estimation for this action\n",
    "    def step(self, action):\n",
    "        # generate the reward under N(real reward, 1)\n",
    "        reward = np.random.randn() + self.q_true[action]\n",
    "        self.time += 1\n",
    "#         self.action_count[action] += 1\n",
    "        self.average_reward += (reward - self.average_reward) / self.time\n",
    "\n",
    "        one_hot = np.zeros(self.k)\n",
    "        one_hot[action] = 1\n",
    "        if self.gradient_baseline:\n",
    "            baseline = self.average_reward\n",
    "        else:\n",
    "            baseline = 0\n",
    "        self.q_estimation += self.step_size * (reward - baseline) * (one_hot - self.action_prob)\n",
    "        return reward"
   ]
  },
  {
   "cell_type": "code",
   "execution_count": null,
   "id": "b2606fa0",
   "metadata": {},
   "outputs": [],
   "source": [
    "def figure_2_5(runs=2000, time=1000):\n",
    "    bandits = []\n",
    "    bandits.append(GradientBandit(gradient=True, step_size=0.1, gradient_baseline=True, true_reward=4))\n",
    "    bandits.append(GradientBandit(gradient=True, step_size=0.1, gradient_baseline=False, true_reward=4))\n",
    "    bandits.append(GradientBandit(gradient=True, step_size=0.4, gradient_baseline=True, true_reward=4))\n",
    "    bandits.append(GradientBandit(gradient=True, step_size=0.4, gradient_baseline=False, true_reward=4))\n",
    "    best_action_counts, _ = simulate(runs, time, bandits)\n",
    "    labels = [r'$\\alpha = 0.1$, with baseline',\n",
    "              r'$\\alpha = 0.1$, without baseline',\n",
    "              r'$\\alpha = 0.4$, with baseline',\n",
    "              r'$\\alpha = 0.4$, without baseline']\n",
    "\n",
    "    for i in range(len(bandits)):\n",
    "        plt.plot(best_action_counts[i], label=labels[i])\n",
    "    plt.xlabel('Steps')\n",
    "    plt.ylabel('% Optimal action')\n",
    "    plt.legend()\n",
    "\n",
    "    plt.show()\n",
    "    plt.close()\n",
    "figure_2_5()"
   ]
  },
  {
   "cell_type": "markdown",
   "id": "664ab52c",
   "metadata": {},
   "source": [
    "## 总结"
   ]
  },
  {
   "cell_type": "code",
   "execution_count": null,
   "id": "e756c250",
   "metadata": {},
   "outputs": [],
   "source": [
    "class Bandit:\n",
    "    # @k_arm: # of arms\n",
    "    # @epsilon: probability for exploration in epsilon-greedy algorithm\n",
    "    # @initial: initial estimation for each action\n",
    "    # @step_size: constant step size for updating estimations\n",
    "    # @sample_averages: if True, use sample averages to update estimations instead of constant step size\n",
    "    # @UCB_param: if not None, use UCB algorithm to select action\n",
    "    # @gradient: if True, use gradient based bandit algorithm\n",
    "    # @gradient_baseline: if True, use average reward as baseline for gradient based bandit algorithm\n",
    "    def __init__(self, k_arm=10, epsilon=0., initial=0., step_size=0.1, sample_averages=False, UCB_param=None,\n",
    "                 gradient=False, gradient_baseline=False, true_reward=0.):\n",
    "        self.k = k_arm\n",
    "        self.step_size = step_size\n",
    "        self.sample_averages = sample_averages\n",
    "        self.indices = np.arange(self.k)\n",
    "        self.time = 0\n",
    "        self.UCB_param = UCB_param\n",
    "        self.gradient = gradient\n",
    "        self.gradient_baseline = gradient_baseline\n",
    "        self.average_reward = 0\n",
    "        self.true_reward = true_reward\n",
    "        self.epsilon = epsilon\n",
    "        self.initial = initial\n",
    "\n",
    "    def reset(self):\n",
    "        # real reward for each action\n",
    "        self.q_true = np.random.randn(self.k) + self.true_reward\n",
    "\n",
    "        # estimation for each action\n",
    "        self.q_estimation = np.zeros(self.k) + self.initial\n",
    "\n",
    "        # # of chosen times for each action\n",
    "        self.action_count = np.zeros(self.k)\n",
    "\n",
    "        self.best_action = np.argmax(self.q_true)\n",
    "\n",
    "        self.time = 0\n",
    "\n",
    "    # get an action for this bandit\n",
    "    def act(self):\n",
    "        if np.random.rand() < self.epsilon:\n",
    "            return np.random.choice(self.indices)\n",
    "\n",
    "        if self.UCB_param is not None:\n",
    "            UCB_estimation = self.q_estimation + \\\n",
    "                self.UCB_param * np.sqrt(np.log(self.time + 1) / (self.action_count + 1e-5))\n",
    "            q_best = np.max(UCB_estimation)\n",
    "            return np.random.choice(np.where(UCB_estimation == q_best)[0])\n",
    "\n",
    "        if self.gradient:\n",
    "            exp_est = np.exp(self.q_estimation)\n",
    "            self.action_prob = exp_est / np.sum(exp_est)\n",
    "            return np.random.choice(self.indices, p=self.action_prob)\n",
    "\n",
    "        q_best = np.max(self.q_estimation)\n",
    "        return np.random.choice(np.where(self.q_estimation == q_best)[0])\n",
    "\n",
    "    # take an action, update estimation for this action\n",
    "    def step(self, action):\n",
    "        # generate the reward under N(real reward, 1)\n",
    "        reward = np.random.randn() + self.q_true[action]\n",
    "        self.time += 1\n",
    "        self.action_count[action] += 1\n",
    "        self.average_reward += (reward - self.average_reward) / self.time\n",
    "\n",
    "        if self.sample_averages:\n",
    "            # update estimation using sample averages\n",
    "            self.q_estimation[action] += (reward - self.q_estimation[action]) / self.action_count[action]\n",
    "        elif self.gradient:\n",
    "            one_hot = np.zeros(self.k)\n",
    "            one_hot[action] = 1\n",
    "            if self.gradient_baseline:\n",
    "                baseline = self.average_reward\n",
    "            else:\n",
    "                baseline = 0\n",
    "            self.q_estimation += self.step_size * (reward - baseline) * (one_hot - self.action_prob)\n",
    "        else:\n",
    "            # update estimation with constant step size\n",
    "            self.q_estimation[action] += self.step_size * (reward - self.q_estimation[action])\n",
    "        return reward"
   ]
  },
  {
   "cell_type": "code",
   "execution_count": null,
   "id": "eb3e1fa6",
   "metadata": {},
   "outputs": [],
   "source": [
    "def figure_2_6(runs=2000, time=1000):\n",
    "    labels = ['epsilon-greedy', 'gradient bandit',\n",
    "              'UCB', 'optimistic initialization']\n",
    "    generators = [lambda epsilon: Bandit(epsilon=epsilon, sample_averages=True),\n",
    "                  lambda alpha: Bandit(gradient=True, step_size=alpha, gradient_baseline=True),\n",
    "                  lambda coef: Bandit(epsilon=0, UCB_param=coef, sample_averages=True),\n",
    "                  lambda initial: Bandit(epsilon=0, initial=initial, step_size=0.1)]\n",
    "    parameters = [np.arange(-7, -1, dtype=np.float),\n",
    "                  np.arange(-5, 2, dtype=np.float),\n",
    "                  np.arange(-4, 3, dtype=np.float),\n",
    "                  np.arange(-2, 3, dtype=np.float)]\n",
    "\n",
    "    bandits = []\n",
    "    for generator, parameter in zip(generators, parameters):\n",
    "        for param in parameter:\n",
    "            bandits.append(generator(pow(2, param)))\n",
    "\n",
    "    _, average_rewards = simulate(runs, time, bandits)\n",
    "    rewards = np.mean(average_rewards, axis=1)\n",
    "\n",
    "    i = 0\n",
    "    for label, parameter in zip(labels, parameters):\n",
    "        l = len(parameter)\n",
    "        plt.plot(parameter, rewards[i:i+l], label=label)\n",
    "        i += l\n",
    "    plt.xlabel('Parameter($2^x$)')\n",
    "    plt.ylabel('Average reward')\n",
    "    plt.legend()\n",
    "\n",
    "    plt.show()\n",
    "    plt.close()\n",
    "figure_2_6()"
   ]
  },
  {
   "cell_type": "markdown",
   "id": "d63260b4",
   "metadata": {},
   "source": [
    "## 将bandit环境封装\n",
    "\n",
    "采用`gym`中类似的方法将`bandit`环境封装起来。"
   ]
  },
  {
   "cell_type": "code",
   "execution_count": 1,
   "id": "bbfb3fe9",
   "metadata": {},
   "outputs": [],
   "source": [
    "import gym\n",
    "import numpy as np\n",
    "from gym import spaces\n",
    "import matplotlib.pyplot as plt"
   ]
  },
  {
   "cell_type": "code",
   "execution_count": 7,
   "id": "8a61887e",
   "metadata": {},
   "outputs": [],
   "source": [
    "from typing import List\n",
    "class BanditEnv(gym.Env):\n",
    "    def __init__(self, num_bandits, reward_list):\n",
    "        assert len(reward_list) == num_bandits, \"The reward list not eql to num_bandits.\"\n",
    "        assert isinstance(reward_list, list), \"The type of reward list not eql to List.\"\n",
    "        \n",
    "        self.action_space = spaces.Discrete(num_bandits)  # 动作空间为num bandits的数量。\n",
    "        self.reward_list = reward_list  # 奖励list\n",
    "    \n",
    "    def step(self, action):\n",
    "        reward = self.reward_list[action] + 0.1 * np.random.randn()\n",
    "        return reward"
   ]
  },
  {
   "cell_type": "code",
   "execution_count": 8,
   "id": "df66e611",
   "metadata": {},
   "outputs": [],
   "source": [
    "class GreedyAgent(object):\n",
    "    def __init__(self, env, epsilon):\n",
    "        self.env = env\n",
    "        self.bandit_nums = env.action_space.n # bandit的个数\n",
    "        self.epsilon = epsilon  \n",
    "        self.vis_count = np.zeros(self.bandit_nums)  # 记录每个bandit的访问次数\n",
    "        self.reward_estimation = np.zeros(self.bandit_nums)  # 对\n",
    "    \n",
    "    def choose_action(self):\n",
    "        if np.random.randn() < self.epsilon:\n",
    "            action = np.random.choice(self.bandit_nums)\n",
    "        else:\n",
    "            action = np.argmax(self.reward_estimation)\n",
    "        \n",
    "        reward = self.env.step(action)\n",
    "        return action, reward\n",
    "    \n",
    "    def update_agent(self, reward, action):\n",
    "        self.vis_count[action] += 1\n",
    "        self.reward_estimation[action] = (1 - 1.0/self.vis_count[action])*self.reward_estimation[action] + 1.0/self.vis_count[action]*reward"
   ]
  },
  {
   "cell_type": "code",
   "execution_count": 9,
   "id": "19808f47",
   "metadata": {},
   "outputs": [],
   "source": [
    "def run(m1, m2, m3, eps, N):\n",
    "    bandits = BanditEnv(num_bandits = 3, reward_list = [m1, m2, m3])\n",
    "    agent = GreedyAgent(bandits, eps)\n",
    "    data = np.empty(N)\n",
    "    for i in range(N):\n",
    "        action, reward = agent.choose_action()\n",
    "        agent.update_agent(reward, action)\n",
    "        \n",
    "        data[i] = reward\n",
    "    \n",
    "    cumulative_average = np.cumsum(data) / (np.arange(N) + 1)\n",
    "    \n",
    "    plt.plot(cumulative_average)\n",
    "    plt.plot(np.ones(N)*m1)\n",
    "    plt.plot(np.ones(N)*m2)\n",
    "    plt.plot(np.ones(N)*m3)\n",
    "    plt.xscale('log')\n",
    "    plt.show()\n",
    "    \n",
    "    for mean_reward in bandits.reward_list:\n",
    "        print(mean_reward)\n",
    "  \n",
    "    return cumulative_average"
   ]
  },
  {
   "cell_type": "code",
   "execution_count": 10,
   "id": "255993ce",
   "metadata": {},
   "outputs": [
    {
     "data": {
      "image/png": "[encoded data removed]",
      "text/plain": [
       "<Figure size 432x288 with 1 Axes>"
      ]
     },
     "metadata": {
      "needs_background": "light"
     },
     "output_type": "display_data"
    },
    {
     "name": "stdout",
     "output_type": "stream",
     "text": [
      "1.0\n",
      "2.0\n",
      "3.0\n"
     ]
    },
    {
     "data": {
      "image/png": "[encoded data removed]",
      "text/plain": [
       "<Figure size 432x288 with 1 Axes>"
      ]
     },
     "metadata": {
      "needs_background": "light"
     },
     "output_type": "display_data"
    },
    {
     "name": "stdout",
     "output_type": "stream",
     "text": [
      "1.0\n",
      "2.0\n",
      "3.0\n"
     ]
    },
    {
     "data": {
      "image/png": "[encoded data removed]",
      "text/plain": [
       "<Figure size 432x288 with 1 Axes>"
      ]
     },
     "metadata": {
      "needs_background": "light"
     },
     "output_type": "display_data"
    },
    {
     "name": "stdout",
     "output_type": "stream",
     "text": [
      "1.0\n",
      "2.0\n",
      "3.0\n"
     ]
    }
   ],
   "source": [
    "c_1 = run(1.0, 2.0, 3.0, 0.1, 100000)\n",
    "c_05 = run(1.0, 2.0, 3.0, 0.05, 100000)\n",
    "c_01 = run(1.0, 2.0, 3.0, 0.01, 100000)"
   ]
  },
  {
   "cell_type": "code",
   "execution_count": 11,
   "id": "b696e13d",
   "metadata": {},
   "outputs": [
    {
     "data": {
      "image/png": "[encoded data removed]",
      "text/plain": [
       "<Figure size 432x288 with 1 Axes>"
      ]
     },
     "metadata": {
      "needs_background": "light"
     },
     "output_type": "display_data"
    }
   ],
   "source": [
    "# log scale plot\n",
    "plt.plot(c_1, label ='eps = 0.1')\n",
    "plt.plot(c_05, label ='eps = 0.05')\n",
    "plt.plot(c_01, label ='eps = 0.01')\n",
    "plt.legend()\n",
    "plt.xscale('log')\n",
    "plt.show()"
   ]
  },
  {
   "cell_type": "code",
   "execution_count": null,
   "id": "51fe36de",
   "metadata": {},
   "outputs": [],
   "source": []
  }
 ],
 "metadata": {
  "kernelspec": {
   "display_name": "Python 3 (ipykernel)",
   "language": "python",
   "name": "python3"
  },
  "language_info": {
   "codemirror_mode": {
    "name": "ipython",
    "version": 3
   },
   "file_extension": ".py",
   "mimetype": "text/x-python",
   "name": "python",
   "nbconvert_exporter": "python",
   "pygments_lexer": "ipython3",
   "version": "3.8.12"
  },
  "toc": {
   "base_numbering": 1,
   "nav_menu": {},
   "number_sections": true,
   "sideBar": true,
   "skip_h1_title": false,
   "title_cell": "Table of Contents",
   "title_sidebar": "Contents",
   "toc_cell": false,
   "toc_position": {},
   "toc_section_display": true,
   "toc_window_display": false
  }
 },
 "nbformat": 4,
 "nbformat_minor": 5
}
