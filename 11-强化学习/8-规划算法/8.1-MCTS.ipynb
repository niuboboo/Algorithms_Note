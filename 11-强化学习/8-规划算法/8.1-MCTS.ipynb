{
 "cells": [
  {
   "cell_type": "markdown",
   "id": "28138b5f",
   "metadata": {},
   "source": [
    "## Monte Carlo\n",
    "\n",
    "蒙特卡洛方法是用一些随机数来解决复杂问题的一种方法。"
   ]
  },
  {
   "cell_type": "markdown",
   "id": "7de1ae14",
   "metadata": {},
   "source": [
    "### 蒙特卡洛方法求抛硬币概率"
   ]
  },
  {
   "cell_type": "code",
   "execution_count": 1,
   "id": "d782cd02",
   "metadata": {},
   "outputs": [],
   "source": [
    "import math\n",
    "import random\n",
    "import numpy as np\n",
    "import matplotlib.pyplot as plt"
   ]
  },
  {
   "cell_type": "code",
   "execution_count": 2,
   "id": "66fe9b7e",
   "metadata": {},
   "outputs": [],
   "source": [
    "def coin_flip():\n",
    "    \"\"\"生成硬币正反两面\"\"\"\n",
    "    return random.randint(0, 1)"
   ]
  },
  {
   "cell_type": "code",
   "execution_count": 3,
   "id": "b4a15117",
   "metadata": {},
   "outputs": [],
   "source": [
    "list1 = []\n",
    "def monte_carlo(n):\n",
    "    results = 0\n",
    "    for i in range(n):\n",
    "        flip_result = coin_flip()\n",
    "        results += flip_result\n",
    "        \n",
    "        prob_value = results / (i + 1)  # 计算概率\n",
    "        list1.append(prob_value)\n",
    "        \n",
    "    plt.axhline(y=0.5, color='r', linestyle='-')\n",
    "    plt.xlabel(\"Iterations\")\n",
    "    plt.ylabel(\"probability\")\n",
    "    plt.plot(list1)\n",
    "    \n",
    "    return results / n"
   ]
  },
  {
   "cell_type": "code",
   "execution_count": 4,
   "id": "c31440a8",
   "metadata": {},
   "outputs": [
    {
     "name": "stdout",
     "output_type": "stream",
     "text": [
      "final value is 0.5018\n"
     ]
    },
    {
     "data": {
      "image/png": "[encoded data removed]",
      "text/plain": [
       "<Figure size 432x288 with 1 Axes>"
      ]
     },
     "metadata": {
      "needs_background": "light"
     },
     "output_type": "display_data"
    }
   ],
   "source": [
    "answer = monte_carlo(5000)\n",
    "print(\"final value is {}\".format(answer))"
   ]
  },
  {
   "cell_type": "markdown",
   "id": "bd857c60",
   "metadata": {},
   "source": [
    "### 估计Pi值\n",
    "\n",
    "在一个正方形内的内切圆，其正方形面积与圆形面积比例为:\n",
    "\n",
    "$$\n",
    "\\frac{Area \\ of \\ square}{Area \\ of \\ circlr} = \\frac{(2r)^{2}}{\\pi r^{2}} = \\frac{4}{\\pi}\n",
    "$$"
   ]
  },
  {
   "cell_type": "code",
   "execution_count": 5,
   "id": "b7ca88e3",
   "metadata": {},
   "outputs": [],
   "source": [
    "in_circle = 0 # 记录在圆内的点\n",
    "out_circle = 0 # 记录在圆外的点\n",
    "pi_values = []  # 记录pi值"
   ]
  },
  {
   "cell_type": "code",
   "execution_count": 6,
   "id": "84b39023",
   "metadata": {},
   "outputs": [
    {
     "name": "stdout",
     "output_type": "stream",
     "text": [
      "3.1144\n"
     ]
    },
    {
     "data": {
      "image/png": "[encoded data removed]",
      "text/plain": [
       "<Figure size 432x288 with 1 Axes>"
      ]
     },
     "metadata": {
      "needs_background": "light"
     },
     "output_type": "display_data"
    }
   ],
   "source": [
    "for i in range(5):\n",
    "    for j in range(1000):\n",
    "        x = random.randrange(-100, 100)\n",
    "        y = random.randrange(-100, 100)\n",
    "        \n",
    "        if (x**2 + y**2 > 100**2):\n",
    "            out_circle += 1\n",
    "        else:\n",
    "            in_circle += 1\n",
    "        \n",
    "        pi = 4 * in_circle / (in_circle + out_circle)\n",
    "        pi_values.append(pi)\n",
    "        \n",
    "print(pi_values[-1])\n",
    "\n",
    "plt.axhline(y=math.pi, color='g', linestyle='-')\n",
    "plt.plot(pi_values)\n",
    "plt.xlabel('Iterations')\n",
    "plt.xlabel(\"Value of PI\")\n",
    "plt.show()"
   ]
  },
  {
   "cell_type": "markdown",
   "id": "bc2f1e40",
   "metadata": {},
   "source": [
    "## Monte Carlo Tree Search\n",
    "\n",
    "传统强化学习没有用MCTS遇到一些困难，加上MCTS之后就可以解决强化学习中的一一些困难。\n",
    "\n",
    "如果是用Q-Value来做围棋，其状态空间太大，而MCTS是Tree Strategy加上rollout strategy，随机采样一些样本来作为其值。\n",
    "\n",
    "蒙特卡洛树有四步:\n",
    "\n",
    "1. Tree Traversal\n",
    "\n",
    "2. Node expansion\n",
    "\n",
    "3. Rollout (Random Simulation)\n",
    "\n",
    "4. Backpropagation\n",
    "\n",
    "<img src=\"../../images/MCTS.png\" width=\"100%\">"
   ]
  },
  {
   "cell_type": "markdown",
   "id": "9ed859eb",
   "metadata": {},
   "source": [
    "可以看到孩子节点的分子和等于父亲节点的分子和，对于分母也一样。"
   ]
  },
  {
   "cell_type": "markdown",
   "id": "75fc3e5e",
   "metadata": {},
   "source": [
    "### MCTS用于gym环境"
   ]
  },
  {
   "cell_type": "markdown",
   "id": "61e7b2db",
   "metadata": {},
   "source": [
    "这里将MCTS算法用于gym的环境\n",
    "\n",
    "在实战MCTS之前，我们需要修正一下gym的环境，以便其能够存储和加载环境"
   ]
  },
  {
   "cell_type": "code",
   "execution_count": 7,
   "id": "78b5d95c",
   "metadata": {},
   "outputs": [
    {
     "name": "stderr",
     "output_type": "stream",
     "text": [
      "\n"
     ]
    }
   ],
   "source": [
    "from gym.core import Wrapper\n",
    "from pickle import dumps, loads\n",
    "from collections import namedtuple\n",
    "\n",
    "ActionResult = namedtuple(\"action_result\",(\"snapshot\",\"observation\",\"reward\",\"is_done\",\"info\"))\n",
    "\n",
    "class WithSnapshots(Wrapper):\n",
    "    def __init__(self, env):\n",
    "        super(WithSnapshots, self).__init__(env)\n",
    "    \n",
    "    def get_snapshot(self):\n",
    "        \"\"\"将环境暂存起来，用于之后加载\"\"\"\n",
    "        if self.unwrapped.screen is not None:\n",
    "            self.unwrapped.screen.close()  # 将render关掉，render不可以加载\n",
    "            self.unwrapped.screen = None\n",
    "        # 不可直接返回self.env， 可以采用dumps或者deepcopy。\n",
    "        return dumps(self.env)\n",
    "    \n",
    "    def load_snapshot(self,snapshot):\n",
    "        \"\"\"\n",
    "        在当前状态加载snapshot。\n",
    "        \"\"\"\n",
    "        \n",
    "        assert not hasattr(self,\"_monitor\") or hasattr(self.env,\"_monitor\"), \"can't backtrack while recording\"\n",
    "        \n",
    "        self.env = loads(snapshot)\n",
    "    \n",
    "    def get_result(self,snapshot,action):\n",
    "        \"\"\"\n",
    "        加载snapshots，并执行一步动作\n",
    "        :返回: next snapshot, next_observation, reward, is_done, info\n",
    "        \"\"\"\n",
    "        self.load_snapshot(snapshot)\n",
    "        s, r, done, info = self.step(action)\n",
    "        \n",
    "        return ActionResult(self.get_snapshot(), s, r, done, info)"
   ]
  },
  {
   "cell_type": "code",
   "execution_count": 8,
   "id": "15f3176a",
   "metadata": {},
   "outputs": [
    {
     "name": "stderr",
     "output_type": "stream",
     "text": [
      "/Users/tinyzqh/miniforge3/lib/python3.9/site-packages/gym/envs/registration.py:505: UserWarning: \u001b[33mWARN: The environment CartPole-v0 is out of date. You should consider upgrading to version `v1` with the environment ID `CartPole-v1`.\u001b[0m\n",
      "  logger.warn(\n"
     ]
    }
   ],
   "source": [
    "import gym\n",
    "env = WithSnapshots(gym.make(\"CartPole-v0\"))"
   ]
  },
  {
   "cell_type": "markdown",
   "id": "f3a49951",
   "metadata": {},
   "source": [
    "### 测试WithSnapshots"
   ]
  },
  {
   "cell_type": "code",
   "execution_count": 9,
   "id": "312ec55c",
   "metadata": {},
   "outputs": [
    {
     "name": "stdout",
     "output_type": "stream",
     "text": [
      "[-0.03663678  0.03331907  0.01003002 -0.03105192]\n"
     ]
    }
   ],
   "source": [
    "obs = env.reset()\n",
    "print(obs)"
   ]
  },
  {
   "cell_type": "code",
   "execution_count": 10,
   "id": "ba4a72fd",
   "metadata": {},
   "outputs": [],
   "source": [
    "snap0 = env.get_snapshot()  # 将env的当前状态存储为snap0"
   ]
  },
  {
   "cell_type": "markdown",
   "id": "a4d848de",
   "metadata": {},
   "source": [
    "之后，我们将环境往前step，会发现state会发生改变"
   ]
  },
  {
   "cell_type": "code",
   "execution_count": 11,
   "id": "c4d348a2",
   "metadata": {},
   "outputs": [
    {
     "name": "stdout",
     "output_type": "stream",
     "text": [
      "Whoops! We died!\n",
      "final state:\n"
     ]
    }
   ],
   "source": [
    "while True:\n",
    "    is_done = env.step(env.action_space.sample())[2]\n",
    "    if is_done: \n",
    "        print(\"Whoops! We died!\")\n",
    "        break\n",
    "        \n",
    "print(\"final state:\")"
   ]
  },
  {
   "cell_type": "code",
   "execution_count": 12,
   "id": "9904c442",
   "metadata": {},
   "outputs": [
    {
     "name": "stdout",
     "output_type": "stream",
     "text": [
      "(0.09772098256557775, 0.054223280201415036, -0.21020515922425623, -0.5026152518757151)\n"
     ]
    }
   ],
   "source": [
    "print(env.state)"
   ]
  },
  {
   "cell_type": "markdown",
   "id": "4b10abc3",
   "metadata": {},
   "source": [
    "我们再将出事状态加载回来，验证是否能够回到初始状态。"
   ]
  },
  {
   "cell_type": "code",
   "execution_count": 13,
   "id": "6fa4bdf1",
   "metadata": {},
   "outputs": [
    {
     "name": "stdout",
     "output_type": "stream",
     "text": [
      "[-0.03663678  0.03331907  0.01003002 -0.03105192]\n"
     ]
    }
   ],
   "source": [
    "env.load_snapshot(snap0)\n",
    "assert env.state[0]-obs[0] <= 0.00001, \"init state is not eql to load state\"\n",
    "print(env.state)"
   ]
  },
  {
   "cell_type": "markdown",
   "id": "b6e39166",
   "metadata": {},
   "source": [
    "之后测试一下往前推理的代码"
   ]
  },
  {
   "cell_type": "code",
   "execution_count": 14,
   "id": "0068cb8a",
   "metadata": {},
   "outputs": [],
   "source": [
    "res = env.get_result(snap0,env.action_space.sample())\n",
    "\n",
    "snap1, observation, reward = res[:3]\n",
    "\n",
    "#second step\n",
    "res2 = env.get_result(snap1,env.action_space.sample())"
   ]
  },
  {
   "cell_type": "markdown",
   "id": "1b613f33",
   "metadata": {},
   "source": [
    "### 创建节点类\n",
    "\n",
    "节点类需要记录:\n",
    "\n",
    "1. 父亲节点是哪个\n",
    "2. 父亲节点选择哪个动作来到了当前节点\n",
    "3. 当前节点的状态值\n",
    "4. 当前节点的访问次数\n",
    "5. 还需要记录当前节点下的状态，奖励函数，是否结束等信息\n",
    "\n",
    "除此之外，还需要判断当前节点是否是叶子节点。"
   ]
  },
  {
   "cell_type": "code",
   "execution_count": 15,
   "id": "fedb4699",
   "metadata": {},
   "outputs": [],
   "source": [
    "class Node(object):\n",
    "    def __init__(self, parent, action):\n",
    "        self.parent = parent\n",
    "        self.action = action\n",
    "        self.children = set()\n",
    "        \n",
    "        self.sum_value = 0.0\n",
    "        self.visited_times = 0\n",
    "        \n",
    "        res = env.get_result(parent.snapshot, action)\n",
    "        self.snapshot, self.obs, self.immediate_r, self.is_done, _ = res\n",
    "    \n",
    "    def is_leaf(self):\n",
    "        \"\"\"返回是否是叶子节点\"\"\"\n",
    "        return len(self.children) == 0\n",
    "    \n",
    "    def is_root(self):\n",
    "        \"\"\"返回是否是根节点\"\"\"\n",
    "        return self.parent is None\n",
    "    \n",
    "    def get_mean_value(self):\n",
    "        \"\"\"获取当前节点的平均状态值\"\"\"\n",
    "        return self.sum_value / self.visited_times if self.visited_times != 0 else 0\n",
    "    \n",
    "    def ucb_score(self,scale=10,max_value=1e100):\n",
    "        \"\"\"\n",
    "        基于当前节点的状态值，当前节点的访问次数，父亲节点的访问次数来计算ucb。\n",
    "        \n",
    "        :param scale: 假定奖励范围为[0,scale].\n",
    "        :param max_value: 对于没有访问过的节点，其ucb值为无穷。\n",
    "        \n",
    "        \"\"\"\n",
    "        \n",
    "        if self.visited_times == 0:\n",
    "            return max_value\n",
    "        \n",
    "        U = np.sqrt( np.log(self.parent.visited_times) / self.visited_times)\n",
    "        \n",
    "        return self.get_mean_value() + scale*U\n",
    "    \n",
    "    def select_best_leaf(self):\n",
    "        \"\"\"选择最高优先级的叶子节点去扩展\"\"\"\n",
    "        if self.is_leaf(): return self\n",
    "        \n",
    "        children = self.children\n",
    "        \n",
    "        child_values_dict = {child : child.ucb_score() for child in children}\n",
    "        \n",
    "        best_child = max(child_values_dict, key = child_values_dict.get)\n",
    "        \n",
    "        return best_child.select_best_leaf()\n",
    "    \n",
    "    def expand(self):\n",
    "        \"\"\"\n",
    "        扩展所有的可能的孩子节点\n",
    "        通过遍历动作全展开获得所有孩子节点\n",
    "        然后选择一个最好的孩子节点\n",
    "        \"\"\"\n",
    "        \n",
    "        assert not self.is_done, \"can't expand from terminal state\"\n",
    "\n",
    "        for action in range(env.action_space.n):\n",
    "            self.children.add(Node(self, action))\n",
    "        \n",
    "        return self.select_best_leaf()\n",
    "    \n",
    "    def rollout(self, t_max = 10 ** 4):\n",
    "        \"\"\"与环境交互，获取episode回合奖励\"\"\"\n",
    "        env.load_snapshot(self.snapshot)\n",
    "        obs = self.obs\n",
    "        is_done = self.is_done\n",
    "        \n",
    "        \n",
    "        rollout_reward = 0\n",
    "        for i in range(t_max):\n",
    "            _, r, is_done, _ = env.step(env.action_space.sample())\n",
    "            \n",
    "            if is_done:\n",
    "                break\n",
    "                # return 0\n",
    "            \n",
    "            rollout_reward += r\n",
    "\n",
    "        return rollout_reward\n",
    "    \n",
    "    def propagate(self, child_value):\n",
    "        \"\"\"\n",
    "        Uses child value (sum of rewards) to update parents recursively.\n",
    "        \"\"\"\n",
    "        #compute node value\n",
    "        my_value = self.immediate_r + child_value\n",
    "        \n",
    "        #update value_sum and times_visited\n",
    "        self.sum_value += my_value\n",
    "        self.visited_times += 1\n",
    "        \n",
    "        #propagate upwards\n",
    "        if not self.is_root():\n",
    "            self.parent.propagate(my_value)\n",
    "            \n",
    "    def safe_delete(self):\n",
    "        \"\"\"safe delete to prevent memory leak in some python versions\"\"\"\n",
    "        del self.parent\n",
    "        for child in self.children:\n",
    "            child.safe_delete()\n",
    "            del child"
   ]
  },
  {
   "cell_type": "code",
   "execution_count": 16,
   "id": "b6175136",
   "metadata": {},
   "outputs": [],
   "source": [
    "class Root(Node):\n",
    "    def __init__(self,snapshot,observation):\n",
    "        \n",
    "        \"\"\"\n",
    "        creates special node that acts like tree root\n",
    "        :snapshot: snapshot (from env.get_snapshot) to start planning from\n",
    "        :observation: last environment observation\n",
    "        \"\"\"\n",
    "        self.sum_value = 0.0\n",
    "        self.visited_times = 0\n",
    "        \n",
    "        self.parent = self.action = None\n",
    "        self.children = set()       #set of child nodes\n",
    "        \n",
    "        #root: load snapshot and observation\n",
    "        self.snapshot = snapshot\n",
    "        self.observation = observation\n",
    "        self.immediate_r = 0\n",
    "        self.is_done = False\n",
    "    \n",
    "    @staticmethod\n",
    "    def from_node(node):\n",
    "        \"\"\"initializes node as root\"\"\"\n",
    "        root = Root(node.snapshot, node.obs)\n",
    "        #copy data\n",
    "        copied_fields = [\"sum_value\",\"visited_times\",\"children\",\"is_done\"]\n",
    "        for field in copied_fields:\n",
    "            setattr(root, field, getattr(node, field))\n",
    "        return root"
   ]
  },
  {
   "cell_type": "markdown",
   "id": "eab3fd09",
   "metadata": {},
   "source": [
    "### MCTS主循环 "
   ]
  },
  {
   "cell_type": "code",
   "execution_count": 17,
   "id": "d19bad90",
   "metadata": {},
   "outputs": [],
   "source": [
    "def plan_mcts(root,n_iters=10):\n",
    "    \"\"\"\n",
    "    builds tree with monte-carlo tree search for n_iters iterations\n",
    "    :param root: tree node to plan from\n",
    "    :param n_iters: how many select-expand-simulate-propagete loops to make\n",
    "    \"\"\"\n",
    "    for _ in range(n_iters):\n",
    "\n",
    "        node = root.select_best_leaf() #<select best leaf>\n",
    "\n",
    "        if node.is_done:\n",
    "            node.propagate(0)\n",
    "\n",
    "        else: #node is not terminal\n",
    "            #<expand-simulate-propagate loop>\n",
    "            child_node = node.expand()\n",
    "            child_reward = child_node.rollout()\n",
    "            node.propagate(child_reward)"
   ]
  },
  {
   "cell_type": "code",
   "execution_count": 18,
   "id": "aa14a83b",
   "metadata": {},
   "outputs": [],
   "source": [
    "root_observation = env.reset()\n",
    "root_snapshot = env.get_snapshot()\n",
    "root = Root(root_snapshot,root_observation)"
   ]
  },
  {
   "cell_type": "code",
   "execution_count": 19,
   "id": "cacf2b8f",
   "metadata": {},
   "outputs": [],
   "source": [
    "#plan from root:\n",
    "plan_mcts(root,n_iters=1000)"
   ]
  },
  {
   "cell_type": "markdown",
   "id": "87af8b8d",
   "metadata": {},
   "source": [
    "## 测试"
   ]
  },
  {
   "cell_type": "code",
   "execution_count": 20,
   "id": "f07d59be",
   "metadata": {},
   "outputs": [
    {
     "data": {
      "image/png": "[encoded data removed]",
      "text/plain": [
       "<Figure size 432x288 with 1 Axes>"
      ]
     },
     "metadata": {
      "needs_background": "light"
     },
     "output_type": "display_data"
    },
    {
     "name": "stdout",
     "output_type": "stream",
     "text": [
      "Finished with reward =  200.0\n"
     ]
    }
   ],
   "source": [
    "from IPython.display import clear_output\n",
    "from itertools import count\n",
    "from gym.wrappers import Monitor\n",
    "\n",
    "total_reward = 0                #sum of rewards\n",
    "test_env = loads(root_snapshot) #env used to show progress\n",
    "\n",
    "for i in count():\n",
    "    \n",
    "    #get best child\n",
    "    \n",
    "    #<select child with highest mean reward>\n",
    "\n",
    "    best_value = 0\n",
    "    for child in root.children:\n",
    "        if child.get_mean_value() >= best_value:\n",
    "            best_value = child.get_mean_value()\n",
    "            best_child = child\n",
    "    \n",
    "    #take action\n",
    "    s,r,done,_ = test_env.step(best_child.action)\n",
    "    \n",
    "    #show image\n",
    "    clear_output(True)\n",
    "    plt.title(\"step %i\"%i)\n",
    "    plt.imshow(test_env.render('rgb_array'))\n",
    "    plt.show()\n",
    "\n",
    "    total_reward += r\n",
    "    if done:\n",
    "        print(\"Finished with reward = \",total_reward)\n",
    "        break\n",
    "    \n",
    "    #discard unrealized part of the tree [because not every child matters :(]\n",
    "    for child in root.children:\n",
    "        if child != best_child:\n",
    "            child.safe_delete()\n",
    "\n",
    "    #declare best child a new root\n",
    "    root = Root.from_node(best_child)\n",
    "    \n",
    "    print(root.is_leaf())\n",
    "    \n",
    "    if root.is_leaf():\n",
    "        plan_mcts(root, n_iters=1000)\n",
    "    \n",
    "    # assert not root.is_leaf(), \"We ran out of tree! Need more planning! Try growing tree right inside the loop.\"\n",
    "    \n",
    "    #you may want to expand tree here\n",
    "    #<your code here>\n",
    "    "
   ]
  }
 ],
 "metadata": {
  "kernelspec": {
   "display_name": "Python 3 (ipykernel)",
   "language": "python",
   "name": "python3"
  },
  "language_info": {
   "codemirror_mode": {
    "name": "ipython",
    "version": 3
   },
   "file_extension": ".py",
   "mimetype": "text/x-python",
   "name": "python",
   "nbconvert_exporter": "python",
   "pygments_lexer": "ipython3",
   "version": "3.9.4"
  },
  "toc": {
   "base_numbering": 1,
   "nav_menu": {},
   "number_sections": true,
   "sideBar": true,
   "skip_h1_title": false,
   "title_cell": "Table of Contents",
   "title_sidebar": "Contents",
   "toc_cell": false,
   "toc_position": {},
   "toc_section_display": true,
   "toc_window_display": true
  }
 },
 "nbformat": 4,
 "nbformat_minor": 5
}
