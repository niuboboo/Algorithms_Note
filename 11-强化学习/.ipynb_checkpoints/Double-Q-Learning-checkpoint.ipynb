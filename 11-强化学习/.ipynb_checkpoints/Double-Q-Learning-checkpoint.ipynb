{
 "cells": [
  {
   "cell_type": "markdown",
   "id": "c7e5f59a",
   "metadata": {},
   "source": [
    "## Double Q Learning\n",
    "\n",
    "`Q-Learing`是`ModelFree`的自举(`bootstrapped`)的`off-policy`算法。\n",
    "\n",
    "`Q-Learning`中有一个问题被称为`maximization bias`，说的是:\n",
    "\n",
    "1. 对于给定的状态`state`，有多个候选动作`action`，其中真实的$q(s, a)=0$。但是估计的$Q(s, a)$是不确定的，并且会存在一个正向的偏差`positive bias`。\n",
    "2. 最大化真实的`q`值的话，是`0`。但是，最大化$Q(s, a)$会是一个正数，因此会产生一个`positive bias`。\n",
    "\n",
    "解决这个问题的方法就是用两个独立的$Q$函数，一个用来确定最大的动作，一个用来确定最大的q值。并且将这二者交互迭代更新。"
   ]
  },
  {
   "cell_type": "markdown",
   "id": "fafb73e7",
   "metadata": {},
   "source": [
    "## 算法\n",
    "\n",
    "\n"
   ]
  },
  {
   "cell_type": "code",
   "execution_count": null,
   "id": "cd752900",
   "metadata": {},
   "outputs": [],
   "source": []
  },
  {
   "cell_type": "code",
   "execution_count": null,
   "id": "d5c267a2",
   "metadata": {},
   "outputs": [],
   "source": []
  }
 ],
 "metadata": {
  "kernelspec": {
   "display_name": "Python 3 (ipykernel)",
   "language": "python",
   "name": "python3"
  },
  "language_info": {
   "codemirror_mode": {
    "name": "ipython",
    "version": 3
   },
   "file_extension": ".py",
   "mimetype": "text/x-python",
   "name": "python",
   "nbconvert_exporter": "python",
   "pygments_lexer": "ipython3",
   "version": "3.9.4"
  },
  "toc": {
   "base_numbering": 1,
   "nav_menu": {},
   "number_sections": true,
   "sideBar": true,
   "skip_h1_title": false,
   "title_cell": "Table of Contents",
   "title_sidebar": "Contents",
   "toc_cell": false,
   "toc_position": {},
   "toc_section_display": true,
   "toc_window_display": false
  }
 },
 "nbformat": 4,
 "nbformat_minor": 5
}
