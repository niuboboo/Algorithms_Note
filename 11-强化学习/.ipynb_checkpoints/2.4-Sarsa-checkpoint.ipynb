{
 "cells": [
  {
   "cell_type": "markdown",
   "id": "c13c2979",
   "metadata": {},
   "source": [
    "## Sarsa\n",
    "\n",
    "Sarsa是On-Policy的算法，Q-Learning是Off-Policy的算法。\n",
    "\n",
    "Sarsa也是一种时序查分的学习算法，temporal difference learning，不需要等待episode结束再进行学习。\n",
    "\n",
    "是Model Free的一个算法，也就是说不需要知道完整的环境模型，比如不需要知道环境的状态转移概率，这里就与传统的控制算法区分开来了，传统的控制算法可以拿到环境的模型，直接求最优解。也就是说如何处理环境的不确定性，是强化学习智能体需要从数据中学习出来的。\n",
    "\n",
    "Sarsa是一种自举(bootstrapping)的算法，也就是说为了准确的估计一个量，是从另一个估计量来生成的。智能体在学习的过程中是不需要太多的先验知识的，大家都是摸石头过河，因为大家都是估计量。"
   ]
  },
  {
   "cell_type": "markdown",
   "id": "f6c18473",
   "metadata": {},
   "source": [
    "## 算法\n",
    "\n",
    "1. 初始化学习率$\\alpha$\n",
    "2. 初始化$Q(s, a)$, ($Q(s, a)$表示未来的期望收益)。\n",
    "3. 初始化状态$S$\n",
    "4. 基于epsilon greedy策略从Q中选择动作$A(S)$\n",
    "5. 循环Loop\n",
    "    - 采取动作$A$, 获得环境即时奖励$R$，并转移到下一个状态$S^{\\prime}$\n",
    "    - 基于epsilon greedy策略选择下一个状态对应的动作$A^{\\prime}(S^{\\prime})$\n",
    "    - 更新$Q(s, a) = Q(s, a) + \\alpha(R +  \\gamma * Q(s^{\\prime}, a^{\\prime}) - Q(s, a)$)\n",
    "    - 更新状态和动作$S = S^{\\prime}, A = A^{\\prime}$"
   ]
  },
  {
   "cell_type": "markdown",
   "id": "5bfeff43",
   "metadata": {},
   "source": [
    "## 代码"
   ]
  },
  {
   "cell_type": "code",
   "execution_count": 1,
   "id": "b1153ae6",
   "metadata": {},
   "outputs": [],
   "source": [
    "import numpy as np\n",
    "import matplotlib.pyplot as plt\n",
    "import gym"
   ]
  },
  {
   "cell_type": "markdown",
   "id": "356441ce",
   "metadata": {},
   "source": [
    "定义一个函数，用来获取当前状态下，所有的动作价值函数$Q$, 然后来获取对应的动作。"
   ]
  },
  {
   "cell_type": "code",
   "execution_count": 2,
   "id": "c299de04",
   "metadata": {},
   "outputs": [],
   "source": [
    "def maxAction(Q, state):    \n",
    "    values = np.array([Q[state,a] for a in range(2)])\n",
    "    action = np.argmax(values)\n",
    "    return action"
   ]
  },
  {
   "cell_type": "markdown",
   "id": "4ac4b2db",
   "metadata": {},
   "source": [
    "对应的将观测值进行离散化，将其离散化为10个"
   ]
  },
  {
   "cell_type": "code",
   "execution_count": 3,
   "id": "5d8c4fc7",
   "metadata": {},
   "outputs": [],
   "source": [
    "# discretize the space\n",
    "cartPosSpace = np.linspace(-2.4, 2.4, 10)\n",
    "cartVelSpace = np.linspace(-4, 4, 10)\n",
    "poleThetaSpace = np.linspace(-0.20943951, 0.20943951, 10)\n",
    "poleThetaVelSpace = np.linspace(-4, 4, 10)"
   ]
  },
  {
   "cell_type": "markdown",
   "id": "b781d0b0",
   "metadata": {},
   "source": [
    "之后我们还需要一个能够将观测转化成离散量的函数。"
   ]
  },
  {
   "cell_type": "code",
   "execution_count": 4,
   "id": "58bd4be1",
   "metadata": {},
   "outputs": [],
   "source": [
    "def getState(observation):\n",
    "    cartX, cartXdot, cartTheta, cartThetadot = observation\n",
    "    \n",
    "    cartX = int(np.digitize(cartX, cartPosSpace))  # 小车的位置X。\n",
    "    cartXdot = int(np.digitize(cartXdot, cartVelSpace))  # 小车速度\n",
    "    cartTheta = int(np.digitize(cartTheta, poleThetaSpace))  # 摆杆角度\n",
    "    cartThetadot = int(np.digitize(cartThetadot, poleThetaVelSpace))  # 摆杆速度\n",
    "    \n",
    "    return (cartX, cartXdot, cartTheta, cartThetadot)"
   ]
  },
  {
   "cell_type": "code",
   "execution_count": 5,
   "id": "ec00328c",
   "metadata": {},
   "outputs": [
    {
     "name": "stdout",
     "output_type": "stream",
     "text": [
      "starting game 0\n",
      "starting game 5000\n",
      "starting game 10000\n",
      "starting game 15000\n",
      "starting game 20000\n",
      "starting game 25000\n",
      "starting game 30000\n",
      "starting game 35000\n",
      "starting game 40000\n",
      "starting game 45000\n"
     ]
    },
    {
     "data": {
      "image/png": "[encoded data removed]",
      "text/plain": [
       "<Figure size 432x288 with 1 Axes>"
      ]
     },
     "metadata": {
      "needs_background": "light"
     },
     "output_type": "display_data"
    }
   ],
   "source": [
    "if __name__ == \"__main__\":\n",
    "    env = gym.make('CartPole-v0')\n",
    "    # 模型超参数\n",
    "    ALPHA = 0.1\n",
    "    GAMMA = 0.9\n",
    "    EPS = 1.0\n",
    "    \n",
    "    # 构造状态空间, 四层for循环穷举所有的状态空间。\n",
    "    states = []\n",
    "    for i in range(len(cartPosSpace)+1):\n",
    "        for j in range(len(cartVelSpace)+1):\n",
    "            for k in range(len(poleThetaSpace)+1):\n",
    "                for l in range(len(poleThetaVelSpace)+1):\n",
    "                    states.append((i, j, k, l))\n",
    "    \n",
    "    # 初始化所有的Q为0\n",
    "    Q = {}\n",
    "    for s in states:\n",
    "        for a in range(2):  # 动作空间只有两个维度，向左和向右。\n",
    "            Q[s, a] = 0\n",
    "\n",
    "    numGames = 50000\n",
    "    totalRewards = np.zeros(numGames)\n",
    "    for i in range(numGames):\n",
    "        if i % 5000 == 0:\n",
    "            print(\"starting game {}\".format(i))\n",
    "        # 获取观测：小车的位置X，小车速度，摆杆角度，摆杆速度\n",
    "        observation = env.reset()\n",
    "        s = getState(observation)\n",
    "        rand = np.random.random()\n",
    "        a = maxAction(Q, s) if rand < (1-EPS) else env.action_space.sample()\n",
    "        done = False\n",
    "        epRewards = 0\n",
    "\n",
    "        while not done:\n",
    "            observation_, reward, done, info = env.step(a)\n",
    "            s_ = getState(observation_)\n",
    "            rand = np.random.random()\n",
    "            a_ = maxAction(Q, s_) if rand < (1-EPS) else env.action_space.sample()\n",
    "            epRewards += reward\n",
    "            Q[s,a] = Q[s,a] + ALPHA*(reward + GAMMA*Q[s_, a_] - Q[s, a])\n",
    "            s, a = s_, a_\n",
    "\n",
    "        EPS -= 2/(numGames) if EPS > 0 else 0\n",
    "        totalRewards[i] = epRewards\n",
    "        \n",
    "    \n",
    "    plt.plot(totalRewards, 'b--')\n",
    "    plt.show() "
   ]
  },
  {
   "cell_type": "code",
   "execution_count": null,
   "id": "83686136",
   "metadata": {},
   "outputs": [],
   "source": []
  }
 ],
 "metadata": {
  "kernelspec": {
   "display_name": "Python 3 (ipykernel)",
   "language": "python",
   "name": "python3"
  },
  "language_info": {
   "codemirror_mode": {
    "name": "ipython",
    "version": 3
   },
   "file_extension": ".py",
   "mimetype": "text/x-python",
   "name": "python",
   "nbconvert_exporter": "python",
   "pygments_lexer": "ipython3",
   "version": "3.9.4"
  },
  "toc": {
   "base_numbering": 1,
   "nav_menu": {},
   "number_sections": true,
   "sideBar": true,
   "skip_h1_title": false,
   "title_cell": "Table of Contents",
   "title_sidebar": "Contents",
   "toc_cell": false,
   "toc_position": {},
   "toc_section_display": true,
   "toc_window_display": true
  }
 },
 "nbformat": 4,
 "nbformat_minor": 5
}
