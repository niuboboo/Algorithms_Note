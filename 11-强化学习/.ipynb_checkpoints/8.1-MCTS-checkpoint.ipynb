{
 "cells": [
  {
   "cell_type": "markdown",
   "id": "28138b5f",
   "metadata": {},
   "source": [
    "## Monte Carlo\n",
    "\n",
    "蒙特卡洛方法是用一些随机数来解决复杂问题的一种方法。"
   ]
  },
  {
   "cell_type": "markdown",
   "id": "7de1ae14",
   "metadata": {},
   "source": [
    "### 蒙特卡洛方法求抛硬币概率"
   ]
  },
  {
   "cell_type": "code",
   "execution_count": null,
   "id": "d782cd02",
   "metadata": {},
   "outputs": [],
   "source": [
    "import math\n",
    "import random\n",
    "import numpy as np\n",
    "import matplotlib.pyplot as plt"
   ]
  },
  {
   "cell_type": "code",
   "execution_count": null,
   "id": "66fe9b7e",
   "metadata": {},
   "outputs": [],
   "source": [
    "def coin_flip():\n",
    "    \"\"\"生成硬币正反两面\"\"\"\n",
    "    return random.randint(0, 1)"
   ]
  },
  {
   "cell_type": "code",
   "execution_count": null,
   "id": "b4a15117",
   "metadata": {},
   "outputs": [],
   "source": [
    "list1 = []\n",
    "def monte_carlo(n):\n",
    "    results = 0\n",
    "    for i in range(n):\n",
    "        flip_result = coin_flip()\n",
    "        results += flip_result\n",
    "        \n",
    "        prob_value = results / (i + 1)  # 计算概率\n",
    "        list1.append(prob_value)\n",
    "        \n",
    "    plt.axhline(y=0.5, color='r', linestyle='-')\n",
    "    plt.xlabel(\"Iterations\")\n",
    "    plt.ylabel(\"probability\")\n",
    "    plt.plot(list1)\n",
    "    \n",
    "    return results / n"
   ]
  },
  {
   "cell_type": "code",
   "execution_count": null,
   "id": "c31440a8",
   "metadata": {},
   "outputs": [],
   "source": [
    "answer = monte_carlo(5000)\n",
    "print(\"final value is {}\".format(answer))"
   ]
  },
  {
   "cell_type": "markdown",
   "id": "bd857c60",
   "metadata": {},
   "source": [
    "### 估计Pi值\n",
    "\n",
    "在一个正方形内的内切圆，其正方形面积与圆形面积比例为:\n",
    "\n",
    "$$\n",
    "\\frac{Area \\ of \\ square}{Area \\ of \\ circlr} = \\frac{(2r)^{2}}{\\pi r^{2}} = \\frac{4}{\\pi}\n",
    "$$"
   ]
  },
  {
   "cell_type": "code",
   "execution_count": null,
   "id": "b7ca88e3",
   "metadata": {},
   "outputs": [],
   "source": [
    "in_circle = 0 # 记录在圆内的点\n",
    "out_circle = 0 # 记录在圆外的点\n",
    "pi_values = []  # 记录pi值"
   ]
  },
  {
   "cell_type": "code",
   "execution_count": null,
   "id": "84b39023",
   "metadata": {},
   "outputs": [],
   "source": [
    "for i in range(5):\n",
    "    for j in range(1000):\n",
    "        x = random.randrange(-100, 100)\n",
    "        y = random.randrange(-100, 100)\n",
    "        \n",
    "        if (x**2 + y**2 > 100**2):\n",
    "            out_circle += 1\n",
    "        else:\n",
    "            in_circle += 1\n",
    "        \n",
    "        pi = 4 * in_circle / (in_circle + out_circle)\n",
    "        pi_values.append(pi)\n",
    "        \n",
    "print(pi_values[-1])\n",
    "\n",
    "plt.axhline(y=math.pi, color='g', linestyle='-')\n",
    "plt.plot(pi_values)\n",
    "plt.xlabel('Iterations')\n",
    "plt.xlabel(\"Value of PI\")\n",
    "plt.show()"
   ]
  },
  {
   "cell_type": "markdown",
   "id": "bc2f1e40",
   "metadata": {},
   "source": [
    "## Monte Carlo Tree Search\n",
    "\n",
    "传统强化学习没有用MCTS遇到一些困难，加上MCTS之后就可以解决强化学习中的一一些困难。\n",
    "\n",
    "如果是用Q-Value来做围棋，其状态空间太大，而MCTS是Tree Strategy加上rollout strategy，随机采样一些样本来作为其值。\n",
    "\n",
    "蒙特卡洛树有四步:\n",
    "\n",
    "1. Tree Traversal\n",
    "\n",
    "2. Node expansion\n",
    "\n",
    "3. Rollout (Random Simulation)\n",
    "\n",
    "4. Backpropagation\n",
    "\n",
    "<img src=\"../images/MCTS.png\" width=\"100%\">"
   ]
  },
  {
   "cell_type": "markdown",
   "id": "9ed859eb",
   "metadata": {},
   "source": [
    "可以看到孩子节点的分子和等于父亲节点的分子和，对于分母也一样。"
   ]
  },
  {
   "cell_type": "markdown",
   "id": "75fc3e5e",
   "metadata": {},
   "source": [
    "## Tictactoe"
   ]
  },
  {
   "cell_type": "code",
   "execution_count": 1,
   "id": "e7dd1c22",
   "metadata": {},
   "outputs": [],
   "source": [
    "from copy import deepcopy"
   ]
  },
  {
   "cell_type": "code",
   "execution_count": 18,
   "id": "3c363a6b",
   "metadata": {},
   "outputs": [],
   "source": [
    "#\n",
    "# AI that learns to play Tic Tac Toe using\n",
    "#        reinforcement learning\n",
    "#                (MCTS)\n",
    "#\n",
    "\n",
    "# packages\n",
    "from copy import deepcopy\n",
    "\n",
    "# Tic Tac Toe board class\n",
    "class Board():\n",
    "    # create constructor (init board class instance)\n",
    "    def __init__(self, board=None):\n",
    "        # define players\n",
    "        self.player_1 = 'x'\n",
    "        self.player_2 = 'o'\n",
    "        self.empty_square = '.'\n",
    "        \n",
    "        # define board position\n",
    "        self.position = {}\n",
    "        \n",
    "        # init (reset) board\n",
    "        self.init_board()\n",
    "        \n",
    "        # create a copy of a previous board state if available\n",
    "        if board is not None:\n",
    "            self.__dict__ = deepcopy(board.__dict__)\n",
    "    \n",
    "    # init (reset) board\n",
    "    def init_board(self):\n",
    "        # loop over board rows\n",
    "        for row in range(3):\n",
    "            # loop over board columns\n",
    "            for col in range(3):\n",
    "                # set every board square to empty square\n",
    "                self.position[row, col] = self.empty_square\n",
    "    \n",
    "    # make move\n",
    "    def make_move(self, row, col):\n",
    "        # create new board instance\n",
    "        # board = Board(self)\n",
    "        \n",
    "        # make move\n",
    "        board.position[row, col] = self.player_1\n",
    "        \n",
    "        # swap players\n",
    "        (board.player_1, board.player_2) = (board.player_2, board.player_1)\n",
    "    \n",
    "        # return new board state\n",
    "        return board\n",
    "        \n",
    "    # print board state\n",
    "    def __str__(self):\n",
    "        # define board string representation\n",
    "        board_string = ''\n",
    "        \n",
    "        # loop over board rows\n",
    "        for row in range(3):\n",
    "            # loop over board columns\n",
    "            for col in range(3):\n",
    "                board_string += ' %s' % self.position[row, col]\n",
    "            \n",
    "            # print new line every row\n",
    "            board_string += '\\n'\n",
    "        \n",
    "        # prepend side to move\n",
    "        if self.player_1 == 'x':\n",
    "            board_string = '\\n--------------\\n \"x\" to move:\\n--------------\\n\\n' + board_string\n",
    "        \n",
    "        elif self.player_1 == 'o':\n",
    "            board_string = '\\n--------------\\n \"o\" to move:\\n--------------\\n\\n' + board_string\n",
    "                        \n",
    "        # return board string\n",
    "        return board_string"
   ]
  },
  {
   "cell_type": "code",
   "execution_count": 19,
   "id": "93a5110c",
   "metadata": {},
   "outputs": [
    {
     "name": "stdout",
     "output_type": "stream",
     "text": [
      "\n",
      "--------------\n",
      " \"x\" to move:\n",
      "--------------\n",
      "\n",
      " . . .\n",
      " . . .\n",
      " . . .\n",
      "\n",
      "\n",
      "--------------\n",
      " \"o\" to move:\n",
      "--------------\n",
      "\n",
      " x . .\n",
      " . . .\n",
      " . . .\n",
      "\n",
      "\n",
      "--------------\n",
      " \"o\" to move:\n",
      "--------------\n",
      "\n",
      " x . .\n",
      " . . .\n",
      " . . x\n",
      "\n",
      "\n",
      "--------------\n",
      " \"o\" to move:\n",
      "--------------\n",
      "\n",
      " x . .\n",
      " . . .\n",
      " . . x\n",
      "\n"
     ]
    }
   ],
   "source": [
    "board = Board()\n",
    "print(board)\n",
    "\n",
    "board.make_move(0, 0)\n",
    "print(board)\n",
    "\n",
    "board.position[2,2] = 'x'\n",
    "print(board)\n",
    "\n",
    "board_1 = Board(board)\n",
    "print(board_1)"
   ]
  },
  {
   "cell_type": "code",
   "execution_count": null,
   "id": "090e3f60",
   "metadata": {},
   "outputs": [],
   "source": []
  },
  {
   "cell_type": "code",
   "execution_count": null,
   "id": "78b5d95c",
   "metadata": {},
   "outputs": [],
   "source": []
  }
 ],
 "metadata": {
  "kernelspec": {
   "display_name": "Python 3 (ipykernel)",
   "language": "python",
   "name": "python3"
  },
  "language_info": {
   "codemirror_mode": {
    "name": "ipython",
    "version": 3
   },
   "file_extension": ".py",
   "mimetype": "text/x-python",
   "name": "python",
   "nbconvert_exporter": "python",
   "pygments_lexer": "ipython3",
   "version": "3.9.4"
  },
  "toc": {
   "base_numbering": 1,
   "nav_menu": {},
   "number_sections": true,
   "sideBar": true,
   "skip_h1_title": false,
   "title_cell": "Table of Contents",
   "title_sidebar": "Contents",
   "toc_cell": false,
   "toc_position": {},
   "toc_section_display": true,
   "toc_window_display": true
  }
 },
 "nbformat": 4,
 "nbformat_minor": 5
}
