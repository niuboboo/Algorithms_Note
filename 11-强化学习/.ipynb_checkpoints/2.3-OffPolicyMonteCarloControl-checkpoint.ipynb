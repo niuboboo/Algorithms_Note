{
 "cells": [
  {
   "cell_type": "markdown",
   "id": "2f4d95d8",
   "metadata": {},
   "source": [
    "## 21点游戏规则\n",
    "\n",
    "游戏有两方，玩家(player)和庄家(dealer)，玩家和庄家各发两张牌，一张明牌，一张暗地牌。\n",
    "\n",
    "玩家和庄家需要决定加牌，或者停止加牌，新加的牌均为暗牌，对方看不到，最后需要去比较两个玩家的牌面和，更接近`21`点的玩家获胜， 但是不能超过21点。\n",
    "\n",
    "\n",
    "\n",
    "- Gym的官方源码地址为: https://github.com/openai/gym/blob/master/gym/envs/toy_text/blackjack.py\n",
    "\n",
    "\n",
    "1. 花牌(Jack Queen, King)的点数当作为10。\n",
    "2. `Ace`牌是一个变化因素，既可以作为`11`也可以作为`1`来计算。\n",
    "3. 数值牌(2-9)的点数就是其本身。\n",
    "\n",
    "因此，整个牌面被设置为:\n",
    "\n",
    "```python\n",
    "# 1 = Ace, 2-10 = Number cards, Jack/Queen/King = 10\n",
    "deck = [1, 2, 3, 4, 5, 6, 7, 8, 9, 10, 10, 10, 10]\n",
    "```"
   ]
  },
  {
   "cell_type": "markdown",
   "id": "19e07419",
   "metadata": {},
   "source": [
    "- https://blog.csdn.net/qq_36795658/article/details/100533639\n",
    "- https://www.freesion.com/article/5801254343/"
   ]
  },
  {
   "cell_type": "markdown",
   "id": "7f1af5fe",
   "metadata": {},
   "source": [
    "## Off-Policy\n",
    "\n",
    "在Off-Policy中，一个Policy用于执行动作，另外一个Policy用于估计"
   ]
  },
  {
   "cell_type": "markdown",
   "id": "3afb7331",
   "metadata": {},
   "source": [
    "## 环境理解"
   ]
  },
  {
   "cell_type": "code",
   "execution_count": 1,
   "id": "aac5f601",
   "metadata": {},
   "outputs": [],
   "source": [
    "import gym\n",
    "import numpy as np\n",
    "import matplotlib.pyplot as plt\n",
    "env = gym.make(\"Blackjack-v0\")"
   ]
  },
  {
   "cell_type": "markdown",
   "id": "56bf28bb",
   "metadata": {},
   "source": [
    "### 状态空间\n",
    "\n",
    "状态空间是一个离散的变量，包含以下三个元素:\n",
    "\n",
    "1. 玩家当前的点数之和，其值属于$1, \\cdots, 31$。\n",
    "2. 庄家朝上的牌的点数之和，其值属于$1, \\cdots, 10$。\n",
    "3. 玩家是否有能够使用的王牌：(No = 0, Yes = 1)。\n",
    "\n",
    "其gym中的源码定义如下:\n",
    "\n",
    "```python\n",
    "self.observation_space = spaces.Tuple((spaces.Discrete(32), spaces.Discrete(11), spaces.Discrete(2)))\n",
    "```"
   ]
  },
  {
   "cell_type": "code",
   "execution_count": 2,
   "id": "ef2b9229",
   "metadata": {},
   "outputs": [
    {
     "data": {
      "text/plain": [
       "Tuple(Discrete(32), Discrete(11), Discrete(2))"
      ]
     },
     "execution_count": 2,
     "metadata": {},
     "output_type": "execute_result"
    }
   ],
   "source": [
    "env.observation_space"
   ]
  },
  {
   "cell_type": "markdown",
   "id": "66109f18",
   "metadata": {},
   "source": [
    "### 动作空间\n",
    "\n",
    "在这个环境中，有两种action。\n",
    "\n",
    "1. request additional cards (hit = 1) 1表示要牌。\n",
    "2. stop (stick = 0), 0表示不要牌。\n",
    "\n",
    "在这个环境中，reward定义如下:\n",
    "\n",
    "1. 获得胜利，reward = 1。\n",
    "2. 平局，reward = 0。\n",
    "3. 输掉比赛(或是超过21点), reward = -1。"
   ]
  },
  {
   "cell_type": "code",
   "execution_count": 3,
   "id": "de688023",
   "metadata": {},
   "outputs": [
    {
     "data": {
      "text/plain": [
       "Discrete(2)"
      ]
     },
     "execution_count": 3,
     "metadata": {},
     "output_type": "execute_result"
    }
   ],
   "source": [
    "env.action_space"
   ]
  },
  {
   "cell_type": "markdown",
   "id": "abb4ddf7",
   "metadata": {},
   "source": [
    "### 测试环境"
   ]
  },
  {
   "cell_type": "markdown",
   "id": "481fe037",
   "metadata": {},
   "source": [
    "\n"
   ]
  },
  {
   "cell_type": "code",
   "execution_count": 4,
   "id": "bffbad4f",
   "metadata": {},
   "outputs": [
    {
     "name": "stdout",
     "output_type": "stream",
     "text": [
      "observation:  (22, 9, False)\n",
      "observation:  (25, 4, False)\n",
      "observation:  (15, 4, False)\n",
      "observation:  (9, 7, False)\n",
      "observation:  (14, 10, False)\n",
      "observation:  (14, 10, False)\n",
      "observation:  (18, 5, True)\n",
      "observation:  (18, 5, True)\n",
      "observation:  (21, 9, True)\n",
      "observation:  (19, 10, True)\n"
     ]
    }
   ],
   "source": [
    "observation = env.reset()\n",
    "for _ in range(10):\n",
    "    # env.render()\n",
    "    action = env.action_space.sample()\n",
    "    observation, reward, done, info = env.step(action)\n",
    "    print(\"observation: \", observation)\n",
    "    if done:\n",
    "        observation = env.reset()\n",
    "env.close()"
   ]
  },
  {
   "cell_type": "markdown",
   "id": "bb6c14f9",
   "metadata": {},
   "source": [
    "## 训练主逻辑"
   ]
  },
  {
   "cell_type": "markdown",
   "id": "5c3af4ec",
   "metadata": {},
   "source": [
    "### 定义智能体状态空间\n",
    "\n",
    "状态是包含玩家的点数和\n",
    "\n",
    "1. 智能体的牌数总和状态空间agentSumSpace为4-21, 因为A是可以当作1的，所以最小的就是两张2, 并且超过21点的话，游戏就会结束。\n",
    "2. 一张明牌dealerShowCardSpace的大小为1-10。\n",
    "3. 智能体的AceSpace空间为两个维度，是否将其作为11。\n",
    "4. 动作空间actionSpace表示是否要牌。\n",
    "\n",
    "之后遍历`agentSumSpace`，`dealerShowCardSpace`和`agentAceSpace`，我们就可以获得状态`(total, card, ace)`，对应的`Q`即为`Q[((total, card, ace), action)]`。"
   ]
  },
  {
   "cell_type": "code",
   "execution_count": 5,
   "id": "f3e3c666",
   "metadata": {},
   "outputs": [],
   "source": [
    "\n",
    "agentSumSpace = [i for i in range(4, 22)]\n",
    "dealerShowCardSpace = [i+1 for i in range(10)]\n",
    "agentAceSpace = [False, True]\n",
    "actionSpace = [0, 1]"
   ]
  },
  {
   "cell_type": "markdown",
   "id": "71a023db",
   "metadata": {},
   "source": [
    "### 初始化Q和状态空间\n",
    "\n",
    "初始化Q函数，穷举所有的状态空间，初始化期望，初始化sa的访问次数。"
   ]
  },
  {
   "cell_type": "code",
   "execution_count": 6,
   "id": "157d6d7e",
   "metadata": {},
   "outputs": [],
   "source": [
    "Q = {}  # 初始化Q函数，用于估计某个状态下采取某个动作的未来期望收益。\n",
    "stateSpace = []\n",
    "returns = {}\n",
    "pairsVisited = {}\n",
    "for total in agentSumSpace:\n",
    "    for card in dealerShowCardSpace:\n",
    "        for ace in agentAceSpace:\n",
    "            for action in actionSpace:\n",
    "                Q[((total, card, ace), action)] = 0 # 初始化Q值。\n",
    "                returns[((total, card, ace), action)] = 0 # 初始化回报奖励。\n",
    "                pairsVisited[((total, card, ace), action)] = 0 # 初始化访问的s，a次数。\n",
    "            stateSpace.append((total, card, ace)) # 穷举所有的状态空间"
   ]
  },
  {
   "cell_type": "markdown",
   "id": "5b8ea982",
   "metadata": {},
   "source": [
    "### 初始化策略\n",
    "\n",
    "初始化一个随机的策略。"
   ]
  },
  {
   "cell_type": "code",
   "execution_count": 7,
   "id": "f55073fe",
   "metadata": {},
   "outputs": [],
   "source": [
    "policy = {}\n",
    "for state in stateSpace:\n",
    "    policy[state] = np.random.choice(actionSpace) # MC策略是对于每个状态随机选择动作。"
   ]
  },
  {
   "cell_type": "code",
   "execution_count": 8,
   "id": "3c9ecc99",
   "metadata": {},
   "outputs": [
    {
     "name": "stdout",
     "output_type": "stream",
     "text": [
      "starting episode 0\n",
      "starting episode 100000\n",
      "starting episode 200000\n",
      "starting episode 300000\n",
      "starting episode 400000\n",
      "starting episode 500000\n",
      "starting episode 600000\n",
      "starting episode 700000\n",
      "starting episode 800000\n",
      "starting episode 900000\n",
      "Getting Ready To Test Policy\n",
      "win rate 0.409 loss rate 0.501 draw rate 0.09\n"
     ]
    },
    {
     "data": {
      "image/png": "[encoded data removed]",
      "text/plain": [
       "<Figure size 432x288 with 1 Axes>"
      ]
     },
     "metadata": {
      "needs_background": "light"
     },
     "output_type": "display_data"
    }
   ],
   "source": [
    "if __name__ == \"__main__\":\n",
    "    env = gym.make('Blackjack-v0')\n",
    "    EPS = 0.05\n",
    "    GAMMA = 1.0\n",
    "\n",
    "    numEpisodes = 1000000 # 回合总数\n",
    "    for i in range(numEpisodes):\n",
    "        statesActionsReturns = [] # 用于记录每个状态动作对应的回报收益。\n",
    "        memory = []\n",
    "        if i % 100000 == 0:\n",
    "            print(\"starting episode\", i)\n",
    "        \n",
    "        observation = env.reset()\n",
    "        done = False\n",
    "        while not done:\n",
    "            action = policy[observation] # 基于策略选择动作。\n",
    "            observation_, reward, done, info = env.step(action)\n",
    "            memory.append((observation[0], observation[1], observation[2], action, reward))\n",
    "            observation = observation_\n",
    "        memory.append((observation[0], observation[1], observation[2], action, reward)) # 添加最后一个状态，之后会丢弃\n",
    "        \n",
    "        G = 0 # 计算期望回报\n",
    "        last = True\n",
    "        for playerSum, dealerCard, usableAce, action, reward in reversed(memory):\n",
    "            if last:\n",
    "                last = False\n",
    "            else:\n",
    "                statesActionsReturns.append((playerSum, dealerCard, usableAce, action, G))\n",
    "            G = GAMMA*G + reward\n",
    "        \n",
    "        statesActionsReturns.reverse() # 将状态动作的期望回报数组正序。\n",
    "        \n",
    "        # 更新策略\n",
    "        statesActionsVisited = [] # 记录状态动作的访问次数\n",
    "        for playerSum, dealerCard, usableAce, action, G in statesActionsReturns:\n",
    "            sa = ((playerSum, dealerCard, usableAce), action)\n",
    "            if sa not in statesActionsVisited: # 首次访问进入循环\n",
    "                pairsVisited[sa] += 1\n",
    "                # incremental implementation\n",
    "                # new estimate = 1 / N * [sample - old estimate]\n",
    "                returns[(sa)] += (1 / pairsVisited[(sa)]) * (G - returns[(sa)])\n",
    "                Q[sa] = returns[sa]\n",
    "                rand = np.random.random()\n",
    "                if rand < 1 - EPS:\n",
    "                    state = (playerSum, dealerCard, usableAce)\n",
    "                    values = np.array([Q[(state, a)] for a in actionSpace])\n",
    "                    best = np.random.choice(np.where(values == values.max())[0])\n",
    "                    policy[state] = actionSpace[best]\n",
    "                else:\n",
    "                    policy[state] = np.random.choice(actionSpace)\n",
    "                statesActionsVisited.append(sa)\n",
    "                \n",
    "            if EPS - 1e-7 > 0: # 贪婪策略的贪婪因子递减。\n",
    "                EPS -= 1e-7\n",
    "            else:\n",
    "                EPS\n",
    "    # 测试\n",
    "    numEpisodes = 1000\n",
    "    rewards = np.zeros(numEpisodes)\n",
    "    totalReward = 0\n",
    "    wins = 0\n",
    "    losses = 0\n",
    "    draws = 0\n",
    "    print(\"Getting Ready To Test Policy\")\n",
    "    for i in range(numEpisodes):\n",
    "        observation = env.reset()\n",
    "        done = False\n",
    "        while not done:\n",
    "            action = policy[observation]\n",
    "            observation_, reward, done, info = env.step(action)\n",
    "            observation = observation_\n",
    "        totalReward += reward\n",
    "        rewards[i] = totalReward\n",
    "\n",
    "        if reward >= 1:\n",
    "            wins += 1\n",
    "        elif reward == 0:\n",
    "            draws += 1\n",
    "        elif reward == -1:\n",
    "            losses += 1\n",
    "\n",
    "    wins /= numEpisodes\n",
    "    losses /= numEpisodes\n",
    "    draws /= numEpisodes\n",
    "    print('win rate', wins, 'loss rate', losses, 'draw rate', draws)\n",
    "    plt.plot(rewards)\n",
    "    plt.show() "
   ]
  },
  {
   "cell_type": "code",
   "execution_count": null,
   "id": "28945eaa",
   "metadata": {},
   "outputs": [],
   "source": []
  }
 ],
 "metadata": {
  "kernelspec": {
   "display_name": "Python 3 (ipykernel)",
   "language": "python",
   "name": "python3"
  },
  "language_info": {
   "codemirror_mode": {
    "name": "ipython",
    "version": 3
   },
   "file_extension": ".py",
   "mimetype": "text/x-python",
   "name": "python",
   "nbconvert_exporter": "python",
   "pygments_lexer": "ipython3",
   "version": "3.9.4"
  },
  "toc": {
   "base_numbering": 1,
   "nav_menu": {},
   "number_sections": true,
   "sideBar": true,
   "skip_h1_title": false,
   "title_cell": "Table of Contents",
   "title_sidebar": "Contents",
   "toc_cell": false,
   "toc_position": {},
   "toc_section_display": true,
   "toc_window_display": true
  }
 },
 "nbformat": 4,
 "nbformat_minor": 5
}
