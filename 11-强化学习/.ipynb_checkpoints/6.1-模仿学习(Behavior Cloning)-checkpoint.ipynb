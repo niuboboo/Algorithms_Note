{
 "cells": [
  {
   "cell_type": "markdown",
   "id": "e6771fdb",
   "metadata": {},
   "source": [
    "## 模仿学习"
   ]
  },
  {
   "cell_type": "markdown",
   "id": "435b667d",
   "metadata": {},
   "source": [
    "## 代码实现"
   ]
  },
  {
   "cell_type": "code",
   "execution_count": 1,
   "id": "5c374638",
   "metadata": {},
   "outputs": [],
   "source": [
    "import torchvision\n",
    "import numpy as np \n",
    "import gym\n",
    "import torch\n",
    "import torch.nn as nn\n",
    "import torch.functional as F\n",
    "from matplotlib import pyplot as plt\n",
    "from IPython import display\n",
    "from matplotlib import style"
   ]
  },
  {
   "cell_type": "markdown",
   "id": "c224f422",
   "metadata": {},
   "source": [
    "&emsp;&emsp;初始化环境"
   ]
  },
  {
   "cell_type": "code",
   "execution_count": 2,
   "id": "121903df",
   "metadata": {},
   "outputs": [
    {
     "name": "stdout",
     "output_type": "stream",
     "text": [
      "device cpu\n"
     ]
    }
   ],
   "source": [
    "env_name = \"Pendulum-v0\"\n",
    "env = gym.make(env_name)\n",
    "action_space_size = env.action_space.shape[0] # 动作空间大小\n",
    "state_space_size  = env.observation_space.shape[0] # 状态空间大小\n",
    "device = torch.device(\"cuda:0\" if torch.cuda.is_available() else \"cpu\") # 获取设备型号\n",
    "print(\"action_space_size\", action_space_size)\n",
    "print(\"state_space_size\", state_space_size)\n",
    "print(\"device\", device)"
   ]
  },
  {
   "cell_type": "markdown",
   "id": "c04c3430",
   "metadata": {},
   "source": [
    "&emsp;&emsp;加载专家数据"
   ]
  },
  {
   "cell_type": "code",
   "execution_count": 3,
   "id": "96b9273b",
   "metadata": {},
   "outputs": [
    {
     "name": "stdout",
     "output_type": "stream",
     "text": [
      "expert_states torch.Size([500, 200, 3])\n",
      "expert_actions torch.Size([500, 200, 1])\n"
     ]
    }
   ],
   "source": [
    "# Load Expert data (states and actions for BC, States only for BCO)\n",
    "expert_states  = torch.tensor(np.load(\"states_expert_Pendulum.npy\"), dtype=torch.float)\n",
    "expert_actions = torch.tensor(np.load(\"actions_expert_Pendulum.npy\"), dtype=torch.float)\n",
    "print(\"expert_states\", expert_states.shape)\n",
    "print(\"expert_actions\", expert_actions.shape)"
   ]
  },
  {
   "cell_type": "markdown",
   "id": "8553fe4a",
   "metadata": {},
   "source": [
    "&emsp;&emsp;数据预处理, 选择需要多少个`data`来组建状态:"
   ]
  },
  {
   "cell_type": "code",
   "execution_count": 4,
   "id": "e84f159c",
   "metadata": {},
   "outputs": [],
   "source": [
    "def to_input (states, actions,  n=2, compare=1):\n",
    "    '''\n",
    "    Data preperpation and filtering \n",
    "    Inputs:\n",
    "    states: expert states as tensor\n",
    "    actions: actions states as tensor\n",
    "    n: window size (how many states needed to predict the next action)\n",
    "    compare: for filtering data \n",
    "    return:\n",
    "    output_states: filtered states as tensor \n",
    "    output_actions: filtered actions as tensor \n",
    "    '''\n",
    "    count=0\n",
    "    index= []\n",
    "    ep, t, state_size = states.shape\n",
    "    _, _, action_size = actions.shape\n",
    "    \n",
    "    output_states = torch.zeros((ep*(t-n+1) , state_size*n), dtype = torch.float)\n",
    "    output_actions = torch.zeros((ep*(t-n+1) , action_size), dtype = torch.float)\n",
    "    \n",
    "    for i in range (ep):\n",
    "        for j in range (t-n+1):\n",
    "            if (states[i, j] == -compare*torch.ones(state_size)).all() or (states[i, j+1] == -compare*torch.ones(state_size)).all():\n",
    "                index.append([i,j])\n",
    "            else:\n",
    "                output_states[count] = states[i, j:j+n].view(-1)\n",
    "                output_actions[count] = actions[i,j]\n",
    "                count+=1\n",
    "    output_states= output_states[:count]\n",
    "    output_actions= output_actions[:count]\n",
    "    \n",
    "    return output_states, output_actions"
   ]
  },
  {
   "cell_type": "code",
   "execution_count": 5,
   "id": "0c5d4300",
   "metadata": {},
   "outputs": [
    {
     "name": "stdout",
     "output_type": "stream",
     "text": [
      "442\n",
      "expert_state torch.Size([9950, 6])\n",
      "expert_action torch.Size([9950, 1])\n"
     ]
    }
   ],
   "source": [
    "# selecting number expert trajectories from expert data\n",
    "number_expert_trajectories = 50\n",
    "a= np.random.randint(expert_states.shape[0] - number_expert_trajectories)\n",
    "print(a)\n",
    "expert_state, expert_action = to_input (expert_states[a : a+number_expert_trajectories], expert_actions[a : a+number_expert_trajectories], n=2,  compare=5)\n",
    "print(\"expert_state\", expert_state.shape)\n",
    "print(\"expert_action\", expert_action.shape)"
   ]
  },
  {
   "cell_type": "markdown",
   "id": "91fec857",
   "metadata": {},
   "source": [
    "## BC"
   ]
  },
  {
   "cell_type": "code",
   "execution_count": 6,
   "id": "eda4f2a8",
   "metadata": {},
   "outputs": [
    {
     "name": "stdout",
     "output_type": "stream",
     "text": [
      "training_set torch.Size([6965, 4])\n",
      "testing_set torch.Size([2985, 4])\n"
     ]
    }
   ],
   "source": [
    "# concatenate expert states and actions, divided into 70% training and 30% testing\n",
    "\n",
    "new_data = np.concatenate((expert_state[:,: state_space_size], expert_action), axis=1)\n",
    "np.random.shuffle(new_data)\n",
    "new_data = torch.tensor(new_data, dtype=torch.float)\n",
    "n_samples = int(new_data.shape[0]*0.7)\n",
    "training_set = new_data[:n_samples]\n",
    "testing_set = new_data[n_samples:]\n",
    "print(\"training_set\", training_set.shape)\n",
    "print(\"testing_set\", testing_set.shape)"
   ]
  },
  {
   "cell_type": "code",
   "execution_count": 7,
   "id": "ede69675",
   "metadata": {},
   "outputs": [],
   "source": [
    "# Network arch Behavioral Cloning , loss function and optimizer\n",
    "bc_pendulum =  nn.Sequential(\n",
    "    nn.Linear(state_space_size,40),\n",
    "    nn.ReLU(),\n",
    "    \n",
    "    nn.Linear(40,80),\n",
    "    nn.ReLU(),\n",
    "    \n",
    "    nn.Linear(80,120),\n",
    "    nn.ReLU(),\n",
    "    \n",
    "    nn.Linear(120,100),\n",
    "    nn.ReLU(),\n",
    "    \n",
    "    nn.Linear(100,40),\n",
    "    nn.ReLU(),\n",
    "    \n",
    "    nn.Linear(40,20),\n",
    "    nn.ReLU(),\n",
    "    \n",
    "    \n",
    "    nn.Linear(20,action_space_size),\n",
    ")\n",
    "criterion = nn.MSELoss()\n",
    "learning_rate = 0.01\n",
    "optimizer = torch.optim.Adam(bc_pendulum.parameters(), lr = learning_rate)"
   ]
  },
  {
   "cell_type": "code",
   "execution_count": 18,
   "id": "527a07b7",
   "metadata": {},
   "outputs": [
    {
     "name": "stdout",
     "output_type": "stream",
     "text": [
      "torch.Size([256, 1])\n",
      "torch.Size([256, 1])\n",
      "torch.Size([256, 1])\n",
      "torch.Size([256, 1])\n",
      "torch.Size([256, 1])\n",
      "torch.Size([256, 1])\n",
      "torch.Size([256, 1])\n",
      "torch.Size([256, 1])\n",
      "torch.Size([256, 1])\n",
      "torch.Size([256, 1])\n",
      "torch.Size([256, 1])\n",
      "torch.Size([256, 1])\n",
      "torch.Size([256, 1])\n",
      "torch.Size([256, 1])\n",
      "torch.Size([256, 1])\n",
      "torch.Size([256, 1])\n"
     ]
    },
    {
     "ename": "KeyboardInterrupt",
     "evalue": "",
     "output_type": "error",
     "traceback": [
      "\u001b[0;31m---------------------------------------------------------------------------\u001b[0m",
      "\u001b[0;31mKeyboardInterrupt\u001b[0m                         Traceback (most recent call last)",
      "\u001b[0;32m<ipython-input-18-499e21be2be1>\u001b[0m in \u001b[0;36m<module>\u001b[0;34m\u001b[0m\n\u001b[1;32m     18\u001b[0m         \u001b[0mtotal_loss\u001b[0m \u001b[0;34m+=\u001b[0m \u001b[0mloss\u001b[0m\u001b[0;34m.\u001b[0m\u001b[0mitem\u001b[0m\u001b[0;34m(\u001b[0m\u001b[0;34m)\u001b[0m\u001b[0;34m\u001b[0m\u001b[0;34m\u001b[0m\u001b[0m\n\u001b[1;32m     19\u001b[0m         \u001b[0moptimizer\u001b[0m\u001b[0;34m.\u001b[0m\u001b[0mzero_grad\u001b[0m\u001b[0;34m(\u001b[0m\u001b[0;34m)\u001b[0m\u001b[0;34m\u001b[0m\u001b[0;34m\u001b[0m\u001b[0m\n\u001b[0;32m---> 20\u001b[0;31m         \u001b[0mloss\u001b[0m\u001b[0;34m.\u001b[0m\u001b[0mbackward\u001b[0m\u001b[0;34m(\u001b[0m\u001b[0;34m)\u001b[0m\u001b[0;34m\u001b[0m\u001b[0;34m\u001b[0m\u001b[0m\n\u001b[0m\u001b[1;32m     21\u001b[0m         \u001b[0moptimizer\u001b[0m\u001b[0;34m.\u001b[0m\u001b[0mstep\u001b[0m\u001b[0;34m(\u001b[0m\u001b[0;34m)\u001b[0m\u001b[0;34m\u001b[0m\u001b[0;34m\u001b[0m\u001b[0m\n\u001b[1;32m     22\u001b[0m         \u001b[0mb\u001b[0m \u001b[0;34m+=\u001b[0m \u001b[0;36m1\u001b[0m\u001b[0;34m\u001b[0m\u001b[0;34m\u001b[0m\u001b[0m\n",
      "\u001b[0;32m~/Desktop/anaconda/anaconda3/envs/ACG/lib/python3.6/site-packages/torch/tensor.py\u001b[0m in \u001b[0;36mbackward\u001b[0;34m(self, gradient, retain_graph, create_graph)\u001b[0m\n\u001b[1;32m    219\u001b[0m                 \u001b[0mretain_graph\u001b[0m\u001b[0;34m=\u001b[0m\u001b[0mretain_graph\u001b[0m\u001b[0;34m,\u001b[0m\u001b[0;34m\u001b[0m\u001b[0;34m\u001b[0m\u001b[0m\n\u001b[1;32m    220\u001b[0m                 create_graph=create_graph)\n\u001b[0;32m--> 221\u001b[0;31m         \u001b[0mtorch\u001b[0m\u001b[0;34m.\u001b[0m\u001b[0mautograd\u001b[0m\u001b[0;34m.\u001b[0m\u001b[0mbackward\u001b[0m\u001b[0;34m(\u001b[0m\u001b[0mself\u001b[0m\u001b[0;34m,\u001b[0m \u001b[0mgradient\u001b[0m\u001b[0;34m,\u001b[0m \u001b[0mretain_graph\u001b[0m\u001b[0;34m,\u001b[0m \u001b[0mcreate_graph\u001b[0m\u001b[0;34m)\u001b[0m\u001b[0;34m\u001b[0m\u001b[0;34m\u001b[0m\u001b[0m\n\u001b[0m\u001b[1;32m    222\u001b[0m \u001b[0;34m\u001b[0m\u001b[0m\n\u001b[1;32m    223\u001b[0m     \u001b[0;32mdef\u001b[0m \u001b[0mregister_hook\u001b[0m\u001b[0;34m(\u001b[0m\u001b[0mself\u001b[0m\u001b[0;34m,\u001b[0m \u001b[0mhook\u001b[0m\u001b[0;34m)\u001b[0m\u001b[0;34m:\u001b[0m\u001b[0;34m\u001b[0m\u001b[0;34m\u001b[0m\u001b[0m\n",
      "\u001b[0;32m~/Desktop/anaconda/anaconda3/envs/ACG/lib/python3.6/site-packages/torch/autograd/__init__.py\u001b[0m in \u001b[0;36mbackward\u001b[0;34m(tensors, grad_tensors, retain_graph, create_graph, grad_variables)\u001b[0m\n\u001b[1;32m    130\u001b[0m     Variable._execution_engine.run_backward(\n\u001b[1;32m    131\u001b[0m         \u001b[0mtensors\u001b[0m\u001b[0;34m,\u001b[0m \u001b[0mgrad_tensors_\u001b[0m\u001b[0;34m,\u001b[0m \u001b[0mretain_graph\u001b[0m\u001b[0;34m,\u001b[0m \u001b[0mcreate_graph\u001b[0m\u001b[0;34m,\u001b[0m\u001b[0;34m\u001b[0m\u001b[0;34m\u001b[0m\u001b[0m\n\u001b[0;32m--> 132\u001b[0;31m         allow_unreachable=True)  # allow_unreachable flag\n\u001b[0m\u001b[1;32m    133\u001b[0m \u001b[0;34m\u001b[0m\u001b[0m\n\u001b[1;32m    134\u001b[0m \u001b[0;34m\u001b[0m\u001b[0m\n",
      "\u001b[0;31mKeyboardInterrupt\u001b[0m: "
     ]
    }
   ],
   "source": [
    "loss_list = []\n",
    "test_loss = []\n",
    "batch_size = 256\n",
    "n_epoch = 200\n",
    "learning_rate = 0.001\n",
    "optimizer = torch.optim.Adam(bc_pendulum.parameters(), lr = learning_rate) \n",
    "for itr in range(n_epoch):\n",
    "    total_loss = 0\n",
    "    b=0\n",
    "    for batch in range (0,training_set.shape[0], batch_size):\n",
    "        data   = training_set  [batch : batch+batch_size , :state_space_size]\n",
    "        # print(\"data\", data.shape)\n",
    "        y      = training_set [batch : batch+batch_size, state_space_size:]\n",
    "        # print(\"y\", y.shape)\n",
    "        y_pred = bc_pendulum(data)\n",
    "        \n",
    "        loss   = criterion(y_pred, y)\n",
    "        total_loss += loss.item() \n",
    "        optimizer.zero_grad()\n",
    "        loss.backward()\n",
    "        optimizer.step()\n",
    "        b += 1\n",
    "    print(\"[EPOCH]: %i, [MSE LOSS]: %.6f\" % (itr+1, total_loss / b))\n",
    "    display.clear_output(wait=True)\n",
    "    loss_list.append(total_loss / b)\n",
    "    x = testing_set[:, :state_space_size]\n",
    "    y = testing_set[:,state_space_size:]\n",
    "    y_pred = bc_pendulum(x)\n",
    "    test_loss.append(criterion(y_pred, y).item())"
   ]
  },
  {
   "cell_type": "code",
   "execution_count": 9,
   "id": "93692f78",
   "metadata": {},
   "outputs": [
    {
     "data": {
      "image/png": "[encoded data removed]",
      "text/plain": [
       "<Figure size 432x288 with 1 Axes>"
      ]
     },
     "metadata": {
      "needs_background": "light"
     },
     "output_type": "display_data"
    }
   ],
   "source": [
    "# plot test loss\n",
    "# torch.save(bc_pendulum, \"bc_pendulum_n=2\") # uncomment to save the model \n",
    "plt.plot(test_loss, label=\"Testing Loss\")\n",
    "plt.xlabel(\"iterations\")\n",
    "plt.ylabel(\"loss\")\n",
    "plt.legend()\n",
    "plt.show()\n"
   ]
  },
  {
   "cell_type": "markdown",
   "id": "dd551483",
   "metadata": {},
   "source": [
    "## 测试"
   ]
  },
  {
   "cell_type": "code",
   "execution_count": 10,
   "id": "78164f66",
   "metadata": {},
   "outputs": [
    {
     "name": "stdout",
     "output_type": "stream",
     "text": [
      "tensor([-0.2408], grad_fn=<AddBackward0>)\n",
      "tensor([0.5855])\n"
     ]
    },
    {
     "data": {
      "text/plain": [
       "0.6827622652053833"
      ]
     },
     "execution_count": 10,
     "metadata": {},
     "output_type": "execute_result"
    }
   ],
   "source": [
    "p = 87 # select any point to test the model\n",
    "print(bc_pendulum(testing_set[p, :state_space_size]) )\n",
    "print(testing_set[p, state_space_size:])\n",
    "criterion( bc_pendulum(testing_set[p, :state_space_size] ), testing_set[p, state_space_size:] ).item()"
   ]
  },
  {
   "cell_type": "code",
   "execution_count": 11,
   "id": "2ace1a22",
   "metadata": {},
   "outputs": [
    {
     "name": "stdout",
     "output_type": "stream",
     "text": [
      "Itr = 4 overall reward  = -490.998253 \n",
      "Interacting with environment finished\n"
     ]
    }
   ],
   "source": [
    "################################## parameters ##################################\n",
    "n=2 # window size\n",
    "n_iterations = 5 # max number of interacting with environment\n",
    "n_ep = 1000 # number of epoches\n",
    "max_steps = 500 # max timesteps per epoch\n",
    "gamma = 1.0 # discount factor\n",
    "seeds = [684, 559, 629, 192, 835] # random seeds for testing\n",
    "################################## parameters ##################################\n",
    "\n",
    "seed_reward_mean = []\n",
    "seed_reward  = []\n",
    "for itr in range (n_iterations):\n",
    "   ################################## interact with env ##################################\n",
    "    G= []\n",
    "    G_mean = []\n",
    "    env.seed(int(seeds[itr]))\n",
    "    torch.manual_seed(int(seeds[itr]))\n",
    "    torch.cuda.manual_seed_all(int(seeds[itr]))\n",
    "\n",
    "    for ep in range (n_ep):\n",
    "        state = env.reset()\n",
    "        rewards = []\n",
    "        R=0\n",
    "        for t in range (max_steps):      \n",
    "            action = bc_pendulum(torch.tensor(state, dtype=torch.float))\n",
    "            action = np.clip(action.detach().numpy(), -2,2)\n",
    "            next_state , r, done, _   = env.step(action)\n",
    "            rewards.append(r)\n",
    "            state = next_state\n",
    "            if done:\n",
    "                break\n",
    "        R = sum([rewards[i]*gamma**i for i in range (len(rewards))])\n",
    "        G.append(R)\n",
    "        G_mean.append(np.mean(G))\n",
    "        if ep % 1 ==0:\n",
    "            print(\"ep = {} , Mean Reward = {:.6f}\".format(ep, R))\n",
    "        display.clear_output(wait=True)\n",
    "    seed_reward.append(G)\n",
    "    seed_reward_mean.append(G_mean)\n",
    "    print(\"Itr = {} overall reward  = {:.6f} \".format(itr, np.mean(seed_reward_mean[-1])))\n",
    "    print(\"Interacting with environment finished\")\n",
    "env.close()\n",
    "# np.save(\"reward_mean_pendulum_bc_expert_states={}\".format(new_data.shape[0]), seed_reward_mean) #uncomment to save reward over 5 random seeds"
   ]
  },
  {
   "cell_type": "code",
   "execution_count": 12,
   "id": "a85ed909",
   "metadata": {},
   "outputs": [],
   "source": [
    "seed_reward_mean_bc = np.array(seed_reward_mean)\n",
    "mean_bc  = np.mean(seed_reward_mean_bc,axis=0)\n",
    "std_bc  = np.std(seed_reward_mean_bc,axis=0)\n"
   ]
  },
  {
   "cell_type": "code",
   "execution_count": 13,
   "id": "ffe34c4f",
   "metadata": {},
   "outputs": [],
   "source": [
    "expert  = np.load(\"reward_mean_pendulum_expert.npy\")\n",
    "mean_expert= np.mean(expert,axis=0)\n",
    "std_expert = np.std(expert,axis=0)\n"
   ]
  },
  {
   "cell_type": "code",
   "execution_count": 14,
   "id": "8827b7b2",
   "metadata": {},
   "outputs": [],
   "source": [
    "random_mean  = np.load(\"reward_mean_pendulum_random.npy\")\n",
    "mean_random= np.mean(random_mean,axis=0)\n",
    "std_random  = np.std(random_mean,axis=0)"
   ]
  },
  {
   "cell_type": "code",
   "execution_count": 15,
   "id": "b8cc657f",
   "metadata": {},
   "outputs": [],
   "source": [
    "# Scaled performance\n",
    "def scaled (x, min_value, max_value):\n",
    "    return (x - min_value) / (max_value - min_value)\n",
    "\n",
    "bc_score  = scaled( mean_bc[-1] , mean_random[-1] , mean_expert[-1] )"
   ]
  },
  {
   "cell_type": "code",
   "execution_count": 16,
   "id": "a97cb41a",
   "metadata": {},
   "outputs": [
    {
     "data": {
      "text/plain": [
       "<matplotlib.legend.Legend at 0x7fe3123da978>"
      ]
     },
     "execution_count": 16,
     "metadata": {},
     "output_type": "execute_result"
    },
    {
     "data": {
      "image/png": "[encoded data removed]",
      "text/plain": [
       "<Figure size 432x288 with 1 Axes>"
      ]
     },
     "metadata": {
      "needs_background": "light"
     },
     "output_type": "display_data"
    }
   ],
   "source": [
    "x = np.arange(1000)\n",
    "\n",
    "plt.plot(x, mean_expert, \"-\", label=\"Expert\")\n",
    "plt.fill_between(x, mean_expert+std_expert, mean_expert-std_expert, alpha=0.2)\n",
    "\n",
    "plt.plot(x, mean_bc, \"-\", label=\"BC\")\n",
    "plt.fill_between(x, mean_bc + std_bc, mean_bc - std_bc, alpha=0.2)\n",
    "\n",
    "plt.plot(x, mean_random, \"-\", label=\"Random\")\n",
    "plt.fill_between(x, mean_random+std_random, mean_random-std_random, alpha=0.2)\n",
    "\n",
    "plt.xlabel(\"Episodes\")\n",
    "plt.ylabel(\"Mean Reward\")\n",
    "plt.title(\"Random VS Expert VS BC in Pendulum\")\n",
    "plt.legend()"
   ]
  }
 ],
 "metadata": {
  "kernelspec": {
   "display_name": "Python 3 (ipykernel)",
   "language": "python",
   "name": "python3"
  },
  "language_info": {
   "codemirror_mode": {
    "name": "ipython",
    "version": 3
   },
   "file_extension": ".py",
   "mimetype": "text/x-python",
   "name": "python",
   "nbconvert_exporter": "python",
   "pygments_lexer": "ipython3",
   "version": "3.9.4"
  },
  "toc": {
   "base_numbering": 1,
   "nav_menu": {},
   "number_sections": true,
   "sideBar": true,
   "skip_h1_title": false,
   "title_cell": "Table of Contents",
   "title_sidebar": "Contents",
   "toc_cell": false,
   "toc_position": {
    "height": "calc(100% - 180px)",
    "left": "10px",
    "top": "150px",
    "width": "351px"
   },
   "toc_section_display": true,
   "toc_window_display": true
  }
 },
 "nbformat": 4,
 "nbformat_minor": 5
}
