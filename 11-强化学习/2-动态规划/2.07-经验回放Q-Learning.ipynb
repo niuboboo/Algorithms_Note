{
 "cells": [
  {
   "cell_type": "code",
   "execution_count": null,
   "id": "2aadb3ef",
   "metadata": {},
   "outputs": [],
   "source": []
  },
  {
   "cell_type": "markdown",
   "id": "06dfbfe8",
   "metadata": {},
   "source": [
    "## 设置经验回放库\n",
    "\n",
    "设置经验回放有助于提高算法的效率，对于一个经验回放库通常有以下几个方法:\n",
    "\n",
    "1. `push`: 将数据存储起来。\n",
    "2. `sample`: 将数据从经验库中采样出来。\n",
    "\n",
    "```python\n",
    "class ReplayBuffer(object):\n",
    "    def __init__(self, size):\n",
    "        super(ReplayBuffer, self).__init__()\n",
    "        pass\n",
    "    \n",
    "    def push(self, state, action, reward, next_state, done):\n",
    "        pass\n",
    "    \n",
    "    def sample(self, batch_size):\n",
    "        pass\n",
    "    \n",
    "    def __len__(self):\n",
    "        pass\n",
    "```"
   ]
  },
  {
   "cell_type": "code",
   "execution_count": 1,
   "id": "0d03ded6",
   "metadata": {},
   "outputs": [],
   "source": [
    "import random\n",
    "import numpy as np\n",
    "\n",
    "class ReplayBuffer(object):\n",
    "    def __init__(self, size):\n",
    "        \"\"\"\n",
    "        创建一个Buffer。\n",
    "        \"\"\"\n",
    "        self.buffer = []\n",
    "        self._maxsize = size\n",
    "        self.cnt = 0\n",
    "        \n",
    "    def __len__(self):\n",
    "        \"\"\"\n",
    "        返回buffer的长度。\n",
    "        \"\"\"\n",
    "        return len(self.buffer)\n",
    "\n",
    "    def push(self, state, action, reward, next_state, done):\n",
    "        \"\"\"\n",
    "        \n",
    "        \"\"\"\n",
    "        data = (state, action, reward, next_state, done)\n",
    "\n",
    "        if len(self.buffer) == self._maxsize:\n",
    "            self.buffer = self.buffer[1:]\n",
    "            \n",
    "        self.buffer.append(data)\n",
    "        \n",
    "    def sample(self, batch_size):\n",
    "        \n",
    "        #<randomly generate batch_size integers to be used as indexes of samples>\n",
    "        buffer_size = len(self.buffer)\n",
    "        idxes = np.random.randint(buffer_size, size = batch_size)\n",
    "        \n",
    "        state, action, reward, next_state, done = zip(*[self.buffer[idx] for idx in idxes])\n",
    "        \n",
    "        return np.array(state), np.array(action), np.array(reward), np.array(next_state), np.array(done)"
   ]
  },
  {
   "cell_type": "code",
   "execution_count": 2,
   "id": "34fb48bb",
   "metadata": {},
   "outputs": [
    {
     "name": "stdout",
     "output_type": "stream",
     "text": [
      "(array([0]), array([1]), array([2]), array([3]), array([4]))\n",
      "(0, 1, 2, 3, 4)\n",
      "Success!\n"
     ]
    }
   ],
   "source": [
    "replay = ReplayBuffer(2)\n",
    "obj1 = tuple(range(5))\n",
    "obj2 = tuple(range(5, 10))\n",
    "replay.push(*obj1)\n",
    "print(replay.sample(1))\n",
    "print(obj1)\n",
    "assert replay.sample(1)==obj1, \"If there's just one object in buffer, it must be retrieved by buf.sample(1)\"\n",
    "replay.push(*obj2)\n",
    "assert len(replay.buffer)==2, \"Please make sure __len__ methods works as intended.\"\n",
    "replay.push(*obj2)\n",
    "assert len(replay.buffer)==2, \"When buffer is at max capacity, replace objects instead of adding new ones.\"\n",
    "assert tuple(np.unique(a) for a in replay.sample(100))==obj2\n",
    "replay.push(*obj1)\n",
    "assert max(len(np.unique(a)) for a in replay.sample(100))==2\n",
    "replay.push(*obj1)\n",
    "assert tuple(np.unique(a) for a in replay.sample(100))==obj1\n",
    "print (\"Success!\")"
   ]
  },
  {
   "cell_type": "markdown",
   "id": "e253fca0",
   "metadata": {},
   "source": [
    "## 设置智能体"
   ]
  },
  {
   "cell_type": "code",
   "execution_count": 3,
   "id": "6548a9c1",
   "metadata": {},
   "outputs": [],
   "source": [
    "from collections import defaultdict\n",
    "class QLearningAgent(object):\n",
    "    def __init__(self, env, learning_rate, epsilon, discount):\n",
    "        super(QLearningAgent, self).__init__()\n",
    "        self.legal_action = range(env.action_space.n)  # 获取合法的动作\n",
    "        \n",
    "        self.epsilon = epsilon\n",
    "        self.discount = discount\n",
    "        self.q_table = defaultdict(lambda: defaultdict(lambda: 0))\n",
    "        self.lr = learning_rate\n",
    "    \n",
    "    def get_action(self, state):\n",
    "        \"\"\"\n",
    "        依据状态选择动作, 加入合法动作是为了方便之后用于复杂环境留的接口\n",
    "        \n",
    "        基于epsilon贪婪策略选择动作。\n",
    "        self.epsilon概率选择随机动作，1 - self.epsilon概率选择最好的动作。\n",
    "        \n",
    "        \"\"\"\n",
    "        possible_actions = self.legal_action\n",
    "        \n",
    "        if len(possible_actions) == 0:\n",
    "            print(\"return None\")\n",
    "            return None\n",
    "        \n",
    "        epsilon = self.epsilon\n",
    "        \n",
    "        if np.random.random() > epsilon:\n",
    "            possible_q_values = [self.q_table[state][action] for action in possible_actions]\n",
    "            index = np.argmax(possible_q_values)\n",
    "            \n",
    "            return possible_actions[index]\n",
    "        else:\n",
    "            \n",
    "            return random.choice(possible_actions)\n",
    "    \n",
    "    def update_agent(self, state, action, reward, next_state):\n",
    "        \"\"\"\n",
    "        Q值更新公式如下:\n",
    "        Q(s,a) := (1 - lr) * Q(s,a) + lr * (r + gamma * V(s'))\n",
    "        \"\"\"\n",
    "        current_q = self.q_table[state][action]\n",
    "        \n",
    "        next_state_possible_actions = self.legal_action\n",
    "        \n",
    "        next_v = np.max([self.q_table[next_state][next_action] for next_action in next_state_possible_actions])\n",
    "        \n",
    "        new_q = (1 - self.lr) * current_q + self.lr * (reward + self.discount * next_v)\n",
    "        \n",
    "        self.q_table[state][action] = new_q"
   ]
  },
  {
   "cell_type": "code",
   "execution_count": 4,
   "id": "d07bdd7d",
   "metadata": {},
   "outputs": [
    {
     "name": "stderr",
     "output_type": "stream",
     "text": [
      "\n"
     ]
    }
   ],
   "source": [
    "import gym\n",
    "env = gym.make(\"Taxi-v3\")"
   ]
  },
  {
   "cell_type": "code",
   "execution_count": 5,
   "id": "cd921808",
   "metadata": {},
   "outputs": [],
   "source": [
    "agent_base = QLearningAgent(env, learning_rate=0.5, epsilon=0.25,discount=0.99)\n",
    "agent_replay = QLearningAgent(env, learning_rate=0.5, epsilon=0.25,discount=0.99)"
   ]
  },
  {
   "cell_type": "code",
   "execution_count": 6,
   "id": "e8fbfe36",
   "metadata": {},
   "outputs": [],
   "source": [
    "def play_and_train_with_replay(env, agent, replay = None, t_max = 10**4, replay_batch_size = 32):\n",
    "    total_reward = 0\n",
    "    s = env.reset()\n",
    "    for i in range(t_max):\n",
    "        a = agent.get_action(s)\n",
    "        next_s, r, done, info = env.step(a)\n",
    "        total_reward += r\n",
    "        \n",
    "        if done: break\n",
    "        \n",
    "        agent.update_agent(s, a, r, next_s)\n",
    "        \n",
    "        if replay is not None:\n",
    "            replay.push(s, a, r, next_s, done)\n",
    "            \n",
    "            array_s, array_a, array_r, array_s_next, array_done = replay.sample(replay_batch_size)\n",
    "            \n",
    "            for i in range(replay_batch_size):\n",
    "                agent.update_agent(array_s[i], array_a[i], array_r[i], array_s_next[i])\n",
    "        s = next_s\n",
    "        \n",
    "    return total_reward"
   ]
  },
  {
   "cell_type": "code",
   "execution_count": 7,
   "id": "e9f09ae8",
   "metadata": {},
   "outputs": [
    {
     "name": "stdout",
     "output_type": "stream",
     "text": [
      "Baseline : eps = 2.9191091959171894e-05 mean reward = 5.3\n",
      "ExpReplay: eps = 2.9191091959171894e-05 mean reward = 8.1\n"
     ]
    },
    {
     "data": {
      "image/png": "[encoded data removed]",
      "text/plain": [
       "<Figure size 432x288 with 1 Axes>"
      ]
     },
     "metadata": {
      "needs_background": "light"
     },
     "output_type": "display_data"
    }
   ],
   "source": [
    "import matplotlib.pyplot as plt\n",
    "from IPython.display import clear_output\n",
    "# from pandas import ewma, Series\n",
    "# moving_average = lambda ts, span=100: ewma(Series(ts), min_periods=span//10, span=span).values\n",
    "\n",
    "avg_rewards_replay = []\n",
    "avg_rewards_baseline = []\n",
    "rewards_replay, rewards_baseline = [], []\n",
    "\n",
    "for i in range(1000):\n",
    "    rewards_replay.append(play_and_train_with_replay(env, agent_replay, replay))\n",
    "    rewards_baseline.append(play_and_train_with_replay(env, agent_base, replay=None))\n",
    "    \n",
    "    avg_rewards_replay.append(np.mean(rewards_replay[-min(10, len(rewards_replay)):]))\n",
    "    avg_rewards_baseline.append(np.mean(rewards_baseline[-min(10, len(rewards_baseline)):]))\n",
    "    \n",
    "    agent_replay.epsilon *= 0.99\n",
    "    agent_base.epsilon *= 0.99\n",
    "    \n",
    "    if i %100 ==0:\n",
    "        clear_output(True)\n",
    "        print('Baseline : eps =', agent_replay.epsilon, 'mean reward =', np.mean(rewards_baseline[-10:]))\n",
    "        print('ExpReplay: eps =', agent_base.epsilon, 'mean reward =', np.mean(rewards_replay[-10:]))\n",
    "        plt.plot(avg_rewards_replay, label='exp. replay')\n",
    "        plt.plot(avg_rewards_baseline, label='baseline')\n",
    "        plt.grid()\n",
    "        plt.legend()\n",
    "        plt.show()"
   ]
  },
  {
   "cell_type": "code",
   "execution_count": null,
   "id": "7c7e1c56",
   "metadata": {},
   "outputs": [],
   "source": []
  },
  {
   "cell_type": "code",
   "execution_count": null,
   "id": "1bd7a9e4",
   "metadata": {},
   "outputs": [],
   "source": []
  },
  {
   "cell_type": "code",
   "execution_count": null,
   "id": "2662fb33",
   "metadata": {},
   "outputs": [],
   "source": []
  }
 ],
 "metadata": {
  "kernelspec": {
   "display_name": "Python 3 (ipykernel)",
   "language": "python",
   "name": "python3"
  },
  "language_info": {
   "codemirror_mode": {
    "name": "ipython",
    "version": 3
   },
   "file_extension": ".py",
   "mimetype": "text/x-python",
   "name": "python",
   "nbconvert_exporter": "python",
   "pygments_lexer": "ipython3",
   "version": "3.9.4"
  },
  "toc": {
   "base_numbering": 1,
   "nav_menu": {},
   "number_sections": true,
   "sideBar": true,
   "skip_h1_title": false,
   "title_cell": "Table of Contents",
   "title_sidebar": "Contents",
   "toc_cell": false,
   "toc_position": {},
   "toc_section_display": true,
   "toc_window_display": false
  }
 },
 "nbformat": 4,
 "nbformat_minor": 5
}
