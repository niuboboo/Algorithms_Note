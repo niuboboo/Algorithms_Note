{
 "cells": [
  {
   "cell_type": "code",
   "execution_count": null,
   "id": "2aadb3ef",
   "metadata": {},
   "outputs": [],
   "source": []
  },
  {
   "cell_type": "markdown",
   "id": "1ccb02e4",
   "metadata": {},
   "source": [
    "## 设置经验回放库\n",
    "\n",
    "设置经验回放有助于提高算法的效率，对于一个经验回放库通常有以下几个方法:\n",
    "\n",
    "1. `push`: 将数据存储起来。\n",
    "2. `sample`: 将数据从经验库中采样出来。\n",
    "\n",
    "```python\n",
    "class ReplayBuffer(object):\n",
    "    def __init__(self, size):\n",
    "        super(ReplayBuffer, self).__init__()\n",
    "        pass\n",
    "    \n",
    "    def push(self, state, action, reward, next_state, done):\n",
    "        pass\n",
    "    \n",
    "    def sample(self, batch_size):\n",
    "        pass\n",
    "    \n",
    "    def __len__(self):\n",
    "        pass\n",
    "```"
   ]
  },
  {
   "cell_type": "code",
   "execution_count": null,
   "id": "0d03ded6",
   "metadata": {},
   "outputs": [],
   "source": [
    "class ReplayBuffer(object):\n",
    "    def __init__(self, size):\n",
    "        super(ReplayBuffer, self).__init__()\n",
    "        self.memory = []\n",
    "        self.cnt = 0\n",
    "    \n",
    "    def push(self, state, action, reward, next_state, done):\n",
    "        \n",
    "    \n",
    "    def sample(self, batch_size):\n",
    "        pass\n",
    "    \n",
    "    def __len__(self):\n",
    "        pass"
   ]
  },
  {
   "cell_type": "code",
   "execution_count": null,
   "id": "e8fbfe36",
   "metadata": {},
   "outputs": [],
   "source": []
  }
 ],
 "metadata": {
  "kernelspec": {
   "display_name": "Python 3 (ipykernel)",
   "language": "python",
   "name": "python3"
  },
  "language_info": {
   "codemirror_mode": {
    "name": "ipython",
    "version": 3
   },
   "file_extension": ".py",
   "mimetype": "text/x-python",
   "name": "python",
   "nbconvert_exporter": "python",
   "pygments_lexer": "ipython3",
   "version": "3.9.4"
  },
  "toc": {
   "base_numbering": 1,
   "nav_menu": {},
   "number_sections": true,
   "sideBar": true,
   "skip_h1_title": false,
   "title_cell": "Table of Contents",
   "title_sidebar": "Contents",
   "toc_cell": false,
   "toc_position": {},
   "toc_section_display": true,
   "toc_window_display": false
  }
 },
 "nbformat": 4,
 "nbformat_minor": 5
}
