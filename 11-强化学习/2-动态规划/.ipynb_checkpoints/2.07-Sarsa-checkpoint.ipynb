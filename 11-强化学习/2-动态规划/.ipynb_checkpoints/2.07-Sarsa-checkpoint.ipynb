{
 "cells": [
  {
   "cell_type": "markdown",
   "id": "c13c2979",
   "metadata": {},
   "source": [
    "## Sarsa\n",
    "\n",
    "Sarsa是On-Policy的算法，Q-Learning是Off-Policy的算法。\n",
    "\n",
    "Sarsa也是一种时序查分的学习算法，temporal difference learning，不需要等待episode结束再进行学习。\n",
    "\n",
    "是Model Free的一个算法，也就是说不需要知道完整的环境模型，比如不需要知道环境的状态转移概率，这里就与传统的控制算法区分开来了，传统的控制算法可以拿到环境的模型，直接求最优解。也就是说如何处理环境的不确定性，是强化学习智能体需要从数据中学习出来的。\n",
    "\n",
    "Sarsa是一种自举(bootstrapping)的算法，也就是说为了准确的估计一个量，是从另一个估计量来生成的。智能体在学习的过程中是不需要太多的先验知识的，大家都是摸石头过河，因为大家都是估计量。"
   ]
  },
  {
   "cell_type": "markdown",
   "id": "f6c18473",
   "metadata": {},
   "source": [
    "## 算法\n",
    "\n",
    "1. 初始化学习率$\\alpha$\n",
    "2. 初始化$Q(s, a)$, ($Q(s, a)$表示未来的期望收益)。\n",
    "3. 初始化状态$S$\n",
    "4. 基于epsilon greedy策略从Q中选择动作$A(S)$\n",
    "5. 循环Loop\n",
    "    - 采取动作$A$, 获得环境即时奖励$R$，并转移到下一个状态$S^{\\prime}$\n",
    "    - 基于epsilon greedy策略选择下一个状态对应的动作$A^{\\prime}(S^{\\prime})$\n",
    "    - 更新$Q(s, a) = Q(s, a) + \\alpha(R +  \\gamma * Q(s^{\\prime}, a^{\\prime}) - Q(s, a)$)\n",
    "    - 更新状态和动作$S = S^{\\prime}, A = A^{\\prime}$"
   ]
  },
  {
   "cell_type": "code",
   "execution_count": null,
   "id": "7cba7d9f",
   "metadata": {},
   "outputs": [],
   "source": []
  },
  {
   "cell_type": "code",
   "execution_count": null,
   "id": "12f192d6",
   "metadata": {},
   "outputs": [],
   "source": []
  },
  {
   "cell_type": "code",
   "execution_count": null,
   "id": "6ce3d602",
   "metadata": {},
   "outputs": [],
   "source": []
  },
  {
   "cell_type": "code",
   "execution_count": null,
   "id": "fd62234d",
   "metadata": {},
   "outputs": [],
   "source": []
  },
  {
   "cell_type": "markdown",
   "id": "5bfeff43",
   "metadata": {},
   "source": [
    "## 代码"
   ]
  },
  {
   "cell_type": "code",
   "execution_count": null,
   "id": "b1153ae6",
   "metadata": {},
   "outputs": [],
   "source": [
    "import numpy as np\n",
    "import matplotlib.pyplot as plt\n",
    "import gym"
   ]
  },
  {
   "cell_type": "markdown",
   "id": "356441ce",
   "metadata": {},
   "source": [
    "定义一个函数，用来获取当前状态下，所有的动作价值函数$Q$, 然后来获取对应的动作。"
   ]
  },
  {
   "cell_type": "code",
   "execution_count": null,
   "id": "c299de04",
   "metadata": {},
   "outputs": [],
   "source": [
    "def maxAction(Q, state):    \n",
    "    values = np.array([Q[state,a] for a in range(2)])\n",
    "    action = np.argmax(values)\n",
    "    return action"
   ]
  },
  {
   "cell_type": "markdown",
   "id": "4ac4b2db",
   "metadata": {},
   "source": [
    "对应的将观测值进行离散化，将其离散化为10个"
   ]
  },
  {
   "cell_type": "code",
   "execution_count": null,
   "id": "5d8c4fc7",
   "metadata": {},
   "outputs": [],
   "source": [
    "# discretize the space\n",
    "cartPosSpace = np.linspace(-2.4, 2.4, 10)\n",
    "cartVelSpace = np.linspace(-4, 4, 10)\n",
    "poleThetaSpace = np.linspace(-0.20943951, 0.20943951, 10)\n",
    "poleThetaVelSpace = np.linspace(-4, 4, 10)"
   ]
  },
  {
   "cell_type": "markdown",
   "id": "b781d0b0",
   "metadata": {},
   "source": [
    "之后我们还需要一个能够将观测转化成离散量的函数。"
   ]
  },
  {
   "cell_type": "code",
   "execution_count": null,
   "id": "58bd4be1",
   "metadata": {},
   "outputs": [],
   "source": [
    "def getState(observation):\n",
    "    cartX, cartXdot, cartTheta, cartThetadot = observation\n",
    "    \n",
    "    cartX = int(np.digitize(cartX, cartPosSpace))  # 小车的位置X。\n",
    "    cartXdot = int(np.digitize(cartXdot, cartVelSpace))  # 小车速度\n",
    "    cartTheta = int(np.digitize(cartTheta, poleThetaSpace))  # 摆杆角度\n",
    "    cartThetadot = int(np.digitize(cartThetadot, poleThetaVelSpace))  # 摆杆速度\n",
    "    \n",
    "    return (cartX, cartXdot, cartTheta, cartThetadot)"
   ]
  },
  {
   "cell_type": "code",
   "execution_count": null,
   "id": "ec00328c",
   "metadata": {},
   "outputs": [],
   "source": [
    "if __name__ == \"__main__\":\n",
    "    env = gym.make('CartPole-v0')\n",
    "    # 模型超参数\n",
    "    ALPHA = 0.1\n",
    "    GAMMA = 0.9\n",
    "    EPS = 1.0\n",
    "    \n",
    "    # 构造状态空间, 四层for循环穷举所有的状态空间。\n",
    "    states = []\n",
    "    for i in range(len(cartPosSpace)+1):\n",
    "        for j in range(len(cartVelSpace)+1):\n",
    "            for k in range(len(poleThetaSpace)+1):\n",
    "                for l in range(len(poleThetaVelSpace)+1):\n",
    "                    states.append((i, j, k, l))\n",
    "    \n",
    "    # 初始化所有的Q为0\n",
    "    Q = {}\n",
    "    for s in states:\n",
    "        for a in range(2):  # 动作空间只有两个维度，向左和向右。\n",
    "            Q[s, a] = 0\n",
    "\n",
    "    numGames = 50000\n",
    "    totalRewards = np.zeros(numGames)\n",
    "    for i in range(numGames):\n",
    "        if i % 5000 == 0:\n",
    "            print(\"starting game {}\".format(i))\n",
    "        # 获取观测：小车的位置X，小车速度，摆杆角度，摆杆速度\n",
    "        observation = env.reset()\n",
    "        s = getState(observation)\n",
    "        rand = np.random.random()\n",
    "        a = maxAction(Q, s) if rand < (1-EPS) else env.action_space.sample()\n",
    "        done = False\n",
    "        epRewards = 0\n",
    "\n",
    "        while not done:\n",
    "            observation_, reward, done, info = env.step(a)\n",
    "            s_ = getState(observation_)\n",
    "            rand = np.random.random()\n",
    "            a_ = maxAction(Q, s_) if rand < (1-EPS) else env.action_space.sample()\n",
    "            epRewards += reward\n",
    "            Q[s,a] = Q[s,a] + ALPHA*(reward + GAMMA*Q[s_, a_] - Q[s, a])\n",
    "            s, a = s_, a_\n",
    "\n",
    "        EPS -= 2/(numGames) if EPS > 0 else 0\n",
    "        totalRewards[i] = epRewards\n",
    "        \n",
    "    \n",
    "    plt.plot(totalRewards, 'b--')\n",
    "    plt.show() "
   ]
  },
  {
   "cell_type": "markdown",
   "id": "528a4ce2",
   "metadata": {},
   "source": [
    "## Acrbot"
   ]
  },
  {
   "cell_type": "markdown",
   "id": "55c6cc78",
   "metadata": {},
   "source": [
    "`Acrobot-v1`是一个二阶倒立摆的模型，状态空间是由两个摆杆的sin角度和cos角度组合，还有角加速度组合而成的。\n",
    "\n",
    "动作空间是有三个，+1， 0和-1，分别表示是否往两个摆杆的连接处添加力矩。\n",
    "\n"
   ]
  },
  {
   "cell_type": "code",
   "execution_count": 1,
   "id": "f17354d3",
   "metadata": {},
   "outputs": [
    {
     "name": "stdout",
     "output_type": "stream",
     "text": [
      "episode  0 score  0 eps 1\n",
      "episode  5000 score  -184.0 eps 0.7999999999998\n",
      "episode  10000 score  -234.0 eps 0.5999999999996\n",
      "episode  15000 score  -134.0 eps 0.3999999999995388\n",
      "episode  20000 score  -239.0 eps 0.1999999999995816\n",
      "episode  25000 score  -128.0 eps 0.01\n",
      "episode  30000 score  -197.0 eps 0.01\n",
      "episode  35000 score  -100.0 eps 0.01\n",
      "episode  40000 score  -124.0 eps 0.01\n",
      "episode  45000 score  -162.0 eps 0.01\n"
     ]
    },
    {
     "data": {
      "image/png": "[encoded data removed]",
      "text/plain": [
       "<Figure size 432x288 with 1 Axes>"
      ]
     },
     "metadata": {
      "needs_background": "light"
     },
     "output_type": "display_data"
    }
   ],
   "source": [
    "import gym\n",
    "import matplotlib.pyplot as plt\n",
    "import numpy as np\n",
    "from gym import wrappers\n",
    "import pickle\n",
    "\n",
    "theta_space = np.linspace(-1, 1, 10)\n",
    "theta_dot_space = np.linspace(-10, 10, 10)\n",
    "\n",
    "def get_state(observation):\n",
    "    cos_theta1, sin_theta1, cos_theta2, sin_theta2, theta1_dot, theta2_dot = \\\n",
    "        observation\n",
    "    c_th1 = int(np.digitize(cos_theta1, theta_space))\n",
    "    s_th1 = int(np.digitize(sin_theta1, theta_space))\n",
    "    c_th2 = int(np.digitize(cos_theta2, theta_space))\n",
    "    s_th2 = int(np.digitize(sin_theta2, theta_space))\n",
    "    th1_dot = int(np.digitize(theta1_dot, theta_dot_space))\n",
    "    th2_dot = int(np.digitize(theta2_dot, theta_dot_space))\n",
    "\n",
    "    return (c_th1, s_th2, c_th2, s_th2, th1_dot, th2_dot)\n",
    "\n",
    "def maxAction(Q, state, actions=[0, 1, 2]):\n",
    "    values = np.array([Q[state,a] for a in actions])\n",
    "    action = np.argmax(values)\n",
    "\n",
    "    return action\n",
    "\n",
    "if __name__ == '__main__':\n",
    "    env = gym.make('Acrobot-v1')\n",
    "    n_games = 50000\n",
    "    alpha = 0.1\n",
    "    gamma = 0.99\n",
    "    eps = 1\n",
    "\n",
    "    action_space = [0, 1, 2]\n",
    "\n",
    "    states = []\n",
    "    for c1 in range(11):\n",
    "        for s1 in range(11):\n",
    "            for c2 in range(11):\n",
    "                for s2 in range(11):\n",
    "                    for dot1 in range(11):\n",
    "                        for dot2 in range(11):\n",
    "                            states.append((c1, s1, c2, s2, dot1, dot2))\n",
    "    \n",
    "    Q = {}\n",
    "    for state in states:\n",
    "        for action in action_space:\n",
    "            Q[state, action] = 0\n",
    "    \n",
    "#     pickle_in = open('acrobot.pkl', 'rb')\n",
    "#     Q = pickle.load(pickle_in)\n",
    "#     env = wrappers.Monitor(env, \"tmp/acrobot\", video_callable=lambda episode_id: True, force=True)\n",
    "    eps_rewards = 0\n",
    "    total_rewards = np.zeros(n_games)\n",
    "    for i in range(n_games):\n",
    "        if i % 5000 == 0:\n",
    "            print('episode ', i, 'score ', eps_rewards, 'eps', eps)\n",
    "        observation = env.reset()\n",
    "        state = get_state(observation)\n",
    "        done = False\n",
    "        action = env.action_space.sample() if np.random.random() < eps else \\\n",
    "                 maxAction(Q, state)\n",
    "        eps_rewards = 0\n",
    "        while not done:\n",
    "            \"\"\"\n",
    "            print(observation)\n",
    "            action = env.action_space.sample()\n",
    "            \"\"\"\n",
    "            observation_, reward, done, info = env.step(action)\n",
    "            state_ = get_state(observation_)\n",
    "            action_ = maxAction(Q, state_)\n",
    "            eps_rewards += reward\n",
    "            Q[state, action] = Q[state,action] + \\\n",
    "                    alpha*(reward + gamma*Q[state_,action_] - Q[state,action])\n",
    "            state = state_\n",
    "            action = action_\n",
    "        total_rewards[i] = eps_rewards\n",
    "        eps = eps - 2 / n_games if eps > 0.01 else 0.01\n",
    "\n",
    "    mean_rewards = np.zeros(n_games)\n",
    "    for t in range(n_games):\n",
    "        mean_rewards[t] = np.mean(total_rewards[max(0, t-50):(t+1)])\n",
    "    plt.plot(mean_rewards)\n",
    "    plt.show()\n",
    "\n",
    "#     f = open(\"acrobot.pkl\",\"wb\")\n",
    "#     pickle.dump(Q,f)\n",
    "#     f.close()\n"
   ]
  },
  {
   "cell_type": "code",
   "execution_count": null,
   "id": "6bdf7ab0",
   "metadata": {},
   "outputs": [],
   "source": []
  },
  {
   "cell_type": "code",
   "execution_count": null,
   "id": "1af8d0a1",
   "metadata": {},
   "outputs": [],
   "source": []
  }
 ],
 "metadata": {
  "kernelspec": {
   "display_name": "Python 3 (ipykernel)",
   "language": "python",
   "name": "python3"
  },
  "language_info": {
   "codemirror_mode": {
    "name": "ipython",
    "version": 3
   },
   "file_extension": ".py",
   "mimetype": "text/x-python",
   "name": "python",
   "nbconvert_exporter": "python",
   "pygments_lexer": "ipython3",
   "version": "3.9.4"
  },
  "toc": {
   "base_numbering": 1,
   "nav_menu": {},
   "number_sections": true,
   "sideBar": true,
   "skip_h1_title": false,
   "title_cell": "Table of Contents",
   "title_sidebar": "Contents",
   "toc_cell": false,
   "toc_position": {},
   "toc_section_display": true,
   "toc_window_display": true
  }
 },
 "nbformat": 4,
 "nbformat_minor": 5
}
