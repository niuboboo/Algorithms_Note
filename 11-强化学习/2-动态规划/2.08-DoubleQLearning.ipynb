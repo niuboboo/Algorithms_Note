{
 "cells": [
  {
   "cell_type": "markdown",
   "id": "c13c2979",
   "metadata": {},
   "source": [
    "## Double Q Learning\n",
    "\n",
    "`Q-Learing`是`ModelFree`的自举(`bootstrapped`)的`off-policy`算法。\n",
    "\n",
    "`Q-Learning`中有一个问题被称为`maximization bias`，说的是:\n",
    "\n",
    "1. 对于给定的状态`state`，有多个候选动作`action`，其中真实的$q(s, a)=0$。但是估计的$Q(s, a)$是不确定的，并且会存在一个正向的偏差`positive bias`。\n",
    "2. 最大化真实的`q`值的话，是`0`。但是，最大化$Q(s, a)$会是一个正数，因此会产生一个`positive bias`。\n",
    "\n",
    "解决这个问题的方法就是用两个独立的$Q$函数，一个用来确定最大的动作，一个用来确定最大的q值。并且将这二者交互迭代更新。"
   ]
  },
  {
   "cell_type": "markdown",
   "id": "f6c18473",
   "metadata": {},
   "source": [
    "## 算法\n",
    "\n",
    "\n",
    "1. 初始化学习率$\\alpha$和贪婪概率$\\epsilon$。\n",
    "2. 初始化$Q1(s, a)$和$Q2(s, a)$\n",
    "3. 循环episodes\n",
    "    - 初始化状态$S$\n",
    "    - 循环每个episode\n",
    "        - 基于贪婪策略从$Q_{1} + Q_{2}$中选择状态$S$对应的动作$A$。\n",
    "        - 采取动作$A$, 接收环境的即时奖励$R$和下一个状态$S^{\\prime}$。\n",
    "        - 基于0.5的概率\n",
    "            - $Q_{1} = Q_{1} + \\alpha * (R + \\gamma * (Q_{2}(S^{\\prime}, argmax Q_{1}(S^{\\prime}, a)) - Q_{1})$\n",
    "            - $Q_{2} = Q_{2} + \\alpha * (R + \\gamma * (Q_{1}(S^{\\prime}, argmax Q_{2}(S^{\\prime}, a)) - Q_{1})$\n",
    "        - 更新状态$S = S^{\\prime}$。"
   ]
  },
  {
   "cell_type": "markdown",
   "id": "5bfeff43",
   "metadata": {},
   "source": [
    "## 代码"
   ]
  },
  {
   "cell_type": "code",
   "execution_count": 1,
   "id": "b1153ae6",
   "metadata": {},
   "outputs": [],
   "source": [
    "import numpy as np\n",
    "import matplotlib.pyplot as plt\n",
    "import gym"
   ]
  },
  {
   "cell_type": "markdown",
   "id": "356441ce",
   "metadata": {},
   "source": [
    "定义一个函数，用来获取当前状态下，所有的动作价值函数$Q$, 然后来获取对应的动作。\n",
    "\n",
    "但是与Sarsa不同，这里需要传入两个Q，Q1和Q2。选择最大的动作时，是选择二者之和最大的那个动作。"
   ]
  },
  {
   "cell_type": "code",
   "execution_count": 2,
   "id": "c299de04",
   "metadata": {},
   "outputs": [],
   "source": [
    "def maxAction(Q1, Q2, state):    \n",
    "    values = np.array([Q1[state,a] + Q2[state, a] for a in range(2)])\n",
    "    action = np.argmax(values)\n",
    "    return action"
   ]
  },
  {
   "cell_type": "markdown",
   "id": "4ac4b2db",
   "metadata": {},
   "source": [
    "对应的将观测值进行离散化，将其离散化为10个"
   ]
  },
  {
   "cell_type": "code",
   "execution_count": 3,
   "id": "5d8c4fc7",
   "metadata": {},
   "outputs": [],
   "source": [
    "# discretize the space\n",
    "cartPosSpace = np.linspace(-2.4, 2.4, 10)\n",
    "cartVelSpace = np.linspace(-4, 4, 10)\n",
    "poleThetaSpace = np.linspace(-0.20943951, 0.20943951, 10)\n",
    "poleThetaVelSpace = np.linspace(-4, 4, 10)"
   ]
  },
  {
   "cell_type": "markdown",
   "id": "b781d0b0",
   "metadata": {},
   "source": [
    "之后我们还需要一个能够将观测转化成离散量的函数。"
   ]
  },
  {
   "cell_type": "code",
   "execution_count": 4,
   "id": "58bd4be1",
   "metadata": {},
   "outputs": [],
   "source": [
    "def getState(observation):\n",
    "    cartX, cartXdot, cartTheta, cartThetadot = observation\n",
    "    \n",
    "    cartX = int(np.digitize(cartX, cartPosSpace))  # 小车的位置X。\n",
    "    cartXdot = int(np.digitize(cartXdot, cartVelSpace))  # 小车速度\n",
    "    cartTheta = int(np.digitize(cartTheta, poleThetaSpace))  # 摆杆角度\n",
    "    cartThetadot = int(np.digitize(cartThetadot, poleThetaVelSpace))  # 摆杆速度\n",
    "    \n",
    "    return (cartX, cartXdot, cartTheta, cartThetadot)"
   ]
  },
  {
   "cell_type": "markdown",
   "id": "b2b67451",
   "metadata": {},
   "source": [
    "再定义一个画奖励曲线的函数，取最后一百个episode的奖励平均作为画图点:"
   ]
  },
  {
   "cell_type": "code",
   "execution_count": 5,
   "id": "102b4374",
   "metadata": {},
   "outputs": [],
   "source": [
    "def plotRunningAverage(totalRewards):\n",
    "    N = len(totalRewards)\n",
    "    running_avg = np.empty(N)\n",
    "    for t in range(N):\n",
    "        running_avg[t] = np.mean(totalRewards[max(0, t-100) : (t+1)])\n",
    "    plt.plot(running_avg)\n",
    "    plt.title(\"Running Average\")\n",
    "    plt.show()"
   ]
  },
  {
   "cell_type": "code",
   "execution_count": 6,
   "id": "ec00328c",
   "metadata": {},
   "outputs": [
    {
     "name": "stdout",
     "output_type": "stream",
     "text": [
      "starting game 0\n",
      "starting game 5000\n",
      "starting game 10000\n",
      "starting game 15000\n",
      "starting game 20000\n",
      "starting game 25000\n",
      "starting game 30000\n",
      "starting game 35000\n",
      "starting game 40000\n",
      "starting game 45000\n",
      "starting game 50000\n",
      "starting game 55000\n",
      "starting game 60000\n",
      "starting game 65000\n",
      "starting game 70000\n",
      "starting game 75000\n",
      "starting game 80000\n",
      "starting game 85000\n",
      "starting game 90000\n",
      "starting game 95000\n"
     ]
    },
    {
     "data": {
      "image/png": "[encoded data removed]",
      "text/plain": [
       "<Figure size 432x288 with 1 Axes>"
      ]
     },
     "metadata": {
      "needs_background": "light"
     },
     "output_type": "display_data"
    }
   ],
   "source": [
    "if __name__ == \"__main__\":\n",
    "    env = gym.make('CartPole-v0')\n",
    "    # 模型超参数\n",
    "    ALPHA = 0.1\n",
    "    GAMMA = 1.0  # 到立摆的状态转移是确定的\n",
    "    EPS = 0.9\n",
    "    \n",
    "    # 构造状态空间, 四层for循环穷举所有的状态空间。\n",
    "    states = []\n",
    "    for i in range(len(cartPosSpace)+1):\n",
    "        for j in range(len(cartVelSpace)+1):\n",
    "            for k in range(len(poleThetaSpace)+1):\n",
    "                for l in range(len(poleThetaVelSpace)+1):\n",
    "                    states.append((i, j, k, l))\n",
    "    \n",
    "    # 初始化所有的Q为0\n",
    "    Q1, Q2 = {}, {}\n",
    "    for s in states:\n",
    "        for a in range(2):  # 动作空间只有两个维度，向左和向右。\n",
    "            Q1[s, a] = 0\n",
    "            Q2[s, a] = 0\n",
    "    \n",
    "    # 因为要处理Q估计的偏差，所以收敛速度会更慢一点。\n",
    "    numGames = 100000\n",
    "    totalRewards = np.zeros(numGames)\n",
    "    for i in range(numGames):\n",
    "        if i % 5000 == 0:\n",
    "            print(\"starting game {}\".format(i))\n",
    "        # 获取观测：小车的位置X，小车速度，摆杆角度，摆杆速度\n",
    "        observation = env.reset()\n",
    "        \n",
    "        done = False\n",
    "        epRewards = 0\n",
    "\n",
    "        while not done:\n",
    "            s = getState(observation)\n",
    "            rand = np.random.random()\n",
    "            a = maxAction(Q1, Q2, s) if rand < (1-EPS) else env.action_space.sample()\n",
    "        \n",
    "            observation_, reward, done, info = env.step(a)\n",
    "            epRewards += reward\n",
    "            \n",
    "            s_ = getState(observation_)\n",
    "            rand = np.random.random()\n",
    "            if rand <= 0.5:\n",
    "                a_ = maxAction(Q1, Q1, s_)\n",
    "                Q1[s, a] = Q1[s, a] + ALPHA*(reward + GAMMA*Q2[s_, a_] - Q1[s, a])\n",
    "            else:\n",
    "                a_ = maxAction(Q2, Q2, s_)\n",
    "                Q2[s, a] = Q2[s, a] + ALPHA*(reward + GAMMA*Q1[s_, a_] - Q2[s, a])\n",
    "                \n",
    "#             a_ = maxAction(Q, s_) if rand < (1-EPS) else env.action_space.sample()\n",
    "            \n",
    "            \n",
    "#             Q[s,a] = Q[s,a] + ALPHA*(reward + GAMMA*Q[s_, a_] - Q[s, a])\n",
    "            observation = observation_\n",
    "\n",
    "        EPS -= 2/(numGames) if EPS > 0 else 0\n",
    "        totalRewards[i] = epRewards\n",
    "        \n",
    "    \n",
    "    plotRunningAverage(totalRewards)"
   ]
  },
  {
   "cell_type": "code",
   "execution_count": null,
   "id": "83686136",
   "metadata": {},
   "outputs": [],
   "source": []
  }
 ],
 "metadata": {
  "kernelspec": {
   "display_name": "Python 3 (ipykernel)",
   "language": "python",
   "name": "python3"
  },
  "language_info": {
   "codemirror_mode": {
    "name": "ipython",
    "version": 3
   },
   "file_extension": ".py",
   "mimetype": "text/x-python",
   "name": "python",
   "nbconvert_exporter": "python",
   "pygments_lexer": "ipython3",
   "version": "3.9.4"
  },
  "toc": {
   "base_numbering": 1,
   "nav_menu": {},
   "number_sections": true,
   "sideBar": true,
   "skip_h1_title": false,
   "title_cell": "Table of Contents",
   "title_sidebar": "Contents",
   "toc_cell": false,
   "toc_position": {},
   "toc_section_display": true,
   "toc_window_display": true
  }
 },
 "nbformat": 4,
 "nbformat_minor": 5
}
