{
 "cells": [
  {
   "cell_type": "code",
   "execution_count": 1,
   "id": "1217bbee",
   "metadata": {},
   "outputs": [
    {
     "name": "stdout",
     "output_type": "stream",
     "text": [
      "Requirement already satisfied: ale-py in /Users/tinyzqh/miniforge3/lib/python3.9/site-packages (0.7.4)\r\n",
      "Requirement already satisfied: numpy in /Users/tinyzqh/miniforge3/lib/python3.9/site-packages (from ale-py) (1.22.3)\r\n",
      "Requirement already satisfied: importlib-resources in /Users/tinyzqh/miniforge3/lib/python3.9/site-packages (from ale-py) (5.4.0)\r\n",
      "Requirement already satisfied: importlib-metadata>=4.10.0 in /Users/tinyzqh/miniforge3/lib/python3.9/site-packages (from ale-py) (4.11.0)\r\n",
      "Requirement already satisfied: zipp>=0.5 in /Users/tinyzqh/miniforge3/lib/python3.9/site-packages (from importlib-metadata>=4.10.0->ale-py) (3.7.0)\r\n"
     ]
    }
   ],
   "source": [
    "!pip install ale-py"
   ]
  },
  {
   "cell_type": "code",
   "execution_count": 2,
   "id": "a956ff22",
   "metadata": {},
   "outputs": [
    {
     "name": "stderr",
     "output_type": "stream",
     "text": [
      "\n"
     ]
    }
   ],
   "source": [
    "import gym\n",
    "import numpy as np\n",
    "import matplotlib.pyplot as plt"
   ]
  },
  {
   "cell_type": "code",
   "execution_count": 3,
   "id": "5c28b94b",
   "metadata": {},
   "outputs": [
    {
     "name": "stdout",
     "output_type": "stream",
     "text": [
      "['Tetris']\n"
     ]
    }
   ],
   "source": [
    "import ale_py.roms as roms\n",
    "print(roms.__all__)"
   ]
  },
  {
   "cell_type": "code",
   "execution_count": 4,
   "id": "a19f859b",
   "metadata": {},
   "outputs": [],
   "source": [
    "from ale_py.roms import Tetris"
   ]
  },
  {
   "cell_type": "markdown",
   "id": "09397784",
   "metadata": {},
   "source": [
    "## 查看环境"
   ]
  },
  {
   "cell_type": "code",
   "execution_count": 5,
   "id": "d60e7c9a",
   "metadata": {},
   "outputs": [
    {
     "name": "stderr",
     "output_type": "stream",
     "text": [
      "/Users/tinyzqh/miniforge3/lib/python3.9/site-packages/gym/envs/registration.py:511: UserWarning: \u001b[33mWARN: Using the latest versioned environment `ALE/Tetris-v5` instead of the unversioned environment `ALE/Tetris`\u001b[0m\n",
      "  logger.warn(\n",
      "A.L.E: Arcade Learning Environment (version 0.7.4+069f8bd)\n",
      "[Powered by Stella]\n"
     ]
    }
   ],
   "source": [
    "env = gym.make('ALE/Tetris')"
   ]
  },
  {
   "cell_type": "code",
   "execution_count": 6,
   "id": "f2b6ec01",
   "metadata": {},
   "outputs": [
    {
     "name": "stdout",
     "output_type": "stream",
     "text": [
      "Box(0, 255, (210, 160, 3), uint8)\n"
     ]
    }
   ],
   "source": [
    "print(env.observation_space)"
   ]
  },
  {
   "cell_type": "code",
   "execution_count": 7,
   "id": "673d6f3c",
   "metadata": {},
   "outputs": [
    {
     "name": "stdout",
     "output_type": "stream",
     "text": [
      "Discrete(5)\n"
     ]
    }
   ],
   "source": [
    "print(env.action_space)"
   ]
  },
  {
   "cell_type": "code",
   "execution_count": 8,
   "id": "f3766310",
   "metadata": {},
   "outputs": [
    {
     "data": {
      "image/png": "[encoded data removed]",
      "text/plain": [
       "<Figure size 432x288 with 1 Axes>"
      ]
     },
     "metadata": {
      "needs_background": "light"
     },
     "output_type": "display_data"
    }
   ],
   "source": [
    "plt.imshow(env.render(\"rgb_array\"))\n",
    "plt.show()"
   ]
  },
  {
   "cell_type": "markdown",
   "id": "39f1bdd7",
   "metadata": {},
   "source": [
    "## 预处理输入图像"
   ]
  },
  {
   "cell_type": "code",
   "execution_count": 9,
   "id": "e9995a45",
   "metadata": {},
   "outputs": [],
   "source": [
    "from skimage.transform import resize\n",
    "from skimage.color import rgb2gray, gray2rgb\n",
    "from skimage import img_as_float\n",
    "\n",
    "from gym.core import ObservationWrapper\n",
    "from gym.spaces import Box\n",
    "\n",
    "class PreprocessAtari(ObservationWrapper):\n",
    "    def __init__(self, env):\n",
    "        \"\"\"\n",
    "        将原始图像转换成指定大小的灰度图\n",
    "        \"\"\"\n",
    "        super(PreprocessAtari, self).__init__(env)\n",
    "        \n",
    "        self.img_size = (64, 64)\n",
    "        self.observation_space = Box(0.0, 1.0, (self.img_size[0], self.img_size[1], 1))\n",
    "\n",
    "    def observation(self, img):\n",
    "        \n",
    "        img = img[20:-5, 5:-70]  # 裁剪图像。\n",
    "        img = resize(img, self.img_size)  # 重定义大小。\n",
    "        img = rgb2gray(img)  # 转换成灰度图。\n",
    "        img = np.expand_dims(img, -1)  \n",
    "        img = img_as_float(img)\n",
    "        img = np.float32(img)\n",
    "        \n",
    "        return img"
   ]
  },
  {
   "cell_type": "code",
   "execution_count": 10,
   "id": "c4fd651b",
   "metadata": {},
   "outputs": [
    {
     "name": "stdout",
     "output_type": "stream",
     "text": [
      "observation shape (64, 64, 1)\n",
      "n_actions shape 5\n",
      "Formal tests seem fine. Here's an example of what you'll get.\n"
     ]
    },
    {
     "data": {
      "image/png": "[encoded data removed]",
      "text/plain": [
       "<Figure size 432x288 with 1 Axes>"
      ]
     },
     "metadata": {
      "needs_background": "light"
     },
     "output_type": "display_data"
    }
   ],
   "source": [
    "env = PreprocessAtari(env)\n",
    "\n",
    "observation_shape = env.observation_space.shape\n",
    "n_actions = env.action_space.n\n",
    "\n",
    "print(\"observation shape {}\".format(observation_shape))\n",
    "print(\"n_actions shape {}\".format(n_actions))\n",
    "\n",
    "obs = env.reset()\n",
    "\n",
    "#test observation\n",
    "assert obs.ndim == 3, \"observation must be [batch, time, channels] even if there's just one channel\"\n",
    "assert obs.shape == observation_shape\n",
    "assert obs.dtype == 'float32'\n",
    "assert len(np.unique(obs)) > 2, \"your image must not be binary\"\n",
    "assert 0 <= np.min(obs) and np.max(obs) <=1, \"convert image pixels to (0,1) range\"\n",
    "\n",
    "print(\"Formal tests seem fine. Here's an example of what you'll get.\")\n",
    "\n",
    "plt.title(\"what your network gonna see\")\n",
    "plt.imshow(obs[:,:,0],interpolation='none',cmap='gray')"
   ]
  },
  {
   "cell_type": "markdown",
   "id": "2078a495",
   "metadata": {},
   "source": [
    "## 图像Buffer\n",
    "\n",
    "由于每次`step`都是处理一张图像，为了看到图像之间的前后关系，这里采用一个图像`buffer`存储多张图像。"
   ]
  },
  {
   "cell_type": "code",
   "execution_count": 11,
   "id": "621350a2",
   "metadata": {},
   "outputs": [],
   "source": [
    "from gym.core import Wrapper\n",
    "\n",
    "class FrameBuffer(Wrapper):\n",
    "    def __init__(self, env, n_frames=4):\n",
    "        \"\"\"将图像的通道数乘以n_frames\"\"\"\n",
    "        super(FrameBuffer, self).__init__(env)\n",
    "        height, width, n_channels = env.observation_space.shape\n",
    "        obs_shape = [n_channels * n_frames, height, width]\n",
    "        \n",
    "        self.observation_space = Box(0.0, 1.0, obs_shape)\n",
    "        self.framebuffer = np.zeros(obs_shape, 'float32')\n",
    "        \n",
    "    def reset(self):\n",
    "        \"\"\"resets breakout, returns initial frames\"\"\"\n",
    "        self.framebuffer = np.zeros_like(self.framebuffer)\n",
    "        self.update_buffer(self.env.reset())\n",
    "        return self.framebuffer\n",
    "    \n",
    "    def step(self, action):\n",
    "        \"\"\"plays breakout for 1 step, returns frame buffer\"\"\"\n",
    "        new_img, reward, done, info = self.env.step(action)\n",
    "        self.update_buffer(new_img)\n",
    "        return self.framebuffer, reward, done, info\n",
    "    \n",
    "    def update_buffer(self, img):\n",
    "        \n",
    "        offset = self.env.observation_space.shape[-1]\n",
    "        axis = 0\n",
    "        cropped_framebuffer = self.framebuffer[:-offset]\n",
    "        img = img.reshape(-1, self.env.observation_space.shape[0], self.env.observation_space.shape[1])\n",
    "        \n",
    "        self.framebuffer = np.concatenate([img, cropped_framebuffer], axis = axis)"
   ]
  },
  {
   "cell_type": "markdown",
   "id": "1df4b7d7",
   "metadata": {},
   "source": [
    "## 构建环境函数\n",
    "\n",
    "基于上面的输入预处理和图像`Buffer`构建封装之后的环境:"
   ]
  },
  {
   "cell_type": "code",
   "execution_count": 12,
   "id": "e1589fea",
   "metadata": {},
   "outputs": [],
   "source": [
    "def make_env():\n",
    "    env = gym.make('ALE/Tetris')\n",
    "    env = PreprocessAtari(env)\n",
    "    print(env.observation_space.shape)\n",
    "    env = FrameBuffer(env, n_frames=4)\n",
    "    return env"
   ]
  },
  {
   "cell_type": "code",
   "execution_count": 13,
   "id": "a9779e52",
   "metadata": {},
   "outputs": [
    {
     "name": "stdout",
     "output_type": "stream",
     "text": [
      "(64, 64, 1)\n",
      "n_actions : 5\n",
      "obs shape : (4, 64, 64)\n"
     ]
    },
    {
     "name": "stderr",
     "output_type": "stream",
     "text": [
      "/Users/tinyzqh/miniforge3/lib/python3.9/site-packages/gym/envs/registration.py:511: UserWarning: \u001b[33mWARN: Using the latest versioned environment `ALE/Tetris-v5` instead of the unversioned environment `ALE/Tetris`\u001b[0m\n",
      "  logger.warn(\n"
     ]
    }
   ],
   "source": [
    "env = make_env()\n",
    "env.reset()\n",
    "n_actions = env.action_space.n\n",
    "state_dim = env.observation_space.shape\n",
    "print(\"n_actions : {}\".format(n_actions))\n",
    "print(\"obs shape : {}\".format(state_dim))"
   ]
  },
  {
   "cell_type": "code",
   "execution_count": 14,
   "id": "83b24326",
   "metadata": {
    "scrolled": true
   },
   "outputs": [
    {
     "name": "stdout",
     "output_type": "stream",
     "text": [
      "(4, 64, 64)\n"
     ]
    },
    {
     "data": {
      "image/png": "[encoded data removed]",
      "text/plain": [
       "<Figure size 432x288 with 1 Axes>"
      ]
     },
     "metadata": {
      "needs_background": "light"
     },
     "output_type": "display_data"
    },
    {
     "data": {
      "text/plain": [
       "<matplotlib.image.AxesImage at 0x14ad52fa0>"
      ]
     },
     "execution_count": 14,
     "metadata": {},
     "output_type": "execute_result"
    },
    {
     "data": {
      "image/png": "[encoded data removed]",
      "text/plain": [
       "<Figure size 432x288 with 1 Axes>"
      ]
     },
     "metadata": {
      "needs_background": "light"
     },
     "output_type": "display_data"
    }
   ],
   "source": [
    "for _ in range(50):\n",
    "    obs, _, _, _ = env.step(env.action_space.sample())\n",
    "\n",
    "print(obs.reshape([-1, state_dim[1], state_dim[2]]).shape)\n",
    "plt.title(\"Game image\")\n",
    "plt.imshow(env.render(\"rgb_array\"))\n",
    "plt.show()\n",
    "plt.title(\"Agent observation (4 frames top to bottom)\")\n",
    "plt.imshow(obs.transpose([1, 0, 2]).reshape([state_dim[1] , -1]))"
   ]
  },
  {
   "cell_type": "markdown",
   "id": "2c110b55",
   "metadata": {},
   "source": [
    "## 构建智能体"
   ]
  },
  {
   "cell_type": "code",
   "execution_count": 15,
   "id": "82039b89",
   "metadata": {},
   "outputs": [],
   "source": [
    "import torch.nn as nn\n",
    "\n",
    "class DQNAgent(nn.Module):\n",
    "    def __init__(self, state_shape, n_actions, epsilon=0):\n",
    "        super(DQNAgent, self).__init__()\n",
    "        \n",
    "        self.epsilon = epsilon\n",
    "        self.n_actions = n_actions\n",
    "        img_c, img_w, img_h = state_shape\n",
    "        \n",
    "        self.net = nn.Sequential(\n",
    "            nn.Conv2d(4, 16, kernel_size=3, stride=2),\n",
    "            nn.ReLU(),\n",
    "            nn.Conv2d(16, 32, kernel_size=3, stride=2),\n",
    "            nn.ReLU(),\n",
    "            nn.Conv2d(32, 64, kernel_size=3, stride=2),\n",
    "            nn.ReLU(),\n",
    "            nn.Flatten(),\n",
    "            nn.Linear(1*64*7*7, 256),\n",
    "            nn.ReLU(),\n",
    "            nn.Linear(256, self.n_actions)\n",
    "        )\n",
    "            \n",
    "\n",
    "    def forward(self, state_t):\n",
    "        \"\"\"\n",
    "        接收观测输入，返回q_values。\n",
    "        参数: state_t是一个batch的4帧图片，shape = [batch_size, 4, h, w]\n",
    "        \"\"\"\n",
    "        q_values = self.net(state_t)\n",
    "        assert isinstance(q_values, torch.Tensor) and q_values.requires_grad, \"qvalues must be a torch variable with grad\"\n",
    "        assert len(q_values.shape) == 2 and q_values.shape[0] == state_t.shape[0] and q_values.shape[1] == n_actions\n",
    "        return q_values\n",
    "\n",
    "    def get_qvalues(self, states):\n",
    "        \"\"\"\n",
    "        与前向传播类似，但是返回numpy数据类型，不返回变量。\n",
    "        \"\"\"\n",
    "        states = torch.FloatTensor(np.asarray(states))\n",
    "        q_values = self.forward(states)\n",
    "        \n",
    "        return q_values.data.cpu().numpy()\n",
    "    \n",
    "    def sample_actions(self, qvalues):\n",
    "        \"\"\"\n",
    "        基于epsilon-greedy exploration策略选择动作\n",
    "        \"\"\"\n",
    "        epsilon = self.epsilon\n",
    "        batch_size, n_actions = qvalues.shape\n",
    "        \n",
    "        random_actions = np.random.choice(n_actions, size=batch_size)\n",
    "        best_actions = qvalues.argmax(axis=-1)\n",
    "        \n",
    "        should_explore = np.random.choice([0, 1], batch_size, p = [epsilon, 1 - epsilon])\n",
    "        return np.where(should_explore, random_actions, best_actions)"
   ]
  },
  {
   "cell_type": "code",
   "execution_count": 16,
   "id": "054a162c",
   "metadata": {},
   "outputs": [],
   "source": [
    "agent = DQNAgent(state_dim, n_actions, epsilon=0.5)"
   ]
  },
  {
   "cell_type": "markdown",
   "id": "cefbc1fb",
   "metadata": {},
   "source": [
    "### 测试智能体网络"
   ]
  },
  {
   "cell_type": "code",
   "execution_count": 17,
   "id": "9cc9e67e",
   "metadata": {},
   "outputs": [
    {
     "name": "stdout",
     "output_type": "stream",
     "text": [
      "Conv2d Out Put Shape:  torch.Size([1, 16, 31, 31])\n",
      "ReLU Out Put Shape:  torch.Size([1, 16, 31, 31])\n",
      "Conv2d Out Put Shape:  torch.Size([1, 32, 15, 15])\n",
      "ReLU Out Put Shape:  torch.Size([1, 32, 15, 15])\n",
      "Conv2d Out Put Shape:  torch.Size([1, 64, 7, 7])\n",
      "ReLU Out Put Shape:  torch.Size([1, 64, 7, 7])\n",
      "Flatten Out Put Shape:  torch.Size([1, 3136])\n",
      "Linear Out Put Shape:  torch.Size([1, 256])\n",
      "ReLU Out Put Shape:  torch.Size([1, 256])\n",
      "Linear Out Put Shape:  torch.Size([1, 5])\n"
     ]
    }
   ],
   "source": [
    "import torch\n",
    "X = torch.randn(size=(1, 4, 64, 64), dtype=torch.float32)\n",
    "for layer in agent.net:\n",
    "    X = layer(X)\n",
    "    print(layer.__class__.__name__, \"Out Put Shape: \", X.shape)"
   ]
  },
  {
   "cell_type": "markdown",
   "id": "83434867",
   "metadata": {},
   "source": [
    "### 测试网络前向传播"
   ]
  },
  {
   "cell_type": "code",
   "execution_count": 18,
   "id": "8aeae165",
   "metadata": {},
   "outputs": [
    {
     "name": "stdout",
     "output_type": "stream",
     "text": [
      "tensor([[ 0.0004,  0.0248,  0.0154,  0.0359, -0.1001]],\n",
      "       grad_fn=<AddmmBackward>)\n"
     ]
    }
   ],
   "source": [
    "X = torch.randn(size=(1, 4, 64, 64), dtype=torch.float32)\n",
    "print(agent(X))"
   ]
  },
  {
   "cell_type": "code",
   "execution_count": 38,
   "id": "d52a902b",
   "metadata": {},
   "outputs": [],
   "source": [
    "def evaluate(env, agent, n_games=1, greedy=False, t_max=10000):\n",
    "    rewards = []\n",
    "    for _ in range(n_games):\n",
    "        obs = env.reset()\n",
    "        reward = 0\n",
    "        for _ in range(t_max):\n",
    "            obs = np.expand_dims(obs, axis=0)  # 扩展一个batch_size的维度。\n",
    "            q_values = agent.get_qvalues(obs)\n",
    "            action = q_values.argmax(axis=-1)[0] if greedy else agent.sample_actions(q_values)[0]\n",
    "            next_obs, reward, done, info = env.step(action)\n",
    "            reward += 0\n",
    "            \n",
    "            if done: break\n",
    "            obs = next_obs\n",
    "        rewards.append(reward)\n",
    "    return np.mean(rewards)"
   ]
  },
  {
   "cell_type": "code",
   "execution_count": 39,
   "id": "d608724d",
   "metadata": {},
   "outputs": [
    {
     "data": {
      "text/plain": [
       "0.0"
      ]
     },
     "execution_count": 39,
     "metadata": {},
     "output_type": "execute_result"
    }
   ],
   "source": [
    "evaluate(env, agent, n_games=1)"
   ]
  },
  {
   "cell_type": "code",
   "execution_count": null,
   "id": "210250a8",
   "metadata": {},
   "outputs": [],
   "source": []
  }
 ],
 "metadata": {
  "kernelspec": {
   "display_name": "Python 3 (ipykernel)",
   "language": "python",
   "name": "python3"
  },
  "language_info": {
   "codemirror_mode": {
    "name": "ipython",
    "version": 3
   },
   "file_extension": ".py",
   "mimetype": "text/x-python",
   "name": "python",
   "nbconvert_exporter": "python",
   "pygments_lexer": "ipython3",
   "version": "3.9.4"
  },
  "toc": {
   "base_numbering": 1,
   "nav_menu": {},
   "number_sections": true,
   "sideBar": true,
   "skip_h1_title": false,
   "title_cell": "Table of Contents",
   "title_sidebar": "Contents",
   "toc_cell": false,
   "toc_position": {},
   "toc_section_display": true,
   "toc_window_display": true
  }
 },
 "nbformat": 4,
 "nbformat_minor": 5
}
