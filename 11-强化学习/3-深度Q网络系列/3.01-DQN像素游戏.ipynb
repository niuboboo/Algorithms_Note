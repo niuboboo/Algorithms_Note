{
 "cells": [
  {
   "cell_type": "code",
   "execution_count": 1,
   "id": "654dac8f",
   "metadata": {},
   "outputs": [
    {
     "name": "stdout",
     "output_type": "stream",
     "text": [
      "Requirement already satisfied: ale-py in /Users/tinyzqh/miniforge3/lib/python3.9/site-packages (0.7.4)\r\n",
      "Requirement already satisfied: importlib-resources in /Users/tinyzqh/miniforge3/lib/python3.9/site-packages (from ale-py) (5.4.0)\r\n",
      "Requirement already satisfied: numpy in /Users/tinyzqh/miniforge3/lib/python3.9/site-packages (from ale-py) (1.22.3)\r\n",
      "Requirement already satisfied: importlib-metadata>=4.10.0 in /Users/tinyzqh/miniforge3/lib/python3.9/site-packages (from ale-py) (4.11.0)\r\n",
      "Requirement already satisfied: zipp>=0.5 in /Users/tinyzqh/miniforge3/lib/python3.9/site-packages (from importlib-metadata>=4.10.0->ale-py) (3.7.0)\r\n"
     ]
    }
   ],
   "source": [
    "!pip install ale-py"
   ]
  },
  {
   "cell_type": "code",
   "execution_count": 2,
   "id": "43a2fd29",
   "metadata": {},
   "outputs": [
    {
     "name": "stderr",
     "output_type": "stream",
     "text": [
      "\n"
     ]
    }
   ],
   "source": [
    "import gym\n",
    "import numpy as np\n",
    "import matplotlib.pyplot as plt"
   ]
  },
  {
   "cell_type": "code",
   "execution_count": 3,
   "id": "0ed6d807",
   "metadata": {},
   "outputs": [
    {
     "name": "stdout",
     "output_type": "stream",
     "text": [
      "['Tetris']\n"
     ]
    }
   ],
   "source": [
    "import ale_py.roms as roms\n",
    "print(roms.__all__)"
   ]
  },
  {
   "cell_type": "code",
   "execution_count": 4,
   "id": "c6d4f00f",
   "metadata": {},
   "outputs": [],
   "source": [
    "from ale_py.roms import Tetris"
   ]
  },
  {
   "cell_type": "markdown",
   "id": "36f5592d",
   "metadata": {},
   "source": [
    "## 查看环境"
   ]
  },
  {
   "cell_type": "code",
   "execution_count": 5,
   "id": "35aaf3cf",
   "metadata": {},
   "outputs": [
    {
     "name": "stderr",
     "output_type": "stream",
     "text": [
      "/Users/tinyzqh/miniforge3/lib/python3.9/site-packages/gym/envs/registration.py:511: UserWarning: \u001b[33mWARN: Using the latest versioned environment `ALE/Tetris-v5` instead of the unversioned environment `ALE/Tetris`\u001b[0m\n",
      "  logger.warn(\n",
      "A.L.E: Arcade Learning Environment (version 0.7.4+069f8bd)\n",
      "[Powered by Stella]\n"
     ]
    }
   ],
   "source": [
    "env = gym.make('ALE/Tetris')"
   ]
  },
  {
   "cell_type": "code",
   "execution_count": 6,
   "id": "c35294bc",
   "metadata": {},
   "outputs": [
    {
     "name": "stdout",
     "output_type": "stream",
     "text": [
      "Box(0, 255, (210, 160, 3), uint8)\n"
     ]
    }
   ],
   "source": [
    "print(env.observation_space)"
   ]
  },
  {
   "cell_type": "code",
   "execution_count": 7,
   "id": "819a8eb1",
   "metadata": {},
   "outputs": [
    {
     "name": "stdout",
     "output_type": "stream",
     "text": [
      "Discrete(5)\n"
     ]
    }
   ],
   "source": [
    "print(env.action_space)"
   ]
  },
  {
   "cell_type": "code",
   "execution_count": 8,
   "id": "8ce51bf5",
   "metadata": {},
   "outputs": [
    {
     "data": {
      "image/png": "[encoded data removed]",
      "text/plain": [
       "<Figure size 432x288 with 1 Axes>"
      ]
     },
     "metadata": {
      "needs_background": "light"
     },
     "output_type": "display_data"
    }
   ],
   "source": [
    "plt.imshow(env.render(\"rgb_array\"))\n",
    "plt.show()"
   ]
  },
  {
   "cell_type": "markdown",
   "id": "808f77ed",
   "metadata": {},
   "source": [
    "## 预处理输入图像"
   ]
  },
  {
   "cell_type": "code",
   "execution_count": 9,
   "id": "ddce9c27",
   "metadata": {},
   "outputs": [],
   "source": [
    "from skimage.transform import resize\n",
    "from skimage.color import rgb2gray, gray2rgb\n",
    "from skimage import img_as_float\n",
    "\n",
    "from gym.core import ObservationWrapper\n",
    "from gym.spaces import Box\n",
    "\n",
    "class PreprocessAtari(ObservationWrapper):\n",
    "    def __init__(self, env):\n",
    "        \"\"\"\n",
    "        将原始图像转换成指定大小的灰度图\n",
    "        \"\"\"\n",
    "        super(PreprocessAtari, self).__init__(env)\n",
    "        \n",
    "        self.img_size = (64, 64)\n",
    "        self.observation_space = Box(0.0, 1.0, (self.img_size[0], self.img_size[1], 1))\n",
    "\n",
    "    def observation(self, img):\n",
    "        \n",
    "        img = img[20:-5, 5:-70]  # 裁剪图像。\n",
    "        img = resize(img, self.img_size)  # 重定义大小。\n",
    "        img = rgb2gray(img)  # 转换成灰度图。\n",
    "        img = np.expand_dims(img, -1)  \n",
    "        img = img_as_float(img)\n",
    "        img = np.float32(img)\n",
    "        \n",
    "        return img"
   ]
  },
  {
   "cell_type": "code",
   "execution_count": 10,
   "id": "110b709e",
   "metadata": {},
   "outputs": [
    {
     "name": "stdout",
     "output_type": "stream",
     "text": [
      "observation shape (64, 64, 1)\n",
      "n_actions shape 5\n",
      "Formal tests seem fine. Here's an example of what you'll get.\n"
     ]
    },
    {
     "data": {
      "text/plain": [
       "<matplotlib.image.AxesImage at 0x123e35760>"
      ]
     },
     "execution_count": 10,
     "metadata": {},
     "output_type": "execute_result"
    },
    {
     "data": {
      "image/png": "[encoded data removed]",
      "text/plain": [
       "<Figure size 432x288 with 1 Axes>"
      ]
     },
     "metadata": {
      "needs_background": "light"
     },
     "output_type": "display_data"
    }
   ],
   "source": [
    "env = PreprocessAtari(env)\n",
    "\n",
    "observation_shape = env.observation_space.shape\n",
    "n_actions = env.action_space.n\n",
    "\n",
    "print(\"observation shape {}\".format(observation_shape))\n",
    "print(\"n_actions shape {}\".format(n_actions))\n",
    "\n",
    "obs = env.reset()\n",
    "\n",
    "#test observation\n",
    "assert obs.ndim == 3, \"observation must be [batch, time, channels] even if there's just one channel\"\n",
    "assert obs.shape == observation_shape\n",
    "assert obs.dtype == 'float32'\n",
    "assert len(np.unique(obs)) > 2, \"your image must not be binary\"\n",
    "assert 0 <= np.min(obs) and np.max(obs) <=1, \"convert image pixels to (0,1) range\"\n",
    "\n",
    "print(\"Formal tests seem fine. Here's an example of what you'll get.\")\n",
    "\n",
    "plt.title(\"what your network gonna see\")\n",
    "plt.imshow(obs[:,:,0],interpolation='none',cmap='gray')"
   ]
  },
  {
   "cell_type": "markdown",
   "id": "8f3316b3",
   "metadata": {},
   "source": [
    "## 图像Buffer\n",
    "\n",
    "由于每次`step`都是处理一张图像，为了看到图像之间的前后关系，这里采用一个图像`buffer`存储多张图像。"
   ]
  },
  {
   "cell_type": "code",
   "execution_count": 11,
   "id": "843c4e00",
   "metadata": {},
   "outputs": [],
   "source": [
    "from gym.core import Wrapper\n",
    "\n",
    "class FrameBuffer(Wrapper):\n",
    "    def __init__(self, env, n_frames=4):\n",
    "        \"\"\"将图像的通道数乘以n_frames\"\"\"\n",
    "        super(FrameBuffer, self).__init__(env)\n",
    "        height, width, n_channels = env.observation_space.shape\n",
    "        obs_shape = [n_channels * n_frames, height, width]\n",
    "        \n",
    "        self.observation_space = Box(0.0, 1.0, obs_shape)\n",
    "        self.framebuffer = np.zeros(obs_shape, 'float32')\n",
    "        \n",
    "    def reset(self):\n",
    "        \"\"\"resets breakout, returns initial frames\"\"\"\n",
    "        self.framebuffer = np.zeros_like(self.framebuffer)\n",
    "        self.update_buffer(self.env.reset())\n",
    "        return self.framebuffer\n",
    "    \n",
    "    def step(self, action):\n",
    "        \"\"\"plays breakout for 1 step, returns frame buffer\"\"\"\n",
    "        new_img, reward, done, info = self.env.step(action)\n",
    "        self.update_buffer(new_img)\n",
    "        return self.framebuffer, reward, done, info\n",
    "    \n",
    "    def update_buffer(self, img):\n",
    "        \n",
    "        offset = self.env.observation_space.shape[-1]\n",
    "        axis = 0\n",
    "        cropped_framebuffer = self.framebuffer[:-offset]\n",
    "        img = img.reshape(-1, self.env.observation_space.shape[0], self.env.observation_space.shape[1])\n",
    "        \n",
    "        self.framebuffer = np.concatenate([img, cropped_framebuffer], axis = axis)"
   ]
  },
  {
   "cell_type": "markdown",
   "id": "f9e0b3e3",
   "metadata": {},
   "source": [
    "## 构建环境函数\n",
    "\n",
    "基于上面的输入预处理和图像`Buffer`构建封装之后的环境:"
   ]
  },
  {
   "cell_type": "code",
   "execution_count": 12,
   "id": "53243772",
   "metadata": {},
   "outputs": [],
   "source": [
    "def make_env():\n",
    "    env = gym.make('ALE/Tetris')\n",
    "    env = PreprocessAtari(env)\n",
    "    print(env.observation_space.shape)\n",
    "    env = FrameBuffer(env, n_frames=4)\n",
    "    return env"
   ]
  },
  {
   "cell_type": "code",
   "execution_count": 13,
   "id": "eb8a864f",
   "metadata": {},
   "outputs": [
    {
     "name": "stdout",
     "output_type": "stream",
     "text": [
      "(64, 64, 1)\n",
      "n_actions : 5\n",
      "obs shape : (4, 64, 64)\n"
     ]
    },
    {
     "name": "stderr",
     "output_type": "stream",
     "text": [
      "/Users/tinyzqh/miniforge3/lib/python3.9/site-packages/gym/envs/registration.py:511: UserWarning: \u001b[33mWARN: Using the latest versioned environment `ALE/Tetris-v5` instead of the unversioned environment `ALE/Tetris`\u001b[0m\n",
      "  logger.warn(\n"
     ]
    }
   ],
   "source": [
    "env = make_env()\n",
    "env.reset()\n",
    "n_actions = env.action_space.n\n",
    "state_dim = env.observation_space.shape\n",
    "print(\"n_actions : {}\".format(n_actions))\n",
    "print(\"obs shape : {}\".format(state_dim))"
   ]
  },
  {
   "cell_type": "code",
   "execution_count": 14,
   "id": "6f2ebeb1",
   "metadata": {
    "scrolled": true
   },
   "outputs": [
    {
     "name": "stdout",
     "output_type": "stream",
     "text": [
      "(4, 64, 64)\n"
     ]
    },
    {
     "data": {
      "image/png": "[encoded data removed]",
      "text/plain": [
       "<Figure size 432x288 with 1 Axes>"
      ]
     },
     "metadata": {
      "needs_background": "light"
     },
     "output_type": "display_data"
    },
    {
     "data": {
      "text/plain": [
       "<matplotlib.image.AxesImage at 0x1270abe50>"
      ]
     },
     "execution_count": 14,
     "metadata": {},
     "output_type": "execute_result"
    },
    {
     "data": {
      "image/png": "[encoded data removed]",
      "text/plain": [
       "<Figure size 432x288 with 1 Axes>"
      ]
     },
     "metadata": {
      "needs_background": "light"
     },
     "output_type": "display_data"
    }
   ],
   "source": [
    "for _ in range(50):\n",
    "    obs, _, _, _ = env.step(env.action_space.sample())\n",
    "\n",
    "print(obs.reshape([-1, state_dim[1], state_dim[2]]).shape)\n",
    "plt.title(\"Game image\")\n",
    "plt.imshow(env.render(\"rgb_array\"))\n",
    "plt.show()\n",
    "plt.title(\"Agent observation (4 frames top to bottom)\")\n",
    "plt.imshow(obs.transpose([1, 0, 2]).reshape([state_dim[1] , -1]))"
   ]
  },
  {
   "cell_type": "markdown",
   "id": "80cb0949",
   "metadata": {},
   "source": [
    "## 构建智能体"
   ]
  },
  {
   "cell_type": "code",
   "execution_count": 15,
   "id": "017cb9fc",
   "metadata": {},
   "outputs": [],
   "source": [
    "import torch.nn as nn\n",
    "\n",
    "class DQNAgent(nn.Module):\n",
    "    def __init__(self, state_shape, n_actions, epsilon=0):\n",
    "        super(DQNAgent, self).__init__()\n",
    "        \n",
    "        self.epsilon = epsilon\n",
    "        self.n_actions = n_actions\n",
    "        img_c, img_w, img_h = state_shape\n",
    "        \n",
    "        self.net = nn.Sequential(\n",
    "            nn.Conv2d(4, 16, kernel_size=3, stride=2),\n",
    "            nn.ReLU(),\n",
    "            nn.Conv2d(16, 32, kernel_size=3, stride=2),\n",
    "            nn.ReLU(),\n",
    "            nn.Conv2d(32, 64, kernel_size=3, stride=2),\n",
    "            nn.ReLU(),\n",
    "            nn.Flatten(),\n",
    "            nn.Linear(1*64*7*7, 256),\n",
    "            nn.ReLU(),\n",
    "            nn.Linear(256, self.n_actions)\n",
    "        )\n",
    "            \n",
    "\n",
    "    def forward(self, state_t):\n",
    "        \"\"\"\n",
    "        接收观测输入，返回q_values。\n",
    "        参数: state_t是一个batch的4帧图片，shape = [batch_size, 4, h, w]\n",
    "        \"\"\"\n",
    "        q_values = self.net(state_t)\n",
    "        assert isinstance(q_values, torch.Tensor) and q_values.requires_grad, \"qvalues must be a torch variable with grad\"\n",
    "        assert len(q_values.shape) == 2 and q_values.shape[0] == state_t.shape[0] and q_values.shape[1] == n_actions\n",
    "        return q_values\n",
    "\n",
    "    def get_qvalues(self, states):\n",
    "        \"\"\"\n",
    "        与前向传播类似，但是返回numpy数据类型，不返回变量。\n",
    "        \"\"\"\n",
    "        states = torch.FloatTensor(np.asarray(states))\n",
    "        q_values = self.forward(states)\n",
    "        \n",
    "        return q_values.data.cpu().numpy()\n",
    "    \n",
    "    def sample_actions(self, qvalues):\n",
    "        \"\"\"\n",
    "        基于epsilon-greedy exploration策略选择动作\n",
    "        \"\"\"\n",
    "        epsilon = self.epsilon\n",
    "        batch_size, n_actions = qvalues.shape\n",
    "        \n",
    "        random_actions = np.random.choice(n_actions, size=batch_size)\n",
    "        best_actions = qvalues.argmax(axis=-1)\n",
    "        \n",
    "        should_explore = np.random.choice([0, 1], batch_size, p = [epsilon, 1 - epsilon])\n",
    "        return np.where(should_explore, random_actions, best_actions)"
   ]
  },
  {
   "cell_type": "code",
   "execution_count": 16,
   "id": "ab428364",
   "metadata": {},
   "outputs": [],
   "source": [
    "agent = DQNAgent(state_dim, n_actions, epsilon=0.5)"
   ]
  },
  {
   "cell_type": "markdown",
   "id": "a55e17eb",
   "metadata": {},
   "source": [
    "### 测试智能体网络"
   ]
  },
  {
   "cell_type": "code",
   "execution_count": 17,
   "id": "1eede636",
   "metadata": {},
   "outputs": [
    {
     "name": "stdout",
     "output_type": "stream",
     "text": [
      "Conv2d Out Put Shape:  torch.Size([1, 16, 31, 31])\n",
      "ReLU Out Put Shape:  torch.Size([1, 16, 31, 31])\n",
      "Conv2d Out Put Shape:  torch.Size([1, 32, 15, 15])\n",
      "ReLU Out Put Shape:  torch.Size([1, 32, 15, 15])\n",
      "Conv2d Out Put Shape:  torch.Size([1, 64, 7, 7])\n",
      "ReLU Out Put Shape:  torch.Size([1, 64, 7, 7])\n",
      "Flatten Out Put Shape:  torch.Size([1, 3136])\n",
      "Linear Out Put Shape:  torch.Size([1, 256])\n",
      "ReLU Out Put Shape:  torch.Size([1, 256])\n",
      "Linear Out Put Shape:  torch.Size([1, 5])\n"
     ]
    }
   ],
   "source": [
    "import torch\n",
    "X = torch.randn(size=(1, 4, 64, 64), dtype=torch.float32)\n",
    "for layer in agent.net:\n",
    "    X = layer(X)\n",
    "    print(layer.__class__.__name__, \"Out Put Shape: \", X.shape)"
   ]
  },
  {
   "cell_type": "markdown",
   "id": "b935a16f",
   "metadata": {},
   "source": [
    "### 测试网络前向传播"
   ]
  },
  {
   "cell_type": "code",
   "execution_count": 18,
   "id": "dea38f5d",
   "metadata": {},
   "outputs": [
    {
     "name": "stdout",
     "output_type": "stream",
     "text": [
      "tensor([[ 0.0522,  0.0381,  0.0578,  0.0044, -0.0507]],\n",
      "       grad_fn=<AddmmBackward>)\n"
     ]
    }
   ],
   "source": [
    "X = torch.randn(size=(1, 4, 64, 64), dtype=torch.float32)\n",
    "print(agent(X))"
   ]
  },
  {
   "cell_type": "code",
   "execution_count": 19,
   "id": "04d8756c",
   "metadata": {},
   "outputs": [],
   "source": [
    "def evaluate(env, agent, n_games=1, greedy=False, t_max=10000):\n",
    "    rewards = []\n",
    "    for _ in range(n_games):\n",
    "        obs = env.reset()\n",
    "        reward = 0\n",
    "        for _ in range(t_max):\n",
    "            obs = np.expand_dims(obs, axis=0)  # 扩展一个batch_size的维度。\n",
    "            q_values = agent.get_qvalues(obs)\n",
    "            action = q_values.argmax(axis=-1)[0] if greedy else agent.sample_actions(q_values)[0]\n",
    "            next_obs, reward, done, info = env.step(action)\n",
    "            reward += 0\n",
    "            \n",
    "            if done: break\n",
    "            obs = next_obs\n",
    "        rewards.append(reward)\n",
    "    return np.mean(rewards)"
   ]
  },
  {
   "cell_type": "code",
   "execution_count": 20,
   "id": "642fd933",
   "metadata": {},
   "outputs": [
    {
     "data": {
      "text/plain": [
       "0.0"
      ]
     },
     "execution_count": 20,
     "metadata": {},
     "output_type": "execute_result"
    }
   ],
   "source": [
    "evaluate(env, agent, n_games=1)"
   ]
  },
  {
   "cell_type": "markdown",
   "id": "f18cbfd9",
   "metadata": {},
   "source": [
    "## 经验回放"
   ]
  },
  {
   "cell_type": "code",
   "execution_count": 21,
   "id": "3587d799",
   "metadata": {},
   "outputs": [],
   "source": [
    "import random\n",
    "import numpy as np\n",
    "\n",
    "class ReplayBuffer(object):\n",
    "    def __init__(self, size):\n",
    "        \"\"\"\n",
    "        创建一个Buffer。\n",
    "        \"\"\"\n",
    "        self.buffer = []\n",
    "        self._maxsize = size\n",
    "        self.cnt = 0\n",
    "        \n",
    "    def __len__(self):\n",
    "        \"\"\"\n",
    "        返回buffer的长度。\n",
    "        \"\"\"\n",
    "        return len(self.buffer)\n",
    "\n",
    "    def push(self, state, action, reward, next_state, done):\n",
    "        \"\"\"\n",
    "        \n",
    "        \"\"\"\n",
    "        data = (state, action, reward, next_state, done)\n",
    "\n",
    "        if len(self.buffer) == self._maxsize:\n",
    "            self.buffer = self.buffer[1:]\n",
    "            \n",
    "        self.buffer.append(data)\n",
    "        \n",
    "    def sample(self, batch_size):\n",
    "        \n",
    "        #<randomly generate batch_size integers to be used as indexes of samples>\n",
    "        buffer_size = len(self.buffer)\n",
    "        idxes = np.random.randint(buffer_size, size = batch_size)\n",
    "        \n",
    "        state, action, reward, next_state, done = zip(*[self.buffer[idx] for idx in idxes])\n",
    "        \n",
    "        return np.array(state), np.array(action), np.array(reward), np.array(next_state), np.array(done)"
   ]
  },
  {
   "cell_type": "code",
   "execution_count": 22,
   "id": "5b396a9f",
   "metadata": {},
   "outputs": [],
   "source": [
    "\n",
    "exp_replay = ReplayBuffer(10)\n",
    "\n",
    "for _ in range(30):\n",
    "    exp_replay.push(env.reset(), env.action_space.sample(), 1.0, env.reset(), done=False)\n",
    "\n",
    "obs_batch, act_batch, reward_batch, next_obs_batch, is_done_batch = exp_replay.sample(5)\n",
    "\n",
    "assert len(exp_replay) == 10, \"experience replay size should be 10 because that's what maximum capacity is\""
   ]
  },
  {
   "cell_type": "code",
   "execution_count": 23,
   "id": "9f3f0fd4",
   "metadata": {},
   "outputs": [],
   "source": [
    "def play_and_record(agent, env, exp_replay, n_steps=1):\n",
    "    \"\"\"\n",
    "    Play the game for exactly n steps, record every (s,a,r,s', done) to replay buffer. \n",
    "    Whenever game ends, add record with done=True and reset the game.\n",
    "    :returns: return sum of rewards over time\n",
    "    \n",
    "    Note: please do not env.reset() unless env is done.\n",
    "    It is guaranteed that env has done=False when passed to this function.\n",
    "    \"\"\"\n",
    "    # State at the beginning of rollout\n",
    "    s = env.framebuffer\n",
    "    \n",
    "    # Play the game for n_steps as per instructions above\n",
    "    # <YOUR CODE>\n",
    "    \n",
    "    total_reward = 0.0\n",
    "    \n",
    "    for _ in range(n_steps):\n",
    "        qvalues = agent.get_qvalues([s])\n",
    "        action = agent.sample_actions(qvalues)[0]\n",
    "        #print(action)\n",
    "        next_s, r, done, _ = env.step(action)\n",
    "        #print(done)\n",
    "        \n",
    "        exp_replay.push(s, action, r, next_s, done)\n",
    "        total_reward +=r\n",
    "        s = next_s\n",
    "        \n",
    "        if done: \n",
    "            s = env.reset()\n",
    "    \n",
    "    return total_reward"
   ]
  },
  {
   "cell_type": "code",
   "execution_count": 24,
   "id": "331234f0",
   "metadata": {},
   "outputs": [
    {
     "name": "stdout",
     "output_type": "stream",
     "text": [
      "Well done!\n"
     ]
    }
   ],
   "source": [
    "# testing your code. This may take a minute...\n",
    "exp_replay = ReplayBuffer(20000)\n",
    "\n",
    "play_and_record(agent, env, exp_replay, n_steps=10000)\n",
    "\n",
    "# if you're using your own experience replay buffer, some of those tests may need correction. \n",
    "# just make sure you know what your code does\n",
    "assert len(exp_replay) == 10000, \"play_and_record should have added exactly 10000 steps, \"\\\n",
    "                                 \"but instead added %i\" % len(exp_replay)\n",
    "is_dones = list(zip(*exp_replay.buffer))[-1]\n",
    "\n",
    "assert 0 < np.mean(is_dones) < 0.1, \"Please make sure you restart the game whenever it is 'done' and record the is_done correctly into the buffer.\"\\\n",
    "                                    \"Got %f is_done rate over %i steps. [If you think it's your tough luck, just re-run the test]\"%(np.mean(is_dones), len(exp_replay))\n",
    "    \n",
    "for _ in range(100):\n",
    "    obs_batch, act_batch, reward_batch, next_obs_batch, is_done_batch = exp_replay.sample(10)\n",
    "    assert obs_batch.shape == next_obs_batch.shape == (10,) + state_dim\n",
    "    assert act_batch.shape == (10,), \"actions batch should have shape (10,) but is instead %s\"%str(act_batch.shape)\n",
    "    assert reward_batch.shape == (10,), \"rewards batch should have shape (10,) but is instead %s\"%str(reward_batch.shape)\n",
    "    assert is_done_batch.shape == (10,), \"is_done batch should have shape (10,) but is instead %s\"%str(is_done_batch.shape)\n",
    "    assert [int(i) in (0,1) for i in is_dones], \"is_done should be strictly True or False\"\n",
    "    assert [0 <= a <= n_actions for a in act_batch], \"actions should be within [0, n_actions]\"\n",
    "    \n",
    "print(\"Well done!\")"
   ]
  },
  {
   "cell_type": "markdown",
   "id": "90c953c9",
   "metadata": {},
   "source": [
    "## 目标网络"
   ]
  },
  {
   "cell_type": "code",
   "execution_count": 25,
   "id": "8d0cf274",
   "metadata": {},
   "outputs": [],
   "source": [
    "target_network = DQNAgent(state_dim, n_actions)"
   ]
  },
  {
   "cell_type": "code",
   "execution_count": 26,
   "id": "52d7bd25",
   "metadata": {},
   "outputs": [
    {
     "data": {
      "text/plain": [
       "<All keys matched successfully>"
      ]
     },
     "execution_count": 26,
     "metadata": {},
     "output_type": "execute_result"
    }
   ],
   "source": [
    "# This is how you can load weights from agent into target network\n",
    "target_network.load_state_dict(agent.state_dict())"
   ]
  },
  {
   "cell_type": "markdown",
   "id": "9194d475",
   "metadata": {},
   "source": [
    "### Learning with... Q-learning\n",
    "\n",
    "Here we write a function similar to `agent.update` from tabular q-learning."
   ]
  },
  {
   "cell_type": "markdown",
   "id": "804164be",
   "metadata": {},
   "source": [
    "Compute Q-learning TD error:\n",
    "\n",
    "$$ L = { 1 \\over N} \\sum_i [ Q_{\\theta}(s,a) - Q_{reference}(s,a) ] ^2 $$\n",
    "\n",
    "With Q-reference defined as\n",
    "\n",
    "$$ Q_{reference}(s,a) = r(s,a) + \\gamma \\cdot max_{a'} Q_{target}(s', a') $$\n",
    "\n",
    "Where\n",
    "* $Q_{target}(s',a')$ denotes q-value of next state and next action predicted by __target_network__\n",
    "* $s, a, r, s'$ are current state, action, reward and next state respectively\n",
    "* $\\gamma$ is a discount factor defined two cells above.\n",
    "\n",
    "\n",
    "__Note 1:__ there's an example input below. Feel free to experiment with it before you write the function.\n",
    "__Note 2:__ compute_td_loss is a source of 99% of bugs in this homework. If reward doesn't improve, it often helps to go through it line by line [with a rubber duck](https://rubberduckdebugging.com/)."
   ]
  },
  {
   "cell_type": "code",
   "execution_count": 57,
   "id": "04facf93",
   "metadata": {},
   "outputs": [],
   "source": [
    "def compute_td_loss(states, actions, rewards, next_states, is_done, gamma = 0.99, check_shapes = False):\n",
    "    \"\"\" Compute td loss using torch operations only. Use the formula above. \"\"\"\n",
    "    states = torch.FloatTensor(states)    # shape: [batch_size, c, h, w]\n",
    "    actions = torch.LongTensor(actions)    # shape: [batch_size]\n",
    "    rewards = torch.FloatTensor(rewards)  # shape: [batch_size]\n",
    "    next_states = torch.FloatTensor(next_states) # shape: [batch_size, c, h, w]\n",
    "    is_done = torch.FloatTensor(is_done.astype('float32'))  # shape: [batch_size]\n",
    "    is_not_done = 1 - is_done\n",
    "    \n",
    "    #get q-values for all actions in current states\n",
    "    predicted_qvalues = agent(states)\n",
    "    \n",
    "    # compute q-values for all actions in next states\n",
    "    predicted_next_qvalues = target_network(next_states)\n",
    "    \n",
    "    #select q-values for chosen actions\n",
    "    predicted_qvalues_for_actions = predicted_qvalues[range(len(actions)), actions]\n",
    "    \n",
    "\n",
    "    # compute V*(next_states) using predicted next q-values\n",
    "    next_state_values = torch.max(predicted_next_qvalues, dim=1)[0]\n",
    "    \n",
    "    assert next_state_values.dim() == 1 and next_state_values.shape[0] == states.shape[0], \"must predict one value per state\"\n",
    "\n",
    "    # compute \"target q-values\" for loss - it's what's inside square parentheses in the above formula.\n",
    "    # at the last state use the simplified formula: Q(s,a) = r(s,a) since s' doesn't exist\n",
    "    # you can multiply next state values by is_not_done to achieve this.\n",
    "    target_qvalues_for_actions = rewards + gamma * next_state_values * is_not_done\n",
    "    \n",
    "    #mean squared error loss to minimize\n",
    "    loss = torch.mean((predicted_qvalues_for_actions - target_qvalues_for_actions.detach()) ** 2 )\n",
    "    \n",
    "    if check_shapes:\n",
    "        assert predicted_next_qvalues.data.dim() == 2, \"make sure you predicted q-values for all actions in next state\"\n",
    "        assert next_state_values.data.dim() == 1, \"make sure you computed V(s') as maximum over just the actions axis and not all axes\"\n",
    "        assert target_qvalues_for_actions.data.dim() == 1, \"there's something wrong with target q-values, they must be a vector\"\n",
    "    \n",
    "    return loss"
   ]
  },
  {
   "cell_type": "code",
   "execution_count": 59,
   "id": "1dc6588e",
   "metadata": {},
   "outputs": [],
   "source": [
    "# sanity checks\n",
    "obs_batch, act_batch, reward_batch, next_obs_batch, is_done_batch = exp_replay.sample(10)\n",
    "\n",
    "loss = compute_td_loss(obs_batch, act_batch, reward_batch, next_obs_batch, is_done_batch, gamma=0.99,\n",
    "                       check_shapes=True)\n",
    "loss.backward()\n",
    "\n",
    "assert isinstance(loss, torch.Tensor) and isinstance(loss.item(), float), \"you must return scalar loss - mean over batch\"\n",
    "assert np.any(next(agent.parameters()).grad.data.numpy() != 0), \"loss must be differentiable w.r.t. network weights\""
   ]
  },
  {
   "cell_type": "markdown",
   "id": "54ea6f5b",
   "metadata": {},
   "source": [
    "## 主循环"
   ]
  },
  {
   "cell_type": "code",
   "execution_count": 61,
   "id": "4e5f4a34",
   "metadata": {},
   "outputs": [],
   "source": [
    "from tqdm import trange\n",
    "from IPython.display import clear_output\n",
    "import matplotlib.pyplot as plt\n",
    "\n",
    "%matplotlib inline\n",
    "\n",
    "mean_rw_history = []\n",
    "td_loss_history = []"
   ]
  },
  {
   "cell_type": "code",
   "execution_count": 62,
   "id": "fbd78ebc",
   "metadata": {},
   "outputs": [],
   "source": [
    "exp_replay = ReplayBuffer(10**5)\n",
    "play_and_record(agent, env, exp_replay, n_steps=10000);"
   ]
  },
  {
   "cell_type": "code",
   "execution_count": 63,
   "id": "07f786c4",
   "metadata": {},
   "outputs": [],
   "source": [
    "import torch.optim as optim\n",
    "opt = optim.Adam(agent.parameters())\n",
    "# opt = < your favorite optimizer. Default to adam if you don't have one >"
   ]
  },
  {
   "cell_type": "code",
   "execution_count": null,
   "id": "4ed214e7",
   "metadata": {},
   "outputs": [
    {
     "name": "stdout",
     "output_type": "stream",
     "text": [
      "buffer size = 68040, epsilon = 0.43876\n"
     ]
    },
    {
     "data": {
      "image/png": "[encoded data removed]",
      "text/plain": [
       "<Figure size 864x288 with 2 Axes>"
      ]
     },
     "metadata": {
      "needs_background": "light"
     },
     "output_type": "display_data"
    },
    {
     "name": "stderr",
     "output_type": "stream",
     "text": [
      "  6%|████▉                                                                              | 5898/100000 [13:02<3:01:51,  8.62it/s]"
     ]
    }
   ],
   "source": [
    "for i in trange(10**5):\n",
    "    \n",
    "    # play\n",
    "    play_and_record(agent, env, exp_replay, 10)\n",
    "    \n",
    "    # train\n",
    "    obs_batch, act_batch, reward_batch, next_obs_batch, is_done_batch = exp_replay.sample(batch_size=64)\n",
    "    # < sample data from experience replay>\n",
    "    \n",
    "    loss = compute_td_loss(obs_batch, act_batch, reward_batch, next_obs_batch, is_done_batch)\n",
    "    \n",
    "    opt.zero_grad()\n",
    "    loss.backward()\n",
    "    opt.step()\n",
    "    \n",
    "    # < minimize loss by gradient descent >\n",
    "    \n",
    "    td_loss_history.append(loss.item())\n",
    "    \n",
    "    # adjust agent parameters\n",
    "    if i % 500 == 0:\n",
    "        agent.epsilon = max(agent.epsilon * 0.99, 0.01)\n",
    "        mean_rw_history.append(evaluate(make_env(), agent, n_games=3))\n",
    "        \n",
    "        #Load agent weights into target_network\n",
    "        # <YOUR CODE>\n",
    "        target_network.load_state_dict(agent.state_dict())\n",
    "        \n",
    "    \n",
    "    if i % 100 == 0:\n",
    "        clear_output(True)\n",
    "        print(\"buffer size = %i, epsilon = %.5f\" % (len(exp_replay), agent.epsilon))\n",
    "        plt.figure(figsize=[12, 4])        \n",
    "        plt.subplot(1,2,1)\n",
    "        plt.title(\"mean reward per game\")\n",
    "        plt.plot(mean_rw_history)\n",
    "        plt.grid()\n",
    "\n",
    "        assert not np.isnan(td_loss_history[-1])\n",
    "        plt.subplot(1,2,2)\n",
    "        plt.title(\"TD loss history (moving average)\")\n",
    "        plt.plot(td_loss_history)\n",
    "        plt.grid()\n",
    "        plt.show()"
   ]
  },
  {
   "cell_type": "code",
   "execution_count": null,
   "id": "a3f31eb7",
   "metadata": {},
   "outputs": [],
   "source": [
    "assert np.mean(mean_rw_history[-10:]) > 10.\n",
    "print(\"That's good enough for tutorial.\")"
   ]
  },
  {
   "cell_type": "code",
   "execution_count": null,
   "id": "32d52a27",
   "metadata": {},
   "outputs": [],
   "source": []
  }
 ],
 "metadata": {
  "kernelspec": {
   "display_name": "Python 3 (ipykernel)",
   "language": "python",
   "name": "python3"
  },
  "language_info": {
   "codemirror_mode": {
    "name": "ipython",
    "version": 3
   },
   "file_extension": ".py",
   "mimetype": "text/x-python",
   "name": "python",
   "nbconvert_exporter": "python",
   "pygments_lexer": "ipython3",
   "version": "3.9.4"
  },
  "toc": {
   "base_numbering": 1,
   "nav_menu": {},
   "number_sections": true,
   "sideBar": true,
   "skip_h1_title": false,
   "title_cell": "Table of Contents",
   "title_sidebar": "Contents",
   "toc_cell": false,
   "toc_position": {},
   "toc_section_display": true,
   "toc_window_display": true
  }
 },
 "nbformat": 4,
 "nbformat_minor": 5
}
