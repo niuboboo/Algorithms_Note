{
 "cells": [
  {
   "cell_type": "markdown",
   "id": "d11418c1",
   "metadata": {},
   "source": [
    "## 反向传播\n",
    "\n",
    "- [https://www.cs.toronto.edu/~rgrosse/courses/csc321_2018/readings/L06%20Backpropagation.pdf](https://www.cs.toronto.edu/~rgrosse/courses/csc321_2018/readings/L06%20Backpropagation.pdf)\n",
    "\n",
    "- [Automatic differentiation in machine learning: a survey](https://arxiv.org/abs/1502.05767)\n",
    "\n",
    "在深度学习中我们通常用反向传播来更新网络参数。我们假定一个模型，具有单个变量的输入，只有一个训练样本$(x, t)$。网络模型是一个线性模型，带有一个非线形的`sigmoid`层，然后用均方差作为其`Loss`函数，这个模型用公式可以表示为如下形式：\n",
    "\n",
    "$$\n",
    "z = wx + b \\\\\n",
    "y = \\sigma(z) \\\\\n",
    "\\mathcal{L} = \\frac{1}{2}(y - t)^{2}\n",
    "$$"
   ]
  },
  {
   "cell_type": "markdown",
   "id": "1562f51e",
   "metadata": {},
   "source": [
    "再考虑添加一个正则化$\\frac{\\lambda}{2} w^{2}$，期望模型变得更加简单一点，也就是期望$w$变成`0`。此时损失函数将会变为:\n",
    "\n",
    "$$\n",
    "\\mathcal{R} = \\frac{1}{2} w^{2} \\\\\n",
    "\\mathcal{L}_{reg} = \\mathcal{L} + \\lambda \\mathcal{R}\n",
    "$$\n",
    "\n",
    "其中$\\lambda$是超参数。"
   ]
  },
  {
   "cell_type": "markdown",
   "id": "b518e069",
   "metadata": {},
   "source": [
    "想要做梯度下降的话，我们就需要对$w$和$b$求偏微分：$\\partial \\mathcal{E} / \\partial w$和$\\partial \\mathcal{E} / \\partial b$。"
   ]
  },
  {
   "cell_type": "markdown",
   "id": "f5066c7c",
   "metadata": {},
   "source": [
    "将目标函数展开可以表示为:\n",
    "\n",
    "$$\n",
    "\\mathcal{L}_{\\mathrm{reg}}=\\frac{1}{2}(\\sigma(w x+b)-t)^{2}+\\frac{\\lambda}{2} w^{2}\n",
    "$$"
   ]
  },
  {
   "cell_type": "markdown",
   "id": "9e64bc53",
   "metadata": {},
   "source": [
    "对$w$求偏导数可以得到:\n",
    "\n",
    "$$\n",
    "\\begin{aligned}\n",
    "\\frac{\\partial \\mathcal{L}_{\\mathrm{reg}}}{\\partial w} &=\\frac{\\partial}{\\partial w}\\left[\\frac{1}{2}(\\sigma(w x+b)-t)^{2}+\\frac{\\lambda}{2} w^{2}\\right] \\\\\n",
    "&=\\frac{1}{2} \\frac{\\partial}{\\partial w}(\\sigma(w x+b)-t)^{2}+\\frac{\\lambda}{2} \\frac{\\partial}{\\partial w} w^{2} \\\\\n",
    "&=(\\sigma(w x+b)-t) \\frac{\\partial}{\\partial w}(\\sigma(w x+b)-t)+\\lambda w \\\\\n",
    "&=(\\sigma(w x+b)-t) \\sigma^{\\prime}(w x+b) \\frac{\\partial}{\\partial w}(w x+b)+\\lambda w \\\\\n",
    "&=(\\sigma(w x+b)-t) \\sigma^{\\prime}(w x+b) x+\\lambda w\n",
    "\\end{aligned}\n",
    "$$"
   ]
  },
  {
   "cell_type": "markdown",
   "id": "fb5733d1",
   "metadata": {},
   "source": [
    "对$b$求偏导数可以得到:\n",
    "\n",
    "$$\n",
    "\\begin{aligned}\n",
    "\\frac{\\partial \\mathcal{L}_{\\mathrm{reg}}}{\\partial b} &=\\frac{\\partial}{\\partial b}\\left[\\frac{1}{2}(\\sigma(w x+b)-t)^{2}+\\frac{\\lambda}{2} w^{2}\\right] \\\\\n",
    "&=\\frac{1}{2} \\frac{\\partial}{\\partial b}(\\sigma(w x+b)-t)^{2}+\\frac{\\lambda}{2} \\frac{\\partial}{\\partial b} w^{2} \\\\\n",
    "&=(\\sigma(w x+b)-t) \\frac{\\partial}{\\partial b}(\\sigma(w x+b)-t)+0 \\\\\n",
    "&=(\\sigma(w x+b)-t) \\sigma^{\\prime}(w x+b) \\frac{\\partial}{\\partial b}(w x+b) \\\\\n",
    "&=(\\sigma(w x+b)-t) \\sigma^{\\prime}(w x+b)\n",
    "\\end{aligned}\n",
    "$$"
   ]
  },
  {
   "cell_type": "markdown",
   "id": "69f216a7",
   "metadata": {},
   "source": [
    "上述方法确实能够得出正确的解，但是有以下缺陷:\n",
    "\n",
    "1. 计算非常冗余复杂；\n",
    "2. 上述计算过程中有很多地方是重复计算的，比如$wx+b$计算了四次, $(\\sigma(w x+b)-t) \\sigma^{\\prime}(w x+b)$计算了两次。"
   ]
  },
  {
   "cell_type": "markdown",
   "id": "781a2974",
   "metadata": {},
   "source": [
    "### 多变量链式求导：简单的例子\n",
    "\n"
   ]
  },
  {
   "cell_type": "markdown",
   "id": "0c8c3a5f",
   "metadata": {},
   "source": [
    "其实上述方法就是在计算一元链式求导多次，一元链式求导可以定义为如下形式:\n",
    "\n",
    "$$\n",
    "\\frac{\\mathrm{d}}{\\mathrm{d} t} f(g(t))=f^{\\prime}(g(t)) g^{\\prime}(t)\n",
    "$$\n",
    "\n",
    "多变量的求导可以定义为:\n",
    "\n",
    "$$\n",
    "\\frac{\\mathrm{d}}{\\mathrm{d} t} f(x(t), y(t))=\\frac{\\partial f}{\\partial x} \\frac{\\mathrm{d} x}{\\mathrm{~d} t}+\\frac{\\partial f}{\\partial y} \\frac{\\mathrm{d} y}{\\mathrm{~d} t}\n",
    "$$"
   ]
  },
  {
   "cell_type": "markdown",
   "id": "d4c73f8e",
   "metadata": {},
   "source": [
    "为了方便叙述，定义一个符号，比如对$v$的导数可以定义为：\n",
    "\n",
    "$$\n",
    "\\bar{v} \\triangleq \\frac{\\partial \\mathcal{L}}{\\partial v}\n",
    "$$\n",
    "\n",
    "那么上述$\\frac{\\mathrm{d}}{\\mathrm{d} t} f(x(t), y(t))=\\frac{\\partial f}{\\partial x} \\frac{\\mathrm{d} x}{\\mathrm{~d} t}+\\frac{\\partial f}{\\partial y} \\frac{\\mathrm{d} y}{\\mathrm{~d} t}$可以表示为:\n",
    "\n",
    "$$\n",
    "\\bar{t} = \\bar{x} \\frac{dx}{dt} + \\bar{y} \\frac{dy}{dt}\n",
    "$$\n",
    "\n",
    "这样我们就可以用偏微分的计算方法来计算$\\frac{dx}{dt}$, 而$\\bar{x}$和$\\bar{y}$是之前就已经计算好的。"
   ]
  },
  {
   "attachments": {},
   "cell_type": "markdown",
   "id": "bc146b8d",
   "metadata": {},
   "source": [
    "### 多变量求导：计算图模式\n",
    "\n",
    "上述带有正则化的模型用计算图可以表示为:\n",
    "\n",
    "<img src=\"../images/06-jisuantu.png\" width=\"40%\">"
   ]
  },
  {
   "cell_type": "markdown",
   "id": "2acdde17",
   "metadata": {},
   "source": [
    "整个模型可以表示为:\n",
    "\n",
    "$$\n",
    "z = wx + b \\\\\n",
    "y = \\sigma(z) \\\\\n",
    "\\mathcal{L} = \\frac{1}{2}(y - t)^{2} \\\\\n",
    "\\mathcal{R} = \\frac{1}{2} w^{2} \\\\\n",
    "\\mathcal{L}_{reg} = \\mathcal{L} + \\lambda \\mathcal{R}\n",
    "$$"
   ]
  },
  {
   "cell_type": "markdown",
   "id": "4db639c7",
   "metadata": {},
   "source": [
    "反向传播的时候，我们需要去计算得到$\\bar{w}$和$\\bar{b}$， 就需要反复利用链式求导计算偏微分。\n",
    "\n",
    "也就是要从结果(这里定义为$\\mathcal{E}$)，一步一步往前去计算它的前一个节点的导数。定义$v_{1}, \\cdots, v_{N}$是计算图中的所有节点，并且以输入到输出的拓扑顺序进行排序的。\n",
    "\n",
    "我们期望去计算得到所有节点的偏导数$\\bar{v}_{i}$, 神经网络工作的时候就是走一遍前向传播，然后走一遍反向传播。最末尾的这个节点是$v_{N}$, 我们也需去得到它的偏导数，为了方便计算，我们通常令其偏导数为1。也就是$\\bar{v_{N}} = 1$。"
   ]
  },
  {
   "cell_type": "markdown",
   "id": "553eef37",
   "metadata": {},
   "source": [
    "此时整个算法的逻辑可以表示为:\n",
    "\n",
    "For $i=1, \\ldots, N$\n",
    "\n",
    "\n",
    "$\\ $    Compute $v_{i}$ as a function of $\\operatorname{Pa}\\left(v_{i}\\right)$\n",
    "\n",
    "$v_{N}=1$\n",
    "\n",
    "For $i=N-1, \\ldots, 1$\n",
    "\n",
    "$\\ $    $\\overline{v_{i}}=\\sum_{j \\in \\operatorname{Ch}\\left(v_{i}\\right)} \\overline{v_{j}} \\frac{\\partial v_{j}}{\\partial v_{i}}$"
   ]
  },
  {
   "cell_type": "markdown",
   "id": "e8b6ce29",
   "metadata": {},
   "source": [
    "`OK`, 到此，我们就可以通过上述的这个计算公式来走反向传播了:\n",
    "\n",
    "首先是目标函数的导数被定义为`1`，也就是$\\bar{\\mathcal{L}_{reg}} = 1$。\n",
    "\n",
    "之后我们对$\\mathcal{L}_{reg}$的两个父亲节点求偏导数，也就是$\\bar{\\mathcal{R}}$和$\\bar{\\mathcal{L}}$：\n",
    "\n",
    "1. $\\bar{\\mathcal{R}}$的孩子节点为$\\mathcal{L}_{reg}$，所以依据公式$\\overline{v_{j}} \\frac{\\partial v_{j}}{\\partial v_{i}}$, 我们可以得到$\\bar{\\mathcal{R}} = \\bar{\\mathcal{L_{reg}}} \\frac{\\mathcal{dL_{reg}}}{d\\mathcal{R}} = \\bar{\\mathcal{L}_{reg}} \\lambda$\n",
    "\n",
    "2. $\\bar{\\mathcal{L}}$的孩子节点也为$\\mathcal{L}_{reg}$, 所以$\\bar{\\mathcal{L}} = \\bar{\\mathcal{L}_{reg}} \\frac{d \\mathcal{L}_{reg}}{d \\mathcal{L}} = \\bar{\\mathcal{L}_{reg}}$\n",
    "\n",
    "我们再进行反向传播，来计算$\\bar{y}$和$\\bar{z}$:\n",
    "\n",
    "1. $\\bar{y} = \\bar{\\mathcal{L}} \\frac{d \\mathcal{L}}{d y} = \\bar{\\mathcal{L}} (y - t)$。\n",
    "2. $\\bar{z} = \\bar{y} \\frac{d y}{d z} = \\bar{y} \\sigma^{\\prime}(z)$。\n",
    "\n",
    "最后到了我们需要更新的参数$w$和$b$:\n",
    "\n",
    "1. $w$有两个父亲节点$z$和$\\mathcal{R}$，所以$\\bar{w} = \\bar{z} \\frac{\\partial{z}}{\\partial{w}} + \\bar{\\mathcal{R}} \\frac{d \\mathcal{R}}{d w}= \\bar{z} x + \\bar{\\mathcal{R}}w$。\n",
    "2. $b$有一个父亲节点$z$，所以$\\bar{b} = \\bar{z} \\frac{\\partial{z}}{\\partial{b}} = \\bar{z}$。"
   ]
  },
  {
   "cell_type": "markdown",
   "id": "6d9619ef",
   "metadata": {},
   "source": [
    "总结一下推导过程为:\n",
    "\n",
    "$$\n",
    "\\begin{aligned}\n",
    "\\overline{\\mathcal{L}_{\\text {reg }}} &=1 \\\\\n",
    "\\overline{\\mathcal{R}} &=\\overline{\\mathcal{L}_{\\text {reg }}} \\frac{\\mathrm{d} \\mathcal{L}_{\\text {reg }}}{\\mathrm{d} \\mathcal{R}} \\\\\n",
    "&=\\overline{\\mathcal{L}_{\\text {reg }}} \\lambda \\\\\n",
    "\\overline{\\mathcal{L}} &=\\overline{\\mathcal{L}_{\\text {reg }}} \\frac{\\mathrm{d} \\mathcal{L}_{\\text {reg }}}{\\mathrm{d} \\mathcal{L}} \\\\\n",
    "&=\\overline{\\mathcal{L}_{\\text {reg }}} \\\\\n",
    "\\bar{y} &=\\overline{\\mathcal{L}} \\frac{\\mathrm{d} \\mathcal{L}}{\\mathrm{d} y} \\\\\n",
    "&=\\overline{\\mathcal{L}}(y-t) \\\\\n",
    "\\bar{z} &=\\bar{y} \\frac{\\mathrm{d} y}{\\mathrm{~d} z} \\\\\n",
    "&=\\bar{y} \\sigma^{\\prime}(z) \\\\\n",
    "\\bar{w} &=\\bar{z} \\frac{\\partial z}{\\partial w}+\\overline{\\mathcal{R}} \\frac{\\mathrm{d} \\mathcal{R}}{\\mathrm{d} w} \\\\\n",
    "&=\\bar{z} x+\\overline{\\mathcal{R}} w \\\\\n",
    "\\bar{b} &=\\bar{z} \\frac{\\partial z}{\\partial b} \\\\\n",
    "&=\\bar{z}\n",
    "\\end{aligned}\n",
    "$$"
   ]
  },
  {
   "cell_type": "markdown",
   "id": "d0be272d",
   "metadata": {},
   "source": [
    "总结一下最终结果为:\n",
    "\n",
    "$$\n",
    "\\begin{aligned}\n",
    "\\overline{\\mathcal{L}_{\\text {reg }}} &=1 \\\\\n",
    "\\overline{\\mathcal{R}} &=\\overline{\\mathcal{L}_{\\text {reg }}} \\lambda \\\\\n",
    "\\overline{\\mathcal{L}} &=\\overline{\\mathcal{L}_{\\text {reg }}} \\\\\n",
    "\\bar{y} &=\\overline{\\mathcal{L}}(y-t) \\\\\n",
    "\\bar{z} &=\\bar{y} \\sigma^{\\prime}(z) \\\\\n",
    "\\bar{w} &=\\bar{z} x+\\overline{\\mathcal{R}} w \\\\\n",
    "\\bar{b} &=\\bar{z}\n",
    "\\end{aligned}\n",
    "$$\n",
    "\n",
    "可以看到相比之前的推导偏微分方程的方式，这种反向传播的方式更为简洁。"
   ]
  },
  {
   "cell_type": "markdown",
   "id": "6c302fbf",
   "metadata": {},
   "source": [
    "### 反向传播实战\n",
    "\n"
   ]
  },
  {
   "cell_type": "markdown",
   "id": "bfe0e129",
   "metadata": {},
   "source": [
    "#### 创建数据集\n",
    "\n",
    "为了增加难度，这里创建一个非线形可分的数据集。"
   ]
  },
  {
   "cell_type": "code",
   "execution_count": 1,
   "id": "eb158f63",
   "metadata": {},
   "outputs": [],
   "source": [
    "import math\n",
    "import numpy as np\n",
    "import matplotlib.pyplot as plt\n",
    "np.random.seed(0)\n",
    "\n",
    "def make_dataset(num_points):\n",
    "    radius = 5\n",
    "    data = []\n",
    "    labels = []\n",
    "    # 生成正类样本，标签为1。\n",
    "    for i in range(num_points // 2):  # 循环创建多少个样本\n",
    "        r = np.random.uniform(0, radius * 0.5) # 设置半径长度\n",
    "        angle = np.random.uniform(0, 2 * math.pi)\n",
    "        x = r * math.sin(angle)  # 第一个维度的特征\n",
    "        y = r * math.cos(angle)  # 第二个维度的特征\n",
    "        data.append([x, y])  # 将特征数据存起来\n",
    "        labels.append(1)  # 将标签数据存起来。\n",
    "    \n",
    "    # 生成负样本，标签为0。\n",
    "    for i in range(num_points // 2):  # 循环创建多少个样本\n",
    "        r = np.random.uniform(radius * 0.7, radius)  # 设置半径长度\n",
    "        angle = np.random.uniform(0, 2 * math.pi)\n",
    "        x = r * math.sin(angle)  # 第一个维度的特征\n",
    "        y = r * math.cos(angle)  # 第二个维度的特征\n",
    "        data.append([x, y])  # 将特征数据存起来\n",
    "        labels.append(0)  # 将标签数据存起来。\n",
    "    \n",
    "    data = np.asarray(data)\n",
    "    labels = np.asarray(labels)\n",
    "    return data, labels"
   ]
  },
  {
   "cell_type": "code",
   "execution_count": 2,
   "id": "ded1853f",
   "metadata": {},
   "outputs": [
    {
     "data": {
      "image/png": "[encoded data removed]",
      "text/plain": [
       "<Figure size 432x288 with 1 Axes>"
      ]
     },
     "metadata": {
      "needs_background": "light"
     },
     "output_type": "display_data"
    }
   ],
   "source": [
    "num_data = 500\n",
    "data, labels = make_dataset(num_data)\n",
    "\n",
    "plt.scatter(data[:num_data//2, 0], data[:num_data//2, 1], color='red')  # 前num_data//2个样本为第一类。\n",
    "plt.scatter(data[num_data//2:, 0], data[num_data//2:, 1], color='blue') # 后num_data//2个样本为第二类。\n",
    "plt.show()"
   ]
  },
  {
   "cell_type": "markdown",
   "id": "94553016",
   "metadata": {},
   "source": [
    "#### 构建模型\n",
    "\n",
    "上述给定的数据集，特征维度为两个维度$\\mathbf{x}=\\left[x_{1}, x_{2}\\right]^{T}$, 输出的概率可以表示为$\\operatorname{Pr}(t=1 \\mid \\mathbf{x})$，其中$t$表示数据点$\\mathbf{x}$的标签。\n",
    "\n",
    "为了简单起见，这里只创建一个具有单隐藏层的神经网络。隐藏层单元数为3个。可以采用如下公式表示:\n",
    "\n",
    "$$\n",
    "\\mathbf{g} = \\mathbf{Ux} + b \\\\\n",
    "\\mathbf{h} = tanh{g} \\\\\n",
    "z = \\mathbf{Wh} + c \\\\\n",
    "y = \\sigma(z)\n",
    "$$\n",
    "\n",
    "在上述公式中，$\\mathbf{U}=\\left(\\begin{array}{ll}u_{11} & u_{12} \\\\ u_{21} & u_{22} \\\\ u_{31} & u_{32}\\end{array}\\right) \\in \\mathbb{R}^{3 \\times 2}, \\mathbf{b}=\\left(\\begin{array}{l}b_{1} \\\\ b_{2} \\\\ b_{3}\\end{array}\\right) \\in \\mathbb{R}^{3}, \\mathbf{W}=\\left(\\begin{array}{lll}w_{1} & w_{2} & w_{3}\\end{array}\\right) \\in \\mathbb{R}^{1 \\times 3}, c \\in \\mathbb{R}$。"
   ]
  },
  {
   "cell_type": "markdown",
   "id": "1aa84fe2",
   "metadata": {},
   "source": [
    "令$\\mathbf{X}=\\left(\\begin{array}{cc}x_{11} & x_{12} \\\\ \\vdots & \\vdots \\\\ x_{N 1} & x_{N 2}\\end{array}\\right)$为一个矩阵，包含$N$个数据点，每一行分别表示一个数据点。然后我们可以将其向量化一下:\n",
    "\n",
    "$$\n",
    "\\begin{gathered}\n",
    "\\mathbf{G}=\\mathbf{X} \\mathbf{U}^{T}+\\mathbf{1 b}^{T} \\\\\n",
    "\\mathbf{H}=\\tanh (\\mathbf{G}) \\\\\n",
    "\\mathbf{z}=\\mathbf{H} \\mathbf{W}^{T}+\\mathbf{1} c \\\\\n",
    "\\mathbf{y}=\\sigma(\\mathbf{z})\n",
    "\\end{gathered}\n",
    "$$\n",
    "\n",
    "如果将其写成标量形式的话，可以表示为:\n",
    "\n",
    "$$\n",
    "\\begin{gathered}\n",
    "g_{i j}=u_{j 1} x_{i 1}+u_{j 2} x_{i 2}+b_{j} \\\\\n",
    "h_{i j}=\\tanh \\left(g_{i j}\\right) \\\\\n",
    "z_{i}=w_{1} h_{i 1}+w_{2} h_{i 2}+w_{3} h_{i 3}+c \\\\\n",
    "y_{i}=\\sigma\\left(z_{i}\\right)\n",
    "\\end{gathered}\n",
    "$$\n",
    "\n",
    "其中$i$表示数据点的索引，$j$表示隐藏层单元的索引，所以$i \\in \\{1, \\cdots, N\\}$并且$j \\in \\{1, 2, 3\\}$。"
   ]
  },
  {
   "cell_type": "code",
   "execution_count": 3,
   "id": "ff33593e",
   "metadata": {},
   "outputs": [],
   "source": [
    "# 初始化神经网络参数\n",
    "params = {}\n",
    "params['U'] = np.random.randn(3, 2)\n",
    "params['b'] = np.zeros(3)\n",
    "params['W'] = np.random.rand(3)\n",
    "params['c'] = 0\n",
    "\n",
    "from scipy.special import expit as sigmoid\n",
    "def forward(X, params):\n",
    "    \"\"\"\n",
    "    # 传入数据X和网络参数，计算前向传播。\n",
    "    \"\"\"\n",
    "    G = np.dot(X, params['U'].T) + params['b']\n",
    "    H = np.tanh(G)\n",
    "    z = np.dot(H, params['W'].T) + params['c']\n",
    "    y = sigmoid(z)\n",
    "    return y"
   ]
  },
  {
   "cell_type": "markdown",
   "id": "ca3428ff",
   "metadata": {},
   "source": [
    "#### 可视化训练之前的网络预测结果"
   ]
  },
  {
   "cell_type": "code",
   "execution_count": 4,
   "id": "0c024224",
   "metadata": {},
   "outputs": [
    {
     "name": "stderr",
     "output_type": "stream",
     "text": [
      "/var/folders/x9/xgj8n5xd2bb0cv55w7c72bn40000gn/T/ipykernel_10959/1646430344.py:9: MatplotlibDeprecationWarning: shading='flat' when X and Y have the same dimensions as C is deprecated since 3.3.  Either specify the corners of the quadrilaterals with X and Y, or pass shading='auto', 'nearest' or 'gouraud', or set rcParams['pcolor.shading'].  This will become an error two minor releases later.\n",
      "  plt.pcolormesh(X1, X2, Y, cmap=plt.cm.get_cmap('YlGn'))\n"
     ]
    },
    {
     "data": {
      "image/png": "[encoded data removed]",
      "text/plain": [
       "<Figure size 432x288 with 2 Axes>"
      ]
     },
     "metadata": {
      "needs_background": "light"
     },
     "output_type": "display_data"
    }
   ],
   "source": [
    "num_points = 200\n",
    "x1s = np.linspace(-6.0, 6.0, num_points)\n",
    "x2s = np.linspace(-6.0, 6.0, num_points)\n",
    "\n",
    "points = np.transpose([np.tile(x1s, len(x2s)), np.repeat(x2s, len(x1s))])  # 产生网格数据点，也就是说测试数据布满整个图\n",
    "Y = forward(points, params).reshape(num_points, num_points)\n",
    "X1, X2 = np.meshgrid(x1s, x2s)\n",
    "\n",
    "plt.pcolormesh(X1, X2, Y, cmap=plt.cm.get_cmap('YlGn'))\n",
    "plt.colorbar()\n",
    "plt.scatter(data[:num_data//2, 0], data[:num_data//2, 1], color='red') \n",
    "plt.scatter(data[num_data//2:, 0], data[num_data//2:, 1], color='blue')\n",
    "plt.show()"
   ]
  },
  {
   "cell_type": "markdown",
   "id": "be388135",
   "metadata": {},
   "source": [
    "#### 反向传播训练网络"
   ]
  },
  {
   "cell_type": "markdown",
   "id": "b17ac736",
   "metadata": {},
   "source": [
    "首先我们需要设置损失函数，交叉熵损失函数可以表示为:\n",
    "\n",
    "$$\n",
    "\\mathcal{L}_{C E}(y, t)=-t \\log (y)-(1-t) \\log (1-y)\n",
    "$$\n",
    "\n",
    "其中$y=\\operatorname{Pr}(t=1 \\mid \\mathbf{x})$, $t$表示真实的标签。但是这样计算偏导数$\\frac{\\partial L}{dy}$会数值不稳定，因此直接结合逻辑函数和交叉熵损失到一个函数中，叫做逻辑交叉熵损失函数:\n",
    "\n",
    "$$\n",
    "\\mathcal{L}_{L C E}(z, t)=t \\log (1+\\exp (-z))+(1-t) \\log (1+\\exp (z))\n",
    "$$\n",
    "\n",
    "其梯度可以表示为:\n",
    "\n",
    "$$\n",
    "\\begin{aligned}\n",
    "\\frac{\\mathrm{d} \\mathcal{L}_{\\mathrm{LCE}}}{\\mathrm{d} z} &=\\frac{\\mathrm{d}}{\\mathrm{d} z}\\left[t \\log \\left(1+e^{-z}\\right)+(1-t) \\log \\left(1+e^{z}\\right)\\right] \\\\\n",
    "&=-t \\cdot \\frac{e^{-z}}{1+e^{-z}}+(1-t) \\frac{e^{z}}{1+e^{z}} \\\\\n",
    "&=-t(1-y)+(1-t) y \\\\\n",
    "&=y-t\n",
    "\\end{aligned}\n",
    "$$\n",
    "\n",
    "此时损失函数可以表示为:\n",
    "\n",
    "$$\n",
    "\\mathcal{E}(\\mathbf{z}, \\mathbf{t})=\\frac{1}{N}\\left[\\sum_{i=1}^{N} \\mathcal{L}\\left(z_{i}, t_{i}\\right)\\right]\n",
    "$$"
   ]
  },
  {
   "cell_type": "code",
   "execution_count": 5,
   "id": "38244c26",
   "metadata": {},
   "outputs": [],
   "source": [
    "def backprop(X, t, params):\n",
    "    N = X.shape[0]\n",
    "    \n",
    "    # 前向计算\n",
    "    G = np.dot(X, params['U'].T)  + params['b']\n",
    "    H = np.tanh(G)\n",
    "    z = np.dot(H, params['W'].T) + params['c']\n",
    "    y = sigmoid(z)\n",
    "    loss = (1./N) * np.sum(-t * np.log(y) - (1 - t) * np.log(1 - y))\n",
    "    \n",
    "    # 反向计算\n",
    "    E_bar = 1\n",
    "    z_bar = (1./N) * (y - t)\n",
    "    W_bar = np.dot(H.T, z_bar)\n",
    "    c_bar = np.dot(z_bar, np.ones(N))\n",
    "    H_bar = np.outer(z_bar, params['W'].T)\n",
    "    G_bar = H_bar * (1 - np.tanh(G)**2)\n",
    "    U_bar = np.dot(G_bar.T, X)\n",
    "    b_bar = np.dot(G_bar.T, np.ones(N))\n",
    "    \n",
    "    # 更新梯度\n",
    "    grads = {}\n",
    "    grads['U'] = U_bar\n",
    "    grads['b'] = b_bar\n",
    "    grads['W'] = W_bar\n",
    "    grads['c'] = c_bar\n",
    "    \n",
    "    return grads, loss"
   ]
  },
  {
   "cell_type": "markdown",
   "id": "b4041a08",
   "metadata": {},
   "source": [
    "对于给定的参数$p$的话，梯度下降算法可以表示为:\n",
    "\n",
    "$$\n",
    "p \\leftarrow p-\\alpha * \\frac{\\partial \\mathcal{E}}{\\partial p}\n",
    "$$\n",
    "\n",
    "其中$\\alpha$是学习率。"
   ]
  },
  {
   "cell_type": "code",
   "execution_count": 6,
   "id": "412eb537",
   "metadata": {},
   "outputs": [
    {
     "name": "stdout",
     "output_type": "stream",
     "text": [
      "Step 0 | Loss 0.7209811976339356\n",
      "Step 50 | Loss 0.38991272539909405\n",
      "Step 100 | Loss 0.1770892497905555\n",
      "Step 150 | Loss 0.11656768971434056\n",
      "Step 200 | Loss 0.08935672642787948\n",
      "Step 250 | Loss 0.07435235428222184\n",
      "Step 300 | Loss 0.0649279216076654\n",
      "Step 350 | Loss 0.05845280921664879\n",
      "Step 400 | Loss 0.05370529095386237\n",
      "Step 450 | Loss 0.050047957306231246\n",
      "Step 500 | Loss 0.047117649887022085\n",
      "Step 550 | Loss 0.044693349126006414\n",
      "Step 600 | Loss 0.04263356417611162\n",
      "Step 650 | Loss 0.040844056174510285\n",
      "Step 700 | Loss 0.039260061271555825\n",
      "Step 750 | Loss 0.037835955383232714\n",
      "Step 800 | Loss 0.03653896439544717\n",
      "Step 850 | Loss 0.035345181673355534\n",
      "Step 900 | Loss 0.03423695667715927\n",
      "Step 950 | Loss 0.033201128334050124\n"
     ]
    }
   ],
   "source": [
    "num_steps = 1000\n",
    "alpha = 1\n",
    "for step in range(num_steps):\n",
    "    grads, loss = backprop(data, labels, params)\n",
    "    for k in params:\n",
    "        params[k] -= alpha * grads[k]\n",
    "    \n",
    "    if step % 50 == 0:\n",
    "        print(\"Step {} | Loss {}\".format(step, loss))"
   ]
  },
  {
   "cell_type": "markdown",
   "id": "07c23613",
   "metadata": {},
   "source": [
    "#### 可视化训练之后的预测结果"
   ]
  },
  {
   "cell_type": "code",
   "execution_count": 7,
   "id": "ba2d5e30",
   "metadata": {},
   "outputs": [
    {
     "name": "stderr",
     "output_type": "stream",
     "text": [
      "/var/folders/x9/xgj8n5xd2bb0cv55w7c72bn40000gn/T/ipykernel_10959/1334494163.py:9: MatplotlibDeprecationWarning: shading='flat' when X and Y have the same dimensions as C is deprecated since 3.3.  Either specify the corners of the quadrilaterals with X and Y, or pass shading='auto', 'nearest' or 'gouraud', or set rcParams['pcolor.shading'].  This will become an error two minor releases later.\n",
      "  plt.pcolormesh(X1, X2, Y, cmap=plt.cm.get_cmap('YlGn'))\n"
     ]
    },
    {
     "data": {
      "image/png": "[encoded data removed]",
      "text/plain": [
       "<Figure size 432x288 with 2 Axes>"
      ]
     },
     "metadata": {
      "needs_background": "light"
     },
     "output_type": "display_data"
    }
   ],
   "source": [
    "num_points = 200\n",
    "x1s = np.linspace(-6.0, 6.0, num_points)\n",
    "x2s = np.linspace(-6.0, 6.0, num_points)\n",
    "\n",
    "points = np.transpose([np.tile(x1s, len(x2s)), np.repeat(x2s, len(x1s))])\n",
    "Y = forward(points, params).reshape(num_points, num_points)\n",
    "X1, X2 = np.meshgrid(x1s, x2s)\n",
    "\n",
    "plt.pcolormesh(X1, X2, Y, cmap=plt.cm.get_cmap('YlGn'))\n",
    "plt.colorbar()\n",
    "plt.scatter(data[:num_data//2, 0], data[:num_data//2, 1], color='red') \n",
    "plt.scatter(data[num_data//2:, 0], data[num_data//2:, 1], color='blue') \n",
    "plt.show()"
   ]
  },
  {
   "cell_type": "markdown",
   "id": "c0fe6b2e",
   "metadata": {},
   "source": [
    "## 基于torch.autograd的自动微分\n",
    "\n",
    "`PyTorch`中创建了一个微分引擎`torch.autograd`。它能够对任意计算图的自动地计算微分。"
   ]
  },
  {
   "cell_type": "markdown",
   "id": "f370d510",
   "metadata": {},
   "source": [
    "对于一个简单的一层神经网络，假设输入为$x$, 参数为$w$和$b$, 和一些损失函数。在`PyTorch`中可以定义为如下形式："
   ]
  },
  {
   "cell_type": "code",
   "execution_count": 8,
   "id": "2f707be9",
   "metadata": {},
   "outputs": [],
   "source": [
    "import torch\n",
    "\n",
    "x = torch.ones(5)\n",
    "y = torch.zeros(3)\n",
    "w = torch.randn(5, 3, requires_grad=True)\n",
    "b = torch.randn(3, requires_grad=True)\n",
    "z = torch.matmul(x, w) + b\n",
    "loss = torch.nn.functional.binary_cross_entropy_with_logits(z, y)"
   ]
  },
  {
   "cell_type": "markdown",
   "id": "820dc726",
   "metadata": {},
   "source": [
    "在上述网络中，$w$和$b$是参数，我们需要去优化的参数。因此，我们需要去计算其梯度信息，所以需要设置`requires_grad=True`。"
   ]
  },
  {
   "cell_type": "markdown",
   "id": "08e11fcd",
   "metadata": {},
   "source": [
    "我们使用`tensor`去构造计算图的时候，实际上就是在构造一个函数类(`class Function`), 这个类知道如何去计算`forward`函数和在`backward propagation`的时候，如何去计算偏微分。反向传播函数存储在`grad_fn`中。\n",
    "\n",
    "- [https://pytorch.org/docs/stable/autograd.html#function](https://pytorch.org/docs/stable/autograd.html#function)"
   ]
  },
  {
   "cell_type": "code",
   "execution_count": 9,
   "id": "ab17b4c5",
   "metadata": {},
   "outputs": [
    {
     "name": "stdout",
     "output_type": "stream",
     "text": [
      "Gradient function for z = <AddBackward0 object at 0x1218b7d90>\n",
      "Gradient function for loss = <BinaryCrossEntropyWithLogitsBackward object at 0x1218b78b0>\n"
     ]
    }
   ],
   "source": [
    "print(\"Gradient function for z =\", z.grad_fn)\n",
    "print(\"Gradient function for loss =\", loss.grad_fn)"
   ]
  },
  {
   "cell_type": "markdown",
   "id": "5e8d9ced",
   "metadata": {},
   "source": [
    "可以看到对于$z$来说，它的梯度函数其实是一个加法类的。"
   ]
  },
  {
   "cell_type": "markdown",
   "id": "791fda66",
   "metadata": {},
   "source": [
    "### 计算梯度"
   ]
  },
  {
   "cell_type": "markdown",
   "id": "0775b817",
   "metadata": {},
   "source": [
    "通过调用`backward`方法，我们可以得到梯度。"
   ]
  },
  {
   "cell_type": "code",
   "execution_count": 10,
   "id": "bfed85a3",
   "metadata": {},
   "outputs": [
    {
     "name": "stdout",
     "output_type": "stream",
     "text": [
      "tensor([[0.0771, 0.3245, 0.0384],\n",
      "        [0.0771, 0.3245, 0.0384],\n",
      "        [0.0771, 0.3245, 0.0384],\n",
      "        [0.0771, 0.3245, 0.0384],\n",
      "        [0.0771, 0.3245, 0.0384]])\n",
      "tensor([0.0771, 0.3245, 0.0384])\n"
     ]
    }
   ],
   "source": [
    "loss.backward()\n",
    "print(w.grad)\n",
    "print(b.grad)"
   ]
  },
  {
   "cell_type": "markdown",
   "id": "93189ec9",
   "metadata": {},
   "source": [
    "这里我们只能得到计算图中`required_grad=True`的这些节点的梯度信息。对于计算图中的其它节点，梯度信息将不能获得。\n",
    "\n",
    "并且，`PyTorch`中用的是动态图，所以`backward`方法调用一次之后，计算图将会被释放。如果我们需要对其做多次`backward`的话，需要设置`requires_grad=True`。"
   ]
  },
  {
   "cell_type": "markdown",
   "id": "1d3ba0d5",
   "metadata": {},
   "source": [
    "### 去掉梯度跟踪\n",
    "\n",
    "当设置了`requires_grad=True`的时候，会自动跟踪一些梯度信息，会将进行反向传播过程中需要的量给存储下来。但是在做推理的时候，我们是不需要去存储这些中间变量的。可以采用`torch.no_grad()`方法，或者`detach()`方法。"
   ]
  },
  {
   "cell_type": "code",
   "execution_count": 11,
   "id": "54b028c8",
   "metadata": {},
   "outputs": [
    {
     "name": "stdout",
     "output_type": "stream",
     "text": [
      "True\n",
      "False\n"
     ]
    }
   ],
   "source": [
    "z = torch.matmul(x, w) + b\n",
    "print(z.requires_grad)\n",
    "\n",
    "with torch.no_grad():\n",
    "    z = torch.matmul(x, w) + b\n",
    "print(z.requires_grad)"
   ]
  },
  {
   "cell_type": "code",
   "execution_count": 12,
   "id": "f0da58da",
   "metadata": {},
   "outputs": [
    {
     "name": "stdout",
     "output_type": "stream",
     "text": [
      "False\n"
     ]
    }
   ],
   "source": [
    "z = torch.matmul(x, w)+b\n",
    "z_det = z.detach()\n",
    "print(z_det.requires_grad)"
   ]
  },
  {
   "cell_type": "markdown",
   "id": "feefd06a",
   "metadata": {},
   "source": [
    "上述这些做法在微调模型的时候也是可以用得到的。\n",
    "\n",
    "- [https://pytorch.org/tutorials/beginner/finetuning_torchvision_models_tutorial.html](https://pytorch.org/tutorials/beginner/finetuning_torchvision_models_tutorial.html)"
   ]
  },
  {
   "cell_type": "markdown",
   "id": "5d36166b",
   "metadata": {},
   "source": [
    "### Tensor求导，Jacobian Products\n",
    "\n",
    "通常`loss`是一个标量，但是如果是一个向量的话，那么求导就需要用到`Jacobian Products`。\n",
    "\n",
    "- [https://pytorch.org/tutorials/beginner/basics/autogradqs_tutorial.html](https://pytorch.org/tutorials/beginner/basics/autogradqs_tutorial.html)\n",
    "\n",
    "用`PyTorch`演示的话，效果如下:"
   ]
  },
  {
   "cell_type": "code",
   "execution_count": 13,
   "id": "3fdb9902",
   "metadata": {},
   "outputs": [
    {
     "name": "stdout",
     "output_type": "stream",
     "text": [
      "First call\n",
      " tensor([[4., 2., 2., 2., 2.],\n",
      "        [2., 4., 2., 2., 2.],\n",
      "        [2., 2., 4., 2., 2.],\n",
      "        [2., 2., 2., 4., 2.],\n",
      "        [2., 2., 2., 2., 4.]])\n"
     ]
    }
   ],
   "source": [
    "inp = torch.eye(5, requires_grad=True)\n",
    "out = (inp + 1).pow(2)\n",
    "out.backward(torch.ones_like(inp), retain_graph=True)\n",
    "print(\"First call\\n\", inp.grad)"
   ]
  },
  {
   "cell_type": "code",
   "execution_count": 14,
   "id": "dcb9dbed",
   "metadata": {},
   "outputs": [
    {
     "name": "stdout",
     "output_type": "stream",
     "text": [
      "Second call\n",
      " tensor([[8., 4., 4., 4., 4.],\n",
      "        [4., 8., 4., 4., 4.],\n",
      "        [4., 4., 8., 4., 4.],\n",
      "        [4., 4., 4., 8., 4.],\n",
      "        [4., 4., 4., 4., 8.]])\n"
     ]
    }
   ],
   "source": [
    "out.backward(torch.ones_like(inp), retain_graph=True)\n",
    "print(\"Second call\\n\", inp.grad)"
   ]
  },
  {
   "cell_type": "code",
   "execution_count": 15,
   "id": "6ad7e934",
   "metadata": {},
   "outputs": [
    {
     "name": "stdout",
     "output_type": "stream",
     "text": [
      "Call after zeroing gradients\n",
      " tensor([[4., 2., 2., 2., 2.],\n",
      "        [2., 4., 2., 2., 2.],\n",
      "        [2., 2., 4., 2., 2.],\n",
      "        [2., 2., 2., 4., 2.],\n",
      "        [2., 2., 2., 2., 4.]])\n"
     ]
    }
   ],
   "source": [
    "inp.grad.zero_()\n",
    "out.backward(torch.ones_like(inp), retain_graph=True)\n",
    "print(\"Call after zeroing gradients\\n\", inp.grad)"
   ]
  },
  {
   "cell_type": "markdown",
   "id": "ace10527",
   "metadata": {},
   "source": [
    "在之前调用`backward`的时候我们并没有传入参数，其实是相当于调用`backward(torch.tensor(1.0))`。"
   ]
  },
  {
   "cell_type": "markdown",
   "id": "189649c3",
   "metadata": {},
   "source": [
    "## torch.autograd.functional.jacobian\n",
    "\n",
    "- [https://pytorch.org/docs/stable/generated/torch.autograd.functional.jacobian.html#torch.autograd.functional.jacobian](https://pytorch.org/docs/stable/generated/torch.autograd.functional.jacobian.html#torch.autograd.functional.jacobian)\n",
    "\n",
    "计算给定的一个函数的`jacobian`函数。\n",
    "\n",
    "$$\n",
    "J=\\left(\\begin{array}{ccc}\n",
    "\\frac{\\partial y_{1}}{\\partial x_{1}} & \\cdots & \\frac{\\partial y_{1}}{\\partial x_{n}} \\\\\n",
    "\\vdots & \\ddots & \\vdots \\\\\n",
    "\\frac{\\partial y_{m}}{\\partial x_{1}} & \\cdots & \\frac{\\partial y_{m}}{\\partial x_{n}}\n",
    "\\end{array}\\right)\n",
    "$$\n",
    "\n",
    "\n",
    "`torch`中其函数原型为:\n",
    "\n",
    "```python\n",
    "torch.autograd.functional.jacobian(func, inputs, create_graph=False, strict=False, vectorize=False)\n",
    "```\n",
    "\n",
    "第一个参数`func`是函数，`inputs`是给定的输入x。"
   ]
  },
  {
   "cell_type": "code",
   "execution_count": 16,
   "id": "be5e231b",
   "metadata": {},
   "outputs": [
    {
     "data": {
      "text/plain": [
       "tensor([[-0.1204,  0.4620, -0.1774],\n",
       "        [-0.3638, -0.6170, -0.4248]])"
      ]
     },
     "execution_count": 16,
     "metadata": {},
     "output_type": "execute_result"
    }
   ],
   "source": [
    "def func(x):\n",
    "    return x.exp()\n",
    "def func1(x):\n",
    "    return x * x\n",
    "x = torch.randn(2, 3)\n",
    "x"
   ]
  },
  {
   "cell_type": "code",
   "execution_count": 17,
   "id": "bb748f73",
   "metadata": {},
   "outputs": [
    {
     "data": {
      "text/plain": [
       "tensor([[0.8866, 1.5872, 0.8374],\n",
       "        [0.6950, 0.5395, 0.6539]])"
      ]
     },
     "execution_count": 17,
     "metadata": {},
     "output_type": "execute_result"
    }
   ],
   "source": [
    "func(x)"
   ]
  },
  {
   "cell_type": "code",
   "execution_count": 18,
   "id": "371c8874",
   "metadata": {},
   "outputs": [
    {
     "data": {
      "text/plain": [
       "tensor([[[[0.8866, 0.0000, 0.0000],\n",
       "          [0.0000, 0.0000, 0.0000]],\n",
       "\n",
       "         [[0.0000, 1.5872, 0.0000],\n",
       "          [0.0000, 0.0000, 0.0000]],\n",
       "\n",
       "         [[0.0000, 0.0000, 0.8374],\n",
       "          [0.0000, 0.0000, 0.0000]]],\n",
       "\n",
       "\n",
       "        [[[0.0000, 0.0000, 0.0000],\n",
       "          [0.6950, 0.0000, 0.0000]],\n",
       "\n",
       "         [[0.0000, 0.0000, 0.0000],\n",
       "          [0.0000, 0.5395, 0.0000]],\n",
       "\n",
       "         [[0.0000, 0.0000, 0.0000],\n",
       "          [0.0000, 0.0000, 0.6539]]]])"
      ]
     },
     "execution_count": 18,
     "metadata": {},
     "output_type": "execute_result"
    }
   ],
   "source": [
    "from torch.autograd.functional import jacobian\n",
    "jacobian(func, x)"
   ]
  },
  {
   "cell_type": "code",
   "execution_count": 19,
   "id": "00a661bf",
   "metadata": {},
   "outputs": [
    {
     "data": {
      "text/plain": [
       "tensor([[-0.1204,  0.4620, -0.1774],\n",
       "        [-0.3638, -0.6170, -0.4248]])"
      ]
     },
     "execution_count": 19,
     "metadata": {},
     "output_type": "execute_result"
    }
   ],
   "source": [
    "x"
   ]
  },
  {
   "cell_type": "code",
   "execution_count": 20,
   "id": "ffc799a7",
   "metadata": {},
   "outputs": [
    {
     "data": {
      "text/plain": [
       "tensor([[[[-0.2408,  0.0000, -0.0000],\n",
       "          [-0.0000, -0.0000, -0.0000]],\n",
       "\n",
       "         [[-0.0000,  0.9240, -0.0000],\n",
       "          [-0.0000, -0.0000, -0.0000]],\n",
       "\n",
       "         [[-0.0000,  0.0000, -0.3549],\n",
       "          [-0.0000, -0.0000, -0.0000]]],\n",
       "\n",
       "\n",
       "        [[[-0.0000,  0.0000, -0.0000],\n",
       "          [-0.7277, -0.0000, -0.0000]],\n",
       "\n",
       "         [[-0.0000,  0.0000, -0.0000],\n",
       "          [-0.0000, -1.2341, -0.0000]],\n",
       "\n",
       "         [[-0.0000,  0.0000, -0.0000],\n",
       "          [-0.0000, -0.0000, -0.8497]]]])"
      ]
     },
     "execution_count": 20,
     "metadata": {},
     "output_type": "execute_result"
    }
   ],
   "source": [
    "jacobian(func1, x)"
   ]
  },
  {
   "cell_type": "markdown",
   "id": "71ef38d6",
   "metadata": {},
   "source": [
    "可以看到其结果是每个$y$对每个$x$的偏微分的结果。"
   ]
  },
  {
   "cell_type": "markdown",
   "id": "f07284c9",
   "metadata": {},
   "source": [
    "## hook\n"
   ]
  },
  {
   "cell_type": "markdown",
   "id": "f0479e34",
   "metadata": {},
   "source": [
    "### 添加到Tensor上的hook"
   ]
  },
  {
   "cell_type": "markdown",
   "id": "b80cdd4a",
   "metadata": {},
   "source": [
    "首先我们创建两个`tensor`，`a`和`b`，`a`的值为`2.0`，`b`的值为`3.0`。"
   ]
  },
  {
   "cell_type": "code",
   "execution_count": 21,
   "id": "15e19839",
   "metadata": {},
   "outputs": [
    {
     "name": "stdout",
     "output_type": "stream",
     "text": [
      "<MulBackward0 object at 0x1218b7d00>\n"
     ]
    }
   ],
   "source": [
    "import torch\n",
    "a = torch.tensor(2.0, requires_grad=True)\n",
    "b = torch.tensor(3.0, requires_grad=True)\n",
    "\n",
    "c = a * b\n",
    "print(c.grad_fn)"
   ]
  },
  {
   "cell_type": "markdown",
   "id": "40f3c52c",
   "metadata": {},
   "source": [
    "当我们将a和b相乘的时候，也在构建后向图。a和b是有一个属性data来存储数据，但是c会有grad_fn属性，因为a和b中有一个，或者两个的requires_grad=True，此时就会创建后向图。"
   ]
  },
  {
   "cell_type": "code",
   "execution_count": 22,
   "id": "fa9cef6a",
   "metadata": {},
   "outputs": [],
   "source": [
    "c.backward()"
   ]
  },
  {
   "cell_type": "markdown",
   "id": "bb5ba46e",
   "metadata": {},
   "source": [
    "调用c.backward()时，就会将梯度传递给所构建的后向图中grad_fn指向的节点。"
   ]
  },
  {
   "cell_type": "markdown",
   "id": "f81dbf46",
   "metadata": {},
   "source": [
    "如果想要跟踪，或者修改这些梯度值的话，我们可以采用hook机制"
   ]
  },
  {
   "cell_type": "code",
   "execution_count": 23,
   "id": "6850a85e",
   "metadata": {},
   "outputs": [],
   "source": [
    "def c_hook(grad):\n",
    "    print(grad)\n",
    "    return grad + 2\n",
    "c.register_hook(c_hook)\n",
    "c.register_hook(lambda grad : print(grad))\n",
    "c.retain_grad()"
   ]
  },
  {
   "cell_type": "markdown",
   "id": "58fee6fc",
   "metadata": {},
   "source": [
    "### 添加到Module上的hook"
   ]
  },
  {
   "cell_type": "markdown",
   "id": "ab97880b",
   "metadata": {},
   "source": [
    "https://www.bilibili.com/video/BV1MV411t7td/?spm_id_from=333.788.recommend_more_video.2"
   ]
  },
  {
   "cell_type": "markdown",
   "id": "dead7bcd",
   "metadata": {},
   "source": [
    "https://www.bilibili.com/video/BV1by4y1B7LD/?spm_id_from=333.788.recommend_more_video.-1"
   ]
  },
  {
   "cell_type": "markdown",
   "id": "fe1bc35f",
   "metadata": {},
   "source": [
    "## Numpy实现框架\n",
    "\n",
    "1. https://zhuanlan.zhihu.com/p/351961835\n",
    "2. https://zhuanlan.zhihu.com/p/352130729"
   ]
  },
  {
   "cell_type": "code",
   "execution_count": null,
   "id": "aeeb361b",
   "metadata": {},
   "outputs": [],
   "source": []
  },
  {
   "cell_type": "code",
   "execution_count": null,
   "id": "4747e2dd",
   "metadata": {},
   "outputs": [],
   "source": []
  },
  {
   "cell_type": "code",
   "execution_count": null,
   "id": "8704b1ed",
   "metadata": {},
   "outputs": [],
   "source": []
  },
  {
   "cell_type": "code",
   "execution_count": null,
   "id": "63bbeceb",
   "metadata": {},
   "outputs": [],
   "source": []
  },
  {
   "cell_type": "code",
   "execution_count": null,
   "id": "d2ef6a75",
   "metadata": {},
   "outputs": [],
   "source": []
  }
 ],
 "metadata": {
  "kernelspec": {
   "display_name": "Python 3 (ipykernel)",
   "language": "python",
   "name": "python3"
  },
  "language_info": {
   "codemirror_mode": {
    "name": "ipython",
    "version": 3
   },
   "file_extension": ".py",
   "mimetype": "text/x-python",
   "name": "python",
   "nbconvert_exporter": "python",
   "pygments_lexer": "ipython3",
   "version": "3.9.4"
  },
  "toc": {
   "base_numbering": 1,
   "nav_menu": {},
   "number_sections": true,
   "sideBar": true,
   "skip_h1_title": false,
   "title_cell": "Table of Contents",
   "title_sidebar": "Contents",
   "toc_cell": false,
   "toc_position": {},
   "toc_section_display": true,
   "toc_window_display": true
  }
 },
 "nbformat": 4,
 "nbformat_minor": 5
}
