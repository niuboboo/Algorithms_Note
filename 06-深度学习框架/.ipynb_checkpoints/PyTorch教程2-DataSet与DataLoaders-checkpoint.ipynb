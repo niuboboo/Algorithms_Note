{
 "cells": [
  {
   "cell_type": "markdown",
   "id": "bb12a60c",
   "metadata": {},
   "source": [
    "## torch.utils.data.Dataset\n",
    "\n",
    "&emsp;&emsp;`Dataset`用来处理单个样本，如何从磁盘中读取我们的训练数据集。包括如何处理特征，标签，以及一些变形。"
   ]
  },
  {
   "cell_type": "markdown",
   "id": "63c87e2c",
   "metadata": {},
   "source": [
    "### 创建自定义的DataSet类\n",
    "\n",
    "&emsp;&emsp;自定义的`Dataset`类需要实现三个函数：\n",
    "\n",
    "1. __init__: 初始化数据。\n",
    "\n",
    "\n",
    "2. __len__: 返回所有训练样本的长度。\n",
    "\n",
    "\n",
    "3. __getitem__: 依据索引来返回训练样本。\n",
    "\n",
    "&emsp;&emsp;官方给定的`FashionMNIST images`存储在`img_dir`中，其标签存储在`CSV`文件`annotations_file`中。官方给出的示意源码为：\n",
    "\n",
    "```python\n",
    "import os\n",
    "import pandas as pd\n",
    "from torchvision.io import read_image\n",
    "\n",
    "class CustomImageDataset(Dataset):\n",
    "    def __init__(self, annotations_file, img_dir, transform=None, target_transform=None):\n",
    "        self.img_labels = pd.read_csv(annotations_file) # 获取图像lable\n",
    "        self.img_dir = img_dir\n",
    "        self.transform = transform  # 是否进行归一化等操作。\n",
    "        self.target_transform = target_transform\n",
    "\n",
    "    def __len__(self):\n",
    "        return len(self.img_labels)\n",
    "\n",
    "    def __getitem__(self, idx):\n",
    "        img_path = os.path.join(self.img_dir, self.img_labels.iloc[idx, 0])  # 获取到图像的路径。\n",
    "        image = read_image(img_path)  # 获取到图像数据。\n",
    "        label = self.img_labels.iloc[idx, 1]  # 获取到标签数据。\n",
    "        if self.transform:\n",
    "            image = self.transform(image)\n",
    "        if self.target_transform:\n",
    "            label = self.target_transform(label)\n",
    "        return image, label\n",
    "```"
   ]
  },
  {
   "cell_type": "markdown",
   "id": "87e8585d",
   "metadata": {},
   "source": [
    "## torch.utils.data.DataLoader"
   ]
  },
  {
   "cell_type": "markdown",
   "id": "12c0e0c3",
   "metadata": {},
   "source": [
    "`DataSet`一次只返回一个样本对应的特征和标签。当我们训练一个模型的时候，我们通常希望处理的是一个`minibatches`，每个`epoch`下打乱样本顺序，防止过拟合，并且采用`Python`的`multiprocessing`来加速数据读取，使其减少`GPU`训练时的等待时间。"
   ]
  },
  {
   "cell_type": "markdown",
   "id": "05301eb8",
   "metadata": {},
   "source": [
    "从torchvision库中下载数据集："
   ]
  },
  {
   "cell_type": "code",
   "execution_count": 1,
   "id": "3c766dc8",
   "metadata": {},
   "outputs": [
    {
     "name": "stderr",
     "output_type": "stream",
     "text": [
      "/Users/tinyzqh/miniforge3/lib/python3.9/site-packages/torchvision/datasets/mnist.py:498: UserWarning: The given NumPy array is not writeable, and PyTorch does not support non-writeable tensors. This means you can write to the underlying (supposedly non-writeable) NumPy array using the tensor. You may want to copy the array to protect its data or make it writeable before converting it to a tensor. This type of warning will be suppressed for the rest of this program. (Triggered internally at  /tmp/pip-req-build-wdh4qigd/torch/csrc/utils/tensor_numpy.cpp:143.)\n",
      "  return torch.from_numpy(parsed.astype(m[2], copy=False)).view(*s)\n"
     ]
    }
   ],
   "source": [
    "from torchvision import datasets\n",
    "from torchvision.transforms import ToTensor\n",
    "training_data = datasets.FashionMNIST(root=\"data\", train=True, download=True, transform=ToTensor())\n",
    "test_data = datasets.FashionMNIST(root=\"data\", train=False, download=True, transform=ToTensor())"
   ]
  },
  {
   "cell_type": "code",
   "execution_count": 2,
   "id": "ed56cfb2",
   "metadata": {},
   "outputs": [],
   "source": [
    "from torch.utils.data import DataLoader\n",
    "train_dataloader = DataLoader(training_data, batch_size=64, shuffle=True)\n",
    "test_dataloader = DataLoader(test_data, batch_size=64, shuffle=True)  # test一般不用shuffle。"
   ]
  },
  {
   "cell_type": "markdown",
   "id": "e5698944",
   "metadata": {},
   "source": [
    "将dataset加载到DataLoader之后，我们就可以对其进行遍历，每次返回一个batch的训练特征和训练标签，每次包含一个batch=64的样本。\n",
    "\n",
    "因为设置了shuffle=True，所以当我们加载完了所有数据之后，数据将会被再次打乱。"
   ]
  },
  {
   "cell_type": "code",
   "execution_count": 3,
   "id": "5531c295",
   "metadata": {},
   "outputs": [
    {
     "name": "stdout",
     "output_type": "stream",
     "text": [
      "Feature batch shape torch.Size([64, 1, 28, 28])\n",
      "Labels batch shape torch.Size([64])\n"
     ]
    }
   ],
   "source": [
    "train_features, train_labels = next(iter(train_dataloader))\n",
    "print(\"Feature batch shape {}\".format(train_features.size()))\n",
    "print(\"Labels batch shape {}\".format(train_labels.size()))"
   ]
  },
  {
   "cell_type": "code",
   "execution_count": 4,
   "id": "b345c9b8",
   "metadata": {},
   "outputs": [
    {
     "data": {
      "image/png": "[encoded data removed]",
      "text/plain": [
       "<Figure size 432x288 with 1 Axes>"
      ]
     },
     "metadata": {
      "needs_background": "light"
     },
     "output_type": "display_data"
    }
   ],
   "source": [
    "import matplotlib.pyplot as plt\n",
    "img = train_features[0].squeeze()\n",
    "label = train_labels[0]\n",
    "plt.imshow(img, cmap=\"gray\")\n",
    "plt.show()"
   ]
  },
  {
   "cell_type": "code",
   "execution_count": 5,
   "id": "e933adbc",
   "metadata": {},
   "outputs": [
    {
     "name": "stdout",
     "output_type": "stream",
     "text": [
      "Label 3\n"
     ]
    }
   ],
   "source": [
    "print(\"Label {}\".format(label))"
   ]
  },
  {
   "cell_type": "markdown",
   "id": "8a5984f5",
   "metadata": {},
   "source": [
    "## 自定义Sampler\n",
    "\n",
    "自定义`Sampler`即是自定义数据采样方式。"
   ]
  },
  {
   "cell_type": "markdown",
   "id": "b09daed7",
   "metadata": {},
   "source": [
    "首先，我们虚构一个`Dataset`类，用于测试。这个类中的`label`标签是混乱的，无法通过控制`index`范围来实现单类别训练。"
   ]
  },
  {
   "cell_type": "code",
   "execution_count": 6,
   "id": "da23cc1e",
   "metadata": {},
   "outputs": [],
   "source": [
    "import torch\n",
    "import random\n",
    "from torch.utils.data.dataset import Dataset\n",
    "from torch.utils.data.sampler import Sampler"
   ]
  },
  {
   "cell_type": "code",
   "execution_count": 7,
   "id": "a6bee9fb",
   "metadata": {},
   "outputs": [],
   "source": [
    "class Data(Dataset):\n",
    "    def __init__(self):\n",
    "        self.img = torch.cat([torch.ones(2, 2) for i in range(100)], dim=0)\n",
    "        self.num_classes = 2\n",
    "        self.label = torch.tensor([random.randint(0, self.num_classes-1) for i in range(100)])\n",
    "        \n",
    "    def __getitem__(self, index):\n",
    "        return self.img[index], self.label[index]\n",
    "    \n",
    "    def __len__(self):\n",
    "        return len(self.label)"
   ]
  },
  {
   "cell_type": "markdown",
   "id": "ac172d6a",
   "metadata": {},
   "source": [
    "然后，自定义一个`Sampler`类，这个类的作用是生成一个`index`列表，可以理解为重排`data`中的`index`。"
   ]
  },
  {
   "cell_type": "code",
   "execution_count": 8,
   "id": "e5e13c7c",
   "metadata": {},
   "outputs": [],
   "source": [
    "class CustomSampler(Sampler):\n",
    "    def __init__(self, data):\n",
    "        self.data = data\n",
    "    \n",
    "    def __iter__(self):\n",
    "        indices = []\n",
    "        for n in range(self.data.num_classes):\n",
    "            index = torch.where(self.data.label == n)[0]\n",
    "            indices.append(index)\n",
    "        indices = torch.cat(indices, dim=0)\n",
    "        return iter(indices)\n",
    "    \n",
    "    def __len__(self):\n",
    "        return len(self.data)"
   ]
  },
  {
   "cell_type": "markdown",
   "id": "f44dd0be",
   "metadata": {},
   "source": [
    "定义好了之后，可以封装成`DataLoader`并查看运行结果。"
   ]
  },
  {
   "cell_type": "code",
   "execution_count": 9,
   "id": "2952f4a0",
   "metadata": {},
   "outputs": [
    {
     "name": "stdout",
     "output_type": "stream",
     "text": [
      "tensor([0, 0, 0, 0, 0, 0, 0, 0])\n",
      "tensor([0, 0, 0, 0, 0, 0, 0, 0])\n",
      "tensor([0, 0, 0, 0, 0, 0, 0, 0])\n",
      "tensor([0, 0, 0, 0, 0, 0, 0, 0])\n",
      "tensor([0, 0, 0, 0, 0, 0, 0, 0])\n",
      "tensor([0, 0, 0, 0, 0, 0, 0, 0])\n",
      "tensor([0, 0, 1, 1, 1, 1, 1, 1])\n",
      "tensor([1, 1, 1, 1, 1, 1, 1, 1])\n",
      "tensor([1, 1, 1, 1, 1, 1, 1, 1])\n",
      "tensor([1, 1, 1, 1, 1, 1, 1, 1])\n",
      "tensor([1, 1, 1, 1, 1, 1, 1, 1])\n",
      "tensor([1, 1, 1, 1, 1, 1, 1, 1])\n",
      "tensor([1, 1, 1, 1])\n"
     ]
    }
   ],
   "source": [
    "d = Data()\n",
    "s = CustomSampler(d)\n",
    "dl = DataLoader(d, 8, sampler=s)\n",
    "for img, label in dl:\n",
    "    print(label)"
   ]
  },
  {
   "cell_type": "markdown",
   "id": "65be51d9",
   "metadata": {},
   "source": [
    "上述结果中，有一个`batch`中还是包含了两种不同类型的标签，为了达到目的，我们还需要定义一个`BatchSampler`类。"
   ]
  },
  {
   "cell_type": "markdown",
   "id": "ee54adfc",
   "metadata": {},
   "source": [
    "## 自定义BatchSampler"
   ]
  },
  {
   "cell_type": "code",
   "execution_count": 10,
   "id": "7a680fe8",
   "metadata": {},
   "outputs": [],
   "source": [
    "class CustomBatchSampler:\n",
    "    def __init__(self, sampler, batch_size, drop_last):\n",
    "        self.sampler = sampler\n",
    "        self.batch_size = batch_size\n",
    "        self.drop_last = drop_last\n",
    "    \n",
    "    def __iter__(self):\n",
    "        batch = []\n",
    "        i = 0\n",
    "        sampler_list = list(self.sampler)\n",
    "        for idx in sampler_list:\n",
    "            batch.append(idx)\n",
    "            if len(batch) == self.batch_size:\n",
    "                yield batch\n",
    "                batch = []\n",
    "            if(\n",
    "                i < len(sampler_list) - 1\n",
    "                and self.sampler.data.label[idx]\n",
    "                != self.sampler.data.label[sampler_list[i + 1]]\n",
    "            ):\n",
    "                if len(batch) > 0 and not self.drop_last:\n",
    "                    yield batch\n",
    "                    batch = []\n",
    "                else:\n",
    "                    batch = []\n",
    "            i += 1\n",
    "        if len(batch) > 0 and not self.drop_last:\n",
    "            yield batch\n",
    "    \n",
    "    def __len__(self):\n",
    "        if self.drop_last:\n",
    "            return len(self.sampler)   # self.batch_size\n",
    "        else:\n",
    "            return (len(self.sampler) + self.batch_size - 1)"
   ]
  },
  {
   "cell_type": "markdown",
   "id": "6c81afc9",
   "metadata": {},
   "source": [
    "再次封装成`DataLoader`并查看运行结果："
   ]
  },
  {
   "cell_type": "code",
   "execution_count": 11,
   "id": "174b02bd",
   "metadata": {},
   "outputs": [
    {
     "name": "stdout",
     "output_type": "stream",
     "text": [
      "tensor([0, 0, 0, 0, 0, 0, 0, 0])\n",
      "tensor([0, 0, 0, 0, 0, 0, 0, 0])\n",
      "tensor([0, 0, 0, 0, 0, 0, 0, 0])\n",
      "tensor([0, 0, 0, 0, 0, 0, 0, 0])\n",
      "tensor([0, 0, 0, 0, 0, 0, 0, 0])\n",
      "tensor([0, 0, 0, 0, 0, 0, 0, 0])\n",
      "tensor([0, 0, 0, 0, 0, 0, 0, 0])\n",
      "tensor([0, 0, 0, 0])\n",
      "tensor([1, 1, 1, 1, 1, 1, 1, 1])\n",
      "tensor([1, 1, 1, 1, 1, 1, 1, 1])\n",
      "tensor([1, 1, 1, 1, 1, 1, 1, 1])\n",
      "tensor([1, 1, 1, 1, 1, 1, 1, 1])\n",
      "tensor([1, 1, 1, 1, 1, 1, 1, 1])\n"
     ]
    }
   ],
   "source": [
    "d = Data()\n",
    "s = CustomSampler(d)\n",
    "bs = CustomBatchSampler(s, 8, False)\n",
    "dl = DataLoader(d, batch_sampler=bs)\n",
    "for img, label in dl:\n",
    "    print(label)"
   ]
  },
  {
   "cell_type": "code",
   "execution_count": 12,
   "id": "dd22613c",
   "metadata": {},
   "outputs": [
    {
     "name": "stdout",
     "output_type": "stream",
     "text": [
      "tensor([0, 0, 0, 0, 0, 0, 0, 0])\n",
      "tensor([0, 0, 0, 0, 0, 0, 0, 0])\n",
      "tensor([0, 0, 0, 0, 0, 0, 0, 0])\n",
      "tensor([0, 0, 0, 0, 0, 0, 0, 0])\n",
      "tensor([0, 0, 0, 0, 0, 0, 0, 0])\n",
      "tensor([0, 0, 0, 0, 0, 0, 0, 0])\n",
      "tensor([0, 0, 0, 0, 0, 0, 0, 0])\n",
      "tensor([1, 1, 1, 1, 1, 1, 1, 1])\n",
      "tensor([1, 1, 1, 1, 1, 1, 1, 1])\n",
      "tensor([1, 1, 1, 1, 1, 1, 1, 1])\n",
      "tensor([1, 1, 1, 1, 1, 1, 1, 1])\n",
      "tensor([1, 1, 1, 1, 1, 1, 1, 1])\n"
     ]
    }
   ],
   "source": [
    "bs = CustomBatchSampler(s, 8, True)\n",
    "dl = DataLoader(d, batch_sampler=bs)\n",
    "for img, label in dl:\n",
    "    print(label)"
   ]
  },
  {
   "cell_type": "code",
   "execution_count": null,
   "id": "2fca37eb",
   "metadata": {},
   "outputs": [],
   "source": []
  }
 ],
 "metadata": {
  "kernelspec": {
   "display_name": "Python 3 (ipykernel)",
   "language": "python",
   "name": "python3"
  },
  "language_info": {
   "codemirror_mode": {
    "name": "ipython",
    "version": 3
   },
   "file_extension": ".py",
   "mimetype": "text/x-python",
   "name": "python",
   "nbconvert_exporter": "python",
   "pygments_lexer": "ipython3",
   "version": "3.9.4"
  },
  "toc": {
   "base_numbering": 1,
   "nav_menu": {},
   "number_sections": true,
   "sideBar": true,
   "skip_h1_title": false,
   "title_cell": "Table of Contents",
   "title_sidebar": "Contents",
   "toc_cell": false,
   "toc_position": {},
   "toc_section_display": true,
   "toc_window_display": true
  }
 },
 "nbformat": 4,
 "nbformat_minor": 5
}
