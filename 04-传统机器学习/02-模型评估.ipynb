{
 "cells": [
  {
   "cell_type": "markdown",
   "id": "b9646a88",
   "metadata": {},
   "source": [
    "# 模型评估\n",
    "\n",
    "&emsp;&emsp;做机器学习算法的时候，肯定是需要多个模型进行尝试的，想要在多个模型中进行选择的话，我们就需要多模型进行评估。主要是要评估模型误差的大小。"
   ]
  },
  {
   "cell_type": "markdown",
   "id": "ed6803bd",
   "metadata": {},
   "source": [
    "## 一种训练集一种算法"
   ]
  },
  {
   "cell_type": "markdown",
   "id": "a6070e56",
   "metadata": {},
   "source": [
    "### 经验误差与过拟合\n",
    "\n",
    "- 经验误差：训练集上面的误差-对应训练集数据。\n",
    "\n",
    "- 泛化误差：在“未来”样本上的误差-对应测试集数据。**验证集是用来调整模型的超参数的**。\n",
    "\n",
    "&emsp;&emsp;假设有$m$个样本，$Y$表示真实标签，$Y^{\\prime}$表示预测结果。其中错了$a$个，那么\n",
    "\n",
    "1. 错误率(`error rate`)：$E = a / m$。\n",
    "\n",
    "2. 精度(`accuracy`)：$1 - E$。\n",
    "\n",
    "3. 误差(`error`)：$|Y - Y^{\\prime}|$。"
   ]
  },
  {
   "cell_type": "markdown",
   "id": "949f3df9",
   "metadata": {},
   "source": [
    "### 模型评估方法"
   ]
  },
  {
   "cell_type": "markdown",
   "id": "1a8a52aa",
   "metadata": {},
   "source": [
    "&emsp;&emsp;为什么我们要有训练集、测试集甚至有时候要有验证集？\n",
    "\n",
    "&emsp;&emsp;因为我们想要的是模型对未知数据的预测能力，所以需要测试集。如果没有测试集的话，网络所学的就是一种记忆能力。\n",
    "\n",
    "&emsp;&emsp;测试集做出来的方法也有好多种：比如像：1. 留出法；2. 交叉验证法；3. 自助法。\n",
    "\n",
    "#### 留出法\n",
    "\n",
    "&emsp;&emsp;留出法就是很简单的三七分、二八分这样。但是要注意训练集与测试集同分布。\n",
    "\n",
    "&emsp;&emsp;比如有十年的数据，用前七年的数据做训练、后三年的数据做预测的话，就打破了原来数据的分布。这个时候可以采用均匀分别，从十年里面抽取`7`成的数据用来做训练、抽取`3`年的数据用来做测试。\n",
    "\n",
    "&emsp;&emsp;但是基于金融的这种特殊业务需求的话，用前七年的数据来做后三年的数据在落地层面甚至会更好。\n"
   ]
  },
  {
   "cell_type": "markdown",
   "id": "57bfac65",
   "metadata": {},
   "source": [
    "#### 交叉验证法\n",
    "\n",
    "&emsp;&emsp;比如说十折交叉验证，我们就将其分为十份$D_{1} \\cdots D_{10}$。\n",
    "\n",
    "&emsp;&emsp;第一次的时候用第十个$D_{10}$当作测试集、第二次的时候用第九个$D_{9}$当作测试集，第十次的时候用第一个$D_{1}$当作测试集。每一次都有一个测试结果，十次就是是个测试结果，最后将测试结果取平均就能得到最终的结果，作为这个模型的衡量标准。\n",
    "\n",
    "&emsp;&emsp;缺点在于数据量比较大的时候，对算力要求比较高，因为要学习多个模型。"
   ]
  },
  {
   "cell_type": "markdown",
   "id": "4151b55e",
   "metadata": {},
   "source": [
    "#### 自助法"
   ]
  },
  {
   "cell_type": "markdown",
   "id": "d65d74f5",
   "metadata": {},
   "source": [
    "&emsp;&emsp;假设我们有$m$个样本，那么对于其中的任意一个样本来说，它被选中的概率是$\\frac{1}{m}$，没有被选中的概率是$1 - \\frac{1}{m}$,样本在$m$次采样始终不被采到的概率是$(1-\\frac{1}{m})^{m}$, 取极限可以得到为:\n",
    "\n",
    "$$\n",
    "lim_{m->\\infty}(1 - \\frac{1}{m})^{m} -> \\frac{1}{e} = 0.368\n",
    "$$\n",
    "\n",
    "&emsp;&emsp;通过自助采样的方式，数据集中将会有$36.8\\%$的样本采样不到, 可以作为验证集。\n",
    "\n",
    "&emsp;&emsp;这样的方式也会改变了数据集原有的分布，比如之前的样本每个都是一个，采样完之后就有些多，有些少，甚至有些没有出现的作为测试集。"
   ]
  },
  {
   "cell_type": "markdown",
   "id": "32b4a387",
   "metadata": {},
   "source": [
    "### 验证集\n",
    "\n",
    "&emsp;&emsp;`validation set`是针对参数很难调的场合，需要调整的神经网络层数、神经网络的节点个数、学习率等等有很多的需要去调整的地方。这样就容易使得调出来的模型在测试集上过拟合。\n",
    "\n",
    "&emsp;&emsp;因此有了在训练集上训练、在验证集上看结果，调参，再看验证集结果参数调完之后，最终到测试集上看结果。"
   ]
  },
  {
   "cell_type": "markdown",
   "id": "a72f36e5",
   "metadata": {},
   "source": [
    "### 性能度量"
   ]
  },
  {
   "cell_type": "markdown",
   "id": "ed3efddb",
   "metadata": {},
   "source": [
    "&emsp;&emsp;`performance management`性能度量。\n",
    "\n",
    "#### 均方差\n",
    "\n",
    "&emsp;&emsp;回归任务最常用的性能度量是“均方误差”（mean squared error）。\n",
    "\n",
    "$$\n",
    "E(f ; D)=\\frac{1}{m} \\sum_{i=1}^{m}\\left(f\\left(\\boldsymbol{x}_{i}\\right)-y_{i}\\right)^{2}\n",
    "$$"
   ]
  },
  {
   "cell_type": "markdown",
   "id": "124e55f2",
   "metadata": {},
   "source": [
    "#### 错误率(error rate)\n",
    "\n",
    "$$\n",
    "E(f ; D)=\\frac{1}{m} \\sum_{i=1}^{m} \\mathbb{I}\\left(f\\left(\\boldsymbol{x}_{i}\\right) \\neq y_{i}\\right)\n",
    "$$\n",
    "\n",
    "&emsp;&emsp;其中$\\mathbb{I}$表示示性函数，当其中$f\\left(\\boldsymbol{x}_{i}\\right) \\neq y_{i}$的时候取`1`，相等的时候取`0`值。"
   ]
  },
  {
   "cell_type": "markdown",
   "id": "9b91a23c",
   "metadata": {},
   "source": [
    "#### 精度(accuracy)\n",
    "\n",
    "$$\n",
    "\\begin{aligned}\n",
    "\\operatorname{acc}(f ; D) &=\\frac{1}{m} \\sum_{i=1}^{m} \\mathbb{I}\\left(f\\left(\\boldsymbol{x}_{i}\\right)=y_{i}\\right) \\\\\n",
    "&=1-E(f ; D)\n",
    "\\end{aligned}\n",
    "$$"
   ]
  },
  {
   "cell_type": "markdown",
   "id": "640e8195",
   "metadata": {},
   "source": [
    "#### 查准率与查全率"
   ]
  },
  {
   "cell_type": "markdown",
   "id": "979ebc84",
   "metadata": {},
   "source": [
    "- **混淆矩阵**\n",
    "\n",
    "&emsp;&emsp;在二分类数据集中，标签有两种，正例和负例。模型分类之后，也有两种：预测正例和预测负例。两种分类方法交叉之后，就产生了**四种数据集合**。\n",
    "\n",
    "<img src=\"../images/confusion_matrix.jpeg\" width=\"40%\">\n"
   ]
  },
  {
   "cell_type": "markdown",
   "id": "e826d0e8",
   "metadata": {},
   "source": [
    "- `Precision`**查准率**: 表示从所有预测为正例中的结果中，预测正确的概率。\n",
    "\n",
    "$$\n",
    "P = \\frac{TP}{TP+FP}\n",
    "$$\n",
    "\n",
    "- `Recall`**查全率**: 表示从所有真实为正例的样本中，预测正确的概率。\n",
    "\n",
    "$$\n",
    "P = \\frac{TP}{TP+FN}\n",
    "$$"
   ]
  },
  {
   "cell_type": "markdown",
   "id": "9e4b81cd",
   "metadata": {},
   "source": [
    "&emsp;&emsp;**为什么我们需要查准率和查全率呢**？\n",
    "\n",
    "&emsp;&emsp;假设有一个手写体数字识别的数据集，但是我们只需要识别数字是否为`5`，那么标签就是两类，是或者不是。如果全部输出为不是数字`5`，我们也有百分之九十的准确率。\n",
    "\n",
    "&emsp;&emsp;**P-R曲线**:\n",
    "\n",
    "&emsp;&emsp;随着判定阈值的移动，`Precision`和`Recall`必定是一个反向的关系。阈值越严苛，查准率越高，查全率越低。阈值越松弛，查准率越低，查全率越高。\n",
    "\n",
    "&emsp;&emsp;**所以如果当召回率为百分之百的时候，如果精准率依然很高的话，说明模型就已经很好了。**"
   ]
  },
  {
   "cell_type": "markdown",
   "id": "bdd93bc3",
   "metadata": {},
   "source": [
    "&emsp;&emsp;**那P-R曲线的这个阈值如何确定呢？**\n",
    "\n",
    "1. **方法一**：使用平衡点(Break-Even Point, BEP) R = P时R与P的值。\n",
    "\n",
    "2. **方法二**：F1度量，$F_1=\\frac{2}{\\frac{1}{precision}+\\frac{1}{recall}}$，$\\frac{1}{F 1}=\\frac{1}{2} \\cdot\\left(\\frac{1}{P}+\\frac{1}{R}\\right)$。\n",
    "\n",
    "3. **方法三**：$F_{\\beta}$则是加权调和平均，$\\frac{1}{F_{\\beta}}=\\frac{1}{1+\\beta^{2}} \\cdot\\left(\\frac{1}{P}+\\frac{\\beta^{2}}{R}\\right)$，$\\beta > 1$时，查全率有更大的影响，$\\beta < 1$时，查准率有更大的影响。（可以手推一下）。"
   ]
  },
  {
   "cell_type": "markdown",
   "id": "1c4b09f6",
   "metadata": {},
   "source": [
    "&emsp;&emsp;如果是多分类的话，可以转为二分类的计算，得到多个P和多个R，然后可以对其进行取平均计算等等。"
   ]
  },
  {
   "cell_type": "markdown",
   "id": "649a0f94",
   "metadata": {},
   "source": []
  },
  {
   "cell_type": "markdown",
   "id": "1bccf1cd",
   "metadata": {},
   "source": [
    "## 一种训练集多种算法"
   ]
  },
  {
   "cell_type": "markdown",
   "id": "ec0160e4",
   "metadata": {},
   "source": [
    "&emsp;&emsp;上面的工作都是说的一个训练集上的一种算法，然后在这种算法用什么样的指标来衡量其好坏。\n",
    "\n",
    "&emsp;&emsp;不同的算法之间做比较的话，他们又是如何来做的呢？\n",
    "\n",
    "&emsp;&emsp;可以画出`P-R`曲线来进行表示。在查准率相同的情况下，肯定选择查准率较高的值比较好。"
   ]
  },
  {
   "cell_type": "markdown",
   "id": "6520ce5c",
   "metadata": {},
   "source": [
    "### ROC曲线与AUC面积\n",
    "\n",
    "- `TPR`(True Positive Rate): 真正率 $TPR = \\frac{TP}{TP + FN}$。\n",
    "\n",
    "- `FPR`(False Positive Rate): 假正率 $FPR = \\frac{FP}{TN + FP}$。\n",
    "\n",
    "&emsp;&emsp;随着阈值的改变，他们两呈现的是一个同向的变化。阈值松一点的话，上述的两个值都会增大，阈值严苛一点的话，上述的两个值都会减小。"
   ]
  },
  {
   "cell_type": "markdown",
   "id": "1de1bec2",
   "metadata": {},
   "source": [
    "&emsp;&emsp;那么在假正率固定的情况下，我们期望真正率越大越好。横坐标为假正率、纵坐标为真正率所围成的面积就是`AUC`的面积。"
   ]
  },
  {
   "cell_type": "markdown",
   "id": "31dcab25",
   "metadata": {},
   "source": [
    "- rank loss\n",
    "\n",
    "$$\n",
    "\\ell_{\\text {rank }}=\\frac{1}{m^{+} m^{-}} \\sum_{\\boldsymbol{x}^{+} \\in D^{+}} \\sum_{\\boldsymbol{x}^{-} \\in D^{-}}\\left(\\mathbb{I}\\left(f\\left(\\boldsymbol{x}^{+}\\right)<f\\left(\\boldsymbol{x}^{-}\\right)\\right)+\\frac{1}{2} \\mathbb{I}\\left(f\\left(\\boldsymbol{x}^{+}\\right)=f\\left(\\boldsymbol{x}^{-}\\right)\\right)\\right)\n",
    "$$\n",
    "\n",
    "&emsp;&emsp;`AUC`和`rank loss`的关系是：$AUC = 1 - rank loss$。"
   ]
  },
  {
   "cell_type": "markdown",
   "id": "0cb3d71d",
   "metadata": {},
   "source": [
    "### 代价敏感曲线\n",
    "\n",
    "&emsp;&emsp;在分类的时候，所犯错误导致的后果不同，使得给它的分数也不同。\n",
    "\n",
    "- **代价敏感的错误率**为:\n",
    "\n",
    "$$\n",
    "\\begin{aligned}\n",
    "E(f ; D ; \\operatorname{cost})=& \\frac{1}{m}\\left(\\sum_{\\boldsymbol{x}_{i} \\in D^{+}} \\mathbb{I}\\left(f\\left(\\boldsymbol{x}_{i}\\right) \\neq y_{i}\\right) \\times \\operatorname{cost}_{01}\\right.\\\\\n",
    "&\\left.+\\sum_{\\boldsymbol{x}_{i} \\in D^{-}} \\mathbb{I}\\left(f\\left(\\boldsymbol{x}_{i}\\right) \\neq y_{i}\\right) \\times \\cos t_{10}\\right)\n",
    "\\end{aligned}\n",
    "$$\n",
    "\n",
    "- **代价曲线**\n",
    "\n",
    "\n",
    "\n"
   ]
  },
  {
   "cell_type": "code",
   "execution_count": null,
   "id": "fb280974",
   "metadata": {},
   "outputs": [],
   "source": []
  },
  {
   "cell_type": "code",
   "execution_count": null,
   "id": "2d3f17e4",
   "metadata": {},
   "outputs": [],
   "source": []
  },
  {
   "cell_type": "code",
   "execution_count": null,
   "id": "c53221e1",
   "metadata": {},
   "outputs": [],
   "source": []
  },
  {
   "cell_type": "code",
   "execution_count": null,
   "id": "66a83fe3",
   "metadata": {},
   "outputs": [],
   "source": []
  },
  {
   "cell_type": "markdown",
   "id": "994da4f0",
   "metadata": {},
   "source": [
    "## 多种训练集多种算法"
   ]
  },
  {
   "cell_type": "markdown",
   "id": "d78f263e",
   "metadata": {},
   "source": [
    "## 测试集上的性能能多大程度上保证真实的性能"
   ]
  },
  {
   "cell_type": "markdown",
   "id": "204782b9",
   "metadata": {},
   "source": []
  },
  {
   "cell_type": "markdown",
   "id": "c9180f08",
   "metadata": {},
   "source": []
  },
  {
   "cell_type": "markdown",
   "id": "7f95a008",
   "metadata": {},
   "source": [
    "## 为什么要进行模型评估\n",
    "\n"
   ]
  },
  {
   "cell_type": "markdown",
   "id": "5f3b64b8",
   "metadata": {},
   "source": [
    "\n",
    "依据混淆矩阵我们可以得到不同的评价指标：\n",
    "\n",
    "\n",
    "- Accuracy\n",
    "\n",
    "$$\n",
    "(TP+TN)/Total\n",
    "$$\n",
    "\n",
    "- F1=2*Recall*Precision/(Recall + Precison)\n",
    "\n",
    "- AUC动态混淆矩阵计算得到\n",
    "\n",
    "$$\n",
    "Y轴：真正例率 TPR = TP/(TP + FN)\n",
    "$$\n",
    "\n",
    "$$\n",
    "X轴：假正例率 FPR = FP/(TN + FP)\n",
    "$$"
   ]
  },
  {
   "cell_type": "markdown",
   "id": "e23e2cba",
   "metadata": {},
   "source": [
    "## 什么是模型评估\n",
    "\n",
    "模型评估主要包括**评估方法**、**性能度量**、**比较检验**。这三者是环环相扣，层层深入。评估方法说的是如何对数据集进行划分，划分出来之后进行一个指标上的度量，指标度量完之后进行指标的比较。"
   ]
  },
  {
   "cell_type": "markdown",
   "id": "0469d92d",
   "metadata": {},
   "source": [
    "### 性能度量\n",
    "\n",
    "- 均方误差 ROC AUC：这三个在现实中用的比较多。\n",
    "\n",
    "- 错误率vs精度 差准率vs查全率F1：这个应用也比较广泛。"
   ]
  },
  {
   "cell_type": "markdown",
   "id": "88ff3c56",
   "metadata": {},
   "source": [
    "### 比较检验(判断实质差异)\n",
    "\n",
    "从理论上验证某一个指标的科学性，"
   ]
  },
  {
   "cell_type": "markdown",
   "id": "8e17378c",
   "metadata": {},
   "source": [
    "## 深入理解模型评估\n",
    "\n",
    "- 偏差vs方差\n",
    "\n",
    "偏差时期望值和实际值的差值。方差是模型预测值的方差。\n",
    "\n",
    "实际的误差由偏差、方差和不可预测值三部分组成\n",
    "\n",
    "$$\n",
    "Err(x)=Bias^{2} + Variance + Irreducible Error\n",
    "$$\n",
    "\n",
    "- 过拟合vs欠拟合\n",
    "\n",
    "模型越复杂，模型拟合能力越强，偏差逐渐变小，容易过拟合。模型越复杂，可能性就会越多，方差越大。"
   ]
  },
  {
   "cell_type": "markdown",
   "id": "54a6d5a6",
   "metadata": {},
   "source": []
  },
  {
   "cell_type": "markdown",
   "id": "fd202e40",
   "metadata": {},
   "source": [
    "# 分类问题性能评估"
   ]
  },
  {
   "cell_type": "markdown",
   "id": "012a9ed3",
   "metadata": {},
   "source": [
    "\n",
    "- `F1 score`：\n",
    " \n",
    " \n",
    "为什么需要这些指标：\n",
    "- 数据不平衡，如 98% 邮件都是垃圾邮件，模型检测是否垃圾邮件？将所有邮件都归为垃圾邮件，此时精度仍有 98%\n",
    "- 例如针对儿童的视频分类器，该分类器可能误屏蔽很多好视频(`low recall`)，但是坏视频的准确率必须要很高(`high precision`)\n",
    "     \n",
    "`Precision/Recall Tradeoff`，如下图所示：十个数字，预测为 5 的概率从左至右依次增大，当判断是否为 5 的阈值改变时，对应的 `precision/recall` 相应会发生变化，`precision` 越大，`recall` 越小，反之也成立\n",
    "\n",
    "![](../../images/DecisionThreshold_PrecisionRecallTradeoff.png)\n",
    "\n",
    " \n",
    " \n",
    " \n",
    "`ROC` 曲线，纵轴是真正例率(`True Positive Rate`)，横轴是假正例率(`False Positive Rate`)"
   ]
  },
  {
   "cell_type": "code",
   "execution_count": 1,
   "id": "76050993",
   "metadata": {},
   "outputs": [],
   "source": [
    "# TP、TN、FP、FN\n",
    "def getTP(y_true, y_pred):\n",
    "    return sum((y_true == 1) & (y_pred == 1))\n",
    "\n",
    "\n",
    "def getTN(y_true, y_pred):\n",
    "    return sum((y_true == 0) & (y_pred == 0))\n",
    "\n",
    "\n",
    "def getFP(y_true, y_pred):\n",
    "    return sum((y_true == 0) & (y_pred == 1))\n",
    "\n",
    "\n",
    "def getFN(y_true, y_pred):\n",
    "    return sum((y_true == 1) & (y_pred == 0))"
   ]
  },
  {
   "cell_type": "code",
   "execution_count": 2,
   "id": "be67d1fc",
   "metadata": {},
   "outputs": [],
   "source": [
    "# confusion matrix\n",
    "def confusion_matrix(y_true, y_pred):\n",
    "    TP = getTP(y_true, y_pred)\n",
    "    TN = getTN(y_true, y_pred)\n",
    "    FP = getFP(y_true, y_pred)\n",
    "    FN = getFN(y_true, y_pred)\n",
    "    return np.array([[TN, FP], [FN, TP]])"
   ]
  },
  {
   "cell_type": "code",
   "execution_count": 3,
   "id": "2efa92de",
   "metadata": {},
   "outputs": [],
   "source": [
    "# 精度\n",
    "def accuracy(y_true, y_pred):\n",
    "    return sum(y_true == y_pred) / len(y_true)"
   ]
  },
  {
   "cell_type": "code",
   "execution_count": 4,
   "id": "810d2cc6",
   "metadata": {},
   "outputs": [],
   "source": [
    "# 查全率：所有正样本中，正确预测的比率\n",
    "def recall(y_true, y_pred):\n",
    "    TP = getTp(y_true, y_pred)\n",
    "    FN = getFN(y_true, y_pred)\n",
    "    return TP / (TP + FN)"
   ]
  },
  {
   "cell_type": "code",
   "execution_count": 5,
   "id": "5cf3209b",
   "metadata": {},
   "outputs": [],
   "source": [
    "# 查准率：预测为正的所有样本中，正样本的比率\n",
    "def precision(y_true, y_pred):\n",
    "    TP = getTP(y_true, y_pred)\n",
    "    FP = getFP(y_true, y_pred)\n",
    "    return TP / (TP + FP)"
   ]
  },
  {
   "cell_type": "code",
   "execution_count": 6,
   "id": "123a103f",
   "metadata": {},
   "outputs": [],
   "source": [
    "# f1 score：是查全率与查准率的调和平均值，其值越大越好\n",
    "def f1_score(y_true, y_pred):\n",
    "    r = recall(y_true, y_pred)\n",
    "    p = precision(y_true, y_pred)\n",
    "    return 2 * r * p / (r + p)"
   ]
  },
  {
   "cell_type": "code",
   "execution_count": 7,
   "id": "f6889572",
   "metadata": {},
   "outputs": [
    {
     "name": "stdout",
     "output_type": "stream",
     "text": [
      "精度为   : 0.7\n",
      "查准率   : 0.6666666666666666\n",
      "查全率   : 0.8\n",
      "F1 score: 0.7272727272727272\n"
     ]
    }
   ],
   "source": [
    "# sklearn API\n",
    "from sklearn.metrics import precision_score, recall_score, f1_score, accuracy_score, accuracy_score\n",
    "\n",
    "y = [0] * 5 + [1] * 5\n",
    "y_pred = [0, 0, 1, 0, 1, 1, 0, 1, 1, 1]\n",
    "\n",
    "print(\"精度为   :\", accuracy_score(y, y_pred))\n",
    "print(\"查准率   :\", precision_score(y, y_pred))\n",
    "print(\"查全率   :\", recall_score(y, y_pred))\n",
    "print(\"F1 score:\", f1_score(y, y_pred))"
   ]
  },
  {
   "cell_type": "code",
   "execution_count": 8,
   "id": "bd12ef79",
   "metadata": {},
   "outputs": [
    {
     "data": {
      "image/png": "[encoded data removed]",
      "text/plain": [
       "<Figure size 432x288 with 1 Axes>"
      ]
     },
     "metadata": {
      "needs_background": "light"
     },
     "output_type": "display_data"
    }
   ],
   "source": [
    "# ROC 曲线\n",
    "# 得到预测概率后，设定阈值，得到预测标签；\n",
    "# 改变阈值，性能指标值就会发生变化\n",
    "# 当没有设定阈值时，如何评估模型?\n",
    "import numpy as np\n",
    "from sklearn.metrics import roc_curve\n",
    "import matplotlib.pyplot as plt\n",
    "\n",
    "y_true = np.array([1, 1, 2, 2])\n",
    "y_score = np.array([0.1, 0.4, 0.35, 0.8])\n",
    "\n",
    "fpr, tpr, thresholds = roc_curve(y_true, y_score, pos_label=2)\n",
    "# 返回每个阈值对应的真阳性率、假阳性率及阈值列表\n",
    "\n",
    "\n",
    "def plot_roc_curve(fpr, tpr, label=None):\n",
    "    plt.plot(fpr, tpr, linewidth=2, label=label)\n",
    "    plt.plot([0, 1], [0, 1], 'k--')\n",
    "    plt.axis([0, 1, 0, 1])\n",
    "    plt.xlabel('False Positive Rate')\n",
    "    plt.ylabel('True Positive Rate')\n",
    "\n",
    "\n",
    "plot_roc_curve(fpr, tpr)\n",
    "plt.show()"
   ]
  },
  {
   "cell_type": "code",
   "execution_count": null,
   "id": "4d93d997",
   "metadata": {},
   "outputs": [],
   "source": []
  }
 ],
 "metadata": {
  "kernelspec": {
   "display_name": "ACG",
   "language": "python",
   "name": "acg"
  },
  "language_info": {
   "codemirror_mode": {
    "name": "ipython",
    "version": 3
   },
   "file_extension": ".py",
   "mimetype": "text/x-python",
   "name": "python",
   "nbconvert_exporter": "python",
   "pygments_lexer": "ipython3",
   "version": "3.6.13"
  },
  "toc": {
   "base_numbering": 1,
   "nav_menu": {},
   "number_sections": true,
   "sideBar": true,
   "skip_h1_title": false,
   "title_cell": "Table of Contents",
   "title_sidebar": "Contents",
   "toc_cell": false,
   "toc_position": {},
   "toc_section_display": true,
   "toc_window_display": true
  }
 },
 "nbformat": 4,
 "nbformat_minor": 5
}
