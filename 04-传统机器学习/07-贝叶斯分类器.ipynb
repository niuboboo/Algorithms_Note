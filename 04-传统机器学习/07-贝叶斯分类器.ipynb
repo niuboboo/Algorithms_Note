{
 "cells": [
  {
   "cell_type": "markdown",
   "id": "cfae71e7",
   "metadata": {},
   "source": []
  },
  {
   "cell_type": "markdown",
   "id": "69d5bdf2",
   "metadata": {},
   "source": [
    "## 贝叶斯决策论"
   ]
  },
  {
   "cell_type": "markdown",
   "id": "049d77d1",
   "metadata": {},
   "source": [
    "1. 条件概率: $P(y | x)$, 给定$x$的条件下，是$y$的概率。\n",
    "\n",
    "2. 贝叶斯概率: $P(y|x) = \\frac{P(xy)}{P(x)} = \\frac{P(x|y)P(y)}{P(x)}$\n",
    "\n",
    "3. 3门问题"
   ]
  },
  {
   "cell_type": "markdown",
   "id": "eb5ffcee",
   "metadata": {},
   "source": [
    "## 为什么贝叶斯可以解决分类问题"
   ]
  },
  {
   "cell_type": "markdown",
   "id": "edd88a97",
   "metadata": {},
   "source": [
    "\n",
    "1. **直观理解**:\n",
    "\n",
    "&emsp;&emsp;假设有一个手写数据集，里面有100条记录，其中第0-9条记录是10个人分别写的0。10-19条是10个人分别写的1。····。第90-99条是10个人分别写的10。\n",
    "\n",
    "&emsp;&emsp;这个时候来了一个数字$x$,怎么判断是数字几呢？\n",
    "\n",
    "&emsp;&emsp;朴素贝叶斯工作原理: 找到$Y$等于各个值的概率: $P(Y=0|X)=?$, $P(Y=1|X)=?$, ···, $P(Y=10|X)=?$，找到概率值最高的，就是对应的数字。\n",
    "\n",
    "2. **数学理解**: \n",
    "\n",
    "&emsp;&emsp;假设数字的类别为$C_{k}$, 则$C_{0}$表示数字0，···。刚才数字判别公式可以修改为$P(Y=C_{k}|X=x)$。\n",
    "    \n",
    "$$\n",
    "P(Y=C_{k}|X=x)=\\frac{P(X=x | Y=C_{k})P(Y=C_{k})}{P(X=x)} \\\\\n",
    "= \\frac{P(X=x | Y=C_{k})P(Y=C_{k})}{\\sum_{k}P(X=x, Y=C_{k})} \\\\\n",
    "= \\frac{P(X=x | Y=C_{k})P(Y=C_{k})}{\\sum_{k}P(X=x | Y=C_{k})P(Y=C_{k}))} \\\\\n",
    "= \\frac{P(Y=C_{k}) \\prod_{j} P(X^{(j)}=x^{(j)} | Y=C_{k})}{\\sum_{k}  P(Y=C_{k}) \\prod_{j} P(X^{(j)}=x^{(j)} | Y=C_{k}))}\n",
    "$$\n",
    "\n",
    "&emsp;&emsp;上述等式最后一个等式推倒有一个很强的假设：样本不同特征之间(变量)都是强相互独立的。如果不这样假设的话，运算量就会很大。希望求解到对应标签概率最大的那个值：\n",
    "\n",
    "$$\n",
    "f(x) = arg\\max_{c_{k}}P(Y=C_{k} | X=x)=\\frac{P(Y=C_{k}) \\prod_{j} P(X^{(j)}=x^{(j)} | Y=C_{k})}{\\sum_{k}  P(Y=C_{k}) \\prod_{j} P(X^{(j)}=x^{(j)} | Y=C_{k}))} \\\\\n",
    "= P(Y=C_{k}) \\prod_{j} P(X^{(j)}=x^{(j)} | Y=C_{k})\n",
    "$$\n",
    "\n",
    "&emsp;&emsp;上述中分母是一个常数，就是$P(X=x)$，与标签$Y$没有关系。之后我们就需要去计算每一项对应的概率：\n",
    "\n",
    "$$\n",
    "P(Y=C_{k}) = \\frac{\\sum_{i=1}^{N}I(y_{i}=C_{k})}{N}, k=1,2,\\cdots,K\n",
    "$$\n",
    "\n",
    "&emsp;&emsp;上式中说的是某一类样本的概率。比如总共有`100`个样本，标签为`0`的样本有`5`个，标签为`1`的样本有`90`个，标签为`2`的样本有`5`个的话，则：$P(Y=0)=0.05$, $P(Y=1)=0.9$, $P(Y=2)=0.05$。\n",
    "\n",
    "&emsp;&emsp;第二项：\n",
    "\n",
    "$$\n",
    "P(X^{(j)}=a_{jl} | Y = C_{k}) = \\frac{\\sum_{i=1}^{N} I(x_{i}^{(j)}=a_{jl}, y_{i}=C_{k} )}{\\sum_{i=1}^{N} I(y_{i}=C_{k})}\n",
    "$$\n",
    "\n",
    "&emsp;&emsp;比如总共有`100`个样本，标签为`0`的样本有`5`个，标签为`1`的样本有`90`个，标签为`2`的样本有`5`个的话。当$C_{k}=1$时，需要统计的就是当前`label`为`1`的样本当中，$X$中特征为$j$位置上等于$a_{jl}$的概率。比如有`20`条满足$j$位置上等于$a_{jl}$，那么概率值就是$\\frac{20}{90}$。\n",
    "\n",
    "&emsp;&emsp;可以看到**上述过程没有一个显示计算的过程**。"
   ]
  },
  {
   "cell_type": "markdown",
   "id": "1673629d",
   "metadata": {},
   "source": [
    "## 贝叶斯怎样解决问题\n",
    "\n",
    "- https://zhiqianghe.blog.csdn.net/article/details/102654676\n",
    "\n",
    "### 贝叶斯估计\n",
    "\n",
    "### 朴素贝叶斯的极大似然估计\n",
    "\n",
    "### 后验概率最大化含义：期望风险最小化。"
   ]
  },
  {
   "cell_type": "markdown",
   "id": "60374355",
   "metadata": {},
   "source": []
  },
  {
   "cell_type": "markdown",
   "id": "4adb07ad",
   "metadata": {},
   "source": [
    "### 半贝叶斯算法"
   ]
  },
  {
   "cell_type": "markdown",
   "id": "6a135240",
   "metadata": {},
   "source": [
    "### 贝叶斯网络"
   ]
  },
  {
   "cell_type": "markdown",
   "id": "0ab009eb",
   "metadata": {},
   "source": [
    "## 其他"
   ]
  },
  {
   "cell_type": "markdown",
   "id": "8c38711a",
   "metadata": {},
   "source": [
    "### EM算法"
   ]
  },
  {
   "cell_type": "code",
   "execution_count": null,
   "id": "1e88d006",
   "metadata": {},
   "outputs": [],
   "source": []
  }
 ],
 "metadata": {
  "kernelspec": {
   "display_name": "Python 3 (ipykernel)",
   "language": "python",
   "name": "python3"
  },
  "language_info": {
   "codemirror_mode": {
    "name": "ipython",
    "version": 3
   },
   "file_extension": ".py",
   "mimetype": "text/x-python",
   "name": "python",
   "nbconvert_exporter": "python",
   "pygments_lexer": "ipython3",
   "version": "3.9.4"
  },
  "toc": {
   "base_numbering": 1,
   "nav_menu": {},
   "number_sections": true,
   "sideBar": true,
   "skip_h1_title": false,
   "title_cell": "Table of Contents",
   "title_sidebar": "Contents",
   "toc_cell": false,
   "toc_position": {},
   "toc_section_display": true,
   "toc_window_display": true
  }
 },
 "nbformat": 4,
 "nbformat_minor": 5
}
