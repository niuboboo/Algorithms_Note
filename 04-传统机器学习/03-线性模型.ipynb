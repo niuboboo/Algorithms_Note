{
 "cells": [
  {
   "cell_type": "markdown",
   "id": "10a8ccdf",
   "metadata": {},
   "source": [
    "## 基本思想"
   ]
  },
  {
   "cell_type": "markdown",
   "id": "44e75b7f",
   "metadata": {},
   "source": [
    "&emsp;&emsp;线性模型形式简单，易于建模，但却蕴含着机器学习中的一些重要的基本思想：\n",
    "\n",
    "$$\n",
    "f(x) = w_{1}x_{1} + w_{2}x_{2} + \\cdots + w_{d}x_{d} + b\n",
    "$$\n",
    "\n",
    "&emsp;&emsp;目的就是求出$w$这个参数。"
   ]
  },
  {
   "cell_type": "markdown",
   "id": "c8a1a02c",
   "metadata": {},
   "source": [
    "## 线性回归\n",
    "\n",
    "### 一元线性回归\n",
    "\n",
    "&emsp;&emsp;线性回归是使用线性模型拟合数据的一种方法。\n",
    "\n",
    "&emsp;&emsp;**最小二乘法**：`Least Square Method`最小方差法。原理是：当预测值和实际值距离的平方和最小时，就选定模型中的两个参数($w$和$b$)。\n",
    "\n",
    "$$\n",
    "\\min_{\\hat{b}} \\sum_{i=1}^{n}(y_{m}-y_{i})^{2}\n",
    "$$\n",
    "\n",
    "&emsp;&emsp;因此这个问题就转变为了，我们需要找一组参数$w$和$b$，能够使得这些样本在当前模型下的均方误差最小，用数学形式表达如下所示：\n",
    "\n",
    "$$\n",
    "(w^{*},b^{*})=argmin_{w,b} \\sum_{i=1}^{m}(y_{i}-wx_{i}-b)^{2}\n",
    "$$\n",
    "\n",
    "&emsp;&emsp;$w^{*},b^{*}$表示$w$和$b$的解。\n",
    "\n",
    "&emsp;&emsp;由于$E_{(w,b)}$是关于$w$和$b$的凸函数，所以对其求偏导数，令其偏导数等于`0`，所求出来的解即为**最优解**。其偏导数求解如下所示：\n",
    "\n",
    "$$\n",
    "\\frac{\\partial E_{(w,b)}}{\\partial w} = 2(w\\sum_{i=1}^{m}x_{i}^{2}-\\sum_{i=1}^{m}(y_{i}-b)x_{i})\n",
    "$$\n",
    "\n",
    "$$\n",
    "\\frac{\\partial E_{(w,b)}}{\\partial b} =  2(mb - \\sum_{i=1}^{m}(y_{i}-wx_{i}))\n",
    "$$\n",
    "\n",
    "&emsp;&emsp;再令其偏导数为`0`，可得到$w$和$b$最优解的**闭式(`closed-from`)解**：\n",
    "\n",
    "$$\n",
    "w=\\frac{\\sum_{i=1}^{m}y_{i}(x_{i}-\\overline{x})}{\\sum_{i=1}^{m}x_{i}^{2}-\\frac{1}{m}(\\sum_{i=1}^{m}x_{i})^{2}}\n",
    "$$\n",
    "\n",
    "&emsp;&emsp;其中$\\overline{x}=\\frac{1}{m}\\sum_{i=1}^{m}x_{i}$为$x$的均值。\n",
    "\n",
    "$$\n",
    "b = \\frac{1}{m}\\sum_{i=1}^{m}(y_{i}-wx_{i})\n",
    "$$\n",
    "\n",
    "&emsp;&emsp;至此，求解完毕。"
   ]
  },
  {
   "cell_type": "markdown",
   "id": "2ff81b58",
   "metadata": {},
   "source": [
    "### 多元线性回归\n",
    "\n",
    "&emsp;&emsp;在一元回归问题中，样本只有一个属性。假设样本具有$n$个属性，此时期望找到一组模型参数$w$和$b$，使得$f(x_{i})=w^{T}x_{i}+b$，使得函数输出$f(x_{i})$与真实标签$y_{i}$越接近越好。我们将这类问题称为**多元线性回归**问题(`multivariate linear regression`)，或者叫做**多变量线性回归**问题。\n",
    "\n",
    "&emsp;&emsp;我们把$w$和$b$组合称为一个向量的形式$\\hat{w}=(w;b)$。与之对应，样本集可表示为一个$m \\times (d+1)$大小的矩阵$X$。那么每一行都对应一个样本。每一行的前$d$个元素都表示为当前这个样本的$d$个属性值。最后这个元素恒为1，是方便与参数$\\hat{w}$中的$b$相乘，形成偏置项。样本输入的数学表达形式可表示为如下形式：\n",
    "\n",
    "$$\n",
    "X=\\left(\\begin{array}{cccc}\n",
    "{x_{11}} & {x_{12}} & {\\cdots} & {x_{1d}} & {1}\\\\\n",
    "{x_{21}} & {x_{22}} & {\\cdots} & {x_{2d}} & {1}\\\\\n",
    "{\\vdots} & {\\vdots} & {\\ddots} & {\\vdots} & {\\vdots} \\\\\n",
    "{x_{m1}} & {x_{m2}} & {\\cdots} & {x_{md}}& {1}\n",
    "\\end{array}\\right)=\n",
    "\\left(\\begin{array}{cccc}\n",
    "{x_{1}^{T}} & {1}  \\\\\n",
    "{x_{2}^{T}} & {1}  \\\\\n",
    "{\\vdots} & {\\vdots}  \\\\\n",
    "{x_{m}^{T}} & {1} \n",
    "\\end{array}\\right)\n",
    "$$\n",
    "\n",
    "&emsp;&emsp;将标签以同样的方式写成向量的形式有$y=(y_{1};y_{2};\\cdots;y_{m})$，令均方误差最小化，求其最优解：\n",
    "\n",
    "$$\n",
    "\\hat{w}^{*}=argmin_{\\hat{w}}(y-X\\hat{w})^{T}(y-X\\hat{w})\n",
    "$$\n",
    "\n",
    "&emsp;&emsp;令$E_{\\hat{w}}=(y-X\\hat{w})^{T}(y-X\\hat{w})$，对$\\hat{w}$求偏导得到如下方程：\n",
    "\n",
    "$$\n",
    "\\frac{\\partial E_{\\hat{w}}}{\\partial \\hat{w}}=2X^{T}(X\\hat{w}-y)\n",
    "$$\n",
    "\n",
    "$X^{T}X$为**满秩矩阵**(`full-rank matrix`)或**正定矩阵**(`positive definite matrix`)时，可求出：\n",
    "\n",
    "$$\n",
    "\\hat{w}^{*}=(X^{T}X)^{-1}X^{T}y\n",
    "$$\n",
    "\n",
    "&emsp;&emsp;令$\\hat{x_{i}}=(x_{i};1)$，则最终的线性回归模型可表示为：\n",
    "\n",
    "$$\n",
    "f(\\hat{x_{i}})=\\hat{x}_{i}(X^{T}X)^{-1}X^{T}y\n",
    "$$"
   ]
  },
  {
   "cell_type": "code",
   "execution_count": 20,
   "id": "f0148b33",
   "metadata": {
    "scrolled": true
   },
   "outputs": [
    {
     "data": {
      "image/png": "[encoded data removed]",
      "text/plain": [
       "<Figure size 432x288 with 1 Axes>"
      ]
     },
     "metadata": {
      "needs_background": "light"
     },
     "output_type": "display_data"
    }
   ],
   "source": [
    "# 代码严重一下上述公示\n",
    "import numpy as np\n",
    "import matplotlib.pyplot as plt\n",
    "\n",
    "X = 2 * np.random.rand(100, 1)\n",
    "y = 3 * X + np.random.randn(100, 1) + 4\n",
    "\n",
    "plt.scatter(X, y)\n",
    "plt.show()"
   ]
  },
  {
   "cell_type": "code",
   "execution_count": 22,
   "id": "ba4d7ca1",
   "metadata": {
    "scrolled": true
   },
   "outputs": [
    {
     "name": "stdout",
     "output_type": "stream",
     "text": [
      "[[2.95179021]\n",
      " [3.93134323]]\n"
     ]
    }
   ],
   "source": [
    "# 拼接X和b。\n",
    "X_b = np.c_[X, np.ones((100, 1))]\n",
    "theta_best = np.linalg.inv(X_b.T.dot(X_b)).dot(X_b.T).dot(y)\n",
    "print(theta_best)"
   ]
  },
  {
   "cell_type": "markdown",
   "id": "42d7f315",
   "metadata": {},
   "source": [
    "### 对数线性回归"
   ]
  },
  {
   "cell_type": "markdown",
   "id": "be15b678",
   "metadata": {},
   "source": [
    "&emsp;&emsp;对数线性回归其实是线性回归上的一种广义推广。将样本标签$y$的对数模型作为线性模型逼近的目标，即：\n",
    "\n",
    "$$\n",
    "lny=w^{T}x+b\n",
    "$$\n",
    "\n",
    "&emsp;&emsp;这就是**对数线性回归**(`log-linear regression`)，它实际上是在试图让$e^{w^{T}x+b}$逼近$y$。上式形式上是线性回归，但实际上是在求**输入空间到输出空间的非线性函数映射**。"
   ]
  },
  {
   "cell_type": "markdown",
   "id": "684b2f69",
   "metadata": {},
   "source": [
    "### 广义线性模型"
   ]
  },
  {
   "cell_type": "markdown",
   "id": "08e206ba",
   "metadata": {},
   "source": [
    "\n",
    "\n",
    "\n",
    "&emsp;&emsp;考虑更一般的情况，考虑单调可微函数$g(·)$，令：\n",
    "\n",
    "$$\n",
    "y=g^{-1}(w^{T}x+b)\n",
    "$$\n",
    "\n",
    "&emsp;&emsp;这样得到的模型称为**广义线性模型**(`generalized linear model`)。我们把函数$g(·)$称为**联系函数**。广义线性模型的参数估计通常通过加权最小二乘法或极大似然法进行。"
   ]
  },
  {
   "cell_type": "markdown",
   "id": "1d7da72f",
   "metadata": {},
   "source": [
    "### 对数几率回归(逻辑回归)"
   ]
  },
  {
   "cell_type": "markdown",
   "id": "bc4d9617",
   "metadata": {},
   "source": [
    "&emsp;&emsp;普通的线性回归其实是映射到一条线上，我们也可以将其做成一个分类问题。只需要用一个单调可微的关系函数将分类任务的标记$y$做一个转换就可以了$y=\\{0, 1\\}$。\n",
    "\n",
    "1. 这个转换的函数可以是一个单位阶跃函数:\n",
    "\n",
    "$$\n",
    "y=\\left\\{\\begin{array}{cc}\n",
    "0, & z<0 \\\\\n",
    "0.5, & z=0 \\\\\n",
    "1, & z>0\n",
    "\\end{array}\\right.\n",
    "$$\n",
    "\n",
    "&emsp;&emsp;但是上述这个函数不可导，所以就有了下面这个函数:\n"
   ]
  },
  {
   "cell_type": "markdown",
   "id": "316a5a98",
   "metadata": {},
   "source": [
    "2. **对数几率函数**(`logistic function`)，是一种**Sigmoid函数**能做到这一点。其函数表达形式如下所示：\n",
    "\n",
    "$$\n",
    "y=\\frac{1}{1-e^{-z}}\n",
    "$$\n",
    "\n",
    "&emsp;&emsp;对其两边取倒数，再取对数化简，得如下变换形式：\n",
    "\n",
    "$$\n",
    "ln\\frac{y}{1-y}=w^{T}x+b\n",
    "$$\n",
    "\n",
    "&emsp;&emsp;这里求的就是$ln\\frac{y}{1-y}$与$x$之间的线性关系。而$\\frac{y}{1-y}$就是几率，表示$x$取$1$的相对可能性。\n",
    "\n",
    "- **本质**：是用线性回归模型的结果去逼近真实标记的对数几率。\n",
    "\n",
    "- **优点**：\n",
    "\n",
    "1. 直接对分类可能性进行建模；\n",
    "\n",
    "2. 无需事先假设数据分布，避免了假设分布不准确所带来的问题；\n",
    "\n",
    "3. 不只是预测出类别，而是得到近似概率预测，对许多需要利用概率辅助决策的任务很有帮助；\n",
    "\n",
    "4. 任意阶可导的凸函数，有很好的数学性质；\n",
    "\n",
    "5. 现在的许多数值优化算法都可以直接用于求取最优解。"
   ]
  },
  {
   "cell_type": "markdown",
   "id": "8be1eb0d",
   "metadata": {},
   "source": [
    "### 类别不均衡\n",
    "\n",
    "&emsp;&emsp;类别不均衡怎么办？\n",
    "\n",
    "- **假设训练集是样本总体的无偏采样**:\n",
    "\n",
    "&emsp;&emsp;当正反例的可能性相同的时候，若$\\frac{y}{1-y} > 1$则预测为正例；当正例数量为$m^{+}$, 反例数量$m^{-}$的时候，若$\\frac{y}{1-y} > \\frac{m^{+}}{m^{-}}$, 则预测为正例。\n",
    "\n",
    "&emsp;&emsp;如果是想要基于`0.5`这个数值进行比较的话，我们可以先将其与`1`比较(将上面的$\\frac{y}{1-y} > \\frac{m^{+}}{m^{-}}$做一个转换)，然后再缩放到`0.5`:\n",
    "\n",
    "$$\n",
    "\\frac{y^{\\prime}}{1-y^{\\prime}}=\\frac{y}{1-y} \\times \\frac{m^{-}}{m^{+}}\n",
    "$$\n",
    "\n",
    "- **假设无法基于训练集类别数量推断真实几率的话，也就是假设训练集不是样本总体的无偏估计的话**\n",
    "\n",
    "1. **欠采样**：删除一些样本，使得正反数目接近。\n",
    "\n",
    "2. **过采样**：增加一些，但是不能简单地对初始样本进行重复采样，否者会招致严重的过拟合。\n",
    "\n",
    "3. **阈值移动**："
   ]
  },
  {
   "cell_type": "code",
   "execution_count": null,
   "id": "ef0deeef",
   "metadata": {},
   "outputs": [],
   "source": []
  },
  {
   "cell_type": "markdown",
   "id": "d91d7ef5",
   "metadata": {},
   "source": [
    "## 线性回归理论分析"
   ]
  },
  {
   "cell_type": "markdown",
   "id": "84b100c4",
   "metadata": {},
   "source": [
    "&emsp;&emsp;线性回归模型的模型结构一般可以表示为如下形式：\n",
    "\n",
    "$$\n",
    "f(x)=w^T x + b\n",
    "$$  \n",
    "\n",
    "&emsp;&emsp;为了便于讨论，我们把$w$和$b$组合称为一个向量的形式$\\hat{w}=(w;b)$。假设每个样本都有$d$个属性值，样本集可表示为一个$[m, (d+1)]$大小的矩阵$X$，最后这个元素恒为$1$，是方便与参数$\\hat{w}$中的$b$相乘，形成偏置项。$w$和$b$组合称为一个向量的形式$\\hat{w}=(w;b)$， $\\hat{w}=(w;b)$矩阵的大小为$[1, (d+1)]$。，那么每一行都对应一个样本。样本输入的数学表达形式可表示为如下形式：\n",
    "\n",
    "$$\n",
    "X=\\left(\\begin{array}{cccc}\n",
    "{x_{11}} & {x_{12}} & {\\cdots} & {x_{1d}} & {1}\\\\\n",
    "{x_{21}} & {x_{22}} & {\\cdots} & {x_{2d}} & {1}\\\\\n",
    "{\\vdots} & {\\vdots} & {\\ddots} & {\\vdots} & {\\vdots} \\\\\n",
    "{x_{m1}} & {x_{m2}} & {\\cdots} & {x_{md}}& {1}\n",
    "\\end{array}\\right)=\n",
    "\\left(\\begin{array}{cccc}\n",
    "{x_{1}^{T}} & {1}  \\\\\n",
    "{x_{2}^{T}} & {1}  \\\\\n",
    "{\\vdots} & {\\vdots}  \\\\\n",
    "{x_{m}^{T}} & {1} \n",
    "\\end{array}\\right)\n",
    "$$\n",
    "\n",
    "&emsp;&emsp;最终表示为：\n",
    "\n",
    "$$\n",
    "f(x)=\\hat{w}^T  X\n",
    "$$  \n",
    "\n",
    "&emsp;&emsp;这里$X=[x^T,1]^T$，$X\\in R^d$，所以$\\hat{w} \\in R^{d+1}$，$\\hat{w}$即是模型需要学习的参数。"
   ]
  },
  {
   "cell_type": "markdown",
   "id": "bcc7c9dd",
   "metadata": {},
   "source": [
    "\n",
    "&emsp;&emsp;线性回归是，利用等式$y=3x+2$造的伪数据$x,y$的情况下，求解出最优解：$w=[3,2]^T$。可以通过`MSE`（均方误差）来衡量$f(x)$与$y$的相近程度：  \n",
    "\n",
    "$$\n",
    "L(w)=\\sum_{i=1}^m(y_i-f(x_i))^2=\\sum_{i=1}^m(y_i-w^TX_i)^2=(Y-Xw)^T(Y-Xw)\n",
    "$$  \n",
    "\n",
    "&emsp;&emsp;这里$m$表示样本量，本例中$m=100$，$x_i,y_i$表示第$i$个样本，$X\\in R^{m \\times (n+1)},Y\\in R^{m\\times 1}$，损失函数$L(w)$本质上是关于$w$的函数，通过求解最小的$L(w)$即可得到$w$的最优解：\n",
    "\n",
    "$$\n",
    "\\hat{w}^*=arg \\min_{w}L(w)\n",
    "$$\n",
    "\n",
    "&emsp;&emsp;而对$\\min L(w)$的求解很明显是一个凸问题（海瑟矩阵$X^{T}X$正定），我们可以直接通过求解$\\frac{dL}{dw}=0$得到$\\hat{w}^*$，梯度推导如下：  \n",
    "\n",
    "$$\n",
    "\\frac{dL}{dw}=-2\\sum_{i=1}^m(y_i-w^TX_i)X_i=-2{X}^T(Y-Xw)\\\\\n",
    "$$\n",
    "\n",
    "&emsp;&emsp;上式说明，该目标函数对$w$的梯度由预测值和观察值之间的差异导致，以这些差异为权重对输入变量取加权和即得到模型在当前参数下的梯度。"
   ]
  },
  {
   "cell_type": "markdown",
   "id": "19cee1b5",
   "metadata": {},
   "source": [
    "- **梯度下降求解**\n",
    "\n",
    "&emsp;&emsp;通过随机梯度下降法（SGD）对$w$进行更新，首先随机初始化$w$，然后使用如下的迭代公式对$w$进行迭代更新:\n",
    "\n",
    "$$\n",
    "w:=w-\\eta\\frac{dL}{dw}\n",
    "$$"
   ]
  },
  {
   "cell_type": "markdown",
   "id": "53162435",
   "metadata": {},
   "source": [
    "## 代码实现\n",
    "\n",
    "### 构造回归数据\n",
    "\n",
    "&emsp;&emsp;利用$y=3x+2 = [X, 1] W^{T} $构造一些伪数据，并给$x$添加了一些噪声数据。下面造一些伪数据进行演示："
   ]
  },
  {
   "cell_type": "code",
   "execution_count": 1,
   "id": "d87bae9d",
   "metadata": {},
   "outputs": [],
   "source": [
    "import numpy as np\n",
    "def generate_data():\n",
    "    x = np.linspace(0, 100, 100)  # 从0到100，生成100个点。 shape = (100,)\n",
    "    x_ = np.c_[x, np.ones(100)]  # 添加一列b。 shape = (100, 2)\n",
    "    w = np.asarray([[3], [2]])  # shape = (2, 1)\n",
    "    y = x_.dot(w)  # shape = (100, 2)\n",
    "    x_[:, 0] += np.random.normal(size=x_[:, 0].shape) * 3  # 在X 轴方向加上扰动\n",
    "    return x_, y\n",
    "X, Y = generate_data()"
   ]
  },
  {
   "cell_type": "markdown",
   "id": "92564509",
   "metadata": {},
   "source": [
    "&emsp;&emsp;这里需要注意的是`np.dot()`函数：\n",
    "\n",
    "1. 如果处理的是一维数组，np.dot()返回的是两个数组的点积(dot product)；\n",
    "\n",
    "```python\n",
    "x1 = np.arange(0, 9)  # [0 1 2 3 4 5 6 7 8]\n",
    "x2 = x1[::-1]  # [8 7 6 5 4 3 2 1 0]\n",
    "y1 = np.dot(x1, x2)  #  84\n",
    "```\n",
    "\n",
    "2. 如果是二维数组（矩阵）之间的运算，则得到的是矩阵积（mastrix product）；\n",
    "\n",
    "```python\n",
    "a = np.arange(1, 5).reshape(2, 2)  # [[1 2], [3 4]]\n",
    "b = np.arange(5, 9).reshape(2, 2)  # [[5 6], [7 8]]\n",
    "c = np.dot(a, b)  #  [[19 22], [43 50]]\n",
    "```"
   ]
  },
  {
   "cell_type": "markdown",
   "id": "0b856243",
   "metadata": {},
   "source": [
    "生成完数据之后，我们可以可视化查看一下数据："
   ]
  },
  {
   "cell_type": "code",
   "execution_count": 2,
   "id": "01041d2b",
   "metadata": {},
   "outputs": [
    {
     "data": {
      "text/plain": [
       "Text(0, 0.5, 'Y')"
      ]
     },
     "execution_count": 2,
     "metadata": {},
     "output_type": "execute_result"
    },
    {
     "data": {
      "image/png": "[encoded data removed]",
      "text/plain": [
       "<Figure size 432x288 with 1 Axes>"
      ]
     },
     "metadata": {
      "needs_background": "light"
     },
     "output_type": "display_data"
    }
   ],
   "source": [
    "import matplotlib.pyplot as plt\n",
    "%matplotlib inline\n",
    "plt.scatter(X[:, 0], Y, )\n",
    "plt.plot(np.arange(0,100).reshape((100,1)),Y,'r')\n",
    "plt.xlabel(\"X\")\n",
    "plt.ylabel(\"Y\")"
   ]
  },
  {
   "cell_type": "markdown",
   "id": "3fb3965a",
   "metadata": {},
   "source": [
    "### 训练模型\n",
    "\n",
    "&emsp;&emsp;之后，我们依据参数$w$的更新公式来更新模型即可\n",
    "\n",
    "$$\n",
    "w:=w-\\eta\\frac{dL}{dw}\n",
    "$$\n",
    "\n",
    "&emsp;&emsp;其中$\\frac{dL}{dw}=-2{X}^T(Y-Xw)$。"
   ]
  },
  {
   "cell_type": "code",
   "execution_count": 3,
   "id": "074c9fd8",
   "metadata": {},
   "outputs": [
    {
     "name": "stdout",
     "output_type": "stream",
     "text": [
      "The paramater of w is: \n",
      " [[3.0086111 ]\n",
      " [0.21636196]]\n"
     ]
    }
   ],
   "source": [
    "loss_list = []\n",
    "W = np.random.random(size=(X.shape[-1], 1))  # 生成随机参数\n",
    "eta = 0.0000001\n",
    "for i in range(100):\n",
    "    dw = -2 * X.T.dot((Y - X.dot(W)))\n",
    "    W = W - eta * dw\n",
    "    loss = (Y - X.dot(W)).T.dot(Y - X.dot(W)).reshape(-1)\n",
    "    # print(loss)\n",
    "    loss_list.append(loss[0])\n",
    "print(\"The paramater of w is: \\n\", W)"
   ]
  },
  {
   "cell_type": "markdown",
   "id": "b6d6cfaf",
   "metadata": {},
   "source": [
    "### 查看训练结果\n",
    "\n",
    "&emsp;&emsp;可视化查看Loss和预测结果"
   ]
  },
  {
   "cell_type": "code",
   "execution_count": 4,
   "id": "d026688e",
   "metadata": {},
   "outputs": [
    {
     "data": {
      "text/plain": [
       "Text(0, 0.5, 'loss')"
      ]
     },
     "execution_count": 4,
     "metadata": {},
     "output_type": "execute_result"
    },
    {
     "data": {
      "image/png": "[encoded data removed]",
      "text/plain": [
       "<Figure size 1080x360 with 2 Axes>"
      ]
     },
     "metadata": {
      "needs_background": "light"
     },
     "output_type": "display_data"
    }
   ],
   "source": [
    "# 可视化\n",
    "plt.figure(figsize=(15, 5))\n",
    "plt.subplot(121)\n",
    "plt.scatter(X[:, 0], Y)\n",
    "plt.plot(X[:, 0], X.dot(W), 'r')\n",
    "plt.xlabel(\"X\")\n",
    "plt.ylabel(\"Y\")\n",
    "plt.subplot(122)\n",
    "plt.plot(list(range(0, len(loss_list))), loss_list)\n",
    "plt.xlabel(\"epoch\")\n",
    "plt.ylabel(\"loss\")"
   ]
  },
  {
   "cell_type": "markdown",
   "id": "03e8f0dc",
   "metadata": {},
   "source": [
    "### 直接求闭式解\n",
    "\n",
    "&emsp;&emsp;而对$\\min L(w)$的求解很明显是一个凸问题（海瑟矩阵$X^TX$正定），我们可以直接通过求解$\\frac{dL}{dw}=0$得到$\\hat{w}^*$，梯度推导如下：  \n",
    "\n",
    "$$\n",
    "\\frac{dL}{dw}=-2\\sum_{i=1}^m(y_i-w^TX_i)X_i=-2{X}^T(Y-Xw)\\\\\n",
    "$$  \n",
    "\n",
    "&emsp;&emsp;令$\\frac{dL}{dw}=0$，可得：$\\hat{w}^*=({X}^TX)^{-1}{X}^TY$，实际情景中数据不一定能满足${X}^TX$是满秩（比如$m<n$的情况下，$w$的解有无数种），所以没法直接求逆，我们可以考虑用如下的方式求解：\n",
    "\n",
    "$$\n",
    "{X}^+=\\lim_{\\alpha\\rightarrow0}({X}^TX^*+\\alpha I)^{-1}{X}^T\n",
    "$$  \n",
    "\n",
    "&emsp;&emsp;上面的公式即是Moore-Penrose伪逆的定义，但实际求解更多是通过SVD的方式：  \n",
    "\n",
    "$$\n",
    "{X}^+=VD^+U^T\n",
    "$$  \n",
    "\n",
    "&emsp;&emsp;其中，$U,D,V$是矩阵$X$做奇异值分解（`SVD`）后得到的矩阵，对角矩阵$D$的伪逆$D^+$由其非零元素取倒数之后再转置得到，通过伪逆求解到的结果有如下优点：  \n",
    "\n",
    "1. 当$w$有解时，$\\hat{w}^*={X}^+Y$是所有解中欧几里得距离$||w||_2$最小的一个；    \n",
    "\n",
    "2. 当$w$无解时，通过伪逆得到的$\\hat{w}^*$是使得$X\\hat{w}^*$与$Y$的欧几里得距离$||X\\hat{w}^*-Y||_2$最小  "
   ]
  },
  {
   "cell_type": "markdown",
   "id": "fa6a99c7",
   "metadata": {},
   "source": [
    "&emsp;&emsp;所以我们需要直接对：$\\hat{w}^*=({X}^TX)^{-1}{X}^TY$进行求解，又因为$({X}^TX)^{-1}{X}^T X = I$，所以$({X}^TX)^{-1}{X}^T$可以表示为$X$的伪逆，直接调用np.linalg.pinv(X)就可以将伪逆求解出来："
   ]
  },
  {
   "cell_type": "code",
   "execution_count": 5,
   "id": "a531e505",
   "metadata": {},
   "outputs": [
    {
     "data": {
      "text/plain": [
       "array([[2.97015983],\n",
       "       [2.93375294]])"
      ]
     },
     "execution_count": 5,
     "metadata": {},
     "output_type": "execute_result"
    }
   ],
   "source": [
    "W_dir = np.linalg.pinv(X).dot(Y)\n",
    "W_dir"
   ]
  },
  {
   "cell_type": "markdown",
   "id": "05f665f9",
   "metadata": {},
   "source": [
    "## 问题讨论\n",
    "\n",
    "&emsp;&emsp;在上面的梯度下降的例子中存在一个问题，$w_1$基本能收敛到3附近，而$w_2$却基本在`0`附近，很难收敛到`2`，说明$w_1$比$w_2$更容易收敛($w=[w_1,w_2]^T$)，这很容易理解，模型可以写作：$f(x)=x \\cdot w_1+1\\cdot w_2$，如果$x$量纲比1大很多，为了使$f(x)$变化，只需更新少量的$w_1$就能达到目的，而$w_2$的更新动力略显不足；可以考虑用如下方式：  \n",
    "\n",
    "1. 对输入$X$进行归一化，使得$x$无量纲，$w_1,w_2$的更新动力一样（后面封装代码时添加上）。\n",
    "\n",
    "2. 梯度更新时，$w_1,w_2$使用了一样的学习率，可以让$w_1,w_2$使用不一样的学习率进行更新，比如对$w_2$使用更大的学习率进行更新（可以利用学习率自适应一类的梯度下降法，比如adam）。\n"
   ]
  },
  {
   "cell_type": "markdown",
   "id": "22062db8",
   "metadata": {},
   "source": [
    "## 封装与测试\n",
    "\n",
    "&emsp;&emsp;接下来简单封装线性回归模型便于后续使用:"
   ]
  },
  {
   "cell_type": "code",
   "execution_count": 6,
   "id": "8321ec95",
   "metadata": {},
   "outputs": [],
   "source": [
    "class LinearRegression(object):\n",
    "    def __init__(self, fit_intercept=True, solver='sgd', if_standard=True, epochs=10, eta=1e-2, batch_size=1):\n",
    "        \"\"\"\n",
    "        :param fit_intercept: 是否训练bias\n",
    "        :param solver:\n",
    "        :param if_standard:\n",
    "        \"\"\"\n",
    "        self.w = None  # 初始化w的参数。\n",
    "        self.fit_intercept = fit_intercept\n",
    "        self.solver = solver  # 是否直接求闭式解。\n",
    "        self.if_standard = if_standard  # 是否标准化\n",
    "        if if_standard:\n",
    "            self.feature_mean = None\n",
    "            self.feature_std = None\n",
    "        self.epochs = epochs\n",
    "        self.eta = eta  # 设置eta参数\n",
    "        self.batch_size = batch_size\n",
    "\n",
    "    def init_params(self, n_features):\n",
    "        \"\"\"\n",
    "        初始化参数\n",
    "        :return:\n",
    "        \"\"\"\n",
    "        self.w = np.random.random(size=(n_features, 1))\n",
    "\n",
    "    def _fit_closed_form_solution(self, x, y):\n",
    "        \"\"\"\n",
    "        直接求闭式解\n",
    "        :param x:\n",
    "        :param y:\n",
    "        :return:\n",
    "        \"\"\"\n",
    "        self.w = np.linalg.pinv(x).dot(y)\n",
    "\n",
    "    def _fit_sgd(self, x, y):\n",
    "        \"\"\"\n",
    "        随机梯度下降求解\n",
    "        :param x:\n",
    "        :param y:\n",
    "        :param epochs:\n",
    "        :param eta:\n",
    "        :param batch_size:\n",
    "        :return:\n",
    "        \"\"\"\n",
    "        x_y = np.c_[x, y]\n",
    "        # 按batch_size更新w,b\n",
    "        for _ in range(self.epochs):\n",
    "            np.random.shuffle(x_y)\n",
    "            for index in range(x_y.shape[0] // self.batch_size):\n",
    "                batch_x_y = x_y[self.batch_size*index : self.batch_size*(index + 1)]\n",
    "                batch_x = batch_x_y[:, :-1]\n",
    "                batch_y = batch_x_y[:, -1:]\n",
    "\n",
    "                dw = -2 * batch_x.T.dot(batch_y - batch_x.dot(self.w)) / self.batch_size\n",
    "                self.w = self.w - self.eta * dw\n",
    "\n",
    "    def fit(self, x, y):\n",
    "        # 是否归一化feature\n",
    "        if self.if_standard:\n",
    "            self.feature_mean = np.mean(x, axis=0)\n",
    "            self.feature_std = np.std(x, axis=0) + 1e-8\n",
    "            x = (x - self.feature_mean) / self.feature_std\n",
    "        # 是否训练bias\n",
    "        if self.fit_intercept:\n",
    "            x = np.c_[x, np.ones_like(y)]\n",
    "        # 初始化参数\n",
    "        self.init_params(x.shape[1])\n",
    "        # 训练模型\n",
    "        if self.solver == 'closed_form':\n",
    "            self._fit_closed_form_solution(x, y)\n",
    "        elif self.solver == 'sgd':\n",
    "            self._fit_sgd(x, y)\n",
    "\n",
    "    def get_params(self):\n",
    "        \"\"\"\n",
    "        输出原始的系数\n",
    "        :return: w,b\n",
    "        \"\"\"\n",
    "        if self.fit_intercept:\n",
    "            w = self.w[:-1]\n",
    "            b = self.w[-1]\n",
    "        else:\n",
    "            w = self.w\n",
    "            b = 0\n",
    "        if self.if_standard:\n",
    "            w = w / self.feature_std.reshape(-1, 1)\n",
    "            b = b - w.T.dot(self.feature_mean.reshape(-1, 1))\n",
    "        return w.reshape(-1), b\n",
    "\n",
    "    def predict(self, x):\n",
    "        \"\"\"\n",
    "        :param x:ndarray格式数据: m x n\n",
    "        :return: m x 1\n",
    "        \"\"\"\n",
    "        if self.if_standard:\n",
    "            x = (x - self.feature_mean) / self.feature_std\n",
    "        if self.fit_intercept:\n",
    "            x = np.c_[x, np.ones(shape=x.shape[0])]\n",
    "        return x.dot(self.w)\n",
    "\n",
    "    def plot_fit_boundary(self, x, y):\n",
    "        \"\"\"\n",
    "        绘制拟合结果\n",
    "        :param x:\n",
    "        :param y:\n",
    "        :return:\n",
    "        \"\"\"\n",
    "        plt.scatter(x[:, 0], y)\n",
    "        plt.plot(x[:, 0], self.predict(x), 'r')"
   ]
  },
  {
   "cell_type": "markdown",
   "id": "a26a34cf",
   "metadata": {},
   "source": [
    "### 测试封装后的类"
   ]
  },
  {
   "cell_type": "markdown",
   "id": "70c086b6",
   "metadata": {},
   "source": [
    "#### 测试训练模型\n",
    "&emsp;&emsp;输入数据，测试训练模型："
   ]
  },
  {
   "cell_type": "code",
   "execution_count": 7,
   "id": "ce67bd7d",
   "metadata": {},
   "outputs": [
    {
     "name": "stdout",
     "output_type": "stream",
     "text": [
      "w (array([2.98285721]), array([[2.92996314]]))\n"
     ]
    },
    {
     "data": {
      "text/plain": [
       "9.016925569327965"
      ]
     },
     "execution_count": 7,
     "metadata": {},
     "output_type": "execute_result"
    }
   ],
   "source": [
    "lr=LinearRegression(solver='sgd')  # 实例化一个线性回归类。\n",
    "lr.fit(X[:,:-1], Y)  # 输入数据，让模型拟合。\n",
    "predict=lr.predict(X[:,:-1])  # 查看预测结果\n",
    "print('w',lr.get_params())  #查看w\n",
    "np.std(Y - predict)  #查看标准差"
   ]
  },
  {
   "cell_type": "markdown",
   "id": "1a34b153",
   "metadata": {},
   "source": [
    "&emsp;&emsp;可视化结果："
   ]
  },
  {
   "cell_type": "code",
   "execution_count": 8,
   "id": "513fa49f",
   "metadata": {
    "scrolled": true
   },
   "outputs": [
    {
     "data": {
      "image/png": "[encoded data removed]",
      "text/plain": [
       "<Figure size 432x288 with 1 Axes>"
      ]
     },
     "metadata": {
      "needs_background": "light"
     },
     "output_type": "display_data"
    }
   ],
   "source": [
    "lr.plot_fit_boundary(X[:,:-1],Y)"
   ]
  },
  {
   "cell_type": "markdown",
   "id": "2870e68e",
   "metadata": {},
   "source": [
    "#### 测试闭式解求解"
   ]
  },
  {
   "cell_type": "code",
   "execution_count": 9,
   "id": "479ee365",
   "metadata": {},
   "outputs": [
    {
     "name": "stdout",
     "output_type": "stream",
     "text": [
      "w (array([2.97015983]), array([[2.93375294]]))\n"
     ]
    },
    {
     "data": {
      "text/plain": [
       "9.009250519971642"
      ]
     },
     "execution_count": 9,
     "metadata": {},
     "output_type": "execute_result"
    }
   ],
   "source": [
    "lr=LinearRegression(solver='closed_form')\n",
    "lr.fit(X[:,:-1],Y)\n",
    "predict=lr.predict(X[:,:-1])\n",
    "print('w',lr.get_params())\n",
    "np.std(Y-predict)"
   ]
  },
  {
   "cell_type": "markdown",
   "id": "681bc423",
   "metadata": {},
   "source": [
    "&emsp;&emsp;可视化结果："
   ]
  },
  {
   "cell_type": "code",
   "execution_count": 10,
   "id": "dee573c0",
   "metadata": {},
   "outputs": [
    {
     "data": {
      "image/png": "[encoded data removed]",
      "text/plain": [
       "<Figure size 432x288 with 1 Axes>"
      ]
     },
     "metadata": {
      "needs_background": "light"
     },
     "output_type": "display_data"
    }
   ],
   "source": [
    "lr.plot_fit_boundary(X[:,:-1],Y)"
   ]
  },
  {
   "cell_type": "markdown",
   "id": "e23dd9af",
   "metadata": {},
   "source": [
    "## 过拟合"
   ]
  },
  {
   "cell_type": "markdown",
   "id": "b3dd1e7f",
   "metadata": {},
   "source": [
    "&emsp;&emsp;建模的目的是让模型学习到数据的一般性规律，但有时候可能会学过头，学到一些噪声数据的特性，虽然模型可以在训练集上取得好的表现，但在测试集上结果往往会变差，这时称模型陷入了过拟合，之前的效果看起来还可以，但如果加入几个异常点，再看看效果呢"
   ]
  },
  {
   "cell_type": "code",
   "execution_count": 11,
   "id": "4b15766f",
   "metadata": {},
   "outputs": [
    {
     "data": {
      "image/png": "[encoded data removed]",
      "text/plain": [
       "<Figure size 432x288 with 1 Axes>"
      ]
     },
     "metadata": {
      "needs_background": "light"
     },
     "output_type": "display_data"
    }
   ],
   "source": [
    "X=np.concatenate([X, np.asanyarray([[100,1],[101,1],[102,1],[103,1],[104,1]])])\n",
    "Y=np.concatenate([Y, np.asanyarray([[3000],[3300],[3600],[3800],[3900]])])\n",
    "lr=LinearRegression()  # 默认求解器SGD\n",
    "lr.fit(X[:,:-1], Y)\n",
    "lr.plot_fit_boundary(X[:,:-1],Y)"
   ]
  },
  {
   "cell_type": "markdown",
   "id": "66d10e71",
   "metadata": {},
   "source": [
    "## 正则化\n",
    "\n",
    "&emsp;&emsp;可以看到，仅仅加入了几个很离谱的异常点，就会对预测产生很大的影响，且偏离很远，这在实际情况中是很常见的；通常可以通过对模型参数添加正则化约束来避免这种情况，使其不会太“飘”，做法是在`loss`函数中为权重$w$添加$L_1$或者$L_2$约束，借用上一节的公式推导，直接推出`loss`部分：  \n",
    "\n",
    "1.线性回归中添加$L_1$约束称为`Lasso`回归，其损失函数如下：  \n",
    "\n",
    "$$\n",
    "L(w)=\\sum_{i=1}^m(y_i-f(x_i))^2+\\lambda||w||_1\n",
    "$$  \n",
    "\n",
    "2.线性回归中添加$L_2$约束称为`Ridge`回归，其损失函数如下：  \n",
    "\n",
    "$$\n",
    "L(w)=\\sum_{i=1}^m(y_i-f(x_i))^2+\\alpha||w||_2\n",
    "$$ \n",
    "\n",
    "3.如果不太确定用$L_1$好，还是$L_2$好，可以用它们的组合，称作`ElasticNet`，损失函数如下：  \n",
    "\n",
    "$$\n",
    "L(w)=\\sum_{i=1}^m(y_i-f(x_i))^2+\\lambda||w||_1+\\alpha||w||_2\n",
    "$$ \n",
    "\n",
    "&emsp;&emsp;可以发现通过调整超参，可以控制$w$的大小，如果$\\lambda$或$\\alpha$设置很大，$w$会被约束的很小，而如果$\\alpha$或$\\lambda$设置为`0`，等价于原始的不带正则项的线性回归；通常可以通过交叉验证，根据验证集上的表现来设置一个合适的超参；接下来在上一节线性回归代码的基础上实现`Lasso`, `Ridge`, `ElasticNet`模型，另外设置两个参数`l1_ratio`以及`l2_ratio`，分别用来控制$L_1$和$L_2$的`loss`部分的权重\n"
   ]
  },
  {
   "cell_type": "markdown",
   "id": "e054ac48",
   "metadata": {},
   "source": [
    "### 带正则化的封装与测试"
   ]
  },
  {
   "cell_type": "markdown",
   "id": "ad0bb189",
   "metadata": {},
   "source": [
    "&emsp;&emsp;首先定义一个符号函数："
   ]
  },
  {
   "cell_type": "code",
   "execution_count": 12,
   "id": "521113a4",
   "metadata": {},
   "outputs": [],
   "source": [
    "def sign(x):\n",
    "    \"\"\"\n",
    "    符号函数\n",
    "    :param x:\n",
    "    :return:\n",
    "    \"\"\"\n",
    "    if x > 0:\n",
    "        return 1\n",
    "    elif x < 0:\n",
    "        return -1\n",
    "    else:\n",
    "        return 0"
   ]
  },
  {
   "cell_type": "code",
   "execution_count": null,
   "id": "b47a8f54",
   "metadata": {},
   "outputs": [],
   "source": []
  },
  {
   "cell_type": "code",
   "execution_count": 13,
   "id": "4eae90af",
   "metadata": {},
   "outputs": [],
   "source": [
    "class LinearRegression(object):\n",
    "    def __init__(self, fit_intercept=True, solver='sgd', if_standard=True, epochs=10, eta=1e-2, batch_size=1,\n",
    "                 l1_ratio=None, l2_ratio=None):\n",
    "        \"\"\"\n",
    "        :param fit_intercept: 是否训练bias\n",
    "        :param solver:\n",
    "        :param if_standard:\n",
    "        \"\"\"\n",
    "        self.w = None\n",
    "        self.fit_intercept = fit_intercept\n",
    "        self.solver = solver\n",
    "        self.if_standard = if_standard\n",
    "        if if_standard:\n",
    "            self.feature_mean = None\n",
    "            self.feature_std = None\n",
    "        self.epochs = epochs\n",
    "        self.eta = eta\n",
    "        self.batch_size = batch_size\n",
    "        self.l1_ratio = l1_ratio\n",
    "        self.l2_ratio = l2_ratio\n",
    "        # 注册sign函数\n",
    "        self.sign_func = np.vectorize(sign)\n",
    "\n",
    "    def init_params(self, n_features):\n",
    "        \"\"\"\n",
    "        初始化参数\n",
    "        :return:\n",
    "        \"\"\"\n",
    "        self.w = np.random.random(size=(n_features, 1))\n",
    "\n",
    "    def _fit_closed_form_solution(self, x, y):\n",
    "        \"\"\"\n",
    "        直接求闭式解\n",
    "        :param x:\n",
    "        :param y:\n",
    "        :return:\n",
    "        \"\"\"\n",
    "        if self.l1_ratio is None and self.l2_ratio is None:  # l1和l2都是None的时候。\n",
    "            self.w = np.linalg.pinv(x).dot(y)\n",
    "        elif self.l1_ratio is None and self.l2_ratio is not None:\n",
    "            self.w = np.linalg.inv(x.T.dot(x) + self.l2_ratio * np.eye(x.shape[1])).dot(x.T).dot(y)\n",
    "        else:\n",
    "            self._fit_sgd(x, y)\n",
    "\n",
    "    def _fit_sgd(self, x, y):\n",
    "        \"\"\"\n",
    "        随机梯度下降求解\n",
    "        :param x:\n",
    "        :param y:\n",
    "        :param epochs:\n",
    "        :param eta:\n",
    "        :param batch_size:\n",
    "        :return:\n",
    "        \"\"\"\n",
    "        x_y = np.c_[x, y]\n",
    "        # 按batch_size更新w,b\n",
    "        for _ in range(self.epochs):\n",
    "            np.random.shuffle(x_y)\n",
    "            for index in range(x_y.shape[0] // self.batch_size):\n",
    "                batch_x_y = x_y[self.batch_size * index:self.batch_size * (index + 1)]\n",
    "                batch_x = batch_x_y[:, :-1]\n",
    "                batch_y = batch_x_y[:, -1:]\n",
    "\n",
    "                dw = -2 * batch_x.T.dot(batch_y - batch_x.dot(self.w)) / self.batch_size\n",
    "\n",
    "                # 添加l1和l2的部分\n",
    "                dw_reg = np.zeros(shape=(x.shape[1] - 1, 1))\n",
    "                if self.l1_ratio is not None: # l1的情况\n",
    "                    dw_reg += self.l1_ratio * self.sign_func(self.w[:-1]) / self.batch_size\n",
    "                if self.l2_ratio is not None: # l2的情况\n",
    "                    dw_reg += 2 * self.l2_ratio * self.w[:-1] / self.batch_size\n",
    "                dw_reg = np.concatenate([dw_reg, np.asarray([[0]])], axis=0)\n",
    "                dw += dw_reg\n",
    "                self.w = self.w - self.eta * dw\n",
    "\n",
    "    def fit(self, x, y):\n",
    "        # 是否归一化feature\n",
    "        if self.if_standard:\n",
    "            self.feature_mean = np.mean(x, axis=0)\n",
    "            self.feature_std = np.std(x, axis=0) + 1e-8\n",
    "            x = (x - self.feature_mean) / self.feature_std\n",
    "        # 是否训练bias\n",
    "        if self.fit_intercept:\n",
    "            x = np.c_[x, np.ones_like(y)]\n",
    "        # 初始化参数\n",
    "        self.init_params(x.shape[1])\n",
    "        # 训练模型\n",
    "        if self.solver == 'closed_form':\n",
    "            self._fit_closed_form_solution(x, y)\n",
    "        elif self.solver == 'sgd':\n",
    "            self._fit_sgd(x, y)\n",
    "\n",
    "    def get_params(self):\n",
    "        \"\"\"\n",
    "        输出原始的系数\n",
    "        :return: w,b\n",
    "        \"\"\"\n",
    "        if self.fit_intercept:\n",
    "            w = self.w[:-1]\n",
    "            b = self.w[-1]\n",
    "        else:\n",
    "            w = self.w\n",
    "            b = 0\n",
    "        if self.if_standard:\n",
    "            w = w / self.feature_std.reshape(-1, 1)\n",
    "            b = b - w.T.dot(self.feature_mean.reshape(-1, 1))\n",
    "        return w.reshape(-1), b\n",
    "\n",
    "    def predict(self, x):\n",
    "        \"\"\"\n",
    "        :param x:ndarray格式数据: m x n\n",
    "        :return: m x 1\n",
    "        \"\"\"\n",
    "        if self.if_standard:\n",
    "            x = (x - self.feature_mean) / self.feature_std\n",
    "        if self.fit_intercept:\n",
    "            x = np.c_[x, np.ones(shape=x.shape[0])]\n",
    "        return x.dot(self.w)\n",
    "\n",
    "    def plot_fit_boundary(self, x, y):\n",
    "        \"\"\"\n",
    "        绘制拟合结果\n",
    "        :param x:\n",
    "        :param y:\n",
    "        :return:\n",
    "        \"\"\"\n",
    "        plt.scatter(x[:, 0], y)\n",
    "        plt.plot(x[:, 0], self.predict(x), 'r')"
   ]
  },
  {
   "cell_type": "markdown",
   "id": "810f49c8",
   "metadata": {},
   "source": [
    "### 测试带正则化的类\n",
    "\n",
    "#### Lasso"
   ]
  },
  {
   "cell_type": "code",
   "execution_count": 14,
   "id": "8def912e",
   "metadata": {},
   "outputs": [
    {
     "data": {
      "image/png": "[encoded data removed]",
      "text/plain": [
       "<Figure size 432x288 with 1 Axes>"
      ]
     },
     "metadata": {
      "needs_background": "light"
     },
     "output_type": "display_data"
    }
   ],
   "source": [
    "lasso = LinearRegression(l1_ratio=100)\n",
    "lasso.fit(X[:,:-1], Y)\n",
    "lasso.plot_fit_boundary(X[:,:-1], Y)"
   ]
  },
  {
   "cell_type": "markdown",
   "id": "1cfe65ea",
   "metadata": {},
   "source": [
    "#### Ridge"
   ]
  },
  {
   "cell_type": "code",
   "execution_count": 15,
   "id": "dc197026",
   "metadata": {},
   "outputs": [
    {
     "data": {
      "image/png": "[encoded data removed]",
      "text/plain": [
       "<Figure size 432x288 with 1 Axes>"
      ]
     },
     "metadata": {
      "needs_background": "light"
     },
     "output_type": "display_data"
    }
   ],
   "source": [
    "ridge=LinearRegression(l2_ratio=10)\n",
    "ridge.fit(X[:,:-1],Y)\n",
    "ridge.plot_fit_boundary(X[:,:-1],Y)"
   ]
  },
  {
   "cell_type": "markdown",
   "id": "57a24cb3",
   "metadata": {},
   "source": [
    "#### ElasticNet"
   ]
  },
  {
   "cell_type": "code",
   "execution_count": 16,
   "id": "30d25468",
   "metadata": {},
   "outputs": [
    {
     "data": {
      "image/png": "[encoded data removed]",
      "text/plain": [
       "<Figure size 432x288 with 1 Axes>"
      ]
     },
     "metadata": {
      "needs_background": "light"
     },
     "output_type": "display_data"
    }
   ],
   "source": [
    "elastic=LinearRegression(l1_ratio=100,l2_ratio=10)\n",
    "elastic.fit(X[:,:-1],Y)\n",
    "elastic.plot_fit_boundary(X[:,:-1],Y)"
   ]
  },
  {
   "cell_type": "markdown",
   "id": "fce1de75",
   "metadata": {},
   "source": [
    "### 与sklearn对比"
   ]
  },
  {
   "cell_type": "code",
   "execution_count": 17,
   "id": "677205c0",
   "metadata": {},
   "outputs": [
    {
     "name": "stdout",
     "output_type": "stream",
     "text": [
      "w: [[11.03519836]] b: [-268.67956952]\n"
     ]
    },
    {
     "data": {
      "text/plain": [
       "642.3286630571652"
      ]
     },
     "execution_count": 17,
     "metadata": {},
     "output_type": "execute_result"
    }
   ],
   "source": [
    "#与sklearn对比\n",
    "from sklearn.linear_model import LinearRegression\n",
    "lr=LinearRegression()\n",
    "lr.fit(X[:,:-1],Y)\n",
    "predict=lr.predict(X[:,:-1])\n",
    "#查看w,b\n",
    "print('w:',lr.coef_,'b:',lr.intercept_)\n",
    "#查看标准差\n",
    "np.std(Y-predict)"
   ]
  },
  {
   "cell_type": "code",
   "execution_count": null,
   "id": "ce108b86",
   "metadata": {},
   "outputs": [],
   "source": []
  }
 ],
 "metadata": {
  "kernelspec": {
   "display_name": "Python 3",
   "language": "python",
   "name": "python3"
  },
  "language_info": {
   "codemirror_mode": {
    "name": "ipython",
    "version": 3
   },
   "file_extension": ".py",
   "mimetype": "text/x-python",
   "name": "python",
   "nbconvert_exporter": "python",
   "pygments_lexer": "ipython3",
   "version": "3.8.8"
  },
  "toc": {
   "base_numbering": 1,
   "nav_menu": {},
   "number_sections": true,
   "sideBar": true,
   "skip_h1_title": false,
   "title_cell": "Table of Contents",
   "title_sidebar": "Contents",
   "toc_cell": false,
   "toc_position": {
    "height": "calc(100% - 180px)",
    "left": "10px",
    "top": "150px",
    "width": "288px"
   },
   "toc_section_display": true,
   "toc_window_display": true
  }
 },
 "nbformat": 4,
 "nbformat_minor": 5
}
