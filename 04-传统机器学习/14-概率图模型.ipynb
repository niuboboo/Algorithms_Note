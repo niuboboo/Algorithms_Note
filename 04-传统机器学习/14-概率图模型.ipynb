{
 "cells": [
  {
   "cell_type": "markdown",
   "id": "7070369d",
   "metadata": {},
   "source": [
    "## 有向图\n",
    "\n",
    "### 隐马尔可夫模型\n",
    "\n",
    "## 无向图\n",
    "\n",
    "### 马尔可夫随机场\n",
    "\n",
    "### 条件随机场\n",
    "\n",
    "## 其他\n",
    "\n",
    "### 学习与推断\n",
    "\n",
    "### topic model"
   ]
  },
  {
   "cell_type": "code",
   "execution_count": null,
   "id": "39a1844e",
   "metadata": {},
   "outputs": [],
   "source": []
  }
 ],
 "metadata": {
  "kernelspec": {
   "display_name": "Python 3",
   "language": "python",
   "name": "python3"
  },
  "language_info": {
   "codemirror_mode": {
    "name": "ipython",
    "version": 3
   },
   "file_extension": ".py",
   "mimetype": "text/x-python",
   "name": "python",
   "nbconvert_exporter": "python",
   "pygments_lexer": "ipython3",
   "version": "3.8.8"
  },
  "toc": {
   "base_numbering": 1,
   "nav_menu": {},
   "number_sections": true,
   "sideBar": true,
   "skip_h1_title": false,
   "title_cell": "Table of Contents",
   "title_sidebar": "Contents",
   "toc_cell": false,
   "toc_position": {},
   "toc_section_display": true,
   "toc_window_display": true
  }
 },
 "nbformat": 4,
 "nbformat_minor": 5
}
