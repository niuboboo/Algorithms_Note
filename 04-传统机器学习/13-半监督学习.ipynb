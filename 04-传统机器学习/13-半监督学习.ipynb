{
 "cells": [
  {
   "cell_type": "markdown",
   "id": "9464e372",
   "metadata": {},
   "source": [
    "## 什么是半监督学习\n",
    "\n",
    "### 定义\n",
    "\n",
    "不依赖外界交互，自动利用未标记的样本。\n",
    "\n",
    "### 方法\n",
    "\n",
    "相似样本具有相似输出。\n",
    "\n",
    "### 分类\n",
    "\n",
    "纯半监督学习和直推学习。\n",
    "\n",
    "\n",
    "\n",
    "## 半监督的学习的方法\n",
    "\n",
    "### 生成式方法\n",
    "\n",
    "- 高斯混合模型\n",
    "\n",
    "### 半监督SVM\n",
    "\n",
    "### 图半监督学习\n",
    "\n",
    "\n",
    "### 基于分歧的方法\n",
    "\n",
    "\n",
    "### 半监督聚类"
   ]
  },
  {
   "cell_type": "code",
   "execution_count": null,
   "id": "7c56954a",
   "metadata": {},
   "outputs": [],
   "source": []
  }
 ],
 "metadata": {
  "kernelspec": {
   "display_name": "Python 3",
   "language": "python",
   "name": "python3"
  },
  "language_info": {
   "codemirror_mode": {
    "name": "ipython",
    "version": 3
   },
   "file_extension": ".py",
   "mimetype": "text/x-python",
   "name": "python",
   "nbconvert_exporter": "python",
   "pygments_lexer": "ipython3",
   "version": "3.8.8"
  },
  "toc": {
   "base_numbering": 1,
   "nav_menu": {},
   "number_sections": true,
   "sideBar": true,
   "skip_h1_title": false,
   "title_cell": "Table of Contents",
   "title_sidebar": "Contents",
   "toc_cell": false,
   "toc_position": {},
   "toc_section_display": true,
   "toc_window_display": true
  }
 },
 "nbformat": 4,
 "nbformat_minor": 5
}
