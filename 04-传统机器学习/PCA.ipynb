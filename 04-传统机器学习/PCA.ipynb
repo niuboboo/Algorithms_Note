{
 "cells": [
  {
   "cell_type": "markdown",
   "id": "bf9ef79d",
   "metadata": {},
   "source": [
    "## 基础知识\n",
    "\n",
    "研究泛化误差和经验误差之间的逼近程度。\n",
    "\n",
    "\n",
    "## PAC可学习\n",
    "\n",
    "以较大概率预测到满足预测误差上限的模型。\n",
    "\n",
    "\n",
    "## 量化假设空间的复杂度的方法\n",
    "\n",
    "- VC维\n",
    "\n",
    "- Rademacher复杂度\n",
    "\n",
    "## 稳定性\n",
    "\n",
    "根据具体的算法计算对应的学习问题的衡量"
   ]
  },
  {
   "cell_type": "code",
   "execution_count": null,
   "id": "dffc92c4",
   "metadata": {},
   "outputs": [],
   "source": []
  }
 ],
 "metadata": {
  "kernelspec": {
   "display_name": "Python 3",
   "language": "python",
   "name": "python3"
  },
  "language_info": {
   "codemirror_mode": {
    "name": "ipython",
    "version": 3
   },
   "file_extension": ".py",
   "mimetype": "text/x-python",
   "name": "python",
   "nbconvert_exporter": "python",
   "pygments_lexer": "ipython3",
   "version": "3.8.8"
  },
  "toc": {
   "base_numbering": 1,
   "nav_menu": {},
   "number_sections": true,
   "sideBar": true,
   "skip_h1_title": false,
   "title_cell": "Table of Contents",
   "title_sidebar": "Contents",
   "toc_cell": false,
   "toc_position": {},
   "toc_section_display": true,
   "toc_window_display": true
  }
 },
 "nbformat": 4,
 "nbformat_minor": 5
}
