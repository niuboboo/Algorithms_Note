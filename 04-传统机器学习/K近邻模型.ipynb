{
 "cells": [
  {
   "cell_type": "markdown",
   "id": "e536184e",
   "metadata": {},
   "source": [
    "## K近邻模型"
   ]
  },
  {
   "cell_type": "markdown",
   "id": "395c69bc",
   "metadata": {},
   "source": [
    "k近邻没有显示的计算过程。"
   ]
  },
  {
   "cell_type": "markdown",
   "id": "1d8ade7b",
   "metadata": {},
   "source": [
    "## 距离度量"
   ]
  },
  {
   "cell_type": "code",
   "execution_count": 1,
   "id": "e0e73e45",
   "metadata": {},
   "outputs": [],
   "source": [
    "import numpy as np"
   ]
  },
  {
   "cell_type": "markdown",
   "id": "8bd056f3",
   "metadata": {},
   "source": [
    "### 欧式距离\n",
    "\n",
    "&emsp;&emsp;欧式距离(**Euclidean Distance**)也称欧几里得距离或欧几里得度量，是一种最常用的一种度量方法，主要描述为以下数学形式：两个$n$维向量$\\alpha (x_{11}, x_{12}, \\cdots ,x_{1n})$和$\\beta(x_{21}, x_{22}, \\cdots x_{2n})$之间的欧式距离(**euclidean distance**)为其对应分量的平方和再开根号：\n",
    "\n",
    "$$\n",
    "d_{12} = \\sqrt{\\sum_{k=1}^{n}(x_{1k}-x_{2k})^{2}}\n",
    "$$\n",
    "\n",
    "&emsp;&emsp;其实说白了就是欧几里得空间中两点的“普通”直线距离。"
   ]
  },
  {
   "cell_type": "code",
   "execution_count": 2,
   "id": "83dcb62d",
   "metadata": {},
   "outputs": [
    {
     "name": "stdout",
     "output_type": "stream",
     "text": [
      "0.0\n"
     ]
    }
   ],
   "source": [
    "def euclidean_distance(x, y):\n",
    "    if len(x) == len(y):\n",
    "        return (np.sqrt(np.sum(np.power((x - y), 2))))\n",
    "    else:\n",
    "        print('Input should be of equal length')\n",
    "        return (None)\n",
    "x = np.asarray([1, 2, 3])\n",
    "y = np.asarray([1, 2, 3])\n",
    "print(euclidean_distance(x, y))"
   ]
  },
  {
   "cell_type": "markdown",
   "id": "1863dbd6",
   "metadata": {},
   "source": [
    "### 闵可夫斯基距离\n",
    "\n",
    "&emsp;&emsp;闵可夫斯基距离(**Minkowski Distance**)也称为**闵式距离**，定义如下：\n",
    "\n",
    "&emsp;&emsp;两个$n$维向量$\\alpha (x_{11}, x_{12}, \\cdots ,x_{1n})$和$\\beta(x_{21}, x_{22}, \\cdots x_{2n})$之间的标**闵可夫斯基距离**为：\n",
    "\n",
    "$$\n",
    "d_{12}=\\sqrt[p]{\\sum_{k=1}^{n}\\left(x_{1 k}-x_{2 k}\\right)^{p}}\n",
    "$$\n",
    "\n",
    "- 当$p=1$时，它是**曼哈顿距离**；\n",
    "- 当$p=2$时，它是**欧式距离**；\n",
    "- 当$p=\\infty$时，它是**切比雪夫距离**。\n",
    "\n",
    "&emsp;&emsp;所以闵式距离是上述三种距离的一般性表示。"
   ]
  },
  {
   "cell_type": "code",
   "execution_count": 3,
   "id": "86ba95cd",
   "metadata": {},
   "outputs": [
    {
     "name": "stdout",
     "output_type": "stream",
     "text": [
      "0.0\n"
     ]
    }
   ],
   "source": [
    "def IrNorm_distance(x, y, power):\n",
    "    if len(x) == len(y):\n",
    "        return (np.power(np.sum(np.power(np.abs(x - y), power)), (1 / (1.0 * power))))\n",
    "    else:\n",
    "        print('Input Input should be of equal length')\n",
    "        return (None)\n",
    "x = np.asarray([1, 2, 3])\n",
    "y = np.asarray([1, 2, 3])\n",
    "print(IrNorm_distance(x, y, 2))"
   ]
  },
  {
   "cell_type": "markdown",
   "id": "72a24c44",
   "metadata": {},
   "source": [
    "### 余弦距离\n",
    "\n",
    "&emsp;&emsp;向量的几何意义不只包含方向，余弦距离(**cosine distance**)是度量两个向量方向差异的一种方法。是方向性地判断，而不是大小的判断。两个方向相同的矢量的余弦相似度为1 ，两个相对于彼此成90°角的向量的相似度为0，而两个完全相反的向量的相似度为-1，而与幅度无关。\n",
    "\n",
    "&emsp;&emsp;数学表示：两个$n$维向量$\\alpha (x_{11}, x_{12}, \\cdots ,x_{1n})$和$\\beta(x_{21}, x_{22}, \\cdots x_{2n})$之间的标**夹角余弦度量**为：\n",
    "\n",
    "$$\n",
    "cos(\\theta)=\\frac{\\alpha \\cdot \\beta}{|\\alpha||\\beta|}\n",
    "$$\n",
    "\n",
    "&emsp;&emsp;即：\n",
    "\n",
    "$$\n",
    "\\cos (\\theta)=\\frac{\\sum_{k=1}^{n} x_{1 k} x_{2 k}}{\\sqrt{\\sum_{k=1}^{n} x_{1 k}^{2}} \\sqrt{\\sum_{k=1}^{n} x_{2 k}^{2}}}\n",
    "$$"
   ]
  },
  {
   "cell_type": "code",
   "execution_count": 4,
   "id": "8ecf9864",
   "metadata": {},
   "outputs": [
    {
     "name": "stdout",
     "output_type": "stream",
     "text": [
      "cosine distance:\n",
      "0.7071067811865475\n"
     ]
    }
   ],
   "source": [
    "def cosine_distance(x, y):\n",
    "    if len(x) == len(y):\n",
    "        return (np.dot(x, y) / np.sqrt(np.dot(x, x) * np.dot(y, y)))\n",
    "    else:\n",
    "        print('Input Input should be of equal length')\n",
    "        return (None)\n",
    "x = [1, 0]\n",
    "y = [1, 1]\n",
    "print('cosine distance:')\n",
    "print(cosine_distance(x, y))"
   ]
  },
  {
   "cell_type": "markdown",
   "id": "db353b54",
   "metadata": {},
   "source": [
    "### 杰卡德距离\n",
    "\n",
    "&emsp;&emsp;在了解杰卡德距离之前我们需要了解一下杰卡德相似系数(**Jaccard similarity coefficient**)：\n",
    "\n",
    "\n",
    "&emsp;&emsp;两个集合$A$和$B$的交集元素在$A$、$B$的并集中所占的比例，称为两个集合的杰卡德相似系数，用符号$J(A,B)$表示：\n",
    "\n",
    "$$\n",
    "J(A, B)=\\frac{|A \\cap B|}{|A \\cup B|}\n",
    "$$\n",
    "\n",
    "\n",
    "\n",
    "&emsp;&emsp;杰卡德距离描述的是与杰卡德相似系数相反的一个概念：用两个集合中不同元素占所有元素的比例来衡量两个集合的区分度。\n",
    "\n",
    "$$\n",
    "J_{\\delta}(A, B)=1-J(A, B)=\\frac{|A \\cup B|-|A \\cap B|}{|A \\cup B|}\n",
    "$$"
   ]
  },
  {
   "cell_type": "code",
   "execution_count": 5,
   "id": "5e6975d9",
   "metadata": {},
   "outputs": [
    {
     "name": "stdout",
     "output_type": "stream",
     "text": [
      "jaccard_distance:\n",
      "0.0\n"
     ]
    }
   ],
   "source": [
    "def jaccard_distance(x, y):\n",
    "    set_x = set(x)\n",
    "    set_y = set(y)\n",
    "    return (1 - len(set_x.intersection(set_y)) / len(set_x.union(set_y)))\n",
    "x = [1, 2, 3]\n",
    "y = [1, 2, 3]\n",
    "print('jaccard_distance:')\n",
    "print(jaccard_distance(x, y))"
   ]
  },
  {
   "cell_type": "markdown",
   "id": "5e126c7d",
   "metadata": {},
   "source": [
    "### 海明距离\n",
    "\n",
    "&emsp;&emsp;两个等长二进制串$S_{1}$和$S_{2}$，将其中一个变换为另一个所需要的**最小变换次数**。\n",
    "\n",
    "&emsp;&emsp;例如：字符串“1111”与“1001”之间的海明距离为2。"
   ]
  },
  {
   "cell_type": "code",
   "execution_count": 6,
   "id": "04ce2fb9",
   "metadata": {},
   "outputs": [
    {
     "name": "stdout",
     "output_type": "stream",
     "text": [
      "hamming_distance:\n",
      "1\n"
     ]
    }
   ],
   "source": [
    "def hamming_distance(x, y):\n",
    "    diff = 0\n",
    "    if len(x) == len(y):\n",
    "        for char1, char2 in zip(x, y):\n",
    "            if char1 != char2:\n",
    "                diff += 1\n",
    "        return (diff)\n",
    "    else:\n",
    "        print('Input Input should be of equal length')\n",
    "        return (None)\n",
    "x = [11001]\n",
    "y = [10110]\n",
    "print('hamming_distance:')\n",
    "print(hamming_distance(x, y))"
   ]
  },
  {
   "cell_type": "markdown",
   "id": "698d1baa",
   "metadata": {},
   "source": [
    "## K值的选择\n",
    "\n",
    "&emsp;&emsp;用较小的领域进行预测。预测结果对邻近的实力点非常敏感。如果邻近的实例点恰好是噪声，预测就会出错。\n",
    "\n",
    "&emsp;&emsp;用较大的领域进行预测，对于输入实例较远的(已经不太相似)的样本点也会对预测起作用，使预测发生错误。"
   ]
  },
  {
   "cell_type": "markdown",
   "id": "35111a7e",
   "metadata": {},
   "source": [
    "## 分类决策规则：多数表决"
   ]
  },
  {
   "cell_type": "markdown",
   "id": "00975d90",
   "metadata": {},
   "source": [
    "&emsp;&emsp;损失函数可以表示为：\n",
    "\n",
    "$$\n",
    "\\frac{1}{k} \\sum_{x_{i} \\in N_{k}(x)} I(y_{i} \\neq c_{j})\n",
    "$$\n",
    "\n",
    "&emsp;&emsp;其中$I$为指数函数。"
   ]
  },
  {
   "cell_type": "markdown",
   "id": "26799187",
   "metadata": {},
   "source": [
    "## K近邻算法"
   ]
  },
  {
   "cell_type": "markdown",
   "id": "c5385a79",
   "metadata": {},
   "source": [
    "输入：训练数据集$T=[(x_{1}, y_{1}), \\cdots, (x_{N}, y_{N})]$, $x_{i} \\in X \\subseteq R^{n}$, $y_{i} \\in Y = {c_{i}, \\cdots, c_{K}}$，实例特征向量$x_{0}$。\n",
    "\n",
    "1. 根据给定的距离度量，在训练集中找到与$x$最近的$k$个点，涵盖这$k$个点的领域记作$N_{k}(x)$。\n",
    "2. 在$N_{k}(x)$中根据分类决策规则(如多数表决)决定$x$的类别$y$。输出：实例$x$所属的类别$y$。"
   ]
  },
  {
   "cell_type": "code",
   "execution_count": 7,
   "id": "0bf10c49",
   "metadata": {},
   "outputs": [],
   "source": [
    "import numpy as np\n",
    "import pandas as pd\n",
    "import matplotlib.pyplot as plt\n",
    "from sklearn.datasets import load_iris\n",
    "from sklearn.model_selection import train_test_split\n",
    "from collections import Counter"
   ]
  },
  {
   "cell_type": "code",
   "execution_count": 8,
   "id": "948db760",
   "metadata": {},
   "outputs": [
    {
     "data": {
      "text/html": [
       "<div>\n",
       "<style scoped>\n",
       "    .dataframe tbody tr th:only-of-type {\n",
       "        vertical-align: middle;\n",
       "    }\n",
       "\n",
       "    .dataframe tbody tr th {\n",
       "        vertical-align: top;\n",
       "    }\n",
       "\n",
       "    .dataframe thead th {\n",
       "        text-align: right;\n",
       "    }\n",
       "</style>\n",
       "<table border=\"1\" class=\"dataframe\">\n",
       "  <thead>\n",
       "    <tr style=\"text-align: right;\">\n",
       "      <th></th>\n",
       "      <th>sepal length</th>\n",
       "      <th>sepal width</th>\n",
       "      <th>petal length</th>\n",
       "      <th>petal width</th>\n",
       "      <th>label</th>\n",
       "    </tr>\n",
       "  </thead>\n",
       "  <tbody>\n",
       "    <tr>\n",
       "      <th>0</th>\n",
       "      <td>5.1</td>\n",
       "      <td>3.5</td>\n",
       "      <td>1.4</td>\n",
       "      <td>0.2</td>\n",
       "      <td>0</td>\n",
       "    </tr>\n",
       "    <tr>\n",
       "      <th>1</th>\n",
       "      <td>4.9</td>\n",
       "      <td>3.0</td>\n",
       "      <td>1.4</td>\n",
       "      <td>0.2</td>\n",
       "      <td>0</td>\n",
       "    </tr>\n",
       "    <tr>\n",
       "      <th>2</th>\n",
       "      <td>4.7</td>\n",
       "      <td>3.2</td>\n",
       "      <td>1.3</td>\n",
       "      <td>0.2</td>\n",
       "      <td>0</td>\n",
       "    </tr>\n",
       "    <tr>\n",
       "      <th>3</th>\n",
       "      <td>4.6</td>\n",
       "      <td>3.1</td>\n",
       "      <td>1.5</td>\n",
       "      <td>0.2</td>\n",
       "      <td>0</td>\n",
       "    </tr>\n",
       "    <tr>\n",
       "      <th>4</th>\n",
       "      <td>5.0</td>\n",
       "      <td>3.6</td>\n",
       "      <td>1.4</td>\n",
       "      <td>0.2</td>\n",
       "      <td>0</td>\n",
       "    </tr>\n",
       "  </tbody>\n",
       "</table>\n",
       "</div>"
      ],
      "text/plain": [
       "   sepal length  sepal width  petal length  petal width  label\n",
       "0           5.1          3.5           1.4          0.2      0\n",
       "1           4.9          3.0           1.4          0.2      0\n",
       "2           4.7          3.2           1.3          0.2      0\n",
       "3           4.6          3.1           1.5          0.2      0\n",
       "4           5.0          3.6           1.4          0.2      0"
      ]
     },
     "execution_count": 8,
     "metadata": {},
     "output_type": "execute_result"
    }
   ],
   "source": [
    "# 加载鸢尾花数据\n",
    "iris = load_iris()\n",
    "df = pd.DataFrame(iris.data,columns=iris.feature_names)\n",
    "df['label'] = iris.target\n",
    "df.columns = ['sepal length', 'sepal width', 'petal length', 'petal width', 'label']\n",
    "df.head()"
   ]
  },
  {
   "cell_type": "code",
   "execution_count": 9,
   "id": "743bd43f",
   "metadata": {},
   "outputs": [
    {
     "data": {
      "text/plain": [
       "<matplotlib.legend.Legend at 0x7fbf1179fef0>"
      ]
     },
     "execution_count": 9,
     "metadata": {},
     "output_type": "execute_result"
    },
    {
     "data": {
      "image/png": "[encoded data removed]",
      "text/plain": [
       "<Figure size 432x288 with 1 Axes>"
      ]
     },
     "metadata": {
      "needs_background": "light"
     },
     "output_type": "display_data"
    }
   ],
   "source": [
    "# 可视化sepal length与sepal width之间关系的散点图\n",
    "plt.figure(figsize=(6,4))\n",
    "plt.tick_params(direction='in')\n",
    "plt.scatter(df[:50]['sepal length'], df[:50]['sepal width'],c='',edgecolors='b',label='0')\n",
    "plt.scatter(df[50:100]['sepal length'], df[50:100]['sepal width'],c='',edgecolors='g',label='1')\n",
    "plt.xlabel('sepal length')\n",
    "plt.ylabel('sepal width')\n",
    "plt.legend()"
   ]
  },
  {
   "cell_type": "code",
   "execution_count": 10,
   "id": "7e7d7a7c",
   "metadata": {},
   "outputs": [],
   "source": [
    "# 划分数据集\n",
    "# 8:2\n",
    "data = np.array(df.iloc[:100, [0, 1, -1]])\n",
    "X, y = data[:,:-1], data[:,-1]\n",
    "X_train, X_test, y_train, y_test = train_test_split(X, y, test_size=0.2)"
   ]
  },
  {
   "cell_type": "code",
   "execution_count": 11,
   "id": "c2e3caf2",
   "metadata": {},
   "outputs": [],
   "source": [
    "class KNN:\n",
    "    def __init__(self,X_train,y_train,n_neighbors=3,p=2):\n",
    "        \"\"\"\n",
    "        parameter n_neighbors:the value of k\n",
    "        parameter p:L distance \n",
    "        parameter X_train:\n",
    "        parameter y_train:\n",
    "        \"\"\"\n",
    "        self.n = n_neighbors # k值\n",
    "        self.p = p # 距离度量\n",
    "        self.X_train = X_train # 训练集\n",
    "        self.y_train = y_train # 标签\n",
    "        \n",
    "    def predict(self,X):\n",
    "        # 先取出n个点\n",
    "        # 以元组保存计算的距离值和类别 [(dist1,label1),...,(distn,labeln)]\n",
    "        knn_list=[]\n",
    "        # 计算n个点的距离值\n",
    "        for i in range(self.n):\n",
    "            dist = np.linalg.norm(X-self.X_train[i],ord=self.p)\n",
    "            knn_list.append((dist,self.y_train[i]))\n",
    "            \n",
    "        # 计算数据集中的剩下距离值\n",
    "        for i in range(self.n, len(self.X_train)):\n",
    "            max_index = knn_list.index(max(knn_list,key=lambda x:x[0])) # 每次返回列表中距离最大的索引下标\n",
    "            dist = np.linalg.norm(X - self.X_train[i],ord=self.p) # 计算新的距离值\n",
    "            if knn_list[max_index][0] > dist: # 如果当前最大值大于新距离值\n",
    "                knn_list[max_index] = (dist, self.y_train[i])\n",
    "        \n",
    "        # 只保存最近的n个类别\n",
    "        knn = [k[-1] for k in knn_list]\n",
    "        count_pairs = Counter(knn) # Counter 计算每个类别的个数\n",
    "        max_count = sorted(count_pairs.items(),key = lambda x:x[1])[-1][0] # 字典以值排序 返回value最大的key\n",
    "        return max_count\n",
    "    \n",
    "    def score(self,X_test,y_test):\n",
    "        right = 0\n",
    "        n = 10\n",
    "        for X,y in zip(X_test,y_test):\n",
    "            label = self.predict(X)\n",
    "            if label == y:\n",
    "                right += 1\n",
    "        return right/len(X_test)"
   ]
  },
  {
   "cell_type": "code",
   "execution_count": 12,
   "id": "271f5ab4",
   "metadata": {},
   "outputs": [],
   "source": [
    "clf = KNN(X_train, y_train)"
   ]
  },
  {
   "cell_type": "code",
   "execution_count": 13,
   "id": "664f7ead",
   "metadata": {},
   "outputs": [
    {
     "data": {
      "text/plain": [
       "1.0"
      ]
     },
     "execution_count": 13,
     "metadata": {},
     "output_type": "execute_result"
    }
   ],
   "source": [
    "clf.score(X_test, y_test)"
   ]
  },
  {
   "cell_type": "code",
   "execution_count": 14,
   "id": "97377302",
   "metadata": {},
   "outputs": [
    {
     "name": "stdout",
     "output_type": "stream",
     "text": [
      "Test Point: 1.0\n"
     ]
    }
   ],
   "source": [
    "test_point = [6.0, 3.0]\n",
    "print('Test Point: {}'.format(clf.predict(test_point)))"
   ]
  },
  {
   "cell_type": "code",
   "execution_count": 15,
   "id": "0b4adda2",
   "metadata": {},
   "outputs": [
    {
     "data": {
      "text/plain": [
       "<matplotlib.legend.Legend at 0x7fbf120dc048>"
      ]
     },
     "execution_count": 15,
     "metadata": {},
     "output_type": "execute_result"
    },
    {
     "data": {
      "image/png": "[encoded data removed]",
      "text/plain": [
       "<Figure size 432x288 with 1 Axes>"
      ]
     },
     "metadata": {
      "needs_background": "light"
     },
     "output_type": "display_data"
    }
   ],
   "source": [
    "# 可视化测试数据\n",
    "# 正确分类为 label = 1\n",
    "plt.figure(figsize=(6,4))\n",
    "plt.tick_params(direction='in')\n",
    "plt.scatter(df[:50]['sepal length'], df[:50]['sepal width'],c='',edgecolors='b',label='0')\n",
    "plt.scatter(df[50:100]['sepal length'], df[50:100]['sepal width'],c='',edgecolors='g',label='1')\n",
    "plt.scatter(test_point[0], test_point[1], label='test_point',c='',edgecolors='r')\n",
    "plt.xlabel('sepal length')\n",
    "plt.ylabel('sepal width')\n",
    "plt.legend()"
   ]
  }
 ],
 "metadata": {
  "kernelspec": {
   "display_name": "Python 3",
   "language": "python",
   "name": "python3"
  },
  "language_info": {
   "codemirror_mode": {
    "name": "ipython",
    "version": 3
   },
   "file_extension": ".py",
   "mimetype": "text/x-python",
   "name": "python",
   "nbconvert_exporter": "python",
   "pygments_lexer": "ipython3",
   "version": "3.8.8"
  },
  "toc": {
   "base_numbering": 1,
   "nav_menu": {},
   "number_sections": true,
   "sideBar": true,
   "skip_h1_title": false,
   "title_cell": "Table of Contents",
   "title_sidebar": "Contents",
   "toc_cell": false,
   "toc_position": {},
   "toc_section_display": true,
   "toc_window_display": true
  }
 },
 "nbformat": 4,
 "nbformat_minor": 5
}
