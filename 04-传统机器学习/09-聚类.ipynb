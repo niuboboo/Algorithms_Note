{
 "cells": [
  {
   "cell_type": "markdown",
   "id": "be5f548b",
   "metadata": {},
   "source": [
    "## 聚类理论基础"
   ]
  },
  {
   "cell_type": "markdown",
   "id": "a53fea23",
   "metadata": {},
   "source": [
    "### 聚类任务-整体介绍聚类算法"
   ]
  },
  {
   "cell_type": "markdown",
   "id": "17c6b02f",
   "metadata": {},
   "source": [
    "### 性能度量-衡量聚类的有效性"
   ]
  },
  {
   "cell_type": "markdown",
   "id": "b32f9e1c",
   "metadata": {},
   "source": [
    "### 距离计算"
   ]
  },
  {
   "cell_type": "markdown",
   "id": "d04dfd76",
   "metadata": {},
   "source": [
    "## 聚类方法"
   ]
  },
  {
   "cell_type": "markdown",
   "id": "9c9e5ee7",
   "metadata": {},
   "source": [
    "### 原型聚类"
   ]
  },
  {
   "cell_type": "markdown",
   "id": "0321d17f",
   "metadata": {},
   "source": [
    "1. kmeans\n",
    "2. 学习向量化\n",
    "3. 高斯混合聚类"
   ]
  },
  {
   "cell_type": "markdown",
   "id": "d895d372",
   "metadata": {},
   "source": [
    "### 密度聚类"
   ]
  },
  {
   "cell_type": "markdown",
   "id": "6745c86b",
   "metadata": {},
   "source": [
    "DBSCAN"
   ]
  },
  {
   "cell_type": "markdown",
   "id": "6d21d6d3",
   "metadata": {},
   "source": [
    "### 层次聚类"
   ]
  },
  {
   "cell_type": "markdown",
   "id": "bb7e753e",
   "metadata": {},
   "source": [
    "AGNES"
   ]
  },
  {
   "cell_type": "code",
   "execution_count": null,
   "id": "0e648611",
   "metadata": {},
   "outputs": [],
   "source": []
  }
 ],
 "metadata": {
  "kernelspec": {
   "display_name": "Python 3",
   "language": "python",
   "name": "python3"
  },
  "language_info": {
   "codemirror_mode": {
    "name": "ipython",
    "version": 3
   },
   "file_extension": ".py",
   "mimetype": "text/x-python",
   "name": "python",
   "nbconvert_exporter": "python",
   "pygments_lexer": "ipython3",
   "version": "3.8.8"
  },
  "toc": {
   "base_numbering": 1,
   "nav_menu": {},
   "number_sections": true,
   "sideBar": true,
   "skip_h1_title": false,
   "title_cell": "Table of Contents",
   "title_sidebar": "Contents",
   "toc_cell": false,
   "toc_position": {},
   "toc_section_display": true,
   "toc_window_display": true
  }
 },
 "nbformat": 4,
 "nbformat_minor": 5
}
