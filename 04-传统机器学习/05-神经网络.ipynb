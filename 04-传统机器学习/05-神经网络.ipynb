{
 "cells": [
  {
   "cell_type": "markdown",
   "id": "a66244a2",
   "metadata": {},
   "source": [
    "## 什么是神经网络"
   ]
  },
  {
   "cell_type": "markdown",
   "id": "263c8261",
   "metadata": {},
   "source": [
    "### 神经元模型"
   ]
  },
  {
   "cell_type": "markdown",
   "id": "e9e175bc",
   "metadata": {},
   "source": [
    "### 感知机与多层网络"
   ]
  },
  {
   "cell_type": "markdown",
   "id": "454c5f86",
   "metadata": {},
   "source": [
    "#### 感知机导论\n",
    "\n",
    "分出两类数据点可以有很多条线。那如何定义一条好的线呢？\n",
    "\n",
    "- 如果我们把所有**分错的点**和直线的**距离求和**，让这段求和的**距离最小**，这条直线就是我们要找的。\n",
    "\n",
    "对于划分感知机的线我们可以描述为：\n",
    "\n",
    "1. 一条直线不分错一个点，这就是好的直线；\n",
    "2. 模型要尽可能找到好的直线；\n",
    "3. 如果没有好的直线，在差的直线中找到较好的直线；\n",
    "4. 判断直线多差的方式：分错的点到直线的距离求和。\n",
    "\n",
    "感知机模型的终极目标是学习一个函数$f(x)$:\n",
    "\n",
    "$$\n",
    "f(x) = sign(w · x + b)\n",
    "$$\n",
    "\n",
    "其中: 当$x \\geq 0$的时候, $sign(x) = + 1$; 当$x \\leq 0$的时候，$sign(x) = -1$。$w · x + b$是超平面。\n",
    "\n",
    "#### 感知机学习策略\n",
    "\n",
    "正式来说$w · x + b$是一个$n$维空间的超平面$S$, 其中$w$是超平面的法向量，$b$是超平面的截距，这个超平面将特征空间划分成两部分，位于两部分的点分别被分为正负两类，所以，超平面$S$称为分离超平面。\n",
    "\n",
    "$w$是超平面的法向量，$b$是超平面的截距，特征空间也就是整个$n$维空间，样本的每个属性都叫一个特征，**特征空间**的意思是在这个空间中可以找到样本所有的属性组合。\n",
    "\n",
    "##### 函数间隔\n",
    "\n",
    "**函数间隔**定义为：\n",
    "\n",
    "$$\n",
    "y_{0}(w * x_{0} + b)\n",
    "$$\n",
    "\n",
    "为了能够使得确定该样本是正例还是反例的置信程度最大。当$y_{0}=1$的时候，我们希望$w * x_{0} + b$能够最大，反之则希望其最小。但是函数间隔会随着参数$w$和$b$的增大或缩小，等比例增大或缩小。\n",
    "\n",
    "##### 几何间隔\n",
    "\n",
    "**几何间隔**定义为：\n",
    "\n",
    "$$\n",
    "d=\\frac{\\left|w \\cdot x_{0}+b \\right|}{\\|w\\|}\n",
    "$$\n",
    "\n",
    "其中$\\|w\\|_{2}=\\sqrt{\\sum_{i=1}^{N}w_{i}^{2}}$。所以当$w$或者$b$等比例放大的时候，放大的参数可以单独提出来然后消掉。\n",
    "\n",
    "##### 超平面的构造\n",
    "\n",
    "#### 感知机的学习算法\n",
    "\n",
    "对于误分类数据而言, 有：\n",
    "\n",
    "$$\n",
    "-y_{i}(w · x_{i} + b) > 0\n",
    "$$\n",
    "\n",
    "误分类点$x_{i}$到超平面$S$的距离为：\n",
    "\n",
    "$$\n",
    "-\\frac{1}{\\|w\\|}y_{i}(w · x_{i} + b)\n",
    "$$\n",
    "\n",
    "因此，所有误分类点到超平面$S$的总距离为：\n",
    "\n",
    "$$\n",
    "-\\frac{1}{\\|w\\|} \\sum_{x_{i} \\in M}y_{i}(w · x_{i} + b)\n",
    "$$\n",
    "\n",
    "我们希望所有误分类点到超平面距离最小。可以采用梯度下降法极小化目标函数：\n",
    "\n",
    "$$\n",
    "L(w, b) = - \\sum_{x_{i} \\in M}y_{i}(w · x_{i} + b)\n",
    "$$\n",
    "\n",
    "##### 原始形式\n",
    "\n",
    "感知机是一个误分类驱动的算法，最后是期望没有一个误分类点，所以这里采用函数间隔也没有什么大问题，因为最终的结果只是期望没有分类错误的点。如果没有分类错误的点的话，目标函数就会失效，对于整个算法目标来说，就没有什么意义了。这一点也侧面反映了感知机只能在线性可分的数据集上达到比较好的效果。\n",
    "\n",
    "对目标函数**求梯度**，我们有：\n",
    "\n",
    "$$\n",
    "\\nabla_{w} L(w, b)=-\\sum_{x_{i} \\in M} y_{i} x_{i}\n",
    "$$\n",
    "\n",
    "$$\n",
    "\\nabla_{b} L(w, b)=-\\sum_{x_{i} \\in M} y_{i}\n",
    "$$\n",
    "\n",
    "最后依据梯度下降法我们可以更新参数$w$和$b$:\n",
    "\n",
    "$$\n",
    "\\begin{aligned}\n",
    "&w \\leftarrow w+\\eta y_{i} x_{i} \\\\\n",
    "&b \\leftarrow b+\\eta y_{i}\n",
    "\\end{aligned}\n",
    "$$\n",
    "\n",
    "这里是减去一个负号，最终变成了加号。\n",
    "\n",
    "##### 对偶形式\n",
    "\n",
    "感知机的原始形式中计算存在冗余，如果初始$w=0$，根据上方参数更新公式$w=w+\\eta y_ix_i$，可以知道$w$其实是$\\{y_1x_1,y_2x_2,...,y_Nx_N\\}$的线性组合（$N$表示训练样本量），所以$w$可以表示为：  \n",
    "\n",
    "$$\n",
    "w=\\sum_{i=1}^N\\alpha_i y_ix_i\n",
    "$$  \n",
    "\n",
    "所以对于原始优化变量$w$的求解，改变为对优化变量$\\alpha=[\\alpha_1,\\alpha_2,...,\\alpha_N]^T$的求解；原来对于误分类点$(x_i,y_i)$的参数更新公式$w=w+\\eta y_ix_i$可以换成：  \n",
    "\n",
    "$$\n",
    "\\alpha_i=\\alpha_i+\\eta\n",
    "$$  \n",
    "\n",
    "##### 算法收敛性\n",
    "\n",
    "#### 例子\n",
    "\n",
    "##### 问题描述\n",
    "\n",
    "&emsp;&emsp;训练数据集中，正例点为$x_{1}=(3,3)^{T}$, $x_{2}=(4, 3)^{T}$, 负例点为$x_{3}=(1, 1)^{T}$。求解感知机模型$f(x)=sign(w · x + b)$, 其中$w = (w^{(1)}, w^{(2)})^{T}$, $x = (x^{(1)}, x^{(2)})^{T}$。\n",
    "\n",
    "##### 解\n",
    "\n",
    "1. 构建损失函数\n",
    "\n",
    "$$\n",
    "min L(w, b) = - \\sum_{x_{i} \\in M} y_{i}(w · x_{i} + b)\n",
    "$$\n",
    "\n",
    "2. 梯度下降求解$w,b$。设步长$\\eta$为1。\n",
    "\n",
    "    1) 取初值$w_{0}=0, b_{0}=0$。\n",
    "    \n",
    "    2）对于$x_{1}$而言，$y_{1}(w_{0} · x_{1} + b_{0})$未被正确分类，更新$w,b$。\n",
    "\n",
    "    此时：$w_{1}=w_{0} + x_{1}y_{1} = (3, 3)^{T}$, $b_{1}=b_{0} + y_{1}=1$，得到$w_{1}x + b_{1} = 3x^{(1)} + 3x^{(2)} + 1$。\n",
    "    \n",
    "    3） 对于$x_{1}, x_{2}$, 显然$y_{i}(w_{1}x_{i} + b_{1}) > 0$, 被正确分类，不作修改。对于$x_{3}$, $y_{3}(w_{1}x_{3} + b_{1}) < 0$, 被误分类，更新$w,b$。\n",
    "    此时：$w_{2}=w_{1} + x_{3}y_{3} = (2, 2)^{T}$, $b_{2}=b_{1} + y_{3}=0$，得到$w_{2}x + b_{2} = 2x^{(1)} + 2x^{(2)} $。\n",
    "    \n",
    "#### 代码实战"
   ]
  },
  {
   "cell_type": "code",
   "execution_count": 1,
   "id": "b1a2d69a",
   "metadata": {},
   "outputs": [],
   "source": [
    "import numpy as np\n",
    "import os\n",
    "os.chdir('../')\n",
    "import matplotlib.pyplot as plt\n",
    "%matplotlib inline"
   ]
  },
  {
   "cell_type": "code",
   "execution_count": 2,
   "id": "1f5bcb05",
   "metadata": {},
   "outputs": [],
   "source": [
    "class Perceptron(object):\n",
    "    def __init__(self, epochs=10, eta=None):\n",
    "        self.w = None\n",
    "        self.epochs = epochs\n",
    "        self.eta = eta\n",
    "\n",
    "    def init_params(self, n_features):\n",
    "        \"\"\"\n",
    "        初始化参数\n",
    "        :return:\n",
    "        \"\"\"\n",
    "        self.w = np.random.random(size=(n_features + 1, 1))\n",
    "\n",
    "    def fit(self, x, y):\n",
    "        \"\"\"\n",
    "        :param x: ndarray格式数据: m x n\n",
    "        :param y: ndarray格式数据: m x 1\n",
    "        :return:\n",
    "        \"\"\"\n",
    "        # 设置学习率\n",
    "        if self.eta is None:\n",
    "            self.eta = max(1e-2, 1.0 / np.sqrt(x.shape[0]))\n",
    "        y = y.reshape(-1, 1)\n",
    "        y[y == 0] = -1  # 将标签为0的数据设置为-1。\n",
    "        # 初始化参数w,b\n",
    "        n_samples, n_features = x.shape\n",
    "        self.init_params(n_features)\n",
    "        x = np.c_[x, np.ones(shape=(n_samples, ))]\n",
    "        x_y = np.c_[x, y]\n",
    "\n",
    "        for _ in range(self.epochs):\n",
    "            error_sum = 0\n",
    "            np.random.shuffle(x_y)\n",
    "            for index in range(0, n_samples):\n",
    "                x_i = x_y[index, :-1]\n",
    "                y_i = x_y[index, -1:]\n",
    "                # 更新错分点的参数\n",
    "                if (x_i.dot(self.w) * y_i)[0] < 0:\n",
    "                    dw = (-x_i * y_i).reshape(-1, 1)\n",
    "                    self.w = self.w - self.eta * dw\n",
    "                    error_sum += 1\n",
    "            if error_sum == 0:\n",
    "                break\n",
    "\n",
    "    def get_params(self):\n",
    "        \"\"\"\n",
    "        输出原始的系数\n",
    "        :return: w\n",
    "        \"\"\"\n",
    "\n",
    "        return self.w\n",
    "\n",
    "    def predict(self, x):\n",
    "        \"\"\"\n",
    "        :param x:ndarray格式数据: m x n\n",
    "        :return: m x 1\n",
    "        \"\"\"\n",
    "        n_samples = x.shape[0]\n",
    "        x = np.c_[x, np.ones(shape=(n_samples,))]\n",
    "        return (x.dot(self.w) > 0).astype(int)\n",
    "\n",
    "    def predict_proba(self, x):\n",
    "        \"\"\"\n",
    "        :param x:ndarray格式数据: m x n\n",
    "        :return: m x 1\n",
    "        \"\"\"\n",
    "        n_samples = x.shape[0]\n",
    "        x = np.c_[x, np.ones(shape=(n_samples,))]\n",
    "        return utils.sigmoid(x.dot(self.w))\n",
    "\n",
    "    def plot_decision_boundary(self, x, y):\n",
    "        \"\"\"\n",
    "        绘制前两个维度的决策边界\n",
    "        :param x:\n",
    "        :param y:\n",
    "        :return:\n",
    "        \"\"\"\n",
    "        weights = self.get_params()\n",
    "        w1 = weights[0][0]\n",
    "        w2 = weights[1][0]\n",
    "        bias = weights[-1][0]\n",
    "        x1 = np.arange(np.min(x), np.max(x), 0.1)\n",
    "        x2 = -w1 / w2 * x1 - bias / w2\n",
    "        plt.scatter(x[:, 0], x[:, 1], c=y, s=50)\n",
    "        plt.plot(x1, x2, 'r')\n",
    "        plt.show()"
   ]
  },
  {
   "cell_type": "markdown",
   "id": "3cb1e506",
   "metadata": {},
   "source": [
    "##### 导入二分类数据集"
   ]
  },
  {
   "cell_type": "code",
   "execution_count": 3,
   "id": "810dd0bf",
   "metadata": {},
   "outputs": [],
   "source": [
    "from sklearn.datasets import make_classification\n",
    "data,target=make_classification(n_samples=200, n_features=2,n_classes=2,n_informative=1,\n",
    "                                n_redundant=0,n_repeated=0,n_clusters_per_class=1)"
   ]
  },
  {
   "cell_type": "code",
   "execution_count": 4,
   "id": "56145839",
   "metadata": {},
   "outputs": [
    {
     "data": {
      "text/plain": [
       "<matplotlib.collections.PathCollection at 0x7ff80fdf14f0>"
      ]
     },
     "execution_count": 4,
     "metadata": {},
     "output_type": "execute_result"
    },
    {
     "data": {
      "image/png": "[encoded data removed]",
      "text/plain": [
       "<Figure size 432x288 with 1 Axes>"
      ]
     },
     "metadata": {
      "needs_background": "light"
     },
     "output_type": "display_data"
    }
   ],
   "source": [
    "plt.scatter(data[:, 0], data[:, 1], c=target,s=50)"
   ]
  },
  {
   "cell_type": "markdown",
   "id": "4d17f7e9",
   "metadata": {},
   "source": [
    "##### 实例化模型, 拟合数据"
   ]
  },
  {
   "cell_type": "code",
   "execution_count": 5,
   "id": "91f78917",
   "metadata": {},
   "outputs": [],
   "source": [
    "perceptron = Perceptron()  # 训练模型\n",
    "perceptron.fit(data, target)"
   ]
  },
  {
   "cell_type": "code",
   "execution_count": 6,
   "id": "242b1e21",
   "metadata": {},
   "outputs": [
    {
     "data": {
      "image/png": "[encoded data removed]",
      "text/plain": [
       "<Figure size 432x288 with 1 Axes>"
      ]
     },
     "metadata": {
      "needs_background": "light"
     },
     "output_type": "display_data"
    }
   ],
   "source": [
    "perceptron.plot_decision_boundary(data,target)"
   ]
  },
  {
   "cell_type": "markdown",
   "id": "115d27dc",
   "metadata": {},
   "source": [
    "##### 对偶方法求解问题"
   ]
  },
  {
   "cell_type": "code",
   "execution_count": 7,
   "id": "a5a00485",
   "metadata": {},
   "outputs": [],
   "source": [
    "class Perceptron(object):\n",
    "    def __init__(self, epochs=10, eta=None, mode=None):\n",
    "        self.w = None\n",
    "        self.epochs = epochs\n",
    "        self.eta = eta\n",
    "        self.mode = mode\n",
    "\n",
    "    def init_params(self, n_features):\n",
    "        \"\"\"\n",
    "        初始化参数\n",
    "        :return:\n",
    "        \"\"\"\n",
    "        self.w = np.random.random(size=(n_features + 1, 1))\n",
    "\n",
    "    def _dual_fit(self, x, y, sample_weight):\n",
    "        \"\"\"\n",
    "        模型训练的对偶形式\n",
    "        :param x:\n",
    "        :param y:\n",
    "        :return:\n",
    "        \"\"\"\n",
    "        y = y.reshape(-1, 1)\n",
    "        y[y == 0] = -1\n",
    "\n",
    "        n_samples, n_features = x.shape\n",
    "\n",
    "        # 初始化参数\n",
    "        self.alpha = np.zeros(shape=(n_samples, 1))\n",
    "\n",
    "        x = np.c_[x, np.ones(shape=(n_samples,))]\n",
    "\n",
    "        for _ in range(self.epochs):\n",
    "            error_sum = 0\n",
    "            indices = list(range(0, n_samples))\n",
    "            np.random.shuffle(indices)\n",
    "            for index in indices:\n",
    "                x_i = x[index, :]\n",
    "                y_i = y[index]\n",
    "                # 更新错分点的参数，（注意需要有等号，因为初始化的alpha全为0）\n",
    "                if (x_i.dot(x.T.dot(self.alpha * y)) * y_i)[0] <= 0:\n",
    "                    self.alpha[index] += self.eta * sample_weight[index]\n",
    "                    error_sum += 1\n",
    "            if error_sum == 0:\n",
    "                break\n",
    "        # 更新回w\n",
    "        self.w = x.T.dot(self.alpha * y)\n",
    "\n",
    "    def fit(self, x, y, sample_weight=None):\n",
    "        \"\"\"\n",
    "        :param x: ndarray格式数据: m x n\n",
    "        :param y: ndarray格式数据: m x 1\n",
    "        :param sample_weight: mx1,样本权重\n",
    "        :return:\n",
    "        \"\"\"\n",
    "        n_sample = x.shape[0]\n",
    "        if sample_weight is None:\n",
    "            sample_weight = np.asarray([1.0] * n_sample)\n",
    "        else:\n",
    "            sample_weight = sample_weight\n",
    "        # check sample_weight\n",
    "        if len(sample_weight) != n_sample:\n",
    "            raise Exception('sample_weight size error:', len(sample_weight))\n",
    "        # 设置学习率\n",
    "        if self.eta is None:\n",
    "            self.eta = max(1e-2, 1.0 / np.sqrt(x.shape[0]))\n",
    "        if self.mode == \"dual\":\n",
    "            self._dual_fit(x, y, sample_weight)\n",
    "            return\n",
    "        y = y.reshape(-1, 1)\n",
    "        y[y == 0] = -1\n",
    "        # 初始化参数w,b\n",
    "        n_samples, n_features = x.shape\n",
    "        self.init_params(n_features)\n",
    "        x = np.c_[x, np.ones(shape=(n_samples,))]\n",
    "        x_y = np.c_[x, y]\n",
    "\n",
    "        for _ in range(self.epochs):\n",
    "            error_sum = 0\n",
    "            np.random.shuffle(x_y)\n",
    "            for index in range(0, n_samples):\n",
    "                x_i = x_y[index, :-1]\n",
    "                y_i = x_y[index, -1:]\n",
    "                # 更新错分点的参数\n",
    "                if (x_i.dot(self.w) * y_i)[0] < 0:\n",
    "                    dw = (-x_i * y_i).reshape(-1, 1)\n",
    "                    # 考虑sample_weight\n",
    "                    dw = dw * sample_weight[index]\n",
    "                    self.w = self.w - self.eta * dw\n",
    "                    error_sum += 1\n",
    "            if error_sum == 0:\n",
    "                break\n",
    "\n",
    "    def get_params(self):\n",
    "        \"\"\"\n",
    "        输出原始的系数\n",
    "        :return: w\n",
    "        \"\"\"\n",
    "\n",
    "        return self.w\n",
    "\n",
    "    def predict(self, x):\n",
    "        \"\"\"\n",
    "        :param x:ndarray格式数据: m x n\n",
    "        :return: m x 1\n",
    "        \"\"\"\n",
    "        return np.argmax(self.predict_proba(x), axis=1)\n",
    "\n",
    "    def predict_proba(self, x):\n",
    "        \"\"\"\n",
    "        :param x:ndarray格式数据: m x n\n",
    "        :return: m x 1\n",
    "        \"\"\"\n",
    "        n_samples = x.shape[0]\n",
    "        x = np.c_[x, np.ones(shape=(n_samples,))]\n",
    "        return np.c_[1.0 - utils.sigmoid(x.dot(self.w)), utils.sigmoid(x.dot(self.w))]\n",
    "\n",
    "    def plot_decision_boundary(self, x, y):\n",
    "        \"\"\"\n",
    "        绘制前两个维度的决策边界\n",
    "        :param x:\n",
    "        :param y:\n",
    "        :return:\n",
    "        \"\"\"\n",
    "        weights = self.get_params()\n",
    "        w1 = weights[0][0]\n",
    "        w2 = weights[1][0]\n",
    "        bias = weights[-1][0]\n",
    "        x1 = np.arange(np.min(x), np.max(x), 0.1)\n",
    "        x2 = -w1 / w2 * x1 - bias / w2\n",
    "        plt.scatter(x[:, 0], x[:, 1], c=y, s=50)\n",
    "        plt.plot(x1, x2, 'r')\n",
    "        plt.show()\n"
   ]
  },
  {
   "cell_type": "code",
   "execution_count": 8,
   "id": "ffa1b5ec",
   "metadata": {},
   "outputs": [],
   "source": [
    "perceptron = Perceptron(mode='dual')\n",
    "perceptron.fit(data, target)"
   ]
  },
  {
   "cell_type": "code",
   "execution_count": 9,
   "id": "d1d0b9ff",
   "metadata": {},
   "outputs": [
    {
     "data": {
      "image/png": "[encoded data removed]",
      "text/plain": [
       "<Figure size 432x288 with 1 Axes>"
      ]
     },
     "metadata": {
      "needs_background": "light"
     },
     "output_type": "display_data"
    }
   ],
   "source": [
    "perceptron.plot_decision_boundary(data,target) # 可以发现结果几乎一致"
   ]
  },
  {
   "cell_type": "markdown",
   "id": "eef94495",
   "metadata": {},
   "source": [
    "对偶形式的模型参数数量与训练样本量相当,对于海量训练样本而言，这样的参数数量无法接受，而且训练会很慢，那我们进一步考虑一下，这些参数中真正发挥作用的有多少呢？"
   ]
  },
  {
   "cell_type": "code",
   "execution_count": 10,
   "id": "204e3cdd",
   "metadata": {},
   "outputs": [
    {
     "data": {
      "text/plain": [
       "0.19"
      ]
     },
     "execution_count": 10,
     "metadata": {},
     "output_type": "execute_result"
    }
   ],
   "source": [
    "np.sum(perceptron.alpha!=0)/len(perceptron.alpha)"
   ]
  },
  {
   "cell_type": "markdown",
   "id": "6589e7ee",
   "metadata": {},
   "source": [
    "在所有训练样本中，真正能对模型提供帮助的其实仅占很少一部分，可以这样理解，当某个离决策超平面近的样本点满足某个条件时(大于0或者小于0)，和该样本点同侧且距离更远的样本自然也满足该条件，所以这些距离超平面远的点其实对模型没有帮助，所以我们只需要找到离决策超平面最近的几个样本点就可以将模型确定，这便是**支撑向量机(SVM)**的思想。"
   ]
  },
  {
   "cell_type": "markdown",
   "id": "d799e0ab",
   "metadata": {},
   "source": [
    "\n",
    "1. 感知机通过构造超平面的形式划分不同类的点。\n",
    "2. 感知机属于先行判别模型，因为它的判别边界是线性的。\n",
    "3. 函数间隔和几何间隔的区别。"
   ]
  },
  {
   "cell_type": "markdown",
   "id": "fd35831c",
   "metadata": {},
   "source": [
    "### 深度学习"
   ]
  },
  {
   "cell_type": "markdown",
   "id": "a8c1b2e6",
   "metadata": {},
   "source": [
    "## 神经网络的核心方法"
   ]
  },
  {
   "cell_type": "markdown",
   "id": "146fae7e",
   "metadata": {},
   "source": [
    "### 误差反向传播"
   ]
  },
  {
   "cell_type": "markdown",
   "id": "46954ab9",
   "metadata": {},
   "source": [
    "### 防止过拟合的办法\n",
    "\n",
    "1. 早停(early stop)\n",
    "2. 正则化 regularization\n",
    "3. drop out\n",
    "4. 共享权重"
   ]
  },
  {
   "cell_type": "markdown",
   "id": "c90953a5",
   "metadata": {},
   "source": [
    "## 其他"
   ]
  },
  {
   "cell_type": "markdown",
   "id": "8efab5f5",
   "metadata": {},
   "source": [
    "### 全局最小和局部最小"
   ]
  },
  {
   "cell_type": "markdown",
   "id": "41063ea5",
   "metadata": {},
   "source": [
    "### 常见的神经网络"
   ]
  },
  {
   "cell_type": "code",
   "execution_count": null,
   "id": "944b49d6",
   "metadata": {},
   "outputs": [],
   "source": []
  },
  {
   "cell_type": "code",
   "execution_count": null,
   "id": "ecbe37d2",
   "metadata": {},
   "outputs": [],
   "source": []
  }
 ],
 "metadata": {
  "kernelspec": {
   "display_name": "Python 3",
   "language": "python",
   "name": "python3"
  },
  "language_info": {
   "codemirror_mode": {
    "name": "ipython",
    "version": 3
   },
   "file_extension": ".py",
   "mimetype": "text/x-python",
   "name": "python",
   "nbconvert_exporter": "python",
   "pygments_lexer": "ipython3",
   "version": "3.8.8"
  },
  "toc": {
   "base_numbering": 1,
   "nav_menu": {},
   "number_sections": true,
   "sideBar": true,
   "skip_h1_title": false,
   "title_cell": "Table of Contents",
   "title_sidebar": "Contents",
   "toc_cell": false,
   "toc_position": {
    "height": "calc(100% - 180px)",
    "left": "10px",
    "top": "150px",
    "width": "384px"
   },
   "toc_section_display": true,
   "toc_window_display": true
  }
 },
 "nbformat": 4,
 "nbformat_minor": 5
}
