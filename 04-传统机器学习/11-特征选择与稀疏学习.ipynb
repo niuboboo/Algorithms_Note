{
 "cells": [
  {
   "cell_type": "markdown",
   "id": "5cc2d133",
   "metadata": {},
   "source": [
    "## 特征选择\n",
    "\n",
    "### 步骤\n",
    "\n",
    "1. 子集搜索->子集评价\n",
    "2. 过滤式(Relief)方法\n",
    "3. 包裹式(LVW)\n",
    "4. 嵌入式(L1正则化)\n",
    "\n",
    "### 方法\n",
    "\n",
    "## 稀疏学习\n",
    "\n",
    "### 稀疏表示与字典学习\n",
    "\n",
    "### 压缩感知"
   ]
  },
  {
   "cell_type": "code",
   "execution_count": null,
   "id": "1917131c",
   "metadata": {},
   "outputs": [],
   "source": []
  }
 ],
 "metadata": {
  "kernelspec": {
   "display_name": "Python 3",
   "language": "python",
   "name": "python3"
  },
  "language_info": {
   "codemirror_mode": {
    "name": "ipython",
    "version": 3
   },
   "file_extension": ".py",
   "mimetype": "text/x-python",
   "name": "python",
   "nbconvert_exporter": "python",
   "pygments_lexer": "ipython3",
   "version": "3.8.8"
  },
  "toc": {
   "base_numbering": 1,
   "nav_menu": {},
   "number_sections": true,
   "sideBar": true,
   "skip_h1_title": false,
   "title_cell": "Table of Contents",
   "title_sidebar": "Contents",
   "toc_cell": false,
   "toc_position": {},
   "toc_section_display": true,
   "toc_window_display": true
  }
 },
 "nbformat": 4,
 "nbformat_minor": 5
}
