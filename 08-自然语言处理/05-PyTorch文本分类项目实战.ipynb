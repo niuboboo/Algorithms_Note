{
 "cells": [
  {
   "cell_type": "markdown",
   "id": "a9253758",
   "metadata": {},
   "source": [
    "## 导入相关资源库"
   ]
  },
  {
   "cell_type": "code",
   "execution_count": 4,
   "id": "7dbfc088",
   "metadata": {},
   "outputs": [],
   "source": [
    "import torch\n",
    "import torch.nn as nn\n",
    "import torch.nn.functional as F\n",
    "import torchtext\n",
    "from torchtext.datasets import IMDB"
   ]
  },
  {
   "cell_type": "code",
   "execution_count": 5,
   "id": "0c78e6c6",
   "metadata": {},
   "outputs": [
    {
     "name": "stdout",
     "output_type": "stream",
     "text": [
      "Requirement already satisfied: torchtext in /Users/tinyzqh/miniforge3/lib/python3.9/site-packages (0.12.0)\n",
      "Requirement already satisfied: torch in /Users/tinyzqh/miniforge3/lib/python3.9/site-packages (from torchtext) (1.11.0)\n",
      "Requirement already satisfied: requests in /Users/tinyzqh/miniforge3/lib/python3.9/site-packages (from torchtext) (2.27.1)\n",
      "Requirement already satisfied: tqdm in /Users/tinyzqh/miniforge3/lib/python3.9/site-packages (from torchtext) (4.62.3)\n",
      "Requirement already satisfied: numpy in /Users/tinyzqh/miniforge3/lib/python3.9/site-packages (from torchtext) (1.22.2)\n",
      "Requirement already satisfied: urllib3<1.27,>=1.21.1 in /Users/tinyzqh/miniforge3/lib/python3.9/site-packages (from requests->torchtext) (1.26.8)\n",
      "Requirement already satisfied: charset-normalizer~=2.0.0 in /Users/tinyzqh/miniforge3/lib/python3.9/site-packages (from requests->torchtext) (2.0.11)\n",
      "Requirement already satisfied: idna<4,>=2.5 in /Users/tinyzqh/miniforge3/lib/python3.9/site-packages (from requests->torchtext) (3.3)\n",
      "Requirement already satisfied: certifi>=2017.4.17 in /Users/tinyzqh/miniforge3/lib/python3.9/site-packages (from requests->torchtext) (2021.10.8)\n",
      "Requirement already satisfied: typing-extensions in /Users/tinyzqh/miniforge3/lib/python3.9/site-packages (from torch->torchtext) (4.0.1)\n"
     ]
    }
   ],
   "source": [
    "!pip install torchtext # 安装指令\n",
    "from torchtext.datasets.imdb import NUM_LINES\n",
    "from torchtext.data import get_tokenizer\n",
    "from torchtext.vocab import build_vocab_from_iterator\n",
    "from torchtext.data.functional import to_map_style_dataset"
   ]
  },
  {
   "cell_type": "code",
   "execution_count": 6,
   "id": "fe518731",
   "metadata": {},
   "outputs": [],
   "source": [
    "import sys\n",
    "import os\n",
    "import logging\n",
    "logging.basicConfig(\n",
    "    level=logging.WARN,\n",
    "    stream=sys.stdout,\n",
    "    format=\"%(asctime)s (%(module)s:%(lineno)d) %(levelname)s: %(message)s\",\n",
    ")"
   ]
  },
  {
   "cell_type": "code",
   "execution_count": null,
   "id": "db6b93f9",
   "metadata": {},
   "outputs": [],
   "source": [
    "VOCAB_SIZE = 15000"
   ]
  },
  {
   "cell_type": "markdown",
   "id": "91094683",
   "metadata": {},
   "source": [
    "## 编写模型门控卷积模型"
   ]
  },
  {
   "cell_type": "markdown",
   "id": "6735a1da",
   "metadata": {},
   "source": [
    "门控卷积(`gated CNN`)\n",
    "\n",
    "初始化函数:\n",
    "\n",
    "1. `vocab_size`表示单词表的大小，是依据给定数据集获取得到的。用于构建`embedding_table`。\n",
    "2. `embedding_dim`是单词经过`embedding_table`得到的压缩表示，压缩的维度为`embedding_dim`。\n",
    "3. `num_class`表示为几分类问题。\n",
    "\n",
    "对文本的卷积一般都是一维卷积。卷积的第一个参数是输入通道数，之后是输出通道数，然后是`kernel size`，之后是一些额外的步长参数等。\n",
    "\n",
    "在处理文本时，通常是将`embedding`当作通道数，把一个句子中`token`的数目当作信号的长度，所以会把`embedding_dim`当作输入通道数设置卷积模型。\n",
    "\n",
    "在`forward`中，先将单词编码成`word_embedding`，然后设置转置，将`embedding_dim`这个维度转置在输入通道数上。\n",
    "\n",
    "```python\n",
    "H = A * torch.sigmoid(B)\n",
    "```\n",
    "\n",
    "门卷积的计算公式。"
   ]
  },
  {
   "cell_type": "code",
   "execution_count": null,
   "id": "1cf4dcdc",
   "metadata": {},
   "outputs": [],
   "source": [
    "# 第一期： 编写GCNN模型代码\n",
    "class GCNN(nn.Module):\n",
    "    def __init__(self, vocab_size=VOCAB_SIZE, embedding_dim=64, num_class=2):\n",
    "        super(GCNN, self).__init__()\n",
    "\n",
    "        self.embedding_table = nn.Embedding(vocab_size, embedding_dim)\n",
    "        nn.init.xavier_uniform_(self.embedding_table.weight)\n",
    "\n",
    "        self.conv_A_1 = nn.Conv1d(embedding_dim, 64, 15, stride=7)\n",
    "        self.conv_B_1 = nn.Conv1d(embedding_dim, 64, 15, stride=7)\n",
    "\n",
    "        self.conv_A_2 = nn.Conv1d(64, 64, 15, stride=7)\n",
    "        self.conv_B_2 = nn.Conv1d(64, 64, 15, stride=7)\n",
    "\n",
    "        self.output_linear1 = nn.Linear(64, 128)\n",
    "        self.output_linear2 = nn.Linear(128, num_class)\n",
    "\n",
    "    def forward(self, word_index):\n",
    "        # 定义GCN网络的算子操作流程，基于句子单词ID输入得到分类logits输出\n",
    "\n",
    "        # 1. 通过word_index得到word_embedding\n",
    "        # word_index shape:[bs, max_seq_len]\n",
    "        word_embedding = self.embedding_table(word_index) #[bs, max_seq_len, embedding_dim]\n",
    "\n",
    "        # 2. 编写第一层1D门卷积模块\n",
    "        word_embedding = word_embedding.transpose(1, 2) #[bs, embedding_dim, max_seq_len]\n",
    "        A = self.conv_A_1(word_embedding)\n",
    "        B = self.conv_B_1(word_embedding)\n",
    "        H = A * torch.sigmoid(B) #[bs, 64, max_seq_len]\n",
    "\n",
    "        A = self.conv_A_2(H)\n",
    "        B = self.conv_B_2(H)\n",
    "        H = A * torch.sigmoid(B) #[bs, 64, max_seq_len]\n",
    "\n",
    "        # 3. 池化并经过全连接层\n",
    "        pool_output = torch.mean(H, dim=-1) #平均池化，得到[bs, 64]\n",
    "        linear1_output = self.output_linear1(pool_output)\n",
    "        logits = self.output_linear2(linear1_output) #[bs, 2]\n",
    "\n",
    "        return logits"
   ]
  },
  {
   "cell_type": "markdown",
   "id": "ca87a916",
   "metadata": {},
   "source": [
    "## 简单文本分类模型\n",
    "\n",
    "函数签名与`GCNN`的一样，这里采用`nn.EmbeddingBag`编码词向量，`nn.EmbeddingBag`得到的是一个二维张量，它就没有`seqence length`。它是把这个单词的所有`word embedding`去做一个平均，然后再将这个平均的`embedding`经过一个全连接，得到最终分类的`logits`。"
   ]
  },
  {
   "cell_type": "code",
   "execution_count": null,
   "id": "eaeaf831",
   "metadata": {},
   "outputs": [],
   "source": [
    "class TextClassificationModel(nn.Module):\n",
    "    \"\"\" 简单版embeddingbag+DNN模型 \"\"\"\n",
    "\n",
    "    def __init__(self, vocab_size=VOCAB_SIZE, embed_dim=64, num_class=2):\n",
    "        super(TextClassificationModel, self).__init__()\n",
    "        self.embedding = nn.EmbeddingBag(vocab_size, embed_dim, sparse=False)\n",
    "        self.fc = nn.Linear(embed_dim, num_class)\n",
    "\n",
    "    def forward(self, token_index):\n",
    "        embedded = self.embedding(token_index) # shape: [bs, embedding_dim]\n",
    "        return self.fc(embedded)"
   ]
  },
  {
   "cell_type": "markdown",
   "id": "7309cefc",
   "metadata": {},
   "source": [
    "## 数据处理\n",
    "\n",
    "之后就是如何处理数据，如何把数据通过一个`mini-batch`的方式传入到模型中去。\n",
    "\n",
    "`IMDB`函数能够获取`train data iter`, `comment`传入到`tokenizer`中就能够把一句话变成一个列表。比如`“nice to meet you”`转换之后就变成了`[\"nice\", \"to\", \"meet\", \"you\"]`。`min_freq=20`表示只考虑那些出现次数大于`20`的`token`，少于`20`的用`specials=[\"<unk>\"]`代替。\n",
    "\n",
    "之后我们把特殊字符的索引设置为`0`。"
   ]
  },
  {
   "cell_type": "code",
   "execution_count": null,
   "id": "96922d1e",
   "metadata": {},
   "outputs": [],
   "source": [
    "# step2 构建IMDB DataLoader\n",
    "\n",
    "BATCH_SIZE = 64\n",
    "\n",
    "def yield_tokens(train_data_iter, tokenizer):\n",
    "    for i, sample in enumerate(train_data_iter):\n",
    "        label, comment = sample\n",
    "        yield tokenizer(comment)\n",
    "\n",
    "train_data_iter = IMDB(root='.data', split='train') # Dataset类型的对象\n",
    "tokenizer = get_tokenizer(\"basic_english\")\n",
    "vocab = build_vocab_from_iterator(yield_tokens(train_data_iter, tokenizer), min_freq=20, specials=[\"<unk>\"])\n",
    "vocab.set_default_index(0)\n",
    "print(f\"单词表大小: {len(vocab)}\")"
   ]
  },
  {
   "cell_type": "markdown",
   "id": "3c273174",
   "metadata": {},
   "source": [
    "## 训练方法"
   ]
  },
  {
   "cell_type": "code",
   "execution_count": null,
   "id": "5af92f85",
   "metadata": {},
   "outputs": [],
   "source": [
    "# step3 编写训练代码\n",
    "def train(train_data_loader, eval_data_loader, model, optimizer, num_epoch, log_step_interval, save_step_interval, eval_step_interval, save_path, resume=\"\"):\n",
    "    \"\"\" 此处data_loader是map-style dataset \"\"\"\n",
    "    start_epoch = 0\n",
    "    start_step = 0\n",
    "    if resume != \"\":\n",
    "        #  加载之前训过的模型的参数文件\n",
    "        logging.warning(f\"loading from {resume}\")\n",
    "        checkpoint = torch.load(resume)\n",
    "        model.load_state_dict(checkpoint['model_state_dict'])\n",
    "        optimizer.load_state_dict(checkpoint['optimizer_state_dict'])\n",
    "        start_epoch = checkpoint['epoch']\n",
    "        start_step = checkpoint['step']\n",
    "\n",
    "    for epoch_index in range(start_epoch, num_epoch):\n",
    "        ema_loss = 0.\n",
    "        num_batches = len(train_data_loader)\n",
    "\n",
    "        for batch_index, (target, token_index) in enumerate(train_data_loader):\n",
    "            optimizer.zero_grad()\n",
    "            step = num_batches*(epoch_index) + batch_index + 1\n",
    "            logits = model(token_index)\n",
    "            bce_loss = F.binary_cross_entropy(torch.sigmoid(logits), F.one_hot(target, num_classes=2).to(torch.float32))\n",
    "            ema_loss = 0.9*ema_loss + 0.1*bce_loss\n",
    "            bce_loss.backward()\n",
    "            nn.utils.clip_grad_norm_(model.parameters(), 0.1)\n",
    "            optimizer.step()\n",
    "\n",
    "            if step % log_step_interval == 0:\n",
    "                logging.warning(f\"epoch_index: {epoch_index}, batch_index: {batch_index}, ema_loss: {ema_loss.item()}\")\n",
    "\n",
    "            if step % save_step_interval == 0:\n",
    "                os.makedirs(save_path, exist_ok=True)\n",
    "                save_file = os.path.join(save_path, f\"step_{step}.pt\")\n",
    "                torch.save({\n",
    "                    'epoch': epoch_index,\n",
    "                    'step': step,\n",
    "                    'model_state_dict': model.state_dict(),\n",
    "                    'optimizer_state_dict': optimizer.state_dict(),\n",
    "                    'loss': bce_loss,\n",
    "                }, save_file)\n",
    "                logging.warning(f\"checkpoint has been saved in {save_file}\")\n",
    "\n",
    "            if step % eval_step_interval == 0:\n",
    "                logging.warning(\"start to do evaluation...\")\n",
    "                model.eval()\n",
    "                ema_eval_loss = 0\n",
    "                total_acc_account = 0\n",
    "                total_account = 0\n",
    "                for eval_batch_index, (eval_target, eval_token_index) in enumerate(eval_data_loader):\n",
    "                    total_account += eval_target.shape[0]\n",
    "                    eval_logits = model(eval_token_index)\n",
    "                    total_acc_account += (torch.argmax(eval_logits, dim=-1) == eval_target).sum().item()\n",
    "                    eval_bce_loss = F.binary_cross_entropy(torch.sigmoid(eval_logits), F.one_hot(eval_target, num_classes=2).to(torch.float32))\n",
    "                    ema_eval_loss = 0.9*ema_eval_loss + 0.1*eval_bce_loss\n",
    "                acc = total_acc_account/total_account\n",
    "\n",
    "                logging.warning(f\"eval_ema_loss: {ema_eval_loss.item()}, eval_acc: {acc.item()}\")\n",
    "                model.train()\n"
   ]
  },
  {
   "cell_type": "markdown",
   "id": "fe000020",
   "metadata": {},
   "source": [
    "将iter style的dataset转换成map_style_dataset，iter style迭代器有个坏处，就是迭代完了就会变成空了。\n",
    "\n",
    "DataLoader生成索引，去dataset中获取数据，然后把这些样本组成一个mini-batch。但是dataset返回的mini-batch的数据长度可能不一致。这个时候我们就需要一个collate_fn对DataLoader生成的mini-batch后处理。"
   ]
  },
  {
   "cell_type": "code",
   "execution_count": null,
   "id": "39e4ae08",
   "metadata": {},
   "outputs": [],
   "source": [
    "def collate_fn(batch):\n",
    "    \"\"\" 对DataLoader所生成的mini-batch进行后处理 \"\"\"\n",
    "    target = []\n",
    "    token_index = []\n",
    "    max_length = 0\n",
    "    for i, (label, comment) in enumerate(batch):\n",
    "        tokens = tokenizer(comment)  # 分词\n",
    "\n",
    "        token_index.append(vocab(tokens))  # 转换成索引\n",
    "        if len(tokens) > max_length:\n",
    "            max_length = len(tokens)\n",
    "\n",
    "        if label == \"pos\":  # 正面的评论用0表示。\n",
    "            target.append(0)\n",
    "        else:\n",
    "            target.append(1)\n",
    "\n",
    "    token_index = [index + [0]*(max_length-len(index)) for index in token_index]\n",
    "    return (torch.tensor(target).to(torch.int64), torch.tensor(token_index).to(torch.int32))"
   ]
  },
  {
   "cell_type": "code",
   "execution_count": null,
   "id": "998c57fe",
   "metadata": {},
   "outputs": [],
   "source": [
    "\n",
    "# step4 测试代码\n",
    "if __name__ == \"__main__\":\n",
    "    model = GCNN()\n",
    "    #  model = TextClassificationModel()\n",
    "    print(\"模型总参数:\", sum(p.numel() for p in model.parameters()))\n",
    "    optimizer = torch.optim.Adam(model.parameters(), lr=0.001)\n",
    "\n",
    "    train_data_iter = IMDB(root='.data', split='train') # Dataset类型的对象\n",
    "    train_data_loader = torch.utils.data.DataLoader(to_map_style_dataset(train_data_iter), batch_size=BATCH_SIZE, collate_fn=collate_fn, shuffle=True)\n",
    "\n",
    "    eval_data_iter = IMDB(root='.data', split='test') # Dataset类型的对象\n",
    "    eval_data_loader = torch.utils.data.DataLoader(to_map_style_dataset(eval_data_iter), batch_size=8, collate_fn=collate_fn)\n",
    "    resume = \"\"\n",
    "\n",
    "    train(train_data_loader, eval_data_loader, model, optimizer, num_epoch=10, log_step_interval=20, save_step_interval=500, eval_step_interval=300, save_path=\"./logs_imdb_text_classification\", resume=resume)"
   ]
  }
 ],
 "metadata": {
  "kernelspec": {
   "display_name": "Python 3 (ipykernel)",
   "language": "python",
   "name": "python3"
  },
  "language_info": {
   "codemirror_mode": {
    "name": "ipython",
    "version": 3
   },
   "file_extension": ".py",
   "mimetype": "text/x-python",
   "name": "python",
   "nbconvert_exporter": "python",
   "pygments_lexer": "ipython3",
   "version": "3.9.4"
  },
  "toc": {
   "base_numbering": 1,
   "nav_menu": {},
   "number_sections": true,
   "sideBar": true,
   "skip_h1_title": false,
   "title_cell": "Table of Contents",
   "title_sidebar": "Contents",
   "toc_cell": false,
   "toc_position": {},
   "toc_section_display": true,
   "toc_window_display": true
  }
 },
 "nbformat": 4,
 "nbformat_minor": 5
}
