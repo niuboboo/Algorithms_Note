{
 "cells": [
  {
   "cell_type": "markdown",
   "id": "a9933915",
   "metadata": {},
   "source": [
    "## 异构图学习(heterogeneous graph learning)"
   ]
  },
  {
   "cell_type": "markdown",
   "id": "4a12b832",
   "metadata": {},
   "source": [
    "- **同构图**：节点和边的类型均只有一种，比如社交网络中只存在一种节点类型（用户节点）和一种边类型（用户-用户的连边）。\n",
    "\n",
    "- **异构图**：节点的类型或者边的类型有多种，比如论文引用网络，节点有两种类型（作者节点和文章节点），边的类型有作者-作者间的共同创作关系，作者-文章间的从属关系，文章-文章间的引用关系。\n",
    "\n",
    "- **属性图**：图的节点上存在初始属性，可以用作后续节点的特征。\n",
    "\n",
    "- **动态图**：图中的节点或者边都是随着时间变化的，可能增加也可能减少，每个时刻用一个图表示。\n",
    "\n",
    "- **关系图**：图表示了一种节点之间的隐含关系，比如知识图谱。"
   ]
  },
  {
   "cell_type": "markdown",
   "id": "4aeec198",
   "metadata": {},
   "source": [
    "## 示例图\n",
    "\n",
    "&emsp;&emsp;看一下来自[OGB](https://ogb.stanford.edu/)数据集的异构[ogbn-mag](https://ogb.stanford.edu/docs/nodeprop/)网络：\n",
    "\n",
    "<img src=\"../../images/12-hg_example.svg\" width=\"60%\">"
   ]
  },
  {
   "cell_type": "code",
   "execution_count": 5,
   "id": "a68487f4",
   "metadata": {},
   "outputs": [
    {
     "name": "stdout",
     "output_type": "stream",
     "text": [
      "node_nums\n",
      " 1939743\n",
      "edge_nums\n",
      " 21111007\n"
     ]
    }
   ],
   "source": [
    "node_nums = 59965 + 736389 + 1134649 + 8740\n",
    "edge_nums = 7505078 + 5416271 + 7145660 + 1043998\n",
    "print(\"node_nums\\n\", node_nums)\n",
    "print('edge_nums\\n', edge_nums)"
   ]
  },
  {
   "cell_type": "markdown",
   "id": "c514388f",
   "metadata": {},
   "source": [
    "&emsp;&emsp;给定的异构图有 1,939,743 个节点，分为作者、论文、机构和研究领域四种节点类型。\n",
    "\n",
    "&emsp;&emsp;它还有 21,111,007 条边，它们也是以下四种类型之一：\n",
    "\n",
    "- writes：作者写了一篇特定的论文\n",
    "\n",
    "- 隶属于：作者隶属于特定机构\n",
    "\n",
    "- cites：一篇论文引用了另一篇论文\n",
    "\n",
    "- has topic : 一篇论文有一个特定研究领域的主题\n",
    "\n",
    "&emsp;&emsp;该图的任务是根据存储在图中的信息推断每篇论文所在的场所venue（会议或者期刊），在ogbn-mag中总共有349个不同的venue，使任务成为349类的分类问题；"
   ]
  },
  {
   "cell_type": "markdown",
   "id": "77197bf7",
   "metadata": {},
   "source": [
    "## 创建异构图\n",
    "\n",
    "&emsp;&emsp;我们可以创建一个类型`torch_geometric.data.HeteroData`的数据对象，为每个类型分别定义节点特征张量、边缘索引张量和边缘特征张量。\n",
    "\n",
    "```python\n",
    "data = HeteroData()\n",
    "\n",
    "data['paper'].x = ... # [num_papers, num_features_paper]\n",
    "data['author'].x = ... # [num_authors, num_features_author]\n",
    "data['institution'].x = ... # [num_institutions, num_features_institution]\n",
    "data['field_of_study'].x = ... # [num_field, num_features_field]\n",
    "\n",
    "data['paper', 'cites', 'paper'].edge_index = ... # [2, num_edges_cites]\n",
    "data['author', 'writes', 'paper'].edge_index = ... # [2, num_edges_writes]\n",
    "data['author', 'affiliated_with', 'institution'].edge_index = ... # [2, num_edges_affiliated]\n",
    "data['author', 'has_topic', 'institution'].edge_index = ... # [2, num_edges_topic]\n",
    "\n",
    "data['paper', 'cites', 'paper'].edge_attr = ... # [num_edges_cites, num_features_cites]\n",
    "data['author', 'writes', 'paper'].edge_attr = ... # [num_edges_writes, num_features_writes]\n",
    "data['author', 'affiliated_with', 'institution'].edge_attr = ... # [num_edges_affiliated, num_features_affiliated]\n",
    "data['paper', 'has_topic', 'field_of_study'].edge_attr = ... # [num_edges_topic, num_features_topic]\n",
    "```"
   ]
  },
  {
   "cell_type": "markdown",
   "id": "81d2a43f",
   "metadata": {},
   "source": [
    "&emsp;&emsp;节点或边张量将在第一次访问时自动创建并由字符串键索引。节点类型由单个字符串标识，而边类型使用三元组字符串标识：边类型标识符和边类型可以存在的两个节点类型。因此，数据对象允许每种类型具有不同的特征维度。(source_node_type, edge_type, destination_node_type)。"
   ]
  },
  {
   "cell_type": "markdown",
   "id": "97fa79fc",
   "metadata": {},
   "source": [
    "&emsp;&emsp;包含按属性名称而不是按节点或边类型分组的异构信息的字典可以直接访问，`data.{attribute_name}_dict`并在以后作为`GNN`模型的输入：\n",
    "\n",
    "```python\n",
    "model = HeteroGNN(...)\n",
    "\n",
    "output = model(data.x_dict, data.edge_index_dict, data.edge_attr_dict)\n",
    "```"
   ]
  },
  {
   "cell_type": "code",
   "execution_count": 7,
   "id": "b8647ba2",
   "metadata": {},
   "outputs": [
    {
     "ename": "ImportError",
     "evalue": "cannot import name 'OGB_MAG' from 'torch_geometric.datasets' (/Users/hezhiqiang01/Desktop/anaconda/anaconda3/envs/ecole/lib/python3.9/site-packages/torch_geometric/datasets/__init__.py)",
     "output_type": "error",
     "traceback": [
      "\u001b[0;31m---------------------------------------------------------------------------\u001b[0m",
      "\u001b[0;31mImportError\u001b[0m                               Traceback (most recent call last)",
      "\u001b[0;32m/var/folders/62/8d2vj9r962zftg9n42v8j4n40000gn/T/ipykernel_88876/2945034426.py\u001b[0m in \u001b[0;36m<module>\u001b[0;34m\u001b[0m\n\u001b[0;32m----> 1\u001b[0;31m \u001b[0;32mfrom\u001b[0m \u001b[0mtorch_geometric\u001b[0m\u001b[0;34m.\u001b[0m\u001b[0mdatasets\u001b[0m \u001b[0;32mimport\u001b[0m \u001b[0mOGB_MAG\u001b[0m\u001b[0;34m\u001b[0m\u001b[0;34m\u001b[0m\u001b[0m\n\u001b[0m\u001b[1;32m      2\u001b[0m \u001b[0;34m\u001b[0m\u001b[0m\n",
      "\u001b[0;31mImportError\u001b[0m: cannot import name 'OGB_MAG' from 'torch_geometric.datasets' (/Users/hezhiqiang01/Desktop/anaconda/anaconda3/envs/ecole/lib/python3.9/site-packages/torch_geometric/datasets/__init__.py)"
     ]
    }
   ],
   "source": [
    "from torch_geometric.datasets import OGB_MAG\n",
    "\n",
    "dataset = OGB_MAG(root='./data', preprocess='metapath2vec')\n",
    "data = dataset[0]"
   ]
  },
  {
   "cell_type": "code",
   "execution_count": null,
   "id": "6d68546e",
   "metadata": {},
   "outputs": [],
   "source": []
  },
  {
   "cell_type": "code",
   "execution_count": null,
   "id": "12f3781c",
   "metadata": {},
   "outputs": [],
   "source": []
  },
  {
   "cell_type": "code",
   "execution_count": null,
   "id": "d273d2e7",
   "metadata": {},
   "outputs": [],
   "source": []
  },
  {
   "cell_type": "code",
   "execution_count": null,
   "id": "2f607e80",
   "metadata": {},
   "outputs": [],
   "source": []
  },
  {
   "cell_type": "code",
   "execution_count": null,
   "id": "3f4d7e1c",
   "metadata": {},
   "outputs": [],
   "source": []
  },
  {
   "cell_type": "code",
   "execution_count": null,
   "id": "899e2e26",
   "metadata": {},
   "outputs": [],
   "source": []
  }
 ],
 "metadata": {
  "kernelspec": {
   "display_name": "ecole",
   "language": "python",
   "name": "ecole"
  },
  "language_info": {
   "codemirror_mode": {
    "name": "ipython",
    "version": 3
   },
   "file_extension": ".py",
   "mimetype": "text/x-python",
   "name": "python",
   "nbconvert_exporter": "python",
   "pygments_lexer": "ipython3",
   "version": "3.9.6"
  },
  "toc": {
   "base_numbering": 1,
   "nav_menu": {},
   "number_sections": true,
   "sideBar": true,
   "skip_h1_title": false,
   "title_cell": "Table of Contents",
   "title_sidebar": "Contents",
   "toc_cell": false,
   "toc_position": {},
   "toc_section_display": true,
   "toc_window_display": true
  }
 },
 "nbformat": 4,
 "nbformat_minor": 5
}
