{
 "cells": [
  {
   "cell_type": "markdown",
   "id": "ab7f2289",
   "metadata": {},
   "source": [
    "## Groubi基本操作"
   ]
  },
  {
   "cell_type": "markdown",
   "id": "268bd36e",
   "metadata": {},
   "source": [
    "&emsp;&emsp;安装：\n",
    "- conda install -c gurobi gurobi"
   ]
  },
  {
   "cell_type": "markdown",
   "id": "0a16473a",
   "metadata": {},
   "source": [
    "## Gurobi建模过程\n",
    "\n",
    "1. `Problem Instance`:待优化问题。\n",
    "2. `Model Generator`: 将数据组合成模型, 产生计算机模型对象。\n",
    "3. `Model Instance`: 存在于内存的一个完整数学模型。\n",
    "4. `Gurobi Optimizer`: `Gurobi`优化求解。\n",
    "5. `Solution Retrieval`: 根据需要读取优化结果。\n",
    "\n",
    "&emsp;&emsp;循环往复，直到获得满意结果。"
   ]
  },
  {
   "cell_type": "markdown",
   "id": "1919c3fc",
   "metadata": {},
   "source": [
    "## Gurobi建模基本概念\n",
    "\n",
    "1. Parameter(参数)控制优化器的行为，需要在优化启动前设置。\n",
    "2. Attributes(属性)控制模型(包括模型、变量、约束、目标等对象)的特性。\n",
    "\n",
    "&emsp;&emsp;例如：\n",
    "\n",
    "&emsp;&emsp;模型 Model｜Sense\n",
    "\n",
    "&emsp;&emsp;变量 LB｜UB\n",
    "\n",
    "&emsp;&emsp;约束 RHS\n",
    "\n",
    "&emsp;&emsp;`Enviornment`是包含模型和全局参数的一个容器，也是许可控制的节点。"
   ]
  },
  {
   "cell_type": "markdown",
   "id": "6c49dc53",
   "metadata": {},
   "source": [
    "&emsp;&emsp;在建模过程中，经常要对带下标数据做挑选，不同下标的数据进行组合，这样面临着两个处理方法：\n",
    "\n",
    "1. 全部循环，多维下表意味着多重循环+if条件，这样的处理方法没有效率。\n",
    "2. 采用特殊的`Gurobi`扩展对象`TupleList`和`TupleDict`。"
   ]
  },
  {
   "cell_type": "markdown",
   "id": "8a4f3e95",
   "metadata": {},
   "source": [
    "### Tuplelist"
   ]
  },
  {
   "cell_type": "code",
   "execution_count": 1,
   "id": "c7bb0fe0",
   "metadata": {},
   "outputs": [],
   "source": [
    "from gurobipy import *"
   ]
  },
  {
   "cell_type": "code",
   "execution_count": 2,
   "id": "7eeda752",
   "metadata": {},
   "outputs": [
    {
     "data": {
      "text/plain": [
       "<gurobi.tuplelist (5 tuples, 2 values each):\n",
       " ( A , B )\n",
       " ( A , C )\n",
       " ( B , C )\n",
       " ( B , D )\n",
       " ( C , D )\n",
       ">"
      ]
     },
     "execution_count": 2,
     "metadata": {},
     "output_type": "execute_result"
    }
   ],
   "source": [
    "Cities = [('A', 'B'), ('A', 'C'), ('B', 'C'), ('B', 'D'), ('C', 'D')]\n",
    "Routes = tuplelist(Cities)\n",
    "Routes"
   ]
  },
  {
   "cell_type": "code",
   "execution_count": 3,
   "id": "8c2c5261",
   "metadata": {},
   "outputs": [
    {
     "name": "stdout",
     "output_type": "stream",
     "text": [
      "<gurobi.tuplelist (2 tuples, 2 values each):\n",
      " ( A , B )\n",
      " ( A , C )\n",
      ">\n"
     ]
    }
   ],
   "source": [
    "print(Routes.select('A', '*'))  # tuplelist增加了快速筛选select功能。"
   ]
  },
  {
   "cell_type": "markdown",
   "id": "95f792be",
   "metadata": {},
   "source": [
    "如果采用Python本身的语法的话，就是如下语句："
   ]
  },
  {
   "cell_type": "code",
   "execution_count": 4,
   "id": "63614b31",
   "metadata": {},
   "outputs": [
    {
     "name": "stdout",
     "output_type": "stream",
     "text": [
      "[('A', 'B'), ('A', 'C')]\n"
     ]
    }
   ],
   "source": [
    "Result = []\n",
    "for i, j in Cities:\n",
    "    if i == \"A\":\n",
    "        Result.append((i, j))\n",
    "print(Result)"
   ]
  },
  {
   "cell_type": "markdown",
   "id": "0ea01662",
   "metadata": {},
   "source": [
    "### Tupledict\n",
    "\n",
    "&emsp;&emsp;键值为`tuple`(元祖)，可以使用`select`，`sum`，`prod`函数。用于变量和约束(后面案例中体现)。"
   ]
  },
  {
   "cell_type": "markdown",
   "id": "5b87db09",
   "metadata": {},
   "source": [
    "### Multidict\n",
    "\n",
    "Multidict创建tuplelist和tupledict的便捷方法。"
   ]
  },
  {
   "cell_type": "code",
   "execution_count": 5,
   "id": "7c2ab5ba",
   "metadata": {},
   "outputs": [],
   "source": [
    "cities, supply, demand = multidict({'A':[100, 20],\n",
    "                                    'B':[150, 50],\n",
    "                                    'C':[20, 300],\n",
    "                                    'D':[10, 200]})"
   ]
  },
  {
   "cell_type": "code",
   "execution_count": 6,
   "id": "3baeb428",
   "metadata": {},
   "outputs": [
    {
     "data": {
      "text/plain": [
       "['A', 'B', 'C', 'D']"
      ]
     },
     "execution_count": 6,
     "metadata": {},
     "output_type": "execute_result"
    }
   ],
   "source": [
    "cities"
   ]
  },
  {
   "cell_type": "code",
   "execution_count": 7,
   "id": "36cbe2db",
   "metadata": {},
   "outputs": [
    {
     "data": {
      "text/plain": [
       "{'A': 100, 'B': 150, 'C': 20, 'D': 10}"
      ]
     },
     "execution_count": 7,
     "metadata": {},
     "output_type": "execute_result"
    }
   ],
   "source": [
    "supply"
   ]
  },
  {
   "cell_type": "code",
   "execution_count": 8,
   "id": "c2bef788",
   "metadata": {},
   "outputs": [
    {
     "data": {
      "text/plain": [
       "{'A': 20, 'B': 50, 'C': 300, 'D': 200}"
      ]
     },
     "execution_count": 8,
     "metadata": {},
     "output_type": "execute_result"
    }
   ],
   "source": [
    "demand"
   ]
  },
  {
   "cell_type": "markdown",
   "id": "844b2a9a",
   "metadata": {},
   "source": [
    "## Guribo建模过程"
   ]
  },
  {
   "cell_type": "markdown",
   "id": "57bcf1cb",
   "metadata": {},
   "source": [
    "&emsp;&emsp;建模过程中建议是创建变量的时候就创建所有的变量，设置目标函数，创建所有的约束，优化求解：\n",
    "\n",
    "1. addVar(), addVars\n",
    "2. setobjective()\n",
    "3. addConstr(), addConstrs()\n",
    "4. optimize()"
   ]
  },
  {
   "cell_type": "markdown",
   "id": "7031e924",
   "metadata": {},
   "source": [
    "## Gurobi建模举例1，优化目标函数"
   ]
  },
  {
   "cell_type": "markdown",
   "id": "c0af7a0b",
   "metadata": {},
   "source": [
    "$$\n",
    "\\begin{aligned}\n",
    "\\max & \\ \\ x+y+2 z \\\\\n",
    "\\text { s.t. } & \\ \\ x+2 y+3 z \\leq 4 \\\\\n",
    "& x+y \\geq 1 \\\\\n",
    "& x, y, z \\in\\{0,1\\}\n",
    "\\end{aligned}\n",
    "$$"
   ]
  },
  {
   "cell_type": "code",
   "execution_count": 31,
   "id": "201beca7",
   "metadata": {},
   "outputs": [
    {
     "name": "stdout",
     "output_type": "stream",
     "text": [
      "Gurobi Optimizer version 9.1.2 build v9.1.2rc0 (mac64)\n",
      "Thread count: 2 physical cores, 4 logical processors, using up to 4 threads\n",
      "Optimize a model with 2 rows, 3 columns and 5 nonzeros\n",
      "Model fingerprint: 0x98886187\n",
      "Variable types: 0 continuous, 3 integer (3 binary)\n",
      "Coefficient statistics:\n",
      "  Matrix range     [1e+00, 3e+00]\n",
      "  Objective range  [1e+00, 2e+00]\n",
      "  Bounds range     [1e+00, 1e+00]\n",
      "  RHS range        [1e+00, 4e+00]\n",
      "Found heuristic solution: objective 2.0000000\n",
      "Presolve removed 2 rows and 3 columns\n",
      "Presolve time: 0.00s\n",
      "Presolve: All rows and columns removed\n",
      "\n",
      "Explored 0 nodes (0 simplex iterations) in 0.04 seconds\n",
      "Thread count was 1 (of 4 available processors)\n",
      "\n",
      "Solution count 2: 3 2 \n",
      "\n",
      "Optimal solution found (tolerance 1.00e-04)\n",
      "Best objective 3.000000000000e+00, best bound 3.000000000000e+00, gap 0.0000%\n",
      "x 1.0\n",
      "y 0.0\n",
      "z 1.0\n",
      "obj: 3.0\n"
     ]
    }
   ],
   "source": [
    "from gurobipy import *\n",
    "try:\n",
    "    # 创建一个新的模型\n",
    "    m = Model(\"mip1\")\n",
    "    \n",
    "    # 创建变量\n",
    "    x = m.addVar(lb=0, ub=1, vtype=GRB.BINARY, name=\"x\")  # GRB.BINARY表示01变量, GRB.INTEGER表示整数变量。\n",
    "    y = m.addVar(lb=0, ub=1, vtype=GRB.BINARY, name=\"y\")\n",
    "    z = m.addVar(lb=0, ub=1, vtype=GRB.BINARY, name=\"z\")\n",
    "    \n",
    "    # 设置目标函数\n",
    "    m.setObjective(x + y + 2*z, GRB.MAXIMIZE)  # 方向表示最大化\n",
    "    \n",
    "    # 添加约束\n",
    "    m.addConstr(x + 2 * y + 3 * z <= 4, \"c0\")  # 给约束条件添加一个名字，c0，方便之后修改的时候快速定位到某一个约束。\n",
    "    m.addConstr(x + y >= 1, \"c1\")  # 添加另外一个约束\n",
    "    \n",
    "    m.optimize()\n",
    "    \n",
    "    # 获取所有的变量\n",
    "    for v in m.getVars():\n",
    "        print(\"{} {}\".format(v.varName, v.x))\n",
    "    \n",
    "    print(\"obj: {}\".format(m.objVal))\n",
    "except GurobiError as e:\n",
    "    print(\"Error code \" + str(e.errno) + \": \" + str(e))\n",
    "except AttributeError:\n",
    "    print(\"Encounter an attribute error\")\n",
    "    "
   ]
  },
  {
   "cell_type": "markdown",
   "id": "b427b4d1",
   "metadata": {},
   "source": [
    "&emsp;&emsp;对于上述模型，我们也可以采用谷歌开源的`Ortools`来求解一遍。\n",
    "\n",
    "$$\n",
    "\\begin{aligned}\n",
    "\\max & \\ \\ x+y+2 z \\\\\n",
    "\\text { s.t. } & \\ \\ x+2 y+3 z \\leq 4 \\\\\n",
    "& x+y \\geq 1 \\\\\n",
    "& x, y, z \\in\\{0,1\\}\n",
    "\\end{aligned}\n",
    "$$\n",
    "\n",
    "&emsp;&emsp;`Ortools`可以通过`pip install ortools`直接安装即可:"
   ]
  },
  {
   "cell_type": "code",
   "execution_count": 32,
   "id": "e3ba47f4",
   "metadata": {},
   "outputs": [
    {
     "name": "stdout",
     "output_type": "stream",
     "text": [
      "x is 1\n",
      "y is 0\n",
      "z is 1\n"
     ]
    }
   ],
   "source": [
    "from ortools.sat.python import cp_model\n",
    "model = cp_model.CpModel()\n",
    "\n",
    "# 定义变量\n",
    "x = model.NewIntVar(0, 1, 'x') # 通过设置变量范围来设置为0-1变量。\n",
    "y = model.NewIntVar(0, 1, 'y')\n",
    "z = model.NewIntVar(0, 1, 'z')\n",
    "\n",
    "# 添加约束\n",
    "model.Add(x + 2 * y + 3 * z <= 4)\n",
    "model.Add(x + y >= 1)\n",
    "\n",
    "# 添加目标函数\n",
    "model.Minimize(-x - y - 2*z)\n",
    "solver = cp_model.CpSolver()\n",
    "solver.Solve(model)\n",
    "print(\"x is\", solver.Value(x))\n",
    "print(\"y is\", solver.Value(y))\n",
    "print(\"z is\", solver.Value(z))"
   ]
  },
  {
   "cell_type": "markdown",
   "id": "0c11dac3",
   "metadata": {},
   "source": [
    "## Gurobi建模举例2，营养配方模型"
   ]
  },
  {
   "cell_type": "markdown",
   "id": "f9b7ec5d",
   "metadata": {},
   "source": [
    "&emsp;&emsp;人体需要四种营养：category: calories, protein, fat, sodium\n",
    "\n",
    "&emsp;&emsp;食物来源：food=hamburger, chicken, hot dog, fries, macaroni, pizza, salad, milk, icecream\n",
    "\n",
    "&emsp;&emsp;营养吸收每天有上限和下限，单位重量食物价格不同，单位重量食物所含营养成分不同。\n",
    "\n",
    "求达到足够营养花费的代价最小。"
   ]
  },
  {
   "cell_type": "code",
   "execution_count": 10,
   "id": "25bf5612",
   "metadata": {},
   "outputs": [],
   "source": [
    "from gurobipy import *"
   ]
  },
  {
   "cell_type": "markdown",
   "id": "a2a161b2",
   "metadata": {},
   "source": [
    "&emsp;&emsp;设置营养类型，营养的上线和营养的下限："
   ]
  },
  {
   "cell_type": "code",
   "execution_count": 11,
   "id": "39a7308c",
   "metadata": {},
   "outputs": [
    {
     "name": "stdout",
     "output_type": "stream",
     "text": [
      "categories ['calories', 'protein', 'fat', 'sodium']\n",
      "minNutrition {'calories': 1800, 'protein': 91, 'fat': 0, 'sodium': 0}\n"
     ]
    }
   ],
   "source": [
    "categories, minNutrition, maxNutrition = multidict({\n",
    "    'calories': [1800, 2200],\n",
    "    'protein': [91, GRB.INFINITY],\n",
    "    'fat': [0, 65],\n",
    "    'sodium': [0, 1779]})\n",
    "print(\"categories\", categories)\n",
    "print(\"minNutrition\", minNutrition)"
   ]
  },
  {
   "cell_type": "code",
   "execution_count": 12,
   "id": "b2abd8ed",
   "metadata": {},
   "outputs": [],
   "source": [
    "foods, cost = multidict({\n",
    "    'hamburger': 2.49,\n",
    "    'chicken': 2.89,\n",
    "    'hot dog': 1.50,\n",
    "    'fries': 1.89,\n",
    "    'macaroni': 2.09,\n",
    "    'pizza': 1.99,\n",
    "    'salad': 2.49,\n",
    "    'milk': 0.89,\n",
    "    'ice cream': 1.59})"
   ]
  },
  {
   "cell_type": "code",
   "execution_count": 13,
   "id": "07bfb148",
   "metadata": {},
   "outputs": [],
   "source": [
    "nutritionValues = {\n",
    "    ('hamburger', 'calories'): 410,\n",
    "    ('hamburger', 'protein'): 24,\n",
    "    ('hamburger', 'fat'): 26,\n",
    "    ('hamburger', 'sodium'): 730,\n",
    "    ('chicken', 'calories'): 420,\n",
    "    ('chicken', 'protein'): 32,\n",
    "    ('chicken', 'fat'): 10,\n",
    "    ('chicken', 'sodium'): 1190,\n",
    "    ('hot dog', 'calories'): 560,\n",
    "    ('hot dog', 'protein'): 20,\n",
    "    ('hot dog', 'fat'): 32,\n",
    "    ('hot dog', 'sodium'): 1800,\n",
    "    ('fries', 'calories'): 380,\n",
    "    ('fries', 'protein'): 4,\n",
    "    ('fries', 'fat'): 19,\n",
    "    ('fries', 'sodium'): 270,\n",
    "    ('macaroni', 'calories'): 320,\n",
    "    ('macaroni', 'protein'): 12,\n",
    "    ('macaroni', 'fat'): 10,\n",
    "    ('macaroni', 'sodium'): 930,\n",
    "    ('pizza', 'calories'): 320,\n",
    "    ('pizza', 'protein'): 15,\n",
    "    ('pizza', 'fat'): 12,\n",
    "    ('pizza', 'sodium'): 820,\n",
    "    ('salad', 'calories'): 320,\n",
    "    ('salad', 'protein'): 31,\n",
    "    ('salad', 'fat'): 12,\n",
    "    ('salad', 'sodium'): 1230,\n",
    "    ('milk', 'calories'): 100,\n",
    "    ('milk', 'protein'): 8,\n",
    "    ('milk', 'fat'): 2.5,\n",
    "    ('milk', 'sodium'): 125,\n",
    "    ('ice cream', 'calories'): 330,\n",
    "    ('ice cream', 'protein'): 8,\n",
    "    ('ice cream', 'fat'): 10,\n",
    "    ('ice cream', 'sodium'): 180}"
   ]
  },
  {
   "cell_type": "code",
   "execution_count": 14,
   "id": "9bbb5bf4",
   "metadata": {},
   "outputs": [
    {
     "name": "stdout",
     "output_type": "stream",
     "text": [
      "{'hamburger': <gurobi.Var *Awaiting Model Update*>, 'chicken': <gurobi.Var *Awaiting Model Update*>, 'hot dog': <gurobi.Var *Awaiting Model Update*>, 'fries': <gurobi.Var *Awaiting Model Update*>, 'macaroni': <gurobi.Var *Awaiting Model Update*>, 'pizza': <gurobi.Var *Awaiting Model Update*>, 'salad': <gurobi.Var *Awaiting Model Update*>, 'milk': <gurobi.Var *Awaiting Model Update*>, 'ice cream': <gurobi.Var *Awaiting Model Update*>}\n"
     ]
    }
   ],
   "source": [
    "## 定义模型\n",
    "m = Model(\"diet\")\n",
    "\n",
    "# 从食物中去创建决策变量\n",
    "buy = m.addVars(foods, name=\"buy\")  # 每个变量名字的开始字符串都是buy。\n",
    "print(buy)"
   ]
  },
  {
   "cell_type": "code",
   "execution_count": 15,
   "id": "4fd09796",
   "metadata": {},
   "outputs": [],
   "source": [
    "# You could use Python looping constructs and m.addVar() to create\n",
    "# these decision variables instead.  The following would be equivalent\n",
    "# 以下这种写法是等价的。\n",
    "# buy = {}\n",
    "# for f in foods:\n",
    "#   buy[f] = m.addVar(name=f)"
   ]
  },
  {
   "cell_type": "markdown",
   "id": "1099febc",
   "metadata": {},
   "source": [
    "&emsp;&emsp;我们要定义的目标函数就是最小化每个食物需要购买的量，与食物的价格的乘积："
   ]
  },
  {
   "cell_type": "code",
   "execution_count": 16,
   "id": "ec70bb41",
   "metadata": {},
   "outputs": [],
   "source": [
    "# Using looping constructs, the preceding statement would be:\n",
    "# m.setObjective(sum(buy[f]*cost[f] for f in foods), GRB.MINIMIZE)"
   ]
  },
  {
   "cell_type": "code",
   "execution_count": 17,
   "id": "64e23408",
   "metadata": {},
   "outputs": [],
   "source": [
    "# The objective is to minimize the costs\n",
    "m.setObjective(buy.prod(cost), GRB.MINIMIZE)"
   ]
  },
  {
   "cell_type": "markdown",
   "id": "bff4394f",
   "metadata": {},
   "source": [
    "&emsp;&emsp;约束条件就是每一个营养成分来自所有营养成分的组合，需要保持在每一天的营养的上界和下界之间。"
   ]
  },
  {
   "cell_type": "code",
   "execution_count": 18,
   "id": "5450f3c1",
   "metadata": {},
   "outputs": [],
   "source": [
    "# Using looping constructs, the preceding statement would be:\n",
    "# 循环遍历每种营养，所有食物的这种营养总和需要在这个上下界中。\n",
    "# for c in categories:\n",
    "#     m.addRange(sum(nutritionValues[f, c] * buy[f] for f in foods),\n",
    "#                minNutrition[c], maxNutrition[c], c)"
   ]
  },
  {
   "cell_type": "code",
   "execution_count": 19,
   "id": "d4ab4372",
   "metadata": {},
   "outputs": [
    {
     "data": {
      "text/plain": [
       "{'calories': <gurobi.Constr *Awaiting Model Update*>,\n",
       " 'protein': <gurobi.Constr *Awaiting Model Update*>,\n",
       " 'fat': <gurobi.Constr *Awaiting Model Update*>,\n",
       " 'sodium': <gurobi.Constr *Awaiting Model Update*>}"
      ]
     },
     "execution_count": 19,
     "metadata": {},
     "output_type": "execute_result"
    }
   ],
   "source": [
    "# Nutrition constraints\n",
    "m.addConstrs((quicksum(nutritionValues[f, c] * buy[f] for f in foods)\n",
    "              == [minNutrition[c], maxNutrition[c]]\n",
    "              for c in categories), name='Nutrition')"
   ]
  },
  {
   "cell_type": "code",
   "execution_count": 20,
   "id": "817b574c",
   "metadata": {},
   "outputs": [
    {
     "name": "stdout",
     "output_type": "stream",
     "text": [
      "Gurobi Optimizer version 9.1.2 build v9.1.2rc0 (mac64)\n",
      "Thread count: 2 physical cores, 4 logical processors, using up to 4 threads\n",
      "Optimize a model with 4 rows, 12 columns and 39 nonzeros\n",
      "Model fingerprint: 0x33ddb849\n",
      "Coefficient statistics:\n",
      "  Matrix range     [1e+00, 2e+03]\n",
      "  Objective range  [9e-01, 3e+00]\n",
      "  Bounds range     [6e+01, 2e+03]\n",
      "  RHS range        [6e+01, 2e+03]\n",
      "Presolve removed 0 rows and 2 columns\n",
      "Presolve time: 0.00s\n",
      "Presolved: 4 rows, 10 columns, 37 nonzeros\n",
      "\n",
      "Iteration    Objective       Primal Inf.    Dual Inf.      Time\n",
      "       0    0.0000000e+00   1.472500e+02   0.000000e+00      0s\n",
      "       4    1.1828861e+01   0.000000e+00   0.000000e+00      0s\n",
      "\n",
      "Solved in 4 iterations and 0.01 seconds\n",
      "Optimal objective  1.182886111e+01\n"
     ]
    }
   ],
   "source": [
    "m.optimize()"
   ]
  },
  {
   "cell_type": "code",
   "execution_count": 21,
   "id": "35654526",
   "metadata": {},
   "outputs": [],
   "source": [
    "def printSolution():\n",
    "    if m.status == GRB.OPTIMAL:\n",
    "        print('\\nCost: %g' % m.objVal)\n",
    "        print('\\nBuy:')\n",
    "        for f in foods:\n",
    "            if buy[f].x > 0.0001:\n",
    "                print('%s %g' % (f, buy[f].x))\n",
    "    else:\n",
    "        print('No solution')"
   ]
  },
  {
   "cell_type": "code",
   "execution_count": 22,
   "id": "45a0ce03",
   "metadata": {},
   "outputs": [
    {
     "name": "stdout",
     "output_type": "stream",
     "text": [
      "\n",
      "Cost: 11.8289\n",
      "\n",
      "Buy:\n",
      "hamburger 0.604514\n",
      "milk 6.97014\n",
      "ice cream 2.59132\n"
     ]
    }
   ],
   "source": [
    "printSolution()"
   ]
  },
  {
   "cell_type": "markdown",
   "id": "0dd5cbf6",
   "metadata": {},
   "source": [
    "数据量比较大的时候，可以直接从Excel，ODBC数据库等读入，然后用multidict, list.append, list[n]=xxx, dict[k1, ke,,]=value等方式赋值。"
   ]
  },
  {
   "cell_type": "code",
   "execution_count": null,
   "id": "59385c09",
   "metadata": {},
   "outputs": [],
   "source": []
  }
 ],
 "metadata": {
  "kernelspec": {
   "display_name": "ACG",
   "language": "python",
   "name": "acg"
  },
  "language_info": {
   "codemirror_mode": {
    "name": "ipython",
    "version": 3
   },
   "file_extension": ".py",
   "mimetype": "text/x-python",
   "name": "python",
   "nbconvert_exporter": "python",
   "pygments_lexer": "ipython3",
   "version": "3.6.13"
  },
  "toc": {
   "base_numbering": 1,
   "nav_menu": {},
   "number_sections": true,
   "sideBar": true,
   "skip_h1_title": false,
   "title_cell": "Table of Contents",
   "title_sidebar": "Contents",
   "toc_cell": false,
   "toc_position": {},
   "toc_section_display": true,
   "toc_window_display": true
  }
 },
 "nbformat": 4,
 "nbformat_minor": 5
}
