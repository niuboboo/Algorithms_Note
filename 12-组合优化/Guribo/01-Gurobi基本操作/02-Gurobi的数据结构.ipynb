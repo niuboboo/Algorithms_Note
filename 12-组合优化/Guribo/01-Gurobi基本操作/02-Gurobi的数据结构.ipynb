{
 "cells": [
  {
   "cell_type": "markdown",
   "id": "a9a9c021",
   "metadata": {},
   "source": [
    "Gurobi中经常需要对带有不同下标的数据进行组合。Gurobi自带的数据结构能够大大地提高效率:"
   ]
  },
  {
   "cell_type": "markdown",
   "id": "08556626",
   "metadata": {},
   "source": [
    "## Multidict"
   ]
  },
  {
   "cell_type": "markdown",
   "id": "144e3b3a",
   "metadata": {},
   "source": [
    "比如每个学生都有语文、数学、英语成绩。如何来存储这个成绩呢？"
   ]
  },
  {
   "cell_type": "code",
   "execution_count": 1,
   "id": "16cee23e",
   "metadata": {},
   "outputs": [],
   "source": [
    "import gurobipy as grb"
   ]
  },
  {
   "cell_type": "code",
   "execution_count": 2,
   "id": "83f5acf0",
   "metadata": {},
   "outputs": [],
   "source": [
    "student, chinese, math, english = grb.multidict({\n",
    "    'student1':[1, 2, 3],\n",
    "    'student2':[2, 3, 4],\n",
    "    'student3':[3, 4, 5],\n",
    "    'student4':[4, 5, 6]\n",
    "})"
   ]
  },
  {
   "cell_type": "code",
   "execution_count": 3,
   "id": "849c7ab3",
   "metadata": {},
   "outputs": [
    {
     "name": "stdout",
     "output_type": "stream",
     "text": [
      "['student1', 'student2', 'student3', 'student4']\n",
      "{'student1': 1, 'student2': 2, 'student3': 3, 'student4': 4}\n",
      "{'student1': 2, 'student2': 3, 'student3': 4, 'student4': 5}\n"
     ]
    }
   ],
   "source": [
    "print(student) # 打印出字典的键。\n",
    "print(chinese) # 语文成绩的字典。\n",
    "print(math) # 数学成绩的字典。"
   ]
  },
  {
   "cell_type": "markdown",
   "id": "1f45220a",
   "metadata": {},
   "source": [
    "## TupleList"
   ]
  },
  {
   "cell_type": "markdown",
   "id": "7f7b2377",
   "metadata": {},
   "source": [
    "tuplelist元祖列表，是tuple和list的组合。也就是list元素的tuple类型。\n",
    "\n",
    "tuplelist在内部存储上和普通的list是一样的，只是Gurobi在继承list类的基础上添加了select方法。因此，可以把tuplelist看作是list对象，可以使用迭代、添加或删除元素等方法。"
   ]
  },
  {
   "cell_type": "code",
   "execution_count": 4,
   "id": "d2e07695",
   "metadata": {},
   "outputs": [
    {
     "name": "stdout",
     "output_type": "stream",
     "text": [
      "<gurobi.tuplelist (2 tuples, 2 values each):\n",
      " ( 1 , 2 )\n",
      " ( 1 , 3 )\n",
      ">\n",
      "<gurobi.tuplelist (2 tuples, 2 values each):\n",
      " ( 1 , 3 )\n",
      " ( 2 , 3 )\n",
      ">\n"
     ]
    }
   ],
   "source": [
    "t1 = grb.tuplelist([(1, 2), (1, 3), (2, 3), (2, 5)])\n",
    "print(t1.select(1, '*'))\n",
    "print(t1.select('*', 3))"
   ]
  },
  {
   "cell_type": "code",
   "execution_count": 5,
   "id": "930078fd",
   "metadata": {},
   "outputs": [
    {
     "name": "stdout",
     "output_type": "stream",
     "text": [
      "<gurobi.tuplelist (3 tuples, 2 values each):\n",
      " ( 1 , 2 )\n",
      " ( 1 , 3 )\n",
      " ( 1 , 5 )\n",
      ">\n"
     ]
    }
   ],
   "source": [
    "t1.append((1, 5))\n",
    "print(t1.select(1, '*'))"
   ]
  },
  {
   "cell_type": "code",
   "execution_count": 6,
   "id": "ec7ccaa4",
   "metadata": {},
   "outputs": [
    {
     "name": "stdout",
     "output_type": "stream",
     "text": [
      "True\n"
     ]
    }
   ],
   "source": [
    "# 查看某个元素是否在被选择的元祖中。\n",
    "if((1,2) in t1.select(1, '*')):\n",
    "    print(True)\n",
    "else:\n",
    "    print(False)"
   ]
  },
  {
   "cell_type": "markdown",
   "id": "5fa5b0dc",
   "metadata": {},
   "source": [
    "## Tupledict"
   ]
  },
  {
   "cell_type": "markdown",
   "id": "458073aa",
   "metadata": {},
   "source": [
    "tupledict是dict的子类。能够帮助我们高效地操作gurobi中的变量子集。\n",
    "\n",
    "比如：定义了很多变量时，需要对其中一部分变量进行操作时，可以使用tupledict的内置方法来高效构建表达式，比如对部分变量的求和，prod对相同变量下标的元素相乘等。\n",
    "\n",
    "比如创建一个$3 \\times 3$的矩阵，里面的每个元素表示线性表达式的变量。\n",
    "\n",
    "$$\n",
    "\\left[\\begin{array}{lll}\n",
    "x_{11} & x_{12} & x_{13} \\\\\n",
    "x_{21} & x_{22} & x_{23} \\\\\n",
    "x_{31} & x_{32} & x_{33}\n",
    "\\end{array}\\right]\n",
    "$$"
   ]
  },
  {
   "cell_type": "code",
   "execution_count": 7,
   "id": "eaadba8d",
   "metadata": {},
   "outputs": [
    {
     "name": "stdout",
     "output_type": "stream",
     "text": [
      "Restricted license - for non-production use only - expires 2022-01-13\n",
      "<gurobi.LinExpr: x[1,1] + x[1,2] + x[1,3]>\n"
     ]
    }
   ],
   "source": [
    "model = grb.Model()\n",
    "\n",
    "# 定义变量的下标\n",
    "t1 = [(1, 1), (1, 2), (1, 3),\n",
    "      (2, 1), (2, 2), (2, 3),\n",
    "      (3, 1), (3, 2), (3, 3)]\n",
    "\n",
    "vars = model.addVars(t1, name='x')\n",
    "model.update() # 添加完了变量之后要update一下。\n",
    "# 基于元素下标的操作。\n",
    "print(sum(vars.select(1, '*')))"
   ]
  },
  {
   "cell_type": "markdown",
   "id": "0c58fa1c",
   "metadata": {},
   "source": [
    "上述的代码相当于是对第一行求和，即$x_{11} + x_{12} + x_{13}$, 另一种写法为:"
   ]
  },
  {
   "cell_type": "code",
   "execution_count": 8,
   "id": "f4929744",
   "metadata": {},
   "outputs": [
    {
     "name": "stdout",
     "output_type": "stream",
     "text": [
      "<gurobi.LinExpr: x[1,1] + x[1,2] + x[1,3]>\n"
     ]
    }
   ],
   "source": [
    "print(vars.sum(1, '*'))"
   ]
  },
  {
   "cell_type": "markdown",
   "id": "c8827d58",
   "metadata": {},
   "source": [
    "上述的例子中，变量的系数都是1，如果变量的系数不是1的话，就不能用sum方法。而需要用prod方法，用于变量系数相乘后的累加。"
   ]
  },
  {
   "cell_type": "code",
   "execution_count": 9,
   "id": "f0e3310f",
   "metadata": {},
   "outputs": [
    {
     "name": "stdout",
     "output_type": "stream",
     "text": [
      "<gurobi.LinExpr: x[1,1] + 0.3 x[1,2] + 0.4 x[1,3]>\n"
     ]
    }
   ],
   "source": [
    "c1 = [(1, 1), (1, 2), (1, 3)]\n",
    "coeff = grb.tupledict(c1)\n",
    "coeff[(1, 1)] = 1\n",
    "coeff[(1, 2)] = 0.3\n",
    "coeff[(1, 3)] = 0.4\n",
    "print(vars.prod(coeff, 1, '*'))"
   ]
  },
  {
   "cell_type": "code",
   "execution_count": 10,
   "id": "024bd2bf",
   "metadata": {},
   "outputs": [],
   "source": [
    "m = grb.Model()\n",
    "x = m.addVars(3, 4, vtype=grb.GRB.BINARY, name=\"x\")\n",
    "m.addConstrs((x.sum(i, '*') <= 1 for i in range(3)), name=\"con\")\n",
    "m.update()\n",
    "\n",
    "m.write(\"tupledict_vars.lp\")\n",
    "\n",
    "# 创建的约束如下:\n",
    "\n",
    "# con[0] : x[0, 0] + x[0, 1] + x[0, 2] + x[0, 3]\n",
    "# con[1] : x[1, 0] + x[1, 1] + x[1, 2] + x[1, 3]\n",
    "# con[2] : x[2, 0] + x[2, 1] + x[2, 2] + x[2, 3]"
   ]
  },
  {
   "cell_type": "markdown",
   "id": "9d128c5d",
   "metadata": {},
   "source": [
    "## 网络流例子"
   ]
  },
  {
   "cell_type": "markdown",
   "id": "9a474fb4",
   "metadata": {},
   "source": [
    "有两个城市，生产了两种商品(铅笔和钢笔)，必须装运到3个城市(波士顿、纽约和西雅图)的仓库，以满足给定的需求。"
   ]
  },
  {
   "cell_type": "code",
   "execution_count": 11,
   "id": "0933557a",
   "metadata": {},
   "outputs": [],
   "source": [
    "import gurobi as grb"
   ]
  },
  {
   "cell_type": "code",
   "execution_count": 12,
   "id": "d8b9c6a6",
   "metadata": {},
   "outputs": [],
   "source": [
    "commodities = [\"Pencils\", \"Pens\"] # 两种商品。\n",
    "nodes = ['Detroit', 'Denver', 'Boston', 'New York', 'Seattle'] # 2个产地 + 3个目的地。"
   ]
  },
  {
   "cell_type": "code",
   "execution_count": 13,
   "id": "3a83b865",
   "metadata": {},
   "outputs": [],
   "source": [
    "# 网络中每条弧的容量。\n",
    "\n",
    "arcs, capacity = grb.multidict({\n",
    "    ('Detroit', 'Boston'):   100,\n",
    "    ('Detroit', 'New York'):  80,\n",
    "    ('Detroit', 'Seattle'):  120,\n",
    "    ('Denver',  'Boston'):   120,\n",
    "    ('Denver',  'New York'): 120,\n",
    "    ('Denver',  'Seattle'):  120})"
   ]
  },
  {
   "cell_type": "code",
   "execution_count": 14,
   "id": "914c82c9",
   "metadata": {},
   "outputs": [],
   "source": [
    "# 商品在不同弧上的运输成本，是tupledict形式，可以用select，sum等加快变量选取。\n",
    "cost = {\n",
    "    ('Pencils', 'Detroit', 'Boston'):   10,\n",
    "    ('Pencils', 'Detroit', 'New York'): 20,\n",
    "    ('Pencils', 'Detroit', 'Seattle'):  60,\n",
    "    ('Pencils', 'Denver',  'Boston'):   40,\n",
    "    ('Pencils', 'Denver',  'New York'): 40,\n",
    "    ('Pencils', 'Denver',  'Seattle'):  30,\n",
    "    ('Pens',    'Detroit', 'Boston'):   20,\n",
    "    ('Pens',    'Detroit', 'New York'): 20,\n",
    "    ('Pens',    'Detroit', 'Seattle'):  80,\n",
    "    ('Pens',    'Denver',  'Boston'):   60,\n",
    "    ('Pens',    'Denver',  'New York'): 70,\n",
    "    ('Pens',    'Denver',  'Seattle'):  30}"
   ]
  },
  {
   "cell_type": "code",
   "execution_count": 15,
   "id": "fd07ade6",
   "metadata": {},
   "outputs": [],
   "source": [
    "# 商品在不同节点的流入量，流出量，即需求量。   正数表示产地，负数表示需求量。\n",
    "inflow = {\n",
    "    ('Pencils', 'Detroit') : 50,\n",
    "    ('Pencils', 'Denver') : 60,\n",
    "    ('Pencils', 'Boston') : -50,\n",
    "    ('Pencils', 'New York') : -50,\n",
    "    ('Pencils', 'Seattle') : -10,\n",
    "    \n",
    "    ('Pens', 'Detroit') : 60,\n",
    "    ('Pens', 'Denver') : 40,\n",
    "    ('Pens', 'Boston') : -40,\n",
    "    ('Pens', 'New York') : -30,\n",
    "    ('Pens', 'Seattle') : -30,\n",
    "}"
   ]
  },
  {
   "cell_type": "code",
   "execution_count": 16,
   "id": "99702782",
   "metadata": {},
   "outputs": [],
   "source": [
    "m = grb.Model('netflow')"
   ]
  },
  {
   "cell_type": "markdown",
   "id": "8e7cc5ab",
   "metadata": {},
   "source": [
    "之后的话，我们就可以创建变量flow了。flow是tupledict类型的变量。 \n",
    "\n",
    "键是('Pencils', 'Detroit', 'Boston')格式，表示的是某种商品，从某个产地到目的地的需求量。"
   ]
  },
  {
   "cell_type": "code",
   "execution_count": 17,
   "id": "50e0d35d",
   "metadata": {},
   "outputs": [],
   "source": [
    "flow = m.addVars(commodities, arcs, obj=cost, name=\"flow\")\n",
    "# obj (可自行选择设置): 决策变量在目标函数中的因子系数\n",
    "# vtype (可自行选择设置): 决策变量类型，包括GRB.CONTINUOUS， GRB.BINARY， GRB.INTEGER，GRB.SEMICONT，GRB.SEMIINT"
   ]
  },
  {
   "cell_type": "markdown",
   "id": "c40cdcb4",
   "metadata": {},
   "source": [
    "**容量限制**:\n",
    "\n",
    "`i->j`, 产地到目的地，的所有不同商品的总量求和，应该是需要小于其对应的容量的限制。"
   ]
  },
  {
   "cell_type": "code",
   "execution_count": 18,
   "id": "95b59c57",
   "metadata": {},
   "outputs": [
    {
     "data": {
      "text/plain": [
       "{('Detroit', 'Boston'): <gurobi.Constr *Awaiting Model Update*>,\n",
       " ('Detroit', 'New York'): <gurobi.Constr *Awaiting Model Update*>,\n",
       " ('Detroit', 'Seattle'): <gurobi.Constr *Awaiting Model Update*>,\n",
       " ('Denver', 'Boston'): <gurobi.Constr *Awaiting Model Update*>,\n",
       " ('Denver', 'New York'): <gurobi.Constr *Awaiting Model Update*>,\n",
       " ('Denver', 'Seattle'): <gurobi.Constr *Awaiting Model Update*>}"
      ]
     },
     "execution_count": 18,
     "metadata": {},
     "output_type": "execute_result"
    }
   ],
   "source": [
    "m.addConstrs((flow.sum('*', i, j) <= capacity[i, j] for i, j in arcs), 'cap')\n",
    "\n",
    "# Equivalent version using Python looping\n",
    "# for i, j in arcs:\n",
    "#     m.addConstr(sum(flow[h, i, j] for h in commodities) <= capacity[i, j],\n",
    "#               \"cap[%s, %s]\" % (i, j))"
   ]
  },
  {
   "cell_type": "markdown",
   "id": "69d829ba",
   "metadata": {},
   "source": [
    "**产地和目的地节点的流入、流出限制**\n",
    "\n",
    "流入-流出=需求。\n",
    "\n",
    "因为需求里面正数表示产地，负数表示需求量，所以：\n",
    "\n",
    "流入 + 需求 = 流出"
   ]
  },
  {
   "cell_type": "code",
   "execution_count": 19,
   "id": "69d08f49",
   "metadata": {},
   "outputs": [
    {
     "data": {
      "text/plain": [
       "{('Pencils', 'Detroit'): <gurobi.Constr *Awaiting Model Update*>,\n",
       " ('Pencils', 'Denver'): <gurobi.Constr *Awaiting Model Update*>,\n",
       " ('Pencils', 'Boston'): <gurobi.Constr *Awaiting Model Update*>,\n",
       " ('Pencils', 'New York'): <gurobi.Constr *Awaiting Model Update*>,\n",
       " ('Pencils', 'Seattle'): <gurobi.Constr *Awaiting Model Update*>,\n",
       " ('Pens', 'Detroit'): <gurobi.Constr *Awaiting Model Update*>,\n",
       " ('Pens', 'Denver'): <gurobi.Constr *Awaiting Model Update*>,\n",
       " ('Pens', 'Boston'): <gurobi.Constr *Awaiting Model Update*>,\n",
       " ('Pens', 'New York'): <gurobi.Constr *Awaiting Model Update*>,\n",
       " ('Pens', 'Seattle'): <gurobi.Constr *Awaiting Model Update*>}"
      ]
     },
     "execution_count": 19,
     "metadata": {},
     "output_type": "execute_result"
    }
   ],
   "source": [
    "m.addConstrs((flow.sum(h, '*', j) + inflow[h, j] == flow.sum(h, j, '*')\n",
    "        for h in commodities for j in nodes), \"node\")\n",
    "\n",
    "# Alternate version:\n",
    "# m.addConstrs(\n",
    "#   (gp.quicksum(flow[h, i, j] for i, j in arcs.select('*', j)) + inflow[h, j] ==\n",
    "#     gp.quicksum(flow[h, j, k] for j, k in arcs.select(j, '*'))\n",
    "#     for h in commodities for j in nodes), \"node\")"
   ]
  },
  {
   "cell_type": "code",
   "execution_count": 20,
   "id": "b5b6e5a5",
   "metadata": {},
   "outputs": [],
   "source": [
    "m.update()"
   ]
  },
  {
   "cell_type": "code",
   "execution_count": 21,
   "id": "db2c43a3",
   "metadata": {},
   "outputs": [
    {
     "name": "stdout",
     "output_type": "stream",
     "text": [
      "Gurobi Optimizer version 9.1.2 build v9.1.2rc0 (mac64)\n",
      "Thread count: 2 physical cores, 4 logical processors, using up to 4 threads\n",
      "Optimize a model with 16 rows, 12 columns and 36 nonzeros\n",
      "Model fingerprint: 0xc43e5943\n",
      "Coefficient statistics:\n",
      "  Matrix range     [1e+00, 1e+00]\n",
      "  Objective range  [1e+01, 8e+01]\n",
      "  Bounds range     [0e+00, 0e+00]\n",
      "  RHS range        [1e+01, 1e+02]\n",
      "Presolve removed 16 rows and 12 columns\n",
      "Presolve time: 0.02s\n",
      "Presolve: All rows and columns removed\n",
      "Iteration    Objective       Primal Inf.    Dual Inf.      Time\n",
      "       0    5.5000000e+03   0.000000e+00   2.000000e+01      0s\n",
      "Extra simplex iterations after uncrush: 1\n",
      "       1    5.5000000e+03   0.000000e+00   0.000000e+00      0s\n",
      "\n",
      "Solved in 1 iterations and 0.03 seconds\n",
      "Optimal objective  5.500000000e+03\n"
     ]
    }
   ],
   "source": [
    "m.optimize()\n",
    "# m.computeIIS()"
   ]
  },
  {
   "cell_type": "code",
   "execution_count": 22,
   "id": "69ab2ddf",
   "metadata": {},
   "outputs": [
    {
     "name": "stdout",
     "output_type": "stream",
     "text": [
      "{('Pencils', 'Detroit', 'Boston'): 50.0, ('Pencils', 'Detroit', 'New York'): 0.0, ('Pencils', 'Detroit', 'Seattle'): 0.0, ('Pencils', 'Denver', 'Boston'): 0.0, ('Pencils', 'Denver', 'New York'): 50.0, ('Pencils', 'Denver', 'Seattle'): 10.0, ('Pens', 'Detroit', 'Boston'): 30.0, ('Pens', 'Detroit', 'New York'): 30.0, ('Pens', 'Detroit', 'Seattle'): 0.0, ('Pens', 'Denver', 'Boston'): 10.0, ('Pens', 'Denver', 'New York'): 0.0, ('Pens', 'Denver', 'Seattle'): 30.0}\n",
      "\n",
      "Optimal flows for Pencils:\n",
      "Detroit -> Boston: 50\n",
      "Denver -> New York: 50\n",
      "Denver -> Seattle: 10\n",
      "\n",
      "Optimal flows for Pens:\n",
      "Detroit -> Boston: 30\n",
      "Detroit -> New York: 30\n",
      "Denver -> Boston: 10\n",
      "Denver -> Seattle: 30\n"
     ]
    }
   ],
   "source": [
    "# Print solution\n",
    "if m.status == grb.GRB.OPTIMAL:\n",
    "    solution = m.getAttr('x', flow)\n",
    "    print(solution)\n",
    "    for h in commodities:\n",
    "        print('\\nOptimal flows for %s:' % h)\n",
    "        for i, j in arcs:\n",
    "            if solution[h, i, j] > 0:\n",
    "                print('%s -> %s: %g' % (i, j, solution[h, i, j]))"
   ]
  },
  {
   "cell_type": "code",
   "execution_count": null,
   "id": "7aec87ce",
   "metadata": {},
   "outputs": [],
   "source": []
  }
 ],
 "metadata": {
  "kernelspec": {
   "display_name": "ACG",
   "language": "python",
   "name": "acg"
  },
  "language_info": {
   "codemirror_mode": {
    "name": "ipython",
    "version": 3
   },
   "file_extension": ".py",
   "mimetype": "text/x-python",
   "name": "python",
   "nbconvert_exporter": "python",
   "pygments_lexer": "ipython3",
   "version": "3.6.13"
  },
  "toc": {
   "base_numbering": 1,
   "nav_menu": {},
   "number_sections": true,
   "sideBar": true,
   "skip_h1_title": false,
   "title_cell": "Table of Contents",
   "title_sidebar": "Contents",
   "toc_cell": false,
   "toc_position": {},
   "toc_section_display": true,
   "toc_window_display": true
  }
 },
 "nbformat": 4,
 "nbformat_minor": 5
}
