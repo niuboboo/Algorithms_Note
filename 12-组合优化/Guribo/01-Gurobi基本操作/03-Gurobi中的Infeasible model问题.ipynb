{
 "cells": [
  {
   "cell_type": "markdown",
   "id": "4caeac6b",
   "metadata": {},
   "source": [
    "导致gurobi报出infeasible model错误的原因有两种:\n",
    "\n",
    "1. 模型约束条件里面有互相矛盾的地方，这个模型本身并没有可行解。\n",
    "2. 模型本身没有问题，把数学模型输入到gurobi的过程中，编程错误或者参数输入不正确导致模型不可行。"
   ]
  },
  {
   "cell_type": "code",
   "execution_count": 3,
   "id": "3e21fc07",
   "metadata": {},
   "outputs": [
    {
     "name": "stdout",
     "output_type": "stream",
     "text": [
      "Gurobi Optimizer version 9.1.2 build v9.1.2rc0 (mac64)\n",
      "Thread count: 2 physical cores, 4 logical processors, using up to 4 threads\n",
      "Optimize a model with 3 rows, 2 columns and 6 nonzeros\n",
      "Model fingerprint: 0x737daf1e\n",
      "Coefficient statistics:\n",
      "  Matrix range     [1e+00, 1e+00]\n",
      "  Objective range  [1e+00, 2e+00]\n",
      "  Bounds range     [1e+00, 1e+00]\n",
      "  RHS range        [1e-01, 1e+00]\n",
      "Presolve removed 1 rows and 1 columns\n",
      "Presolve time: 0.01s\n",
      "\n",
      "Solved in 0 iterations and 0.01 seconds\n",
      "Infeasible model\n",
      "Iteration    Objective       Primal Inf.    Dual Inf.      Time\n",
      "       0    0.0000000e+00   1.300000e+00   0.000000e+00      0s\n",
      "\n",
      "IIS computed: 2 constraints and 0 bounds\n",
      "IIS runtime: 0.00 seconds\n"
     ]
    }
   ],
   "source": [
    "import gurobi as gp\n",
    "m = gp.Model(\"test\")\n",
    "x = m.addVars(2, lb = 0.0, ub = 1.0, name = 'x')\n",
    "m.addConstr(x[0] + x[1] >= 1.2, 'c1')\n",
    "m.addConstr(x[0] + x[1] <= 1.1, 'c2')\n",
    "m.addConstr(x[0] + x[1] >= 0.1, 'c3')\n",
    "\n",
    "m.setObjective(x[0] + 2 * x[1])\n",
    "m.optimize()\n",
    "\n",
    "m.computeIIS()\n",
    "m.write('model1.ilp')"
   ]
  },
  {
   "cell_type": "markdown",
   "id": "dee51a93",
   "metadata": {},
   "source": [
    "## 处理冲突约束的思路\n",
    "\n",
    "1. 从上面的代码容易看到第一条约束x0+x1>=1.2和第二条约束x0+x1<=1.1是互相矛盾的，因此该模型不存在可行解。\n",
    "\n",
    "2. 所以当我们求解这个模型的时候，gurobi会报出 infeasible model 的错误信息，此时我们可以调用computeIIS()即可得到哪些约束是互相矛盾的，即去掉这些矛盾约束剩下的约束构成的问题是可行的。\n",
    "\n",
    "3. 为了方便观察computellS()的输出结果，可以用m.write('model1.ilp')输出一个扩展名为ilp的文件，里边会包含所有矛盾约束。\n",
    "\n",
    "```bash\n",
    "Minimize\n",
    " \n",
    "Subject To\n",
    " c1: x[0] + x[1] >= 1.2\n",
    " c2: x[0] + x[1] <= 1.1\n",
    "Bounds\n",
    " x[0] free\n",
    " x[1] free\n",
    "End\n",
    "```\n",
    "\n",
    "可以看到其输出了前两个造成矛盾的约束，而第三个约束没有矛盾，所以没有输出在`.ilp`文件内。\n",
    "\n",
    "但是大规模问题用不了`computeIIS()`，会非常慢。"
   ]
  },
  {
   "cell_type": "code",
   "execution_count": null,
   "id": "f85c0ea6",
   "metadata": {},
   "outputs": [],
   "source": []
  }
 ],
 "metadata": {
  "kernelspec": {
   "display_name": "ACG",
   "language": "python",
   "name": "acg"
  },
  "language_info": {
   "codemirror_mode": {
    "name": "ipython",
    "version": 3
   },
   "file_extension": ".py",
   "mimetype": "text/x-python",
   "name": "python",
   "nbconvert_exporter": "python",
   "pygments_lexer": "ipython3",
   "version": "3.6.13"
  },
  "toc": {
   "base_numbering": 1,
   "nav_menu": {},
   "number_sections": true,
   "sideBar": true,
   "skip_h1_title": false,
   "title_cell": "Table of Contents",
   "title_sidebar": "Contents",
   "toc_cell": false,
   "toc_position": {},
   "toc_section_display": true,
   "toc_window_display": false
  }
 },
 "nbformat": 4,
 "nbformat_minor": 5
}
