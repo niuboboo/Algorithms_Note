{
 "cells": [
  {
   "cell_type": "markdown",
   "id": "c10b71a5",
   "metadata": {},
   "source": [
    "## 重塑数组"
   ]
  },
  {
   "cell_type": "code",
   "execution_count": 1,
   "id": "20e190bb",
   "metadata": {},
   "outputs": [
    {
     "name": "stdout",
     "output_type": "stream",
     "text": [
      "[[1 2 3]\n",
      " [4 5 6]]\n",
      "[1 2 3 4 5 6]\n",
      "[[1 2]\n",
      " [3 4]\n",
      " [5 6]]\n"
     ]
    }
   ],
   "source": [
    "import numpy as np\n",
    "a = np.array([[1, 2, 3],\n",
    "              [4, 5, 6]])\n",
    "print(a)\n",
    "print(a.ravel())  # 将二维数组转为一维数组。\n",
    "print(a.reshape(3, 2))"
   ]
  },
  {
   "cell_type": "markdown",
   "id": "e786c66c",
   "metadata": {},
   "source": [
    "## 数组合并"
   ]
  },
  {
   "cell_type": "code",
   "execution_count": 2,
   "id": "c9e1f5b3",
   "metadata": {},
   "outputs": [
    {
     "name": "stdout",
     "output_type": "stream",
     "text": [
      "[[ 1  2  3  7  8  9]\n",
      " [ 4  5  6 10 11 12]]\n",
      "[[ 1  2  3]\n",
      " [ 4  5  6]\n",
      " [ 7  8  9]\n",
      " [10 11 12]]\n"
     ]
    }
   ],
   "source": [
    "a = np.array([[1, 2, 3],\n",
    "              [4, 5, 6]])\n",
    "b = np.array([[7, 8, 9],\n",
    "              [10, 11, 12]])\n",
    "print(np.hstack([a, b]))\n",
    "print(np.vstack([a, b]))"
   ]
  },
  {
   "cell_type": "markdown",
   "id": "cca220e3",
   "metadata": {},
   "source": [
    "## 矩阵运算"
   ]
  },
  {
   "cell_type": "code",
   "execution_count": 3,
   "id": "70b4ef60",
   "metadata": {},
   "outputs": [
    {
     "name": "stdout",
     "output_type": "stream",
     "text": [
      "[[10 10 10]\n",
      " [ 4  4  4]]\n",
      "[[0.66666667 1.         1.5       ]\n",
      " [0.33333333 1.         3.        ]]\n",
      "[[4 0 2]\n",
      " [1 0 0]]\n",
      "[[ 64 125 216]\n",
      " [  1   8  27]]\n"
     ]
    }
   ],
   "source": [
    "a1 = np.array([[4, 5, 6], [1, 2, 3]])\n",
    "a2 = np.array([[6, 5, 4], [3, 2, 1]])\n",
    "print(a1 + a2)\n",
    "print(a1 / a2)\n",
    "print(a1 % a2)\n",
    "print(a1 ** 3)"
   ]
  },
  {
   "cell_type": "markdown",
   "id": "44b87220",
   "metadata": {},
   "source": [
    "## 矩阵相乘"
   ]
  },
  {
   "cell_type": "code",
   "execution_count": 4,
   "id": "2604c10d",
   "metadata": {},
   "outputs": [
    {
     "name": "stdout",
     "output_type": "stream",
     "text": [
      "[[6 3]\n",
      " [5 2]\n",
      " [4 1]]\n"
     ]
    }
   ],
   "source": [
    "a3 = a2.T\n",
    "print(a3)"
   ]
  },
  {
   "cell_type": "code",
   "execution_count": 5,
   "id": "fb51bec9",
   "metadata": {},
   "outputs": [
    {
     "name": "stdout",
     "output_type": "stream",
     "text": [
      "[[73 28]\n",
      " [28 10]]\n"
     ]
    }
   ],
   "source": [
    "print(np.dot(a1, a3)) # 矩阵相乘要用np.dot函数。"
   ]
  },
  {
   "cell_type": "markdown",
   "id": "ffa17730",
   "metadata": {},
   "source": [
    "## 矩阵求逆"
   ]
  },
  {
   "cell_type": "code",
   "execution_count": 6,
   "id": "90289022",
   "metadata": {},
   "outputs": [
    {
     "name": "stdout",
     "output_type": "stream",
     "text": [
      "[[ 2.25179981e+15 -1.50119988e+15  7.50599938e+14]\n",
      " [-4.50359963e+15  3.00239975e+15 -1.50119988e+15]\n",
      " [ 2.25179981e+15 -1.50119988e+15  7.50599938e+14]]\n"
     ]
    }
   ],
   "source": [
    "a = np.array([[1, 2, 3], [4, 5, 6], [5, 4, 3]])\n",
    "print(np.linalg.inv(a))"
   ]
  },
  {
   "cell_type": "markdown",
   "id": "21f0c70e",
   "metadata": {},
   "source": [
    "## 特征值与特征向量"
   ]
  },
  {
   "cell_type": "code",
   "execution_count": 9,
   "id": "5c566234",
   "metadata": {},
   "outputs": [
    {
     "name": "stdout",
     "output_type": "stream",
     "text": [
      "[ 1.61168440e+01 -1.11684397e+00 -1.30367773e-15]\n",
      "[[-0.23197069 -0.78583024  0.40824829]\n",
      " [-0.52532209 -0.08675134 -0.81649658]\n",
      " [-0.8186735   0.61232756  0.40824829]]\n"
     ]
    }
   ],
   "source": [
    "a = np.array([[1, 2, 3], [4, 5, 6], [7, 8, 9]])\n",
    "eigenValues, eigenVector = np.linalg.eig(a)\n",
    "print(eigenValues)\n",
    "print(eigenVector)"
   ]
  },
  {
   "cell_type": "markdown",
   "id": "d8758e1a",
   "metadata": {},
   "source": [
    "## SVD奇异值分解"
   ]
  },
  {
   "cell_type": "code",
   "execution_count": 10,
   "id": "ff9d5269",
   "metadata": {},
   "outputs": [
    {
     "name": "stdout",
     "output_type": "stream",
     "text": [
      "[[-0.21483724  0.88723069  0.40824829]\n",
      " [-0.52058739  0.24964395 -0.81649658]\n",
      " [-0.82633754 -0.38794278  0.40824829]]\n",
      "[1.68481034e+01 1.06836951e+00 4.41842475e-16]\n",
      "[[-0.47967118 -0.57236779 -0.66506441]\n",
      " [-0.77669099 -0.07568647  0.62531805]\n",
      " [-0.40824829  0.81649658 -0.40824829]]\n"
     ]
    }
   ],
   "source": [
    "U, sigma, V = np.linalg.svd(a, full_matrices=False)\n",
    "print(U)\n",
    "print(sigma)\n",
    "print(V)"
   ]
  },
  {
   "cell_type": "markdown",
   "id": "7843c84c",
   "metadata": {},
   "source": [
    "## 矩阵的行列式"
   ]
  },
  {
   "cell_type": "code",
   "execution_count": 12,
   "id": "07ac107c",
   "metadata": {},
   "outputs": [
    {
     "name": "stdout",
     "output_type": "stream",
     "text": [
      "0.0\n"
     ]
    }
   ],
   "source": [
    "value = np.linalg.det(a)\n",
    "print(value)"
   ]
  },
  {
   "cell_type": "markdown",
   "id": "ee815b1c",
   "metadata": {},
   "source": [
    "## QR分解"
   ]
  },
  {
   "cell_type": "code",
   "execution_count": 13,
   "id": "0fc8b734",
   "metadata": {},
   "outputs": [
    {
     "name": "stdout",
     "output_type": "stream",
     "text": [
      "[[-0.12309149  0.90453403  0.40824829]\n",
      " [-0.49236596  0.30151134 -0.81649658]\n",
      " [-0.86164044 -0.30151134  0.40824829]]\n",
      "[[-8.12403840e+00 -9.60113630e+00 -1.10782342e+01]\n",
      " [ 0.00000000e+00  9.04534034e-01  1.80906807e+00]\n",
      " [ 0.00000000e+00  0.00000000e+00 -8.88178420e-16]]\n"
     ]
    }
   ],
   "source": [
    "Q, R = np.linalg.qr(a)\n",
    "print(Q)\n",
    "print(R)"
   ]
  },
  {
   "cell_type": "markdown",
   "id": "0eb50e3f",
   "metadata": {},
   "source": [
    "## 求解线性方程组"
   ]
  },
  {
   "cell_type": "markdown",
   "id": "4690f375",
   "metadata": {},
   "source": [
    "有如下方程组：\n",
    "\n",
    "$$\n",
    "x - 2y + z = 0 \\\\\n",
    "2y - 8z -8 = 0 \\\\\n",
    "-4x + 5y +9z + 9 = 0\n",
    "$$\n",
    "\n",
    "在求解的时候，我们需要将其转化为$Ax + b = 0$的形式。"
   ]
  },
  {
   "cell_type": "code",
   "execution_count": 14,
   "id": "4487e2ac",
   "metadata": {},
   "outputs": [
    {
     "name": "stdout",
     "output_type": "stream",
     "text": [
      "x = -29.0\n",
      "y = -16.0\n",
      "z = -3.0\n"
     ]
    }
   ],
   "source": [
    "import numpy as np\n",
    "A = np.array([\n",
    "    [1, -2, 1],\n",
    "    [0, 2, -8],\n",
    "    [-4, 5, 9]\n",
    "])\n",
    "B = np.array([0, -8, 9])\n",
    "result = np.linalg.solve(A, B)\n",
    "print(\"x = {}\".format(result[0]))\n",
    "print(\"y = {}\".format(result[1]))\n",
    "print(\"z = {}\".format(result[2]))"
   ]
  },
  {
   "cell_type": "code",
   "execution_count": null,
   "id": "b327faa2",
   "metadata": {},
   "outputs": [],
   "source": []
  }
 ],
 "metadata": {
  "kernelspec": {
   "display_name": "ACG",
   "language": "python",
   "name": "acg"
  },
  "language_info": {
   "codemirror_mode": {
    "name": "ipython",
    "version": 3
   },
   "file_extension": ".py",
   "mimetype": "text/x-python",
   "name": "python",
   "nbconvert_exporter": "python",
   "pygments_lexer": "ipython3",
   "version": "3.6.13"
  },
  "toc": {
   "base_numbering": 1,
   "nav_menu": {},
   "number_sections": true,
   "sideBar": true,
   "skip_h1_title": false,
   "title_cell": "Table of Contents",
   "title_sidebar": "Contents",
   "toc_cell": false,
   "toc_position": {},
   "toc_section_display": true,
   "toc_window_display": true
  }
 },
 "nbformat": 4,
 "nbformat_minor": 5
}
